{
 "cells": [
  {
   "cell_type": "markdown",
   "metadata": {},
   "source": [
    "## We need the optimal strategy to load/save models"
   ]
  },
  {
   "cell_type": "code",
   "execution_count": 1,
   "metadata": {},
   "outputs": [],
   "source": [
    "%load_ext autoreload\n",
    "%autoreload 2\n",
    "\n",
    "import os\n",
    "import sys\n",
    "sys.path.append(os.path.expandvars(\"/home/$USER/repos/fande/\") )"
   ]
  },
  {
   "cell_type": "code",
   "execution_count": 3,
   "metadata": {},
   "outputs": [
    {
     "name": "stdout",
     "output_type": "stream",
     "text": [
      "objects of fande.predict module imported...\n",
      "objects of fande.data module imported...\n"
     ]
    },
    {
     "name": "stderr",
     "output_type": "stream",
     "text": [
      "/home/dlbox2/repos/fande/fande/predict/predictors_ase.py:571: UserWarning:\n",
      "\n",
      "Calculating invariants...\n",
      "\n"
     ]
    },
    {
     "name": "stdout",
     "output_type": "stream",
     "text": [
      "Total number of frames is 1\n",
      "Total number of batches is 1\n",
      "Total length of traj is 1\n",
      "Total number of batches 1\n",
      "Calculating invariants on trajectory with librascal...\n"
     ]
    },
    {
     "name": "stderr",
     "output_type": "stream",
     "text": [
      "100%|██████████| 1/1 [00:00<00:00,  1.48it/s]\n",
      "/home/dlbox2/repos/fande/fande/predict/predictors_ase.py:595: UserWarning:\n",
      "\n",
      "Predicting...\n",
      "\n"
     ]
    },
    {
     "name": "stdout",
     "output_type": "stream",
     "text": [
      "0.0 [[-0.08429337 -0.02220154  0.04220963]\n",
      " [ 0.21712875  0.0256424   0.0921402 ]\n",
      " [-0.06847763  0.06993103 -0.05839157]\n",
      " ...\n",
      " [-0.0537529  -0.05883408 -0.06188393]\n",
      " [-0.10726929  0.14159775  0.09696579]\n",
      " [ 0.09921551 -0.02743912 -0.09516144]]\n"
     ]
    }
   ],
   "source": [
    "import torch\n",
    "from fande.ase import FandeCalc\n",
    "\n",
    "predictor_loaded = torch.load(\"/data1/simulations/ML_models/predictor_forced.pt\")\n",
    "fande_calc = FandeCalc(predictor_loaded)\n",
    "\n",
    "atoms = predictor_loaded.fdm.traj_train[0].copy()\n",
    "atoms.calc = fande_calc\n",
    "\n",
    "print( atoms.get_potential_energy(), atoms.get_forces() )\n"
   ]
  },
  {
   "cell_type": "code",
   "execution_count": 4,
   "metadata": {},
   "outputs": [
    {
     "data": {
      "text/plain": [
       "7024"
      ]
     },
     "execution_count": 4,
     "metadata": {},
     "output_type": "execute_result"
    }
   ],
   "source": [
    "len(predictor_loaded.fdm.train_indices[5])"
   ]
  },
  {
   "cell_type": "code",
   "execution_count": 6,
   "metadata": {},
   "outputs": [
    {
     "data": {
      "text/plain": [
       "{'soap_type': 'PowerSpectrum',\n",
       " 'interaction_cutoff': 3.0,\n",
       " 'max_radial': 4,\n",
       " 'max_angular': 4,\n",
       " 'gaussian_sigma_constant': 0.3,\n",
       " 'gaussian_sigma_type': 'Constant',\n",
       " 'cutoff_function_type': 'RadialScaling',\n",
       " 'cutoff_smooth_width': 0.1,\n",
       " 'cutoff_function_parameters': {'rate': 1,\n",
       "  'scale': 3.5,\n",
       "  'exponent': 4,\n",
       "  'interaction_cutoff': 3.0,\n",
       "  'cutoff_smooth_width': 0.1},\n",
       " 'radial_basis': 'GTO',\n",
       " 'normalize': True,\n",
       " 'compute_gradients': True,\n",
       " 'expansion_by_species_method': 'structure wise'}"
      ]
     },
     "execution_count": 6,
     "metadata": {},
     "output_type": "execute_result"
    }
   ],
   "source": [
    "predictor_loaded.fdm.soap_hypers"
   ]
  },
  {
   "cell_type": "code",
   "execution_count": 20,
   "metadata": {},
   "outputs": [],
   "source": [
    "from ase import io\n",
    "\n",
    "traj_295 = io.read(\"/data1/simulations/datasets/rotors/high_temp_ML_training_data/results_triasine_ML_2000/struct_295_295K/md_trajectory.traj\", index=\":\")\n",
    "traj_355 = io.read(\"/data1/simulations/datasets/rotors/high_temp_ML_training_data/results_triasine_ML_2000/struct_355_355K/md_trajectory.traj\", index=\":\")\n",
    "\n",
    "traj_295_2000K = io.read(\"/data1/simulations/datasets/rotors/high_temp_ML_training_data/results_triasine_ML_2000/struct_295_2000K/md_trajectory.traj\", index=\":\")\n",
    "traj_355_2000K = io.read(\"/data1/simulations/datasets/rotors/high_temp_ML_training_data/results_triasine_ML_2000/struct_355_2000K/md_trajectory.traj\", index=\":\")\n",
    "traj_295_2000K_forced = io.read(\"/data1/simulations/datasets/rotors/high_temp_ML_training_data/results_triasine_ML_2000/struct_295_2000K_0075force/md_trajectory.traj\", index=\":\")\n",
    "traj_355_2000K_forced = io.read(\"/data1/simulations/datasets/rotors/high_temp_ML_training_data/results_triasine_ML_2000/struct_355_2000K_0075force/md_trajectory.traj\", index=\":\")"
   ]
  },
  {
   "cell_type": "code",
   "execution_count": 13,
   "metadata": {},
   "outputs": [],
   "source": [
    "from fande.utils.test import make_test_plots"
   ]
  },
  {
   "cell_type": "code",
   "execution_count": 21,
   "metadata": {},
   "outputs": [],
   "source": [
    "save_dir_295 = \"/data1/simulations/ML_models/test_plots/295\"\n",
    "save_dir_355 = \"/data1/simulations/ML_models/test_plots/355\"\n",
    "save_dir_295_2000 = \"/data1/simulations/ML_models/test_plots/295_2000\"\n",
    "save_dir_355_2000 = \"/data1/simulations/ML_models/test_plots/295_2000\"\n",
    "save_dir_295_2000_forced = \"/data1/simulations/ML_models/test_plots/295_2000_forced\"\n",
    "save_dir_355_2000_forced = \"/data1/simulations/ML_models/test_plots/355_2000_forced\""
   ]
  },
  {
   "cell_type": "code",
   "execution_count": 27,
   "metadata": {},
   "outputs": [],
   "source": [
    "trajectories = [traj_295, traj_355, traj_295_2000K, traj_355_2000K, traj_295_2000K_forced, traj_355_2000K_forced]\n",
    "save_dirs = [save_dir_295, save_dir_355, save_dir_295_2000, save_dir_355_2000, save_dir_295_2000_forced, save_dir_355_2000_forced]"
   ]
  },
  {
   "cell_type": "code",
   "execution_count": 48,
   "metadata": {},
   "outputs": [],
   "source": [
    "%%capture c\n",
    "\n",
    "for traj, save_dir in zip(trajectories, save_dirs):\n",
    "    make_test_plots(fande_calc, traj, save_dir=save_dir)"
   ]
  }
 ],
 "metadata": {
  "kernelspec": {
   "display_name": "base",
   "language": "python",
   "name": "python3"
  },
  "language_info": {
   "codemirror_mode": {
    "name": "ipython",
    "version": 3
   },
   "file_extension": ".py",
   "mimetype": "text/x-python",
   "name": "python",
   "nbconvert_exporter": "python",
   "pygments_lexer": "ipython3",
   "version": "3.10.10"
  },
  "orig_nbformat": 4
 },
 "nbformat": 4,
 "nbformat_minor": 2
}
