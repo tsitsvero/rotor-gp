{
 "cells": [
  {
   "cell_type": "markdown",
   "metadata": {},
   "source": [
    "# Fit energies and forces (full cycle)"
   ]
  },
  {
   "cell_type": "code",
   "execution_count": 1,
   "metadata": {},
   "outputs": [],
   "source": [
    "%load_ext autoreload\n",
    "%autoreload 2\n",
    "\n",
    "import os\n",
    "import sys\n",
    "import torch\n",
    "sys.path.append(os.path.expandvars(\"/home/$USER/repos/fande/\"))"
   ]
  },
  {
   "cell_type": "code",
   "execution_count": 2,
   "metadata": {},
   "outputs": [],
   "source": [
    "from ase import io\n",
    "\n",
    "traj_295 = io.read(\"/data1/simulations/datasets/rotors/high_temp_ML_training_data/results_triasine_ML_2000/struct_295_295K/md_trajectory.traj\", index=\":\")\n",
    "traj_355 = io.read(\"/data1/simulations/datasets/rotors/high_temp_ML_training_data/results_triasine_ML_2000/struct_355_355K/md_trajectory.traj\", index=\":\")\n",
    "\n",
    "traj_295_2000K = io.read(\"/data1/simulations/datasets/rotors/high_temp_ML_training_data/results_triasine_ML_2000/struct_295_2000K/md_trajectory.traj\", index=\":\")\n",
    "traj_355_2000K = io.read(\"/data1/simulations/datasets/rotors/high_temp_ML_training_data/results_triasine_ML_2000/struct_355_2000K/md_trajectory.traj\", index=\":\")\n",
    "traj_295_2000K_forced = io.read(\"/data1/simulations/datasets/rotors/high_temp_ML_training_data/results_triasine_ML_2000/struct_295_2000K_0075force/md_trajectory.traj\", index=\":\")\n",
    "traj_355_2000K_forced = io.read(\"/data1/simulations/datasets/rotors/high_temp_ML_training_data/results_triasine_ML_2000/struct_355_2000K_0075force/md_trajectory.traj\", index=\":\")\n"
   ]
  },
  {
   "cell_type": "code",
   "execution_count": 3,
   "metadata": {},
   "outputs": [
    {
     "name": "stdout",
     "output_type": "stream",
     "text": [
      "50 3000\n"
     ]
    }
   ],
   "source": [
    "trajectory_forces = traj_295_2000K[0:5000:10]\n",
    "trajectory_forces = trajectory_forces[0::10].copy()\n",
    "\n",
    "trajectory_energy = traj_295[0:5000] + traj_355[0:5000] + traj_295_2000K[0:5000] + traj_355_2000K[0:5000] + traj_295_2000K_forced[0:5000] + traj_355_2000K_forced[0:5000]\n",
    "# trajectory_energy = traj_295 + traj_295_2000K + traj\n",
    "trajectory_energy = trajectory_energy[::10].copy()\n",
    "\n",
    "print(len(trajectory_forces), len(trajectory_energy))"
   ]
  },
  {
   "cell_type": "code",
   "execution_count": 4,
   "metadata": {},
   "outputs": [
    {
     "name": "stdout",
     "output_type": "stream",
     "text": [
      "fande.models module imported...\n",
      "Total number of found groups: 14\n",
      "Checking if all atoms are covered:  True\n"
     ]
    }
   ],
   "source": [
    "from fande.data import FandeDataModule\n",
    "from fande.utils.find_atomic_groups import find_atomic_groups\n",
    "\n",
    "\n",
    "soap_params = dict(soap_type=\"PowerSpectrum\",\n",
    "        interaction_cutoff=3.0,\n",
    "        max_radial=3,\n",
    "        max_angular=3,\n",
    "        gaussian_sigma_constant=0.3,\n",
    "        gaussian_sigma_type=\"Constant\",\n",
    "        cutoff_function_type=\"RadialScaling\",\n",
    "        cutoff_smooth_width=0.1, # 0.1 is way better than 0.5\n",
    "        cutoff_function_parameters=\n",
    "                dict(\n",
    "                        rate=1,\n",
    "                        scale=3.5,\n",
    "                        exponent=4\n",
    "                        ),\n",
    "        radial_basis=\"GTO\",\n",
    "        normalize=True, # setting False makes model untrainable\n",
    "        #   optimization=\n",
    "        #         dict(\n",
    "        #                 Spline=dict(\n",
    "        #                    accuracy=1.0e-05\n",
    "        #                 )\n",
    "        #             ),\n",
    "        compute_gradients=True, # for energies gradients are ignored\n",
    "        expansion_by_species_method='structure wise'\n",
    "        )\n",
    "##FOR NOW USE THE SAME SOAP PARAMETERS FOR ENERGY AND FORCES! (that makes sense if you're modeling the MD)\n",
    "\n",
    "sample_snapshot = trajectory_forces[0].copy()\n",
    "fdm = FandeDataModule()\n",
    "atomic_groups = find_atomic_groups(sample_snapshot)\n",
    "train_centers_positions = sum(atomic_groups, []) #list(range(len(atoms)))\n",
    "train_derivatives_positions = sum(atomic_groups, [])#list(range(len(atoms)))\n",
    "fdm.atomic_groups_sample_snapshot = sample_snapshot.copy()\n",
    "fdm.atomic_groups = atomic_groups\n",
    "\n",
    "total_forces_samples_per_group = [3000] * len(atomic_groups)\n",
    "high_forces_samples_per_group = [0] * len(atomic_groups)"
   ]
  },
  {
   "cell_type": "code",
   "execution_count": 5,
   "metadata": {},
   "outputs": [
    {
     "name": "stdout",
     "output_type": "stream",
     "text": [
      "Total length of traj is 3000\n",
      "Total number of batches 3000\n",
      "Calculating invariants on trajectory with librascal...\n"
     ]
    },
    {
     "name": "stderr",
     "output_type": "stream",
     "text": [
      "100%|██████████| 3000/3000 [01:21<00:00, 36.71it/s]\n"
     ]
    },
    {
     "name": "stdout",
     "output_type": "stream",
     "text": [
      "invariants for energy fitting calculated\n"
     ]
    },
    {
     "name": "stderr",
     "output_type": "stream",
     "text": [
      "100%|██████████| 50/50 [00:20<00:00,  2.47it/s]\n"
     ]
    },
    {
     "name": "stdout",
     "output_type": "stream",
     "text": [
      "invariants for forces fitting calculated\n",
      "torch.Size([3000, 540])\n",
      "torch.Size([3000])\n",
      "Taking ALL 1800 samples for group 0\n",
      "Dataloader for group 0 created\n",
      "Number of samples in dataloader: 1800\n",
      "Dataloader for group 1 created\n",
      "Number of samples in dataloader: 3000\n",
      "Dataloader for group 2 created\n",
      "Number of samples in dataloader: 3000\n",
      "Taking ALL 1800 samples for group 3\n",
      "Dataloader for group 3 created\n",
      "Number of samples in dataloader: 1800\n",
      "Taking ALL 1800 samples for group 4\n",
      "Dataloader for group 4 created\n",
      "Number of samples in dataloader: 1800\n",
      "Dataloader for group 5 created\n",
      "Number of samples in dataloader: 3000\n",
      "Dataloader for group 6 created\n",
      "Number of samples in dataloader: 3000\n",
      "Dataloader for group 7 created\n",
      "Number of samples in dataloader: 3000\n",
      "Dataloader for group 8 created\n",
      "Number of samples in dataloader: 3000\n",
      "Dataloader for group 9 created\n",
      "Number of samples in dataloader: 3000\n",
      "Taking ALL 1800 samples for group 10\n",
      "Dataloader for group 10 created\n",
      "Number of samples in dataloader: 1800\n",
      "Dataloader for group 11 created\n",
      "Number of samples in dataloader: 3000\n",
      "Taking ALL 1800 samples for group 12\n",
      "Dataloader for group 12 created\n",
      "Number of samples in dataloader: 1800\n",
      "Taking ALL 1800 samples for group 13\n",
      "Dataloader for group 13 created\n",
      "Number of samples in dataloader: 1800\n"
     ]
    }
   ],
   "source": [
    "dataloader_energy, dataloaders_forces = fdm.dataloaders_from_trajectory(\n",
    "                                                                trajectory_energy,\n",
    "                                                                trajectory_forces,\n",
    "                                                                # energies = None,\n",
    "                                                                # forces = None,\n",
    "                                                                atomic_groups = atomic_groups,\n",
    "                                                                centers_positions = train_centers_positions,\n",
    "                                                                derivatives_positions = train_derivatives_positions,\n",
    "                                                                energy_soap_hypers = soap_params,\n",
    "                                                                forces_soap_hypers = soap_params,\n",
    "                                                                total_forces_samples_per_group = total_forces_samples_per_group,\n",
    "                                                                high_force_samples_per_group = high_forces_samples_per_group,\n",
    "                                                                )"
   ]
  },
  {
   "cell_type": "code",
   "execution_count": 10,
   "metadata": {},
   "outputs": [
    {
     "ename": "ModuleNotFoundError",
     "evalue": "No module named 'fande'",
     "output_type": "error",
     "traceback": [
      "\u001b[0;31m---------------------------------------------------------------------------\u001b[0m",
      "\u001b[0;31mModuleNotFoundError\u001b[0m                       Traceback (most recent call last)",
      "\u001b[1;32m/home/dlbox2/repos/rotor-gp/code/fit_energies.ipynb セル 7\u001b[0m line \u001b[0;36m3\n\u001b[1;32m      <a href='vscode-notebook-cell:/home/dlbox2/repos/rotor-gp/code/fit_energies.ipynb#X10sZmlsZQ%3D%3D?line=0'>1</a>\u001b[0m \u001b[39m# Making energy model\u001b[39;00m\n\u001b[0;32m----> <a href='vscode-notebook-cell:/home/dlbox2/repos/rotor-gp/code/fit_energies.ipynb#X10sZmlsZQ%3D%3D?line=2'>3</a>\u001b[0m \u001b[39mfrom\u001b[39;00m \u001b[39mfande\u001b[39;00m\u001b[39m.\u001b[39;00m\u001b[39mmodels\u001b[39;00m \u001b[39mimport\u001b[39;00m EnergyModel\n\u001b[1;32m      <a href='vscode-notebook-cell:/home/dlbox2/repos/rotor-gp/code/fit_energies.ipynb#X10sZmlsZQ%3D%3D?line=4'>5</a>\u001b[0m hparams \u001b[39m=\u001b[39m {\n\u001b[1;32m      <a href='vscode-notebook-cell:/home/dlbox2/repos/rotor-gp/code/fit_energies.ipynb#X10sZmlsZQ%3D%3D?line=5'>6</a>\u001b[0m         \u001b[39m'\u001b[39m\u001b[39mdtype\u001b[39m\u001b[39m'\u001b[39m : \u001b[39m'\u001b[39m\u001b[39mfloat32\u001b[39m\u001b[39m'\u001b[39m,\n\u001b[1;32m      <a href='vscode-notebook-cell:/home/dlbox2/repos/rotor-gp/code/fit_energies.ipynb#X10sZmlsZQ%3D%3D?line=6'>7</a>\u001b[0m         \u001b[39m'\u001b[39m\u001b[39mdevice\u001b[39m\u001b[39m'\u001b[39m : \u001b[39m'\u001b[39m\u001b[39mgpu\u001b[39m\u001b[39m'\u001b[39m,\n\u001b[0;32m   (...)\u001b[0m\n\u001b[1;32m     <a href='vscode-notebook-cell:/home/dlbox2/repos/rotor-gp/code/fit_energies.ipynb#X10sZmlsZQ%3D%3D?line=12'>13</a>\u001b[0m         }\n\u001b[1;32m     <a href='vscode-notebook-cell:/home/dlbox2/repos/rotor-gp/code/fit_energies.ipynb#X10sZmlsZQ%3D%3D?line=13'>14</a>\u001b[0m         }\n\u001b[1;32m     <a href='vscode-notebook-cell:/home/dlbox2/repos/rotor-gp/code/fit_energies.ipynb#X10sZmlsZQ%3D%3D?line=15'>16</a>\u001b[0m Energy_model \u001b[39m=\u001b[39m EnergyModel(\n\u001b[1;32m     <a href='vscode-notebook-cell:/home/dlbox2/repos/rotor-gp/code/fit_energies.ipynb#X10sZmlsZQ%3D%3D?line=16'>17</a>\u001b[0m         dataloader_energy,\n\u001b[1;32m     <a href='vscode-notebook-cell:/home/dlbox2/repos/rotor-gp/code/fit_energies.ipynb#X10sZmlsZQ%3D%3D?line=17'>18</a>\u001b[0m         hparams\u001b[39m=\u001b[39mhparams)\n",
      "\u001b[0;31mModuleNotFoundError\u001b[0m: No module named 'fande'"
     ]
    }
   ],
   "source": [
    "# Making energy model\n",
    "\n",
    "from fande.models import EnergyModel\n",
    "\n",
    "hparams = {\n",
    "        'dtype' : 'float32',\n",
    "        'device' : 'gpu',\n",
    "        'energy_model_hparams' : {\n",
    "                'model_type' : 'variational_inducing_points',#'variational_inducing_points', 'exact'\n",
    "                'num_inducing_points' : 1000,\n",
    "                'num_epochs' : 1_000,\n",
    "                'learning_rate' : 0.01,\n",
    "        }\n",
    "        }\n",
    "       \n",
    "Energy_model = EnergyModel(\n",
    "        dataloader_energy,\n",
    "        hparams=hparams)\n",
    "\n",
    "Energy_model.fit()"
   ]
  },
  {
   "cell_type": "code",
   "execution_count": 9,
   "metadata": {},
   "outputs": [
    {
     "data": {
      "text/plain": [
       "tensor([2, 3, 3, 0, 4])"
      ]
     },
     "execution_count": 9,
     "metadata": {},
     "output_type": "execute_result"
    }
   ],
   "source": [
    "import torch\n",
    "torch.randint(low=0, high=10, size=(5,))\n",
    "\n",
    "perm = torch.randperm(tensor.size(0))\n",
    "idx = perm[:k]"
   ]
  },
  {
   "cell_type": "code",
   "execution_count": 26,
   "metadata": {},
   "outputs": [],
   "source": [
    "# %%time\n",
    "# # Fitting forces\n",
    "\n",
    "# from fande.models import ModelForces, GroupModelForces\n",
    "\n",
    "\n",
    "# n_steps_list = [200] * len(atomic_groups)\n",
    "# lr_list = [0.1] * len(atomic_groups)\n",
    "\n",
    "# models_hparams = []\n",
    "# for i in range(len(atomic_groups)):\n",
    "#         model_hparams = {\n",
    "#         'atomic_group' : atomic_groups[i],\n",
    "#         'dtype' : hparams['dtype'],\n",
    "#         'device' : hparams['device'],\n",
    "#         'num_epochs' : n_steps_list[i],\n",
    "#         'learning_rate' : lr_list[i],\n",
    "#         'soap_dim' : dataloaders_forces[i].dataset[0][0].shape[-1],\n",
    "#         'soap_params' : soap_params,\n",
    "#         }\n",
    "#         models_hparams.append(model_hparams)\n",
    "\n",
    "# hparams['per_model_hparams'] = models_hparams # access per_model_hparams by model.model_id\n",
    "# gpu_id = 0\n",
    "\n",
    "\n",
    "# models_forces = []\n",
    "# for i in range(len(atomic_groups)):\n",
    "#         model = ModelForces(\n",
    "#         train_x = dataloaders_forces[i].dataset[:][0],\n",
    "#         train_y = dataloaders_forces[i].dataset[:][1],\n",
    "#         atomic_group = atomic_groups[i],\n",
    "#         hparams = hparams,\n",
    "#         id=i)\n",
    "#         models_forces.append(model)\n",
    "        \n",
    "# AG_force_model = GroupModelForces(\n",
    "#         models= models_forces,\n",
    "#         train_data_loaders = dataloaders_forces,\n",
    "#         hparams=hparams, \n",
    "#         gpu_id=gpu_id)\n",
    "\n",
    "# AG_force_model.fit()"
   ]
  },
  {
   "cell_type": "code",
   "execution_count": 46,
   "metadata": {},
   "outputs": [],
   "source": [
    "from fande.predict import FandePredictor\n",
    "from fande.ase import FandeCalc\n",
    "\n",
    "# Energy_model = None\n",
    "AG_force_model = None\n",
    "predictor = FandePredictor(\n",
    "        fdm,\n",
    "        AG_force_model,\n",
    "        Energy_model,\n",
    "        hparams,\n",
    "        soap_params\n",
    "        )\n",
    "\n",
    "fande_calc = FandeCalc(predictor)\n",
    "# fande_calc.save_predictor(\"/data1/simulations/ML_models/for_SCML/fande_predictor_last.pth\")"
   ]
  },
  {
   "cell_type": "code",
   "execution_count": 38,
   "metadata": {},
   "outputs": [],
   "source": [
    "\n",
    "from fande.predict import FandePredictor\n",
    "from fande.ase import FandeCalc\n",
    "# load the predictor:\n",
    "predictor_loaded = torch.load(\"/data1/simulations/ML_models/for_SCML/fande_predictor.pth\")\n",
    "fande_calc_loaded = FandeCalc(predictor_loaded)\n",
    "device = torch.device('cpu')\n",
    "fande_calc_loaded.predictor.move_models_to_device(device)"
   ]
  },
  {
   "cell_type": "code",
   "execution_count": 88,
   "metadata": {},
   "outputs": [],
   "source": [
    "# device = torch.device('cuda:0') # always specify the gpu id!\n",
    "device = torch.device('cpu')\n",
    "fande_calc.predictor.move_models_to_device(device)"
   ]
  },
  {
   "cell_type": "code",
   "execution_count": 306,
   "metadata": {},
   "outputs": [
    {
     "name": "stderr",
     "output_type": "stream",
     "text": []
    },
    {
     "name": "stdout",
     "output_type": "stream",
     "text": [
      "Time for invariants (call from forces):  351.5036106109619\n",
      "removing cache for energy model (THIS IS EXPENSIVE) \n",
      "Cache moved to the proper device.\n",
      "Energy model summary: \n",
      "Time invariants:  0.10895729064941406\n",
      "Time prediction:  113.4335994720459\n",
      "Time moving on device:  0.8573532104492188\n",
      "Time total:  129.50992584228516\n",
      "[-3079.672]\n"
     ]
    },
    {
     "name": "stderr",
     "output_type": "stream",
     "text": []
    },
    {
     "name": "stdout",
     "output_type": "stream",
     "text": [
      "Time for invariants (call from forces):  396.0072994232178\n",
      "removing cache for energy model (THIS IS EXPENSIVE) \n",
      "Cache moved to the proper device.\n",
      "Energy model summary: \n",
      "Time invariants:  0.1251697540283203\n",
      "Time prediction:  128.57604026794434\n",
      "Time moving on device:  1.0335445404052734\n",
      "Time total:  131.33525848388672\n",
      "[-3079.6177]\n"
     ]
    },
    {
     "name": "stderr",
     "output_type": "stream",
     "text": []
    },
    {
     "name": "stdout",
     "output_type": "stream",
     "text": [
      "Time for invariants (call from forces):  361.3271713256836\n",
      "removing cache for energy model (THIS IS EXPENSIVE) \n",
      "Cache moved to the proper device.\n",
      "Energy model summary: \n",
      "Time invariants:  0.11944770812988281\n",
      "Time prediction:  118.35503578186035\n",
      "Time moving on device:  0.965118408203125\n",
      "Time total:  120.87655067443848\n",
      "[-3079.6006]\n"
     ]
    },
    {
     "name": "stderr",
     "output_type": "stream",
     "text": []
    },
    {
     "name": "stdout",
     "output_type": "stream",
     "text": [
      "Time for invariants (call from forces):  357.73706436157227\n",
      "removing cache for energy model (THIS IS EXPENSIVE) \n",
      "Cache moved to the proper device.\n",
      "Energy model summary: \n",
      "Time invariants:  0.1392364501953125\n",
      "Time prediction:  114.96281623840332\n",
      "Time moving on device:  0.8788108825683594\n",
      "Time total:  117.68245697021484\n",
      "[-3079.6233]\n"
     ]
    },
    {
     "name": "stderr",
     "output_type": "stream",
     "text": [
      "100%|██████████| 5/5 [00:02<00:00,  2.03it/s]"
     ]
    },
    {
     "name": "stdout",
     "output_type": "stream",
     "text": [
      "Time for invariants (call from forces):  353.37257385253906\n",
      "removing cache for energy model (THIS IS EXPENSIVE) \n",
      "Cache moved to the proper device.\n",
      "Energy model summary: \n",
      "Time invariants:  0.11396408081054688\n",
      "Time prediction:  113.88635635375977\n",
      "Time moving on device:  0.8609294891357422\n",
      "Time total:  116.26410484313965\n",
      "[-3079.6658]\n"
     ]
    },
    {
     "name": "stderr",
     "output_type": "stream",
     "text": [
      "\n"
     ]
    }
   ],
   "source": [
    "from ase import io\n",
    "from tqdm import tqdm\n",
    "test_traj = io.read(\"/data1/simulations/datasets/rotors/high_temp_ML_training_data/results_triasine_ML_2000/struct_355_355K/md_trajectory.traj\", index=\"1235:1240\")\n",
    "test_traj = test_traj.copy()\n",
    "\n",
    "real_energies = [s.get_potential_energy() for s in test_traj]\n",
    "predicted_energies = []\n",
    "for i in tqdm(range(len(test_traj))):\n",
    "        test_traj[i].calc = fande_calc\n",
    "        # predicted_energies.append( test_traj[i].get_potential_energy() )\n",
    "        # print(test_traj[i].get_potential_energy() )\n",
    "        # test_traj[i].get_forces()\n",
    "        print(test_traj[i].get_potential_energy() )\n",
    "        # test_traj[i].get_forces()"
   ]
  },
  {
   "cell_type": "code",
   "execution_count": 92,
   "metadata": {},
   "outputs": [
    {
     "name": "stderr",
     "output_type": "stream",
     "text": []
    },
    {
     "name": "stdout",
     "output_type": "stream",
     "text": [
      "Time for invariants (call from forces):  425.555944442749\n",
      "Energy model summary: \n",
      "Time invariants:  0.10633468627929688\n",
      "Time prediction:  3.1805038452148438\n",
      "Time moving on device:  0.4601478576660156\n",
      "Time total:  4.599332809448242\n"
     ]
    },
    {
     "name": "stderr",
     "output_type": "stream",
     "text": []
    },
    {
     "name": "stdout",
     "output_type": "stream",
     "text": [
      "Time for invariants (call from forces):  408.1246852874756\n",
      "Energy model summary: \n",
      "Time invariants:  0.10585784912109375\n",
      "Time prediction:  3.0345916748046875\n",
      "Time moving on device:  0.4558563232421875\n",
      "Time total:  4.397392272949219\n"
     ]
    },
    {
     "name": "stderr",
     "output_type": "stream",
     "text": []
    },
    {
     "name": "stdout",
     "output_type": "stream",
     "text": [
      "Time for invariants (call from forces):  406.5885543823242\n",
      "Energy model summary: \n",
      "Time invariants:  0.1068115234375\n",
      "Time prediction:  3.0775070190429688\n",
      "Time moving on device:  0.4553794860839844\n",
      "Time total:  4.43720817565918\n"
     ]
    },
    {
     "name": "stderr",
     "output_type": "stream",
     "text": [
      "100%|██████████| 5/5 [00:01<00:00,  2.97it/s]"
     ]
    },
    {
     "name": "stdout",
     "output_type": "stream",
     "text": [
      "Time for invariants (call from forces):  407.9163074493408\n",
      "Energy model summary: \n",
      "Time invariants:  0.11110305786132812\n",
      "Time prediction:  3.017902374267578\n",
      "Time moving on device:  0.4487037658691406\n",
      "Time total:  4.424810409545898\n",
      "CPU times: user 6.01 s, sys: 329 ms, total: 6.34 s\n",
      "Wall time: 1.69 s\n"
     ]
    },
    {
     "name": "stderr",
     "output_type": "stream",
     "text": [
      "\n"
     ]
    }
   ],
   "source": [
    "%%time\n",
    "# test_traj[0].get_forces()\n",
    "for i in tqdm(range(len(test_traj))):\n",
    "        test_traj[i].get_forces()\n",
    "# test_traj[1].get_potential_energy()"
   ]
  },
  {
   "cell_type": "code",
   "execution_count": null,
   "metadata": {},
   "outputs": [],
   "source": [
    "import matplotlib.pyplot as plt\n",
    "\n",
    "plt.plot(real_energies, label=\"real\")\n",
    "plt.plot(predicted_energies, label=\"predicted\")\n",
    "plt.legend()\n",
    "plt.show()"
   ]
  },
  {
   "cell_type": "code",
   "execution_count": 14,
   "metadata": {},
   "outputs": [
    {
     "name": "stdout",
     "output_type": "stream",
     "text": [
      "Atomic group force model is not defined. Cannot predict forces. Returning zeros.\n",
      "[-3080.6099]\n",
      "[[0. 0. 0.]\n",
      " [0. 0. 0.]\n",
      " [0. 0. 0.]\n",
      " ...\n",
      " [0. 0. 0.]\n",
      " [0. 0. 0.]\n",
      " [0. 0. 0.]]\n"
     ]
    }
   ],
   "source": [
    "atoms = trajectory_energy[51].copy()\n",
    "\n",
    "atoms.set_calculator(fande_calc)\n",
    "\n",
    "print(atoms.get_potential_energy())\n",
    "print(atoms.get_forces())"
   ]
  },
  {
   "cell_type": "markdown",
   "metadata": {},
   "source": [
    "## Testing area"
   ]
  },
  {
   "cell_type": "code",
   "execution_count": 47,
   "metadata": {},
   "outputs": [],
   "source": [
    "from ase import io\n",
    "# test_traj = io.read(\"/data1/simulations/datasets/rotors/high_temp_ML_training_data/results_triasine_ML_2000/struct_295_295K/md_trajectory.traj\", index=\"-100:\")\n",
    "# test_traj = io.read(\"/data1/simulations/datasets/rotors/high_temp_ML_training_data/results_triasine_ML_2000/struct_295_2000K_0075force/md_trajectory.traj\", index=\"-100:\")\n",
    "test_traj = io.read(\"/data1/simulations/datasets/rotors/high_temp_ML_training_data/295_0.075_same_+/md_trajectory.traj\", index=\"100:150\")\n",
    "\n",
    "# atoms.set_calculator(fande_calc_loaded)"
   ]
  },
  {
   "cell_type": "code",
   "execution_count": 48,
   "metadata": {},
   "outputs": [],
   "source": [
    "%%capture c\n",
    "from tqdm import tqdm\n",
    "\n",
    "energies_true = []\n",
    "energies_pred = []\n",
    "\n",
    "for i in tqdm(range(len(test_traj))):\n",
    "        atoms = test_traj[i].copy()\n",
    "        atoms.calc = fande_calc\n",
    "        energies_pred.append(atoms.get_potential_energy())\n",
    "        energies_true.append(test_traj[i].get_potential_energy())\n"
   ]
  },
  {
   "cell_type": "code",
   "execution_count": 50,
   "metadata": {},
   "outputs": [
    {
     "data": {
      "image/png": "[encoded data removed]",
      "text/plain": [
       "<Figure size 640x480 with 1 Axes>"
      ]
     },
     "metadata": {},
     "output_type": "display_data"
    }
   ],
   "source": [
    "import matplotlib.pyplot as plt\n",
    "plt.plot(energies_true, label=\"true\")\n",
    "plt.plot(energies_pred, label=\"pred\")\n",
    "plt.legend()\n",
    "plt.show()"
   ]
  },
  {
   "cell_type": "code",
   "execution_count": 297,
   "metadata": {},
   "outputs": [
    {
     "data": {
      "image/png": "[encoded data removed]",
      "text/plain": [
       "<Figure size 500x300 with 1 Axes>"
      ]
     },
     "metadata": {},
     "output_type": "display_data"
    },
    {
     "data": {
      "image/png": "[encoded data removed]",
      "text/plain": [
       "<Figure size 500x300 with 1 Axes>"
      ]
     },
     "metadata": {},
     "output_type": "display_data"
    }
   ],
   "source": [
    "fande_calc.predictor.energy_model.model.model.variational_strategy.inducing_points\n",
    "\n",
    "# import matplotlib.pyplot as plt\n",
    "\n",
    "train_x = fande_calc.predictor.energy_model.model.train_x[:].cpu().detach().numpy()\n",
    "mean_train_x = train_x.mean(axis=0)\n",
    "\n",
    "train_x_no_mean = train_x - mean_train_x\n",
    "train_x_variance = train_x_no_mean.var(axis=0)\n",
    "\n",
    "plt.figure(figsize=(5,3))\n",
    "plt.plot(train_x_variance, color=\"black\")\n",
    "plt.xlabel(\"SOAP feature index\")\n",
    "plt.ylabel(\"Variance\")\n",
    "plt.tight_layout()\n",
    "plt.yscale('log')\n",
    "# plt.xlim(210,215)\n",
    "# plt.ylim(0,2.0)\n",
    "# plt.savefig(\"variance.pdf\")\n",
    "plt.show()\n",
    "\n",
    "\n",
    "# plt.figure(figsize=(5,3))\n",
    "# plt.hist(train_x_variance, bins=100, color=\"black\")\n",
    "# plt.xlabel(\"Variance\")\n",
    "# plt.ylabel(\"Count\")\n",
    "# plt.tight_layout()\n",
    "# plt.yscale('log')\n",
    "# # plt.savefig(\"variance_hist.pdf\")\n",
    "# plt.show()\n",
    "\n",
    "plt.figure(figsize=(5,3))\n",
    "plt.plot(mean_train_x, color=\"black\")\n",
    "plt.xlabel(\"SOAP feature index\")\n",
    "plt.ylabel(\"Mean\")\n",
    "plt.tight_layout()\n",
    "# plt.yscale('log')\n",
    "# plt.savefig(\"mean.pdf\")\n",
    "plt.show()\n",
    "\n",
    "# for i in range(0,1000):\n",
    "#         # plt.plot(fande_calc.predictor.energy_model.model.model.variational_strategy.inducing_points[i].cpu().detach().numpy().flatten())\n",
    "#         plt.plot(train_x[2*i].flatten() - mean_train_x.flatten())\n",
    "# # plt.hist(fande_calc.predictor.energy_model.model.train_x.cpu().detach().numpy().flatten(), bins=100)\n",
    "# # plt.xlim(50, 60)\n",
    "# plt.show()"
   ]
  }
 ],
 "metadata": {
  "kernelspec": {
   "display_name": "base",
   "language": "python",
   "name": "python3"
  },
  "language_info": {
   "codemirror_mode": {
    "name": "ipython",
    "version": 3
   },
   "file_extension": ".py",
   "mimetype": "text/x-python",
   "name": "python",
   "nbconvert_exporter": "python",
   "pygments_lexer": "ipython3",
   "version": "3.10.10"
  },
  "orig_nbformat": 4
 },
 "nbformat": 4,
 "nbformat_minor": 2
}
