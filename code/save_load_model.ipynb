{
 "cells": [
  {
   "cell_type": "markdown",
   "metadata": {},
   "source": [
    "## We need the optimal strategy to load/save models"
   ]
  },
  {
   "cell_type": "code",
   "execution_count": 12,
   "metadata": {},
   "outputs": [
    {
     "name": "stdout",
     "output_type": "stream",
     "text": [
      "The autoreload extension is already loaded. To reload it, use:\n",
      "  %reload_ext autoreload\n"
     ]
    }
   ],
   "source": [
    "%load_ext autoreload\n",
    "%autoreload 2\n",
    "\n",
    "import os\n",
    "import sys\n",
    "sys.path.append(os.path.expandvars(\"/home/$USER/repos/fande/\") )"
   ]
  },
  {
   "cell_type": "code",
   "execution_count": 13,
   "metadata": {},
   "outputs": [
    {
     "name": "stdout",
     "output_type": "stream",
     "text": [
      "Total number of frames is 1\n",
      "Total number of batches is 1\n",
      "Total length of traj is 1\n",
      "Total number of batches 1\n",
      "Calculating invariants on trajectory with librascal...\n"
     ]
    },
    {
     "name": "stderr",
     "output_type": "stream",
     "text": [
      "100%|██████████| 1/1 [00:04<00:00,  4.77s/it]\n"
     ]
    },
    {
     "name": "stdout",
     "output_type": "stream",
     "text": [
      "0.0 [[-0.05307007 -0.07954407  0.06188965]\n",
      " [ 0.02107239  0.04133606 -0.0723114 ]\n",
      " [-0.06694031  0.04341125  0.00621033]\n",
      " ...\n",
      " [ 0.07273865  0.21099091 -0.20579529]\n",
      " [-0.01686096 -0.02398682 -0.05099869]\n",
      " [ 0.02691841 -0.07848358  0.10313416]]\n"
     ]
    }
   ],
   "source": [
    "import torch\n",
    "from fande.ase import FandeCalc\n",
    "\n",
    "predictor_loaded = torch.load(\"/data1/simulations/ML_models/predictor_nonforced_last.pt\")\n",
    "fande_calc = FandeCalc(predictor_loaded)\n",
    "\n",
    "atoms = predictor_loaded.fdm.traj_train[0].copy()\n",
    "atoms.calc = fande_calc\n",
    "\n",
    "print( atoms.get_potential_energy(), atoms.get_forces() )\n"
   ]
  },
  {
   "cell_type": "code",
   "execution_count": 19,
   "metadata": {},
   "outputs": [
    {
     "name": "stdout",
     "output_type": "stream",
     "text": [
      "Total number of frames is 1\n",
      "Total number of batches is 1\n",
      "Total length of traj is 1\n",
      "Total number of batches 1\n",
      "Calculating invariants on trajectory with librascal...\n"
     ]
    },
    {
     "name": "stderr",
     "output_type": "stream",
     "text": [
      "  0%|          | 0/1 [00:00<?, ?it/s]"
     ]
    },
    {
     "name": "stderr",
     "output_type": "stream",
     "text": [
      "100%|██████████| 1/1 [00:04<00:00,  4.64s/it]\n"
     ]
    },
    {
     "name": "stdout",
     "output_type": "stream",
     "text": [
      "0.0 [[-0.2003479  -0.08526611  0.05366516]\n",
      " [ 0.02111816  0.04136658 -0.07221985]\n",
      " [-0.06692505  0.04341125  0.00617981]\n",
      " ...\n",
      " [ 0.07267761  0.2109375  -0.20581436]\n",
      " [-0.01685333 -0.02397919 -0.05105591]\n",
      " [ 0.02691078 -0.07852936  0.10313416]]\n"
     ]
    }
   ],
   "source": [
    "atoms.positions[0,0] += 0.001\n",
    "print( atoms.get_potential_energy(), atoms.get_forces() )"
   ]
  },
  {
   "cell_type": "code",
   "execution_count": 22,
   "metadata": {},
   "outputs": [
    {
     "name": "stdout",
     "output_type": "stream",
     "text": [
      "10000\n",
      "{'soap_type': 'PowerSpectrum', 'interaction_cutoff': 6.0, 'max_radial': 4, 'max_angular': 4, 'gaussian_sigma_constant': 0.3, 'gaussian_sigma_type': 'Constant', 'cutoff_function_type': 'RadialScaling', 'cutoff_smooth_width': 0.1, 'cutoff_function_parameters': {'rate': 1, 'scale': 3.5, 'exponent': 4, 'interaction_cutoff': 6.0, 'cutoff_smooth_width': 0.1}, 'radial_basis': 'GTO', 'normalize': True, 'compute_gradients': True, 'expansion_by_species_method': 'structure wise'}\n"
     ]
    }
   ],
   "source": [
    "print(len(predictor_loaded.fdm.train_indices[5]) )\n",
    "print(predictor_loaded.fdm.soap_hypers)"
   ]
  },
  {
   "cell_type": "code",
   "execution_count": 23,
   "metadata": {},
   "outputs": [],
   "source": [
    "from ase import io\n",
    "\n",
    "traj_295 = io.read(\"/data1/simulations/datasets/rotors/high_temp_ML_training_data/results_triasine_ML_2000/struct_295_295K/md_trajectory.traj\", index=\":\")\n",
    "traj_355 = io.read(\"/data1/simulations/datasets/rotors/high_temp_ML_training_data/results_triasine_ML_2000/struct_355_355K/md_trajectory.traj\", index=\":\")\n",
    "\n",
    "traj_295_2000K = io.read(\"/data1/simulations/datasets/rotors/high_temp_ML_training_data/results_triasine_ML_2000/struct_295_2000K/md_trajectory.traj\", index=\":\")\n",
    "traj_355_2000K = io.read(\"/data1/simulations/datasets/rotors/high_temp_ML_training_data/results_triasine_ML_2000/struct_355_2000K/md_trajectory.traj\", index=\":\")\n",
    "traj_295_2000K_forced = io.read(\"/data1/simulations/datasets/rotors/high_temp_ML_training_data/results_triasine_ML_2000/struct_295_2000K_0075force/md_trajectory.traj\", index=\":\")\n",
    "traj_355_2000K_forced = io.read(\"/data1/simulations/datasets/rotors/high_temp_ML_training_data/results_triasine_ML_2000/struct_355_2000K_0075force/md_trajectory.traj\", index=\":\")"
   ]
  },
  {
   "cell_type": "code",
   "execution_count": 24,
   "metadata": {},
   "outputs": [],
   "source": [
    "from fande.utils.test import make_test_plots"
   ]
  },
  {
   "cell_type": "code",
   "execution_count": 25,
   "metadata": {},
   "outputs": [],
   "source": [
    "save_dir_295 = \"/data1/simulations/ML_models/test_plots/295\"\n",
    "save_dir_355 = \"/data1/simulations/ML_models/test_plots/355\"\n",
    "save_dir_295_2000 = \"/data1/simulations/ML_models/test_plots/295_2000\"\n",
    "save_dir_355_2000 = \"/data1/simulations/ML_models/test_plots/295_2000\"\n",
    "save_dir_295_2000_forced = \"/data1/simulations/ML_models/test_plots/295_2000_forced\"\n",
    "save_dir_355_2000_forced = \"/data1/simulations/ML_models/test_plots/355_2000_forced\""
   ]
  },
  {
   "cell_type": "code",
   "execution_count": 26,
   "metadata": {},
   "outputs": [],
   "source": [
    "trajectories = [traj_295, traj_355, traj_295_2000K, traj_355_2000K, traj_295_2000K_forced, traj_355_2000K_forced]\n",
    "save_dirs = [save_dir_295, save_dir_355, save_dir_295_2000, save_dir_355_2000, save_dir_295_2000_forced, save_dir_355_2000_forced]"
   ]
  },
  {
   "cell_type": "code",
   "execution_count": 27,
   "metadata": {},
   "outputs": [
    {
     "ename": "KeyboardInterrupt",
     "evalue": "",
     "output_type": "error",
     "traceback": [
      "\u001b[0;31m---------------------------------------------------------------------------\u001b[0m",
      "\u001b[0;31mKeyboardInterrupt\u001b[0m                         Traceback (most recent call last)",
      "\u001b[1;32m/home/dlbox2/repos/rotor-gp/code/save_load_model.ipynb セル 10\u001b[0m line \u001b[0;36m2\n\u001b[1;32m      <a href='vscode-notebook-cell:/home/dlbox2/repos/rotor-gp/code/save_load_model.ipynb#X10sZmlsZQ%3D%3D?line=0'>1</a>\u001b[0m \u001b[39mfor\u001b[39;00m traj, save_dir \u001b[39min\u001b[39;00m \u001b[39mzip\u001b[39m(trajectories, save_dirs):\n\u001b[0;32m----> <a href='vscode-notebook-cell:/home/dlbox2/repos/rotor-gp/code/save_load_model.ipynb#X10sZmlsZQ%3D%3D?line=1'>2</a>\u001b[0m     make_test_plots(fande_calc, traj, save_dir\u001b[39m=\u001b[39;49msave_dir)\n",
      "File \u001b[0;32m~/repos/fande/fande/utils/test.py:47\u001b[0m, in \u001b[0;36mmake_test_plots\u001b[0;34m(fande_calc, test_trajectory, save_dir)\u001b[0m\n\u001b[1;32m     45\u001b[0m snap_copy \u001b[39m=\u001b[39m snap\u001b[39m.\u001b[39mcopy()\n\u001b[1;32m     46\u001b[0m snap_copy\u001b[39m.\u001b[39mcalc \u001b[39m=\u001b[39m fande_calc\n\u001b[0;32m---> 47\u001b[0m f_fande\u001b[39m.\u001b[39mappend(snap_copy\u001b[39m.\u001b[39;49mget_forces())\n\u001b[1;32m     48\u001b[0m f_fande_uncertainty\u001b[39m.\u001b[39mappend( snap_copy\u001b[39m.\u001b[39mcalc\u001b[39m.\u001b[39mget_forces_variance(snap_copy) )\n\u001b[1;32m     49\u001b[0m f\u001b[39m.\u001b[39mappend(snap\u001b[39m.\u001b[39mget_forces())\n",
      "File \u001b[0;32m~/anaconda3/envs/fande/lib/python3.10/site-packages/ase/atoms.py:788\u001b[0m, in \u001b[0;36mAtoms.get_forces\u001b[0;34m(self, apply_constraint, md)\u001b[0m\n\u001b[1;32m    786\u001b[0m \u001b[39mif\u001b[39;00m \u001b[39mself\u001b[39m\u001b[39m.\u001b[39m_calc \u001b[39mis\u001b[39;00m \u001b[39mNone\u001b[39;00m:\n\u001b[1;32m    787\u001b[0m     \u001b[39mraise\u001b[39;00m \u001b[39mRuntimeError\u001b[39;00m(\u001b[39m'\u001b[39m\u001b[39mAtoms object has no calculator.\u001b[39m\u001b[39m'\u001b[39m)\n\u001b[0;32m--> 788\u001b[0m forces \u001b[39m=\u001b[39m \u001b[39mself\u001b[39;49m\u001b[39m.\u001b[39;49m_calc\u001b[39m.\u001b[39;49mget_forces(\u001b[39mself\u001b[39;49m)\n\u001b[1;32m    790\u001b[0m \u001b[39mif\u001b[39;00m apply_constraint:\n\u001b[1;32m    791\u001b[0m     \u001b[39m# We need a special md flag here because for MD we want\u001b[39;00m\n\u001b[1;32m    792\u001b[0m     \u001b[39m# to skip real constraints but include special \"constraints\"\u001b[39;00m\n\u001b[1;32m    793\u001b[0m     \u001b[39m# Like Hookean.\u001b[39;00m\n\u001b[1;32m    794\u001b[0m     \u001b[39mfor\u001b[39;00m constraint \u001b[39min\u001b[39;00m \u001b[39mself\u001b[39m\u001b[39m.\u001b[39mconstraints:\n",
      "File \u001b[0;32m~/repos/fande/fande/ase/fande_calc.py:193\u001b[0m, in \u001b[0;36mFandeCalc.get_forces\u001b[0;34m(self, atoms)\u001b[0m\n\u001b[1;32m    192\u001b[0m \u001b[39mdef\u001b[39;00m \u001b[39mget_forces\u001b[39m(\u001b[39mself\u001b[39m, atoms):\n\u001b[0;32m--> 193\u001b[0m     \u001b[39mself\u001b[39;49m\u001b[39m.\u001b[39;49mupdate(atoms)\n\u001b[1;32m    194\u001b[0m     \u001b[39mreturn\u001b[39;00m \u001b[39mself\u001b[39m\u001b[39m.\u001b[39mforces\u001b[39m.\u001b[39mcopy()\n",
      "File \u001b[0;32m~/repos/fande/fande/ase/fande_calc.py:190\u001b[0m, in \u001b[0;36mFandeCalc.update\u001b[0;34m(self, atoms)\u001b[0m\n\u001b[1;32m    186\u001b[0m     \u001b[39mself\u001b[39m\u001b[39m.\u001b[39mcalculate(atoms)\n\u001b[1;32m    187\u001b[0m \u001b[39melif\u001b[39;00m ((\u001b[39mself\u001b[39m\u001b[39m.\u001b[39mpositions \u001b[39m!=\u001b[39m atoms\u001b[39m.\u001b[39mget_positions())\u001b[39m.\u001b[39many() \u001b[39mor\u001b[39;00m\n\u001b[1;32m    188\u001b[0m       (\u001b[39mself\u001b[39m\u001b[39m.\u001b[39mpbc \u001b[39m!=\u001b[39m atoms\u001b[39m.\u001b[39mget_pbc())\u001b[39m.\u001b[39many() \u001b[39mor\u001b[39;00m\n\u001b[1;32m    189\u001b[0m       (\u001b[39mself\u001b[39m\u001b[39m.\u001b[39mcell \u001b[39m!=\u001b[39m atoms\u001b[39m.\u001b[39mget_cell())\u001b[39m.\u001b[39many()):\n\u001b[0;32m--> 190\u001b[0m     \u001b[39mself\u001b[39;49m\u001b[39m.\u001b[39;49mcalculate(atoms)\n",
      "File \u001b[0;32m~/repos/fande/fande/ase/fande_calc.py:130\u001b[0m, in \u001b[0;36mFandeCalc.calculate\u001b[0;34m(self, atoms, properties, system_changes)\u001b[0m\n\u001b[1;32m    125\u001b[0m stresses \u001b[39m=\u001b[39m np\u001b[39m.\u001b[39mzeros((natoms, \u001b[39m3\u001b[39m, \u001b[39m3\u001b[39m))\n\u001b[1;32m    127\u001b[0m \u001b[39m# forces, forces_var = self.predictor.predict_forces_single(self.atoms)\u001b[39;00m\n\u001b[1;32m    128\u001b[0m \u001b[39m# print(\"Calculating FORCES!\")\u001b[39;00m\n\u001b[0;32m--> 130\u001b[0m forces, forces_variance \u001b[39m=\u001b[39m \u001b[39mself\u001b[39;49m\u001b[39m.\u001b[39;49mpredictor\u001b[39m.\u001b[39;49mpredict_forces_single_snapshot_r(\u001b[39mself\u001b[39;49m\u001b[39m.\u001b[39;49matoms\u001b[39m.\u001b[39;49mcopy())\n\u001b[1;32m    132\u001b[0m \u001b[39mself\u001b[39m\u001b[39m.\u001b[39mforces \u001b[39m=\u001b[39m forces\n\u001b[1;32m    134\u001b[0m \u001b[39mself\u001b[39m\u001b[39m.\u001b[39mforces_variance \u001b[39m=\u001b[39m forces_variance\n",
      "File \u001b[0;32m~/repos/fande/fande/predict/predictors_ase.py:574\u001b[0m, in \u001b[0;36mPredictorASE.predict_forces_single_snapshot_r\u001b[0;34m(self, snapshot, atomic_groups)\u001b[0m\n\u001b[1;32m    571\u001b[0m warnings\u001b[39m.\u001b[39mwarn(\u001b[39m\"\u001b[39m\u001b[39mCalculating invariants...\u001b[39m\u001b[39m\"\u001b[39m)\n\u001b[1;32m    573\u001b[0m n_atoms \u001b[39m=\u001b[39m \u001b[39mlen\u001b[39m(snapshot)\n\u001b[0;32m--> 574\u001b[0m DX_grouped \u001b[39m=\u001b[39m \u001b[39mself\u001b[39;49m\u001b[39m.\u001b[39;49mfdm\u001b[39m.\u001b[39;49mcalculate_snapshot_invariants_librascal(snapshot)\n\u001b[1;32m    575\u001b[0m atomic_groups \u001b[39m=\u001b[39m \u001b[39mself\u001b[39m\u001b[39m.\u001b[39mfdm\u001b[39m.\u001b[39matomic_groups_train\n\u001b[1;32m    576\u001b[0m \u001b[39m# snap_DX = self.fdm.snap_DX\u001b[39;00m\n\u001b[1;32m    577\u001b[0m \n\u001b[1;32m    578\u001b[0m \u001b[39m# print(snap_DX)\u001b[39;00m\n\u001b[1;32m    579\u001b[0m \u001b[39m# predictions_grouped = []\u001b[39;00m\n",
      "File \u001b[0;32m~/repos/fande/fande/data/data_module_ase.py:448\u001b[0m, in \u001b[0;36mFandeDataModuleASE.calculate_snapshot_invariants_librascal\u001b[0;34m(self, snapshot, same_centers_derivatives)\u001b[0m\n\u001b[1;32m    442\u001b[0m \u001b[39mdef\u001b[39;00m \u001b[39mcalculate_snapshot_invariants_librascal\u001b[39m(\n\u001b[1;32m    443\u001b[0m         \u001b[39mself\u001b[39m,\n\u001b[1;32m    444\u001b[0m         snapshot: ase\u001b[39m.\u001b[39mAtoms, \n\u001b[1;32m    445\u001b[0m         same_centers_derivatives\u001b[39m=\u001b[39m\u001b[39mTrue\u001b[39;00m):\n\u001b[1;32m    447\u001b[0m     traj \u001b[39m=\u001b[39m [snapshot]\n\u001b[0;32m--> 448\u001b[0m     snap_DX \u001b[39m=\u001b[39m \u001b[39mself\u001b[39;49m\u001b[39m.\u001b[39;49mcalculate_invariants_librascal(\n\u001b[1;32m    449\u001b[0m         trajectory\u001b[39m=\u001b[39;49mtraj, \n\u001b[1;32m    450\u001b[0m         same_centers_derivatives\u001b[39m=\u001b[39;49msame_centers_derivatives, \n\u001b[1;32m    451\u001b[0m         calculation_context\u001b[39m=\u001b[39;49m\u001b[39m\"\u001b[39;49m\u001b[39mproduction\u001b[39;49m\u001b[39m\"\u001b[39;49m)\n\u001b[1;32m    453\u001b[0m     \u001b[39mreturn\u001b[39;00m snap_DX\n",
      "\u001b[0;31mKeyboardInterrupt\u001b[0m: "
     ]
    },
    {
     "ename": "",
     "evalue": "",
     "output_type": "error",
     "traceback": [
      "\u001b[1;31m現在のセルまたは前のセルでコードを実行中に、カーネルがクラッシュしました。エラーの原因を特定するには、セル内のコードを確認してください。詳細については、<a href='https://aka.ms/vscodeJupyterKernelCrash'>こちら</a> をクリックしてください。さらなる詳細については、Jupyter [log] (command:jupyter.viewOutput) を参照してください。"
     ]
    }
   ],
   "source": [
    "%%capture c\n",
    "\n",
    "for traj, save_dir in zip(trajectories, save_dirs):\n",
    "    make_test_plots(fande_calc, traj, save_dir=save_dir)"
   ]
  }
 ],
 "metadata": {
  "kernelspec": {
   "display_name": "base",
   "language": "python",
   "name": "python3"
  },
  "language_info": {
   "codemirror_mode": {
    "name": "ipython",
    "version": 3
   },
   "file_extension": ".py",
   "mimetype": "text/x-python",
   "name": "python",
   "nbconvert_exporter": "python",
   "pygments_lexer": "ipython3",
   "version": "3.10.10"
  },
  "orig_nbformat": 4
 },
 "nbformat": 4,
 "nbformat_minor": 2
}
