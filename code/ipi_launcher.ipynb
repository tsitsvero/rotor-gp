{
 "cells": [
  {
   "cell_type": "code",
   "execution_count": 1,
   "metadata": {},
   "outputs": [],
   "source": [
    "%load_ext autoreload\n",
    "%autoreload 2\n",
    "\n",
    "import os\n",
    "DATA_DIR = os.path.expanduser(\"~/repos/data/\")\n",
    "# DATA_DIR = \"/data1/simulations/datasets/rotors/high_temp_ML_training_data/\"\n",
    "\n",
    "FANDE_DIR = os.path.expanduser(\"~/repos/\")\n",
    "# RESULTS_DIR = os.path.expanduser(\"~/repos/data/results\")\n",
    "# os.makedirs(RESULTS_DIR, exist_ok=True)\n",
    "\n",
    "import os\n",
    "import sys\n",
    "import torch\n",
    "sys.path.append(FANDE_DIR + \"fande/\")"
   ]
  },
  {
   "cell_type": "code",
   "execution_count": 2,
   "metadata": {},
   "outputs": [
    {
     "name": "stdout",
     "output_type": "stream",
     "text": [
      "CPU times: user 58 ms, sys: 7.77 ms, total: 65.8 ms\n",
      "Wall time: 64.4 ms\n"
     ]
    }
   ],
   "source": [
    "%%time\n",
    "from ase import io\n",
    "\n",
    "traj_295 = io.read(DATA_DIR+\"/results_triasine_ML_2000/struct_295_295K/md_trajectory.traj\", index=\"0:10\")\n",
    "# traj_355 = io.read(DATA_DIR+\"/results_triasine_ML_2000/struct_355_355K/md_trajectory.traj\", index=\":\")\n",
    "# traj_295_2000K = io.read(DATA_DIR+\"/results_triasine_ML_2000/struct_295_2000K/md_trajectory.traj\", index=\":\")\n",
    "# traj_355_2000K = io.read(DATA_DIR+\"/results_triasine_ML_2000/struct_355_2000K/md_trajectory.traj\", index=\":\")\n",
    "# traj_295_2000K_forced = io.read(DATA_DIR+\"/results_triasine_ML_2000/struct_295_2000K_0075force/md_trajectory.traj\", index=\":\")\n",
    "# traj_355_2000K_forced = io.read(DATA_DIR+\"/results_triasine_ML_2000/struct_355_2000K_0075force/md_trajectory.traj\", index=\":\")"
   ]
  },
  {
   "cell_type": "code",
   "execution_count": 3,
   "metadata": {},
   "outputs": [],
   "source": [
    "init_structure = traj_295[0]\n",
    "input_xml_str = \"\"\"\n",
    "<simulation verbosity='high'>\n",
    "  <output prefix='PREFIX'>\n",
    "<!--    <properties stride='1' filename='out'>  [ step, potential{kilocal/mol} ] </properties>-->\n",
    "    <!-- <trajectory stride='1' filename='pos'>  positions{angstrom}  </trajectory> -->\n",
    "    <!-- <properties stride=\"10\"> [ step, time, pot_component_raw(0), pot_component_raw(1), temperature, conserved ] </properties> -->\n",
    "    <properties stride=\"1\"> [ step, time, potential(0), temperature, conserved ] </properties>\n",
    "    <trajectory stride=\"1\" filename=\"pos\" cell_units=\"angstrom\"> positions{angstrom} </trajectory>\n",
    "    <trajectory stride=\"1\" filename=\"pos_centroid\" cell_units=\"angstrom\"> x_centroid{angstrom} </trajectory>\n",
    "    <trajectory stride=\"1\" filename=\"frc\"> forces </trajectory>\n",
    "    <checkpoint stride=\"1000\" overwrite=\"False\"/>\n",
    "  </output>\n",
    "  <total_steps> 1000 </total_steps>\n",
    "  <ffsocket mode='inet' name='mycalc' pbc='True'>\n",
    "    <address>localhost</address>\n",
    "    <port>10200</port>\n",
    "  </ffsocket>\n",
    "  <system>\n",
    "    <initialize nbeads='1'>\n",
    "      <file mode='ase'>  init.xyz </file>\n",
    "      <velocities mode=\"thermal\" units=\"kelvin\"> 20 </velocities>\n",
    "    </initialize>\n",
    "    <forces>\n",
    "      <force forcefield='mycalc'> </force>\n",
    "    </forces>\n",
    "    <ensemble>\n",
    "      <temperature units='kelvin'> 300.0 </temperature>\n",
    "    </ensemble>\n",
    "    <motion mode='dynamics'>\n",
    "      <dynamics mode='nvt'>\n",
    "        <timestep units='femtosecond'> 0.5 </timestep>\n",
    "        <thermostat mode='langevin'>\n",
    "          <tau units='femtosecond'>10</tau>\n",
    "        </thermostat>\n",
    "      </dynamics>\n",
    "    </motion>\n",
    "  </system>\n",
    "</simulation>\n",
    "\"\"\"\n",
    "\n",
    "calc_dir = DATA_DIR + \"/results/test_run/\"\n",
    "calculator = 'xtb'\n",
    "num_instances = 1"
   ]
  },
  {
   "cell_type": "code",
   "execution_count": 26,
   "metadata": {},
   "outputs": [
    {
     "name": "stdout",
     "output_type": "stream",
     "text": [
      "Launching i-pi...\n",
      "bash /home/mm/repos/data/results/test_run/launch.sh\n",
      "Launched! Please manually check if i-pi is running.\n"
     ]
    },
    {
     "data": {
      "text/plain": [
       "0"
      ]
     },
     "execution_count": 26,
     "metadata": {},
     "output_type": "execute_result"
    }
   ],
   "source": [
    "from fande import ipi\n",
    "ipi.launch(init_structure, calculator, num_instances, calc_dir, input_xml_str)"
   ]
  },
  {
   "cell_type": "code",
   "execution_count": 27,
   "metadata": {},
   "outputs": [
    {
     "data": {
      "text/plain": [
       "'/home/mm/repos/rotor-gp/code'"
      ]
     },
     "execution_count": 27,
     "metadata": {},
     "output_type": "execute_result"
    }
   ],
   "source": [
    "import os\n",
    "os.getcwd()"
   ]
  },
  {
   "cell_type": "code",
   "execution_count": 28,
   "metadata": {},
   "outputs": [
    {
     "data": {
      "text/plain": [
       "0"
      ]
     },
     "execution_count": 28,
     "metadata": {},
     "output_type": "execute_result"
    }
   ],
   "source": [
    "ipi.exit_calculation(calc_dir)"
   ]
  },
  {
   "cell_type": "code",
   "execution_count": 31,
   "metadata": {},
   "outputs": [
    {
     "data": {
      "text/plain": [
       "0"
      ]
     },
     "execution_count": 31,
     "metadata": {},
     "output_type": "execute_result"
    }
   ],
   "source": [
    "ipi.kill_all()"
   ]
  },
  {
   "cell_type": "code",
   "execution_count": 30,
   "metadata": {},
   "outputs": [
    {
     "name": "stderr",
     "output_type": "stream",
     "text": [
      "rm: cannot remove 'EXIT': No such file or directory\n"
     ]
    },
    {
     "data": {
      "text/plain": [
       "0"
      ]
     },
     "execution_count": 30,
     "metadata": {},
     "output_type": "execute_result"
    }
   ],
   "source": [
    "ipi.restart(calc_dir)"
   ]
  }
 ],
 "metadata": {
  "kernelspec": {
   "display_name": "test_env",
   "language": "python",
   "name": "python3"
  },
  "language_info": {
   "codemirror_mode": {
    "name": "ipython",
    "version": 3
   },
   "file_extension": ".py",
   "mimetype": "text/x-python",
   "name": "python",
   "nbconvert_exporter": "python",
   "pygments_lexer": "ipython3",
   "version": "3.10.13"
  }
 },
 "nbformat": 4,
 "nbformat_minor": 2
}
