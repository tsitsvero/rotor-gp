{
 "cells": [
  {
   "cell_type": "markdown",
   "metadata": {},
   "source": [
    "# (Meta-)Dynamics of rotor systems"
   ]
  },
  {
   "cell_type": "markdown",
   "metadata": {},
   "source": [
    "run with dftb_plumed conda environment"
   ]
  },
  {
   "cell_type": "code",
   "execution_count": 5,
   "metadata": {},
   "outputs": [
    {
     "name": "stderr",
     "output_type": "stream",
     "text": [
      "/home/dlbox2/anaconda3/envs/fande/lib/python3.10/site-packages/ase/io/cif.py:401: UserWarning: crystal system 'triclinic' is not interpreted for space group Spacegroup(2, setting=1). This may result in wrong setting!\n",
      "  warnings.warn(\n"
     ]
    }
   ],
   "source": [
    "from ase.visualize import view\n",
    "from ase.io import read, write\n",
    "\n",
    "atoms = read('../../structures/structures/new_systems/ktu_002.cif')\n",
    "\n",
    "# view(atoms)\n",
    "# len(atoms)"
   ]
  },
  {
   "cell_type": "code",
   "execution_count": 6,
   "metadata": {},
   "outputs": [],
   "source": [
    "atoms.write('ktu_002.xyz', format='xyz')"
   ]
  },
  {
   "cell_type": "code",
   "execution_count": null,
   "metadata": {},
   "outputs": [],
   "source": [
    "# !ulimit -s unlimited\n",
    "# conda env export > dftb_plumed.yml\n",
    "# https://wiki.fysik.dtu.dk/ase/ase/calculators/dftb.html\n",
    "# https://dftb.org/parameters/download\n",
    "\n",
    "# export ASE_DFTB_COMMAND=\"/path/to/dftb+ > PREFIX.out\"\n",
    "# export DFTB_PREFIX=/path/to/mio-0-1/\n",
    "import os\n",
    "\n",
    "os.environ['OMP_NUM_THREADS'] = \"6,1\"\n",
    "os.environ[\"ASE_DFTB_COMMAND\"] = \"ulimit -s unlimited; /home/dlb/anaconda3/envs/dftb_plumed/bin/dftb+ > PREFIX.out\"\n",
    "os.environ[\"DFTB_PREFIX\"] = \"/home/dlb/Downloads/pbc-0-3\"\n",
    "# os.environ[\"DFTB_PREFIX\"] = \"/home/dlb/Downloads/auorgap-1-1\" # doesn't work for now with crystal...\n",
    "\n",
    "# import os\n",
    "\n",
    "# os.environ[\"ASE_DFTB_COMMAND\"] = \"/home/dlb/anaconda3/envs/qe/bin/dftb+\"\n",
    "# os.environ[\"DFTB_PREFIX\"] = \"/home/dlb/Downloads/pbc-0-3\""
   ]
  },
  {
   "cell_type": "code",
   "execution_count": null,
   "metadata": {},
   "outputs": [],
   "source": [
    "# %%capture cap\n",
    "\n",
    "%load_ext autoreload\n",
    "%autoreload 2\n",
    "\n",
    "\n",
    "# https://www.plumed.org/doc-v2.7/user-doc/html/_m_e_t_a_d.html\n",
    "# https://github.com/dftbplus/dftbplus/issues/1064\n",
    "# try with numpy 1.22　\n",
    "# https://gitlab.com/Sucerquia/ase-plumed_tutorial\n",
    "\n",
    "from ase.calculators.lj import LennardJones\n",
    "# from ase.calculators.plumed import Plumed\n",
    "from runner.plumed import Plumed\n",
    "# from plumed import Plumed\n",
    "from ase.constraints import FixedPlane\n",
    "from ase.io import read\n",
    "from ase import units\n",
    "\n",
    "from ase.geometry.analysis import Analysis\n",
    "from ase.constraints import FixAtoms, FixBondLengths\n",
    "\n",
    "# import plumed\n",
    "\n",
    "from ase.calculators.dftb import Dftb\n",
    "\n",
    "\n",
    "\n",
    "ps = 1000 * units.fs\n",
    "timestep = 0.1 # in what units? \n",
    "\n",
    "# height 30.50 is fast\n",
    "\n",
    "setup = [f\"UNITS LENGTH=A TIME={1/ps} ENERGY={units.mol/units.kJ}\",\n",
    "        #  \"d: DISTANCE ATOMS=1,2 \",\n",
    "        \"at8: FIXEDATOM AT=-0.3652684296711638,5.59639757164289,11.089411052917308\",\n",
    "        \"at6: FIXEDATOM AT=-0.5388786945959876,6.471914514609469,10.07028636148657\",\n",
    "        \"c1: CENTER ATOMS=at8,at6\",\n",
    "        \"c2: CENTER ATOMS=67,69,73,77,79,83\",\n",
    "        \"c3: CENTER ATOMS=7,9,11,13,15,17\",\n",
    "        \"c4: CENTER ATOMS=79,83\",\n",
    "         \"phi: TORSION ATOMS=c1,c2,c3,c4\",\n",
    "         \"metad: METAD ARG=phi SIGMA=1.10 HEIGHT=15.0 BIASFACTOR=5 TEMP=300.0 PACE=1\", #GRID_MIN=-pi GRID_MAX=pi GRID_BIN=1500\n",
    "         # \"ARG=d SIGMA=0.20,0.20 HEIGHT=1.20 BIASFACTOR=5 TEMP=300.0 PACE=500\",\n",
    "         # \"GRID_MIN=0,0 GRID_MAX=1.0,1.0 GRID_BIN=150,150\",\n",
    "         \"PRINT ARG=phi STRIDE=1 FILE=../results/test/plumed/COLVAR\",\n",
    "         # \"CALC_RCT \",\n",
    "         # \"RCT_USTRIDE=10\",\n",
    "         # \"...\",\n",
    "         \"FLUSH STRIDE=1000\"]\n",
    "\n",
    "# setup = f\"\"\"\n",
    "# d: DISTANCE ATOMS=1,2 \n",
    "# metad: METAD ...\n",
    "#    ARG=d SIGMA=0.20,0.20 HEIGHT=1.20 BIASFACTOR=5 TEMP=300.0 PACE=500 \n",
    "#    GRID_MIN=0,0 GRID_MAX=1.0,1.0 GRID_BIN=150,150 \n",
    "#    CALC_RCT \n",
    "#    RCT_USTRIDE=10 \n",
    "# ...\n",
    "# PRINT ARG=d STRIDE=100 FILE=COLVAR\n",
    "# \"\"\"\n",
    "# print(setup)\n",
    "\n",
    "from ase.build import molecule\n",
    "\n",
    "atoms = read('../data/structures/new_systems/ktu_002.cif')\n",
    "# atoms = molecule('CH3CH2NH2')\n",
    "# atoms = read('../structures/Ar_isomer.xyz')\n",
    "# atoms = read('../structures/KTU-183_2_auto.cif')\n",
    "# atoms=read(\"../structures/HIK-143 293K-activated.cif\")\n",
    "# atoms=read(\"../structures/KTU-183_2_auto_dimer.xyz\")\n",
    "# cons = [FixedPlane(i, [0, 0, 1]) for i in range(7)]\n",
    "# atoms.set_constraint(cons)\n",
    "# atoms.set_masses([1, 1, 1, 1, 1, 1, 1])\n",
    "\n",
    "# calc_base = LennardJones(rc=2.5, r0=3.)\n",
    "\n",
    "\n",
    "fix_atoms = FixAtoms(indices=[atom.index for atom in atoms if atom.symbol=='N' or atom.symbol=='Si' or atom.symbol=='O'])\n",
    "# # ch_bonds = Analysis(atoms).get_bonds(\"C\", \"H\")[0]\n",
    "# # fix_bond_lengths = FixBondLengths(ch_bonds)\n",
    "# # atoms.set_constraint([fix_atoms, fix_bond_lengths])\n",
    "atoms.set_constraint(fix_atoms)\n",
    "\n",
    "\n",
    "\n",
    "calc_base = Dftb(atoms=atoms,\n",
    "            label='crystal',\n",
    "            # Hamiltonian_ = \"xTB\",\n",
    "            # Hamiltonian_Method = \"GFN1-xTB\",\n",
    "            # Hamiltonian_MaxAngularMomentum_='',\n",
    "            # Hamiltonian_MaxAngularMomentum_O='p',\n",
    "            # Hamiltonian_MaxAngularMomentum_H='s',\n",
    "            # Hamiltonian_MaxAngularMomentum_N='s',\n",
    "            # Hamiltonian_MaxAngularMomentum_C='s',\n",
    "            # Hamiltonian_MaxAngularMomentum_Si='s',\n",
    "            kpts=(1,1,1),\n",
    "            # Hamiltonian_SCC='Yes',\n",
    "            # Verbosity=0,\n",
    "            # Hamiltonian_OrbitalResolvedSCC = 'Yes',\n",
    "            # Hamiltonian_SCCTolerance=1e-15,\n",
    "            # kpts=None\n",
    "            # Driver_='ConjugateGradient',\n",
    "            # Driver_MaxForceComponent=1e-3,\n",
    "            # Driver_MaxSteps=200,\n",
    "            # Driver_LatticeOpt = 'Yes',\n",
    "            # Driver_AppendGeometries = 'Yes'\n",
    "            )\n",
    "\n",
    "atoms.calc = Plumed(calc=calc_base,\n",
    "                    input=setup,\n",
    "                    timestep=timestep,\n",
    "                    atoms=atoms,\n",
    "                    kT=0.1,\n",
    "                    log='../results/test/plumed/plumed_log.log')\n",
    "\n",
    "from ase.md.verlet import VelocityVerlet\n",
    "from ase.md.langevin import Langevin\n",
    "\n",
    "# atoms.calc = calc_base\n",
    "\n",
    "# calc=LennardJones(rc=2.5, r0=3.)\n",
    "# atoms.calc = calc\n",
    "\n",
    "\n",
    "\n",
    "dyn = Langevin(atoms, timestep, temperature_K=0.1/units.kB, friction=0.1,\n",
    "               fixcm=True, trajectory='../results/test/plumed/MTD_output.xyz')\n",
    "# We want to run MD with constant energy using the VelocityVerlet algorithm.\n",
    "# dyn = VelocityVerlet(atoms, timestep, trajectory='../results/test/plumed/UnbiasMD.xyz')  # 5 fs time step.\n",
    "# https://wiki.fysik.dtu.dk/ase/ase/md.html\n",
    "\n",
    "dyn.run(500)\n"
   ]
  },
  {
   "cell_type": "code",
   "execution_count": null,
   "metadata": {},
   "outputs": [],
   "source": [
    "from ase.visualize import view\n",
    "view(atoms)\n",
    "\n"
   ]
  },
  {
   "cell_type": "code",
   "execution_count": null,
   "metadata": {},
   "outputs": [],
   "source": [
    "print(atoms[6])\n",
    "print(atoms[8])\n",
    "print(atoms.get_cell())"
   ]
  },
  {
   "cell_type": "code",
   "execution_count": null,
   "metadata": {},
   "outputs": [],
   "source": [
    "from ase.io import read, write\n",
    "from ase.visualize import view\n",
    "\n",
    "traj = read('../results/test/plumed/MTD_output.xyz', index=\":\")\n",
    "# traj = read('/home/dlb/Downloads/UnbiasMD.xyz', index=\":\")\n",
    "# write(\"test/plumed/biased_MTD.xyz\", traj, format=\"extxyz\")\n",
    "# traj_biased = read('test/plumed/biased_MTD.xyz', index=\":\")\n",
    "# traj_unbiased = read('test/plumed/.xyz', index=\":\")\n",
    "\n",
    "view(traj)"
   ]
  },
  {
   "cell_type": "code",
   "execution_count": null,
   "metadata": {},
   "outputs": [],
   "source": [
    "traj[1].get_forces()"
   ]
  },
  {
   "cell_type": "code",
   "execution_count": null,
   "metadata": {},
   "outputs": [],
   "source": [
    "# del test_at\n",
    "\n",
    "test_at = traj[1].copy()\n",
    "\n",
    "\n",
    "test_at.calc = calc_base\n",
    "\n",
    "# print(test_at.get_potential_energy())\n",
    "print(test_at.get_forces())"
   ]
  },
  {
   "cell_type": "code",
   "execution_count": null,
   "metadata": {},
   "outputs": [],
   "source": [
    "# # Get unbiased forces:\n",
    "\n",
    "# traj_unbiased = read('test/plumed/biased_MTD.xyz', index=\":\")\n",
    "\n",
    "# for im in traj_unbiased:\n",
    "#         im.calc = calc_base\n",
    "#         # im.get_forces()\n",
    "#         print(im.get_forces())\n",
    "\n",
    "# write(\"test/plumed/unbiased_MTD.xyz\", traj_unbiased, format=\"extxyz\")"
   ]
  },
  {
   "cell_type": "code",
   "execution_count": null,
   "metadata": {},
   "outputs": [],
   "source": [
    "import numpy as np\n",
    "import matplotlib.pyplot as plt\n",
    "\n",
    "traj_biased = read('test/plumed/biased_MTD.xyz', index=\":\")\n",
    "traj_unbiased = read('test/plumed/unbiased_MTD.xyz', index=\":\")\n",
    "\n",
    "f_diff = np.zeros((len(traj_biased), len(traj_biased[0]), 3))\n",
    "e_diff = np.zeros((len(traj_biased)))\n",
    "\n",
    "for i in range(len(traj_biased)):\n",
    "        f_diff[i] = traj_biased[i].get_forces() - traj_unbiased[i].get_forces()\n",
    "        e_diff[i] = traj_biased[i].get_potential_energy() - traj_unbiased[i].get_potential_energy()\n",
    "\n",
    "\n",
    "        # print(f_diff)\n",
    "\n",
    "force_diffs = np.absolute(f_diff).sum(axis=(1,2))\n",
    "plt.plot(force_diffs)\n",
    "plt.show()\n",
    "\n",
    "\n",
    "energy_diffs = np.absolute(e_diff)\n",
    "plt.plot(energy_diffs)\n",
    "plt.show()\n",
    "# f_diff[0].absolutize().sum()"
   ]
  },
  {
   "cell_type": "code",
   "execution_count": null,
   "metadata": {},
   "outputs": [],
   "source": []
  },
  {
   "cell_type": "markdown",
   "metadata": {},
   "source": [
    "## Extract connected components"
   ]
  },
  {
   "cell_type": "code",
   "execution_count": null,
   "metadata": {},
   "outputs": [],
   "source": [
    "from ase.build import connected_indices, connected_atoms, separate, split_bond\n",
    "# view(connected_atoms(atoms, 0))\n",
    "# separate(atoms)\n",
    "view(split_bond(atoms, 0, 1))"
   ]
  },
  {
   "cell_type": "markdown",
   "metadata": {},
   "source": [
    "## Make supercell"
   ]
  },
  {
   "cell_type": "code",
   "execution_count": null,
   "metadata": {},
   "outputs": [],
   "source": [
    "from ase.build import make_supercell\n",
    "\n",
    "new_cryst = make_supercell(crystal,[[2,0,0], [0,2,0], [0,0,2]])\n",
    "print(new_cryst)\n",
    "view(new_cryst)"
   ]
  },
  {
   "cell_type": "code",
   "execution_count": null,
   "metadata": {},
   "outputs": [],
   "source": []
  },
  {
   "cell_type": "code",
   "execution_count": null,
   "metadata": {},
   "outputs": [],
   "source": []
  }
 ],
 "metadata": {
  "kernelspec": {
   "display_name": "Python 3.10.8",
   "language": "python",
   "name": "python3"
  },
  "language_info": {
   "codemirror_mode": {
    "name": "ipython",
    "version": 3
   },
   "file_extension": ".py",
   "mimetype": "text/x-python",
   "name": "python",
   "nbconvert_exporter": "python",
   "pygments_lexer": "ipython3",
   "version": "3.10.10"
  },
  "vscode": {
   "interpreter": {
    "hash": "c00138ceddc4acb3aca3a3f75cd20227309fc08023e63bfda210cdfb2c889af2"
   }
  }
 },
 "nbformat": 4,
 "nbformat_minor": 2
}
