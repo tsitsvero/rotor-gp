{
 "cells": [
  {
   "cell_type": "code",
   "execution_count": 214,
   "metadata": {},
   "outputs": [],
   "source": [
    "# ! jupyter nbconvert --to python --RegexRemovePreprocessor.patterns=\"^%\"  train_and_run.ipynb\n",
    "\n",
    "# RULES:\n",
    "# 1. Do not make plot.show() only plot.savefig()"
   ]
  },
  {
   "cell_type": "code",
   "execution_count": 2,
   "metadata": {},
   "outputs": [],
   "source": [
    "%load_ext autoreload\n",
    "%autoreload 2"
   ]
  },
  {
   "cell_type": "markdown",
   "metadata": {},
   "source": [
    "## Make sweep"
   ]
  },
  {
   "cell_type": "code",
   "execution_count": 56,
   "metadata": {},
   "outputs": [
    {
     "data": {
      "text/plain": []
     },
     "execution_count": 56,
     "metadata": {},
     "output_type": "execute_result"
    }
   ],
   "source": [
    "# # https://docs.wandb.ai/guides/sweeps/walkthrough\n",
    "\n",
    "import os\n",
    "machine_name = os.uname()[1]\n",
    "import wandb\n",
    "wandb.init(project=\"rotor-gp\", save_code=True, notes=\"hello\", id=machine_name, mode='disabled')\n",
    "\n",
    "# sweep_configuration = {\n",
    "#     'method': 'random',\n",
    "#     'metric': \n",
    "#     {\n",
    "#         'goal': 'minimize', \n",
    "#         'name': 'score'\n",
    "#         },\n",
    "#     'parameters': \n",
    "#     {\n",
    "#         'x': {'max': 0.1, 'min': 0.01},\n",
    "#         'y': {'values': [1, 3, 7]},\n",
    "#      }\n",
    "# }"
   ]
  },
  {
   "cell_type": "markdown",
   "metadata": {},
   "source": [
    "## Data loading part"
   ]
  },
  {
   "cell_type": "code",
   "execution_count": 57,
   "metadata": {},
   "outputs": [],
   "source": [
    "from prepare_model import prepare_data, sample_data, prepare_model\n"
   ]
  },
  {
   "cell_type": "code",
   "execution_count": 67,
   "metadata": {},
   "outputs": [
    {
     "name": "stdout",
     "output_type": "stream",
     "text": [
      "Saving data to directory:  /misc/home/qklmn/repos/rotor-gp/results/train_and_run/2023-08-10_16 56-53_356265\n",
      "Loading training data...\n",
      "Length of the train trajectory:  400\n",
      "Total number of frames is 400\n",
      "Total number of batches is 400\n",
      "Total length of traj is 400\n",
      "Total number of batches 400\n",
      "Calculating invariants on trajectory with librascal...\n"
     ]
    },
    {
     "name": "stderr",
     "output_type": "stream",
     "text": [
      "100%|██████████| 400/400 [01:05<00:00,  6.07it/s]\n"
     ]
    },
    {
     "name": "stdout",
     "output_type": "stream",
     "text": [
      "Total number of frames is 20\n",
      "Total number of batches is 20\n",
      "Total length of traj is 20\n",
      "Total number of batches 20\n",
      "Calculating invariants on trajectory with librascal...\n"
     ]
    },
    {
     "name": "stderr",
     "output_type": "stream",
     "text": [
      "100%|██████████| 20/20 [00:02<00:00,  7.38it/s]\n"
     ]
    },
    {
     "name": "stdout",
     "output_type": "stream",
     "text": [
      "\n",
      "-----------\n",
      "Group  0\n",
      "-----------\n",
      "Number of training points for group 0:  14400\n",
      "Number of test points for group 0:  720\n",
      "\n",
      "-----------\n",
      "Group  1\n",
      "-----------\n",
      "Number of training points for group 1:  14400\n",
      "Number of test points for group 1:  720\n",
      "\n",
      "-----------\n",
      "Group  2\n",
      "-----------\n",
      "Number of training points for group 2:  21600\n",
      "Number of test points for group 2:  1080\n",
      "\n",
      "-----------\n",
      "Group  3\n",
      "-----------\n",
      "Number of training points for group 3:  129600\n",
      "Number of test points for group 3:  6480\n",
      "\n",
      "-----------\n",
      "Group  4\n",
      "-----------\n",
      "Number of training points for group 4:  7200\n",
      "Number of test points for group 4:  360\n",
      "\n",
      "-----------\n",
      "Group  5\n",
      "-----------\n",
      "Number of training points for group 5:  7200\n",
      "Number of test points for group 5:  360\n",
      "\n",
      "-----------\n",
      "Group  6\n",
      "-----------\n",
      "Number of training points for group 6:  14400\n",
      "Number of test points for group 6:  720\n",
      "\n",
      "-----------\n",
      "Group  7\n",
      "-----------\n",
      "Number of training points for group 7:  14400\n",
      "Number of test points for group 7:  720\n",
      "\n",
      "-----------\n",
      "Group  8\n",
      "-----------\n",
      "Number of training points for group 8:  7200\n",
      "Number of test points for group 8:  360\n",
      "\n",
      "-----------\n",
      "Group  9\n",
      "-----------\n",
      "Number of training points for group 9:  21600\n",
      "Number of test points for group 9:  1080\n",
      "\n",
      "-----------\n",
      "Group  10\n",
      "-----------\n",
      "Number of training points for group 10:  43200\n",
      "Number of test points for group 10:  2160\n",
      "\n",
      "-----------\n",
      "Group  11\n",
      "-----------\n",
      "Number of training points for group 11:  7200\n",
      "Number of test points for group 11:  360\n",
      "\n",
      "-----------\n",
      "Group  12\n",
      "-----------\n",
      "Number of training points for group 12:  7200\n",
      "Number of test points for group 12:  360\n",
      "\n",
      "-----------\n",
      "Group  13\n",
      "-----------\n",
      "Number of training points for group 13:  7200\n",
      "Number of test points for group 13:  360\n"
     ]
    }
   ],
   "source": [
    "# Hyperparameters:\n",
    "hparams = {\n",
    "        'dtype' : 'float32',\n",
    "        'device' : 'gpu'\n",
    "        }\n",
    "\n",
    "# Descriptors parameters:\n",
    "# https://github.com/lab-cosmo/librascal/blob/master/examples/MLIP_example.ipynb\n",
    "soap_params = {\n",
    "# 'species': [\"H\", \"C\", \"O\", \"N\", \"Si\"],\n",
    "# 'periodic': True,\n",
    "'interaction_cutoff': 3.0,\n",
    "'gaussian_sigma_constant': 0.3,\n",
    "'max_radial': 3,\n",
    "'max_angular': 3,\n",
    "'cutoff_smooth_width': 0.1,\n",
    "# 'average': \"off\",\n",
    "# 'crossover': True,\n",
    "# 'dtype': \"float64\",\n",
    "# 'n_jobs': 10,\n",
    "# 'sparse': False,\n",
    "# 'positions': [7, 11, 15] # ignored\n",
    "}\n",
    "\n",
    "\n",
    "fdm = prepare_data(hparams, soap_params, traj_sample_rate=1)"
   ]
  },
  {
   "cell_type": "code",
   "execution_count": 73,
   "metadata": {},
   "outputs": [
    {
     "name": "stdout",
     "output_type": "stream",
     "text": [
      "Dataloader for group 0 created\n",
      "Number of samples in dataloader: 6000\n",
      "Dataloader for group 1 created\n",
      "Number of samples in dataloader: 6000\n",
      "Dataloader for group 2 created\n",
      "Number of samples in dataloader: 6000\n",
      "Dataloader for group 3 created\n",
      "Number of samples in dataloader: 6000\n",
      "Dataloader for group 4 created\n",
      "Number of samples in dataloader: 6000\n",
      "Dataloader for group 5 created\n",
      "Number of samples in dataloader: 6000\n",
      "Dataloader for group 6 created\n",
      "Number of samples in dataloader: 6000\n",
      "Dataloader for group 7 created\n",
      "Number of samples in dataloader: 6000\n",
      "Dataloader for group 8 created\n",
      "Number of samples in dataloader: 6000\n",
      "Dataloader for group 9 created\n",
      "Number of samples in dataloader: 6000\n",
      "Dataloader for group 10 created\n",
      "Number of samples in dataloader: 6000\n",
      "Dataloader for group 11 created\n",
      "Number of samples in dataloader: 6000\n",
      "Dataloader for group 12 created\n",
      "Number of samples in dataloader: 6000\n",
      "Dataloader for group 13 created\n",
      "Number of samples in dataloader: 6000\n"
     ]
    }
   ],
   "source": [
    "#[1, 1, 1, 1, 1, 1, 1, 1, 1, 1, 1, 1, 1, 1] \n",
    "\n",
    "train_data_loaders = sample_data(fdm, N_samples=6000)"
   ]
  },
  {
   "cell_type": "markdown",
   "metadata": {},
   "source": [
    "## Training part"
   ]
  },
  {
   "cell_type": "code",
   "execution_count": 78,
   "metadata": {},
   "outputs": [
    {
     "data": {
      "text/plain": [
       "'/misc/home/qklmn/repos/rotor-gp/results/train_and_run/2023-08-10_16 56-53_356265'"
      ]
     },
     "execution_count": 78,
     "metadata": {},
     "output_type": "execute_result"
    }
   ],
   "source": [
    "os.getcwd()"
   ]
  },
  {
   "cell_type": "code",
   "execution_count": 74,
   "metadata": {},
   "outputs": [
    {
     "name": "stderr",
     "output_type": "stream",
     "text": [
      "GPU available: True (cuda), used: True\n",
      "TPU available: False, using: 0 TPU cores\n",
      "IPU available: False, using: 0 IPUs\n",
      "HPU available: False, using: 0 HPUs\n",
      "GPU available: True (cuda), used: True\n",
      "TPU available: False, using: 0 TPU cores\n",
      "IPU available: False, using: 0 IPUs\n",
      "HPU available: False, using: 0 HPUs\n",
      "GPU available: True (cuda), used: True\n",
      "TPU available: False, using: 0 TPU cores\n",
      "IPU available: False, using: 0 IPUs\n",
      "HPU available: False, using: 0 HPUs\n",
      "GPU available: True (cuda), used: True\n",
      "TPU available: False, using: 0 TPU cores\n",
      "IPU available: False, using: 0 IPUs\n",
      "HPU available: False, using: 0 HPUs\n"
     ]
    },
    {
     "name": "stdout",
     "output_type": "stream",
     "text": [
      "\n",
      "ModelForces initialized\n",
      "\n",
      "ModelForces initialized\n",
      "\n",
      "ModelForces initialized\n",
      "\n",
      "ModelForces initialized\n",
      "\n",
      "ModelForces initialized\n",
      "\n",
      "ModelForces initialized\n",
      "\n",
      "ModelForces initialized\n",
      "\n",
      "ModelForces initialized\n",
      "\n",
      "ModelForces initialized\n",
      "\n",
      "ModelForces initialized\n",
      "\n",
      "ModelForces initialized\n",
      "\n",
      "ModelForces initialized\n",
      "\n",
      "ModelForces initialized\n",
      "\n",
      "ModelForces initialized\n"
     ]
    },
    {
     "name": "stderr",
     "output_type": "stream",
     "text": [
      "GPU available: True (cuda), used: True\n",
      "TPU available: False, using: 0 TPU cores\n",
      "IPU available: False, using: 0 IPUs\n",
      "HPU available: False, using: 0 HPUs\n",
      "GPU available: True (cuda), used: True\n",
      "TPU available: False, using: 0 TPU cores\n",
      "IPU available: False, using: 0 IPUs\n",
      "HPU available: False, using: 0 HPUs\n",
      "GPU available: True (cuda), used: True\n",
      "TPU available: False, using: 0 TPU cores\n",
      "IPU available: False, using: 0 IPUs\n",
      "HPU available: False, using: 0 HPUs\n",
      "GPU available: True (cuda), used: True\n",
      "TPU available: False, using: 0 TPU cores\n",
      "IPU available: False, using: 0 IPUs\n",
      "HPU available: False, using: 0 HPUs\n",
      "GPU available: True (cuda), used: True\n",
      "TPU available: False, using: 0 TPU cores\n",
      "IPU available: False, using: 0 IPUs\n",
      "HPU available: False, using: 0 HPUs\n",
      "GPU available: True (cuda), used: True\n",
      "TPU available: False, using: 0 TPU cores\n",
      "IPU available: False, using: 0 IPUs\n",
      "HPU available: False, using: 0 HPUs\n",
      "GPU available: True (cuda), used: True\n",
      "TPU available: False, using: 0 TPU cores\n",
      "IPU available: False, using: 0 IPUs\n",
      "HPU available: False, using: 0 HPUs\n",
      "GPU available: True (cuda), used: True\n",
      "TPU available: False, using: 0 TPU cores\n",
      "IPU available: False, using: 0 IPUs\n",
      "HPU available: False, using: 0 HPUs\n",
      "GPU available: True (cuda), used: True\n",
      "TPU available: False, using: 0 TPU cores\n",
      "IPU available: False, using: 0 IPUs\n",
      "HPU available: False, using: 0 HPUs\n",
      "GPU available: True (cuda), used: True\n",
      "TPU available: False, using: 0 TPU cores\n",
      "IPU available: False, using: 0 IPUs\n",
      "HPU available: False, using: 0 HPUs\n",
      "LOCAL_RANK: 0 - CUDA_VISIBLE_DEVICES: [5]\n",
      "\n",
      "  | Name       | Type                       | Params\n",
      "----------------------------------------------------------\n",
      "0 | likelihood | GaussianLikelihood         | 1     \n",
      "1 | model      | ExactGPModelForces         | 542   \n",
      "2 | mll        | ExactMarginalLogLikelihood | 542   \n",
      "----------------------------------------------------------\n",
      "542       Trainable params\n",
      "0         Non-trainable params\n",
      "542       Total params\n",
      "0.002     Total estimated model params size (MB)\n",
      "/home/qklmn/mambaforge/envs/gpuenv/lib/python3.10/site-packages/pytorch_lightning/trainer/connectors/data_connector.py:432: PossibleUserWarning:\n",
      "\n",
      "The dataloader, train_dataloader, does not have many workers which may be a bottleneck. Consider increasing the value of the `num_workers` argument` (try 56 which is the number of cpus on this machine) in the `DataLoader` init to improve performance.\n",
      "\n",
      "/home/qklmn/mambaforge/envs/gpuenv/lib/python3.10/site-packages/pytorch_lightning/loops/fit_loop.py:280: PossibleUserWarning:\n",
      "\n",
      "The number of training batches (1) is smaller than the logging interval Trainer(log_every_n_steps=50). Set a lower value for log_every_n_steps if you want to see logs for the training epoch.\n",
      "\n"
     ]
    },
    {
     "name": "stdout",
     "output_type": "stream",
     "text": [
      "Training force model 0 (Total 14 models)\n",
      "Epoch 0: 100%|██████████| 1/1 [00:00<00:00, 10.10it/s, v_num=42]"
     ]
    },
    {
     "name": "stderr",
     "output_type": "stream",
     "text": [
      "`Trainer.fit` stopped: `max_epochs=1` reached.\n"
     ]
    },
    {
     "name": "stdout",
     "output_type": "stream",
     "text": [
      "Epoch 0: 100%|██████████| 1/1 [00:00<00:00,  9.35it/s, v_num=42]\n"
     ]
    },
    {
     "name": "stderr",
     "output_type": "stream",
     "text": [
      "LOCAL_RANK: 0 - CUDA_VISIBLE_DEVICES: [5]\n",
      "\n",
      "  | Name       | Type                       | Params\n",
      "----------------------------------------------------------\n",
      "0 | likelihood | GaussianLikelihood         | 1     \n",
      "1 | model      | ExactGPModelForces         | 542   \n",
      "2 | mll        | ExactMarginalLogLikelihood | 542   \n",
      "----------------------------------------------------------\n",
      "542       Trainable params\n",
      "0         Non-trainable params\n",
      "542       Total params\n",
      "0.002     Total estimated model params size (MB)\n"
     ]
    },
    {
     "name": "stdout",
     "output_type": "stream",
     "text": [
      "Training force model 1 (Total 14 models)\n",
      "Epoch 0: 100%|██████████| 1/1 [00:00<00:00,  2.01it/s, v_num=43]"
     ]
    },
    {
     "name": "stderr",
     "output_type": "stream",
     "text": [
      "`Trainer.fit` stopped: `max_epochs=1` reached.\n"
     ]
    },
    {
     "name": "stdout",
     "output_type": "stream",
     "text": [
      "Epoch 0: 100%|██████████| 1/1 [00:00<00:00,  1.98it/s, v_num=43]"
     ]
    },
    {
     "name": "stderr",
     "output_type": "stream",
     "text": [
      "LOCAL_RANK: 0 - CUDA_VISIBLE_DEVICES: [5]\n",
      "\n",
      "  | Name       | Type                       | Params\n",
      "----------------------------------------------------------\n",
      "0 | likelihood | GaussianLikelihood         | 1     \n",
      "1 | model      | ExactGPModelForces         | 542   \n",
      "2 | mll        | ExactMarginalLogLikelihood | 542   \n",
      "----------------------------------------------------------\n",
      "542       Trainable params\n",
      "0         Non-trainable params\n",
      "542       Total params\n",
      "0.002     Total estimated model params size (MB)\n"
     ]
    },
    {
     "name": "stdout",
     "output_type": "stream",
     "text": [
      "\n",
      "Training force model 2 (Total 14 models)\n",
      "Epoch 0: 100%|██████████| 1/1 [00:00<00:00, 11.10it/s, v_num=44]"
     ]
    },
    {
     "name": "stderr",
     "output_type": "stream",
     "text": [
      "`Trainer.fit` stopped: `max_epochs=1` reached.\n"
     ]
    },
    {
     "name": "stdout",
     "output_type": "stream",
     "text": [
      "Epoch 0: 100%|██████████| 1/1 [00:00<00:00, 10.21it/s, v_num=44]\n"
     ]
    },
    {
     "name": "stderr",
     "output_type": "stream",
     "text": [
      "LOCAL_RANK: 0 - CUDA_VISIBLE_DEVICES: [5]\n",
      "\n",
      "  | Name       | Type                       | Params\n",
      "----------------------------------------------------------\n",
      "0 | likelihood | GaussianLikelihood         | 1     \n",
      "1 | model      | ExactGPModelForces         | 542   \n",
      "2 | mll        | ExactMarginalLogLikelihood | 542   \n",
      "----------------------------------------------------------\n",
      "542       Trainable params\n",
      "0         Non-trainable params\n",
      "542       Total params\n",
      "0.002     Total estimated model params size (MB)\n"
     ]
    },
    {
     "name": "stdout",
     "output_type": "stream",
     "text": [
      "Training force model 3 (Total 14 models)\n",
      "Epoch 0: 100%|██████████| 1/1 [00:00<00:00, 14.40it/s, v_num=45]"
     ]
    },
    {
     "name": "stderr",
     "output_type": "stream",
     "text": [
      "`Trainer.fit` stopped: `max_epochs=1` reached.\n"
     ]
    },
    {
     "name": "stdout",
     "output_type": "stream",
     "text": [
      "Epoch 0: 100%|██████████| 1/1 [00:00<00:00, 13.13it/s, v_num=45]\n",
      "Training force model 4 (Total 14 models)\n"
     ]
    },
    {
     "name": "stderr",
     "output_type": "stream",
     "text": [
      "LOCAL_RANK: 0 - CUDA_VISIBLE_DEVICES: [5]\n",
      "\n",
      "  | Name       | Type                       | Params\n",
      "----------------------------------------------------------\n",
      "0 | likelihood | GaussianLikelihood         | 1     \n",
      "1 | model      | ExactGPModelForces         | 542   \n",
      "2 | mll        | ExactMarginalLogLikelihood | 542   \n",
      "----------------------------------------------------------\n",
      "542       Trainable params\n",
      "0         Non-trainable params\n",
      "542       Total params\n",
      "0.002     Total estimated model params size (MB)\n"
     ]
    },
    {
     "name": "stdout",
     "output_type": "stream",
     "text": [
      "Epoch 0: 100%|██████████| 1/1 [00:00<00:00, 14.45it/s, v_num=46]"
     ]
    },
    {
     "name": "stderr",
     "output_type": "stream",
     "text": [
      "`Trainer.fit` stopped: `max_epochs=1` reached.\n"
     ]
    },
    {
     "name": "stdout",
     "output_type": "stream",
     "text": [
      "Epoch 0: 100%|██████████| 1/1 [00:00<00:00, 13.13it/s, v_num=46]"
     ]
    },
    {
     "name": "stderr",
     "output_type": "stream",
     "text": [
      "LOCAL_RANK: 0 - CUDA_VISIBLE_DEVICES: [5]\n",
      "\n",
      "  | Name       | Type                       | Params\n",
      "----------------------------------------------------------\n",
      "0 | likelihood | GaussianLikelihood         | 1     \n",
      "1 | model      | ExactGPModelForces         | 542   \n",
      "2 | mll        | ExactMarginalLogLikelihood | 542   \n",
      "----------------------------------------------------------\n",
      "542       Trainable params\n",
      "0         Non-trainable params\n",
      "542       Total params\n",
      "0.002     Total estimated model params size (MB)\n"
     ]
    },
    {
     "name": "stdout",
     "output_type": "stream",
     "text": [
      "\n",
      "Training force model 5 (Total 14 models)\n",
      "Epoch 0: 100%|██████████| 1/1 [00:00<00:00, 14.80it/s, v_num=47]"
     ]
    },
    {
     "name": "stderr",
     "output_type": "stream",
     "text": [
      "`Trainer.fit` stopped: `max_epochs=1` reached.\n"
     ]
    },
    {
     "name": "stdout",
     "output_type": "stream",
     "text": [
      "Epoch 0: 100%|██████████| 1/1 [00:00<00:00, 13.46it/s, v_num=47]"
     ]
    },
    {
     "name": "stderr",
     "output_type": "stream",
     "text": [
      "LOCAL_RANK: 0 - CUDA_VISIBLE_DEVICES: [5]\n",
      "\n",
      "  | Name       | Type                       | Params\n",
      "----------------------------------------------------------\n",
      "0 | likelihood | GaussianLikelihood         | 1     \n",
      "1 | model      | ExactGPModelForces         | 542   \n",
      "2 | mll        | ExactMarginalLogLikelihood | 542   \n",
      "----------------------------------------------------------\n",
      "542       Trainable params\n",
      "0         Non-trainable params\n",
      "542       Total params\n",
      "0.002     Total estimated model params size (MB)\n"
     ]
    },
    {
     "name": "stdout",
     "output_type": "stream",
     "text": [
      "\n",
      "Training force model 6 (Total 14 models)\n",
      "Epoch 0: 100%|██████████| 1/1 [00:00<00:00, 14.79it/s, v_num=48]"
     ]
    },
    {
     "name": "stderr",
     "output_type": "stream",
     "text": [
      "`Trainer.fit` stopped: `max_epochs=1` reached.\n"
     ]
    },
    {
     "name": "stdout",
     "output_type": "stream",
     "text": [
      "Epoch 0: 100%|██████████| 1/1 [00:00<00:00, 13.48it/s, v_num=48]"
     ]
    },
    {
     "name": "stderr",
     "output_type": "stream",
     "text": [
      "LOCAL_RANK: 0 - CUDA_VISIBLE_DEVICES: [5]\n",
      "\n",
      "  | Name       | Type                       | Params\n",
      "----------------------------------------------------------\n",
      "0 | likelihood | GaussianLikelihood         | 1     \n",
      "1 | model      | ExactGPModelForces         | 542   \n",
      "2 | mll        | ExactMarginalLogLikelihood | 542   \n",
      "----------------------------------------------------------\n",
      "542       Trainable params\n",
      "0         Non-trainable params\n",
      "542       Total params\n",
      "0.002     Total estimated model params size (MB)\n"
     ]
    },
    {
     "name": "stdout",
     "output_type": "stream",
     "text": [
      "\n",
      "Training force model 7 (Total 14 models)\n",
      "Epoch 0: 100%|██████████| 1/1 [00:00<00:00, 14.76it/s, v_num=49]"
     ]
    },
    {
     "name": "stderr",
     "output_type": "stream",
     "text": [
      "`Trainer.fit` stopped: `max_epochs=1` reached.\n"
     ]
    },
    {
     "name": "stdout",
     "output_type": "stream",
     "text": [
      "Epoch 0: 100%|██████████| 1/1 [00:00<00:00, 13.49it/s, v_num=49]"
     ]
    },
    {
     "name": "stderr",
     "output_type": "stream",
     "text": [
      "LOCAL_RANK: 0 - CUDA_VISIBLE_DEVICES: [5]\n",
      "\n",
      "  | Name       | Type                       | Params\n",
      "----------------------------------------------------------\n",
      "0 | likelihood | GaussianLikelihood         | 1     \n",
      "1 | model      | ExactGPModelForces         | 542   \n",
      "2 | mll        | ExactMarginalLogLikelihood | 542   \n",
      "----------------------------------------------------------\n",
      "542       Trainable params\n",
      "0         Non-trainable params\n",
      "542       Total params\n",
      "0.002     Total estimated model params size (MB)\n"
     ]
    },
    {
     "name": "stdout",
     "output_type": "stream",
     "text": [
      "\n",
      "Training force model 8 (Total 14 models)\n",
      "Epoch 0: 100%|██████████| 1/1 [00:00<00:00, 15.01it/s, v_num=50]"
     ]
    },
    {
     "name": "stderr",
     "output_type": "stream",
     "text": [
      "`Trainer.fit` stopped: `max_epochs=1` reached.\n"
     ]
    },
    {
     "name": "stdout",
     "output_type": "stream",
     "text": [
      "Epoch 0: 100%|██████████| 1/1 [00:00<00:00, 13.60it/s, v_num=50]"
     ]
    },
    {
     "name": "stderr",
     "output_type": "stream",
     "text": [
      "LOCAL_RANK: 0 - CUDA_VISIBLE_DEVICES: [5]\n",
      "\n",
      "  | Name       | Type                       | Params\n",
      "----------------------------------------------------------\n",
      "0 | likelihood | GaussianLikelihood         | 1     \n",
      "1 | model      | ExactGPModelForces         | 542   \n",
      "2 | mll        | ExactMarginalLogLikelihood | 542   \n",
      "----------------------------------------------------------\n",
      "542       Trainable params\n",
      "0         Non-trainable params\n",
      "542       Total params\n",
      "0.002     Total estimated model params size (MB)\n"
     ]
    },
    {
     "name": "stdout",
     "output_type": "stream",
     "text": [
      "\n",
      "Training force model 9 (Total 14 models)\n",
      "Epoch 0: 100%|██████████| 1/1 [00:00<00:00, 14.91it/s, v_num=51]"
     ]
    },
    {
     "name": "stderr",
     "output_type": "stream",
     "text": [
      "`Trainer.fit` stopped: `max_epochs=1` reached.\n"
     ]
    },
    {
     "name": "stdout",
     "output_type": "stream",
     "text": [
      "Epoch 0: 100%|██████████| 1/1 [00:00<00:00, 13.56it/s, v_num=51]"
     ]
    },
    {
     "name": "stderr",
     "output_type": "stream",
     "text": [
      "LOCAL_RANK: 0 - CUDA_VISIBLE_DEVICES: [5]\n",
      "\n",
      "  | Name       | Type                       | Params\n",
      "----------------------------------------------------------\n",
      "0 | likelihood | GaussianLikelihood         | 1     \n",
      "1 | model      | ExactGPModelForces         | 542   \n",
      "2 | mll        | ExactMarginalLogLikelihood | 542   \n",
      "----------------------------------------------------------\n",
      "542       Trainable params\n",
      "0         Non-trainable params\n",
      "542       Total params\n",
      "0.002     Total estimated model params size (MB)\n"
     ]
    },
    {
     "name": "stdout",
     "output_type": "stream",
     "text": [
      "\n",
      "Training force model 10 (Total 14 models)\n",
      "Epoch 0: 100%|██████████| 1/1 [00:00<00:00, 14.62it/s, v_num=52]"
     ]
    },
    {
     "name": "stderr",
     "output_type": "stream",
     "text": [
      "`Trainer.fit` stopped: `max_epochs=1` reached.\n"
     ]
    },
    {
     "name": "stdout",
     "output_type": "stream",
     "text": [
      "Epoch 0: 100%|██████████| 1/1 [00:00<00:00, 13.29it/s, v_num=52]"
     ]
    },
    {
     "name": "stderr",
     "output_type": "stream",
     "text": [
      "LOCAL_RANK: 0 - CUDA_VISIBLE_DEVICES: [5]\n",
      "\n",
      "  | Name       | Type                       | Params\n",
      "----------------------------------------------------------\n",
      "0 | likelihood | GaussianLikelihood         | 1     \n",
      "1 | model      | ExactGPModelForces         | 542   \n",
      "2 | mll        | ExactMarginalLogLikelihood | 542   \n",
      "----------------------------------------------------------\n",
      "542       Trainable params\n",
      "0         Non-trainable params\n",
      "542       Total params\n",
      "0.002     Total estimated model params size (MB)\n"
     ]
    },
    {
     "name": "stdout",
     "output_type": "stream",
     "text": [
      "\n",
      "Training force model 11 (Total 14 models)\n",
      "Epoch 0: 100%|██████████| 1/1 [00:00<00:00,  2.29it/s, v_num=53]"
     ]
    },
    {
     "name": "stderr",
     "output_type": "stream",
     "text": [
      "`Trainer.fit` stopped: `max_epochs=1` reached.\n"
     ]
    },
    {
     "name": "stdout",
     "output_type": "stream",
     "text": [
      "Epoch 0: 100%|██████████| 1/1 [00:00<00:00,  2.25it/s, v_num=53]"
     ]
    },
    {
     "name": "stderr",
     "output_type": "stream",
     "text": [
      "LOCAL_RANK: 0 - CUDA_VISIBLE_DEVICES: [5]\n",
      "\n",
      "  | Name       | Type                       | Params\n",
      "----------------------------------------------------------\n",
      "0 | likelihood | GaussianLikelihood         | 1     \n",
      "1 | model      | ExactGPModelForces         | 542   \n",
      "2 | mll        | ExactMarginalLogLikelihood | 542   \n",
      "----------------------------------------------------------\n",
      "542       Trainable params\n",
      "0         Non-trainable params\n",
      "542       Total params\n",
      "0.002     Total estimated model params size (MB)\n"
     ]
    },
    {
     "name": "stdout",
     "output_type": "stream",
     "text": [
      "\n",
      "Training force model 12 (Total 14 models)\n",
      "Epoch 0: 100%|██████████| 1/1 [00:00<00:00,  9.65it/s, v_num=54]"
     ]
    },
    {
     "name": "stderr",
     "output_type": "stream",
     "text": [
      "`Trainer.fit` stopped: `max_epochs=1` reached.\n"
     ]
    },
    {
     "name": "stdout",
     "output_type": "stream",
     "text": [
      "Epoch 0: 100%|██████████| 1/1 [00:00<00:00,  8.91it/s, v_num=54]"
     ]
    },
    {
     "name": "stderr",
     "output_type": "stream",
     "text": [
      "LOCAL_RANK: 0 - CUDA_VISIBLE_DEVICES: [5]\n",
      "\n",
      "  | Name       | Type                       | Params\n",
      "----------------------------------------------------------\n",
      "0 | likelihood | GaussianLikelihood         | 1     \n",
      "1 | model      | ExactGPModelForces         | 542   \n",
      "2 | mll        | ExactMarginalLogLikelihood | 542   \n",
      "----------------------------------------------------------\n",
      "542       Trainable params\n",
      "0         Non-trainable params\n",
      "542       Total params\n",
      "0.002     Total estimated model params size (MB)\n"
     ]
    },
    {
     "name": "stdout",
     "output_type": "stream",
     "text": [
      "\n",
      "Training force model 13 (Total 14 models)\n",
      "Epoch 99: 100%|██████████| 1/1 [00:00<00:00, 15.75it/s, v_num=55]"
     ]
    },
    {
     "name": "stderr",
     "output_type": "stream",
     "text": [
      "`Trainer.fit` stopped: `max_epochs=100` reached.\n"
     ]
    },
    {
     "name": "stdout",
     "output_type": "stream",
     "text": [
      "Epoch 99: 100%|██████████| 1/1 [00:00<00:00, 14.27it/s, v_num=55]\n"
     ]
    }
   ],
   "source": [
    "hparams['dtype'] = 'float32'\n",
    "hparams['device'] = 'gpu'\n",
    "\n",
    "# per AG steps and learning rate\n",
    "n_steps = [1, 1, 1, 1, 1, 1, 1, 1, 1, 1, 1, 1, 1, 100] \n",
    "learning_rate = [0.01, 0.01, 0.01, 0.01, 0.01, 0.01, 0.01, 0.01, 0.01, 0.01, 0.01, 0.01, 0.01, 0.01]\n",
    "\n",
    "AG_force_model = prepare_model(\n",
    "    train_data_loaders, \n",
    "    hparams, soap_params, \n",
    "    n_steps, \n",
    "    learning_rate, \n",
    "    gpu_id=0)"
   ]
  },
  {
   "cell_type": "code",
   "execution_count": 79,
   "metadata": {},
   "outputs": [
    {
     "data": {
      "text/plain": [
       "device(type='cpu')"
      ]
     },
     "execution_count": 79,
     "metadata": {},
     "output_type": "execute_result"
    }
   ],
   "source": [
    "AG_force_model.models[0].train_x.device"
   ]
  },
  {
   "cell_type": "markdown",
   "metadata": {},
   "source": [
    "## Testing part"
   ]
  },
  {
   "cell_type": "code",
   "execution_count": 80,
   "metadata": {},
   "outputs": [
    {
     "name": "stdout",
     "output_type": "stream",
     "text": [
      "Error metrics for atomic group  0\n",
      "RMSE:  0.25739154\n",
      "MAE:  0.17790587\n",
      "Max error:  1.7125868\n",
      "Error metrics for atomic group  1\n",
      "RMSE:  0.18433674\n",
      "MAE:  0.13618827\n",
      "Max error:  0.83574927\n",
      "Error metrics for atomic group  2\n",
      "RMSE:  0.27247852\n",
      "MAE:  0.19710188\n",
      "Max error:  1.347577\n",
      "Error metrics for atomic group  3\n",
      "RMSE:  0.256676\n",
      "MAE:  0.19215535\n",
      "Max error:  1.3004866\n",
      "Error metrics for atomic group  4\n",
      "RMSE:  0.27123058\n",
      "MAE:  0.21675222\n",
      "Max error:  0.6221894\n",
      "Error metrics for atomic group  5\n",
      "RMSE:  0.18311852\n",
      "MAE:  0.13915668\n",
      "Max error:  0.56566966\n",
      "Error metrics for atomic group  6\n",
      "RMSE:  0.3527333\n",
      "MAE:  0.26293802\n",
      "Max error:  1.2740905\n",
      "Error metrics for atomic group  7\n",
      "RMSE:  0.2954241\n",
      "MAE:  0.23467758\n",
      "Max error:  0.8386187\n",
      "Error metrics for atomic group  8\n",
      "RMSE:  0.3338904\n",
      "MAE:  0.23434775\n",
      "Max error:  1.2284319\n",
      "Error metrics for atomic group  9\n",
      "RMSE:  0.40509534\n",
      "MAE:  0.32825264\n",
      "Max error:  1.500748\n",
      "Error metrics for atomic group  10\n",
      "RMSE:  0.38844717\n",
      "MAE:  0.306347\n",
      "Max error:  1.3076761\n",
      "Error metrics for atomic group  11\n",
      "RMSE:  0.20932554\n",
      "MAE:  0.17182888\n",
      "Max error:  0.49717462\n",
      "Error metrics for atomic group  12\n",
      "RMSE:  0.44603443\n",
      "MAE:  0.36675957\n",
      "Max error:  1.2261692\n",
      "Error metrics for atomic group  13\n",
      "RMSE:  0.47481045\n",
      "MAE:  0.38770327\n",
      "Max error:  1.3170087\n",
      "Analyzing where predictions are the worst...\n"
     ]
    }
   ],
   "source": [
    "### TESTING PREDICITONS ###\n",
    "\n",
    "# os.makedirs(\"\")\n",
    "\n",
    "from fande.predict import PredictorASE\n",
    "\n",
    "\n",
    "AG_force_model.eval()\n",
    "\n",
    "predictor = PredictorASE(\n",
    "            fdm,\n",
    "            AG_force_model,\n",
    "            # trainer_f,\n",
    "            hparams,\n",
    "            soap_params\n",
    ")\n",
    "\n",
    "rmse_per_model, mae_per_model = predictor.test_errors(view_worst_atoms=True)\n",
    "\n",
    "# rmse_per_model"
   ]
  },
  {
   "cell_type": "code",
   "execution_count": null,
   "metadata": {},
   "outputs": [],
   "source": [
    "from prepare_model import prepare_fande_ase_calc\n",
    "\n",
    "# Hyperparameters:\n",
    "hparams = {\n",
    "        'dtype' : 'float32',\n",
    "        'device' : 'gpu'\n",
    "        }\n",
    "\n",
    "# Descriptors parameters:\n",
    "# https://github.com/lab-cosmo/librascal/blob/master/examples/MLIP_example.ipynb\n",
    "soap_params = {\n",
    "# 'species': [\"H\", \"C\", \"O\", \"N\", \"Si\"],\n",
    "# 'periodic': True,\n",
    "'interaction_cutoff': 3.0,\n",
    "'gaussian_sigma_constant': 0.3,\n",
    "'max_radial': 4,\n",
    "'max_angular': 4,\n",
    "'cutoff_smooth_width': 0.1,\n",
    "# 'average': \"off\",\n",
    "# 'crossover': True,\n",
    "# 'dtype': \"float64\",\n",
    "# 'n_jobs': 10,\n",
    "# 'sparse': False,\n",
    "# 'positions': [7, 11, 15] # ignored\n",
    "}\n",
    "\n",
    "\n",
    "fande_calc = prepare_fande_ase_calc(hparams, soap_params)"
   ]
  },
  {
   "cell_type": "code",
   "execution_count": 136,
   "metadata": {},
   "outputs": [],
   "source": [
    "# from fande.predict import PredictorASE\n",
    "\n",
    "# from fande.ase import FandeCalc\n",
    "\n",
    "\n",
    "\n",
    "# predictor = PredictorASE(\n",
    "#             fdm,\n",
    "#             model_e,\n",
    "#             trainer_e,\n",
    "#             AG_force_model,\n",
    "#             # trainer_f,\n",
    "#             hparams,\n",
    "#             soap_params\n",
    "# )\n",
    "\n",
    "# atoms = traj_test[14].copy()\n",
    "\n",
    "# # predictor.predict_forces_single_snapshot_r(atoms)\n",
    "\n",
    "# atoms = traj_test[5].copy()\n",
    "\n",
    "# atoms.calc = FandeCalc(predictor)\n",
    "\n",
    "# atoms.get_forces()"
   ]
  },
  {
   "cell_type": "code",
   "execution_count": null,
   "metadata": {},
   "outputs": [],
   "source": []
  },
  {
   "cell_type": "code",
   "execution_count": 51,
   "metadata": {},
   "outputs": [
    {
     "name": "stdout",
     "output_type": "stream",
     "text": [
      "Testing performance with (meta-)dynamics run...\n"
     ]
    },
    {
     "name": "stderr",
     "output_type": "stream",
     "text": [
      "/misc/home/qklmn/repos/rotor-gp/code/../../fande/fande/predict/predictors_ase.py:571: UserWarning:\n",
      "\n",
      "Calculating invariants...\n",
      "\n"
     ]
    },
    {
     "name": "stdout",
     "output_type": "stream",
     "text": [
      "Total number of frames is 1\n",
      "Total number of batches is 1\n",
      "Total length of traj is 1\n",
      "Total number of batches 1\n",
      "Calculating invariants on trajectory with librascal...\n"
     ]
    },
    {
     "name": "stderr",
     "output_type": "stream",
     "text": [
      "100%|██████████| 1/1 [00:00<00:00,  5.10it/s]\n",
      "/misc/home/qklmn/repos/rotor-gp/code/../../fande/fande/predict/predictors_ase.py:595: UserWarning:\n",
      "\n",
      "Predicting...\n",
      "\n"
     ]
    },
    {
     "name": "stdout",
     "output_type": "stream",
     "text": [
      "Total number of frames is 1\n",
      "Total number of batches is 1\n",
      "Total length of traj is 1\n",
      "Total number of batches 1\n",
      "Calculating invariants on trajectory with librascal...\n"
     ]
    },
    {
     "name": "stderr",
     "output_type": "stream",
     "text": [
      "100%|██████████| 1/1 [00:00<00:00,  3.37it/s]\n"
     ]
    },
    {
     "name": "stdout",
     "output_type": "stream",
     "text": [
      "Total number of frames is 1\n",
      "Total number of batches is 1\n",
      "Total length of traj is 1\n",
      "Total number of batches 1\n",
      "Calculating invariants on trajectory with librascal...\n"
     ]
    },
    {
     "name": "stderr",
     "output_type": "stream",
     "text": [
      "100%|██████████| 1/1 [00:00<00:00,  3.35it/s]\n"
     ]
    },
    {
     "name": "stdout",
     "output_type": "stream",
     "text": [
      "Total number of frames is 1\n",
      "Total number of batches is 1\n",
      "Total length of traj is 1\n",
      "Total number of batches 1\n",
      "Calculating invariants on trajectory with librascal...\n"
     ]
    },
    {
     "name": "stderr",
     "output_type": "stream",
     "text": [
      "100%|██████████| 1/1 [00:00<00:00,  3.74it/s]\n"
     ]
    },
    {
     "name": "stdout",
     "output_type": "stream",
     "text": [
      "Total number of frames is 1\n",
      "Total number of batches is 1\n",
      "Total length of traj is 1\n",
      "Total number of batches 1\n",
      "Calculating invariants on trajectory with librascal...\n"
     ]
    },
    {
     "name": "stderr",
     "output_type": "stream",
     "text": [
      "100%|██████████| 1/1 [00:00<00:00,  4.09it/s]\n"
     ]
    },
    {
     "name": "stdout",
     "output_type": "stream",
     "text": [
      "Total number of frames is 1\n",
      "Total number of batches is 1\n",
      "Total length of traj is 1\n",
      "Total number of batches 1\n",
      "Calculating invariants on trajectory with librascal...\n"
     ]
    },
    {
     "name": "stderr",
     "output_type": "stream",
     "text": [
      "100%|██████████| 1/1 [00:00<00:00,  5.19it/s]\n"
     ]
    },
    {
     "name": "stdout",
     "output_type": "stream",
     "text": [
      "Total number of frames is 1\n",
      "Total number of batches is 1\n",
      "Total length of traj is 1\n",
      "Total number of batches 1\n",
      "Calculating invariants on trajectory with librascal...\n"
     ]
    },
    {
     "name": "stderr",
     "output_type": "stream",
     "text": [
      "100%|██████████| 1/1 [00:00<00:00,  5.16it/s]\n"
     ]
    },
    {
     "name": "stdout",
     "output_type": "stream",
     "text": [
      "Total number of frames is 1\n",
      "Total number of batches is 1\n",
      "Total length of traj is 1\n",
      "Total number of batches 1\n",
      "Calculating invariants on trajectory with librascal...\n"
     ]
    },
    {
     "name": "stderr",
     "output_type": "stream",
     "text": [
      "100%|██████████| 1/1 [00:00<00:00,  5.14it/s]\n"
     ]
    },
    {
     "name": "stdout",
     "output_type": "stream",
     "text": [
      "Total number of frames is 1\n",
      "Total number of batches is 1\n",
      "Total length of traj is 1\n",
      "Total number of batches 1\n",
      "Calculating invariants on trajectory with librascal...\n"
     ]
    },
    {
     "name": "stderr",
     "output_type": "stream",
     "text": [
      "100%|██████████| 1/1 [00:00<00:00,  5.18it/s]\n"
     ]
    },
    {
     "name": "stdout",
     "output_type": "stream",
     "text": [
      "Total number of frames is 1\n",
      "Total number of batches is 1\n",
      "Total length of traj is 1\n",
      "Total number of batches 1\n",
      "Calculating invariants on trajectory with librascal...\n"
     ]
    },
    {
     "name": "stderr",
     "output_type": "stream",
     "text": [
      "100%|██████████| 1/1 [00:00<00:00,  5.20it/s]\n"
     ]
    },
    {
     "name": "stdout",
     "output_type": "stream",
     "text": [
      " ALL JOBS WITHIN PYTHON SCRIPT ARE DONE! \n"
     ]
    },
    {
     "ename": "NameError",
     "evalue": "name 'time' is not defined",
     "output_type": "error",
     "traceback": [
      "\u001b[0;31m---------------------------------------------------------------------------\u001b[0m",
      "\u001b[0;31mNameError\u001b[0m                                 Traceback (most recent call last)",
      "Cell \u001b[0;32mIn[51], line 111\u001b[0m\n\u001b[1;32m    101\u001b[0m \u001b[39m# # Structure optimization:\u001b[39;00m\n\u001b[1;32m    102\u001b[0m \u001b[39m# dyn = BFGS(\u001b[39;00m\n\u001b[1;32m    103\u001b[0m \u001b[39m#     atoms,\u001b[39;00m\n\u001b[1;32m    104\u001b[0m \u001b[39m#     trajectory=\"../results/test/md_runs/md_test.traj\",\u001b[39;00m\n\u001b[1;32m    105\u001b[0m \u001b[39m#     logfile=\"../results/test/md_runs/md_log.log\",)\u001b[39;00m\n\u001b[1;32m    106\u001b[0m \u001b[39m# dyn.run(fmax=0.1)\u001b[39;00m\n\u001b[1;32m    109\u001b[0m \u001b[39mprint\u001b[39m(\u001b[39m\"\u001b[39m\u001b[39m ALL JOBS WITHIN PYTHON SCRIPT ARE DONE! \u001b[39m\u001b[39m\"\u001b[39m)\n\u001b[0;32m--> 111\u001b[0m \u001b[39mprint\u001b[39m(\u001b[39m\"\u001b[39m\u001b[39mTIMING: \u001b[39m\u001b[39m\"\u001b[39m, time\u001b[39m.\u001b[39mtime()\u001b[39m-\u001b[39mstart_time, \u001b[39m\"\u001b[39m\u001b[39m seconds\u001b[39m\u001b[39m\"\u001b[39m)\n",
      "\u001b[0;31mNameError\u001b[0m: name 'time' is not defined"
     ]
    }
   ],
   "source": [
    "### MD with fande calc\n",
    "print('Testing performance with (meta-)dynamics run...')\n",
    "\n",
    "from fande.ase import FandeCalc\n",
    "from ase.units import Bohr,Rydberg,kJ,kB,fs,Hartree,mol,kcal\n",
    "\n",
    "from ase import io\n",
    "\n",
    "\n",
    "# from ase.geometry.analysis import Analysis\n",
    "from ase.constraints import FixAtoms, FixBondLengths\n",
    "from ase.optimize import BFGS\n",
    "from ase import units\n",
    "from ase.io import read\n",
    "import logging\n",
    "from ase.md.velocitydistribution import MaxwellBoltzmannDistribution\n",
    "from ase.md.verlet import VelocityVerlet\n",
    "from ase.md.langevin import Langevin\n",
    "from ase.md.npt import NPT\n",
    "from ase.md.nptberendsen import NPTBerendsen\n",
    "from ase.md.nvtberendsen import NVTBerendsen\n",
    "\n",
    "\n",
    "logging.getLogger(\"pytorch_lightning\").setLevel(logging.ERROR) # logging.ERROR to disable or INFO\n",
    "\n",
    "data_folder = \"/home/qklmn/data/\"\n",
    "traj_test = io.read(data_folder + \"datasets/rotors/different_temperatures/300/OUTCAR\", format=\"vasp-out\", index = \"300:400\")\n",
    "\n",
    "# traj_md = read('../results/test/machine_learning/dftb_opt_1000_six_rings.traj', index=\":\")\n",
    "# traj_opt = read('../results/test/machine_learning/opt.traj', index=\":\")\n",
    "\n",
    "# atoms = fdm.mol_traj[10].copy()\n",
    "# atoms = traj_md[300].copy()\n",
    "# atoms = traj_opt[-1].copy()\n",
    "atoms = traj_test[10].copy()\n",
    "atoms.set_pbc(True)\n",
    "\n",
    "\n",
    "# moving_atoms = sum(atomic_groups, []) \n",
    "# fixed_atoms = list( set(range(264)) - set(moving_atoms) )\n",
    "# fix_atoms = FixAtoms(indices=fixed_atoms)\n",
    "# atoms.set_constraint(fix_atoms)\n",
    "\n",
    "\n",
    "# atoms.calc = FandeCalc(predictor)\n",
    "atoms.calc = fande_calc\n",
    "\n",
    "\n",
    "# atoms.calc.set_atomic_groups([rings_carbons, rings_hydrogens], titles=[\"Rings carbons\", \"Rings hydrogens\"])\n",
    "# atoms.calc.set_forces_errors_plot_file(\"../results/test/md_runs/forces_errors.png\", loginterval=1)\n",
    "# atoms.calc = LennardJones()\n",
    "\n",
    "os.makedirs(\"md_run/\", exist_ok=True)\n",
    "\n",
    "# Verlet dynamics:\n",
    "# MaxwellBoltzmannDistribution(atoms, temperature_K=300)\n",
    "# dyn = VelocityVerlet(\n",
    "#     atoms,\n",
    "#     dt = 0.1*units.fs,\n",
    "#     trajectory=\"md_run/md_test.traj\",\n",
    "#     logfile=\"md_run/md_log.log\",\n",
    "# )\n",
    "\n",
    "# dyn = NPT(\n",
    "#     atoms,\n",
    "#     # dt = 0.5*units.fs,\n",
    "#     timestep=0.1,\n",
    "#     temperature_K=300,\n",
    "#     externalstress=0.0,\n",
    "#     trajectory=\"../results/test/md_runs/md_test.traj\",\n",
    "#     logfile=\"../results/test/md_runs/md_log.log\",\n",
    "# )\n",
    "\n",
    "# dyn = NPTBerendsen(atoms, timestep=0.1 * units.fs, temperature_K=300,\n",
    "#                    taut=100 * units.fs, pressure_au=1.01325 * units.bar,\n",
    "#                    taup=1000 * units.fs, compressibility=4.57e-5 / units.bar,\n",
    "#                    trajectory=\"../results/test/md_runs/md_test.traj\",\n",
    "#                    logfile=\"../results/test/md_runs/md_log.log\",)\n",
    "\n",
    "# import os\n",
    "\n",
    "# MaxwellBoltzmannDistribution(atoms, temperature_K=300, force_temp=True)\n",
    "# dyn = NVTBerendsen(atoms, 0.2 * units.fs, 300, taut=0.5*1000*units.fs, \n",
    "#                    trajectory=\"md_run/md_test.traj\",   \n",
    "#                    logfile=\"md_run/md_log.log\")\n",
    "\n",
    "# dyn.run(100)\n",
    "\n",
    "# Langevin dynamics:\n",
    "# https://databases.fysik.dtu.dk/ase/tutorials/md/md.html\n",
    "# MaxwellBoltzmannDistribution(atoms, temperature_K=100, force_temp=True)\n",
    "dyn = Langevin(atoms, 0.2*fs, \n",
    "               temperature_K=300, #0.1/units.kB, \n",
    "               friction=0.1,\n",
    "        #        fixcm=True, \n",
    "               trajectory='md_run/md_test.traj',\n",
    "               logfile=\"md_run/md_log.log\")\n",
    "\n",
    "dyn.run(10)\n",
    "\n",
    "# # Structure optimization:\n",
    "# dyn = BFGS(\n",
    "#     atoms,\n",
    "#     trajectory=\"../results/test/md_runs/md_test.traj\",\n",
    "#     logfile=\"../results/test/md_runs/md_log.log\",)\n",
    "# dyn.run(fmax=0.1)\n",
    "\n",
    "\n",
    "print(\" ALL JOBS WITHIN PYTHON SCRIPT ARE DONE! \")\n",
    "\n",
    "print(\"TIMING: \", time.time()-start_time, \" seconds\")"
   ]
  },
  {
   "cell_type": "code",
   "execution_count": 229,
   "metadata": {},
   "outputs": [
    {
     "name": "stdout",
     "output_type": "stream",
     "text": [
      "Total number of frames is 1\n",
      "Total number of batches is 1\n",
      "Total length of traj is 1\n",
      "Total number of batches 1\n",
      "Calculating invariants on trajectory with librascal...\n"
     ]
    },
    {
     "name": "stderr",
     "output_type": "stream",
     "text": [
      "100%|██████████| 1/1 [00:00<00:00,  2.90it/s]\n"
     ]
    },
    {
     "name": "stdout",
     "output_type": "stream",
     "text": [
      "Total number of frames is 1\n",
      "Total number of batches is 1\n",
      "Total length of traj is 1\n",
      "Total number of batches 1\n",
      "Calculating invariants on trajectory with librascal...\n"
     ]
    },
    {
     "name": "stderr",
     "output_type": "stream",
     "text": [
      "100%|██████████| 1/1 [00:00<00:00,  3.76it/s]\n"
     ]
    },
    {
     "name": "stdout",
     "output_type": "stream",
     "text": [
      "Total number of frames is 1\n",
      "Total number of batches is 1\n",
      "Total length of traj is 1\n",
      "Total number of batches 1\n",
      "Calculating invariants on trajectory with librascal...\n"
     ]
    },
    {
     "name": "stderr",
     "output_type": "stream",
     "text": [
      "100%|██████████| 1/1 [00:00<00:00,  3.74it/s]\n"
     ]
    },
    {
     "name": "stdout",
     "output_type": "stream",
     "text": [
      "Total number of frames is 1\n",
      "Total number of batches is 1\n",
      "Total length of traj is 1\n",
      "Total number of batches 1\n",
      "Calculating invariants on trajectory with librascal...\n"
     ]
    },
    {
     "name": "stderr",
     "output_type": "stream",
     "text": [
      "100%|██████████| 1/1 [00:00<00:00,  5.26it/s]\n"
     ]
    },
    {
     "name": "stdout",
     "output_type": "stream",
     "text": [
      "Total number of frames is 1\n",
      "Total number of batches is 1\n",
      "Total length of traj is 1\n",
      "Total number of batches 1\n",
      "Calculating invariants on trajectory with librascal...\n"
     ]
    },
    {
     "name": "stderr",
     "output_type": "stream",
     "text": [
      "100%|██████████| 1/1 [00:00<00:00,  5.27it/s]\n"
     ]
    },
    {
     "name": "stdout",
     "output_type": "stream",
     "text": [
      "Total number of frames is 1\n",
      "Total number of batches is 1\n",
      "Total length of traj is 1\n",
      "Total number of batches 1\n",
      "Calculating invariants on trajectory with librascal...\n"
     ]
    },
    {
     "name": "stderr",
     "output_type": "stream",
     "text": [
      "100%|██████████| 1/1 [00:00<00:00,  5.30it/s]\n"
     ]
    },
    {
     "name": "stdout",
     "output_type": "stream",
     "text": [
      "Total number of frames is 1\n",
      "Total number of batches is 1\n",
      "Total length of traj is 1\n",
      "Total number of batches 1\n",
      "Calculating invariants on trajectory with librascal...\n"
     ]
    },
    {
     "name": "stderr",
     "output_type": "stream",
     "text": [
      "100%|██████████| 1/1 [00:00<00:00,  5.27it/s]\n"
     ]
    },
    {
     "name": "stdout",
     "output_type": "stream",
     "text": [
      "Total number of frames is 1\n",
      "Total number of batches is 1\n",
      "Total length of traj is 1\n",
      "Total number of batches 1\n",
      "Calculating invariants on trajectory with librascal...\n"
     ]
    },
    {
     "name": "stderr",
     "output_type": "stream",
     "text": [
      "100%|██████████| 1/1 [00:00<00:00,  5.30it/s]\n"
     ]
    },
    {
     "name": "stdout",
     "output_type": "stream",
     "text": [
      "Total number of frames is 1\n",
      "Total number of batches is 1\n",
      "Total length of traj is 1\n",
      "Total number of batches 1\n",
      "Calculating invariants on trajectory with librascal...\n"
     ]
    },
    {
     "name": "stderr",
     "output_type": "stream",
     "text": [
      "100%|██████████| 1/1 [00:00<00:00,  5.29it/s]\n"
     ]
    },
    {
     "name": "stdout",
     "output_type": "stream",
     "text": [
      "Total number of frames is 1\n",
      "Total number of batches is 1\n",
      "Total length of traj is 1\n",
      "Total number of batches 1\n",
      "Calculating invariants on trajectory with librascal...\n"
     ]
    },
    {
     "name": "stderr",
     "output_type": "stream",
     "text": [
      "100%|██████████| 1/1 [00:00<00:00,  5.29it/s]\n"
     ]
    },
    {
     "name": "stdout",
     "output_type": "stream",
     "text": [
      "Total number of frames is 1\n",
      "Total number of batches is 1\n",
      "Total length of traj is 1\n",
      "Total number of batches 1\n",
      "Calculating invariants on trajectory with librascal...\n"
     ]
    },
    {
     "name": "stderr",
     "output_type": "stream",
     "text": [
      "100%|██████████| 1/1 [00:00<00:00,  5.30it/s]\n"
     ]
    },
    {
     "name": "stdout",
     "output_type": "stream",
     "text": [
      "Total number of frames is 1\n",
      "Total number of batches is 1\n",
      "Total length of traj is 1\n",
      "Total number of batches 1\n",
      "Calculating invariants on trajectory with librascal...\n"
     ]
    },
    {
     "name": "stderr",
     "output_type": "stream",
     "text": [
      "100%|██████████| 1/1 [00:00<00:00,  5.31it/s]\n"
     ]
    },
    {
     "name": "stdout",
     "output_type": "stream",
     "text": [
      "Total number of frames is 1\n",
      "Total number of batches is 1\n",
      "Total length of traj is 1\n",
      "Total number of batches 1\n",
      "Calculating invariants on trajectory with librascal...\n"
     ]
    },
    {
     "name": "stderr",
     "output_type": "stream",
     "text": [
      "100%|██████████| 1/1 [00:00<00:00,  5.32it/s]\n"
     ]
    },
    {
     "name": "stdout",
     "output_type": "stream",
     "text": [
      "Total number of frames is 1\n",
      "Total number of batches is 1\n",
      "Total length of traj is 1\n",
      "Total number of batches 1\n",
      "Calculating invariants on trajectory with librascal...\n"
     ]
    },
    {
     "name": "stderr",
     "output_type": "stream",
     "text": [
      "100%|██████████| 1/1 [00:00<00:00,  5.30it/s]\n"
     ]
    },
    {
     "name": "stdout",
     "output_type": "stream",
     "text": [
      "Total number of frames is 1\n",
      "Total number of batches is 1\n",
      "Total length of traj is 1\n",
      "Total number of batches 1\n",
      "Calculating invariants on trajectory with librascal...\n"
     ]
    },
    {
     "name": "stderr",
     "output_type": "stream",
     "text": [
      "100%|██████████| 1/1 [00:00<00:00,  5.30it/s]\n"
     ]
    },
    {
     "name": "stdout",
     "output_type": "stream",
     "text": [
      "Total number of frames is 1\n",
      "Total number of batches is 1\n",
      "Total length of traj is 1\n",
      "Total number of batches 1\n",
      "Calculating invariants on trajectory with librascal...\n"
     ]
    },
    {
     "name": "stderr",
     "output_type": "stream",
     "text": [
      "100%|██████████| 1/1 [00:00<00:00,  5.31it/s]\n"
     ]
    },
    {
     "name": "stdout",
     "output_type": "stream",
     "text": [
      "Total number of frames is 1\n",
      "Total number of batches is 1\n",
      "Total length of traj is 1\n",
      "Total number of batches 1\n",
      "Calculating invariants on trajectory with librascal...\n"
     ]
    },
    {
     "name": "stderr",
     "output_type": "stream",
     "text": [
      "100%|██████████| 1/1 [00:00<00:00,  5.30it/s]\n"
     ]
    },
    {
     "name": "stdout",
     "output_type": "stream",
     "text": [
      "Total number of frames is 1\n",
      "Total number of batches is 1\n",
      "Total length of traj is 1\n",
      "Total number of batches 1\n",
      "Calculating invariants on trajectory with librascal...\n"
     ]
    },
    {
     "name": "stderr",
     "output_type": "stream",
     "text": [
      "100%|██████████| 1/1 [00:00<00:00,  5.29it/s]\n"
     ]
    },
    {
     "name": "stdout",
     "output_type": "stream",
     "text": [
      "Total number of frames is 1\n",
      "Total number of batches is 1\n",
      "Total length of traj is 1\n",
      "Total number of batches 1\n",
      "Calculating invariants on trajectory with librascal...\n"
     ]
    },
    {
     "name": "stderr",
     "output_type": "stream",
     "text": [
      "100%|██████████| 1/1 [00:00<00:00,  5.31it/s]\n"
     ]
    },
    {
     "name": "stdout",
     "output_type": "stream",
     "text": [
      "Total number of frames is 1\n",
      "Total number of batches is 1\n",
      "Total length of traj is 1\n",
      "Total number of batches 1\n",
      "Calculating invariants on trajectory with librascal...\n"
     ]
    },
    {
     "name": "stderr",
     "output_type": "stream",
     "text": [
      "100%|██████████| 1/1 [00:00<00:00,  5.31it/s]\n"
     ]
    },
    {
     "name": "stdout",
     "output_type": "stream",
     "text": [
      "Total number of frames is 1\n",
      "Total number of batches is 1\n",
      "Total length of traj is 1\n",
      "Total number of batches 1\n",
      "Calculating invariants on trajectory with librascal...\n"
     ]
    },
    {
     "name": "stderr",
     "output_type": "stream",
     "text": [
      "100%|██████████| 1/1 [00:00<00:00,  5.32it/s]\n"
     ]
    },
    {
     "name": "stdout",
     "output_type": "stream",
     "text": [
      "Total number of frames is 1\n",
      "Total number of batches is 1\n",
      "Total length of traj is 1\n",
      "Total number of batches 1\n",
      "Calculating invariants on trajectory with librascal...\n"
     ]
    },
    {
     "name": "stderr",
     "output_type": "stream",
     "text": [
      "100%|██████████| 1/1 [00:00<00:00,  5.29it/s]\n"
     ]
    },
    {
     "name": "stdout",
     "output_type": "stream",
     "text": [
      "Total number of frames is 1\n",
      "Total number of batches is 1\n",
      "Total length of traj is 1\n",
      "Total number of batches 1\n",
      "Calculating invariants on trajectory with librascal...\n"
     ]
    },
    {
     "name": "stderr",
     "output_type": "stream",
     "text": [
      "100%|██████████| 1/1 [00:00<00:00,  5.31it/s]\n"
     ]
    },
    {
     "name": "stdout",
     "output_type": "stream",
     "text": [
      "Total number of frames is 1\n",
      "Total number of batches is 1\n",
      "Total length of traj is 1\n",
      "Total number of batches 1\n",
      "Calculating invariants on trajectory with librascal...\n"
     ]
    },
    {
     "name": "stderr",
     "output_type": "stream",
     "text": [
      "100%|██████████| 1/1 [00:00<00:00,  5.32it/s]\n"
     ]
    },
    {
     "name": "stdout",
     "output_type": "stream",
     "text": [
      "Total number of frames is 1\n",
      "Total number of batches is 1\n",
      "Total length of traj is 1\n",
      "Total number of batches 1\n",
      "Calculating invariants on trajectory with librascal...\n"
     ]
    },
    {
     "name": "stderr",
     "output_type": "stream",
     "text": [
      "100%|██████████| 1/1 [00:00<00:00,  5.30it/s]\n"
     ]
    },
    {
     "name": "stdout",
     "output_type": "stream",
     "text": [
      "Total number of frames is 1\n",
      "Total number of batches is 1\n",
      "Total length of traj is 1\n",
      "Total number of batches 1\n",
      "Calculating invariants on trajectory with librascal...\n"
     ]
    },
    {
     "name": "stderr",
     "output_type": "stream",
     "text": [
      "100%|██████████| 1/1 [00:00<00:00,  5.34it/s]\n"
     ]
    },
    {
     "name": "stdout",
     "output_type": "stream",
     "text": [
      "Total number of frames is 1\n",
      "Total number of batches is 1\n",
      "Total length of traj is 1\n",
      "Total number of batches 1\n",
      "Calculating invariants on trajectory with librascal...\n"
     ]
    },
    {
     "name": "stderr",
     "output_type": "stream",
     "text": [
      "100%|██████████| 1/1 [00:00<00:00,  5.26it/s]\n"
     ]
    },
    {
     "name": "stdout",
     "output_type": "stream",
     "text": [
      "Total number of frames is 1\n",
      "Total number of batches is 1\n",
      "Total length of traj is 1\n",
      "Total number of batches 1\n",
      "Calculating invariants on trajectory with librascal...\n"
     ]
    },
    {
     "name": "stderr",
     "output_type": "stream",
     "text": [
      "100%|██████████| 1/1 [00:00<00:00,  5.31it/s]\n"
     ]
    },
    {
     "name": "stdout",
     "output_type": "stream",
     "text": [
      "Total number of frames is 1\n",
      "Total number of batches is 1\n",
      "Total length of traj is 1\n",
      "Total number of batches 1\n",
      "Calculating invariants on trajectory with librascal...\n"
     ]
    },
    {
     "name": "stderr",
     "output_type": "stream",
     "text": [
      "100%|██████████| 1/1 [00:00<00:00,  5.32it/s]\n"
     ]
    },
    {
     "name": "stdout",
     "output_type": "stream",
     "text": [
      "Total number of frames is 1\n",
      "Total number of batches is 1\n",
      "Total length of traj is 1\n",
      "Total number of batches 1\n",
      "Calculating invariants on trajectory with librascal...\n"
     ]
    },
    {
     "name": "stderr",
     "output_type": "stream",
     "text": [
      "100%|██████████| 1/1 [00:00<00:00,  5.30it/s]\n"
     ]
    },
    {
     "name": "stdout",
     "output_type": "stream",
     "text": [
      "Total number of frames is 1\n",
      "Total number of batches is 1\n",
      "Total length of traj is 1\n",
      "Total number of batches 1\n",
      "Calculating invariants on trajectory with librascal...\n"
     ]
    },
    {
     "name": "stderr",
     "output_type": "stream",
     "text": [
      "100%|██████████| 1/1 [00:00<00:00,  5.27it/s]\n"
     ]
    },
    {
     "name": "stdout",
     "output_type": "stream",
     "text": [
      "Total number of frames is 1\n",
      "Total number of batches is 1\n",
      "Total length of traj is 1\n",
      "Total number of batches 1\n",
      "Calculating invariants on trajectory with librascal...\n"
     ]
    },
    {
     "name": "stderr",
     "output_type": "stream",
     "text": [
      "100%|██████████| 1/1 [00:00<00:00,  5.32it/s]\n"
     ]
    },
    {
     "name": "stdout",
     "output_type": "stream",
     "text": [
      "Total number of frames is 1\n",
      "Total number of batches is 1\n",
      "Total length of traj is 1\n",
      "Total number of batches 1\n",
      "Calculating invariants on trajectory with librascal...\n"
     ]
    },
    {
     "name": "stderr",
     "output_type": "stream",
     "text": [
      "100%|██████████| 1/1 [00:00<00:00,  5.33it/s]\n"
     ]
    },
    {
     "name": "stdout",
     "output_type": "stream",
     "text": [
      "Total number of frames is 1\n",
      "Total number of batches is 1\n",
      "Total length of traj is 1\n",
      "Total number of batches 1\n",
      "Calculating invariants on trajectory with librascal...\n"
     ]
    },
    {
     "name": "stderr",
     "output_type": "stream",
     "text": [
      "100%|██████████| 1/1 [00:00<00:00,  5.32it/s]\n"
     ]
    },
    {
     "name": "stdout",
     "output_type": "stream",
     "text": [
      "Total number of frames is 1\n",
      "Total number of batches is 1\n",
      "Total length of traj is 1\n",
      "Total number of batches 1\n",
      "Calculating invariants on trajectory with librascal...\n"
     ]
    },
    {
     "name": "stderr",
     "output_type": "stream",
     "text": [
      "100%|██████████| 1/1 [00:00<00:00,  5.26it/s]\n"
     ]
    },
    {
     "name": "stdout",
     "output_type": "stream",
     "text": [
      "Total number of frames is 1\n",
      "Total number of batches is 1\n",
      "Total length of traj is 1\n",
      "Total number of batches 1\n",
      "Calculating invariants on trajectory with librascal...\n"
     ]
    },
    {
     "name": "stderr",
     "output_type": "stream",
     "text": [
      "100%|██████████| 1/1 [00:00<00:00,  5.33it/s]\n"
     ]
    },
    {
     "name": "stdout",
     "output_type": "stream",
     "text": [
      "Total number of frames is 1\n",
      "Total number of batches is 1\n",
      "Total length of traj is 1\n",
      "Total number of batches 1\n",
      "Calculating invariants on trajectory with librascal...\n"
     ]
    },
    {
     "name": "stderr",
     "output_type": "stream",
     "text": [
      "100%|██████████| 1/1 [00:00<00:00,  5.32it/s]\n"
     ]
    },
    {
     "name": "stdout",
     "output_type": "stream",
     "text": [
      "Total number of frames is 1\n",
      "Total number of batches is 1\n",
      "Total length of traj is 1\n",
      "Total number of batches 1\n",
      "Calculating invariants on trajectory with librascal...\n"
     ]
    },
    {
     "name": "stderr",
     "output_type": "stream",
     "text": [
      "100%|██████████| 1/1 [00:00<00:00,  5.30it/s]\n"
     ]
    },
    {
     "name": "stdout",
     "output_type": "stream",
     "text": [
      "Total number of frames is 1\n",
      "Total number of batches is 1\n",
      "Total length of traj is 1\n",
      "Total number of batches 1\n",
      "Calculating invariants on trajectory with librascal...\n"
     ]
    },
    {
     "name": "stderr",
     "output_type": "stream",
     "text": [
      "100%|██████████| 1/1 [00:00<00:00,  5.30it/s]\n"
     ]
    },
    {
     "name": "stdout",
     "output_type": "stream",
     "text": [
      "Total number of frames is 1\n",
      "Total number of batches is 1\n",
      "Total length of traj is 1\n",
      "Total number of batches 1\n",
      "Calculating invariants on trajectory with librascal...\n"
     ]
    },
    {
     "name": "stderr",
     "output_type": "stream",
     "text": [
      "100%|██████████| 1/1 [00:00<00:00,  5.30it/s]\n"
     ]
    },
    {
     "name": "stdout",
     "output_type": "stream",
     "text": [
      "Total number of frames is 1\n",
      "Total number of batches is 1\n",
      "Total length of traj is 1\n",
      "Total number of batches 1\n",
      "Calculating invariants on trajectory with librascal...\n"
     ]
    },
    {
     "name": "stderr",
     "output_type": "stream",
     "text": [
      "100%|██████████| 1/1 [00:00<00:00,  5.31it/s]\n"
     ]
    },
    {
     "name": "stdout",
     "output_type": "stream",
     "text": [
      "Total number of frames is 1\n",
      "Total number of batches is 1\n",
      "Total length of traj is 1\n",
      "Total number of batches 1\n",
      "Calculating invariants on trajectory with librascal...\n"
     ]
    },
    {
     "name": "stderr",
     "output_type": "stream",
     "text": [
      "100%|██████████| 1/1 [00:00<00:00,  5.30it/s]\n"
     ]
    },
    {
     "name": "stdout",
     "output_type": "stream",
     "text": [
      "Total number of frames is 1\n",
      "Total number of batches is 1\n",
      "Total length of traj is 1\n",
      "Total number of batches 1\n",
      "Calculating invariants on trajectory with librascal...\n"
     ]
    },
    {
     "name": "stderr",
     "output_type": "stream",
     "text": [
      "100%|██████████| 1/1 [00:00<00:00,  5.31it/s]\n"
     ]
    },
    {
     "name": "stdout",
     "output_type": "stream",
     "text": [
      "Total number of frames is 1\n",
      "Total number of batches is 1\n",
      "Total length of traj is 1\n",
      "Total number of batches 1\n",
      "Calculating invariants on trajectory with librascal...\n"
     ]
    },
    {
     "name": "stderr",
     "output_type": "stream",
     "text": [
      "100%|██████████| 1/1 [00:00<00:00,  5.32it/s]\n"
     ]
    },
    {
     "name": "stdout",
     "output_type": "stream",
     "text": [
      "Total number of frames is 1\n",
      "Total number of batches is 1\n",
      "Total length of traj is 1\n",
      "Total number of batches 1\n",
      "Calculating invariants on trajectory with librascal...\n"
     ]
    },
    {
     "name": "stderr",
     "output_type": "stream",
     "text": [
      "100%|██████████| 1/1 [00:00<00:00,  5.22it/s]\n"
     ]
    },
    {
     "name": "stdout",
     "output_type": "stream",
     "text": [
      "Total number of frames is 1\n",
      "Total number of batches is 1\n",
      "Total length of traj is 1\n",
      "Total number of batches 1\n",
      "Calculating invariants on trajectory with librascal...\n"
     ]
    },
    {
     "name": "stderr",
     "output_type": "stream",
     "text": [
      "100%|██████████| 1/1 [00:00<00:00,  5.28it/s]\n"
     ]
    },
    {
     "name": "stdout",
     "output_type": "stream",
     "text": [
      "Total number of frames is 1\n",
      "Total number of batches is 1\n",
      "Total length of traj is 1\n",
      "Total number of batches 1\n",
      "Calculating invariants on trajectory with librascal...\n"
     ]
    },
    {
     "name": "stderr",
     "output_type": "stream",
     "text": [
      "100%|██████████| 1/1 [00:00<00:00,  5.25it/s]\n"
     ]
    },
    {
     "name": "stdout",
     "output_type": "stream",
     "text": [
      "Total number of frames is 1\n",
      "Total number of batches is 1\n",
      "Total length of traj is 1\n",
      "Total number of batches 1\n",
      "Calculating invariants on trajectory with librascal...\n"
     ]
    },
    {
     "name": "stderr",
     "output_type": "stream",
     "text": [
      "100%|██████████| 1/1 [00:00<00:00,  5.29it/s]\n"
     ]
    },
    {
     "name": "stdout",
     "output_type": "stream",
     "text": [
      "Total number of frames is 1\n",
      "Total number of batches is 1\n",
      "Total length of traj is 1\n",
      "Total number of batches 1\n",
      "Calculating invariants on trajectory with librascal...\n"
     ]
    },
    {
     "name": "stderr",
     "output_type": "stream",
     "text": [
      "100%|██████████| 1/1 [00:00<00:00,  5.30it/s]\n"
     ]
    },
    {
     "name": "stdout",
     "output_type": "stream",
     "text": [
      "Total number of frames is 1\n",
      "Total number of batches is 1\n",
      "Total length of traj is 1\n",
      "Total number of batches 1\n",
      "Calculating invariants on trajectory with librascal...\n"
     ]
    },
    {
     "name": "stderr",
     "output_type": "stream",
     "text": [
      "100%|██████████| 1/1 [00:00<00:00,  5.29it/s]\n"
     ]
    }
   ],
   "source": [
    "# from matplotlib import pyplot as plt\n",
    "\n",
    "\n",
    "\n",
    "# traj_1 = traj_300\n",
    "\n",
    "# traj_2 = traj_1500\n",
    "\n",
    "# mol = traj_300[200].copy()\n",
    "\n",
    "\n",
    "\n",
    "# uncertainties_0 = []\n",
    "# traj_0 = []\n",
    "# for i in range(0,50):\n",
    "#     traj_0.append(mol.copy())\n",
    "#     uncertainties_0.append(FandeCalc(predictor).get_forces_variance(mol.copy())[13,1])\n",
    "#     mol.positions[13,1] = mol.positions[13,1] + 0.1\n",
    "\n",
    "# uncertainties_1 = []\n",
    "# for mol in traj_1[300:320]:\n",
    "#     uncertainties_1.append(FandeCalc(predictor).get_forces_variance(mol.copy())[212,0])\n",
    "\n",
    "# uncertainties_2 = []\n",
    "# for mol in traj_2[300:320]:\n",
    "#     uncertainties_2.append(FandeCalc(predictor).get_forces_variance(mol.copy())[212,0])"
   ]
  },
  {
   "cell_type": "code",
   "execution_count": 238,
   "metadata": {},
   "outputs": [],
   "source": [
    "mol.calc = FandeCalc(predictor)"
   ]
  },
  {
   "cell_type": "code",
   "execution_count": 240,
   "metadata": {},
   "outputs": [
    {
     "name": "stderr",
     "output_type": "stream",
     "text": [
      "/misc/home/qklmn/repos/rotor-gp/code/../../fande/fande/predict/predictors_ase.py:571: UserWarning:\n",
      "\n",
      "Calculating invariants...\n",
      "\n"
     ]
    },
    {
     "name": "stdout",
     "output_type": "stream",
     "text": [
      "Total number of frames is 1\n",
      "Total number of batches is 1\n",
      "Total length of traj is 1\n",
      "Total number of batches 1\n",
      "Calculating invariants on trajectory with librascal...\n"
     ]
    },
    {
     "name": "stderr",
     "output_type": "stream",
     "text": [
      "  0%|          | 0/1 [00:00<?, ?it/s]"
     ]
    },
    {
     "name": "stderr",
     "output_type": "stream",
     "text": [
      "100%|██████████| 1/1 [00:00<00:00,  4.38it/s]\n",
      "/misc/home/qklmn/repos/rotor-gp/code/../../fande/fande/predict/predictors_ase.py:595: UserWarning:\n",
      "\n",
      "Predicting...\n",
      "\n"
     ]
    },
    {
     "data": {
      "text/plain": [
       "array([[0.16473977, 0.11551408, 0.15098242],\n",
       "       [0.19800679, 0.14393692, 0.15685372],\n",
       "       [0.11355774, 0.08766882, 0.09727792],\n",
       "       [0.22926347, 0.22690909, 0.19335429],\n",
       "       [0.28227431, 0.20723967, 0.39953834],\n",
       "       [0.2465971 , 0.32518023, 0.40937275],\n",
       "       [0.0448586 , 0.06483641, 0.04751148],\n",
       "       [0.1673986 , 1.44510198, 1.86100757],\n",
       "       [0.11264172, 0.08701649, 0.06733909],\n",
       "       [0.45835677, 1.9526    , 1.04030776],\n",
       "       [0.03752699, 0.04732671, 0.06685248],\n",
       "       [0.04986849, 0.1517016 , 0.85195696],\n",
       "       [0.03902038, 0.09640297, 0.04717454],\n",
       "       [2.41992307, 0.43665275, 1.89972794],\n",
       "       [0.0250256 , 0.05460452, 0.06294202],\n",
       "       [0.04142689, 1.69568896, 0.95744801],\n",
       "       [0.03919503, 0.12039015, 0.10181233],\n",
       "       [0.04072043, 0.82676047, 0.48771712],\n",
       "       [0.03701326, 0.06211182, 0.03890654],\n",
       "       [0.04285023, 0.37199017, 0.23682281],\n",
       "       [0.03807041, 0.08028814, 0.10951397],\n",
       "       [0.03687855, 0.36704537, 0.44772813],\n",
       "       [0.0253775 , 0.05689882, 0.07256221],\n",
       "       [0.03873729, 1.54319286, 1.169204  ],\n",
       "       [0.04683038, 0.0979881 , 0.10294983],\n",
       "       [0.03709766, 0.11885974, 0.08653805],\n",
       "       [0.03226754, 0.04540822, 0.06074569],\n",
       "       [0.03328201, 0.04296896, 0.05651447],\n",
       "       [0.04292032, 0.10922238, 0.11015412],\n",
       "       [0.04335448, 0.12749168, 0.22651026],\n",
       "       [0.03656053, 0.06643652, 0.06343555],\n",
       "       [0.30718732, 0.17272711, 0.1904428 ],\n",
       "       [0.0351394 , 0.04328569, 0.07044848],\n",
       "       [0.03697046, 0.04738148, 0.05528792],\n",
       "       [0.0285046 , 0.07316493, 0.08520912],\n",
       "       [0.02665686, 0.07543372, 0.06264471],\n",
       "       [0.15138727, 0.07604891, 0.07585126],\n",
       "       [0.1811617 , 0.09068519, 0.09799701],\n",
       "       [0.08852442, 0.13737711, 0.11908396],\n",
       "       [0.0886701 , 0.11647757, 0.14421543],\n",
       "       [0.06089234, 0.0737152 , 0.06402635],\n",
       "       [0.05592679, 0.05977272, 0.0559709 ],\n",
       "       [0.04362341, 0.08655235, 0.1194894 ],\n",
       "       [0.04189273, 0.08316013, 0.11349151],\n",
       "       [0.04763839, 0.06097385, 0.05627891],\n",
       "       [0.08792421, 0.26268098, 0.22044656],\n",
       "       [0.04833647, 0.10519764, 0.0982742 ],\n",
       "       [0.12255809, 0.23060009, 0.34256026],\n",
       "       [0.02703022, 0.05625247, 0.06891154],\n",
       "       [0.03510927, 0.0594902 , 0.07850718],\n",
       "       [0.08541232, 0.18028671, 0.16197878],\n",
       "       [0.10911971, 0.17524558, 0.25396138],\n",
       "       [0.2908805 , 0.49434215, 0.20120031],\n",
       "       [0.2645486 , 0.09878331, 0.08589393],\n",
       "       [0.07756263, 0.09096748, 0.1071468 ],\n",
       "       [0.05477172, 0.16516429, 0.15267545],\n",
       "       [0.16493428, 0.09515249, 0.14870203],\n",
       "       [0.11463296, 0.07005703, 0.16236341],\n",
       "       [0.092826  , 0.09749853, 0.10904395],\n",
       "       [0.08551513, 0.15297377, 0.14263284],\n",
       "       [0.06780898, 0.09362041, 0.06705391],\n",
       "       [0.05904376, 0.12443434, 0.0727452 ],\n",
       "       [0.15384465, 0.26331836, 0.14902622],\n",
       "       [0.14092857, 0.28000838, 0.29851013],\n",
       "       [0.34092146, 0.24340206, 0.26523596],\n",
       "       [0.13763052, 0.12816983, 0.22227722],\n",
       "       [0.06242072, 0.06749403, 0.12393939],\n",
       "       [0.06845319, 0.09137713, 0.10360419],\n",
       "       [0.11779319, 0.0925995 , 0.19558132],\n",
       "       [0.20570695, 0.17601979, 0.10324203],\n",
       "       [0.14713252, 0.12960756, 0.14465773],\n",
       "       [0.06729185, 0.09862911, 0.07330119],\n",
       "       [0.12056457, 0.08513414, 0.10452282],\n",
       "       [0.14113891, 0.07603752, 0.36976135],\n",
       "       [0.10801202, 0.33515817, 0.25905877],\n",
       "       [0.17968327, 0.21113211, 0.22008187],\n",
       "       [0.09768569, 0.07782304, 0.10158717],\n",
       "       [0.13995445, 0.29033411, 0.11294114],\n",
       "       [0.09754621, 0.06489312, 0.06413233],\n",
       "       [0.10654961, 0.0630995 , 0.06489765],\n",
       "       [0.07729179, 0.14279205, 0.11800247],\n",
       "       [0.0946191 , 0.17481285, 0.16206986],\n",
       "       [0.19427025, 0.23148692, 0.19192398],\n",
       "       [0.15376246, 0.11731183, 0.14160383],\n",
       "       [0.0894817 , 0.07757723, 0.08099353],\n",
       "       [0.09177553, 0.0680834 , 0.07139575],\n",
       "       [0.09941375, 0.12204134, 0.09404289],\n",
       "       [0.14942038, 0.13393533, 0.10030543],\n",
       "       [0.18195784, 0.10358559, 0.11307918],\n",
       "       [0.1080867 , 0.10426938, 0.12348973],\n",
       "       [0.24220932, 0.25542653, 0.19199955],\n",
       "       [0.11690318, 0.27078855, 0.08491885],\n",
       "       [0.11767136, 0.21318734, 0.24235976],\n",
       "       [0.10777652, 0.0966159 , 0.0770899 ],\n",
       "       [0.14049423, 0.08986437, 0.10789   ],\n",
       "       [0.09551822, 0.07082378, 0.07703315],\n",
       "       [0.14205438, 0.11910421, 0.21303445],\n",
       "       [0.17022401, 0.2074793 , 0.33723074],\n",
       "       [0.13571894, 0.1493386 , 0.10276829],\n",
       "       [0.07689058, 0.08955061, 0.07838165],\n",
       "       [0.1043204 , 0.13361704, 0.10178529],\n",
       "       [0.11848675, 0.1301986 , 0.10549723],\n",
       "       [0.03061856, 0.04079784, 0.05226578],\n",
       "       [2.67294598, 1.49759746, 2.37050605],\n",
       "       [0.04412211, 0.04827012, 0.04240502],\n",
       "       [0.07242979, 0.3439945 , 0.91499364],\n",
       "       [0.04704417, 0.03619827, 0.03379096],\n",
       "       [0.04002298, 0.10407557, 0.63142121],\n",
       "       [0.05932517, 0.094997  , 0.06087978],\n",
       "       [0.16951723, 0.48666078, 0.11897261],\n",
       "       [0.05518313, 0.0570627 , 0.08829816],\n",
       "       [0.22636016, 0.08056767, 0.22591217],\n",
       "       [0.09805293, 0.11513372, 0.11040123],\n",
       "       [0.10346825, 0.09040041, 0.09502597],\n",
       "       [0.02349601, 0.02777276, 0.04664133],\n",
       "       [0.02611969, 0.1333842 , 0.2062411 ],\n",
       "       [0.02544566, 0.03976747, 0.04947778],\n",
       "       [0.02445241, 0.07163616, 0.08289929],\n",
       "       [0.02489921, 0.02905818, 0.04361411],\n",
       "       [0.0864441 , 0.03536602, 0.04974815],\n",
       "       [0.02267418, 0.03349242, 0.03655682],\n",
       "       [0.0634769 , 0.12075291, 0.15270779],\n",
       "       [0.02318713, 0.04475256, 0.03365108],\n",
       "       [0.02226254, 0.04571076, 0.03268477],\n",
       "       [0.02670928, 0.12784216, 0.13767335],\n",
       "       [0.02239653, 0.0373685 , 0.03520843],\n",
       "       [0.02791665, 0.05834983, 0.0376508 ],\n",
       "       [0.04745469, 0.05693565, 0.03454361],\n",
       "       [0.04403398, 0.04045448, 0.09590528],\n",
       "       [0.02405248, 0.03786478, 0.03347871],\n",
       "       [0.0738878 , 0.07189032, 0.05415592],\n",
       "       [0.0519906 , 0.06693432, 0.03992018],\n",
       "       [0.02732287, 0.06491802, 0.02787326],\n",
       "       [0.02582464, 0.05830631, 0.02688036],\n",
       "       [0.07813545, 0.04095908, 0.17768976],\n",
       "       [0.02411219, 0.05280181, 0.04485603],\n",
       "       [0.03878614, 0.0946035 , 0.06666847],\n",
       "       [0.02485629, 0.05155727, 0.07231876],\n",
       "       [0.02230833, 0.0268719 , 0.04092   ],\n",
       "       [0.07033394, 0.06927464, 0.05213914],\n",
       "       [0.13244423, 0.11014554, 0.0740262 ],\n",
       "       [0.12442741, 0.12634405, 0.10173044],\n",
       "       [0.05198035, 0.15879485, 0.05519745],\n",
       "       [0.07189783, 0.04581675, 0.05471465],\n",
       "       [0.05393323, 0.04345927, 0.03631505],\n",
       "       [0.02810654, 0.05736455, 0.07791004],\n",
       "       [0.08526878, 0.09279303, 0.03987079],\n",
       "       [0.06944589, 0.07805829, 0.04358249],\n",
       "       [0.07944183, 0.07033782, 0.0545805 ],\n",
       "       [0.44809526, 0.07594709, 0.10837464],\n",
       "       [0.15738587, 0.28712779, 0.19726531],\n",
       "       [0.41428167, 0.05970268, 0.08297734],\n",
       "       [0.08531646, 0.08962946, 0.10041003],\n",
       "       [0.05358844, 0.07549386, 0.04317384],\n",
       "       [0.20132045, 0.08113317, 0.15536229],\n",
       "       [0.14080875, 0.06331615, 0.10306959],\n",
       "       [0.09055977, 0.13862257, 0.09205537],\n",
       "       [0.37503725, 0.15192275, 0.09116797],\n",
       "       [0.08133678, 0.05645828, 0.07957487],\n",
       "       [0.13799314, 0.10692863, 0.03299575],\n",
       "       [0.18233876, 0.34671026, 0.09699731],\n",
       "       [0.0525053 , 0.05660229, 0.04836922],\n",
       "       [0.03828507, 0.06569652, 0.04695325],\n",
       "       [0.03815084, 0.04047351, 0.05455093],\n",
       "       [0.03769609, 0.04200265, 0.04275045],\n",
       "       [0.04869613, 0.04939553, 0.06947383],\n",
       "       [0.07333562, 0.13568994, 0.08906838],\n",
       "       [0.05223665, 0.09529945, 0.06478986],\n",
       "       [0.07294779, 0.04511528, 0.0666285 ],\n",
       "       [0.03979282, 0.064786  , 0.06369047],\n",
       "       [0.08094864, 0.06587438, 0.0485404 ],\n",
       "       [0.20982699, 0.07256298, 0.09546666],\n",
       "       [0.03350906, 0.24539988, 0.14899461],\n",
       "       [0.06462841, 0.06454591, 0.09628396],\n",
       "       [0.17662983, 0.19801597, 0.08882527],\n",
       "       [0.0655847 , 0.06124287, 0.04153209],\n",
       "       [0.04875784, 0.05868535, 0.14053492],\n",
       "       [0.13893299, 0.111733  , 0.04354553],\n",
       "       [0.08810501, 0.07092552, 0.37135714],\n",
       "       [0.06465535, 0.08343677, 0.11407571],\n",
       "       [0.0854836 , 0.2248228 , 0.06107836],\n",
       "       [0.08326678, 0.12797765, 0.07540421],\n",
       "       [0.04495745, 0.04626613, 0.05610209],\n",
       "       [0.05676465, 0.05527024, 0.06291918],\n",
       "       [0.13355212, 0.05685048, 0.13889126],\n",
       "       [0.05750566, 0.07543974, 0.04518657],\n",
       "       [0.04658942, 0.11549048, 0.09467654],\n",
       "       [0.1335135 , 0.04829555, 0.20517795],\n",
       "       [0.05027418, 0.15246443, 0.10866003],\n",
       "       [0.13398413, 0.09321479, 0.20454066],\n",
       "       [0.13185053, 0.13659243, 0.07841425],\n",
       "       [0.14121597, 0.10385947, 0.04487662],\n",
       "       [0.09952614, 0.27976927, 0.15092215],\n",
       "       [0.1299611 , 0.42398819, 0.12005112],\n",
       "       [0.09050111, 0.07908992, 0.06795911],\n",
       "       [0.18299334, 0.14494531, 0.10331492],\n",
       "       [0.08147435, 0.15490441, 0.12927823],\n",
       "       [0.16972987, 0.05954509, 0.19270782],\n",
       "       [0.0578404 , 0.06358485, 0.19541161],\n",
       "       [0.15488474, 0.10993175, 0.08192138],\n",
       "       [0.31393415, 0.11233906, 0.15840344],\n",
       "       [0.11245231, 0.05353718, 0.07892732],\n",
       "       [0.04664116, 0.03391557, 0.06135588],\n",
       "       [0.11623172, 0.04579358, 0.09096698],\n",
       "       [0.05371456, 0.15113978, 0.15349869],\n",
       "       [0.13974039, 0.07474403, 0.18249302],\n",
       "       [0.06117973, 0.08531818, 0.06814489],\n",
       "       [0.07592079, 0.05238959, 0.07081386],\n",
       "       [0.06191974, 0.04700141, 0.06057577],\n",
       "       [0.14853685, 0.06491427, 0.07217412],\n",
       "       [0.07315545, 0.05688553, 0.06083446],\n",
       "       [0.05836563, 0.04074221, 0.0434783 ],\n",
       "       [0.04248076, 0.05545049, 0.08893041],\n",
       "       [0.04019289, 0.07670788, 0.08279066],\n",
       "       [0.0638309 , 0.10982279, 0.13645057],\n",
       "       [0.13770704, 0.11912279, 0.25480133],\n",
       "       [0.05406408, 0.03703599, 0.06436639],\n",
       "       [0.04747253, 0.03904204, 0.05105333],\n",
       "       [0.05709653, 0.09609489, 0.16573612],\n",
       "       [0.05205088, 0.04197078, 0.03271799],\n",
       "       [0.09848146, 0.07920723, 0.06154113],\n",
       "       [0.04960017, 0.04695492, 0.04839354],\n",
       "       [0.04813223, 0.29193932, 0.04042916],\n",
       "       [0.05216818, 0.0411561 , 0.05950074],\n",
       "       [0.05516009, 0.10096245, 0.07153229],\n",
       "       [0.13395242, 0.23161773, 0.06421189],\n",
       "       [0.3422125 , 0.45279914, 0.1758595 ],\n",
       "       [0.04001527, 0.05027633, 0.04383783],\n",
       "       [0.04508905, 0.04772596, 0.0454772 ],\n",
       "       [0.08504443, 0.07426767, 0.27143067],\n",
       "       [0.07639889, 0.03868847, 0.14976291],\n",
       "       [0.2130578 , 0.25507158, 0.11649351],\n",
       "       [0.06494741, 0.05237084, 0.07241254],\n",
       "       [0.10848813, 0.05694132, 0.24560873],\n",
       "       [0.14553647, 0.05872159, 0.04145985],\n",
       "       [0.08017974, 0.25141853, 0.04074769],\n",
       "       [0.18025975, 0.13905148, 0.16638581],\n",
       "       [0.17798261, 0.10862307, 0.14491276],\n",
       "       [0.06921749, 0.09325056, 0.08885102],\n",
       "       [0.04303389, 0.03877382, 0.066222  ],\n",
       "       [0.16136245, 0.26810473, 0.08922486],\n",
       "       [0.06349973, 0.22917108, 0.08210592],\n",
       "       [0.18748669, 0.14710133, 0.04287629],\n",
       "       [0.07215242, 0.05329232, 0.04153566],\n",
       "       [0.05195384, 0.08366255, 0.03316598],\n",
       "       [0.04612236, 0.09107904, 0.05703883],\n",
       "       [0.04575853, 0.05417352, 0.12641196],\n",
       "       [0.08298545, 0.23306303, 0.15055673],\n",
       "       [0.06404452, 0.07798795, 0.08633356],\n",
       "       [0.05476885, 0.07495384, 0.04198413],\n",
       "       [0.06728515, 0.10754296, 0.18165883],\n",
       "       [0.05018875, 0.09172389, 0.11116466],\n",
       "       [0.05318265, 0.06458525, 0.13706808],\n",
       "       [0.0652831 , 0.14306395, 0.10945587],\n",
       "       [0.19005267, 0.13569359, 0.07074527],\n",
       "       [0.08981423, 0.07708554, 0.06546263],\n",
       "       [0.04253464, 0.06873803, 0.08372407],\n",
       "       [0.204024  , 0.15115254, 0.11300449],\n",
       "       [0.04055934, 0.07445626, 0.23378401],\n",
       "       [0.25864476, 0.18219762, 0.11906628],\n",
       "       [0.16006391, 0.15505068, 0.10928898],\n",
       "       [0.04730587, 0.04669075, 0.03814344],\n",
       "       [0.0821815 , 0.27510732, 0.37507671],\n",
       "       [0.05238848, 0.08757524, 0.08937721]])"
      ]
     },
     "execution_count": 240,
     "metadata": {},
     "output_type": "execute_result"
    }
   ],
   "source": [
    "mol.calc.get_forces_variance(mol)"
   ]
  },
  {
   "cell_type": "code",
   "execution_count": 237,
   "metadata": {},
   "outputs": [
    {
     "data": {
      "text/plain": [
       "array([[-1.208929e+00, -2.195900e-01, -8.154240e-01],\n",
       "       [ 1.208929e+00,  2.195900e-01,  8.154240e-01],\n",
       "       [-3.008090e-01, -8.478970e-01,  2.161680e+00],\n",
       "       [ 3.008090e-01,  8.478970e-01, -2.161681e+00],\n",
       "       [ 1.312962e+00,  8.597150e-01, -1.582103e+00],\n",
       "       [-1.312962e+00, -8.597150e-01,  1.582102e+00],\n",
       "       [ 8.594320e-01, -5.502476e+00, -2.073433e+00],\n",
       "       [-8.594320e-01,  5.502476e+00,  2.073433e+00],\n",
       "       [-1.124549e+00,  4.958430e+00, -4.072897e+00],\n",
       "       [ 1.124549e+00, -4.958430e+00,  4.072897e+00],\n",
       "       [ 1.103270e-01,  1.671265e+00,  6.182718e+00],\n",
       "       [-1.103270e-01, -1.671265e+00, -6.182718e+00],\n",
       "       [ 3.028690e-01, -3.934590e-01, -6.204070e-01],\n",
       "       [-3.028690e-01,  3.934590e-01,  6.204060e-01],\n",
       "       [ 9.166300e-02, -1.985783e+00, -7.553026e+00],\n",
       "       [-9.166300e-02,  1.985783e+00,  7.553026e+00],\n",
       "       [-8.096810e-01,  6.567764e+00, -5.131748e+00],\n",
       "       [ 8.096810e-01, -6.567764e+00,  5.131748e+00],\n",
       "       [-1.884940e-01,  9.140100e-01,  7.509430e-01],\n",
       "       [ 1.884940e-01, -9.140090e-01, -7.509430e-01],\n",
       "       [-1.605130e-01,  2.386806e+00,  7.767280e+00],\n",
       "       [ 1.605130e-01, -2.386806e+00, -7.767280e+00],\n",
       "       [ 7.837680e-01, -6.422483e+00,  5.133892e+00],\n",
       "       [-7.837680e-01,  6.422483e+00, -5.133892e+00],\n",
       "       [ 1.272538e+00, -7.476351e+00, -3.055462e+00],\n",
       "       [-1.272537e+00,  7.476351e+00,  3.055462e+00],\n",
       "       [-5.842000e-02, -6.154360e-01, -1.526066e+00],\n",
       "       [ 5.842000e-02,  6.154370e-01,  1.526066e+00],\n",
       "       [-1.296107e+00,  5.449993e+00, -6.207051e+00],\n",
       "       [ 1.296107e+00, -5.449994e+00,  6.207051e+00],\n",
       "       [-1.264107e+00,  7.384190e+00,  2.581780e+00],\n",
       "       [ 1.264107e+00, -7.384190e+00, -2.581781e+00],\n",
       "       [ 2.300700e-02,  3.321610e-01,  1.777320e-01],\n",
       "       [-2.300700e-02, -3.321610e-01, -1.777330e-01],\n",
       "       [ 1.286443e+00, -5.435961e+00,  5.898268e+00],\n",
       "       [-1.286443e+00,  5.435961e+00, -5.898268e+00],\n",
       "       [ 3.137809e+00,  2.834122e+00,  2.757633e+00],\n",
       "       [-3.137809e+00, -2.834122e+00, -2.757633e+00],\n",
       "       [-8.210800e-02,  6.054980e-01,  6.012990e-01],\n",
       "       [ 8.210700e-02, -6.054980e-01, -6.012990e-01],\n",
       "       [-1.105216e+00,  7.247271e+00,  2.208270e+00],\n",
       "       [ 1.105216e+00, -7.247271e+00, -2.208271e+00],\n",
       "       [ 3.292100e-01,  9.252520e-01,  8.595606e+00],\n",
       "       [-3.292100e-01, -9.252520e-01, -8.595606e+00],\n",
       "       [ 4.611950e-01, -1.505976e+00,  6.543060e-01],\n",
       "       [-4.611950e-01,  1.505976e+00, -6.543060e-01],\n",
       "       [ 1.077215e+00, -7.953811e+00, -1.862524e+00],\n",
       "       [-1.077215e+00,  7.953811e+00,  1.862524e+00],\n",
       "       [-4.556670e-01, -9.773760e-01, -8.442575e+00],\n",
       "       [ 4.556670e-01,  9.773760e-01,  8.442575e+00],\n",
       "       [ 6.068920e-01,  8.239360e-01, -4.829554e+00],\n",
       "       [-6.068920e-01, -8.239360e-01,  4.829554e+00],\n",
       "       [ 3.110389e+00, -2.838731e+00, -1.708482e+00],\n",
       "       [-3.110389e+00,  2.838732e+00,  1.708481e+00],\n",
       "       [-3.152270e-01,  4.074856e+00, -6.737110e-01],\n",
       "       [ 3.152270e-01, -4.074856e+00,  6.737110e-01],\n",
       "       [ 1.772210e+00,  1.123972e+00, -4.780548e+00],\n",
       "       [-1.772210e+00, -1.123972e+00,  4.780548e+00],\n",
       "       [ 2.412745e+00,  2.646425e+00,  4.663916e+00],\n",
       "       [-2.412745e+00, -2.646424e+00, -4.663916e+00],\n",
       "       [ 8.277500e-01, -6.247712e+00,  4.488530e-01],\n",
       "       [-8.277500e-01,  6.247712e+00, -4.488530e-01],\n",
       "       [-1.908654e+00, -4.366406e+00,  1.599956e+00],\n",
       "       [ 1.908656e+00,  4.366406e+00, -1.599956e+00],\n",
       "       [-1.183187e+01, -7.564405e+00,  2.700523e+00],\n",
       "       [ 1.183187e+01,  7.564405e+00, -2.700523e+00],\n",
       "       [ 7.689740e-01,  2.570210e-01,  4.958012e+00],\n",
       "       [-7.689740e-01, -2.570210e-01, -4.958011e+00],\n",
       "       [ 4.689872e+00,  3.213663e+00,  3.126703e+00],\n",
       "       [-4.689872e+00, -3.213663e+00, -3.126703e+00],\n",
       "       [ 9.906510e-01,  5.017764e+00, -1.496055e+00],\n",
       "       [-9.906510e-01, -5.017764e+00,  1.496055e+00],\n",
       "       [-5.780951e+00,  2.003326e+00,  5.022430e-01],\n",
       "       [ 5.780951e+00, -2.003326e+00, -5.022430e-01],\n",
       "       [ 8.248198e+00,  6.034165e+00, -2.341640e+00],\n",
       "       [-8.248198e+00, -6.034165e+00,  2.341640e+00],\n",
       "       [-2.881467e+00, -1.618135e+00,  1.847446e+00],\n",
       "       [ 2.881467e+00,  1.618135e+00, -1.847447e+00],\n",
       "       [-5.135689e+00, -4.437710e-01, -1.626110e+00],\n",
       "       [ 5.135689e+00,  4.437710e-01,  1.626109e+00],\n",
       "       [ 7.525800e-01,  6.416380e-01,  1.638557e+00],\n",
       "       [-7.525800e-01, -6.416380e-01, -1.638558e+00],\n",
       "       [ 2.495409e+00, -3.393671e+00,  1.303330e-01],\n",
       "       [-2.495409e+00,  3.393671e+00, -1.303330e-01],\n",
       "       [ 4.258653e+00, -3.114299e+00, -4.105973e+00],\n",
       "       [-4.258653e+00,  3.114299e+00,  4.105973e+00],\n",
       "       [ 5.062202e+00,  6.193376e+00, -6.714580e-01],\n",
       "       [-5.062202e+00, -6.193376e+00,  6.714590e-01],\n",
       "       [ 4.435075e+00, -1.358736e+00, -3.697513e+00],\n",
       "       [-4.435075e+00,  1.358736e+00,  3.697514e+00],\n",
       "       [-4.534835e+00,  8.586290e-01, -1.312377e+00],\n",
       "       [ 4.534835e+00, -8.586290e-01,  1.312377e+00],\n",
       "       [-5.143243e+00, -3.907925e+00, -2.237493e+00],\n",
       "       [ 5.143243e+00,  3.907925e+00,  2.237493e+00],\n",
       "       [ 3.997400e-02, -2.233670e-01, -1.907228e+00],\n",
       "       [-3.997400e-02,  2.233670e-01,  1.907229e+00],\n",
       "       [-2.946447e+00,  9.656307e+00,  2.612713e+00],\n",
       "       [ 2.946447e+00, -9.656306e+00, -2.612713e+00],\n",
       "       [-2.181409e+00, -5.425937e+00,  1.887886e+00],\n",
       "       [ 2.181409e+00,  5.425937e+00, -1.887886e+00],\n",
       "       [-3.359840e-01, -2.500816e+00, -2.884969e+00],\n",
       "       [ 3.359840e-01,  2.500815e+00,  2.884969e+00],\n",
       "       [-4.648000e-02,  3.071770e-01, -4.011390e-01],\n",
       "       [ 4.648000e-02, -3.071770e-01,  4.011380e-01],\n",
       "       [ 1.793200e-02,  1.464710e-01,  1.322780e-01],\n",
       "       [-1.793200e-02, -1.464710e-01, -1.322780e-01],\n",
       "       [-2.225100e-02, -3.111260e-01,  2.639630e-01],\n",
       "       [ 2.225100e-02,  3.111260e-01, -2.639630e-01],\n",
       "       [ 2.321140e-01,  4.819700e-01, -1.503600e-02],\n",
       "       [-2.321140e-01, -4.819700e-01,  1.503600e-02],\n",
       "       [ 9.341210e-01,  6.481330e-01,  3.058650e-01],\n",
       "       [-9.341210e-01, -6.481330e-01, -3.058640e-01],\n",
       "       [-8.611730e-01, -7.362100e-01, -3.828540e-01],\n",
       "       [ 8.611730e-01,  7.362100e-01,  3.828540e-01],\n",
       "       [-3.049200e-02,  1.945371e+00,  8.379883e+00],\n",
       "       [ 3.049300e-02, -1.945371e+00, -8.379883e+00],\n",
       "       [ 7.688680e-01, -6.210961e+00,  5.768846e+00],\n",
       "       [-7.688680e-01,  6.210961e+00, -5.768846e+00],\n",
       "       [ 6.419200e-02, -1.993452e+00, -8.294473e+00],\n",
       "       [-6.419200e-02,  1.993452e+00,  8.294473e+00],\n",
       "       [-7.445850e-01,  6.272172e+00, -5.792099e+00],\n",
       "       [ 7.445850e-01, -6.272172e+00,  5.792099e+00],\n",
       "       [-1.400343e+00,  7.964869e+00,  2.507763e+00],\n",
       "       [ 1.400343e+00, -7.964869e+00, -2.507763e+00],\n",
       "       [ 1.379311e+00, -6.041721e+00,  5.872064e+00],\n",
       "       [-1.379310e+00,  6.041721e+00, -5.872064e+00],\n",
       "       [ 1.457767e+00, -8.106424e+00, -2.483330e+00],\n",
       "       [-1.457767e+00,  8.106424e+00,  2.483330e+00],\n",
       "       [-1.367265e+00,  6.029152e+00, -5.886504e+00],\n",
       "       [ 1.367265e+00, -6.029152e+00,  5.886504e+00],\n",
       "       [-3.069431e+00, -2.447879e+00, -3.837379e+00],\n",
       "       [ 3.069431e+00,  2.447879e+00,  3.837379e+00],\n",
       "       [ 1.117183e+00, -8.131968e+00, -2.570979e+00],\n",
       "       [-1.117183e+00,  8.131968e+00,  2.570979e+00],\n",
       "       [-2.114310e-01, -1.856971e+00, -8.387235e+00],\n",
       "       [ 2.114310e-01,  1.856971e+00,  8.387235e+00],\n",
       "       [-1.090123e+00,  8.192524e+00,  2.544359e+00],\n",
       "       [ 1.090123e+00, -8.192524e+00, -2.544359e+00],\n",
       "       [ 2.118630e-01,  1.856433e+00,  8.337542e+00],\n",
       "       [-2.118620e-01, -1.856433e+00, -8.337541e+00],\n",
       "       [-1.282110e+00, -3.803310e-01,  5.276336e+00],\n",
       "       [ 1.282109e+00,  3.803310e-01, -5.276335e+00],\n",
       "       [-3.314674e+00,  3.638725e+00,  2.470766e+00],\n",
       "       [ 3.314674e+00, -3.638725e+00, -2.470766e+00],\n",
       "       [-1.128132e+00, -5.371307e+00,  1.047026e+00],\n",
       "       [ 1.128132e+00,  5.371307e+00, -1.047025e+00],\n",
       "       [-2.395220e-01, -6.568181e+00,  7.257830e-01],\n",
       "       [ 2.395220e-01,  6.568181e+00, -7.257830e-01],\n",
       "       [-6.043334e+00,  2.315173e+00,  1.019158e+00],\n",
       "       [ 6.043334e+00, -2.315173e+00, -1.019158e+00],\n",
       "       [ 3.883890e+00,  2.376301e+00,  4.733927e+00],\n",
       "       [-3.883890e+00, -2.376301e+00, -4.733927e+00],\n",
       "       [-7.153060e-01, -6.476718e+00, -1.778000e-01],\n",
       "       [ 7.153060e-01,  6.476718e+00,  1.778000e-01],\n",
       "       [ 2.466654e+00,  2.105376e+00, -5.769327e+00],\n",
       "       [-2.466654e+00, -2.105376e+00,  5.769327e+00],\n",
       "       [-6.048565e+00,  2.626190e+00,  5.548260e-01],\n",
       "       [ 6.048565e+00, -2.626190e+00, -5.548260e-01],\n",
       "       [-5.734736e+00,  1.307868e+00, -2.921563e+00],\n",
       "       [ 5.734736e+00, -1.307868e+00,  2.921563e+00],\n",
       "       [ 4.862620e+00,  2.609339e+00, -3.757485e+00],\n",
       "       [-4.862620e+00, -2.609339e+00,  3.757485e+00],\n",
       "       [ 1.784730e-01,  2.908186e+00,  5.848060e+00],\n",
       "       [-1.784730e-01, -2.908186e+00, -5.848060e+00],\n",
       "       [ 2.421120e-01,  3.952771e+00, -3.757617e+00],\n",
       "       [-2.421120e-01, -3.952771e+00,  3.757617e+00],\n",
       "       [ 1.789008e+00, -5.963272e+00,  1.109020e-01],\n",
       "       [-1.789008e+00,  5.963272e+00, -1.109020e-01],\n",
       "       [ 4.083871e+00,  4.148349e+00, -3.436305e+00],\n",
       "       [-4.083872e+00, -4.148349e+00,  3.436305e+00],\n",
       "       [-5.993812e+00,  1.874301e+00, -1.198388e+00],\n",
       "       [ 5.993812e+00, -1.874301e+00,  1.198388e+00],\n",
       "       [ 8.273780e-01, -6.006715e+00, -2.599787e+00],\n",
       "       [-8.273780e-01,  6.006715e+00,  2.599788e+00],\n",
       "       [-5.981545e+00,  2.168375e+00,  1.493035e+00],\n",
       "       [ 5.981545e+00, -2.168374e+00, -1.493035e+00],\n",
       "       [ 3.717030e-01, -6.424633e+00,  1.525453e+00],\n",
       "       [-3.717030e-01,  6.424633e+00, -1.525453e+00],\n",
       "       [ 9.022140e-01,  6.165580e-01, -6.449473e+00],\n",
       "       [-9.022130e-01, -6.165580e-01,  6.449473e+00],\n",
       "       [ 4.715465e+00, -4.391257e+00, -1.722626e+00],\n",
       "       [-4.715466e+00,  4.391257e+00,  1.722626e+00],\n",
       "       [-5.635157e+00, -2.115289e+00, -2.367667e+00],\n",
       "       [ 5.635157e+00,  2.115289e+00,  2.367667e+00],\n",
       "       [-4.494110e-01, -6.530000e-04,  6.597246e+00],\n",
       "       [ 4.494110e-01,  6.530000e-04, -6.597246e+00],\n",
       "       [ 1.530179e+00, -5.805950e-01, -6.411015e+00],\n",
       "       [-1.530179e+00,  5.805950e-01,  6.411015e+00],\n",
       "       [ 6.465640e-01, -5.908840e+00,  2.806032e+00],\n",
       "       [-6.465640e-01,  5.908839e+00, -2.806032e+00],\n",
       "       [ 4.271909e+00,  4.094770e+00,  2.767789e+00],\n",
       "       [-4.271909e+00, -4.094770e+00, -2.767789e+00],\n",
       "       [-1.450069e+00,  5.420875e+00,  3.151559e+00],\n",
       "       [ 1.450068e+00, -5.420875e+00, -3.151559e+00],\n",
       "       [ 4.228568e+00, -4.803772e+00, -7.491510e-01],\n",
       "       [-4.228569e+00,  4.803773e+00,  7.491510e-01],\n",
       "       [ 2.596249e+00,  3.982663e+00,  4.608768e+00],\n",
       "       [-2.596249e+00, -3.982664e+00, -4.608769e+00],\n",
       "       [-1.095810e-01,  3.379835e+00, -5.646940e+00],\n",
       "       [ 1.095810e-01, -3.379836e+00,  5.646941e+00],\n",
       "       [ 4.273285e+00, -3.182322e+00, -4.127718e+00],\n",
       "       [-4.273285e+00,  3.182322e+00,  4.127718e+00],\n",
       "       [ 1.024034e+00, -2.223369e+00,  6.194337e+00],\n",
       "       [-1.024034e+00,  2.223369e+00, -6.194337e+00],\n",
       "       [ 1.565150e+00,  6.448861e+00, -1.340760e-01],\n",
       "       [-1.565150e+00, -6.448861e+00,  1.340760e-01],\n",
       "       [-2.122693e+00, -1.615195e+00, -5.209324e+00],\n",
       "       [ 2.122693e+00,  1.615195e+00,  5.209324e+00],\n",
       "       [ 1.139789e+00,  2.362289e+00,  6.118285e+00],\n",
       "       [-1.139789e+00, -2.362289e+00, -6.118285e+00],\n",
       "       [-6.578402e+00, -1.653058e+00, -1.522390e-01],\n",
       "       [ 6.578402e+00,  1.653058e+00,  1.522390e-01],\n",
       "       [ 9.277530e-01,  5.031222e+00, -4.185796e+00],\n",
       "       [-9.277530e-01, -5.031222e+00,  4.185796e+00],\n",
       "       [-6.240500e-02,  6.309772e+00, -1.663015e+00],\n",
       "       [ 6.240500e-02, -6.309772e+00,  1.663015e+00],\n",
       "       [ 1.904887e+00, -4.782820e-01,  6.318908e+00],\n",
       "       [-1.904887e+00,  4.782820e-01, -6.318908e+00],\n",
       "       [-6.259117e+00, -2.433726e+00, -6.367350e-01],\n",
       "       [ 6.259117e+00,  2.433726e+00,  6.367350e-01],\n",
       "       [ 7.694610e-01,  6.001058e+00,  3.427110e+00],\n",
       "       [-7.694610e-01, -6.001058e+00, -3.427110e+00],\n",
       "       [ 7.598700e-01,  2.357960e+00, -6.308706e+00],\n",
       "       [-7.598700e-01, -2.357960e+00,  6.308706e+00],\n",
       "       [ 6.000759e+00, -2.488571e+00,  1.202773e+00],\n",
       "       [-6.000759e+00,  2.488571e+00, -1.202773e+00],\n",
       "       [-2.658418e+00, -5.395060e+00,  2.913927e+00],\n",
       "       [ 2.658418e+00,  5.395060e+00, -2.913927e+00],\n",
       "       [-4.743832e+00,  3.219522e+00, -2.902191e+00],\n",
       "       [ 4.743832e+00, -3.219522e+00,  2.902191e+00],\n",
       "       [ 2.449095e+00,  3.859827e+00,  4.876198e+00],\n",
       "       [-2.449095e+00, -3.859828e+00, -4.876198e+00],\n",
       "       [-2.234600e-02, -4.168505e+00,  5.145468e+00],\n",
       "       [ 2.234600e-02,  4.168505e+00, -5.145468e+00],\n",
       "       [ 2.774676e+00,  5.635102e+00,  2.100456e+00],\n",
       "       [-2.774676e+00, -5.635102e+00, -2.100456e+00],\n",
       "       [ 3.922814e+00, -2.495328e+00, -4.455536e+00],\n",
       "       [-3.922814e+00,  2.495328e+00,  4.455536e+00],\n",
       "       [-4.322735e+00,  1.573732e+00, -5.059854e+00],\n",
       "       [ 4.322735e+00, -1.573732e+00,  5.059854e+00],\n",
       "       [-4.151031e+00,  2.627790e-01,  5.444454e+00],\n",
       "       [ 4.151031e+00, -2.627780e-01, -5.444454e+00],\n",
       "       [ 4.554110e-01, -6.847697e+00, -9.190330e-01],\n",
       "       [-4.554110e-01,  6.847697e+00,  9.190330e-01],\n",
       "       [ 1.180411e+00,  3.800590e+00,  5.599045e+00],\n",
       "       [-1.180411e+00, -3.800591e+00, -5.599046e+00],\n",
       "       [ 6.148903e+00, -1.032945e+00, -2.481445e+00],\n",
       "       [-6.148904e+00,  1.032945e+00,  2.481445e+00],\n",
       "       [-1.597419e+00, -5.574889e+00,  2.095629e+00],\n",
       "       [ 1.597419e+00,  5.574890e+00, -2.095629e+00],\n",
       "       [ 4.171524e+00,  9.539590e-01,  4.196348e+00],\n",
       "       [-4.171524e+00, -9.539590e-01, -4.196348e+00],\n",
       "       [-4.590727e+00,  1.695743e+00, -4.434674e+00],\n",
       "       [ 4.590727e+00, -1.695743e+00,  4.434674e+00],\n",
       "       [ 5.588896e+00, -1.296471e+00, -3.325345e+00],\n",
       "       [-5.588896e+00,  1.296471e+00,  3.325345e+00],\n",
       "       [ 1.150425e+00,  5.483574e+00,  4.084218e+00],\n",
       "       [-1.150425e+00, -5.483574e+00, -4.084218e+00],\n",
       "       [-6.148456e+00, -3.707028e+00,  1.058048e+00],\n",
       "       [ 6.148456e+00,  3.707028e+00, -1.058048e+00],\n",
       "       [ 4.702794e+00, -3.926923e+00,  3.049537e+00],\n",
       "       [-4.702794e+00,  3.926923e+00, -3.049537e+00],\n",
       "       [ 9.649870e-01, -1.319526e+00, -6.116715e+00],\n",
       "       [-9.649870e-01,  1.319526e+00,  6.116715e+00]])"
      ]
     },
     "execution_count": 237,
     "metadata": {},
     "output_type": "execute_result"
    }
   ],
   "source": [
    "traj[0].calc.get_forces()"
   ]
  },
  {
   "cell_type": "code",
   "execution_count": 200,
   "metadata": {},
   "outputs": [
    {
     "data": {
      "text/plain": [
       "array([-0.77995, -2.76536, 11.49139])"
      ]
     },
     "execution_count": 200,
     "metadata": {},
     "output_type": "execute_result"
    }
   ],
   "source": [
    "traj_0[0].positions[212]"
   ]
  },
  {
   "cell_type": "code",
   "execution_count": 201,
   "metadata": {},
   "outputs": [
    {
     "data": {
      "text/plain": [
       "array([-0.76995, -2.76536, 11.49139])"
      ]
     },
     "execution_count": 201,
     "metadata": {},
     "output_type": "execute_result"
    }
   ],
   "source": [
    "traj_0[10].positions[212]"
   ]
  },
  {
   "cell_type": "code",
   "execution_count": 283,
   "metadata": {},
   "outputs": [],
   "source": [
    "# AG_force_model.models[0].state_dict()\n",
    "\n",
    "import torch\n",
    "\n",
    "1. save train_data_loaders\n",
    "\n",
    "# AG_force_model.train_data_loaders\n",
    "torch.save(AG_force_model.models[0].state_dict(), \"state.pth\")"
   ]
  },
  {
   "cell_type": "code",
   "execution_count": 288,
   "metadata": {},
   "outputs": [],
   "source": [
    "from prepare_model import prepare_data, prepare_model"
   ]
  },
  {
   "cell_type": "code",
   "execution_count": 289,
   "metadata": {},
   "outputs": [
    {
     "name": "stdout",
     "output_type": "stream",
     "text": [
      "Saving data to directory:  /misc/home/qklmn/repos/rotor-gp/results/train_and_run/2023-08-03_19 27-57_591657\n",
      "Loading training data...\n",
      "Total number of frames is 400\n",
      "Total number of batches is 400\n",
      "Total length of traj is 400\n",
      "Total number of batches 400\n",
      "Calculating invariants on trajectory with librascal...\n"
     ]
    },
    {
     "name": "stderr",
     "output_type": "stream",
     "text": [
      "100%|██████████| 400/400 [01:33<00:00,  4.28it/s]\n"
     ]
    },
    {
     "name": "stdout",
     "output_type": "stream",
     "text": [
      "Total number of frames is 20\n",
      "Total number of batches is 20\n",
      "Total length of traj is 20\n",
      "Total number of batches 20\n",
      "Calculating invariants on trajectory with librascal...\n"
     ]
    },
    {
     "name": "stderr",
     "output_type": "stream",
     "text": [
      "100%|██████████| 20/20 [00:03<00:00,  5.08it/s]\n"
     ]
    },
    {
     "name": "stdout",
     "output_type": "stream",
     "text": [
      "\n",
      "-----------\n",
      "Group  0\n",
      "-----------\n",
      "Number of training points for group 0:  14400\n",
      "Number of test points for group 0:  720\n",
      "\n",
      "-----------\n",
      "Group  1\n",
      "-----------\n",
      "Number of training points for group 1:  14400\n",
      "Number of test points for group 1:  720\n",
      "\n",
      "-----------\n",
      "Group  2\n",
      "-----------\n",
      "Number of training points for group 2:  21600\n",
      "Number of test points for group 2:  1080\n",
      "\n",
      "-----------\n",
      "Group  3\n",
      "-----------\n",
      "Number of training points for group 3:  129600\n",
      "Number of test points for group 3:  6480\n",
      "\n",
      "-----------\n",
      "Group  4\n",
      "-----------\n",
      "Number of training points for group 4:  7200\n",
      "Number of test points for group 4:  360\n",
      "\n",
      "-----------\n",
      "Group  5\n",
      "-----------\n",
      "Number of training points for group 5:  7200\n",
      "Number of test points for group 5:  360\n",
      "\n",
      "-----------\n",
      "Group  6\n",
      "-----------\n",
      "Number of training points for group 6:  14400\n",
      "Number of test points for group 6:  720\n",
      "\n",
      "-----------\n",
      "Group  7\n",
      "-----------\n",
      "Number of training points for group 7:  14400\n",
      "Number of test points for group 7:  720\n",
      "\n",
      "-----------\n",
      "Group  8\n",
      "-----------\n",
      "Number of training points for group 8:  7200\n",
      "Number of test points for group 8:  360\n",
      "\n",
      "-----------\n",
      "Group  9\n",
      "-----------\n",
      "Number of training points for group 9:  21600\n",
      "Number of test points for group 9:  1080\n",
      "\n",
      "-----------\n",
      "Group  10\n",
      "-----------\n",
      "Number of training points for group 10:  43200\n",
      "Number of test points for group 10:  2160\n",
      "\n",
      "-----------\n",
      "Group  11\n",
      "-----------\n",
      "Number of training points for group 11:  7200\n",
      "Number of test points for group 11:  360\n",
      "\n",
      "-----------\n",
      "Group  12\n",
      "-----------\n",
      "Number of training points for group 12:  7200\n",
      "Number of test points for group 12:  360\n",
      "\n",
      "-----------\n",
      "Group  13\n",
      "-----------\n",
      "Number of training points for group 13:  7200\n",
      "Number of test points for group 13:  360\n",
      "Dataloader for group 0 created\n",
      "Number of samples in dataloader: 10000\n",
      "Dataloader for group 1 created\n",
      "Number of samples in dataloader: 10000\n",
      "Dataloader for group 2 created\n",
      "Number of samples in dataloader: 10000\n",
      "Dataloader for group 3 created\n",
      "Number of samples in dataloader: 10000\n",
      "Taking ALL 7200 samples for group 4\n",
      "Dataloader for group 4 created\n",
      "Number of samples in dataloader: 7200\n",
      "Taking ALL 7200 samples for group 5\n",
      "Dataloader for group 5 created\n",
      "Number of samples in dataloader: 7200\n",
      "Dataloader for group 6 created\n",
      "Number of samples in dataloader: 10000\n",
      "Dataloader for group 7 created\n",
      "Number of samples in dataloader: 10000\n",
      "Taking ALL 7200 samples for group 8\n",
      "Dataloader for group 8 created\n",
      "Number of samples in dataloader: 7200\n",
      "Dataloader for group 9 created\n",
      "Number of samples in dataloader: 10000\n",
      "Dataloader for group 10 created\n",
      "Number of samples in dataloader: 10000\n",
      "Taking ALL 7200 samples for group 11\n",
      "Dataloader for group 11 created\n",
      "Number of samples in dataloader: 7200\n",
      "Taking ALL 7200 samples for group 12\n",
      "Dataloader for group 12 created\n",
      "Number of samples in dataloader: 7200\n",
      "Taking ALL 7200 samples for group 13\n",
      "Dataloader for group 13 created\n",
      "Number of samples in dataloader: 7200\n"
     ]
    },
    {
     "data": {
      "text/plain": [
       "[<torch.utils.data.dataloader.DataLoader at 0x2b2df2fb4550>,\n",
       " <torch.utils.data.dataloader.DataLoader at 0x2b2df2ffcd30>,\n",
       " <torch.utils.data.dataloader.DataLoader at 0x2b2df2c3e5c0>,\n",
       " <torch.utils.data.dataloader.DataLoader at 0x2b2dbc6a9f30>,\n",
       " <torch.utils.data.dataloader.DataLoader at 0x2b2df2d27160>,\n",
       " <torch.utils.data.dataloader.DataLoader at 0x2b2df2d268c0>,\n",
       " <torch.utils.data.dataloader.DataLoader at 0x2b2df2d27490>,\n",
       " <torch.utils.data.dataloader.DataLoader at 0x2b2df2d275e0>,\n",
       " <torch.utils.data.dataloader.DataLoader at 0x2b2df2d27700>,\n",
       " <torch.utils.data.dataloader.DataLoader at 0x2b2df2d27880>,\n",
       " <torch.utils.data.dataloader.DataLoader at 0x2b2df2d279d0>,\n",
       " <torch.utils.data.dataloader.DataLoader at 0x2b2df2d27af0>,\n",
       " <torch.utils.data.dataloader.DataLoader at 0x2b2df2d27c40>,\n",
       " <torch.utils.data.dataloader.DataLoader at 0x2b2df2d27d90>]"
      ]
     },
     "execution_count": 289,
     "metadata": {},
     "output_type": "execute_result"
    }
   ],
   "source": [
    "training_data_loaders = prepare_data()"
   ]
  },
  {
   "cell_type": "code",
   "execution_count": 252,
   "metadata": {},
   "outputs": [
    {
     "data": {
      "text/plain": [
       "[<torch.utils.data.dataloader.DataLoader at 0x2b2dd6ac9db0>,\n",
       " <torch.utils.data.dataloader.DataLoader at 0x2b2dd6acb070>,\n",
       " <torch.utils.data.dataloader.DataLoader at 0x2b2dd6acb010>,\n",
       " <torch.utils.data.dataloader.DataLoader at 0x2b2dd6ac9bd0>,\n",
       " <torch.utils.data.dataloader.DataLoader at 0x2b2dd6ac8430>,\n",
       " <torch.utils.data.dataloader.DataLoader at 0x2b2dd6ac8a90>,\n",
       " <torch.utils.data.dataloader.DataLoader at 0x2b2dd6acb280>,\n",
       " <torch.utils.data.dataloader.DataLoader at 0x2b2dd6aca290>,\n",
       " <torch.utils.data.dataloader.DataLoader at 0x2b2dd6aca650>,\n",
       " <torch.utils.data.dataloader.DataLoader at 0x2b2dd6acb490>,\n",
       " <torch.utils.data.dataloader.DataLoader at 0x2b2dd6acb9d0>,\n",
       " <torch.utils.data.dataloader.DataLoader at 0x2b2dd6aca4d0>,\n",
       " <torch.utils.data.dataloader.DataLoader at 0x2b2dd6acb5e0>,\n",
       " <torch.utils.data.dataloader.DataLoader at 0x2b2dd6aca530>]"
      ]
     },
     "execution_count": 252,
     "metadata": {},
     "output_type": "execute_result"
    }
   ],
   "source": [
    "prepare_model() # still to prepare..."
   ]
  },
  {
   "cell_type": "code",
   "execution_count": null,
   "metadata": {},
   "outputs": [],
   "source": []
  },
  {
   "cell_type": "code",
   "execution_count": 278,
   "metadata": {},
   "outputs": [
    {
     "ename": "ValueError",
     "evalue": "dictionary update sequence element #0 has length 7; 2 is required",
     "output_type": "error",
     "traceback": [
      "\u001b[0;31m---------------------------------------------------------------------------\u001b[0m",
      "\u001b[0;31mValueError\u001b[0m                                Traceback (most recent call last)",
      "Cell \u001b[0;32mIn[278], line 17\u001b[0m\n\u001b[1;32m      5\u001b[0m model_test_hparams \u001b[39m=\u001b[39m {\n\u001b[1;32m      6\u001b[0m     \u001b[39m'\u001b[39m\u001b[39matomic_group\u001b[39m\u001b[39m'\u001b[39m : ind_Si_1,\n\u001b[1;32m      7\u001b[0m     \u001b[39m'\u001b[39m\u001b[39mdtype\u001b[39m\u001b[39m'\u001b[39m : hparams[\u001b[39m'\u001b[39m\u001b[39mdtype\u001b[39m\u001b[39m'\u001b[39m],\n\u001b[0;32m   (...)\u001b[0m\n\u001b[1;32m     12\u001b[0m     \u001b[39m'\u001b[39m\u001b[39msoap_params\u001b[39m\u001b[39m'\u001b[39m : soap_params,\n\u001b[1;32m     13\u001b[0m }\n\u001b[1;32m     15\u001b[0m hparams_test \u001b[39m=\u001b[39m [model_test_hparams]\n\u001b[0;32m---> 17\u001b[0m model_test \u001b[39m=\u001b[39m ModelForces(\n\u001b[1;32m     18\u001b[0m     train_x \u001b[39m=\u001b[39;49m train_data_loaders[\u001b[39m13\u001b[39;49m]\u001b[39m.\u001b[39;49mdataset[:][\u001b[39m0\u001b[39;49m],\n\u001b[1;32m     19\u001b[0m     train_y \u001b[39m=\u001b[39;49m train_data_loaders[\u001b[39m13\u001b[39;49m]\u001b[39m.\u001b[39;49mdataset[:][\u001b[39m1\u001b[39;49m],\n\u001b[1;32m     20\u001b[0m     atomic_group \u001b[39m=\u001b[39;49m ind_Si_1,\n\u001b[1;32m     21\u001b[0m     hparams \u001b[39m=\u001b[39;49m hparams_test,\n\u001b[1;32m     22\u001b[0m     \u001b[39mid\u001b[39;49m\u001b[39m=\u001b[39;49m\u001b[39m13\u001b[39;49m)\n",
      "File \u001b[0;32m/misc/home/qklmn/repos/rotor-gp/code/../../fande/fande/models/forces.py:268\u001b[0m, in \u001b[0;36mModelForces.__init__\u001b[0;34m(self, train_x, train_y, atomic_group, hparams, id)\u001b[0m\n\u001b[1;32m    265\u001b[0m     \u001b[39m# self.hparams = hparams\u001b[39;00m\n\u001b[1;32m    267\u001b[0m     \u001b[39mif\u001b[39;00m hparams \u001b[39mis\u001b[39;00m \u001b[39mnot\u001b[39;00m \u001b[39mNone\u001b[39;00m:\n\u001b[0;32m--> 268\u001b[0m         \u001b[39mself\u001b[39;49m\u001b[39m.\u001b[39;49mhparams\u001b[39m.\u001b[39;49mupdate(hparams)\n\u001b[1;32m    270\u001b[0m     \u001b[39m# self.save_hyperparameters()\u001b[39;00m\n\u001b[1;32m    271\u001b[0m     \u001b[39m#add prior for badly conditioned datasets\u001b[39;00m\n\u001b[1;32m    272\u001b[0m     \u001b[39m# this prior can affect predictions badly\u001b[39;00m\n\u001b[1;32m    273\u001b[0m     \u001b[39m# see https://github.com/cornellius-gp/gpytorch/issues/1297\u001b[39;00m\n\u001b[1;32m    274\u001b[0m \u001b[39m#     self.likelihood = gpytorch.likelihoods.GaussianLikelihood(\u001b[39;00m\n\u001b[1;32m    275\u001b[0m \u001b[39m# noise_prior=gpytorch.priors.SmoothedBoxPrior(0.1, 1.5, sigma=0.001))\u001b[39;00m\n\u001b[1;32m    277\u001b[0m     \u001b[39mself\u001b[39m\u001b[39m.\u001b[39mlikelihood \u001b[39m=\u001b[39m gpytorch\u001b[39m.\u001b[39mlikelihoods\u001b[39m.\u001b[39mGaussianLikelihood()\n",
      "\u001b[0;31mValueError\u001b[0m: dictionary update sequence element #0 has length 7; 2 is required"
     ]
    }
   ],
   "source": [
    "# from fande.models\n",
    "\n",
    "from fande.models import ModelForces, GroupModelForces\n",
    "\n",
    "model_test_hparams = {\n",
    "    'atomic_group' : ind_Si_1,\n",
    "    'dtype' : hparams['dtype'],\n",
    "    'device' : hparams['device'],\n",
    "    'num_epochs' : n_steps,\n",
    "    'learning_rate' : lr,\n",
    "    'soap_dim' : fdm.train_DX[13].shape[-1],\n",
    "    'soap_params' : soap_params,\n",
    "}\n",
    "\n",
    "hparams_test = [model_test_hparams]\n",
    "\n",
    "model_test = ModelForces(\n",
    "    train_x = train_data_loaders[13].dataset[:][0],\n",
    "    train_y = train_data_loaders[13].dataset[:][1],\n",
    "    atomic_group = ind_Si_1,\n",
    "    hparams = hparams_test,\n",
    "    id=13)"
   ]
  },
  {
   "cell_type": "code",
   "execution_count": 265,
   "metadata": {},
   "outputs": [
    {
     "ename": "PicklingError",
     "evalue": "Can't pickle <class 'fande.models.forces.ModelForces'>: it's not the same object as fande.models.forces.ModelForces",
     "output_type": "error",
     "traceback": [
      "\u001b[0;31m---------------------------------------------------------------------------\u001b[0m",
      "\u001b[0;31mPicklingError\u001b[0m                             Traceback (most recent call last)",
      "Cell \u001b[0;32mIn[265], line 1\u001b[0m\n\u001b[0;32m----> 1\u001b[0m torch\u001b[39m.\u001b[39;49msave(AG_force_model\u001b[39m.\u001b[39;49mmodels[\u001b[39m0\u001b[39;49m], \u001b[39m\"\u001b[39;49m\u001b[39mmodel.pth\u001b[39;49m\u001b[39m\"\u001b[39;49m)\n",
      "File \u001b[0;32m~/mambaforge/envs/gpuenv/lib/python3.10/site-packages/torch/serialization.py:380\u001b[0m, in \u001b[0;36msave\u001b[0;34m(obj, f, pickle_module, pickle_protocol, _use_new_zipfile_serialization)\u001b[0m\n\u001b[1;32m    378\u001b[0m \u001b[39mif\u001b[39;00m _use_new_zipfile_serialization:\n\u001b[1;32m    379\u001b[0m     \u001b[39mwith\u001b[39;00m _open_zipfile_writer(opened_file) \u001b[39mas\u001b[39;00m opened_zipfile:\n\u001b[0;32m--> 380\u001b[0m         _save(obj, opened_zipfile, pickle_module, pickle_protocol)\n\u001b[1;32m    381\u001b[0m         \u001b[39mreturn\u001b[39;00m\n\u001b[1;32m    382\u001b[0m _legacy_save(obj, opened_file, pickle_module, pickle_protocol)\n",
      "File \u001b[0;32m~/mambaforge/envs/gpuenv/lib/python3.10/site-packages/torch/serialization.py:589\u001b[0m, in \u001b[0;36m_save\u001b[0;34m(obj, zip_file, pickle_module, pickle_protocol)\u001b[0m\n\u001b[1;32m    587\u001b[0m pickler \u001b[39m=\u001b[39m pickle_module\u001b[39m.\u001b[39mPickler(data_buf, protocol\u001b[39m=\u001b[39mpickle_protocol)\n\u001b[1;32m    588\u001b[0m pickler\u001b[39m.\u001b[39mpersistent_id \u001b[39m=\u001b[39m persistent_id\n\u001b[0;32m--> 589\u001b[0m pickler\u001b[39m.\u001b[39;49mdump(obj)\n\u001b[1;32m    590\u001b[0m data_value \u001b[39m=\u001b[39m data_buf\u001b[39m.\u001b[39mgetvalue()\n\u001b[1;32m    591\u001b[0m zip_file\u001b[39m.\u001b[39mwrite_record(\u001b[39m'\u001b[39m\u001b[39mdata.pkl\u001b[39m\u001b[39m'\u001b[39m, data_value, \u001b[39mlen\u001b[39m(data_value))\n",
      "\u001b[0;31mPicklingError\u001b[0m: Can't pickle <class 'fande.models.forces.ModelForces'>: it's not the same object as fande.models.forces.ModelForces"
     ]
    }
   ],
   "source": [
    "torch.save(AG_force_model.models[0], \"model.pth\")\n",
    "\n"
   ]
  },
  {
   "cell_type": "code",
   "execution_count": null,
   "metadata": {},
   "outputs": [],
   "source": [
    "# make a nice starting configuration for i-pi\n",
    "from ase import io\n",
    "\n",
    "data_folder = \"/home/qklmn/data/\"\n",
    "atoms = read(data_folder + \"datasets/rotors/different_temperatures/300/OUTCAR\", format=\"vasp-out\", index = \"350\")\n",
    "io.write(\"/home/qklmn/data/starting_configuration/1.cif\", atoms, format='cif')"
   ]
  },
  {
   "cell_type": "code",
   "execution_count": 254,
   "metadata": {},
   "outputs": [],
   "source": [
    "tr_dl = torch.load(\"train_data_loaders.pth\")"
   ]
  },
  {
   "cell_type": "code",
   "execution_count": 262,
   "metadata": {},
   "outputs": [
    {
     "data": {
      "text/plain": [
       "1000"
      ]
     },
     "execution_count": 262,
     "metadata": {},
     "output_type": "execute_result"
    }
   ],
   "source": [
    "len(tr_dl[10].dataset)"
   ]
  },
  {
   "cell_type": "code",
   "execution_count": 228,
   "metadata": {},
   "outputs": [],
   "source": [
    "from ase import io\n",
    "\n",
    "\n",
    "io.write(\"../md_TRAJ.traj\",traj_0)"
   ]
  },
  {
   "cell_type": "code",
   "execution_count": 241,
   "metadata": {},
   "outputs": [],
   "source": [
    "# plt.plot(uncertainties_0, label=\"0\")\n",
    "# # plt.plot(uncertainties_1, label=\"1\")\n",
    "# # plt.plot(uncertainties_2, label=\"2\")\n",
    "# plt.legend()\n",
    "# plt.show()"
   ]
  },
  {
   "cell_type": "code",
   "execution_count": 159,
   "metadata": {},
   "outputs": [
    {
     "ename": "AttributeError",
     "evalue": "'Atoms' object has no attribute 'get_forces_variance'",
     "output_type": "error",
     "traceback": [
      "\u001b[0;31m---------------------------------------------------------------------------\u001b[0m",
      "\u001b[0;31mAttributeError\u001b[0m                            Traceback (most recent call last)",
      "Cell \u001b[0;32mIn[159], line 1\u001b[0m\n\u001b[0;32m----> 1\u001b[0m atoms\u001b[39m.\u001b[39;49mget_forces_variance()\n",
      "\u001b[0;31mAttributeError\u001b[0m: 'Atoms' object has no attribute 'get_forces_variance'"
     ]
    }
   ],
   "source": [
    "atoms.get_forces_variance()"
   ]
  },
  {
   "cell_type": "code",
   "execution_count": 52,
   "metadata": {},
   "outputs": [],
   "source": [
    "from ase import io\n",
    "\n",
    "data_folder = \"/home/qklmn/data/\"\n",
    "# data_folder = \"/data1/simulations/\"\n",
    "\n",
    "# print(\"Loading training data...\")\n",
    "# traj_300 = io.read(\"/data1/simulations/datasets/rotors/different_temperatures/300/OUTCAR\", format=\"vasp-out\", index = \":\")\n",
    "# traj_600 = io.read(\"/data1/simulations/datasets/rotors/different_temperatures/600/OUTCAR\", format=\"vasp-out\", index = \":\")\n",
    "# traj_900 = io.read(\"/data1/simulations/datasets/rotors/different_temperatures/900/OUTCAR\", format=\"vasp-out\", index = \":\")\n",
    "# traj_1200 = io.read(\"/data1/simulations/datasets/rotors/different_temperatures/1200/OUTCAR\", format=\"vasp-out\", index = \":\")\n",
    "# traj_1500 = io.read(\"/data1/simulations/datasets/rotors/different_temperatures/1200/OUTCAR\", format=\"vasp-out\", index = \":\")\n",
    "# traj_1800 = io.read(\"/data1/simulations/datasets/rotors/different_temperatures/1800/OUTCAR\", format=\"vasp-out\", index = \":\")\n",
    "# traj_2100 = io.read(\"/data1/simulations/datasets/rotors/different_temperatures/2100/OUTCAR\", format=\"vasp-out\", index = \":\")\n",
    "# print(len(traj_300), len(traj_600), len(traj_900), len(traj_1200), len(traj_1500), len(traj_1800), len(traj_2100))\n",
    "\n",
    "\n",
    "# traj_300 = io.read(data_folder + \"datasets/rotors/different_temperatures/300/OUTCAR\", format=\"vasp-out\", index = \":\")\n",
    "# traj_600 = io.read(data_folder + \"datasets/rotors/different_temperatures/600/OUTCAR\", format=\"vasp-out\", index = \":\")\n",
    "# traj_900 = io.read(data_folder + \"datasets/rotors/different_temperatures/900/OUTCAR\", format=\"vasp-out\", index = \":\")\n",
    "# traj_1200 = io.read(data_folder + \"datasets/rotors/different_temperatures/1200/OUTCAR\", format=\"vasp-out\", index = \":\")\n",
    "# traj_1500 = io.read(data_folder + \"datasets/rotors/different_temperatures/1500/OUTCAR\", format=\"vasp-out\", index = \":\")\n",
    "# traj_1800 = io.read(data_folder + \"datasets/rotors/different_temperatures/1800/OUTCAR\", format=\"vasp-out\", index = \":\")\n",
    "traj_2100 = io.read(data_folder + \"datasets/rotors/different_temperatures/2100/OUTCAR\", format=\"vasp-out\", index = \":\")"
   ]
  },
  {
   "cell_type": "code",
   "execution_count": 53,
   "metadata": {},
   "outputs": [
    {
     "data": {
      "text/plain": [
       "'/misc/home/qklmn/repos/rotor-gp/code'"
      ]
     },
     "execution_count": 53,
     "metadata": {},
     "output_type": "execute_result"
    }
   ],
   "source": [
    "import os\n",
    "os.getcwd()"
   ]
  },
  {
   "cell_type": "code",
   "execution_count": 55,
   "metadata": {},
   "outputs": [],
   "source": [
    "io.write(\"md_2100.traj\", traj_2100)"
   ]
  },
  {
   "cell_type": "code",
   "execution_count": 221,
   "metadata": {},
   "outputs": [],
   "source": [
    "# from ase.units import Bohr,Rydberg,kJ,kB,fs,Hartree,mol,kcal"
   ]
  }
 ],
 "metadata": {
  "kernelspec": {
   "display_name": "Python 3 (ipykernel)",
   "language": "python",
   "name": "python3"
  },
  "language_info": {
   "codemirror_mode": {
    "name": "ipython",
    "version": 3
   },
   "file_extension": ".py",
   "mimetype": "text/x-python",
   "name": "python",
   "nbconvert_exporter": "python",
   "pygments_lexer": "ipython3",
   "version": "3.10.12"
  },
  "orig_nbformat": 4
 },
 "nbformat": 4,
 "nbformat_minor": 2
}
