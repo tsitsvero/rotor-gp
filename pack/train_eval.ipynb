{
 "cells": [
  {
   "cell_type": "markdown",
   "metadata": {
    "id": "7dCOI-tn1woN"
   },
   "source": [
    "<a href=\"https://colab.research.google.com/github/tsitsvero/rotor-gp/blob/main/pack/train_eval.ipynb\" target=\"_parent\"><img src=\"https://colab.research.google.com/assets/colab-badge.svg\" alt=\"Open In Colab\"/></a>"
   ]
  },
  {
   "cell_type": "markdown",
   "metadata": {
    "id": "CGkUAB7q1woR"
   },
   "source": [
    "# Install dependencies"
   ]
  },
  {
   "cell_type": "code",
   "execution_count": null,
   "metadata": {
    "colab": {
     "base_uri": "https://localhost:8080/"
    },
    "id": "znyGV5dF1woR",
    "outputId": "7e363cf9-78c6-44ea-dbe4-0621d45f020c"
   },
   "outputs": [],
   "source": [
    "!pip install git+https://github.com/lab-cosmo/librascal gpytorch pytorch-lightning wandb git+https://github.com/chem-gp/fande xtb nbstripout\n",
    "! nbstripout --install --global"
   ]
  },
  {
   "cell_type": "code",
   "execution_count": null,
   "metadata": {
    "colab": {
     "base_uri": "https://localhost:8080/"
    },
    "id": "Davwyq8M136x",
    "outputId": "bb54ac6f-9eee-4bd5-834f-221cca00af13"
   },
   "outputs": [],
   "source": [
    "from google.colab import drive\n",
    "drive.mount('/content/drive')"
   ]
  },
  {
   "cell_type": "markdown",
   "metadata": {
    "id": "R1vtf8fz1woT"
   },
   "source": [
    "## Cooking up the model"
   ]
  },
  {
   "cell_type": "code",
   "execution_count": null,
   "metadata": {},
   "outputs": [],
   "source": [
    "# Prepare the training data:\n",
    "from ase import io\n",
    "\n",
    "\n",
    "traj_295 = io.read(DATA_DIR+\"/results_triasine_ML_2000/struct_295_295K/md_trajectory.traj\", index=\":\")\n",
    "# traj_355 = io.read(DATA_DIR+\"/results_triasine_ML_2000/struct_355_355K/md_trajectory.traj\", index=\":\")\n",
    "traj_295_2000K = io.read(DATA_DIR+\"/results_triasine_ML_2000/struct_295_2000K/md_trajectory.traj\", index=\":\")\n",
    "# traj_355_2000K = io.read(DATA_DIR+\"/results_triasine_ML_2000/struct_355_2000K/md_trajectory.traj\", index=\":\")\n",
    "# traj_295_2000K_forced = io.read(DATA_DIR+\"/results_triasine_ML_2000/struct_295_2000K_0075force/md_trajectory.traj\", index=\":\")\n",
    "# traj_355_2000K_forced = io.read(DATA_DIR+\"/results_triasine_ML_2000/struct_355_2000K_0075force/md_trajectory.traj\", index=\":\")\n",
    "\n",
    "# trajectory_energy = traj_295[0:5000] + traj_355[0:5000] + traj_295_2000K[0:5000] + traj_355_2000K[0:5000] + traj_295_2000K_forced[0:5000] + traj_355_2000K_forced[0:5000]\n",
    "# trajectory_energy = traj_295 + traj_295_2000K + traj\n",
    "# trajectory_forces = traj_295_2000K[0:5000:5]\n",
    "\n",
    "trajectory_energy = traj_295[0:5000:10] +  traj_295_2000K[0:5000:10]\n",
    "\n",
    "test_traj = io.read(DATA_DIR + \"/results_triasine_ML_2000/struct_295_295K/md_trajectory.traj\", index=\"1235:1240\")\n",
    "\n",
    "# prepare trajectory_energy, trajectory_forces, validation_energy, validation_forces"
   ]
  },
  {
   "cell_type": "code",
   "execution_count": null,
   "metadata": {
    "colab": {
     "base_uri": "https://localhost:8080/"
    },
    "id": "LRz1N5Qq1woU",
    "outputId": "0b912c83-6761-4b21-b090-cb518932f74e"
   },
   "outputs": [],
   "source": [
    "import os\n",
    "# DATA_DIR = os.path.expanduser(\"~/repos/data/\")\n",
    "# # DATA_DIR = \"/data1/simulations/datasets/rotors/high_temp_ML_training_data/\"\n",
    "# RESULTS_DIR = os.path.expanduser(\"~/repos/data/results\")\n",
    "\n",
    "DATA_DIR = os.path.expanduser(\"/content/drive/MyDrive/data/\")\n",
    "# FANDE_DIR = os.path.expanduser(\"~/\")\n",
    "RESULTS_DIR = os.path.expanduser(\"/content/results\")\n",
    "# os.makedirs(RESULTS_DIR, exist_ok=True)\n",
    "\n",
    "ENERGY_MODEL = 'variational_inducing_points' #'variational_inducing_points', 'exact'\n",
    "ENERGY_NUM_INDUCING_POINTS = 10\n",
    "ENERGY_LR = 0.1\n",
    "ENERGY_NUM_STEPS = 5\n",
    "\n",
    "FORCES_MODEL = 'variational_inducing_points' #'variational_inducing_points', 'exact'\n",
    "FORCES_NUM_INDUCING_POINTS = 10\n",
    "NUM_FORCE_SAMPLES = 10\n",
    "FORCES_LR = 0.1\n",
    "FORCES_NUM_STEPS = 5\n",
    "\n",
    "PREDICTOR_NAME = 'test.pth'\n",
    "SUBSAMPLE = 200 # subsample data to reduce time durings tests\n",
    "\n",
    "! python cook_model.py \\\n",
    "--data_dir $DATA_DIR \\\n",
    "--results_dir $RESULTS_DIR \\\n",
    "--energy_model $ENERGY_MODEL \\\n",
    "--energy_num_inducing_points $ENERGY_NUM_INDUCING_POINTS \\\n",
    "--energy_lr $ENERGY_LR \\\n",
    "--energy_num_steps $ENERGY_NUM_STEPS \\\n",
    "--forces_model $FORCES_MODEL \\\n",
    "--forces_num_inducing_points $FORCES_NUM_INDUCING_POINTS \\\n",
    "--num_force_samples $NUM_FORCE_SAMPLES \\\n",
    "--forces_lr $FORCES_LR \\\n",
    "--forces_num_steps $FORCES_NUM_STEPS \\\n",
    "--predictor_name $PREDICTOR_NAME \\\n",
    "--subsample $SUBSAMPLE\n"
   ]
  },
  {
   "cell_type": "markdown",
   "metadata": {
    "id": "ry9M9pUc1woU"
   },
   "source": [
    "## Testing models"
   ]
  },
  {
   "cell_type": "code",
   "execution_count": null,
   "metadata": {
    "id": "Q-igKC1a1woV"
   },
   "outputs": [],
   "source": [
    "from ase import io\n",
    "test_traj = io.read(DATA_DIR + \"/results_triasine_ML_2000/struct_295_295K/md_trajectory.traj\", index=\"1000:1010\")"
   ]
  },
  {
   "cell_type": "code",
   "execution_count": null,
   "metadata": {
    "colab": {
     "base_uri": "https://localhost:8080/"
    },
    "id": "81lptjK31woV",
    "outputId": "86208dd5-f9f8-4e6c-9036-1fd3b6171dc2"
   },
   "outputs": [],
   "source": [
    "import sys\n",
    "import torch\n",
    "FANDE_DIR = os.path.expanduser(\"~/repos/\")\n",
    "sys.path.append(FANDE_DIR + \"fande/\")\n",
    "\n",
    "from fande.predict import FandePredictor\n",
    "from fande.ase import FandeCalc\n",
    "# load the predictor:\n",
    "# predictor_loaded = torch.load(RESULTS_DIR + \"/fande_predictor.pth\")\n",
    "predictor_loaded = torch.load(RESULTS_DIR + \"/test.pth\")\n",
    "fande_calc_loaded = FandeCalc(predictor_loaded)\n",
    "device = torch.device('cpu')\n",
    "fande_calc_loaded.predictor.move_models_to_device(device)"
   ]
  },
  {
   "cell_type": "code",
   "execution_count": null,
   "metadata": {
    "colab": {
      "provenance": [],
      "machine_shape": "hm"
    }
  },
  "language_info": {
   "codemirror_mode": {
    "name": "ipython",
    "version": 3
   },
   "file_extension": ".py",
   "mimetype": "text/x-python",
   "name": "python",
   "nbconvert_exporter": "python",
   "pygments_lexer": "ipython3",
   "version": "3.10.13"
  }
 },
 "nbformat": 4,
 "nbformat_minor": 0
}
