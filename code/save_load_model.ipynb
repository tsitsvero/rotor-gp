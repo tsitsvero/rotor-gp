{
 "cells": [
  {
   "cell_type": "markdown",
   "metadata": {},
   "source": [
    "## We need the optimal strategy to load/save models"
   ]
  },
  {
   "cell_type": "code",
   "execution_count": 3,
   "metadata": {},
   "outputs": [
    {
     "name": "stdout",
     "output_type": "stream",
     "text": [
      "Total number of frames is 1\n",
      "Total number of batches is 1\n",
      "Total length of traj is 1\n",
      "Total number of batches 1\n",
      "Calculating invariants on trajectory with librascal...\n"
     ]
    },
    {
     "name": "stderr",
     "output_type": "stream",
     "text": [
      "100%|██████████| 1/1 [00:00<00:00,  1.52it/s]"
     ]
    },
    {
     "name": "stdout",
     "output_type": "stream",
     "text": [
      "0.0 [[ 3.23001528 -1.33135843 -1.74239302]\n",
      " [-0.546278   -1.22240639  0.35187721]\n",
      " [-0.1907053  -1.89948273 -0.81701851]\n",
      " ...\n",
      " [ 0.48821259 -1.30752563  0.28121185]\n",
      " [ 0.23548126  0.74869919  1.14985275]\n",
      " [ 0.92536926 -1.72566223 -0.75263214]]\n"
     ]
    },
    {
     "name": "stderr",
     "output_type": "stream",
     "text": [
      "\n"
     ]
    }
   ],
   "source": [
    "# https://pytorch-lightning.readthedocs.io/en/0.8.5/weights_loading.html\n",
    "\n",
    "# import torch\n",
    "\n",
    "# from fande.predict import PredictorASE\n",
    "# from fande.ase import FandeCalc\n",
    "\n",
    "\n",
    "# # fdm = prepare_data(hparams, soap_params, traj_sample_rate=1)\n",
    "\n",
    "# # train_data_loaders = sample_data(fdm, N_samples=14_000)\n",
    "\n",
    "# # AG_force_model = prepare_model(fdm, train_data_loaders, hparams, soap_params, 200, 0.01, gpu_id=gpu_id)\n",
    "\n",
    "# # test_performance(hparams, soap_params, AG_force_model, fdm) # check if working?\n",
    "\n",
    "# # predictor = PredictorASE(\n",
    "# #                 fdm,\n",
    "# #                 AG_force_model,\n",
    "# #                 hparams,\n",
    "# #                 soap_params\n",
    "# # )\n",
    "\n",
    "# predictor_loaded = torch.load(\"/data1/simulations/ML_models/predictor.pt\")\n",
    "\n",
    "\n",
    "import torch\n",
    "from fande.ase import FandeCalc\n",
    "\n",
    "predictor_loaded = torch.load(\"/data1/simulations/ML_models/predictor.pt\")\n",
    "fande_calc = FandeCalc(predictor_loaded)\n",
    "\n",
    "atoms = predictor_loaded.fdm.traj_train[0].copy()\n",
    "atoms.calc = fande_calc\n",
    "\n",
    "print( atoms.get_potential_energy(), atoms.get_forces() )\n",
    "# "
   ]
  },
  {
   "cell_type": "code",
   "execution_count": 2,
   "metadata": {},
   "outputs": [
    {
     "name": "stdout",
     "output_type": "stream",
     "text": [
      "Saving predictor requires humongous amount of memory! Spare some dozens of GBs!\n"
     ]
    }
   ],
   "source": [
    "fande_calc.save_predictor(\"/data1/simulations/ML_models/predictor_just_a_copy.pt\")"
   ]
  },
  {
   "cell_type": "code",
   "execution_count": 28,
   "metadata": {},
   "outputs": [
    {
     "data": {
      "text/plain": [
       "Atoms(symbols='C192H300N12O12Si12', pbc=True, cell=[[13.752, 0.0, 0.0], [-2.14253011477129, 19.18875787296557, 0.0], [-2.0842458005893625, -8.862442591006795, 19.1333936290412]], momenta=...)"
      ]
     },
     "execution_count": 28,
     "metadata": {},
     "output_type": "execute_result"
    }
   ],
   "source": [
    "predictor_loaded.fdm.traj_train[0].copy()"
   ]
  },
  {
   "cell_type": "code",
   "execution_count": 6,
   "metadata": {},
   "outputs": [],
   "source": [
    "fande_calc = FandeCalc(predictor_loaded)"
   ]
  },
  {
   "cell_type": "code",
   "execution_count": 8,
   "metadata": {},
   "outputs": [],
   "source": [
    "from ase import io\n",
    "\n",
    "traj_295 = io.read(\"/data1/simulations/datasets/rotors/high_temp_ML_training_data/results_triasine_ML_2000/2023-10-19_15%3A13%3A19.421698/md_trajectory.traj\", index=\":\")\n",
    "snap = traj_295[0].copy()\n",
    "snap.calc = fande_calc"
   ]
  },
  {
   "cell_type": "code",
   "execution_count": 9,
   "metadata": {},
   "outputs": [],
   "source": [
    "%%capture c\n",
    "# ic(traj_295[0].get_potential_energy())\n",
    "\n",
    "from tqdm import tqdm\n",
    "\n",
    "f_295 = []\n",
    "f_fande = []\n",
    "f_fande_uncertainty = []\n",
    "\n",
    "for i in tqdm(range(4900,5000)):\n",
    "        snap = traj_295[i]\n",
    "        snap_copy = snap.copy()\n",
    "        snap_copy.calc = fande_calc\n",
    "        f_fande.append(snap_copy.get_forces())\n",
    "        f_fande_uncertainty.append( snap_copy.calc.get_forces_variance(snap_copy) )\n",
    "        f_295.append(snap.get_forces())"
   ]
  },
  {
   "cell_type": "code",
   "execution_count": 16,
   "metadata": {},
   "outputs": [
    {
     "name": "stdout",
     "output_type": "stream",
     "text": [
      "/data1/simulations/ML_models/trash\n"
     ]
    }
   ],
   "source": [
    "import os\n",
    "print( os.getcwd() )\n",
    "os.chdir(\"/data1/simulations/ML_models/trash\")"
   ]
  },
  {
   "cell_type": "code",
   "execution_count": 17,
   "metadata": {},
   "outputs": [],
   "source": [
    "import matplotlib.pyplot as plt\n",
    "import numpy as np\n",
    "\n",
    "symbols = snap.get_chemical_symbols()\n",
    "\n",
    "f_295 = np.array(f_295)\n",
    "f_fande = np.array(f_fande)\n",
    "\n",
    "error = np.abs(f_295-f_fande)\n",
    "\n",
    "f_fande_uncertainty = np.array(f_fande_uncertainty)\n",
    "\n",
    "\n",
    "os.makedirs(\"images\", exist_ok=True)\n",
    "\n",
    "for ind in range(528):\n",
    "\n",
    "        fig, axs = plt.subplots(4, 1, figsize=(10, 10), sharex=True)\n",
    "\n",
    "        # ind = 70\n",
    "        plt.title(\"Atom \" + str(ind) + \", \" + symbols[ind])\n",
    "\n",
    "        axs[0].plot(f_295[:,ind,0], label=\"DFT 295 K\")\n",
    "        axs[0].plot(f_fande[:,ind,0], label=\"FANDE trained on 2000 K\", linestyle=\":\")\n",
    "        \n",
    "        axs[1].plot(f_295[:,ind,1], label=\"DFT 295 K\")\n",
    "        axs[1].plot(f_fande[:,ind,1], label=\"FANDE trained on 2000 K\", linestyle=\":\")\n",
    "        \n",
    "        axs[2].plot(f_295[:,ind,2], label=\"DFT 295 K\")\n",
    "        axs[2].plot(f_fande[:,ind,2], label=\"FANDE trained on 2000 K\", linestyle=\":\")\n",
    "        # plt.show()\n",
    "\n",
    "        axs[3].plot(error[:,ind,0], label=\"Error\")\n",
    "        axs[3].plot(f_fande_uncertainty[:,ind,0], label=\"Uncertainty\", linestyle=\"--\")\n",
    "        plt.legend()\n",
    "        plt.savefig(\"images/fande_forces_\" + str(ind) + \".png\")\n",
    "        plt.close()"
   ]
  }
 ],
 "metadata": {
  "kernelspec": {
   "display_name": "base",
   "language": "python",
   "name": "python3"
  },
  "language_info": {
   "codemirror_mode": {
    "name": "ipython",
    "version": 3
   },
   "file_extension": ".py",
   "mimetype": "text/x-python",
   "name": "python",
   "nbconvert_exporter": "python",
   "pygments_lexer": "ipython3",
   "version": "3.10.10"
  },
  "orig_nbformat": 4
 },
 "nbformat": 4,
 "nbformat_minor": 2
}
