{
 "cells": [
  {
   "cell_type": "markdown",
   "metadata": {},
   "source": [
    "## Prepare calculator"
   ]
  },
  {
   "cell_type": "code",
   "execution_count": 144,
   "metadata": {},
   "outputs": [
    {
     "name": "stdout",
     "output_type": "stream",
     "text": [
      "The autoreload extension is already loaded. To reload it, use:\n",
      "  %reload_ext autoreload\n",
      "DLBox-Alpha\n",
      "Saving data to directory:  /home/dlbox2/repos/rotor-gp/results/train_and_run/2023-11-24_16 40-34_339042\n",
      "Loading training data...\n",
      "Length of the train trajectory:  500\n",
      "Total number of found groups: 14\n",
      "Checking if all atoms are covered:  True\n",
      "Total number of frames is 500\n",
      "Total number of batches is 500\n",
      "Total length of traj is 500\n",
      "Total number of batches 500\n",
      "Calculating invariants on trajectory with librascal...\n"
     ]
    },
    {
     "name": "stderr",
     "output_type": "stream",
     "text": [
      "100%|██████████| 500/500 [05:05<00:00,  1.64it/s]\n"
     ]
    },
    {
     "name": "stdout",
     "output_type": "stream",
     "text": [
      "Total number of frames is 20\n",
      "Total number of batches is 20\n",
      "Total length of traj is 20\n",
      "Total number of batches 20\n",
      "Calculating invariants on trajectory with librascal...\n"
     ]
    },
    {
     "name": "stderr",
     "output_type": "stream",
     "text": [
      "100%|██████████| 20/20 [00:10<00:00,  1.87it/s]\n"
     ]
    },
    {
     "name": "stdout",
     "output_type": "stream",
     "text": [
      "\n",
      "-----------\n",
      "Group  0\n",
      "-----------\n",
      "Number of training points for group 0:  18000\n",
      "Number of test points for group 0:  720\n",
      "\n",
      "-----------\n",
      "Group  1\n",
      "-----------\n",
      "Number of training points for group 1:  324000\n",
      "Number of test points for group 1:  12960\n",
      "\n",
      "-----------\n",
      "Group  2\n",
      "-----------\n",
      "Number of training points for group 2:  108000\n",
      "Number of test points for group 2:  4320\n",
      "\n",
      "-----------\n",
      "Group  3\n",
      "-----------\n",
      "Number of training points for group 3:  18000\n",
      "Number of test points for group 3:  720\n",
      "\n",
      "-----------\n",
      "Group  4\n",
      "-----------\n",
      "Number of training points for group 4:  18000\n",
      "Number of test points for group 4:  720\n",
      "\n",
      "-----------\n",
      "Group  5\n",
      "-----------\n",
      "Number of training points for group 5:  36000\n",
      "Number of test points for group 5:  1440\n",
      "\n",
      "-----------\n",
      "Group  6\n",
      "-----------\n",
      "Number of training points for group 6:  54000\n",
      "Number of test points for group 6:  2160\n",
      "\n",
      "-----------\n",
      "Group  7\n",
      "-----------\n",
      "Number of training points for group 7:  36000\n",
      "Number of test points for group 7:  1440\n",
      "\n",
      "-----------\n",
      "Group  8\n",
      "-----------\n",
      "Number of training points for group 8:  36000\n",
      "Number of test points for group 8:  1440\n",
      "\n",
      "-----------\n",
      "Group  9\n",
      "-----------\n",
      "Number of training points for group 9:  54000\n",
      "Number of test points for group 9:  2160\n",
      "\n",
      "-----------\n",
      "Group  10\n",
      "-----------\n",
      "Number of training points for group 10:  18000\n",
      "Number of test points for group 10:  720\n",
      "\n",
      "-----------\n",
      "Group  11\n",
      "-----------\n",
      "Number of training points for group 11:  36000\n",
      "Number of test points for group 11:  1440\n",
      "\n",
      "-----------\n",
      "Group  12\n",
      "-----------\n",
      "Number of training points for group 12:  18000\n",
      "Number of test points for group 12:  720\n",
      "\n",
      "-----------\n",
      "Group  13\n",
      "-----------\n"
     ]
    },
    {
     "name": "stderr",
     "output_type": "stream",
     "text": [
      "GPU available: True (cuda), used: True\n",
      "TPU available: False, using: 0 TPU cores\n",
      "IPU available: False, using: 0 IPUs\n",
      "HPU available: False, using: 0 HPUs\n",
      "GPU available: True (cuda), used: True\n",
      "TPU available: False, using: 0 TPU cores\n",
      "IPU available: False, using: 0 IPUs\n",
      "HPU available: False, using: 0 HPUs\n"
     ]
    },
    {
     "name": "stdout",
     "output_type": "stream",
     "text": [
      "Number of training points for group 13:  18000\n",
      "Number of test points for group 13:  720\n",
      "Dataloader for group 0 created\n",
      "Number of samples in dataloader: 7200\n",
      "Dataloader for group 1 created\n",
      "Number of samples in dataloader: 7200\n",
      "Dataloader for group 2 created\n",
      "Number of samples in dataloader: 7200\n",
      "Dataloader for group 3 created\n",
      "Number of samples in dataloader: 7200\n",
      "Dataloader for group 4 created\n",
      "Number of samples in dataloader: 7200\n",
      "Dataloader for group 5 created\n",
      "Number of samples in dataloader: 7200\n",
      "Dataloader for group 6 created\n",
      "Number of samples in dataloader: 7200\n",
      "Dataloader for group 7 created\n",
      "Number of samples in dataloader: 7200\n",
      "Dataloader for group 8 created\n",
      "Number of samples in dataloader: 7200\n",
      "Dataloader for group 9 created\n",
      "Number of samples in dataloader: 7200\n",
      "Dataloader for group 10 created\n",
      "Number of samples in dataloader: 7200\n",
      "Dataloader for group 11 created\n",
      "Number of samples in dataloader: 7200\n",
      "Dataloader for group 12 created\n",
      "Number of samples in dataloader: 7200\n",
      "Dataloader for group 13 created\n",
      "Number of samples in dataloader: 7200\n",
      "\n",
      "ModelForces initialized\n",
      "\n",
      "ModelForces initialized\n",
      "\n",
      "ModelForces initialized\n",
      "\n",
      "ModelForces initialized\n",
      "\n",
      "ModelForces initialized\n",
      "\n",
      "ModelForces initialized\n",
      "\n",
      "ModelForces initialized\n",
      "\n",
      "ModelForces initialized\n",
      "\n",
      "ModelForces initialized\n",
      "\n",
      "ModelForces initialized\n",
      "\n",
      "ModelForces initialized\n",
      "\n",
      "ModelForces initialized\n",
      "\n",
      "ModelForces initialized\n",
      "\n",
      "ModelForces initialized\n"
     ]
    },
    {
     "name": "stderr",
     "output_type": "stream",
     "text": [
      "GPU available: True (cuda), used: True\n",
      "TPU available: False, using: 0 TPU cores\n",
      "IPU available: False, using: 0 IPUs\n",
      "HPU available: False, using: 0 HPUs\n",
      "GPU available: True (cuda), used: True\n",
      "TPU available: False, using: 0 TPU cores\n",
      "IPU available: False, using: 0 IPUs\n",
      "HPU available: False, using: 0 HPUs\n",
      "GPU available: True (cuda), used: True\n",
      "TPU available: False, using: 0 TPU cores\n",
      "IPU available: False, using: 0 IPUs\n",
      "HPU available: False, using: 0 HPUs\n",
      "GPU available: True (cuda), used: True\n",
      "TPU available: False, using: 0 TPU cores\n",
      "IPU available: False, using: 0 IPUs\n",
      "HPU available: False, using: 0 HPUs\n",
      "GPU available: True (cuda), used: True\n",
      "TPU available: False, using: 0 TPU cores\n",
      "IPU available: False, using: 0 IPUs\n",
      "HPU available: False, using: 0 HPUs\n",
      "GPU available: True (cuda), used: True\n",
      "TPU available: False, using: 0 TPU cores\n",
      "IPU available: False, using: 0 IPUs\n",
      "HPU available: False, using: 0 HPUs\n",
      "GPU available: True (cuda), used: True\n",
      "TPU available: False, using: 0 TPU cores\n",
      "IPU available: False, using: 0 IPUs\n",
      "HPU available: False, using: 0 HPUs\n",
      "GPU available: True (cuda), used: True\n",
      "TPU available: False, using: 0 TPU cores\n",
      "IPU available: False, using: 0 IPUs\n",
      "HPU available: False, using: 0 HPUs\n",
      "GPU available: True (cuda), used: True\n",
      "TPU available: False, using: 0 TPU cores\n",
      "IPU available: False, using: 0 IPUs\n",
      "HPU available: False, using: 0 HPUs\n",
      "GPU available: True (cuda), used: True\n",
      "TPU available: False, using: 0 TPU cores\n",
      "IPU available: False, using: 0 IPUs\n",
      "HPU available: False, using: 0 HPUs\n",
      "GPU available: True (cuda), used: True\n",
      "TPU available: False, using: 0 TPU cores\n",
      "IPU available: False, using: 0 IPUs\n",
      "HPU available: False, using: 0 HPUs\n",
      "GPU available: True (cuda), used: True\n",
      "TPU available: False, using: 0 TPU cores\n",
      "IPU available: False, using: 0 IPUs\n",
      "HPU available: False, using: 0 HPUs\n",
      "Missing logger folder: /home/dlbox2/repos/rotor-gp/results/train_and_run/2023-11-24_16 40-34_339042/lightning_logs\n",
      "LOCAL_RANK: 0 - CUDA_VISIBLE_DEVICES: [0,1]\n",
      "\n",
      "  | Name       | Type                       | Params\n",
      "----------------------------------------------------------\n",
      "0 | likelihood | GaussianLikelihood         | 1     \n",
      "1 | model      | ExactGPModelForces         | 1.2 K \n",
      "2 | mll        | ExactMarginalLogLikelihood | 1.2 K \n",
      "----------------------------------------------------------\n",
      "1.2 K     Trainable params\n",
      "0         Non-trainable params\n",
      "1.2 K     Total params\n",
      "0.005     Total estimated model params size (MB)\n"
     ]
    },
    {
     "name": "stdout",
     "output_type": "stream",
     "text": [
      "Training force model 0 (Total 14 models)\n"
     ]
    },
    {
     "data": {
      "application/vnd.jupyter.widget-view+json": {
       "model_id": "2cfdd567dbe24a1787e6a228a633a7cf",
       "version_major": 2,
       "version_minor": 0
      },
      "text/plain": [
       "Training: 0it [00:00, ?it/s]"
      ]
     },
     "metadata": {},
     "output_type": "display_data"
    },
    {
     "name": "stderr",
     "output_type": "stream",
     "text": [
      "`Trainer.fit` stopped: `max_epochs=200` reached.\n",
      "LOCAL_RANK: 0 - CUDA_VISIBLE_DEVICES: [0,1]\n",
      "\n",
      "  | Name       | Type                       | Params\n",
      "----------------------------------------------------------\n",
      "0 | likelihood | GaussianLikelihood         | 1     \n",
      "1 | model      | ExactGPModelForces         | 1.2 K \n",
      "2 | mll        | ExactMarginalLogLikelihood | 1.2 K \n",
      "----------------------------------------------------------\n",
      "1.2 K     Trainable params\n",
      "0         Non-trainable params\n",
      "1.2 K     Total params\n",
      "0.005     Total estimated model params size (MB)\n"
     ]
    },
    {
     "name": "stdout",
     "output_type": "stream",
     "text": [
      "Training force model 1 (Total 14 models)\n"
     ]
    },
    {
     "data": {
      "application/vnd.jupyter.widget-view+json": {
       "model_id": "6d4418e58d8d4f6db1c640f3922319bb",
       "version_major": 2,
       "version_minor": 0
      },
      "text/plain": [
       "Training: 0it [00:00, ?it/s]"
      ]
     },
     "metadata": {},
     "output_type": "display_data"
    },
    {
     "name": "stderr",
     "output_type": "stream",
     "text": [
      "`Trainer.fit` stopped: `max_epochs=200` reached.\n",
      "LOCAL_RANK: 0 - CUDA_VISIBLE_DEVICES: [0,1]\n",
      "\n",
      "  | Name       | Type                       | Params\n",
      "----------------------------------------------------------\n",
      "0 | likelihood | GaussianLikelihood         | 1     \n",
      "1 | model      | ExactGPModelForces         | 1.2 K \n",
      "2 | mll        | ExactMarginalLogLikelihood | 1.2 K \n",
      "----------------------------------------------------------\n",
      "1.2 K     Trainable params\n",
      "0         Non-trainable params\n",
      "1.2 K     Total params\n",
      "0.005     Total estimated model params size (MB)\n"
     ]
    },
    {
     "name": "stdout",
     "output_type": "stream",
     "text": [
      "Training force model 2 (Total 14 models)\n"
     ]
    },
    {
     "data": {
      "application/vnd.jupyter.widget-view+json": {
       "model_id": "03ccc34ed9b84ef98253be111d60614f",
       "version_major": 2,
       "version_minor": 0
      },
      "text/plain": [
       "Training: 0it [00:00, ?it/s]"
      ]
     },
     "metadata": {},
     "output_type": "display_data"
    },
    {
     "name": "stderr",
     "output_type": "stream",
     "text": [
      "`Trainer.fit` stopped: `max_epochs=200` reached.\n",
      "LOCAL_RANK: 0 - CUDA_VISIBLE_DEVICES: [0,1]\n",
      "\n",
      "  | Name       | Type                       | Params\n",
      "----------------------------------------------------------\n",
      "0 | likelihood | GaussianLikelihood         | 1     \n",
      "1 | model      | ExactGPModelForces         | 1.2 K \n",
      "2 | mll        | ExactMarginalLogLikelihood | 1.2 K \n",
      "----------------------------------------------------------\n",
      "1.2 K     Trainable params\n",
      "0         Non-trainable params\n",
      "1.2 K     Total params\n",
      "0.005     Total estimated model params size (MB)\n"
     ]
    },
    {
     "name": "stdout",
     "output_type": "stream",
     "text": [
      "Training force model 3 (Total 14 models)\n"
     ]
    },
    {
     "data": {
      "application/vnd.jupyter.widget-view+json": {
       "model_id": "41fe23082e114fe8873e069ed9d624f0",
       "version_major": 2,
       "version_minor": 0
      },
      "text/plain": [
       "Training: 0it [00:00, ?it/s]"
      ]
     },
     "metadata": {},
     "output_type": "display_data"
    }
   ],
   "source": [
    "%load_ext autoreload\n",
    "%autoreload 2\n",
    "import socket\n",
    "print(socket.gethostname())\n",
    "\n",
    "# %load_ext autoreload\n",
    "# %autoreload 2\n",
    "\n",
    "import os\n",
    "import sys\n",
    "sys.path.append(os.path.expandvars(\"/home/$USER/repos/fande/\") )\n",
    "\n",
    "\n",
    "from prepare_model import prepare_fande_ase_calc\n",
    "\n",
    "# Hyperparameters:\n",
    "hparams = {\n",
    "        'dtype' : 'float32',\n",
    "        'device' : 'gpu'\n",
    "        }\n",
    "\n",
    "# Descriptors parameters:\n",
    "# https://github.com/lab-cosmo/librascal/blob/master/examples/MLIP_example.ipynb\n",
    "soap_params = {\n",
    "# 'species': [\"H\", \"C\", \"O\", \"N\", \"Si\"],\n",
    "# 'periodic': True,\n",
    "'interaction_cutoff': 3.0,\n",
    "'gaussian_sigma_constant': 0.3,\n",
    "'max_radial': 4,\n",
    "'max_angular': 4,\n",
    "'cutoff_smooth_width': 0.1,\n",
    "# 'average': \"off\",\n",
    "# 'crossover': True,\n",
    "# 'dtype': \"float64\",\n",
    "# 'n_jobs': 10,\n",
    "# 'sparse': False,\n",
    "# 'positions': [7, 11, 15] # ignored\n",
    "}\n",
    "\n",
    "\n",
    "fande_calc = prepare_fande_ase_calc(hparams, soap_params)"
   ]
  },
  {
   "cell_type": "code",
   "execution_count": 31,
   "metadata": {},
   "outputs": [
    {
     "name": "stdout",
     "output_type": "stream",
     "text": [
      "Saving predictor requires humongous amount of memory! Spare some dozens of GBs!\n"
     ]
    }
   ],
   "source": [
    "fande_calc.save_predictor(\"/data1/simulations/ML_models/predictor_forced_deleted_tensors.pt\")"
   ]
  },
  {
   "cell_type": "code",
   "execution_count": 22,
   "metadata": {},
   "outputs": [],
   "source": [
    "import torch\n",
    "predictor_loaded = torch.load(\"/data1/simulations/ML_models/predictor_forced_deleted_tensors.pt\")"
   ]
  },
  {
   "cell_type": "code",
   "execution_count": 143,
   "metadata": {},
   "outputs": [
    {
     "name": "stdout",
     "output_type": "stream",
     "text": [
      "objects of fande.data module imported...\n",
      "7200\n",
      "7200\n",
      "7200\n",
      "7200\n",
      "7200\n",
      "7200\n",
      "7200\n",
      "7200\n",
      "7200\n",
      "7200\n",
      "7200\n",
      "7200\n",
      "7200\n",
      "7200\n"
     ]
    }
   ],
   "source": [
    "len(fande_calc.predictor.fdm.train_indices[2])\n",
    "\n",
    "for i in range(14):\n",
    "    print(len(fande_calc.predictor.fdm.train_indices[i]))"
   ]
  },
  {
   "cell_type": "code",
   "execution_count": 33,
   "metadata": {},
   "outputs": [],
   "source": [
    "os.chdir(\"/data1/simulations/ML_models/\")"
   ]
  },
  {
   "cell_type": "code",
   "execution_count": 36,
   "metadata": {},
   "outputs": [],
   "source": [
    "%%capture c\n",
    "### MD with fande calc\n",
    "print('Testing performance with (meta-)dynamics run...')\n",
    "\n",
    "from fande.ase import FandeCalc\n",
    "from ase.units import Bohr,Rydberg,kJ,kB,fs,Hartree,mol,kcal\n",
    "\n",
    "from ase import io\n",
    "\n",
    "import time\n",
    "\n",
    "# from ase.geometry.analysis import Analysis\n",
    "from ase.constraints import FixAtoms, FixBondLengths\n",
    "from ase.optimize import BFGS\n",
    "from ase import units\n",
    "from ase.io import read\n",
    "import logging\n",
    "from ase.md.velocitydistribution import MaxwellBoltzmannDistribution\n",
    "from ase.md.verlet import VelocityVerlet\n",
    "from ase.md.langevin import Langevin\n",
    "from ase.md.npt import NPT\n",
    "from ase.md.nptberendsen import NPTBerendsen\n",
    "from ase.md.nvtberendsen import NVTBerendsen\n",
    "\n",
    "\n",
    "logging.getLogger(\"pytorch_lightning\").setLevel(logging.ERROR) # logging.ERROR to disable or INFO\n",
    "\n",
    "# data_folder = \"/home/qklmn/data/\"\n",
    "# traj_test = io.read(data_folder + \"datasets/rotors/different_temperatures/300/OUTCAR\", format=\"vasp-out\", index = \"300:400\")\n",
    "\n",
    "# traj_md = read('../results/test/machine_learning/dftb_opt_1000_six_rings.traj', index=\":\")\n",
    "# traj_opt = read('../results/test/machine_learning/opt.traj', index=\":\")\n",
    "\n",
    "# traj_2000 = io.read(\"/data1/simulations/datasets/rotors/high_temp_ML_training_data/results_triasine_ML_2000/2023-10-19_15%3A10%3A59.497414/md_trajectory.traj\",index = \"0:10\")\n",
    "atoms = fande_calc.predictor.fdm.traj_train[0].copy()\n",
    "# snap.calc = fande_calc\n",
    "\n",
    "# atoms = fdm.mol_traj[10].copy()\n",
    "# atoms = traj_md[300].copy()\n",
    "# atoms = traj_opt[-1].copy()\n",
    "# atoms = traj_test[10].copy()\n",
    "atoms.set_pbc(True)\n",
    "atoms.calc = fande_calc\n",
    "\n",
    "# moving_atoms = sum(atomic_groups, []) \n",
    "# fixed_atoms = list( set(range(264)) - set(moving_atoms) )\n",
    "# fix_atoms = FixAtoms(indices=fixed_atoms)\n",
    "# atoms.set_constraint(fix_atoms)\n",
    "\n",
    "\n",
    "# atoms.calc = FandeCalc(predictor)\n",
    "\n",
    "\n",
    "\n",
    "# atoms.calc.set_atomic_groups([rings_carbons, rings_hydrogens], titles=[\"Rings carbons\", \"Rings hydrogens\"])\n",
    "# atoms.calc.set_forces_errors_plot_file(\"../results/test/md_runs/forces_errors.png\", loginterval=1)\n",
    "# atoms.calc = LennardJones()\n",
    "\n",
    "os.makedirs(\"md_run/\", exist_ok=True)\n",
    "\n",
    "# Verlet dynamics:\n",
    "# MaxwellBoltzmannDistribution(atoms, temperature_K=300)\n",
    "# dyn = VelocityVerlet(\n",
    "#     atoms,\n",
    "#     dt = 0.1*units.fs,\n",
    "#     trajectory=\"md_run/md_test.traj\",\n",
    "#     logfile=\"md_run/md_log.log\",\n",
    "# )\n",
    "\n",
    "# dyn = NPT(\n",
    "#     atoms,\n",
    "#     # dt = 0.5*units.fs,\n",
    "#     timestep=0.1,\n",
    "#     temperature_K=300,\n",
    "#     externalstress=0.0,\n",
    "#     trajectory=\"../results/test/md_runs/md_test.traj\",\n",
    "#     logfile=\"../results/test/md_runs/md_log.log\",\n",
    "# )\n",
    "\n",
    "# dyn = NPTBerendsen(atoms, timestep=0.1 * units.fs, temperature_K=300,\n",
    "#                    taut=100 * units.fs, pressure_au=1.01325 * units.bar,\n",
    "#                    taup=1000 * units.fs, compressibility=4.57e-5 / units.bar,\n",
    "#                    trajectory=\"../results/test/md_runs/md_test.traj\",\n",
    "#                    logfile=\"../results/test/md_runs/md_log.log\",)\n",
    "\n",
    "# import os\n",
    "\n",
    "# MaxwellBoltzmannDistribution(atoms, temperature_K=300, force_temp=True)\n",
    "# dyn = NVTBerendsen(atoms, 0.2 * units.fs, 300, taut=0.5*1000*units.fs, \n",
    "#                    trajectory=\"md_run/md_test.traj\",   \n",
    "#                    logfile=\"md_run/md_log.log\")\n",
    "\n",
    "# dyn.run(100)\n",
    "\n",
    "# Langevin dynamics:\n",
    "# https://databases.fysik.dtu.dk/ase/tutorials/md/md.html\n",
    "# MaxwellBoltzmannDistribution(atoms, temperature_K=100, force_temp=True)\n",
    "dyn = Langevin(atoms, 0.5*fs, \n",
    "               temperature_K=300, #0.1/units.kB, \n",
    "               friction=0.1,\n",
    "        #        fixcm=True, \n",
    "               trajectory='md_run/md_test_.traj',\n",
    "               logfile=\"md_run/md_log_.log\")\n",
    "\n",
    "dyn.run(2000_00)\n",
    "\n",
    "# # Structure optimization:\n",
    "# dyn = BFGS(\n",
    "#     atoms,\n",
    "#     trajectory=\"../results/test/md_runs/md_test.traj\",\n",
    "#     logfile=\"../results/test/md_runs/md_log.log\",)\n",
    "# dyn.run(fmax=0.1)\n",
    "\n",
    "\n",
    "print(\" ALL JOBS WITHIN PYTHON SCRIPT ARE DONE! \")"
   ]
  }
 ],
 "metadata": {
  "kernelspec": {
   "display_name": "base",
   "language": "python",
   "name": "python3"
  },
  "language_info": {
   "codemirror_mode": {
    "name": "ipython",
    "version": 3
   },
   "file_extension": ".py",
   "mimetype": "text/x-python",
   "name": "python",
   "nbconvert_exporter": "python",
   "pygments_lexer": "ipython3",
   "version": "3.10.10"
  },
  "orig_nbformat": 4
 },
 "nbformat": 4,
 "nbformat_minor": 2
}
