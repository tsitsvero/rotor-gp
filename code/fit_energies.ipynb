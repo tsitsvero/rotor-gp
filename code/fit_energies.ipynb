{
 "cells": [
  {
   "cell_type": "markdown",
   "metadata": {},
   "source": [
    "# Fit energies and forces (full cycle)"
   ]
  },
  {
   "cell_type": "code",
   "execution_count": 1,
   "metadata": {},
   "outputs": [],
   "source": [
    "%load_ext autoreload\n",
    "%autoreload 2\n",
    "\n",
    "import os\n",
    "import sys\n",
    "sys.path.append(os.path.expandvars(\"/home/$USER/repos/fande/\"))"
   ]
  },
  {
   "cell_type": "code",
   "execution_count": 55,
   "metadata": {},
   "outputs": [],
   "source": [
    "from ase import io\n",
    "\n",
    "traj_295 = io.read(\"/data1/simulations/datasets/rotors/high_temp_ML_training_data/results_triasine_ML_2000/struct_295_295K/md_trajectory.traj\", index=\":\")\n",
    "traj_355 = io.read(\"/data1/simulations/datasets/rotors/high_temp_ML_training_data/results_triasine_ML_2000/struct_355_355K/md_trajectory.traj\", index=\":\")\n",
    "\n",
    "traj_295_2000K = io.read(\"/data1/simulations/datasets/rotors/high_temp_ML_training_data/results_triasine_ML_2000/struct_295_2000K/md_trajectory.traj\", index=\":\")\n",
    "traj_355_2000K = io.read(\"/data1/simulations/datasets/rotors/high_temp_ML_training_data/results_triasine_ML_2000/struct_355_2000K/md_trajectory.traj\", index=\":\")\n",
    "traj_295_2000K_forced = io.read(\"/data1/simulations/datasets/rotors/high_temp_ML_training_data/results_triasine_ML_2000/struct_295_2000K_0075force/md_trajectory.traj\", index=\":\")\n",
    "traj_355_2000K_forced = io.read(\"/data1/simulations/datasets/rotors/high_temp_ML_training_data/results_triasine_ML_2000/struct_355_2000K_0075force/md_trajectory.traj\", index=\":\")\n"
   ]
  },
  {
   "cell_type": "code",
   "execution_count": 56,
   "metadata": {},
   "outputs": [],
   "source": [
    "from fande.data import FandeDataModule\n",
    "from fande.utils.find_atomic_groups import find_atomic_groups\n",
    "\n",
    "fdm = FandeDataModule()"
   ]
  },
  {
   "cell_type": "code",
   "execution_count": 64,
   "metadata": {},
   "outputs": [],
   "source": [
    "trajectory_forces = traj_295_2000K[0:5000:10]\n",
    "trajectory_forces = trajectory_forces.copy()\n",
    "trajectory_energy = traj_295[0:5000:10] + traj_355[0:5000:10] + traj_295_2000K[0:5000:10] + traj_355_2000K[0:5000:10] + traj_295_2000K_forced[0:5000:10] + traj_355_2000K_forced[0:5000:10]\n",
    "trajectory_energy = trajectory_energy[0:10].copy()"
   ]
  },
  {
   "cell_type": "code",
   "execution_count": 65,
   "metadata": {},
   "outputs": [
    {
     "name": "stdout",
     "output_type": "stream",
     "text": [
      "Total number of found groups: 14\n",
      "Checking if all atoms are covered:  True\n"
     ]
    }
   ],
   "source": [
    "soap_params = dict(soap_type=\"PowerSpectrum\",\n",
    "        interaction_cutoff=3.0,\n",
    "        max_radial=3,\n",
    "        max_angular=3,\n",
    "        gaussian_sigma_constant=0.3,\n",
    "        gaussian_sigma_type=\"Constant\",\n",
    "        cutoff_function_type=\"RadialScaling\",\n",
    "        cutoff_smooth_width=0.1, # 0.1 is way better than 0.5\n",
    "        cutoff_function_parameters=\n",
    "                dict(\n",
    "                        rate=1,\n",
    "                        scale=3.5,\n",
    "                        exponent=4\n",
    "                        ),\n",
    "        radial_basis=\"GTO\",\n",
    "        normalize=True, # setting False makes model untrainable\n",
    "        #   optimization=\n",
    "        #         dict(\n",
    "        #                 Spline=dict(\n",
    "        #                    accuracy=1.0e-05\n",
    "        #                 )\n",
    "        #             ),\n",
    "        compute_gradients=True, # for energies gradients are ignored\n",
    "        expansion_by_species_method='structure wise'\n",
    "        )\n",
    "##FOR NOW USE THE SAME SOAP PARAMETERS FOR ENERGY AND FORCES!\n",
    "\n",
    "sample_snapshot = trajectory_forces[0].copy()\n",
    "fdm = FandeDataModule()\n",
    "atomic_groups = find_atomic_groups(sample_snapshot)\n",
    "train_centers_positions = sum(atomic_groups, []) #list(range(len(atoms)))\n",
    "train_derivatives_positions = sum(atomic_groups, [])#list(range(len(atoms)))\n",
    "fdm.atomic_groups_sample_snapshot = sample_snapshot.copy()\n",
    "fdm.atomic_groups = atomic_groups\n",
    "\n",
    "total_forces_samples_per_group = [3000] * len(atomic_groups)\n",
    "high_forces_samples_per_group = [0] * len(atomic_groups)"
   ]
  },
  {
   "cell_type": "code",
   "execution_count": 66,
   "metadata": {},
   "outputs": [
    {
     "name": "stdout",
     "output_type": "stream",
     "text": [
      "Total length of traj is 10\n",
      "Total number of batches 10\n",
      "Calculating invariants on trajectory with librascal...\n"
     ]
    },
    {
     "name": "stderr",
     "output_type": "stream",
     "text": [
      "100%|██████████| 10/10 [00:00<00:00, 32.74it/s]\n"
     ]
    },
    {
     "name": "stdout",
     "output_type": "stream",
     "text": [
      "energy invariants calculated\n"
     ]
    },
    {
     "name": "stderr",
     "output_type": "stream",
     "text": [
      "100%|██████████| 500/500 [03:58<00:00,  2.09it/s]\n"
     ]
    },
    {
     "name": "stdout",
     "output_type": "stream",
     "text": [
      "Dataloader for group 0 created\n",
      "Number of samples in dataloader: 3000\n",
      "Dataloader for group 1 created\n",
      "Number of samples in dataloader: 3000\n",
      "Dataloader for group 2 created\n",
      "Number of samples in dataloader: 3000\n",
      "Dataloader for group 3 created\n",
      "Number of samples in dataloader: 3000\n",
      "Dataloader for group 4 created\n",
      "Number of samples in dataloader: 3000\n",
      "Dataloader for group 5 created\n",
      "Number of samples in dataloader: 3000\n",
      "Dataloader for group 6 created\n",
      "Number of samples in dataloader: 3000\n",
      "Dataloader for group 7 created\n",
      "Number of samples in dataloader: 3000\n",
      "Dataloader for group 8 created\n",
      "Number of samples in dataloader: 3000\n",
      "Dataloader for group 9 created\n",
      "Number of samples in dataloader: 3000\n",
      "Dataloader for group 10 created\n",
      "Number of samples in dataloader: 3000\n",
      "Dataloader for group 11 created\n",
      "Number of samples in dataloader: 3000\n",
      "Dataloader for group 12 created\n",
      "Number of samples in dataloader: 3000\n",
      "Dataloader for group 13 created\n",
      "Number of samples in dataloader: 3000\n"
     ]
    }
   ],
   "source": [
    "dataloader_energy, dataloaders_forces = fdm.dataloaders_from_trajectory(\n",
    "                                                                trajectory_energy,\n",
    "                                                                trajectory_forces,\n",
    "                                                                # energies = None,\n",
    "                                                                # forces = None,\n",
    "                                                                atomic_groups = atomic_groups,\n",
    "                                                                centers_positions = train_centers_positions,\n",
    "                                                                derivatives_positions = train_derivatives_positions,\n",
    "                                                                energy_soap_hypers = soap_params,\n",
    "                                                                forces_soap_hypers = soap_params,\n",
    "                                                                total_forces_samples_per_group = total_forces_samples_per_group,\n",
    "                                                                high_force_samples_per_group = high_forces_samples_per_group,\n",
    "                                                                )"
   ]
  },
  {
   "cell_type": "code",
   "execution_count": 67,
   "metadata": {},
   "outputs": [
    {
     "name": "stderr",
     "output_type": "stream",
     "text": [
      "/home/dlbox2/anaconda3/envs/fande/lib/python3.10/site-packages/lightning_fabric/plugins/environments/slurm.py:165: PossibleUserWarning: The `srun` command is available on your system but is not used. HINT: If your intention is to run Lightning on SLURM, prepend your python command with `srun` like so: srun python /home/dlbox2/anaconda3/envs/fande/lib/python3.10/sit ...\n",
      "  rank_zero_warn(\n",
      "GPU available: True (cuda), used: True\n",
      "TPU available: False, using: 0 TPU cores\n",
      "IPU available: False, using: 0 IPUs\n",
      "HPU available: False, using: 0 HPUs\n",
      "LOCAL_RANK: 0 - CUDA_VISIBLE_DEVICES: [0,1]\n",
      "\n",
      "  | Name       | Type                       | Params\n",
      "----------------------------------------------------------\n",
      "0 | likelihood | GaussianLikelihood         | 1     \n",
      "1 | model      | ExactGPModelEnergy         | 542   \n",
      "2 | mll        | ExactMarginalLogLikelihood | 542   \n",
      "----------------------------------------------------------\n",
      "542       Trainable params\n",
      "0         Non-trainable params\n",
      "542       Total params\n",
      "0.002     Total estimated model params size (MB)\n"
     ]
    },
    {
     "name": "stdout",
     "output_type": "stream",
     "text": [
      "\n",
      "RawEnergyModel initialized\n",
      "Training energy model\n"
     ]
    },
    {
     "name": "stderr",
     "output_type": "stream",
     "text": [
      "/home/dlbox2/anaconda3/envs/fande/lib/python3.10/site-packages/pytorch_lightning/trainer/connectors/data_connector.py:432: PossibleUserWarning: The dataloader, train_dataloader, does not have many workers which may be a bottleneck. Consider increasing the value of the `num_workers` argument` (try 128 which is the number of cpus on this machine) in the `DataLoader` init to improve performance.\n",
      "  rank_zero_warn(\n",
      "/home/dlbox2/anaconda3/envs/fande/lib/python3.10/site-packages/pytorch_lightning/loops/fit_loop.py:280: PossibleUserWarning: The number of training batches (1) is smaller than the logging interval Trainer(log_every_n_steps=50). Set a lower value for log_every_n_steps if you want to see logs for the training epoch.\n",
      "  rank_zero_warn(\n"
     ]
    },
    {
     "data": {
      "application/vnd.jupyter.widget-view+json": {
       "model_id": "7285e0df170c4008aaf1a9392ad9104e",
       "version_major": 2,
       "version_minor": 0
      },
      "text/plain": [
       "Training: 0it [00:00, ?it/s]"
      ]
     },
     "metadata": {},
     "output_type": "display_data"
    },
    {
     "name": "stderr",
     "output_type": "stream",
     "text": [
      "`Trainer.fit` stopped: `max_epochs=200` reached.\n"
     ]
    }
   ],
   "source": [
    "# Making energy model\n",
    "\n",
    "from fande.models import EnergyModel\n",
    "\n",
    "hparams = {\n",
    "        'dtype' : 'float32',\n",
    "        'device' : 'gpu',\n",
    "        'energy_model_hparams' : {\n",
    "                'num_epochs' : 200,\n",
    "                'learning_rate' : 0.1,\n",
    "        }\n",
    "        }\n",
    "       \n",
    "Energy_model = EnergyModel(\n",
    "        dataloader_energy,\n",
    "        hparams=hparams, \n",
    "        gpu_id=0)\n",
    "\n",
    "Energy_model.fit()"
   ]
  },
  {
   "cell_type": "code",
   "execution_count": 73,
   "metadata": {},
   "outputs": [
    {
     "name": "stderr",
     "output_type": "stream",
     "text": [
      "GPU available: True (cuda), used: True\n",
      "TPU available: False, using: 0 TPU cores\n",
      "IPU available: False, using: 0 IPUs\n",
      "HPU available: False, using: 0 HPUs\n",
      "GPU available: True (cuda), used: True\n",
      "TPU available: False, using: 0 TPU cores\n",
      "IPU available: False, using: 0 IPUs\n",
      "HPU available: False, using: 0 HPUs\n",
      "GPU available: True (cuda), used: True\n",
      "TPU available: False, using: 0 TPU cores\n",
      "IPU available: False, using: 0 IPUs\n",
      "HPU available: False, using: 0 HPUs\n",
      "GPU available: True (cuda), used: True\n",
      "TPU available: False, using: 0 TPU cores\n",
      "IPU available: False, using: 0 IPUs\n",
      "HPU available: False, using: 0 HPUs\n",
      "GPU available: True (cuda), used: True\n",
      "TPU available: False, using: 0 TPU cores\n",
      "IPU available: False, using: 0 IPUs\n",
      "HPU available: False, using: 0 HPUs\n",
      "GPU available: True (cuda), used: True\n",
      "TPU available: False, using: 0 TPU cores\n",
      "IPU available: False, using: 0 IPUs\n",
      "HPU available: False, using: 0 HPUs\n",
      "GPU available: True (cuda), used: True\n",
      "TPU available: False, using: 0 TPU cores\n",
      "IPU available: False, using: 0 IPUs\n",
      "HPU available: False, using: 0 HPUs\n"
     ]
    },
    {
     "name": "stdout",
     "output_type": "stream",
     "text": [
      "\n",
      "ModelForces initialized\n",
      "\n",
      "ModelForces initialized\n",
      "\n",
      "ModelForces initialized\n",
      "\n",
      "ModelForces initialized\n",
      "\n",
      "ModelForces initialized\n",
      "\n",
      "ModelForces initialized\n",
      "\n",
      "ModelForces initialized\n",
      "\n",
      "ModelForces initialized\n",
      "\n",
      "ModelForces initialized\n",
      "\n",
      "ModelForces initialized\n",
      "\n",
      "ModelForces initialized\n",
      "\n",
      "ModelForces initialized\n",
      "\n",
      "ModelForces initialized\n",
      "\n",
      "ModelForces initialized\n"
     ]
    },
    {
     "name": "stderr",
     "output_type": "stream",
     "text": [
      "GPU available: True (cuda), used: True\n",
      "TPU available: False, using: 0 TPU cores\n",
      "IPU available: False, using: 0 IPUs\n",
      "HPU available: False, using: 0 HPUs\n",
      "GPU available: True (cuda), used: True\n",
      "TPU available: False, using: 0 TPU cores\n",
      "IPU available: False, using: 0 IPUs\n",
      "HPU available: False, using: 0 HPUs\n",
      "GPU available: True (cuda), used: True\n",
      "TPU available: False, using: 0 TPU cores\n",
      "IPU available: False, using: 0 IPUs\n",
      "HPU available: False, using: 0 HPUs\n",
      "GPU available: True (cuda), used: True\n",
      "TPU available: False, using: 0 TPU cores\n",
      "IPU available: False, using: 0 IPUs\n",
      "HPU available: False, using: 0 HPUs\n",
      "GPU available: True (cuda), used: True\n",
      "TPU available: False, using: 0 TPU cores\n",
      "IPU available: False, using: 0 IPUs\n",
      "HPU available: False, using: 0 HPUs\n",
      "GPU available: True (cuda), used: True\n",
      "TPU available: False, using: 0 TPU cores\n",
      "IPU available: False, using: 0 IPUs\n",
      "HPU available: False, using: 0 HPUs\n",
      "GPU available: True (cuda), used: True\n",
      "TPU available: False, using: 0 TPU cores\n",
      "IPU available: False, using: 0 IPUs\n",
      "HPU available: False, using: 0 HPUs\n",
      "LOCAL_RANK: 0 - CUDA_VISIBLE_DEVICES: [0,1]\n",
      "\n",
      "  | Name       | Type                       | Params\n",
      "----------------------------------------------------------\n",
      "0 | likelihood | GaussianLikelihood         | 1     \n",
      "1 | model      | ExactGPModelForces         | 542   \n",
      "2 | mll        | ExactMarginalLogLikelihood | 542   \n",
      "----------------------------------------------------------\n",
      "542       Trainable params\n",
      "0         Non-trainable params\n",
      "542       Total params\n",
      "0.002     Total estimated model params size (MB)\n"
     ]
    },
    {
     "name": "stdout",
     "output_type": "stream",
     "text": [
      "Training force model 0 (Total 14 models)\n"
     ]
    },
    {
     "data": {
      "application/vnd.jupyter.widget-view+json": {
       "model_id": "d2fefcf19efb4d0dafc7ec9afad31984",
       "version_major": 2,
       "version_minor": 0
      },
      "text/plain": [
       "Training: 0it [00:00, ?it/s]"
      ]
     },
     "metadata": {},
     "output_type": "display_data"
    },
    {
     "name": "stderr",
     "output_type": "stream",
     "text": [
      "`Trainer.fit` stopped: `max_epochs=200` reached.\n",
      "LOCAL_RANK: 0 - CUDA_VISIBLE_DEVICES: [0,1]\n",
      "\n",
      "  | Name       | Type                       | Params\n",
      "----------------------------------------------------------\n",
      "0 | likelihood | GaussianLikelihood         | 1     \n",
      "1 | model      | ExactGPModelForces         | 542   \n",
      "2 | mll        | ExactMarginalLogLikelihood | 542   \n",
      "----------------------------------------------------------\n",
      "542       Trainable params\n",
      "0         Non-trainable params\n",
      "542       Total params\n",
      "0.002     Total estimated model params size (MB)\n"
     ]
    },
    {
     "name": "stdout",
     "output_type": "stream",
     "text": [
      "Training force model 1 (Total 14 models)\n"
     ]
    },
    {
     "data": {
      "application/vnd.jupyter.widget-view+json": {
       "model_id": "879ef07923d947509c1d03cebe019b92",
       "version_major": 2,
       "version_minor": 0
      },
      "text/plain": [
       "Training: 0it [00:00, ?it/s]"
      ]
     },
     "metadata": {},
     "output_type": "display_data"
    },
    {
     "name": "stderr",
     "output_type": "stream",
     "text": [
      "/home/dlbox2/anaconda3/envs/fande/lib/python3.10/site-packages/linear_operator/utils/linear_cg.py:338: NumericalWarning: CG terminated in 1000 iterations with average residual norm 2.631535291671753 which is larger than the tolerance of 1 specified by linear_operator.settings.cg_tolerance. If performance is affected, consider raising the maximum number of CG iterations by running code in a linear_operator.settings.max_cg_iterations(value) context.\n",
      "  warnings.warn(\n",
      "/home/dlbox2/anaconda3/envs/fande/lib/python3.10/site-packages/linear_operator/utils/linear_cg.py:338: NumericalWarning: CG terminated in 1000 iterations with average residual norm 1.3471163511276245 which is larger than the tolerance of 1 specified by linear_operator.settings.cg_tolerance. If performance is affected, consider raising the maximum number of CG iterations by running code in a linear_operator.settings.max_cg_iterations(value) context.\n",
      "  warnings.warn(\n",
      "/home/dlbox2/anaconda3/envs/fande/lib/python3.10/site-packages/linear_operator/utils/linear_cg.py:338: NumericalWarning: CG terminated in 1000 iterations with average residual norm 1.5982469320297241 which is larger than the tolerance of 1 specified by linear_operator.settings.cg_tolerance. If performance is affected, consider raising the maximum number of CG iterations by running code in a linear_operator.settings.max_cg_iterations(value) context.\n",
      "  warnings.warn(\n",
      "`Trainer.fit` stopped: `max_epochs=200` reached.\n",
      "LOCAL_RANK: 0 - CUDA_VISIBLE_DEVICES: [0,1]\n",
      "\n",
      "  | Name       | Type                       | Params\n",
      "----------------------------------------------------------\n",
      "0 | likelihood | GaussianLikelihood         | 1     \n",
      "1 | model      | ExactGPModelForces         | 542   \n",
      "2 | mll        | ExactMarginalLogLikelihood | 542   \n",
      "----------------------------------------------------------\n",
      "542       Trainable params\n",
      "0         Non-trainable params\n",
      "542       Total params\n",
      "0.002     Total estimated model params size (MB)\n"
     ]
    },
    {
     "name": "stdout",
     "output_type": "stream",
     "text": [
      "Training force model 2 (Total 14 models)\n"
     ]
    },
    {
     "data": {
      "application/vnd.jupyter.widget-view+json": {
       "model_id": "87e43ae6b42e441fb384a95034b05c69",
       "version_major": 2,
       "version_minor": 0
      },
      "text/plain": [
       "Training: 0it [00:00, ?it/s]"
      ]
     },
     "metadata": {},
     "output_type": "display_data"
    },
    {
     "name": "stderr",
     "output_type": "stream",
     "text": [
      "`Trainer.fit` stopped: `max_epochs=200` reached.\n",
      "LOCAL_RANK: 0 - CUDA_VISIBLE_DEVICES: [0,1]\n",
      "\n",
      "  | Name       | Type                       | Params\n",
      "----------------------------------------------------------\n",
      "0 | likelihood | GaussianLikelihood         | 1     \n",
      "1 | model      | ExactGPModelForces         | 542   \n",
      "2 | mll        | ExactMarginalLogLikelihood | 542   \n",
      "----------------------------------------------------------\n",
      "542       Trainable params\n",
      "0         Non-trainable params\n",
      "542       Total params\n",
      "0.002     Total estimated model params size (MB)\n"
     ]
    },
    {
     "name": "stdout",
     "output_type": "stream",
     "text": [
      "Training force model 3 (Total 14 models)\n"
     ]
    },
    {
     "data": {
      "application/vnd.jupyter.widget-view+json": {
       "model_id": "e118fc8ef2184caeadcc9e18c5e2c5fd",
       "version_major": 2,
       "version_minor": 0
      },
      "text/plain": [
       "Training: 0it [00:00, ?it/s]"
      ]
     },
     "metadata": {},
     "output_type": "display_data"
    },
    {
     "name": "stderr",
     "output_type": "stream",
     "text": [
      "/home/dlbox2/anaconda3/envs/fande/lib/python3.10/site-packages/linear_operator/utils/linear_cg.py:338: NumericalWarning: CG terminated in 1000 iterations with average residual norm 1.8607306480407715 which is larger than the tolerance of 1 specified by linear_operator.settings.cg_tolerance. If performance is affected, consider raising the maximum number of CG iterations by running code in a linear_operator.settings.max_cg_iterations(value) context.\n",
      "  warnings.warn(\n",
      "`Trainer.fit` stopped: `max_epochs=200` reached.\n",
      "LOCAL_RANK: 0 - CUDA_VISIBLE_DEVICES: [0,1]\n",
      "\n",
      "  | Name       | Type                       | Params\n",
      "----------------------------------------------------------\n",
      "0 | likelihood | GaussianLikelihood         | 1     \n",
      "1 | model      | ExactGPModelForces         | 542   \n",
      "2 | mll        | ExactMarginalLogLikelihood | 542   \n",
      "----------------------------------------------------------\n",
      "542       Trainable params\n",
      "0         Non-trainable params\n",
      "542       Total params\n",
      "0.002     Total estimated model params size (MB)\n"
     ]
    },
    {
     "name": "stdout",
     "output_type": "stream",
     "text": [
      "Training force model 4 (Total 14 models)\n"
     ]
    },
    {
     "data": {
      "application/vnd.jupyter.widget-view+json": {
       "model_id": "05d6a1bd85e5406c9ee57b646dbf89e4",
       "version_major": 2,
       "version_minor": 0
      },
      "text/plain": [
       "Training: 0it [00:00, ?it/s]"
      ]
     },
     "metadata": {},
     "output_type": "display_data"
    },
    {
     "name": "stderr",
     "output_type": "stream",
     "text": [
      "/home/dlbox2/anaconda3/envs/fande/lib/python3.10/site-packages/linear_operator/utils/linear_cg.py:338: NumericalWarning: CG terminated in 1000 iterations with average residual norm 1.5112402439117432 which is larger than the tolerance of 1 specified by linear_operator.settings.cg_tolerance. If performance is affected, consider raising the maximum number of CG iterations by running code in a linear_operator.settings.max_cg_iterations(value) context.\n",
      "  warnings.warn(\n",
      "`Trainer.fit` stopped: `max_epochs=200` reached.\n",
      "LOCAL_RANK: 0 - CUDA_VISIBLE_DEVICES: [0,1]\n",
      "\n",
      "  | Name       | Type                       | Params\n",
      "----------------------------------------------------------\n",
      "0 | likelihood | GaussianLikelihood         | 1     \n",
      "1 | model      | ExactGPModelForces         | 542   \n",
      "2 | mll        | ExactMarginalLogLikelihood | 542   \n",
      "----------------------------------------------------------\n",
      "542       Trainable params\n",
      "0         Non-trainable params\n",
      "542       Total params\n",
      "0.002     Total estimated model params size (MB)\n"
     ]
    },
    {
     "name": "stdout",
     "output_type": "stream",
     "text": [
      "Training force model 5 (Total 14 models)\n"
     ]
    },
    {
     "data": {
      "application/vnd.jupyter.widget-view+json": {
       "model_id": "658b4290879d451abc7559cac5d86a28",
       "version_major": 2,
       "version_minor": 0
      },
      "text/plain": [
       "Training: 0it [00:00, ?it/s]"
      ]
     },
     "metadata": {},
     "output_type": "display_data"
    },
    {
     "name": "stderr",
     "output_type": "stream",
     "text": [
      "/home/dlbox2/anaconda3/envs/fande/lib/python3.10/site-packages/linear_operator/utils/linear_cg.py:338: NumericalWarning: CG terminated in 1000 iterations with average residual norm 3.6308112144470215 which is larger than the tolerance of 1 specified by linear_operator.settings.cg_tolerance. If performance is affected, consider raising the maximum number of CG iterations by running code in a linear_operator.settings.max_cg_iterations(value) context.\n",
      "  warnings.warn(\n",
      "/home/dlbox2/anaconda3/envs/fande/lib/python3.10/site-packages/linear_operator/utils/linear_cg.py:338: NumericalWarning: CG terminated in 1000 iterations with average residual norm 1.370994210243225 which is larger than the tolerance of 1 specified by linear_operator.settings.cg_tolerance. If performance is affected, consider raising the maximum number of CG iterations by running code in a linear_operator.settings.max_cg_iterations(value) context.\n",
      "  warnings.warn(\n",
      "`Trainer.fit` stopped: `max_epochs=200` reached.\n",
      "LOCAL_RANK: 0 - CUDA_VISIBLE_DEVICES: [0,1]\n",
      "\n",
      "  | Name       | Type                       | Params\n",
      "----------------------------------------------------------\n",
      "0 | likelihood | GaussianLikelihood         | 1     \n",
      "1 | model      | ExactGPModelForces         | 542   \n",
      "2 | mll        | ExactMarginalLogLikelihood | 542   \n",
      "----------------------------------------------------------\n",
      "542       Trainable params\n",
      "0         Non-trainable params\n",
      "542       Total params\n",
      "0.002     Total estimated model params size (MB)\n"
     ]
    },
    {
     "name": "stdout",
     "output_type": "stream",
     "text": [
      "Training force model 6 (Total 14 models)\n"
     ]
    },
    {
     "data": {
      "application/vnd.jupyter.widget-view+json": {
       "model_id": "b18399f2eafa424cb677d81630c0d7aa",
       "version_major": 2,
       "version_minor": 0
      },
      "text/plain": [
       "Training: 0it [00:00, ?it/s]"
      ]
     },
     "metadata": {},
     "output_type": "display_data"
    },
    {
     "name": "stderr",
     "output_type": "stream",
     "text": [
      "`Trainer.fit` stopped: `max_epochs=200` reached.\n",
      "LOCAL_RANK: 0 - CUDA_VISIBLE_DEVICES: [0,1]\n",
      "\n",
      "  | Name       | Type                       | Params\n",
      "----------------------------------------------------------\n",
      "0 | likelihood | GaussianLikelihood         | 1     \n",
      "1 | model      | ExactGPModelForces         | 542   \n",
      "2 | mll        | ExactMarginalLogLikelihood | 542   \n",
      "----------------------------------------------------------\n",
      "542       Trainable params\n",
      "0         Non-trainable params\n",
      "542       Total params\n",
      "0.002     Total estimated model params size (MB)\n"
     ]
    },
    {
     "name": "stdout",
     "output_type": "stream",
     "text": [
      "Training force model 7 (Total 14 models)\n"
     ]
    },
    {
     "data": {
      "application/vnd.jupyter.widget-view+json": {
       "model_id": "ecd39f71d52d4b5d91c2892bad6a1210",
       "version_major": 2,
       "version_minor": 0
      },
      "text/plain": [
       "Training: 0it [00:00, ?it/s]"
      ]
     },
     "metadata": {},
     "output_type": "display_data"
    },
    {
     "name": "stderr",
     "output_type": "stream",
     "text": [
      "/home/dlbox2/anaconda3/envs/fande/lib/python3.10/site-packages/linear_operator/utils/linear_cg.py:338: NumericalWarning: CG terminated in 1000 iterations with average residual norm 2.6808009147644043 which is larger than the tolerance of 1 specified by linear_operator.settings.cg_tolerance. If performance is affected, consider raising the maximum number of CG iterations by running code in a linear_operator.settings.max_cg_iterations(value) context.\n",
      "  warnings.warn(\n",
      "/home/dlbox2/anaconda3/envs/fande/lib/python3.10/site-packages/linear_operator/utils/linear_cg.py:338: NumericalWarning: CG terminated in 1000 iterations with average residual norm 3.0592358112335205 which is larger than the tolerance of 1 specified by linear_operator.settings.cg_tolerance. If performance is affected, consider raising the maximum number of CG iterations by running code in a linear_operator.settings.max_cg_iterations(value) context.\n",
      "  warnings.warn(\n",
      "`Trainer.fit` stopped: `max_epochs=200` reached.\n",
      "LOCAL_RANK: 0 - CUDA_VISIBLE_DEVICES: [0,1]\n",
      "\n",
      "  | Name       | Type                       | Params\n",
      "----------------------------------------------------------\n",
      "0 | likelihood | GaussianLikelihood         | 1     \n",
      "1 | model      | ExactGPModelForces         | 542   \n",
      "2 | mll        | ExactMarginalLogLikelihood | 542   \n",
      "----------------------------------------------------------\n",
      "542       Trainable params\n",
      "0         Non-trainable params\n",
      "542       Total params\n",
      "0.002     Total estimated model params size (MB)\n"
     ]
    },
    {
     "name": "stdout",
     "output_type": "stream",
     "text": [
      "Training force model 8 (Total 14 models)\n"
     ]
    },
    {
     "data": {
      "application/vnd.jupyter.widget-view+json": {
       "model_id": "5537e66ae8384ee68adcc4a8ce081a54",
       "version_major": 2,
       "version_minor": 0
      },
      "text/plain": [
       "Training: 0it [00:00, ?it/s]"
      ]
     },
     "metadata": {},
     "output_type": "display_data"
    },
    {
     "name": "stderr",
     "output_type": "stream",
     "text": [
      "`Trainer.fit` stopped: `max_epochs=200` reached.\n",
      "LOCAL_RANK: 0 - CUDA_VISIBLE_DEVICES: [0,1]\n",
      "\n",
      "  | Name       | Type                       | Params\n",
      "----------------------------------------------------------\n",
      "0 | likelihood | GaussianLikelihood         | 1     \n",
      "1 | model      | ExactGPModelForces         | 542   \n",
      "2 | mll        | ExactMarginalLogLikelihood | 542   \n",
      "----------------------------------------------------------\n",
      "542       Trainable params\n",
      "0         Non-trainable params\n",
      "542       Total params\n",
      "0.002     Total estimated model params size (MB)\n"
     ]
    },
    {
     "name": "stdout",
     "output_type": "stream",
     "text": [
      "Training force model 9 (Total 14 models)\n"
     ]
    },
    {
     "data": {
      "application/vnd.jupyter.widget-view+json": {
       "model_id": "e0bedef32b034b249e9e9e671182fe84",
       "version_major": 2,
       "version_minor": 0
      },
      "text/plain": [
       "Training: 0it [00:00, ?it/s]"
      ]
     },
     "metadata": {},
     "output_type": "display_data"
    },
    {
     "name": "stderr",
     "output_type": "stream",
     "text": [
      "/home/dlbox2/anaconda3/envs/fande/lib/python3.10/site-packages/linear_operator/utils/linear_cg.py:338: NumericalWarning: CG terminated in 1000 iterations with average residual norm 2.2109146118164062 which is larger than the tolerance of 1 specified by linear_operator.settings.cg_tolerance. If performance is affected, consider raising the maximum number of CG iterations by running code in a linear_operator.settings.max_cg_iterations(value) context.\n",
      "  warnings.warn(\n",
      "/home/dlbox2/anaconda3/envs/fande/lib/python3.10/site-packages/linear_operator/utils/linear_cg.py:338: NumericalWarning: CG terminated in 1000 iterations with average residual norm 1.5580682754516602 which is larger than the tolerance of 1 specified by linear_operator.settings.cg_tolerance. If performance is affected, consider raising the maximum number of CG iterations by running code in a linear_operator.settings.max_cg_iterations(value) context.\n",
      "  warnings.warn(\n",
      "`Trainer.fit` stopped: `max_epochs=200` reached.\n",
      "LOCAL_RANK: 0 - CUDA_VISIBLE_DEVICES: [0,1]\n",
      "\n",
      "  | Name       | Type                       | Params\n",
      "----------------------------------------------------------\n",
      "0 | likelihood | GaussianLikelihood         | 1     \n",
      "1 | model      | ExactGPModelForces         | 542   \n",
      "2 | mll        | ExactMarginalLogLikelihood | 542   \n",
      "----------------------------------------------------------\n",
      "542       Trainable params\n",
      "0         Non-trainable params\n",
      "542       Total params\n",
      "0.002     Total estimated model params size (MB)\n"
     ]
    },
    {
     "name": "stdout",
     "output_type": "stream",
     "text": [
      "Training force model 10 (Total 14 models)\n"
     ]
    },
    {
     "data": {
      "application/vnd.jupyter.widget-view+json": {
       "model_id": "3951d5784c824c4ca7a924f20f986b30",
       "version_major": 2,
       "version_minor": 0
      },
      "text/plain": [
       "Training: 0it [00:00, ?it/s]"
      ]
     },
     "metadata": {},
     "output_type": "display_data"
    },
    {
     "name": "stderr",
     "output_type": "stream",
     "text": [
      "/home/dlbox2/anaconda3/envs/fande/lib/python3.10/site-packages/linear_operator/utils/linear_cg.py:338: NumericalWarning: CG terminated in 1000 iterations with average residual norm 2.4002044200897217 which is larger than the tolerance of 1 specified by linear_operator.settings.cg_tolerance. If performance is affected, consider raising the maximum number of CG iterations by running code in a linear_operator.settings.max_cg_iterations(value) context.\n",
      "  warnings.warn(\n",
      "/home/dlbox2/anaconda3/envs/fande/lib/python3.10/site-packages/linear_operator/utils/linear_cg.py:338: NumericalWarning: CG terminated in 1000 iterations with average residual norm 3.30248761177063 which is larger than the tolerance of 1 specified by linear_operator.settings.cg_tolerance. If performance is affected, consider raising the maximum number of CG iterations by running code in a linear_operator.settings.max_cg_iterations(value) context.\n",
      "  warnings.warn(\n",
      "`Trainer.fit` stopped: `max_epochs=200` reached.\n",
      "LOCAL_RANK: 0 - CUDA_VISIBLE_DEVICES: [0,1]\n",
      "\n",
      "  | Name       | Type                       | Params\n",
      "----------------------------------------------------------\n",
      "0 | likelihood | GaussianLikelihood         | 1     \n",
      "1 | model      | ExactGPModelForces         | 542   \n",
      "2 | mll        | ExactMarginalLogLikelihood | 542   \n",
      "----------------------------------------------------------\n",
      "542       Trainable params\n",
      "0         Non-trainable params\n",
      "542       Total params\n",
      "0.002     Total estimated model params size (MB)\n"
     ]
    },
    {
     "name": "stdout",
     "output_type": "stream",
     "text": [
      "Training force model 11 (Total 14 models)\n"
     ]
    },
    {
     "data": {
      "application/vnd.jupyter.widget-view+json": {
       "model_id": "c1328645e4aa41949bd5277a69260a4e",
       "version_major": 2,
       "version_minor": 0
      },
      "text/plain": [
       "Training: 0it [00:00, ?it/s]"
      ]
     },
     "metadata": {},
     "output_type": "display_data"
    },
    {
     "name": "stderr",
     "output_type": "stream",
     "text": [
      "/home/dlbox2/anaconda3/envs/fande/lib/python3.10/site-packages/linear_operator/utils/linear_cg.py:338: NumericalWarning: CG terminated in 1000 iterations with average residual norm 2.5375235080718994 which is larger than the tolerance of 1 specified by linear_operator.settings.cg_tolerance. If performance is affected, consider raising the maximum number of CG iterations by running code in a linear_operator.settings.max_cg_iterations(value) context.\n",
      "  warnings.warn(\n",
      "/home/dlbox2/anaconda3/envs/fande/lib/python3.10/site-packages/linear_operator/utils/linear_cg.py:338: NumericalWarning: CG terminated in 1000 iterations with average residual norm 2.6679463386535645 which is larger than the tolerance of 1 specified by linear_operator.settings.cg_tolerance. If performance is affected, consider raising the maximum number of CG iterations by running code in a linear_operator.settings.max_cg_iterations(value) context.\n",
      "  warnings.warn(\n",
      "`Trainer.fit` stopped: `max_epochs=200` reached.\n",
      "LOCAL_RANK: 0 - CUDA_VISIBLE_DEVICES: [0,1]\n",
      "\n",
      "  | Name       | Type                       | Params\n",
      "----------------------------------------------------------\n",
      "0 | likelihood | GaussianLikelihood         | 1     \n",
      "1 | model      | ExactGPModelForces         | 542   \n",
      "2 | mll        | ExactMarginalLogLikelihood | 542   \n",
      "----------------------------------------------------------\n",
      "542       Trainable params\n",
      "0         Non-trainable params\n",
      "542       Total params\n",
      "0.002     Total estimated model params size (MB)\n"
     ]
    },
    {
     "name": "stdout",
     "output_type": "stream",
     "text": [
      "Training force model 12 (Total 14 models)\n"
     ]
    },
    {
     "data": {
      "application/vnd.jupyter.widget-view+json": {
       "model_id": "eb55139347ad44f0bb54cdb1638a7f67",
       "version_major": 2,
       "version_minor": 0
      },
      "text/plain": [
       "Training: 0it [00:00, ?it/s]"
      ]
     },
     "metadata": {},
     "output_type": "display_data"
    },
    {
     "name": "stderr",
     "output_type": "stream",
     "text": [
      "`Trainer.fit` stopped: `max_epochs=200` reached.\n",
      "LOCAL_RANK: 0 - CUDA_VISIBLE_DEVICES: [0,1]\n",
      "\n",
      "  | Name       | Type                       | Params\n",
      "----------------------------------------------------------\n",
      "0 | likelihood | GaussianLikelihood         | 1     \n",
      "1 | model      | ExactGPModelForces         | 542   \n",
      "2 | mll        | ExactMarginalLogLikelihood | 542   \n",
      "----------------------------------------------------------\n",
      "542       Trainable params\n",
      "0         Non-trainable params\n",
      "542       Total params\n",
      "0.002     Total estimated model params size (MB)\n"
     ]
    },
    {
     "name": "stdout",
     "output_type": "stream",
     "text": [
      "Training force model 13 (Total 14 models)\n"
     ]
    },
    {
     "data": {
      "application/vnd.jupyter.widget-view+json": {
       "model_id": "597b32c8cc154642b1a257b7b1a5c372",
       "version_major": 2,
       "version_minor": 0
      },
      "text/plain": [
       "Training: 0it [00:00, ?it/s]"
      ]
     },
     "metadata": {},
     "output_type": "display_data"
    },
    {
     "name": "stderr",
     "output_type": "stream",
     "text": [
      "/home/dlbox2/anaconda3/envs/fande/lib/python3.10/site-packages/linear_operator/utils/linear_cg.py:338: NumericalWarning: CG terminated in 1000 iterations with average residual norm 3.5987584590911865 which is larger than the tolerance of 1 specified by linear_operator.settings.cg_tolerance. If performance is affected, consider raising the maximum number of CG iterations by running code in a linear_operator.settings.max_cg_iterations(value) context.\n",
      "  warnings.warn(\n",
      "`Trainer.fit` stopped: `max_epochs=200` reached.\n"
     ]
    },
    {
     "name": "stdout",
     "output_type": "stream",
     "text": [
      "CPU times: user 5min 50s, sys: 8.04 s, total: 5min 58s\n",
      "Wall time: 5min 53s\n"
     ]
    }
   ],
   "source": [
    "%%time\n",
    "# Fitting forces\n",
    "\n",
    "from fande.models import ModelForces, GroupModelForces\n",
    "\n",
    "\n",
    "n_steps_list = [200] * len(atomic_groups)\n",
    "lr_list = [0.1] * len(atomic_groups)\n",
    "\n",
    "models_hparams = []\n",
    "for i in range(len(atomic_groups)):\n",
    "        model_hparams = {\n",
    "        'atomic_group' : atomic_groups[i],\n",
    "        'dtype' : hparams['dtype'],\n",
    "        'device' : hparams['device'],\n",
    "        'num_epochs' : n_steps_list[i],\n",
    "        'learning_rate' : lr_list[i],\n",
    "        'soap_dim' : dataloaders_forces[i].dataset[0][0].shape[-1],\n",
    "        'soap_params' : soap_params,\n",
    "        }\n",
    "        models_hparams.append(model_hparams)\n",
    "\n",
    "\n",
    "\n",
    "hparams['per_model_hparams'] = models_hparams # access per_model_hparams by model.model_id\n",
    "gpu_id = 0\n",
    "\n",
    "\n",
    "models_forces = []\n",
    "for i in range(len(atomic_groups)):\n",
    "        model = ModelForces(\n",
    "        train_x = dataloaders_forces[i].dataset[:][0],\n",
    "        train_y = dataloaders_forces[i].dataset[:][1],\n",
    "        atomic_group = atomic_groups[i],\n",
    "        hparams = hparams,\n",
    "        id=i)\n",
    "        models_forces.append(model)\n",
    "        \n",
    "AG_force_model = GroupModelForces(\n",
    "        models= models_forces,\n",
    "        train_data_loaders = dataloaders_forces,\n",
    "        hparams=hparams, \n",
    "        gpu_id=gpu_id)\n",
    "\n",
    "AG_force_model.fit()"
   ]
  },
  {
   "cell_type": "code",
   "execution_count": 74,
   "metadata": {},
   "outputs": [],
   "source": [
    "from fande.predict import FandePredictor\n",
    "from fande.ase import FandeCalc\n",
    "\n",
    "# Energy_model = None\n",
    "# AG_force_model = None\n",
    "predictor = FandePredictor(\n",
    "        fdm,\n",
    "        AG_force_model,\n",
    "        Energy_model,\n",
    "        hparams,\n",
    "        soap_params\n",
    "        )\n"
   ]
  },
  {
   "cell_type": "code",
   "execution_count": 75,
   "metadata": {},
   "outputs": [],
   "source": [
    "fande_calc = FandeCalc(predictor)"
   ]
  },
  {
   "cell_type": "code",
   "execution_count": 138,
   "metadata": {},
   "outputs": [
    {
     "name": "stdout",
     "output_type": "stream",
     "text": [
      "Saving predictor requires humongous amount of memory! Spare some dozens of GBs!\n"
     ]
    }
   ],
   "source": [
    "fande_calc.save_predictor(\"fande_predictor.pth\")"
   ]
  },
  {
   "cell_type": "code",
   "execution_count": 127,
   "metadata": {},
   "outputs": [
    {
     "name": "stderr",
     "output_type": "stream",
     "text": []
    },
    {
     "name": "stdout",
     "output_type": "stream",
     "text": [
      "[-3093.036]\n"
     ]
    },
    {
     "name": "stderr",
     "output_type": "stream",
     "text": []
    },
    {
     "name": "stdout",
     "output_type": "stream",
     "text": [
      "[-3092.8828]\n"
     ]
    },
    {
     "name": "stderr",
     "output_type": "stream",
     "text": []
    },
    {
     "name": "stdout",
     "output_type": "stream",
     "text": [
      "[-3092.6836]\n"
     ]
    },
    {
     "name": "stderr",
     "output_type": "stream",
     "text": []
    },
    {
     "name": "stdout",
     "output_type": "stream",
     "text": [
      "[-3092.4426]\n"
     ]
    },
    {
     "name": "stderr",
     "output_type": "stream",
     "text": []
    },
    {
     "name": "stdout",
     "output_type": "stream",
     "text": [
      "[-3092.2104]\n"
     ]
    },
    {
     "name": "stderr",
     "output_type": "stream",
     "text": []
    },
    {
     "name": "stdout",
     "output_type": "stream",
     "text": [
      "[-3092.041]\n"
     ]
    },
    {
     "name": "stderr",
     "output_type": "stream",
     "text": []
    },
    {
     "name": "stdout",
     "output_type": "stream",
     "text": [
      "[-3091.895]\n"
     ]
    },
    {
     "name": "stderr",
     "output_type": "stream",
     "text": []
    },
    {
     "name": "stdout",
     "output_type": "stream",
     "text": [
      "[-3091.72]\n"
     ]
    },
    {
     "name": "stderr",
     "output_type": "stream",
     "text": []
    },
    {
     "name": "stdout",
     "output_type": "stream",
     "text": [
      "[-3091.5298]\n"
     ]
    },
    {
     "name": "stderr",
     "output_type": "stream",
     "text": []
    },
    {
     "name": "stdout",
     "output_type": "stream",
     "text": [
      "[-3091.402]\n"
     ]
    },
    {
     "name": "stderr",
     "output_type": "stream",
     "text": []
    },
    {
     "name": "stdout",
     "output_type": "stream",
     "text": [
      "[-3091.4163]\n"
     ]
    },
    {
     "name": "stderr",
     "output_type": "stream",
     "text": []
    },
    {
     "name": "stdout",
     "output_type": "stream",
     "text": [
      "[-3091.5889]\n"
     ]
    },
    {
     "name": "stderr",
     "output_type": "stream",
     "text": []
    },
    {
     "name": "stdout",
     "output_type": "stream",
     "text": [
      "[-3091.884]\n"
     ]
    },
    {
     "name": "stderr",
     "output_type": "stream",
     "text": []
    },
    {
     "name": "stdout",
     "output_type": "stream",
     "text": [
      "[-3092.107]\n"
     ]
    },
    {
     "name": "stderr",
     "output_type": "stream",
     "text": []
    },
    {
     "name": "stdout",
     "output_type": "stream",
     "text": [
      "[-3092.208]\n"
     ]
    },
    {
     "name": "stderr",
     "output_type": "stream",
     "text": []
    },
    {
     "name": "stdout",
     "output_type": "stream",
     "text": [
      "[-3092.3203]\n"
     ]
    },
    {
     "name": "stderr",
     "output_type": "stream",
     "text": []
    },
    {
     "name": "stdout",
     "output_type": "stream",
     "text": [
      "[-3092.4832]\n"
     ]
    },
    {
     "name": "stderr",
     "output_type": "stream",
     "text": []
    },
    {
     "name": "stdout",
     "output_type": "stream",
     "text": [
      "[-3092.6792]\n"
     ]
    },
    {
     "name": "stderr",
     "output_type": "stream",
     "text": []
    },
    {
     "name": "stdout",
     "output_type": "stream",
     "text": [
      "[-3092.8586]\n"
     ]
    },
    {
     "name": "stderr",
     "output_type": "stream",
     "text": [
      "100%|██████████| 20/20 [00:10<00:00,  1.87it/s]"
     ]
    },
    {
     "name": "stdout",
     "output_type": "stream",
     "text": [
      "[-3093.0508]\n"
     ]
    },
    {
     "name": "stderr",
     "output_type": "stream",
     "text": [
      "\n"
     ]
    }
   ],
   "source": [
    "from tqdm import tqdm\n",
    "test_traj = io.read(\"/data1/simulations/datasets/rotors/high_temp_ML_training_data/results_triasine_ML_2000/struct_295_295K/md_trajectory.traj\", index=\"1000:1020\")\n",
    "test_traj = test_traj.copy()\n",
    "\n",
    "real_energies = [s.get_potential_energy() for s in test_traj]\n",
    "predicted_energies = []\n",
    "for i in tqdm(range(20)):\n",
    "        test_traj[i].set_calculator(fande_calc)\n",
    "        # predicted_energies.append( test_traj[i].get_potential_energy() )\n",
    "        # print(test_traj[i].get_potential_energy() )\n",
    "        test_traj[i].get_forces()\n",
    "        print(test_traj[i].get_potential_energy() )\n",
    "        # test_traj[i].get_forces()"
   ]
  },
  {
   "cell_type": "code",
   "execution_count": 106,
   "metadata": {},
   "outputs": [
    {
     "data": {
      "text/plain": [
       "True"
      ]
     },
     "execution_count": 106,
     "metadata": {},
     "output_type": "execute_result"
    }
   ],
   "source": [
    "import numpy as np\n",
    "np.any(True)"
   ]
  },
  {
   "cell_type": "code",
   "execution_count": 85,
   "metadata": {},
   "outputs": [
    {
     "name": "stderr",
     "output_type": "stream",
     "text": [
      " 30%|███       | 6/20 [00:07<00:16,  1.20s/it]\n"
     ]
    },
    {
     "ename": "KeyboardInterrupt",
     "evalue": "",
     "output_type": "error",
     "traceback": [
      "\u001b[0;31m---------------------------------------------------------------------------\u001b[0m",
      "\u001b[0;31mKeyboardInterrupt\u001b[0m                         Traceback (most recent call last)",
      "File \u001b[0;32m<timed exec>:3\u001b[0m\n",
      "File \u001b[0;32m~/anaconda3/envs/fande/lib/python3.10/site-packages/ase/atoms.py:788\u001b[0m, in \u001b[0;36mAtoms.get_forces\u001b[0;34m(self, apply_constraint, md)\u001b[0m\n\u001b[1;32m    786\u001b[0m \u001b[39mif\u001b[39;00m \u001b[39mself\u001b[39m\u001b[39m.\u001b[39m_calc \u001b[39mis\u001b[39;00m \u001b[39mNone\u001b[39;00m:\n\u001b[1;32m    787\u001b[0m     \u001b[39mraise\u001b[39;00m \u001b[39mRuntimeError\u001b[39;00m(\u001b[39m'\u001b[39m\u001b[39mAtoms object has no calculator.\u001b[39m\u001b[39m'\u001b[39m)\n\u001b[0;32m--> 788\u001b[0m forces \u001b[39m=\u001b[39m \u001b[39mself\u001b[39;49m\u001b[39m.\u001b[39;49m_calc\u001b[39m.\u001b[39;49mget_forces(\u001b[39mself\u001b[39;49m)\n\u001b[1;32m    790\u001b[0m \u001b[39mif\u001b[39;00m apply_constraint:\n\u001b[1;32m    791\u001b[0m     \u001b[39m# We need a special md flag here because for MD we want\u001b[39;00m\n\u001b[1;32m    792\u001b[0m     \u001b[39m# to skip real constraints but include special \"constraints\"\u001b[39;00m\n\u001b[1;32m    793\u001b[0m     \u001b[39m# Like Hookean.\u001b[39;00m\n\u001b[1;32m    794\u001b[0m     \u001b[39mfor\u001b[39;00m constraint \u001b[39min\u001b[39;00m \u001b[39mself\u001b[39m\u001b[39m.\u001b[39mconstraints:\n",
      "File \u001b[0;32m~/repos/fande/fande/ase/fande_calc.py:155\u001b[0m, in \u001b[0;36mFandeCalc.get_forces\u001b[0;34m(self, atoms)\u001b[0m\n\u001b[1;32m    154\u001b[0m \u001b[39mdef\u001b[39;00m \u001b[39mget_forces\u001b[39m(\u001b[39mself\u001b[39m, atoms):\n\u001b[0;32m--> 155\u001b[0m     \u001b[39mself\u001b[39;49m\u001b[39m.\u001b[39;49mupdate(atoms)\n\u001b[1;32m    156\u001b[0m     \u001b[39mreturn\u001b[39;00m \u001b[39mself\u001b[39m\u001b[39m.\u001b[39mforces\u001b[39m.\u001b[39mcopy()\n",
      "File \u001b[0;32m~/repos/fande/fande/ase/fande_calc.py:152\u001b[0m, in \u001b[0;36mFandeCalc.update\u001b[0;34m(self, atoms)\u001b[0m\n\u001b[1;32m    148\u001b[0m     \u001b[39mself\u001b[39m\u001b[39m.\u001b[39mcalculate(atoms)\n\u001b[1;32m    149\u001b[0m \u001b[39melif\u001b[39;00m ((\u001b[39mself\u001b[39m\u001b[39m.\u001b[39mpositions \u001b[39m!=\u001b[39m atoms\u001b[39m.\u001b[39mget_positions())\u001b[39m.\u001b[39many() \u001b[39mor\u001b[39;00m\n\u001b[1;32m    150\u001b[0m       (\u001b[39mself\u001b[39m\u001b[39m.\u001b[39mpbc \u001b[39m!=\u001b[39m atoms\u001b[39m.\u001b[39mget_pbc())\u001b[39m.\u001b[39many() \u001b[39mor\u001b[39;00m\n\u001b[1;32m    151\u001b[0m       (\u001b[39mself\u001b[39m\u001b[39m.\u001b[39mcell \u001b[39m!=\u001b[39m atoms\u001b[39m.\u001b[39mget_cell())\u001b[39m.\u001b[39many()):\n\u001b[0;32m--> 152\u001b[0m     \u001b[39mself\u001b[39;49m\u001b[39m.\u001b[39;49mcalculate(atoms)\n",
      "File \u001b[0;32m~/repos/fande/fande/ase/fande_calc.py:111\u001b[0m, in \u001b[0;36mFandeCalc.calculate\u001b[0;34m(self, atoms, properties, system_changes)\u001b[0m\n\u001b[1;32m    108\u001b[0m \u001b[39mself\u001b[39m\u001b[39m.\u001b[39mforces \u001b[39m=\u001b[39m forces\n\u001b[1;32m    109\u001b[0m \u001b[39mself\u001b[39m\u001b[39m.\u001b[39mforces_variance \u001b[39m=\u001b[39m forces_variance\n\u001b[0;32m--> 111\u001b[0m energy, energy_variance \u001b[39m=\u001b[39m \u001b[39mself\u001b[39;49m\u001b[39m.\u001b[39;49mpredictor\u001b[39m.\u001b[39;49mpredict_energy_single_snapshot_r(\u001b[39mself\u001b[39;49m\u001b[39m.\u001b[39;49matoms\u001b[39m.\u001b[39;49mcopy())\n\u001b[1;32m    112\u001b[0m emax,emin \u001b[39m=\u001b[39m \u001b[39mself\u001b[39m\u001b[39m.\u001b[39mpredictor\u001b[39m.\u001b[39mfdm\u001b[39m.\u001b[39memax, \u001b[39mself\u001b[39m\u001b[39m.\u001b[39mpredictor\u001b[39m.\u001b[39mfdm\u001b[39m.\u001b[39memin\n\u001b[1;32m    113\u001b[0m energy \u001b[39m=\u001b[39m energy\u001b[39m*\u001b[39m(emax\u001b[39m-\u001b[39memin) \u001b[39m+\u001b[39m emin\n",
      "File \u001b[0;32m~/repos/fande/fande/predict/predictor.py:370\u001b[0m, in \u001b[0;36mFandePredictor.predict_energy_single_snapshot_r\u001b[0;34m(self, snapshot)\u001b[0m\n\u001b[1;32m    368\u001b[0m n_atoms \u001b[39m=\u001b[39m \u001b[39mlen\u001b[39m(snapshot)            \n\u001b[1;32m    369\u001b[0m \u001b[39mif\u001b[39;00m np\u001b[39m.\u001b[39many(\u001b[39mself\u001b[39m\u001b[39m.\u001b[39mlast_calculated_snapshot\u001b[39m.\u001b[39mpositions \u001b[39m!=\u001b[39m snapshot\u001b[39m.\u001b[39mpositions):\n\u001b[0;32m--> 370\u001b[0m     X, DX_grouped \u001b[39m=\u001b[39m \u001b[39mself\u001b[39;49m\u001b[39m.\u001b[39;49mfdm\u001b[39m.\u001b[39;49mcalculate_snapshot_invariants_librascal(snapshot)\n\u001b[1;32m    371\u001b[0m     \u001b[39mself\u001b[39m\u001b[39m.\u001b[39mlast_calculated_snapshot \u001b[39m=\u001b[39m snapshot\u001b[39m.\u001b[39mcopy()\n\u001b[1;32m    372\u001b[0m     \u001b[39mself\u001b[39m\u001b[39m.\u001b[39mlast_X, \u001b[39mself\u001b[39m\u001b[39m.\u001b[39mlast_DX_grouped \u001b[39m=\u001b[39m X, DX_grouped\n",
      "File \u001b[0;32m~/repos/fande/fande/data/data_module.py:487\u001b[0m, in \u001b[0;36mFandeDataModule.calculate_snapshot_invariants_librascal\u001b[0;34m(self, snapshot, same_centers_derivatives)\u001b[0m\n\u001b[1;32m    481\u001b[0m \u001b[39mdef\u001b[39;00m \u001b[39mcalculate_snapshot_invariants_librascal\u001b[39m(\n\u001b[1;32m    482\u001b[0m         \u001b[39mself\u001b[39m,\n\u001b[1;32m    483\u001b[0m         snapshot: ase\u001b[39m.\u001b[39mAtoms, \n\u001b[1;32m    484\u001b[0m         same_centers_derivatives\u001b[39m=\u001b[39m\u001b[39mTrue\u001b[39;00m):\n\u001b[1;32m    486\u001b[0m     traj \u001b[39m=\u001b[39m [snapshot]\n\u001b[0;32m--> 487\u001b[0m     snap_X, snap_DX \u001b[39m=\u001b[39m \u001b[39mself\u001b[39;49m\u001b[39m.\u001b[39;49mcalculate_invariants_librascal(\n\u001b[1;32m    488\u001b[0m         trajectory\u001b[39m=\u001b[39;49mtraj, \n\u001b[1;32m    489\u001b[0m         same_centers_derivatives\u001b[39m=\u001b[39;49msame_centers_derivatives, \n\u001b[1;32m    490\u001b[0m         calculation_context\u001b[39m=\u001b[39;49m\u001b[39m\"\u001b[39;49m\u001b[39mproduction\u001b[39;49m\u001b[39m\"\u001b[39;49m)\n\u001b[1;32m    492\u001b[0m     \u001b[39mreturn\u001b[39;00m snap_X, snap_DX\n",
      "File \u001b[0;32m~/repos/fande/fande/data/data_module.py:351\u001b[0m, in \u001b[0;36mFandeDataModule.calculate_invariants_librascal\u001b[0;34m(self, soap_params, atomic_groups, centers_positions, derivatives_positions, same_centers_derivatives, frames_per_batch, calculation_context, trajectory)\u001b[0m\n\u001b[1;32m    348\u001b[0m traj_b \u001b[39m=\u001b[39m batch[\u001b[39m'\u001b[39m\u001b[39mtraj\u001b[39m\u001b[39m'\u001b[39m]\n\u001b[1;32m    349\u001b[0m forces_b \u001b[39m=\u001b[39m batch[\u001b[39m'\u001b[39m\u001b[39mforces\u001b[39m\u001b[39m'\u001b[39m]\n\u001b[0;32m--> 351\u001b[0m managers \u001b[39m=\u001b[39m soap\u001b[39m.\u001b[39;49mtransform(traj_b)\n\u001b[1;32m    352\u001b[0m soap_array \u001b[39m=\u001b[39m managers\u001b[39m.\u001b[39mget_features(soap)\n\u001b[1;32m    353\u001b[0m X_np_batched\u001b[39m.\u001b[39mappend(soap_array)\n",
      "File \u001b[0;32m~/anaconda3/envs/fande/lib/python3.10/site-packages/rascal/representations/spherical_invariants.py:341\u001b[0m, in \u001b[0;36mSphericalInvariants.transform\u001b[0;34m(self, frames)\u001b[0m\n\u001b[1;32m    338\u001b[0m \u001b[39mif\u001b[39;00m \u001b[39mnot\u001b[39;00m \u001b[39misinstance\u001b[39m(frames, AtomsList):\n\u001b[1;32m    339\u001b[0m     frames \u001b[39m=\u001b[39m AtomsList(frames, \u001b[39mself\u001b[39m\u001b[39m.\u001b[39mnl_options)\n\u001b[0;32m--> 341\u001b[0m \u001b[39mself\u001b[39;49m\u001b[39m.\u001b[39;49m_representation\u001b[39m.\u001b[39;49mcompute(frames\u001b[39m.\u001b[39;49mmanagers)\n\u001b[1;32m    343\u001b[0m \u001b[39mreturn\u001b[39;00m frames\n",
      "\u001b[0;31mKeyboardInterrupt\u001b[0m: "
     ]
    }
   ],
   "source": [
    "%%time\n",
    "# test_traj[0].get_forces()\n",
    "for i in tqdm(range(len(test_traj))):\n",
    "        test_traj[i].get_forces()\n",
    "# test_traj[1].get_potential_energy()"
   ]
  },
  {
   "cell_type": "code",
   "execution_count": 137,
   "metadata": {},
   "outputs": [
    {
     "data": {
      "image/png": "[encoded data removed]",
      "text/plain": [
       "<Figure size 640x480 with 1 Axes>"
      ]
     },
     "metadata": {},
     "output_type": "display_data"
    }
   ],
   "source": [
    "import matplotlib.pyplot as plt\n",
    "\n",
    "plt.plot(real_energies, label=\"real\")\n",
    "plt.plot(predicted_energies, label=\"predicted\")\n",
    "plt.legend()\n",
    "plt.show()"
   ]
  },
  {
   "cell_type": "code",
   "execution_count": 14,
   "metadata": {},
   "outputs": [
    {
     "name": "stdout",
     "output_type": "stream",
     "text": [
      "Atomic group force model is not defined. Cannot predict forces. Returning zeros.\n",
      "[-3080.6099]\n",
      "[[0. 0. 0.]\n",
      " [0. 0. 0.]\n",
      " [0. 0. 0.]\n",
      " ...\n",
      " [0. 0. 0.]\n",
      " [0. 0. 0.]\n",
      " [0. 0. 0.]]\n"
     ]
    }
   ],
   "source": [
    "atoms = trajectory_energy[51].copy()\n",
    "\n",
    "atoms.set_calculator(fande_calc)\n",
    "\n",
    "print(atoms.get_potential_energy())\n",
    "print(atoms.get_forces())"
   ]
  },
  {
   "cell_type": "code",
   "execution_count": 2,
   "metadata": {},
   "outputs": [
    {
     "ename": "NameError",
     "evalue": "name 'fande_calc' is not defined",
     "output_type": "error",
     "traceback": [
      "\u001b[0;31m---------------------------------------------------------------------------\u001b[0m",
      "\u001b[0;31mNameError\u001b[0m                                 Traceback (most recent call last)",
      "\u001b[1;32m/home/dlbox2/repos/rotor-gp/code/fit_energies.ipynb セル 14\u001b[0m line \u001b[0;36m1\n\u001b[0;32m----> <a href='vscode-notebook-cell:/home/dlbox2/repos/rotor-gp/code/fit_energies.ipynb#X60sZmlsZQ%3D%3D?line=0'>1</a>\u001b[0m fande_calc\u001b[39m.\u001b[39msave_predictor(\u001b[39m\"\u001b[39m\u001b[39mprrrrr.pt\u001b[39m\u001b[39m\"\u001b[39m)\n",
      "\u001b[0;31mNameError\u001b[0m: name 'fande_calc' is not defined"
     ]
    }
   ],
   "source": [
    "fande_calc.save_predictor(\"prrrrr.pt\")"
   ]
  },
  {
   "cell_type": "code",
   "execution_count": 3,
   "metadata": {},
   "outputs": [
    {
     "name": "stdout",
     "output_type": "stream",
     "text": [
      "fande.models module imported...\n"
     ]
    }
   ],
   "source": [
    "import torch\n",
    "from fande.ase import FandeCalc\n",
    "\n",
    "predictor_loaded = torch.load(\"prrrrr.pt\")"
   ]
  },
  {
   "cell_type": "code",
   "execution_count": 4,
   "metadata": {},
   "outputs": [],
   "source": [
    "fande_calc_loaded = FandeCalc(predictor_loaded)"
   ]
  },
  {
   "cell_type": "code",
   "execution_count": 6,
   "metadata": {},
   "outputs": [],
   "source": [
    "from ase import io\n",
    "atoms = io.read(\"/data1/simulations/datasets/rotors/high_temp_ML_training_data/results_triasine_ML_2000/struct_295_295K/md_trajectory.traj\", index=\"10\")\n",
    "\n",
    "atoms.set_calculator(fande_calc_loaded)"
   ]
  },
  {
   "cell_type": "code",
   "execution_count": 1,
   "metadata": {},
   "outputs": [
    {
     "ename": "NameError",
     "evalue": "name 'atoms' is not defined",
     "output_type": "error",
     "traceback": [
      "\u001b[0;31m---------------------------------------------------------------------------\u001b[0m",
      "\u001b[0;31mNameError\u001b[0m                                 Traceback (most recent call last)",
      "\u001b[1;32m/home/dlbox2/repos/rotor-gp/code/fit_energies.ipynb セル 18\u001b[0m line \u001b[0;36m1\n\u001b[0;32m----> <a href='vscode-notebook-cell:/home/dlbox2/repos/rotor-gp/code/fit_energies.ipynb#X64sZmlsZQ%3D%3D?line=0'>1</a>\u001b[0m atoms\u001b[39m.\u001b[39mget_potential_energy()\n\u001b[1;32m      <a href='vscode-notebook-cell:/home/dlbox2/repos/rotor-gp/code/fit_energies.ipynb#X64sZmlsZQ%3D%3D?line=1'>2</a>\u001b[0m atoms\u001b[39m.\u001b[39mget_forces()\n",
      "\u001b[0;31mNameError\u001b[0m: name 'atoms' is not defined"
     ]
    }
   ],
   "source": [
    "atoms.get_potential_energy()\n",
    "atoms.get_forces()"
   ]
  },
  {
   "cell_type": "code",
   "execution_count": 85,
   "metadata": {},
   "outputs": [
    {
     "data": {
      "text/plain": [
       "array([[0.00688136, 0.00688136, 0.00688136],\n",
       "       [0.00688136, 0.00688136, 0.00688136],\n",
       "       [0.00688136, 0.00688136, 0.00688136],\n",
       "       ...,\n",
       "       [0.16884041, 0.16884041, 0.16884041],\n",
       "       [0.16884041, 0.16884041, 0.16884041],\n",
       "       [0.16884041, 0.16884041, 0.16884041]])"
      ]
     },
     "execution_count": 85,
     "metadata": {},
     "output_type": "execute_result"
    }
   ],
   "source": []
  }
 ],
 "metadata": {
  "kernelspec": {
   "display_name": "base",
   "language": "python",
   "name": "python3"
  },
  "language_info": {
   "codemirror_mode": {
    "name": "ipython",
    "version": 3
   },
   "file_extension": ".py",
   "mimetype": "text/x-python",
   "name": "python",
   "nbconvert_exporter": "python",
   "pygments_lexer": "ipython3",
   "version": "3.10.10"
  },
  "orig_nbformat": 4
 },
 "nbformat": 4,
 "nbformat_minor": 2
}
