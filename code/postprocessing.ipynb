{
 "cells": [
  {
   "cell_type": "markdown",
   "metadata": {},
   "source": [
    "# Results postprocessing"
   ]
  },
  {
   "cell_type": "code",
   "execution_count": null,
   "metadata": {},
   "outputs": [],
   "source": [
    "from ase import io\n",
    "from tqdm import tqdm\n",
    "\n",
    "# dir_snaps = \"/home/qklmn/repos/rotor-gp/code/results/temp/temp_calc_dir_0/ase_calc_history/\"\n",
    "# dir_snaps_2 = \"/home/qklmn/repos/rotor-gp/results/train_and_run/2023-09-01_17 01-54_542103/ase_calc_history/\"\n",
    "\n",
    "dir_snaps_2 = \"/home/qklmn/repos/rotor-gp/results/train_and_run/2023-09-04_11 44-08_105531/ase_calc_history/\"\n",
    "dir_snaps_1 = \"/home/qklmn/repos/rotor-gp/results/train_and_run/2023-09-06_15 40-21_760043/ase_calc_history/\"\n",
    "\n",
    "snapshot_list_1 = []\n",
    "snapshot_list_2 = []\n",
    "for i in tqdm(range(0, 10000)):\n",
    "    snapshot_list_1.append( io.read( dir_snaps_1+str(i)+\".xyz\", format=\"extxyz\") )\n",
    "    snapshot_list_2.append( io.read( dir_snaps_2+str(i)+\".xyz\", format=\"extxyz\") )"
   ]
  },
  {
   "cell_type": "code",
   "execution_count": null,
   "metadata": {},
   "outputs": [],
   "source": [
    "index_H = 134\n",
    "max_var_1 = [snap.arrays['forces_variance'][index_H].max() for snap in snapshot_list_1]\n",
    "max_var_2 = [snap.arrays['forces_variance'][index_H].max() for snap in snapshot_list_2]\n",
    "plt.plot(max_var_1, color=\"red\", label=\"Badly-trained GP-ML/FF@PBE\")\n",
    "plt.plot(max_var_2, color=\"black\", label=\"Well-trained GP-ML/FF@PBE\")\n",
    "plt.xlabel(\"MD step\")\n",
    "plt.ylabel(\"Uncertainty\")\n",
    "plt.legend()\n",
    "plt.show()\n",
    "\n",
    "index_C = 42\n",
    "max_var_1 = [snap.arrays['forces_variance'][index_C].max() for snap in snapshot_list_1]\n",
    "max_var_2 = [snap.arrays['forces_variance'][index_C].max() for snap in snapshot_list_2]\n",
    "plt.plot(max_var_1, color=\"red\", label=\"Badly-trained GP-ML/FF@PBE\")\n",
    "plt.plot(max_var_2, color=\"black\", label=\"Well-trained GP-ML/FF@PBE\")\n",
    "plt.xlabel(\"MD step\")\n",
    "plt.ylabel(\"Uncertainty\")\n",
    "plt.legend()\n",
    "plt.show()\n",
    "\n",
    "\n",
    "index_Si = 0\n",
    "max_var_1 = [snap.arrays['forces_variance'][index_Si].max() for snap in snapshot_list_1]\n",
    "max_var_2 = [snap.arrays['forces_variance'][index_Si].max() for snap in snapshot_list_2]\n",
    "plt.plot(max_var_1, color=\"red\", label=\"Badly-trained GP-ML/FF@PBE\")\n",
    "plt.plot(max_var_2, color=\"black\", label=\"Well-trained GP-ML/FF@PBE\")\n",
    "plt.xlabel(\"MD step\")\n",
    "plt.ylabel(\"Uncertainty\")\n",
    "plt.legend()\n",
    "plt.show()"
   ]
  },
  {
   "cell_type": "code",
   "execution_count": null,
   "metadata": {},
   "outputs": [],
   "source": []
  },
  {
   "cell_type": "code",
   "execution_count": null,
   "metadata": {},
   "outputs": [],
   "source": [
    "fmax_list = [snap.get_forces().max() for snap in snapshot_list]"
   ]
  },
  {
   "cell_type": "code",
   "execution_count": null,
   "metadata": {},
   "outputs": [],
   "source": [
    "forces_ipi_raw_xyz = io.read(\"/home/qklmn/repos/rotor-gp/code/pimd/output_dftb_ref/PREFIX.frc_00.xyz\", index=\":\")"
   ]
  },
  {
   "cell_type": "code",
   "execution_count": null,
   "metadata": {},
   "outputs": [],
   "source": [
    "forces_ipi_raw_xyz[0].get_chemical_symbols()[100]"
   ]
  },
  {
   "cell_type": "code",
   "execution_count": null,
   "metadata": {},
   "outputs": [],
   "source": [
    "from ase import units\n",
    "import numpy as np\n",
    "\n",
    "forces_ipi = np.array( [s.get_positions()*(units.Hartree/units.Bohr) for s in forces_ipi_raw_xyz] )"
   ]
  },
  {
   "cell_type": "code",
   "execution_count": null,
   "metadata": {},
   "outputs": [],
   "source": [
    "fmax = forces_ipi[:,:,0].max(axis=1)\n",
    "fmin = forces_ipi[:,:,0].min(axis=1)\n",
    "\n",
    "fabs_mean = np.abs(forces_ipi).mean()\n",
    "fabs_var = np.abs(forces_ipi).var()\n",
    "\n",
    "fmax.shape"
   ]
  },
  {
   "cell_type": "code",
   "execution_count": null,
   "metadata": {},
   "outputs": [],
   "source": [
    "fabs_var"
   ]
  },
  {
   "cell_type": "code",
   "execution_count": null,
   "metadata": {},
   "outputs": [],
   "source": [
    "import matplotlib.pyplot as plt\n",
    "\n",
    "\n",
    "plt.plot(fmax[0:1000])\n",
    "plt.plot(fmin)\n",
    "\n",
    "plt.show()"
   ]
  },
  {
   "cell_type": "markdown",
   "metadata": {},
   "source": [
    "# Check statistics within training data"
   ]
  },
  {
   "cell_type": "code",
   "execution_count": null,
   "metadata": {},
   "outputs": [],
   "source": [
    "traj_dftb_2100 = io.read(\"/home/qklmn/data/datasets/rotors/different_temperatures/dftb/traj_2100.traj\", index=\":\")\n",
    "traj_dftb_300 = io.read(\"/home/qklmn/data/datasets/rotors/different_temperatures/dftb/traj_300.traj\", index=\":\")"
   ]
  },
  {
   "cell_type": "code",
   "execution_count": null,
   "metadata": {},
   "outputs": [],
   "source": [
    "fmax_300 = [snap.get_forces().max() for snap in traj_dftb_300]"
   ]
  },
  {
   "cell_type": "code",
   "execution_count": null,
   "metadata": {},
   "outputs": [],
   "source": [
    "plt.plot(fmax_300)"
   ]
  },
  {
   "cell_type": "markdown",
   "metadata": {},
   "source": [
    "## Check 1 vs. 16 beads"
   ]
  },
  {
   "cell_type": "code",
   "execution_count": null,
   "metadata": {},
   "outputs": [],
   "source": [
    "from ase import io\n",
    "import numpy as np\n",
    "from tqdm import tqdm"
   ]
  },
  {
   "cell_type": "code",
   "execution_count": null,
   "metadata": {},
   "outputs": [],
   "source": [
    "traj_1 = io.read(\"/home/qklmn/repos/rotor-gp/code/pimd/output_dftb_1/PREFIX.pos_0.xyz\", index=\":\")\n",
    "traj_16 = io.read(\"/home/qklmn/repos/rotor-gp/code/pimd/output_dftb_16/PREFIX.pos_00.xyz\", index=\":\")\n",
    "traj_32 = io.read(\"/home/qklmn/repos/rotor-gp/code/pimd/output_dftb_32/PREFIX.pos_10.xyz\", index=\":\")\n",
    "traj_64 = io.read(\"/home/qklmn/repos/rotor-gp/code/pimd/output_dftb_64/PREFIX.pos_00.xyz\", index=\":\")\n",
    "# traj_16_centroid = io.read(\"/home/qklmn/repos/rotor-gp/code/pimd/output_dftb_16/PREFIX.pos_centroid.xyz\", index=\":\")\n",
    "\n"
   ]
  },
  {
   "cell_type": "code",
   "execution_count": null,
   "metadata": {},
   "outputs": [],
   "source": [
    "traj_1_good =  io.read(\"/home/qklmn/repos/rotor-gp/code/pimd/output_dftb_good_1/PREFIX.pos_0.xyz\", index=\":\")\n",
    "traj_16_good =  io.read(\"/home/qklmn/repos/rotor-gp/code/pimd/output_dftb_good_16/PREFIX.pos_00.xyz\", index=\":\")"
   ]
  },
  {
   "cell_type": "code",
   "execution_count": null,
   "metadata": {},
   "outputs": [],
   "source": [
    "traj_1_ml = io.read(\"/home/qklmn/repos/rotor-gp/code/pimd/output_ml_1//PREFIX.pos_0.xyz\", index=\":\")\n",
    "traj_16_ml = io.read(\"/home/qklmn/repos/rotor-gp/code/pimd/outout_ml_16//PREFIX.pos_00.xyz\", index=\":\")"
   ]
  },
  {
   "cell_type": "code",
   "execution_count": null,
   "metadata": {},
   "outputs": [],
   "source": [
    "# traj_1_ml_dft = io.read(\"/home/qklmn/repos/rotor-gp/code/pimd/output_ml_DFT_1//PREFIX.pos_0.xyz\", index=\":\")\n",
    "# traj_16_ml_dft = io.read(\"/home/qklmn/repos/rotor-gp/code/pimd/output_ml_DFT_16//PREFIX.pos_00.xyz\", index=\":\")\n",
    "\n",
    "traj_1_ml_dft = io.read(\"/data1/simulations/correlations/output_ml_DFT_1/PREFIX.pos_0.xyz\", index=\":\")\n",
    "traj_16_ml_dft = io.read(\"/data1/simulations/correlations/output_ml_DFT_16/PREFIX.pos_00.xyz\", index=\":\")"
   ]
  },
  {
   "cell_type": "code",
   "execution_count": null,
   "metadata": {},
   "outputs": [],
   "source": [
    "str(12).zfill(2)"
   ]
  },
  {
   "cell_type": "code",
   "execution_count": null,
   "metadata": {},
   "outputs": [],
   "source": [
    "traj_16_ml_dft_list = []\n",
    "\n",
    "for i in range(16):\n",
    "        traj_16_ml_dft_list.append( io.read(\"/home/qklmn/repos/rotor-gp/code/pimd/output_ml_DFT_16//PREFIX.pos_\" + str(i).zfill(2) + \".xyz\", index=\":\")  )"
   ]
  },
  {
   "cell_type": "code",
   "execution_count": null,
   "metadata": {},
   "outputs": [],
   "source": [
    "distances_1 = [ snap.get_all_distances() for snap in traj_1] \n",
    "distances_1 = np.array(distances_1)"
   ]
  },
  {
   "cell_type": "code",
   "execution_count": null,
   "metadata": {},
   "outputs": [],
   "source": [
    "distances_16 = [ snap.get_all_distances() for snap in traj_16]\n",
    "distances_16 = np.array(distances_16)"
   ]
  },
  {
   "cell_type": "code",
   "execution_count": null,
   "metadata": {},
   "outputs": [],
   "source": [
    "distances_1_good = [ snap.get_all_distances() for snap in traj_1_good]\n",
    "distances_1_good = np.array(distances_1_good)"
   ]
  },
  {
   "cell_type": "code",
   "execution_count": null,
   "metadata": {},
   "outputs": [],
   "source": [
    "distances_1_ml = [ snap.get_all_distances() for snap in tqdm(traj_1_ml)]\n",
    "distances_1_ml = np.array(distances_1_ml)"
   ]
  },
  {
   "cell_type": "code",
   "execution_count": null,
   "metadata": {},
   "outputs": [],
   "source": [
    "distances_16_ml = [ snap.get_all_distances() for snap in tqdm(traj_16_ml)]\n",
    "distances_16_ml = np.array(distances_16_ml)"
   ]
  },
  {
   "cell_type": "code",
   "execution_count": null,
   "metadata": {},
   "outputs": [],
   "source": [
    "distances_1_ml_dft = [ snap.get_all_distances() for snap in tqdm(traj_1_ml_dft)]\n",
    "distances_1_ml_dft = np.array(distances_1_ml_dft)"
   ]
  },
  {
   "cell_type": "code",
   "execution_count": null,
   "metadata": {},
   "outputs": [],
   "source": [
    "distances_16_ml_dft = [ snap.get_all_distances() for snap in tqdm(traj_16_ml_dft)]\n",
    "distances_16_ml_dft = np.array(distances_16_ml_dft)"
   ]
  },
  {
   "cell_type": "code",
   "execution_count": null,
   "metadata": {},
   "outputs": [],
   "source": [
    "distances_16_good = [ snap.get_all_distances() for snap in traj_16_good]\n",
    "distances_16_good = np.array(distances_16_good)"
   ]
  },
  {
   "cell_type": "code",
   "execution_count": null,
   "metadata": {},
   "outputs": [],
   "source": [
    "distances_32 = [ snap.get_all_distances() for snap in traj_32]\n",
    "distances_32 = np.array(distances_32)"
   ]
  },
  {
   "cell_type": "code",
   "execution_count": null,
   "metadata": {},
   "outputs": [],
   "source": [
    "distances_64 = [ snap.get_all_distances() for snap in traj_64]\n",
    "distances_64 = np.array(distances_64)"
   ]
  },
  {
   "cell_type": "code",
   "execution_count": null,
   "metadata": {},
   "outputs": [],
   "source": [
    "# distances_16_c = [ snap.get_all_distances() for snap in traj_16_centroid]\n",
    "# distances_16_c = np.array(distances_16_c)"
   ]
  },
  {
   "cell_type": "code",
   "execution_count": null,
   "metadata": {},
   "outputs": [],
   "source": [
    "distances_1.shape"
   ]
  },
  {
   "cell_type": "code",
   "execution_count": null,
   "metadata": {},
   "outputs": [],
   "source": [
    "distances_64[:, dind[0], dind[1]].shape"
   ]
  },
  {
   "cell_type": "code",
   "execution_count": null,
   "metadata": {},
   "outputs": [],
   "source": [
    "distances_16_ml_dft.shape"
   ]
  },
  {
   "cell_type": "code",
   "execution_count": null,
   "metadata": {},
   "outputs": [],
   "source": [
    "traj_64[0][dind]"
   ]
  },
  {
   "cell_type": "code",
   "execution_count": null,
   "metadata": {},
   "outputs": [],
   "source": [
    "import matplotlib.pyplot as plt\n",
    "import seaborn as sns\n",
    "\n",
    "plt.rcParams[\"figure.figsize\"] = [7.50, 4.50]\n",
    "# plt.rcParams[\"figure.autolayout\"] = True\n",
    "# plt.rcParams[\"figure.dpi\"] = 300\n",
    "# plt.rcParams[\"savefig.dpi\"] = 300\n",
    "plt.rcParams[\"font.size\"] = 14\n",
    "\n",
    "dind_H = np.s_[105,135] #np.s_[117, 124] #dind = np.s_[7, 104] # 119,134 - two ring protons, 123, 136\n",
    "# plt.hist(distances_1[:, dind[0], dind[1]], label=\"1 bead\", alpha=0.5)\n",
    "# plt.hist(distances_16[:, dind[0], dind[1]], label=\"16 beads\", alpha=0.5)\n",
    "# # plt.hist(distances_32[:, dind[0], dind[1]], label=\"32 beads\", alpha=0.5)\n",
    "# # plt.hist(distances_64[:, dind[0], dind[1]], label=\"64 beads\", alpha=0.5)\n",
    "# # plt.hist(distances_16_c, label=\"16 beads, centroid\", alpha=0.5)\n",
    "# plt.hist(distances_1_good[:, dind[0], dind[1]], label=\"1 beads, good\", alpha=0.5)\n",
    "# plt.hist(distances_16_good[:, dind[0], dind[1]], label=\"16 beads, good\", alpha=0.5)\n",
    "# plt.legend()\n",
    "# plt.show()\n",
    "\n",
    "# sns.kdeplot(distances_1[:, dind[0], dind[1]], label=\"1 beads\", color=\"green\")\n",
    "# sns.kdeplot(distances_16[:, dind[0], dind[1]], label=\"16 beads\", color=\"green\")\n",
    "# sns.kdeplot(distances_1_good[:, dind[0], dind[1]], label=\"PIMD 1, good\", color='black')\n",
    "# sns.kdeplot(distances_16_good[:, dind[0], dind[1]], label=\"PIMD 16, good\", color='red')\n",
    "\n",
    "# sns.kdeplot(distances_1_ml[:, dind[0], dind[1]], label=\"ML, 1 beads\", color=\"black\")\n",
    "# sns.kdeplot(distances_16_ml[:, dind[0], dind[1]], label=\"ML, 16 beads\", color=\"blue\")\n",
    "sns.kdeplot(distances_1_ml_dft[:, dind_H[0], dind_H[1]], label=\"GP-ML@DFT(PBE), classical MD\", color=\"black\", fill=True)\n",
    "sns.kdeplot(distances_16_ml_dft[:, dind_H[0], dind_H[1]], label=\"GP-ML@DFT(PBE), RPMD Quantum dyanmics\", color=\"red\", fill=True)\n",
    "plt.xlabel(\"Distance, Angstrom\")\n",
    "plt.legend()\n",
    "plt.show()\n",
    "\n",
    "# print(distances_1[:, dind[0], dind[1]].mean(), distances_1[:, dind[0], dind[1]].var())\n",
    "# print(distances_16[:, dind[0], dind[1]].mean(), distances_16[:, dind[0], dind[1]].var())\n",
    "# print(distances_32[:, dind[0], dind[1]].mean(), distances_32[:, dind[0], dind[1]].var())\n",
    "# print(distances_64[:, dind[0], dind[1]].mean(), distances_64[:, dind[0], dind[1]].var())\n",
    "# print(distances_16_c.mean(), distances_16_c.var())\n",
    "\n",
    "dind_CH = np.s_[21, 119] #dind = np.s_[7, 104] # 119,134 - two ring protons, 123, 136\n",
    "sns.kdeplot(distances_1_ml_dft[:, dind_CH[0], dind_CH[1]], label=\"GP-ML@DFT(PBE), 1 bead\", color=\"black\", fill=True)\n",
    "sns.kdeplot(distances_16_ml_dft[:, dind_CH[0], dind_CH[1]], label=\"GP-ML@DFT(PBE), 16 beads\", color=\"red\", fill=True)\n",
    "plt.xlabel(\"Distance, Angstrom\")\n",
    "plt.legend()\n",
    "plt.show()\n",
    "\n",
    "dind_CHm = np.s_[121, 258] #dind = np.s_[7, 104] # 119,134 - two ring protons, 123, 136\n",
    "sns.kdeplot(distances_1_ml_dft[:, dind_CHm[0], dind_CHm[1]], label=\"GP-ML@DFT(PBE), 1 bead\", color=\"black\", fill=True)\n",
    "sns.kdeplot(distances_16_ml_dft[:, dind_CHm[0], dind_CHm[1]], label=\"GP-ML@DFT(PBE), 16 beads\", color=\"red\", fill=True)\n",
    "plt.xlabel(\"Distance, Angstrom\")\n",
    "plt.legend()\n",
    "plt.show()"
   ]
  },
  {
   "cell_type": "code",
   "execution_count": null,
   "metadata": {},
   "outputs": [],
   "source": [
    "layer_0 = [ \n",
    "        [106, 10, 26, 24], \n",
    "        [102, 6, 18, 16], \n",
    "        [104,8,44,42],     \n",
    "        # [0,0,0,0],\n",
    "        # [0,0,0,0],\n",
    "        ]\n",
    "\n",
    "layer_1 = [ \n",
    "        [103,9,45,47], \n",
    "        # [105,9,45,43], \n",
    "        [107,11,27,25],\n",
    "        [107,7,19,21],       \n",
    "        # [105,11,27,29] \n",
    "        ]\n",
    "\n",
    "\n",
    "#Obtain normal indexing (from 0)\n",
    "import numpy as np      \n",
    "l0_v = np.array(layer_0)\n",
    "l1_v = np.array(layer_1)\n",
    "\n",
    "all_vert = np.array([l0_v, l1_v])"
   ]
  },
  {
   "cell_type": "code",
   "execution_count": null,
   "metadata": {},
   "outputs": [],
   "source": [
    "import numpy as np\n",
    "from tqdm import tqdm\n",
    "\n",
    "# import math\n",
    "\n",
    "def normalize_angle_to_plus_minus_180(angle):\n",
    "    result_angle = angle\n",
    "    while result_angle > 180:\n",
    "        result_angle -= 2 * 180\n",
    "    while result_angle < - 180:\n",
    "        result_angle += 2 * 180\n",
    "    return result_angle \n",
    "\n",
    "\n",
    "def compute_angles(traj):\n",
    "    # print(\"Started for indices:\", indices)\n",
    "\n",
    "    # traj = io.read(file_name, index=indices)\n",
    "    L = len(traj)\n",
    "    dihedrals = np.zeros( (2,4,L) )\n",
    "    for ind, snap in enumerate(tqdm(traj)):\n",
    "        for l in range(2):\n",
    "                for r in range(3):\n",
    "                    #     a = np.append(a, x)\n",
    "                    # d = snap.get_dihedral(*all_vert[l,r,:])\n",
    "                    dihedrals[l,r,ind] = normalize_angle_to_plus_minus_180( snap.get_dihedral(*all_vert[l,r,:]) )   \n",
    "    # print(\"\\n\")\n",
    "    # print(\"\\nFinished for indices:\", indices)\n",
    "    return dihedrals"
   ]
  },
  {
   "cell_type": "code",
   "execution_count": null,
   "metadata": {},
   "outputs": [],
   "source": [
    "dihedrals_1 = compute_angles(traj_1)\n",
    "dihedrals_16 = compute_angles(traj_16)\n",
    "dihedrals_32 = compute_angles(traj_32)\n",
    "dihedrals_64 = compute_angles(traj_64)"
   ]
  },
  {
   "cell_type": "code",
   "execution_count": null,
   "metadata": {},
   "outputs": [],
   "source": [
    "dihedrals_1_good = compute_angles(traj_1_good)\n",
    "dihedrals_16_good = compute_angles(traj_16_good)"
   ]
  },
  {
   "cell_type": "code",
   "execution_count": null,
   "metadata": {},
   "outputs": [],
   "source": [
    "# dihedrals_1_ml = compute_angles(traj_1_ml)\n",
    "# dihedrals_16_ml = compute_angles(traj_16_ml)\n",
    "dihedrals_1_ml_dft = compute_angles(traj_1_ml_dft)\n",
    "dihedrals_16_ml_dft = compute_angles(traj_16_ml_dft)"
   ]
  },
  {
   "cell_type": "code",
   "execution_count": null,
   "metadata": {},
   "outputs": [],
   "source": [
    "dihedrals_1_ml_dft_list = []\n",
    "\n",
    "for traj in traj_16_ml_dft_list:\n",
    "    dihedrals_1_ml_dft_list.append( compute_angles(traj) )"
   ]
  },
  {
   "cell_type": "code",
   "execution_count": null,
   "metadata": {},
   "outputs": [],
   "source": [
    "lr = np.s_[0, 0]\n",
    "\n",
    "for dih in dihedrals_1_ml_dft_list:\n",
    "    sns.lineplot(dih[lr][0:500])\n",
    "plt.ylabel(\"Ring dihedral angle, degrees\")\n",
    "plt.xlabel(\"MD step\")\n",
    "# plt.legend()\n",
    "plt.show()"
   ]
  },
  {
   "cell_type": "code",
   "execution_count": null,
   "metadata": {},
   "outputs": [],
   "source": [
    "dihedrals_16_c = compute_angles(traj_16_centroid)"
   ]
  },
  {
   "cell_type": "code",
   "execution_count": null,
   "metadata": {},
   "outputs": [],
   "source": [
    "import matplotlib.pyplot as plt\n",
    "import seaborn as sns\n",
    "\n",
    "lr = np.s_[0, 0] # [1,0] is good\n",
    "\n",
    "# plt.hist(dihedrals_1[lr], label=\"1 bead\", alpha=0.5)\n",
    "# # plt.hist(dihedrals_16[lr], label=\"16 beads\", alpha=0.5)\n",
    "# plt.hist(dihedrals_32[lr], label=\"32 beads\", alpha=0.5)\n",
    "# plt.hist(dihedrals_64[lr], label=\"64 beads\", alpha=0.5)\n",
    "# # plt.hist(dihedrals_16_c[lr], label=\"16 beads, centroid\")\n",
    "# plt.legend()\n",
    "# plt.ylabel(\"Frequency\")\n",
    "# plt.xlabel(\"Dihedral angle, degree\")\n",
    "# plt.show()\n",
    "\n",
    "# print(dihedrals_1[lr].mean(), dihedrals_1[lr].var())\n",
    "# print(dihedrals_32[lr].mean(), dihedrals_32[lr].var())\n",
    "# print(dihedrals_64[lr].mean(), dihedrals_64[lr].var())\n",
    "# print(dihedrals_16_c[lr].mean(), dihedrals_16_c[lr].var())\n",
    "\n",
    "# sns.kdeplot(dihedrals_1[lr], label=\"MD\", linestyle='dashed', color='black')\n",
    "# sns.kdeplot(dihedrals_16[lr], label=\"16 beads\")\n",
    "# sns.kdeplot(dihedrals_32[lr], label=\"32 beads\")\n",
    "# sns.kdeplot(dihedrals_64[lr], label=\"PIMD\", color='black')\n",
    "\n",
    "# sns.kdeplot(dihedrals_1_good[lr][0:1000], label=\"PIMD 1, good\", color='black')\n",
    "# sns.kdeplot(dihedrals_1_ml[lr], label=\"ML 1\", color='black')\n",
    "# sns.kdeplot(dihedrals_16_ml[lr], label=\"ML 16\", color='blue')\n",
    "sns.kdeplot(dihedrals_1_ml_dft[lr][:],  label=\"GP-ML@DFT(PBE), 1 bead\", color='black', fill=True)\n",
    "sns.kdeplot(dihedrals_16_ml_dft[lr][:],  label=\"GP-ML@DFT(PBE), 16 beads\", color='red', fill=True)\n",
    "# sns.kdeplot(dihedrals_16_good[lr][0:1000], label=\"PIMD 16, good\", color='red')\n",
    "\n",
    "plt.ylabel(\"Density\")\n",
    "plt.xlabel(\"Dihedral angle, degrees\")\n",
    "plt.legend()\n",
    "plt.show()\n",
    "\n",
    "\n"
   ]
  },
  {
   "cell_type": "code",
   "execution_count": null,
   "metadata": {},
   "outputs": [],
   "source": [
    "import pandas as pd\n",
    "\n",
    "\n",
    "lr1 = np.s_[0, 0]\n",
    "lr2 = np.s_[0, 1]\n",
    "\n",
    "df_1_ml_dft = pd.DataFrame( np.array( [dihedrals_1_ml_dft[lr1][:], dihedrals_1_ml_dft[lr2][:]] ).transpose() , columns = ['Ring 1','Ring 2'])\n",
    "\n",
    "df_16_ml_dft = pd.DataFrame( np.array( [dihedrals_16_ml_dft[lr1][:], dihedrals_16_ml_dft[lr2][:]] ).transpose() , columns = ['Ring 1','Ring 2'])\n",
    "\n",
    "sns.displot(df_1_ml_dft, x=\"Ring 1\", y=\"Ring 2\")\n",
    "plt.xlabel(\"Ring 1 dihedral angle, degrees\")\n",
    "plt.ylabel(\"Ring 2 dihedral angle, degrees\")\n",
    "sns.displot(df_16_ml_dft, x=\"Ring 1\", y=\"Ring 2\")\n",
    "plt.xlabel(\"Ring 1 dihedral angle, degrees\")\n",
    "plt.ylabel(\"Ring 2 dihedral angle, degrees\")\n",
    "plt.show()\n",
    "\n",
    "print(\"Correlation matrix:\", np.corrcoef(dihedrals_1_ml_dft[lr1][:], dihedrals_1_ml_dft[lr2][:]) )\n",
    "print(\"Correlation matrix:\", np.corrcoef(dihedrals_16_ml_dft[lr1][:], dihedrals_16_ml_dft[lr2][:]) )\n",
    "\n",
    "\n",
    "sns.lineplot(dihedrals_1_ml_dft[lr1][0:500], color='black', label=\"MD\")\n",
    "sns.lineplot(dihedrals_16_ml_dft[lr1][0:500], color='red', label=\"PIMD\")\n",
    "plt.ylabel(\"Ring 1 dihedral angle, degrees\")\n",
    "plt.xlabel(\"MD step\")\n",
    "plt.legend()\n",
    "plt.show()\n"
   ]
  },
  {
   "cell_type": "code",
   "execution_count": null,
   "metadata": {},
   "outputs": [],
   "source": [
    "def compute_cross_corr(dihedrals, lr1, lr2 ):\n",
    "    print(\"Starting worker for \", lr1, lr2)\n",
    "    # print(\"Started for indices:\", indices)\n",
    "    array1_ = dihedrals[lr1[0], lr1[1],:]\n",
    "    array2_ = dihedrals[lr2[0], lr2[1],:]\n",
    "    array1_ = array1_ - np.mean(array1_)\n",
    "    array2_ = array2_ - np.mean(array2_)\n",
    "    cross_corr = np.correlate(array1_, array2_, mode=\"same\")\n",
    "    print(\"\\n\")\n",
    "    print(\"\\nFinished for: \", lr1, lr2)\n",
    "    return cross_corr\n",
    "\n",
    "\n",
    "\n",
    "lr1 = np.s_[0, 0]\n",
    "lr2 = np.s_[1, 2]\n",
    "\n",
    "\n",
    "array1_1 = dihedrals_1_ml_dft[lr1][:]\n",
    "array2_1 = dihedrals_1_ml_dft[lr2][:]\n",
    "array1_1 = array1_1 - np.mean(array1_1)\n",
    "array2_1 = array2_1 - np.mean(array2_1)\n",
    "\n",
    "array1_16 = dihedrals_16_ml_dft[lr1][:]\n",
    "array2_16 = dihedrals_16_ml_dft[lr2][:]\n",
    "array1_16 = array1_16 - np.mean(array1_16)\n",
    "array2_16 = array2_16 - np.mean(array2_16)\n",
    "\n",
    "cross_corr_ml_1_dft = np.correlate(array1_1, array2_1, mode=\"same\")\n",
    "cross_corr_ml_16_dft = np.correlate(array1_16, array2_16, mode=\"same\")\n",
    "# cross_corr_ml_16 = compute_cross_corr(dihedrals_16_ml_dft, lr1, lr2 )\n",
    "\n",
    "sns.lineplot(cross_corr_ml_1_dft[5000:5100])\n",
    "sns.lineplot(cross_corr_ml_16_dft[5000:5100])\n",
    "plt.show()"
   ]
  },
  {
   "cell_type": "code",
   "execution_count": null,
   "metadata": {},
   "outputs": [],
   "source": []
  },
  {
   "cell_type": "code",
   "execution_count": null,
   "metadata": {},
   "outputs": [],
   "source": [
    "df['Ring 1']"
   ]
  },
  {
   "cell_type": "code",
   "execution_count": null,
   "metadata": {},
   "outputs": [],
   "source": [
    "sns.jointplot([dihedrals_1_ml_dft[0,0][:], dihedrals_1_ml_dft[1,0][:]])#, kind=\"kde\")"
   ]
  },
  {
   "cell_type": "code",
   "execution_count": null,
   "metadata": {},
   "outputs": [],
   "source": [
    "sns.lineplot(data=dihedrals_1_ml_dft[lr][0:100], color='black')\n",
    "sns.lineplot(data=dihedrals_16_ml_dft[lr][0:100], color='red')\n",
    "plt.ylabel(\"Dihedral angle, degrees\")\n",
    "plt.xlabel(\"MD step\")\n",
    "plt.show()"
   ]
  },
  {
   "cell_type": "code",
   "execution_count": null,
   "metadata": {},
   "outputs": [],
   "source": [
    "import os\n",
    "from ase.calculators.dftb import Dftb\n",
    "from ase.io import read\n",
    "os.environ['OMP_NUM_THREADS'] = \"6,1\"\n",
    "os.environ[\"ASE_DFTB_COMMAND\"] = \"ulimit -s unlimited; /usr/local/dftbplus-21.2/bin/dftb+ > PREFIX.out\"\n",
    "# os.environ[\"ASE_DFTB_COMMAND\"] = \"dftb+ > PREFIX.out\"\n",
    "os.environ[\"DFTB_PREFIX\"] = \"/home/qklmn/data/dftb/pbc-0-3\"\n",
    "\n",
    "atoms = read('/home/qklmn/data/starting_configuration/1.cif') # atoms specified here should be the same as in i-pi input file (otherwise atomic order differ, structure blows up!)\n",
    "\n",
    "atoms_copy = atoms.copy()\n",
    "\n",
    "atoms_copy.set_pbc(True)\n",
    "\n",
    "# calc = Dftb(atoms=atoms_copy,\n",
    "#         label='crystal',\n",
    "#         Hamiltonian_ = \"xTB\",\n",
    "#         Hamiltonian_Method = \"GFN1-xTB\",\n",
    "#         # Hamiltonian_MaxAngularMomentum_='',\n",
    "#         # Hamiltonian_MaxAngularMomentum_O='p',\n",
    "#         # Hamiltonian_MaxAngularMomentum_H='s',\n",
    "#         # Hamiltonian_MaxAngularMomentum_N='s',\n",
    "#         # Hamiltonian_MaxAngularMomentum_C='s',\n",
    "#         # Hamiltonian_MaxAngularMomentum_Si='s',\n",
    "#         kpts=(1,1,1),\n",
    "#         # Hamiltonian_SCC='Yes',\n",
    "#         # Verbosity=0,\n",
    "#         # Hamiltonian_OrbitalResolvedSCC = 'Yes',\n",
    "#         # Hamiltonian_SCCTolerance=1e-15,\n",
    "#         # kpts=None,\n",
    "#         # Driver_='ConjugateGradient',\n",
    "#         # Driver_MaxForceComponent=1e-3,\n",
    "#         # Driver_MaxSteps=200,\n",
    "#         # Driver_LatticeOpt = 'Yes',\n",
    "#         #     Driver_AppendGeometries = 'Yes',\n",
    "#         #     Driver_='',\n",
    "#         #     Driver_Socket_='',\n",
    "#         #     Driver_Socket_File='Hello'\n",
    "#         )\n",
    "\n",
    "calc = Dftb(atoms=atoms_copy,\n",
    "        label='crystal',\n",
    "        # Hamiltonian_ = \"xTB\",\n",
    "        # # Hamiltonian_Method = \"GFN1-xTB\",\n",
    "        Hamiltonian_MaxAngularMomentum_='',\n",
    "        Hamiltonian_MaxAngularMomentum_H='s',\n",
    "        Hamiltonian_MaxAngularMomentum_O='p',\n",
    "        Hamiltonian_MaxAngularMomentum_N='p',\n",
    "        Hamiltonian_MaxAngularMomentum_C='p',\n",
    "        Hamiltonian_MaxAngularMomentum_Si='d',\n",
    "        kpts=(2,1,1),\n",
    "        Hamiltonian_SCC='Yes',\n",
    "        # Verbosity=0,\n",
    "        # Hamiltonian_OrbitalResolvedSCC = 'Yes',\n",
    "        # Hamiltonian_SCCTolerance=1e-15,\n",
    "        # kpts=None,\n",
    "        # Driver_='ConjugateGradient',\n",
    "        # Driver_MaxForceComponent=1e-3,\n",
    "        # Driver_MaxSteps=200,\n",
    "        # Driver_LatticeOpt = 'Yes',\n",
    "        #     Driver_AppendGeometries = 'Yes',\n",
    "        #     Driver_='',\n",
    "        #     Driver_Socket_='',\n",
    "        #     Driver_Socket_File='Hello'\n",
    "        )\n",
    "\n",
    "atoms_copy.set_calculator(calc)\n",
    "\n",
    "# print( atoms_copy.get_potential_energy() )\n",
    "print( atoms_copy.get_forces() )\n"
   ]
  },
  {
   "cell_type": "code",
   "execution_count": null,
   "metadata": {},
   "outputs": [],
   "source": [
    "atoms_copy.get_pbc()"
   ]
  }
 ],
 "metadata": {
  "kernelspec": {
   "display_name": "Python 3 (ipykernel)",
   "language": "python",
   "name": "python3"
  },
  "language_info": {
   "codemirror_mode": {
    "name": "ipython",
    "version": 3
   },
   "file_extension": ".py",
   "mimetype": "text/x-python",
   "name": "python",
   "nbconvert_exporter": "python",
   "pygments_lexer": "ipython3",
   "version": "3.10.10"
  },
  "orig_nbformat": 4
 },
 "nbformat": 4,
 "nbformat_minor": 2
}
