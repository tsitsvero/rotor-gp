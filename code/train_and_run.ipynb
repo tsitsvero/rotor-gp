{
 "cells": [
  {
   "cell_type": "code",
   "execution_count": 214,
   "metadata": {},
   "outputs": [],
   "source": [
    "# ! jupyter nbconvert --to python --RegexRemovePreprocessor.patterns=\"^%\"  train_and_run.ipynb\n",
    "\n",
    "# RULES:\n",
    "# 1. Do not make plot.show() only plot.savefig()"
   ]
  },
  {
   "cell_type": "code",
   "execution_count": 2,
   "metadata": {},
   "outputs": [
    {
     "name": "stdout",
     "output_type": "stream",
     "text": [
      "DLBox-Alpha\n"
     ]
    }
   ],
   "source": [
    "%load_ext autoreload\n",
    "%autoreload 2\n",
    "import socket\n",
    "print(socket.gethostname())"
   ]
  },
  {
   "cell_type": "code",
   "execution_count": 27,
   "metadata": {},
   "outputs": [
    {
     "name": "stdout",
     "output_type": "stream",
     "text": [
      "Total number of found groups: 14\n",
      "Checking if all atoms are covered:  True\n"
     ]
    },
    {
     "data": {
      "text/plain": [
       "<Popen: returncode: None args: ['/home/dlbox2/anaconda3/envs/fande/bin/pytho...>"
      ]
     },
     "execution_count": 27,
     "metadata": {},
     "output_type": "execute_result"
    }
   ],
   "source": [
    "from fande.utils.find_atomic_groups import find_atomic_groups\n",
    "\n",
    "from ase import io\n",
    "\n",
    "data_folder = \"/data1/simulations/\"\n",
    "\n",
    "traj = traj_300 = io.read(data_folder + \"datasets/rotors/different_temperatures/300/OUTCAR\", format=\"vasp-out\", index = \":\")\n",
    "\n",
    "sample_snapshot = traj[0]\n",
    "\n",
    "atomic_groups = find_atomic_groups(sample_snapshot)\n",
    "\n",
    "from ase.visualize import view\n",
    "\n",
    "tr = []\n",
    "for ag in atomic_groups:\n",
    "        tr.append(sample_snapshot[ag])\n",
    "\n",
    "view(tr)"
   ]
  },
  {
   "cell_type": "markdown",
   "metadata": {},
   "source": [
    "## Make sweep"
   ]
  },
  {
   "cell_type": "code",
   "execution_count": 35,
   "metadata": {},
   "outputs": [
    {
     "data": {
      "text/plain": []
     },
     "execution_count": 35,
     "metadata": {},
     "output_type": "execute_result"
    }
   ],
   "source": [
    "# # https://docs.wandb.ai/guides/sweeps/walkthrough\n",
    "\n",
    "import os\n",
    "machine_name = os.uname()[1]\n",
    "import wandb\n",
    "wandb.init(project=\"rotor-gp\", save_code=True, notes=\"hello\", id=machine_name, mode='disabled')\n",
    "\n",
    "# sweep_configuration = {\n",
    "#     'method': 'random',\n",
    "#     'metric': \n",
    "#     {\n",
    "#         'goal': 'minimize', \n",
    "#         'name': 'score'\n",
    "#         },\n",
    "#     'parameters': \n",
    "#     {\n",
    "#         'x': {'max': 0.1, 'min': 0.01},\n",
    "#         'y': {'values': [1, 3, 7]},\n",
    "#      }\n",
    "# }"
   ]
  },
  {
   "cell_type": "markdown",
   "metadata": {},
   "source": [
    "## Data loading part"
   ]
  },
  {
   "cell_type": "code",
   "execution_count": 6,
   "metadata": {},
   "outputs": [],
   "source": [
    "from prepare_model import prepare_data, sample_data, prepare_model\n"
   ]
  },
  {
   "cell_type": "code",
   "execution_count": 28,
   "metadata": {},
   "outputs": [
    {
     "name": "stdout",
     "output_type": "stream",
     "text": [
      "Saving data to directory:  /home/dlbox2/repos/rotor-gp/results/train_and_run/2023-11-10_11 46-48_336708\n",
      "Loading training data...\n",
      "Length of the train trajectory:  10\n",
      "Total number of found groups: 14\n",
      "Checking if all atoms are covered:  True\n",
      "Total number of frames is 10\n",
      "Total number of batches is 10\n",
      "Total length of traj is 10\n",
      "Total number of batches 10\n",
      "Calculating invariants on trajectory with librascal...\n"
     ]
    },
    {
     "name": "stderr",
     "output_type": "stream",
     "text": [
      "100%|██████████| 10/10 [00:05<00:00,  1.91it/s]\n"
     ]
    },
    {
     "name": "stdout",
     "output_type": "stream",
     "text": [
      "Total number of frames is 20\n",
      "Total number of batches is 20\n",
      "Total length of traj is 20\n",
      "Total number of batches 20\n",
      "Calculating invariants on trajectory with librascal...\n"
     ]
    },
    {
     "name": "stderr",
     "output_type": "stream",
     "text": [
      "100%|██████████| 20/20 [00:10<00:00,  1.95it/s]\n"
     ]
    },
    {
     "name": "stdout",
     "output_type": "stream",
     "text": [
      "\n",
      "-----------\n",
      "Group  0\n",
      "-----------\n",
      "Number of training points for group 0:  120\n",
      "Number of test points for group 0:  240\n",
      "\n",
      "-----------\n",
      "Group  1\n",
      "-----------\n",
      "Number of training points for group 1:  720\n",
      "Number of test points for group 1:  1440\n",
      "\n",
      "-----------\n",
      "Group  2\n",
      "-----------\n",
      "Number of training points for group 2:  360\n",
      "Number of test points for group 2:  720\n",
      "\n",
      "-----------\n",
      "Group  3\n",
      "-----------\n",
      "Number of training points for group 3:  180\n",
      "Number of test points for group 3:  360\n",
      "\n",
      "-----------\n",
      "Group  4\n",
      "-----------\n",
      "Number of training points for group 4:  900\n",
      "Number of test points for group 4:  1800\n",
      "\n",
      "-----------\n",
      "Group  5\n",
      "-----------\n",
      "Number of training points for group 5:  420\n",
      "Number of test points for group 5:  840\n",
      "\n",
      "-----------\n",
      "Group  6\n",
      "-----------\n",
      "Number of training points for group 6:  180\n",
      "Number of test points for group 6:  360\n",
      "\n",
      "-----------\n",
      "Group  7\n",
      "-----------\n",
      "Number of training points for group 7:  180\n",
      "Number of test points for group 7:  360\n",
      "\n",
      "-----------\n",
      "Group  8\n",
      "-----------\n",
      "Number of training points for group 8:  180\n",
      "Number of test points for group 8:  360\n",
      "\n",
      "-----------\n",
      "Group  9\n",
      "-----------\n",
      "Number of training points for group 9:  120\n",
      "Number of test points for group 9:  240\n",
      "\n",
      "-----------\n",
      "Group  10\n",
      "-----------\n",
      "Number of training points for group 10:  960\n",
      "Number of test points for group 10:  1920\n",
      "\n",
      "-----------\n",
      "Group  11\n",
      "-----------\n",
      "Number of training points for group 11:  120\n",
      "Number of test points for group 11:  240\n",
      "\n",
      "-----------\n",
      "Group  12\n",
      "-----------\n",
      "Number of training points for group 12:  180\n",
      "Number of test points for group 12:  360\n",
      "\n",
      "-----------\n",
      "Group  13\n",
      "-----------\n",
      "Number of training points for group 13:  3300\n",
      "Number of test points for group 13:  6600\n"
     ]
    }
   ],
   "source": [
    "# Hyperparameters:\n",
    "hparams = {\n",
    "        'dtype' : 'float32',\n",
    "        'device' : 'gpu'\n",
    "        }\n",
    "\n",
    "# Descriptors parameters:\n",
    "# https://github.com/lab-cosmo/librascal/blob/master/examples/MLIP_example.ipynb\n",
    "soap_params = {\n",
    "# 'species': [\"H\", \"C\", \"O\", \"N\", \"Si\"],\n",
    "# 'periodic': True,\n",
    "'interaction_cutoff': 3.5,\n",
    "'gaussian_sigma_constant': 0.3,\n",
    "'max_radial': 4,\n",
    "'max_angular': 4,\n",
    "'cutoff_smooth_width': 0.1,\n",
    "# 'average': \"off\",\n",
    "# 'crossover': True,\n",
    "# 'dtype': \"float64\",\n",
    "# 'n_jobs': 10,\n",
    "# 'sparse': False,\n",
    "# 'positions': [7, 11, 15] # ignored\n",
    "}\n",
    "\n",
    "\n",
    "fdm = prepare_data(hparams, soap_params, traj_sample_rate=1)\n"
   ]
  },
  {
   "cell_type": "code",
   "execution_count": 26,
   "metadata": {},
   "outputs": [
    {
     "name": "stdout",
     "output_type": "stream",
     "text": [
      "Taking ALL 120 samples for group 0\n",
      "Dataloader for group 0 created\n",
      "Number of samples in dataloader: 120\n",
      "Taking ALL 720 samples for group 1\n",
      "Dataloader for group 1 created\n",
      "Number of samples in dataloader: 720\n",
      "Taking ALL 360 samples for group 2\n",
      "Dataloader for group 2 created\n",
      "Number of samples in dataloader: 360\n",
      "Taking ALL 180 samples for group 3\n",
      "Dataloader for group 3 created\n",
      "Number of samples in dataloader: 180\n",
      "Taking ALL 900 samples for group 4\n",
      "Dataloader for group 4 created\n",
      "Number of samples in dataloader: 900\n",
      "Taking ALL 420 samples for group 5\n",
      "Dataloader for group 5 created\n",
      "Number of samples in dataloader: 420\n",
      "Taking ALL 180 samples for group 6\n",
      "Dataloader for group 6 created\n",
      "Number of samples in dataloader: 180\n",
      "Taking ALL 180 samples for group 7\n",
      "Dataloader for group 7 created\n",
      "Number of samples in dataloader: 180\n",
      "Taking ALL 180 samples for group 8\n",
      "Dataloader for group 8 created\n",
      "Number of samples in dataloader: 180\n",
      "Taking ALL 120 samples for group 9\n",
      "Dataloader for group 9 created\n",
      "Number of samples in dataloader: 120\n",
      "Taking ALL 960 samples for group 10\n",
      "Dataloader for group 10 created\n",
      "Number of samples in dataloader: 960\n",
      "Taking ALL 120 samples for group 11\n",
      "Dataloader for group 11 created\n",
      "Number of samples in dataloader: 120\n",
      "Taking ALL 180 samples for group 12\n",
      "Dataloader for group 12 created\n",
      "Number of samples in dataloader: 180\n",
      "Taking ALL 3300 samples for group 13\n",
      "Dataloader for group 13 created\n",
      "Number of samples in dataloader: 3300\n"
     ]
    }
   ],
   "source": [
    "#[1, 1, 1, 1, 1, 1, 1, 1, 1, 1, 1, 1, 1, 1] \n",
    "\n",
    "train_data_loaders = sample_data(fdm, N_samples=6000)"
   ]
  },
  {
   "cell_type": "markdown",
   "metadata": {},
   "source": [
    "## Training part"
   ]
  },
  {
   "cell_type": "code",
   "execution_count": 30,
   "metadata": {},
   "outputs": [
    {
     "data": {
      "text/plain": [
       "'/home/dlbox2/repos/rotor-gp/results/train_and_run/2023-11-10_11 46-48_336708'"
      ]
     },
     "execution_count": 30,
     "metadata": {},
     "output_type": "execute_result"
    }
   ],
   "source": [
    "import os\n",
    "os.getcwd()"
   ]
  },
  {
   "cell_type": "code",
   "execution_count": 36,
   "metadata": {},
   "outputs": [
    {
     "name": "stderr",
     "output_type": "stream",
     "text": [
      "GPU available: True (cuda), used: True\n",
      "TPU available: False, using: 0 TPU cores\n",
      "IPU available: False, using: 0 IPUs\n",
      "HPU available: False, using: 0 HPUs\n",
      "GPU available: True (cuda), used: True\n",
      "TPU available: False, using: 0 TPU cores\n",
      "IPU available: False, using: 0 IPUs\n",
      "HPU available: False, using: 0 HPUs\n",
      "GPU available: True (cuda), used: True\n",
      "TPU available: False, using: 0 TPU cores\n",
      "IPU available: False, using: 0 IPUs\n",
      "HPU available: False, using: 0 HPUs\n",
      "GPU available: True (cuda), used: True\n",
      "TPU available: False, using: 0 TPU cores\n",
      "IPU available: False, using: 0 IPUs\n",
      "HPU available: False, using: 0 HPUs\n",
      "GPU available: True (cuda), used: True\n",
      "TPU available: False, using: 0 TPU cores\n",
      "IPU available: False, using: 0 IPUs\n",
      "HPU available: False, using: 0 HPUs\n",
      "GPU available: True (cuda), used: True\n",
      "TPU available: False, using: 0 TPU cores\n",
      "IPU available: False, using: 0 IPUs\n",
      "HPU available: False, using: 0 HPUs\n"
     ]
    },
    {
     "name": "stdout",
     "output_type": "stream",
     "text": [
      "\n",
      "ModelForces initialized\n",
      "\n",
      "ModelForces initialized\n",
      "\n",
      "ModelForces initialized\n",
      "\n",
      "ModelForces initialized\n",
      "\n",
      "ModelForces initialized\n",
      "\n",
      "ModelForces initialized\n",
      "\n",
      "ModelForces initialized\n",
      "\n",
      "ModelForces initialized\n",
      "\n",
      "ModelForces initialized\n",
      "\n",
      "ModelForces initialized\n",
      "\n",
      "ModelForces initialized\n",
      "\n",
      "ModelForces initialized\n",
      "\n",
      "ModelForces initialized\n",
      "\n",
      "ModelForces initialized\n"
     ]
    },
    {
     "name": "stderr",
     "output_type": "stream",
     "text": [
      "GPU available: True (cuda), used: True\n",
      "TPU available: False, using: 0 TPU cores\n",
      "IPU available: False, using: 0 IPUs\n",
      "HPU available: False, using: 0 HPUs\n",
      "GPU available: True (cuda), used: True\n",
      "TPU available: False, using: 0 TPU cores\n",
      "IPU available: False, using: 0 IPUs\n",
      "HPU available: False, using: 0 HPUs\n",
      "GPU available: True (cuda), used: True\n",
      "TPU available: False, using: 0 TPU cores\n",
      "IPU available: False, using: 0 IPUs\n",
      "HPU available: False, using: 0 HPUs\n",
      "GPU available: True (cuda), used: True\n",
      "TPU available: False, using: 0 TPU cores\n",
      "IPU available: False, using: 0 IPUs\n",
      "HPU available: False, using: 0 HPUs\n",
      "GPU available: True (cuda), used: True\n",
      "TPU available: False, using: 0 TPU cores\n",
      "IPU available: False, using: 0 IPUs\n",
      "HPU available: False, using: 0 HPUs\n",
      "GPU available: True (cuda), used: True\n",
      "TPU available: False, using: 0 TPU cores\n",
      "IPU available: False, using: 0 IPUs\n",
      "HPU available: False, using: 0 HPUs\n",
      "GPU available: True (cuda), used: True\n",
      "TPU available: False, using: 0 TPU cores\n",
      "IPU available: False, using: 0 IPUs\n",
      "HPU available: False, using: 0 HPUs\n",
      "GPU available: True (cuda), used: True\n",
      "TPU available: False, using: 0 TPU cores\n",
      "IPU available: False, using: 0 IPUs\n",
      "HPU available: False, using: 0 HPUs\n",
      "LOCAL_RANK: 0 - CUDA_VISIBLE_DEVICES: [0,1]\n",
      "\n",
      "  | Name       | Type                       | Params\n",
      "----------------------------------------------------------\n",
      "0 | likelihood | GaussianLikelihood         | 1     \n",
      "1 | model      | ExactGPModelForces         | 1.2 K \n",
      "2 | mll        | ExactMarginalLogLikelihood | 1.2 K \n",
      "----------------------------------------------------------\n",
      "1.2 K     Trainable params\n",
      "0         Non-trainable params\n",
      "1.2 K     Total params\n",
      "0.005     Total estimated model params size (MB)\n"
     ]
    },
    {
     "name": "stdout",
     "output_type": "stream",
     "text": [
      "Training force model 0 (Total 14 models)\n"
     ]
    },
    {
     "data": {
      "application/vnd.jupyter.widget-view+json": {
       "model_id": "e1826bbbaed349bd99b171bd9155db01",
       "version_major": 2,
       "version_minor": 0
      },
      "text/plain": [
       "Training: 0it [00:00, ?it/s]"
      ]
     },
     "metadata": {},
     "output_type": "display_data"
    },
    {
     "name": "stderr",
     "output_type": "stream",
     "text": [
      "`Trainer.fit` stopped: `max_epochs=250` reached.\n",
      "LOCAL_RANK: 0 - CUDA_VISIBLE_DEVICES: [0,1]\n",
      "\n",
      "  | Name       | Type                       | Params\n",
      "----------------------------------------------------------\n",
      "0 | likelihood | GaussianLikelihood         | 1     \n",
      "1 | model      | ExactGPModelForces         | 1.2 K \n",
      "2 | mll        | ExactMarginalLogLikelihood | 1.2 K \n",
      "----------------------------------------------------------\n",
      "1.2 K     Trainable params\n",
      "0         Non-trainable params\n",
      "1.2 K     Total params\n",
      "0.005     Total estimated model params size (MB)\n"
     ]
    },
    {
     "name": "stdout",
     "output_type": "stream",
     "text": [
      "Training force model 1 (Total 14 models)\n"
     ]
    },
    {
     "data": {
      "application/vnd.jupyter.widget-view+json": {
       "model_id": "0f6155fa0e334a1f91d9aff97a587b17",
       "version_major": 2,
       "version_minor": 0
      },
      "text/plain": [
       "Training: 0it [00:00, ?it/s]"
      ]
     },
     "metadata": {},
     "output_type": "display_data"
    },
    {
     "name": "stderr",
     "output_type": "stream",
     "text": [
      "`Trainer.fit` stopped: `max_epochs=250` reached.\n",
      "LOCAL_RANK: 0 - CUDA_VISIBLE_DEVICES: [0,1]\n",
      "\n",
      "  | Name       | Type                       | Params\n",
      "----------------------------------------------------------\n",
      "0 | likelihood | GaussianLikelihood         | 1     \n",
      "1 | model      | ExactGPModelForces         | 1.2 K \n",
      "2 | mll        | ExactMarginalLogLikelihood | 1.2 K \n",
      "----------------------------------------------------------\n",
      "1.2 K     Trainable params\n",
      "0         Non-trainable params\n",
      "1.2 K     Total params\n",
      "0.005     Total estimated model params size (MB)\n"
     ]
    },
    {
     "name": "stdout",
     "output_type": "stream",
     "text": [
      "Training force model 2 (Total 14 models)\n"
     ]
    },
    {
     "data": {
      "application/vnd.jupyter.widget-view+json": {
       "model_id": "d8266fe4c57f4a74b5a0f2ff6e4ee176",
       "version_major": 2,
       "version_minor": 0
      },
      "text/plain": [
       "Training: 0it [00:00, ?it/s]"
      ]
     },
     "metadata": {},
     "output_type": "display_data"
    },
    {
     "name": "stderr",
     "output_type": "stream",
     "text": [
      "`Trainer.fit` stopped: `max_epochs=250` reached.\n",
      "LOCAL_RANK: 0 - CUDA_VISIBLE_DEVICES: [0,1]\n",
      "\n",
      "  | Name       | Type                       | Params\n",
      "----------------------------------------------------------\n",
      "0 | likelihood | GaussianLikelihood         | 1     \n",
      "1 | model      | ExactGPModelForces         | 1.2 K \n",
      "2 | mll        | ExactMarginalLogLikelihood | 1.2 K \n",
      "----------------------------------------------------------\n",
      "1.2 K     Trainable params\n",
      "0         Non-trainable params\n",
      "1.2 K     Total params\n",
      "0.005     Total estimated model params size (MB)\n"
     ]
    },
    {
     "name": "stdout",
     "output_type": "stream",
     "text": [
      "Training force model 3 (Total 14 models)\n"
     ]
    },
    {
     "data": {
      "application/vnd.jupyter.widget-view+json": {
       "model_id": "cd1d89a47d6544ee83575d3e732f69f9",
       "version_major": 2,
       "version_minor": 0
      },
      "text/plain": [
       "Training: 0it [00:00, ?it/s]"
      ]
     },
     "metadata": {},
     "output_type": "display_data"
    },
    {
     "name": "stderr",
     "output_type": "stream",
     "text": [
      "`Trainer.fit` stopped: `max_epochs=250` reached.\n",
      "LOCAL_RANK: 0 - CUDA_VISIBLE_DEVICES: [0,1]\n",
      "\n",
      "  | Name       | Type                       | Params\n",
      "----------------------------------------------------------\n",
      "0 | likelihood | GaussianLikelihood         | 1     \n",
      "1 | model      | ExactGPModelForces         | 1.2 K \n",
      "2 | mll        | ExactMarginalLogLikelihood | 1.2 K \n",
      "----------------------------------------------------------\n",
      "1.2 K     Trainable params\n",
      "0         Non-trainable params\n",
      "1.2 K     Total params\n",
      "0.005     Total estimated model params size (MB)\n"
     ]
    },
    {
     "name": "stdout",
     "output_type": "stream",
     "text": [
      "Training force model 4 (Total 14 models)\n"
     ]
    },
    {
     "data": {
      "application/vnd.jupyter.widget-view+json": {
       "model_id": "49f16b15d04b458eb2c346a1841d34fb",
       "version_major": 2,
       "version_minor": 0
      },
      "text/plain": [
       "Training: 0it [00:00, ?it/s]"
      ]
     },
     "metadata": {},
     "output_type": "display_data"
    },
    {
     "name": "stderr",
     "output_type": "stream",
     "text": [
      "`Trainer.fit` stopped: `max_epochs=250` reached.\n",
      "LOCAL_RANK: 0 - CUDA_VISIBLE_DEVICES: [0,1]\n",
      "\n",
      "  | Name       | Type                       | Params\n",
      "----------------------------------------------------------\n",
      "0 | likelihood | GaussianLikelihood         | 1     \n",
      "1 | model      | ExactGPModelForces         | 1.2 K \n",
      "2 | mll        | ExactMarginalLogLikelihood | 1.2 K \n",
      "----------------------------------------------------------\n",
      "1.2 K     Trainable params\n",
      "0         Non-trainable params\n",
      "1.2 K     Total params\n",
      "0.005     Total estimated model params size (MB)\n"
     ]
    },
    {
     "name": "stdout",
     "output_type": "stream",
     "text": [
      "Training force model 5 (Total 14 models)\n"
     ]
    },
    {
     "data": {
      "application/vnd.jupyter.widget-view+json": {
       "model_id": "63fbbea3beab40e7ae6a9d8cd7edf86f",
       "version_major": 2,
       "version_minor": 0
      },
      "text/plain": [
       "Training: 0it [00:00, ?it/s]"
      ]
     },
     "metadata": {},
     "output_type": "display_data"
    },
    {
     "name": "stderr",
     "output_type": "stream",
     "text": [
      "`Trainer.fit` stopped: `max_epochs=250` reached.\n",
      "LOCAL_RANK: 0 - CUDA_VISIBLE_DEVICES: [0,1]\n",
      "\n",
      "  | Name       | Type                       | Params\n",
      "----------------------------------------------------------\n",
      "0 | likelihood | GaussianLikelihood         | 1     \n",
      "1 | model      | ExactGPModelForces         | 1.2 K \n",
      "2 | mll        | ExactMarginalLogLikelihood | 1.2 K \n",
      "----------------------------------------------------------\n",
      "1.2 K     Trainable params\n",
      "0         Non-trainable params\n",
      "1.2 K     Total params\n",
      "0.005     Total estimated model params size (MB)\n"
     ]
    },
    {
     "name": "stdout",
     "output_type": "stream",
     "text": [
      "Training force model 6 (Total 14 models)\n"
     ]
    },
    {
     "data": {
      "application/vnd.jupyter.widget-view+json": {
       "model_id": "3d963cb5009a4f2186c7dc0b4b2244cf",
       "version_major": 2,
       "version_minor": 0
      },
      "text/plain": [
       "Training: 0it [00:00, ?it/s]"
      ]
     },
     "metadata": {},
     "output_type": "display_data"
    },
    {
     "name": "stderr",
     "output_type": "stream",
     "text": [
      "`Trainer.fit` stopped: `max_epochs=250` reached.\n",
      "LOCAL_RANK: 0 - CUDA_VISIBLE_DEVICES: [0,1]\n",
      "\n",
      "  | Name       | Type                       | Params\n",
      "----------------------------------------------------------\n",
      "0 | likelihood | GaussianLikelihood         | 1     \n",
      "1 | model      | ExactGPModelForces         | 1.2 K \n",
      "2 | mll        | ExactMarginalLogLikelihood | 1.2 K \n",
      "----------------------------------------------------------\n",
      "1.2 K     Trainable params\n",
      "0         Non-trainable params\n",
      "1.2 K     Total params\n",
      "0.005     Total estimated model params size (MB)\n"
     ]
    },
    {
     "name": "stdout",
     "output_type": "stream",
     "text": [
      "Training force model 7 (Total 14 models)\n"
     ]
    },
    {
     "data": {
      "application/vnd.jupyter.widget-view+json": {
       "model_id": "fd0f1ec1d41a4a949979a252ae32db1f",
       "version_major": 2,
       "version_minor": 0
      },
      "text/plain": [
       "Training: 0it [00:00, ?it/s]"
      ]
     },
     "metadata": {},
     "output_type": "display_data"
    },
    {
     "name": "stderr",
     "output_type": "stream",
     "text": [
      "`Trainer.fit` stopped: `max_epochs=250` reached.\n",
      "LOCAL_RANK: 0 - CUDA_VISIBLE_DEVICES: [0,1]\n",
      "\n",
      "  | Name       | Type                       | Params\n",
      "----------------------------------------------------------\n",
      "0 | likelihood | GaussianLikelihood         | 1     \n",
      "1 | model      | ExactGPModelForces         | 1.2 K \n",
      "2 | mll        | ExactMarginalLogLikelihood | 1.2 K \n",
      "----------------------------------------------------------\n",
      "1.2 K     Trainable params\n",
      "0         Non-trainable params\n",
      "1.2 K     Total params\n",
      "0.005     Total estimated model params size (MB)\n"
     ]
    },
    {
     "name": "stdout",
     "output_type": "stream",
     "text": [
      "Training force model 8 (Total 14 models)\n"
     ]
    },
    {
     "data": {
      "application/vnd.jupyter.widget-view+json": {
       "model_id": "d89a120f908c4a37a051f734f5510fda",
       "version_major": 2,
       "version_minor": 0
      },
      "text/plain": [
       "Training: 0it [00:00, ?it/s]"
      ]
     },
     "metadata": {},
     "output_type": "display_data"
    },
    {
     "name": "stderr",
     "output_type": "stream",
     "text": [
      "`Trainer.fit` stopped: `max_epochs=250` reached.\n",
      "LOCAL_RANK: 0 - CUDA_VISIBLE_DEVICES: [0,1]\n",
      "\n",
      "  | Name       | Type                       | Params\n",
      "----------------------------------------------------------\n",
      "0 | likelihood | GaussianLikelihood         | 1     \n",
      "1 | model      | ExactGPModelForces         | 1.2 K \n",
      "2 | mll        | ExactMarginalLogLikelihood | 1.2 K \n",
      "----------------------------------------------------------\n",
      "1.2 K     Trainable params\n",
      "0         Non-trainable params\n",
      "1.2 K     Total params\n",
      "0.005     Total estimated model params size (MB)\n"
     ]
    },
    {
     "name": "stdout",
     "output_type": "stream",
     "text": [
      "Training force model 9 (Total 14 models)\n"
     ]
    },
    {
     "data": {
      "application/vnd.jupyter.widget-view+json": {
       "model_id": "49701a1f1edd4d9dbc41cfdb9aaaf8eb",
       "version_major": 2,
       "version_minor": 0
      },
      "text/plain": [
       "Training: 0it [00:00, ?it/s]"
      ]
     },
     "metadata": {},
     "output_type": "display_data"
    },
    {
     "name": "stderr",
     "output_type": "stream",
     "text": [
      "`Trainer.fit` stopped: `max_epochs=250` reached.\n",
      "LOCAL_RANK: 0 - CUDA_VISIBLE_DEVICES: [0,1]\n",
      "\n",
      "  | Name       | Type                       | Params\n",
      "----------------------------------------------------------\n",
      "0 | likelihood | GaussianLikelihood         | 1     \n",
      "1 | model      | ExactGPModelForces         | 1.2 K \n",
      "2 | mll        | ExactMarginalLogLikelihood | 1.2 K \n",
      "----------------------------------------------------------\n",
      "1.2 K     Trainable params\n",
      "0         Non-trainable params\n",
      "1.2 K     Total params\n",
      "0.005     Total estimated model params size (MB)\n"
     ]
    },
    {
     "name": "stdout",
     "output_type": "stream",
     "text": [
      "Training force model 10 (Total 14 models)\n"
     ]
    },
    {
     "data": {
      "application/vnd.jupyter.widget-view+json": {
       "model_id": "cd1476cad1334ae480799fa1a92cae34",
       "version_major": 2,
       "version_minor": 0
      },
      "text/plain": [
       "Training: 0it [00:00, ?it/s]"
      ]
     },
     "metadata": {},
     "output_type": "display_data"
    },
    {
     "name": "stderr",
     "output_type": "stream",
     "text": [
      "`Trainer.fit` stopped: `max_epochs=250` reached.\n",
      "LOCAL_RANK: 0 - CUDA_VISIBLE_DEVICES: [0,1]\n",
      "\n",
      "  | Name       | Type                       | Params\n",
      "----------------------------------------------------------\n",
      "0 | likelihood | GaussianLikelihood         | 1     \n",
      "1 | model      | ExactGPModelForces         | 1.2 K \n",
      "2 | mll        | ExactMarginalLogLikelihood | 1.2 K \n",
      "----------------------------------------------------------\n",
      "1.2 K     Trainable params\n",
      "0         Non-trainable params\n",
      "1.2 K     Total params\n",
      "0.005     Total estimated model params size (MB)\n"
     ]
    },
    {
     "name": "stdout",
     "output_type": "stream",
     "text": [
      "Training force model 11 (Total 14 models)\n"
     ]
    },
    {
     "data": {
      "application/vnd.jupyter.widget-view+json": {
       "model_id": "c8c45392aab44a67a13b401a6afebe30",
       "version_major": 2,
       "version_minor": 0
      },
      "text/plain": [
       "Training: 0it [00:00, ?it/s]"
      ]
     },
     "metadata": {},
     "output_type": "display_data"
    },
    {
     "name": "stderr",
     "output_type": "stream",
     "text": [
      "`Trainer.fit` stopped: `max_epochs=250` reached.\n",
      "LOCAL_RANK: 0 - CUDA_VISIBLE_DEVICES: [0,1]\n",
      "\n",
      "  | Name       | Type                       | Params\n",
      "----------------------------------------------------------\n",
      "0 | likelihood | GaussianLikelihood         | 1     \n",
      "1 | model      | ExactGPModelForces         | 1.2 K \n",
      "2 | mll        | ExactMarginalLogLikelihood | 1.2 K \n",
      "----------------------------------------------------------\n",
      "1.2 K     Trainable params\n",
      "0         Non-trainable params\n",
      "1.2 K     Total params\n",
      "0.005     Total estimated model params size (MB)\n"
     ]
    },
    {
     "name": "stdout",
     "output_type": "stream",
     "text": [
      "Training force model 12 (Total 14 models)\n"
     ]
    },
    {
     "data": {
      "application/vnd.jupyter.widget-view+json": {
       "model_id": "3c82b188f86841a7baaa15dd1b262595",
       "version_major": 2,
       "version_minor": 0
      },
      "text/plain": [
       "Training: 0it [00:00, ?it/s]"
      ]
     },
     "metadata": {},
     "output_type": "display_data"
    },
    {
     "name": "stderr",
     "output_type": "stream",
     "text": [
      "`Trainer.fit` stopped: `max_epochs=250` reached.\n",
      "LOCAL_RANK: 0 - CUDA_VISIBLE_DEVICES: [0,1]\n",
      "\n",
      "  | Name       | Type                       | Params\n",
      "----------------------------------------------------------\n",
      "0 | likelihood | GaussianLikelihood         | 1     \n",
      "1 | model      | ExactGPModelForces         | 1.2 K \n",
      "2 | mll        | ExactMarginalLogLikelihood | 1.2 K \n",
      "----------------------------------------------------------\n",
      "1.2 K     Trainable params\n",
      "0         Non-trainable params\n",
      "1.2 K     Total params\n",
      "0.005     Total estimated model params size (MB)\n"
     ]
    },
    {
     "name": "stdout",
     "output_type": "stream",
     "text": [
      "Training force model 13 (Total 14 models)\n"
     ]
    },
    {
     "data": {
      "application/vnd.jupyter.widget-view+json": {
       "model_id": "70ae475cdb8b496b9aa61677215ede6c",
       "version_major": 2,
       "version_minor": 0
      },
      "text/plain": [
       "Training: 0it [00:00, ?it/s]"
      ]
     },
     "metadata": {},
     "output_type": "display_data"
    },
    {
     "name": "stderr",
     "output_type": "stream",
     "text": [
      "`Trainer.fit` stopped: `max_epochs=250` reached.\n"
     ]
    },
    {
     "name": "stdout",
     "output_type": "stream",
     "text": [
      "objects of fande.predict module imported...\n",
      "Error metrics for atomic group  0\n",
      "RMSE:  0.79309404\n",
      "MAE:  0.63628894\n",
      "Max error:  1.6217387\n",
      "Error metrics for atomic group  1\n",
      "RMSE:  0.1670089\n",
      "MAE:  0.12725107\n",
      "Max error:  0.6506858\n",
      "Error metrics for atomic group  2\n",
      "RMSE:  0.30333412\n",
      "MAE:  0.24041076\n",
      "Max error:  1.11738\n",
      "Error metrics for atomic group  3\n",
      "RMSE:  0.3705283\n",
      "MAE:  0.26316267\n",
      "Max error:  1.2913754\n",
      "Error metrics for atomic group  4\n",
      "RMSE:  0.52485675\n",
      "MAE:  0.38730466\n",
      "Max error:  2.0218742\n",
      "Error metrics for atomic group  5\n",
      "RMSE:  0.5181346\n",
      "MAE:  0.39270958\n",
      "Max error:  1.5695975\n",
      "Error metrics for atomic group  6\n",
      "RMSE:  0.850116\n",
      "MAE:  0.6681914\n",
      "Max error:  2.2136555\n",
      "Error metrics for atomic group  7\n",
      "RMSE:  0.6203805\n",
      "MAE:  0.49547115\n",
      "Max error:  1.5787879\n",
      "Error metrics for atomic group  8\n",
      "RMSE:  0.5492843\n",
      "MAE:  0.45603433\n",
      "Max error:  1.1012394\n",
      "Error metrics for atomic group  9\n",
      "RMSE:  0.40442204\n",
      "MAE:  0.34821278\n",
      "Max error:  0.8446031\n",
      "Error metrics for atomic group  10\n",
      "RMSE:  0.39935058\n",
      "MAE:  0.31473038\n",
      "Max error:  1.3891901\n",
      "Error metrics for atomic group  11\n",
      "RMSE:  0.8778609\n",
      "MAE:  0.7496173\n",
      "Max error:  1.8080151\n",
      "Error metrics for atomic group  12\n",
      "RMSE:  0.5266907\n",
      "MAE:  0.44070566\n",
      "Max error:  1.2001705\n",
      "Error metrics for atomic group  13\n",
      "RMSE:  0.15110892\n",
      "MAE:  0.11627132\n",
      "Max error:  0.77953243\n",
      "Analyzing where predictions are the worst...\n"
     ]
    }
   ],
   "source": [
    "hparams['dtype'] = 'float32'\n",
    "hparams['device'] = 'gpu'\n",
    "\n",
    "# per AG steps and learning rate\n",
    "# n_steps = [1, 1, 1, 1, 1, 1, 1, 1, 1, 1, 1, 1, 1, 250] \n",
    "n_steps = 250\n",
    "learning_rate = [0.01, 0.01, 0.01, 0.01, 0.01, 0.01, 0.01, 0.01, 0.01, 0.01, 0.01, 0.01, 0.01, 0.01]\n",
    "\n",
    "AG_force_model = prepare_model(\n",
    "    fdm,\n",
    "    train_data_loaders, \n",
    "    hparams, soap_params, \n",
    "    n_steps, \n",
    "    learning_rate, \n",
    "    gpu_id=0)\n",
    "\n",
    "\n",
    "### TESTING PREDICITONS ###\n",
    "\n",
    "# os.makedirs(\"\")\n",
    "\n",
    "from fande.predict import PredictorASE\n",
    "\n",
    "\n",
    "AG_force_model.eval()\n",
    "\n",
    "predictor = PredictorASE(\n",
    "            fdm,\n",
    "            AG_force_model,\n",
    "            hparams,\n",
    "            soap_params\n",
    ")\n",
    "\n",
    "rmse_per_model, mae_per_model = predictor.test_errors(view_worst_atoms=True)"
   ]
  },
  {
   "cell_type": "code",
   "execution_count": 37,
   "metadata": {},
   "outputs": [
    {
     "name": "stdout",
     "output_type": "stream",
     "text": [
      "0.79309404 0.1670089 0.30333412 0.3705283 0.52485675 0.5181346 0.850116 0.6203805 0.5492843 0.40442204 0.39935058 0.8778609 0.5266907 0.15110892\n"
     ]
    }
   ],
   "source": [
    "print(*rmse_per_model)"
   ]
  },
  {
   "cell_type": "code",
   "execution_count": 38,
   "metadata": {},
   "outputs": [
    {
     "name": "stdout",
     "output_type": "stream",
     "text": [
      "0.79309404 0.1670089 0.30333412 0.3705283 0.52485675 0.5181346 0.850116 0.6203805 0.5492843 0.40442204 0.39935058 0.8778609 0.5266907 0.15110892\n"
     ]
    }
   ],
   "source": [
    "print(*rmse_per_model)"
   ]
  },
  {
   "cell_type": "markdown",
   "metadata": {},
   "source": [
    "## Testing part"
   ]
  },
  {
   "cell_type": "code",
   "execution_count": 39,
   "metadata": {},
   "outputs": [
    {
     "name": "stdout",
     "output_type": "stream",
     "text": [
      "Error metrics for atomic group  0\n",
      "RMSE:  0.79309404\n",
      "MAE:  0.63628894\n",
      "Max error:  1.6217387\n",
      "Error metrics for atomic group  1\n",
      "RMSE:  0.1670089\n",
      "MAE:  0.12725107\n",
      "Max error:  0.6506858\n",
      "Error metrics for atomic group  2\n",
      "RMSE:  0.30333412\n",
      "MAE:  0.24041076\n",
      "Max error:  1.11738\n",
      "Error metrics for atomic group  3\n",
      "RMSE:  0.3705283\n",
      "MAE:  0.26316267\n",
      "Max error:  1.2913754\n",
      "Error metrics for atomic group  4\n",
      "RMSE:  0.52485675\n",
      "MAE:  0.38730466\n",
      "Max error:  2.0218742\n",
      "Error metrics for atomic group  5\n",
      "RMSE:  0.5181346\n",
      "MAE:  0.39270958\n",
      "Max error:  1.5695975\n",
      "Error metrics for atomic group  6\n",
      "RMSE:  0.850116\n",
      "MAE:  0.6681914\n",
      "Max error:  2.2136555\n",
      "Error metrics for atomic group  7\n",
      "RMSE:  0.6203805\n",
      "MAE:  0.49547115\n",
      "Max error:  1.5787879\n",
      "Error metrics for atomic group  8\n",
      "RMSE:  0.5492843\n",
      "MAE:  0.45603433\n",
      "Max error:  1.1012394\n",
      "Error metrics for atomic group  9\n",
      "RMSE:  0.40442204\n",
      "MAE:  0.34821278\n",
      "Max error:  0.8446031\n",
      "Error metrics for atomic group  10\n",
      "RMSE:  0.39935058\n",
      "MAE:  0.31473038\n",
      "Max error:  1.3891901\n",
      "Error metrics for atomic group  11\n",
      "RMSE:  0.8778609\n",
      "MAE:  0.7496173\n",
      "Max error:  1.8080151\n",
      "Error metrics for atomic group  12\n",
      "RMSE:  0.5266907\n",
      "MAE:  0.44070566\n",
      "Max error:  1.2001705\n",
      "Error metrics for atomic group  13\n",
      "RMSE:  0.15110892\n",
      "MAE:  0.11627132\n",
      "Max error:  0.77953243\n",
      "Analyzing where predictions are the worst...\n"
     ]
    }
   ],
   "source": [
    "### TESTING PREDICITONS ###\n",
    "\n",
    "# os.makedirs(\"\")\n",
    "\n",
    "from fande.predict import PredictorASE\n",
    "\n",
    "\n",
    "AG_force_model.eval()\n",
    "\n",
    "predictor = PredictorASE(\n",
    "            fdm,\n",
    "            AG_force_model,\n",
    "            hparams,\n",
    "            soap_params\n",
    ")\n",
    "\n",
    "rmse_per_model, mae_per_model = predictor.test_errors(view_worst_atoms=True)\n",
    "\n",
    "# rmse_per_model"
   ]
  },
  {
   "cell_type": "code",
   "execution_count": 42,
   "metadata": {},
   "outputs": [
    {
     "name": "stdout",
     "output_type": "stream",
     "text": [
      "Saving data to directory:  /home/dlbox2/repos/rotor-gp/results/train_and_run/2023-11-10_12 04-16_710936\n",
      "Loading training data...\n",
      "Length of the train trajectory:  10\n",
      "Total number of found groups: 14\n",
      "Checking if all atoms are covered:  True\n",
      "Total number of frames is 10\n",
      "Total number of batches is 10\n",
      "Total length of traj is 10\n",
      "Total number of batches 10\n",
      "Calculating invariants on trajectory with librascal...\n"
     ]
    },
    {
     "name": "stderr",
     "output_type": "stream",
     "text": [
      "100%|██████████| 10/10 [00:03<00:00,  2.93it/s]\n"
     ]
    },
    {
     "name": "stdout",
     "output_type": "stream",
     "text": [
      "Total number of frames is 20\n",
      "Total number of batches is 20\n",
      "Total length of traj is 20\n",
      "Total number of batches 20\n",
      "Calculating invariants on trajectory with librascal...\n"
     ]
    },
    {
     "name": "stderr",
     "output_type": "stream",
     "text": [
      "100%|██████████| 20/20 [00:06<00:00,  2.97it/s]\n"
     ]
    },
    {
     "name": "stdout",
     "output_type": "stream",
     "text": [
      "\n",
      "-----------\n",
      "Group  0\n",
      "-----------\n",
      "Number of training points for group 0:  120\n",
      "Number of test points for group 0:  240\n",
      "\n",
      "-----------\n",
      "Group  1\n",
      "-----------\n",
      "Number of training points for group 1:  720\n",
      "Number of test points for group 1:  1440\n",
      "\n",
      "-----------\n",
      "Group  2\n",
      "-----------\n",
      "Number of training points for group 2:  360\n",
      "Number of test points for group 2:  720\n",
      "\n",
      "-----------\n",
      "Group  3\n",
      "-----------\n",
      "Number of training points for group 3:  180\n",
      "Number of test points for group 3:  360\n",
      "\n",
      "-----------\n",
      "Group  4\n",
      "-----------\n",
      "Number of training points for group 4:  900\n",
      "Number of test points for group 4:  1800\n",
      "\n",
      "-----------\n",
      "Group  5\n",
      "-----------\n",
      "Number of training points for group 5:  420\n",
      "Number of test points for group 5:  840\n",
      "\n",
      "-----------\n",
      "Group  6\n",
      "-----------\n",
      "Number of training points for group 6:  180\n",
      "Number of test points for group 6:  360\n",
      "\n",
      "-----------\n",
      "Group  7\n",
      "-----------\n",
      "Number of training points for group 7:  180\n",
      "Number of test points for group 7:  360\n",
      "\n",
      "-----------\n",
      "Group  8\n",
      "-----------\n",
      "Number of training points for group 8:  180\n",
      "Number of test points for group 8:  360\n",
      "\n",
      "-----------\n",
      "Group  9\n",
      "-----------\n",
      "Number of training points for group 9:  120\n",
      "Number of test points for group 9:  240\n",
      "\n",
      "-----------\n",
      "Group  10\n",
      "-----------\n",
      "Number of training points for group 10:  960\n",
      "Number of test points for group 10:  1920\n",
      "\n",
      "-----------\n",
      "Group  11\n",
      "-----------\n",
      "Number of training points for group 11:  120\n",
      "Number of test points for group 11:  240\n",
      "\n",
      "-----------\n",
      "Group  12\n",
      "-----------\n",
      "Number of training points for group 12:  180\n",
      "Number of test points for group 12:  360\n",
      "\n",
      "-----------\n",
      "Group  13\n",
      "-----------\n"
     ]
    },
    {
     "name": "stderr",
     "output_type": "stream",
     "text": [
      "GPU available: True (cuda), used: True\n",
      "TPU available: False, using: 0 TPU cores\n",
      "IPU available: False, using: 0 IPUs\n",
      "HPU available: False, using: 0 HPUs\n",
      "GPU available: True (cuda), used: True\n",
      "TPU available: False, using: 0 TPU cores\n",
      "IPU available: False, using: 0 IPUs\n",
      "HPU available: False, using: 0 HPUs\n",
      "GPU available: True (cuda), used: True\n",
      "TPU available: False, using: 0 TPU cores\n",
      "IPU available: False, using: 0 IPUs\n",
      "HPU available: False, using: 0 HPUs\n",
      "GPU available: True (cuda), used: True\n",
      "TPU available: False, using: 0 TPU cores\n",
      "IPU available: False, using: 0 IPUs\n",
      "HPU available: False, using: 0 HPUs\n",
      "GPU available: True (cuda), used: True\n",
      "TPU available: False, using: 0 TPU cores\n",
      "IPU available: False, using: 0 IPUs\n",
      "HPU available: False, using: 0 HPUs\n",
      "GPU available: True (cuda), used: True\n",
      "TPU available: False, using: 0 TPU cores\n",
      "IPU available: False, using: 0 IPUs\n",
      "HPU available: False, using: 0 HPUs\n",
      "GPU available: True (cuda), used: True\n",
      "TPU available: False, using: 0 TPU cores\n",
      "IPU available: False, using: 0 IPUs\n",
      "HPU available: False, using: 0 HPUs\n"
     ]
    },
    {
     "name": "stdout",
     "output_type": "stream",
     "text": [
      "Number of training points for group 13:  3300\n",
      "Number of test points for group 13:  6600\n",
      "Taking ALL 120 samples for group 0\n",
      "Dataloader for group 0 created\n",
      "Number of samples in dataloader: 120\n",
      "Taking ALL 720 samples for group 1\n",
      "Dataloader for group 1 created\n",
      "Number of samples in dataloader: 720\n",
      "Taking ALL 360 samples for group 2\n",
      "Dataloader for group 2 created\n",
      "Number of samples in dataloader: 360\n",
      "Taking ALL 180 samples for group 3\n",
      "Dataloader for group 3 created\n",
      "Number of samples in dataloader: 180\n",
      "Taking ALL 900 samples for group 4\n",
      "Dataloader for group 4 created\n",
      "Number of samples in dataloader: 900\n",
      "Taking ALL 420 samples for group 5\n",
      "Dataloader for group 5 created\n",
      "Number of samples in dataloader: 420\n",
      "Taking ALL 180 samples for group 6\n",
      "Dataloader for group 6 created\n",
      "Number of samples in dataloader: 180\n",
      "Taking ALL 180 samples for group 7\n",
      "Dataloader for group 7 created\n",
      "Number of samples in dataloader: 180\n",
      "Taking ALL 180 samples for group 8\n",
      "Dataloader for group 8 created\n",
      "Number of samples in dataloader: 180\n",
      "Taking ALL 120 samples for group 9\n",
      "Dataloader for group 9 created\n",
      "Number of samples in dataloader: 120\n",
      "Taking ALL 960 samples for group 10\n",
      "Dataloader for group 10 created\n",
      "Number of samples in dataloader: 960\n",
      "Taking ALL 120 samples for group 11\n",
      "Dataloader for group 11 created\n",
      "Number of samples in dataloader: 120\n",
      "Taking ALL 180 samples for group 12\n",
      "Dataloader for group 12 created\n",
      "Number of samples in dataloader: 180\n",
      "Taking ALL 3300 samples for group 13\n",
      "Dataloader for group 13 created\n",
      "Number of samples in dataloader: 3300\n",
      "\n",
      "ModelForces initialized\n",
      "\n",
      "ModelForces initialized\n",
      "\n",
      "ModelForces initialized\n",
      "\n",
      "ModelForces initialized\n",
      "\n",
      "ModelForces initialized\n",
      "\n",
      "ModelForces initialized\n",
      "\n",
      "ModelForces initialized\n",
      "\n",
      "ModelForces initialized\n",
      "\n",
      "ModelForces initialized\n",
      "\n",
      "ModelForces initialized\n",
      "\n",
      "ModelForces initialized\n",
      "\n",
      "ModelForces initialized\n",
      "\n",
      "ModelForces initialized\n",
      "\n",
      "ModelForces initialized\n"
     ]
    },
    {
     "name": "stderr",
     "output_type": "stream",
     "text": [
      "GPU available: True (cuda), used: True\n",
      "TPU available: False, using: 0 TPU cores\n",
      "IPU available: False, using: 0 IPUs\n",
      "HPU available: False, using: 0 HPUs\n",
      "GPU available: True (cuda), used: True\n",
      "TPU available: False, using: 0 TPU cores\n",
      "IPU available: False, using: 0 IPUs\n",
      "HPU available: False, using: 0 HPUs\n",
      "GPU available: True (cuda), used: True\n",
      "TPU available: False, using: 0 TPU cores\n",
      "IPU available: False, using: 0 IPUs\n",
      "HPU available: False, using: 0 HPUs\n",
      "GPU available: True (cuda), used: True\n",
      "TPU available: False, using: 0 TPU cores\n",
      "IPU available: False, using: 0 IPUs\n",
      "HPU available: False, using: 0 HPUs\n",
      "GPU available: True (cuda), used: True\n",
      "TPU available: False, using: 0 TPU cores\n",
      "IPU available: False, using: 0 IPUs\n",
      "HPU available: False, using: 0 HPUs\n",
      "GPU available: True (cuda), used: True\n",
      "TPU available: False, using: 0 TPU cores\n",
      "IPU available: False, using: 0 IPUs\n",
      "HPU available: False, using: 0 HPUs\n",
      "GPU available: True (cuda), used: True\n",
      "TPU available: False, using: 0 TPU cores\n",
      "IPU available: False, using: 0 IPUs\n",
      "HPU available: False, using: 0 HPUs\n",
      "Missing logger folder: /home/dlbox2/repos/rotor-gp/results/train_and_run/2023-11-10_12 04-16_710936/lightning_logs\n",
      "LOCAL_RANK: 0 - CUDA_VISIBLE_DEVICES: [0,1]\n",
      "\n",
      "  | Name       | Type                       | Params\n",
      "----------------------------------------------------------\n",
      "0 | likelihood | GaussianLikelihood         | 1     \n",
      "1 | model      | ExactGPModelForces         | 1.2 K \n",
      "2 | mll        | ExactMarginalLogLikelihood | 1.2 K \n",
      "----------------------------------------------------------\n",
      "1.2 K     Trainable params\n",
      "0         Non-trainable params\n",
      "1.2 K     Total params\n",
      "0.005     Total estimated model params size (MB)\n"
     ]
    },
    {
     "name": "stdout",
     "output_type": "stream",
     "text": [
      "Training force model 0 (Total 14 models)\n"
     ]
    },
    {
     "data": {
      "application/vnd.jupyter.widget-view+json": {
       "model_id": "74a5a3d824aa4666822169ef07881f4f",
       "version_major": 2,
       "version_minor": 0
      },
      "text/plain": [
       "Training: 0it [00:00, ?it/s]"
      ]
     },
     "metadata": {},
     "output_type": "display_data"
    },
    {
     "name": "stderr",
     "output_type": "stream",
     "text": [
      "`Trainer.fit` stopped: `max_epochs=2` reached.\n",
      "LOCAL_RANK: 0 - CUDA_VISIBLE_DEVICES: [0,1]\n",
      "\n",
      "  | Name       | Type                       | Params\n",
      "----------------------------------------------------------\n",
      "0 | likelihood | GaussianLikelihood         | 1     \n",
      "1 | model      | ExactGPModelForces         | 1.2 K \n",
      "2 | mll        | ExactMarginalLogLikelihood | 1.2 K \n",
      "----------------------------------------------------------\n",
      "1.2 K     Trainable params\n",
      "0         Non-trainable params\n",
      "1.2 K     Total params\n",
      "0.005     Total estimated model params size (MB)\n"
     ]
    },
    {
     "name": "stdout",
     "output_type": "stream",
     "text": [
      "Training force model 1 (Total 14 models)\n"
     ]
    },
    {
     "data": {
      "application/vnd.jupyter.widget-view+json": {
       "model_id": "126f71f2105b42a7ad4845e98ccf4e97",
       "version_major": 2,
       "version_minor": 0
      },
      "text/plain": [
       "Training: 0it [00:00, ?it/s]"
      ]
     },
     "metadata": {},
     "output_type": "display_data"
    },
    {
     "name": "stderr",
     "output_type": "stream",
     "text": [
      "`Trainer.fit` stopped: `max_epochs=2` reached.\n",
      "LOCAL_RANK: 0 - CUDA_VISIBLE_DEVICES: [0,1]\n",
      "\n",
      "  | Name       | Type                       | Params\n",
      "----------------------------------------------------------\n",
      "0 | likelihood | GaussianLikelihood         | 1     \n",
      "1 | model      | ExactGPModelForces         | 1.2 K \n",
      "2 | mll        | ExactMarginalLogLikelihood | 1.2 K \n",
      "----------------------------------------------------------\n",
      "1.2 K     Trainable params\n",
      "0         Non-trainable params\n",
      "1.2 K     Total params\n",
      "0.005     Total estimated model params size (MB)\n"
     ]
    },
    {
     "name": "stdout",
     "output_type": "stream",
     "text": [
      "Training force model 2 (Total 14 models)\n"
     ]
    },
    {
     "data": {
      "application/vnd.jupyter.widget-view+json": {
       "model_id": "cbfb7805f7e54b1581c7f418ec930edc",
       "version_major": 2,
       "version_minor": 0
      },
      "text/plain": [
       "Training: 0it [00:00, ?it/s]"
      ]
     },
     "metadata": {},
     "output_type": "display_data"
    },
    {
     "name": "stderr",
     "output_type": "stream",
     "text": [
      "`Trainer.fit` stopped: `max_epochs=2` reached.\n",
      "LOCAL_RANK: 0 - CUDA_VISIBLE_DEVICES: [0,1]\n",
      "\n",
      "  | Name       | Type                       | Params\n",
      "----------------------------------------------------------\n",
      "0 | likelihood | GaussianLikelihood         | 1     \n",
      "1 | model      | ExactGPModelForces         | 1.2 K \n",
      "2 | mll        | ExactMarginalLogLikelihood | 1.2 K \n",
      "----------------------------------------------------------\n",
      "1.2 K     Trainable params\n",
      "0         Non-trainable params\n",
      "1.2 K     Total params\n",
      "0.005     Total estimated model params size (MB)\n"
     ]
    },
    {
     "name": "stdout",
     "output_type": "stream",
     "text": [
      "Training force model 3 (Total 14 models)\n"
     ]
    },
    {
     "data": {
      "application/vnd.jupyter.widget-view+json": {
       "model_id": "4bb84d893e0e4679a971a559ea620041",
       "version_major": 2,
       "version_minor": 0
      },
      "text/plain": [
       "Training: 0it [00:00, ?it/s]"
      ]
     },
     "metadata": {},
     "output_type": "display_data"
    },
    {
     "name": "stderr",
     "output_type": "stream",
     "text": [
      "`Trainer.fit` stopped: `max_epochs=2` reached.\n",
      "LOCAL_RANK: 0 - CUDA_VISIBLE_DEVICES: [0,1]\n",
      "\n",
      "  | Name       | Type                       | Params\n",
      "----------------------------------------------------------\n",
      "0 | likelihood | GaussianLikelihood         | 1     \n",
      "1 | model      | ExactGPModelForces         | 1.2 K \n",
      "2 | mll        | ExactMarginalLogLikelihood | 1.2 K \n",
      "----------------------------------------------------------\n",
      "1.2 K     Trainable params\n",
      "0         Non-trainable params\n",
      "1.2 K     Total params\n",
      "0.005     Total estimated model params size (MB)\n"
     ]
    },
    {
     "name": "stdout",
     "output_type": "stream",
     "text": [
      "Training force model 4 (Total 14 models)\n"
     ]
    },
    {
     "data": {
      "application/vnd.jupyter.widget-view+json": {
       "model_id": "3dae45a67f1f432fa1eb8e140bc1a0c1",
       "version_major": 2,
       "version_minor": 0
      },
      "text/plain": [
       "Training: 0it [00:00, ?it/s]"
      ]
     },
     "metadata": {},
     "output_type": "display_data"
    },
    {
     "name": "stderr",
     "output_type": "stream",
     "text": [
      "`Trainer.fit` stopped: `max_epochs=2` reached.\n",
      "LOCAL_RANK: 0 - CUDA_VISIBLE_DEVICES: [0,1]\n",
      "\n",
      "  | Name       | Type                       | Params\n",
      "----------------------------------------------------------\n",
      "0 | likelihood | GaussianLikelihood         | 1     \n",
      "1 | model      | ExactGPModelForces         | 1.2 K \n",
      "2 | mll        | ExactMarginalLogLikelihood | 1.2 K \n",
      "----------------------------------------------------------\n",
      "1.2 K     Trainable params\n",
      "0         Non-trainable params\n",
      "1.2 K     Total params\n",
      "0.005     Total estimated model params size (MB)\n"
     ]
    },
    {
     "name": "stdout",
     "output_type": "stream",
     "text": [
      "Training force model 5 (Total 14 models)\n"
     ]
    },
    {
     "data": {
      "application/vnd.jupyter.widget-view+json": {
       "model_id": "4a6368f662e249c7a7fb0bc993e09f51",
       "version_major": 2,
       "version_minor": 0
      },
      "text/plain": [
       "Training: 0it [00:00, ?it/s]"
      ]
     },
     "metadata": {},
     "output_type": "display_data"
    },
    {
     "name": "stderr",
     "output_type": "stream",
     "text": [
      "`Trainer.fit` stopped: `max_epochs=2` reached.\n",
      "LOCAL_RANK: 0 - CUDA_VISIBLE_DEVICES: [0,1]\n",
      "\n",
      "  | Name       | Type                       | Params\n",
      "----------------------------------------------------------\n",
      "0 | likelihood | GaussianLikelihood         | 1     \n",
      "1 | model      | ExactGPModelForces         | 1.2 K \n",
      "2 | mll        | ExactMarginalLogLikelihood | 1.2 K \n",
      "----------------------------------------------------------\n",
      "1.2 K     Trainable params\n",
      "0         Non-trainable params\n",
      "1.2 K     Total params\n",
      "0.005     Total estimated model params size (MB)\n"
     ]
    },
    {
     "name": "stdout",
     "output_type": "stream",
     "text": [
      "Training force model 6 (Total 14 models)\n"
     ]
    },
    {
     "data": {
      "application/vnd.jupyter.widget-view+json": {
       "model_id": "e22d4ba8afc2414591832ceea17e2942",
       "version_major": 2,
       "version_minor": 0
      },
      "text/plain": [
       "Training: 0it [00:00, ?it/s]"
      ]
     },
     "metadata": {},
     "output_type": "display_data"
    },
    {
     "name": "stderr",
     "output_type": "stream",
     "text": [
      "`Trainer.fit` stopped: `max_epochs=2` reached.\n",
      "LOCAL_RANK: 0 - CUDA_VISIBLE_DEVICES: [0,1]\n",
      "\n",
      "  | Name       | Type                       | Params\n",
      "----------------------------------------------------------\n",
      "0 | likelihood | GaussianLikelihood         | 1     \n",
      "1 | model      | ExactGPModelForces         | 1.2 K \n",
      "2 | mll        | ExactMarginalLogLikelihood | 1.2 K \n",
      "----------------------------------------------------------\n",
      "1.2 K     Trainable params\n",
      "0         Non-trainable params\n",
      "1.2 K     Total params\n",
      "0.005     Total estimated model params size (MB)\n"
     ]
    },
    {
     "name": "stdout",
     "output_type": "stream",
     "text": [
      "Training force model 7 (Total 14 models)\n"
     ]
    },
    {
     "data": {
      "application/vnd.jupyter.widget-view+json": {
       "model_id": "d3d2b789174c430e9e149a27c976ea04",
       "version_major": 2,
       "version_minor": 0
      },
      "text/plain": [
       "Training: 0it [00:00, ?it/s]"
      ]
     },
     "metadata": {},
     "output_type": "display_data"
    },
    {
     "name": "stderr",
     "output_type": "stream",
     "text": [
      "`Trainer.fit` stopped: `max_epochs=2` reached.\n",
      "LOCAL_RANK: 0 - CUDA_VISIBLE_DEVICES: [0,1]\n",
      "\n",
      "  | Name       | Type                       | Params\n",
      "----------------------------------------------------------\n",
      "0 | likelihood | GaussianLikelihood         | 1     \n",
      "1 | model      | ExactGPModelForces         | 1.2 K \n",
      "2 | mll        | ExactMarginalLogLikelihood | 1.2 K \n",
      "----------------------------------------------------------\n",
      "1.2 K     Trainable params\n",
      "0         Non-trainable params\n",
      "1.2 K     Total params\n",
      "0.005     Total estimated model params size (MB)\n"
     ]
    },
    {
     "name": "stdout",
     "output_type": "stream",
     "text": [
      "Training force model 8 (Total 14 models)\n"
     ]
    },
    {
     "data": {
      "application/vnd.jupyter.widget-view+json": {
       "model_id": "918114dbf16e4c5e939258e8c071b3f2",
       "version_major": 2,
       "version_minor": 0
      },
      "text/plain": [
       "Training: 0it [00:00, ?it/s]"
      ]
     },
     "metadata": {},
     "output_type": "display_data"
    },
    {
     "name": "stderr",
     "output_type": "stream",
     "text": [
      "`Trainer.fit` stopped: `max_epochs=2` reached.\n",
      "LOCAL_RANK: 0 - CUDA_VISIBLE_DEVICES: [0,1]\n",
      "\n",
      "  | Name       | Type                       | Params\n",
      "----------------------------------------------------------\n",
      "0 | likelihood | GaussianLikelihood         | 1     \n",
      "1 | model      | ExactGPModelForces         | 1.2 K \n",
      "2 | mll        | ExactMarginalLogLikelihood | 1.2 K \n",
      "----------------------------------------------------------\n",
      "1.2 K     Trainable params\n",
      "0         Non-trainable params\n",
      "1.2 K     Total params\n",
      "0.005     Total estimated model params size (MB)\n"
     ]
    },
    {
     "name": "stdout",
     "output_type": "stream",
     "text": [
      "Training force model 9 (Total 14 models)\n"
     ]
    },
    {
     "data": {
      "application/vnd.jupyter.widget-view+json": {
       "model_id": "2e175aa678e64ccaa3b4d2dcfd904b4f",
       "version_major": 2,
       "version_minor": 0
      },
      "text/plain": [
       "Training: 0it [00:00, ?it/s]"
      ]
     },
     "metadata": {},
     "output_type": "display_data"
    },
    {
     "name": "stderr",
     "output_type": "stream",
     "text": [
      "`Trainer.fit` stopped: `max_epochs=2` reached.\n",
      "LOCAL_RANK: 0 - CUDA_VISIBLE_DEVICES: [0,1]\n",
      "\n",
      "  | Name       | Type                       | Params\n",
      "----------------------------------------------------------\n",
      "0 | likelihood | GaussianLikelihood         | 1     \n",
      "1 | model      | ExactGPModelForces         | 1.2 K \n",
      "2 | mll        | ExactMarginalLogLikelihood | 1.2 K \n",
      "----------------------------------------------------------\n",
      "1.2 K     Trainable params\n",
      "0         Non-trainable params\n",
      "1.2 K     Total params\n",
      "0.005     Total estimated model params size (MB)\n"
     ]
    },
    {
     "name": "stdout",
     "output_type": "stream",
     "text": [
      "Training force model 10 (Total 14 models)\n"
     ]
    },
    {
     "data": {
      "application/vnd.jupyter.widget-view+json": {
       "model_id": "d035143570164de9ac6af1ccf1815221",
       "version_major": 2,
       "version_minor": 0
      },
      "text/plain": [
       "Training: 0it [00:00, ?it/s]"
      ]
     },
     "metadata": {},
     "output_type": "display_data"
    },
    {
     "name": "stderr",
     "output_type": "stream",
     "text": [
      "`Trainer.fit` stopped: `max_epochs=2` reached.\n",
      "LOCAL_RANK: 0 - CUDA_VISIBLE_DEVICES: [0,1]\n",
      "\n",
      "  | Name       | Type                       | Params\n",
      "----------------------------------------------------------\n",
      "0 | likelihood | GaussianLikelihood         | 1     \n",
      "1 | model      | ExactGPModelForces         | 1.2 K \n",
      "2 | mll        | ExactMarginalLogLikelihood | 1.2 K \n",
      "----------------------------------------------------------\n",
      "1.2 K     Trainable params\n",
      "0         Non-trainable params\n",
      "1.2 K     Total params\n",
      "0.005     Total estimated model params size (MB)\n"
     ]
    },
    {
     "name": "stdout",
     "output_type": "stream",
     "text": [
      "Training force model 11 (Total 14 models)\n"
     ]
    },
    {
     "data": {
      "application/vnd.jupyter.widget-view+json": {
       "model_id": "45d834890ec04efc9d95a97fb48fc41e",
       "version_major": 2,
       "version_minor": 0
      },
      "text/plain": [
       "Training: 0it [00:00, ?it/s]"
      ]
     },
     "metadata": {},
     "output_type": "display_data"
    },
    {
     "name": "stderr",
     "output_type": "stream",
     "text": [
      "`Trainer.fit` stopped: `max_epochs=2` reached.\n",
      "LOCAL_RANK: 0 - CUDA_VISIBLE_DEVICES: [0,1]\n",
      "\n",
      "  | Name       | Type                       | Params\n",
      "----------------------------------------------------------\n",
      "0 | likelihood | GaussianLikelihood         | 1     \n",
      "1 | model      | ExactGPModelForces         | 1.2 K \n",
      "2 | mll        | ExactMarginalLogLikelihood | 1.2 K \n",
      "----------------------------------------------------------\n",
      "1.2 K     Trainable params\n",
      "0         Non-trainable params\n",
      "1.2 K     Total params\n",
      "0.005     Total estimated model params size (MB)\n"
     ]
    },
    {
     "name": "stdout",
     "output_type": "stream",
     "text": [
      "Training force model 12 (Total 14 models)\n"
     ]
    },
    {
     "data": {
      "application/vnd.jupyter.widget-view+json": {
       "model_id": "0c763f171fa246538fc34f1978b63abd",
       "version_major": 2,
       "version_minor": 0
      },
      "text/plain": [
       "Training: 0it [00:00, ?it/s]"
      ]
     },
     "metadata": {},
     "output_type": "display_data"
    },
    {
     "name": "stderr",
     "output_type": "stream",
     "text": [
      "`Trainer.fit` stopped: `max_epochs=2` reached.\n",
      "LOCAL_RANK: 0 - CUDA_VISIBLE_DEVICES: [0,1]\n",
      "\n",
      "  | Name       | Type                       | Params\n",
      "----------------------------------------------------------\n",
      "0 | likelihood | GaussianLikelihood         | 1     \n",
      "1 | model      | ExactGPModelForces         | 1.2 K \n",
      "2 | mll        | ExactMarginalLogLikelihood | 1.2 K \n",
      "----------------------------------------------------------\n",
      "1.2 K     Trainable params\n",
      "0         Non-trainable params\n",
      "1.2 K     Total params\n",
      "0.005     Total estimated model params size (MB)\n"
     ]
    },
    {
     "name": "stdout",
     "output_type": "stream",
     "text": [
      "Training force model 13 (Total 14 models)\n"
     ]
    },
    {
     "data": {
      "application/vnd.jupyter.widget-view+json": {
       "model_id": "ca258cbf82644838bf9071483d5061dc",
       "version_major": 2,
       "version_minor": 0
      },
      "text/plain": [
       "Training: 0it [00:00, ?it/s]"
      ]
     },
     "metadata": {},
     "output_type": "display_data"
    },
    {
     "name": "stderr",
     "output_type": "stream",
     "text": [
      "`Trainer.fit` stopped: `max_epochs=2` reached.\n"
     ]
    },
    {
     "name": "stdout",
     "output_type": "stream",
     "text": [
      "Error metrics for atomic group  0\n",
      "RMSE:  0.68164456\n",
      "MAE:  0.5241141\n",
      "Max error:  1.82448\n",
      "Error metrics for atomic group  1\n",
      "RMSE:  0.6036312\n",
      "MAE:  0.4587322\n",
      "Max error:  1.8248603\n",
      "Error metrics for atomic group  2\n",
      "RMSE:  0.64037406\n",
      "MAE:  0.52777076\n",
      "Max error:  2.007472\n",
      "Error metrics for atomic group  3\n",
      "RMSE:  0.5405464\n",
      "MAE:  0.48311907\n",
      "Max error:  1.2056279\n",
      "Error metrics for atomic group  4\n",
      "RMSE:  0.4980346\n",
      "MAE:  0.36466157\n",
      "Max error:  3.0245202\n",
      "Error metrics for atomic group  5\n",
      "RMSE:  0.6893776\n",
      "MAE:  0.53982794\n",
      "Max error:  2.0846577\n",
      "Error metrics for atomic group  6\n",
      "RMSE:  0.7973294\n",
      "MAE:  0.65841985\n",
      "Max error:  1.7726597\n",
      "Error metrics for atomic group  7\n",
      "RMSE:  0.3739237\n",
      "MAE:  0.31468755\n",
      "Max error:  0.80312175\n",
      "Error metrics for atomic group  8\n",
      "RMSE:  0.53448\n",
      "MAE:  0.46106407\n",
      "Max error:  1.2550861\n",
      "Error metrics for atomic group  9\n",
      "RMSE:  0.44934392\n",
      "MAE:  0.34589544\n",
      "Max error:  1.7473903\n",
      "Error metrics for atomic group  10\n",
      "RMSE:  0.55393517\n",
      "MAE:  0.45037514\n",
      "Max error:  2.2388191\n",
      "Error metrics for atomic group  11\n",
      "RMSE:  0.99607176\n",
      "MAE:  0.83751583\n",
      "Max error:  2.0652475\n",
      "Error metrics for atomic group  12\n",
      "RMSE:  0.9476972\n",
      "MAE:  0.69093525\n",
      "Max error:  3.2649329\n",
      "Error metrics for atomic group  13\n",
      "RMSE:  0.27867284\n",
      "MAE:  0.21545532\n",
      "Max error:  1.4426576\n",
      "Analyzing where predictions are the worst...\n"
     ]
    }
   ],
   "source": [
    "from prepare_model import prepare_fande_ase_calc\n",
    "\n",
    "# Hyperparameters:\n",
    "hparams = {\n",
    "        'dtype' : 'float32',\n",
    "        'device' : 'gpu'\n",
    "        }\n",
    "\n",
    "# Descriptors parameters:\n",
    "# https://github.com/lab-cosmo/librascal/blob/master/examples/MLIP_example.ipynb\n",
    "soap_params = {\n",
    "# 'species': [\"H\", \"C\", \"O\", \"N\", \"Si\"],\n",
    "# 'periodic': True,\n",
    "'interaction_cutoff': 3.0,\n",
    "'gaussian_sigma_constant': 0.3,\n",
    "'max_radial': 4,\n",
    "'max_angular': 4,\n",
    "'cutoff_smooth_width': 0.1,\n",
    "# 'average': \"off\",\n",
    "# 'crossover': True,\n",
    "# 'dtype': \"float64\",\n",
    "# 'n_jobs': 10,\n",
    "# 'sparse': False,\n",
    "# 'positions': [7, 11, 15] # ignored\n",
    "}\n",
    "\n",
    "\n",
    "fande_calc = prepare_fande_ase_calc(hparams, soap_params)"
   ]
  },
  {
   "cell_type": "code",
   "execution_count": 44,
   "metadata": {},
   "outputs": [
    {
     "data": {
      "text/plain": [
       "array([[ 9.07461405e-01,  2.28572965e-01, -9.17934656e-01],\n",
       "       [-1.98087096e-02, -2.50351727e-02,  1.66449821e+00],\n",
       "       [ 2.04146981e-01,  2.03783661e-01,  5.46995878e-01],\n",
       "       [ 1.74916223e-01,  1.28894985e-01,  1.03970587e-01],\n",
       "       [ 6.50788546e-01,  7.50822365e-01,  9.80393648e-01],\n",
       "       [ 3.21241468e-01,  2.81481504e-01,  7.87647516e-02],\n",
       "       [-3.35884094e-03, -2.18347168e+00, -1.29886627e-01],\n",
       "       [-3.18317413e-02,  8.10477734e-01, -2.26716995e-02],\n",
       "       [-6.61106110e-02,  6.70619011e-01, -1.33040714e+00],\n",
       "       [ 1.97105408e-02, -1.64889145e+00,  5.48441887e-01],\n",
       "       [ 3.54080200e-02,  2.59704590e-02,  9.03134346e-01],\n",
       "       [-8.80737305e-02, -1.08216286e-01, -2.37125063e+00],\n",
       "       [ 5.64067245e-01, -9.75348830e-01, -1.28065586e-01],\n",
       "       [-4.93268490e-01,  8.77703369e-01,  7.42473960e-01],\n",
       "       [ 1.26688957e-01, -1.97210073e+00, -7.06083393e+00],\n",
       "       [-1.82250023e-01,  2.08784485e+00,  6.88475132e+00],\n",
       "       [-8.68957520e-01,  5.31099081e+00, -4.98560619e+00],\n",
       "       [ 7.77013779e-01, -5.94591665e+00,  4.81009579e+00],\n",
       "       [ 3.47794563e-01,  2.20964551e-02,  5.34534216e-01],\n",
       "       [ 3.32633108e-01,  2.02531457e-01, -1.38808519e-01],\n",
       "       [-2.13456154e-01,  1.96326542e+00,  6.90257502e+00],\n",
       "       [ 1.52358055e-01, -2.39722919e+00, -7.56774855e+00],\n",
       "       [ 7.62098312e-01, -5.83473015e+00,  4.31961823e+00],\n",
       "       [-8.32431793e-01,  5.78967047e+00, -4.93512201e+00],\n",
       "       [ 1.25158501e+00, -7.38180733e+00, -2.81051731e+00],\n",
       "       [-1.31537533e+00,  6.70339584e+00,  2.36411476e+00],\n",
       "       [ 3.39149386e-01,  1.40169859e-01, -5.04137874e-02],\n",
       "       [ 3.70306373e-01,  3.42084795e-01,  1.99096143e-01],\n",
       "       [-1.29172611e+00,  5.11935616e+00, -5.60536861e+00],\n",
       "       [ 1.24019718e+00, -5.37184477e+00,  4.97315264e+00],\n",
       "       [-6.45963669e-01,  6.53987980e+00,  2.21686649e+00],\n",
       "       [ 6.16260529e-01, -6.99050713e+00, -2.02380133e+00],\n",
       "       [ 2.10965514e-01,  6.04058981e-01,  8.73621523e-01],\n",
       "       [ 2.49971151e-02, -1.18244290e-01, -6.92981005e-01],\n",
       "       [ 1.18015003e+00, -5.24791861e+00,  5.44236755e+00],\n",
       "       [-1.28582954e+00,  4.65578175e+00, -5.53499126e+00],\n",
       "       [ 1.86014318e+00,  1.43065405e+00,  1.55771446e+00],\n",
       "       [-2.65207267e+00, -7.69629061e-01, -9.03936625e-01],\n",
       "       [-4.81845558e-01,  9.59597886e-01, -7.80420542e-01],\n",
       "       [ 5.25700510e-01, -2.09808588e-01,  3.15248996e-01],\n",
       "       [-1.12969971e+00,  7.19682074e+00,  1.38616943e+00],\n",
       "       [ 1.09694195e+00, -7.15195799e+00, -1.71081161e+00],\n",
       "       [ 3.68474007e-01,  1.17087841e+00,  6.95687866e+00],\n",
       "       [-4.50846672e-01, -8.57195854e-01, -7.66166019e+00],\n",
       "       [ 4.89092767e-01, -4.85227764e-01, -2.50195920e-01],\n",
       "       [ 1.84423074e-01,  2.39737809e-01,  2.62382269e-01],\n",
       "       [ 1.12477875e+00, -7.62435198e+00, -1.62237835e+00],\n",
       "       [-1.25676537e+00,  6.92277670e+00,  2.01144981e+00],\n",
       "       [ 5.22012472e-01, -1.05559349e+00, -3.39400840e+00],\n",
       "       [-4.60041523e-01,  6.86327934e-01,  4.05531311e+00],\n",
       "       [-7.47945309e-02,  1.07735753e+00, -2.89300966e+00],\n",
       "       [ 2.69596636e-01, -1.45254385e+00,  2.88588476e+00],\n",
       "       [ 1.12222230e+00, -1.38890457e+00,  1.48471951e-01],\n",
       "       [-1.20070934e+00,  1.59594846e+00,  3.99906754e-01],\n",
       "       [-9.99094129e-01,  2.82006550e+00, -1.80480397e+00],\n",
       "       [ 1.07440162e+00, -2.80159378e+00,  1.36506271e+00],\n",
       "       [ 1.68167591e+00,  1.47909307e+00, -3.62571096e+00],\n",
       "       [-2.11251569e+00, -1.13462758e+00,  4.38073254e+00],\n",
       "       [ 4.87403107e+00,  1.83406830e+00,  4.49789238e+00],\n",
       "       [-4.23333073e+00, -1.93147230e+00, -4.13478088e+00],\n",
       "       [ 2.76993752e-01, -4.75034428e+00,  6.75959587e-01],\n",
       "       [-6.93498135e-01,  4.84288502e+00, -1.00467753e+00],\n",
       "       [-1.40801501e+00, -1.91209817e+00, -1.28964245e-01],\n",
       "       [ 6.43219054e-02,  2.57082009e+00, -6.44158483e-01],\n",
       "       [-1.31503117e+00, -2.05562308e-01,  2.56067657e+00],\n",
       "       [ 3.77885485e+00,  6.45006657e-01, -1.25951171e+00],\n",
       "       [ 3.80192280e-01, -6.20973587e-01,  4.46642494e+00],\n",
       "       [-6.01773024e-01,  1.83617115e-01, -4.46089077e+00],\n",
       "       [ 4.57391119e+00,  3.50406790e+00,  3.63621688e+00],\n",
       "       [-4.50294685e+00, -3.34063292e+00, -2.71195984e+00],\n",
       "       [ 1.08958864e+00,  4.61807919e+00, -1.91969681e+00],\n",
       "       [-1.27972054e+00, -4.32133293e+00,  1.88376546e+00],\n",
       "       [-4.60393524e+00,  2.36410379e+00,  1.57691479e+00],\n",
       "       [ 4.85312366e+00, -1.30091858e+00, -3.92728806e-01],\n",
       "       [ 2.23753667e+00,  1.63117421e+00, -1.05620074e+00],\n",
       "       [-1.18202710e+00, -7.21029222e-01,  2.99488211e+00],\n",
       "       [-4.32681799e+00, -1.86809850e+00,  9.19960022e-01],\n",
       "       [ 4.28452063e+00,  1.77372789e+00, -1.21778488e+00],\n",
       "       [-4.62198639e+00, -8.95453930e-01, -1.54189253e+00],\n",
       "       [ 4.55765915e+00,  9.62509155e-01,  1.35029507e+00],\n",
       "       [ 9.42152500e-01, -2.12115049e-01,  2.49278212e+00],\n",
       "       [-6.48309231e-01,  1.11774363e-01, -2.85748100e+00],\n",
       "       [ 3.49144030e+00, -3.61425471e+00, -1.00370026e+00],\n",
       "       [-3.49923420e+00,  4.20245457e+00,  2.20499039e+00],\n",
       "       [ 4.40352631e+00, -2.84350586e+00, -3.94683313e+00],\n",
       "       [-4.23964119e+00,  3.74932194e+00,  4.02673292e+00],\n",
       "       [-1.75822330e+00, -2.59197521e+00,  4.90208745e-01],\n",
       "       [ 9.94752169e-01,  2.01811600e+00,  7.77636290e-01],\n",
       "       [ 4.31285954e+00, -1.13805437e+00, -2.21051478e+00],\n",
       "       [-4.24841833e+00,  1.02845669e+00,  2.65524173e+00],\n",
       "       [-2.83350635e+00,  1.51851225e+00, -1.48706508e+00],\n",
       "       [ 3.48570514e+00, -1.51443148e+00,  2.06623554e+00],\n",
       "       [ 4.06525791e-01,  1.70192242e+00,  1.30800414e+00],\n",
       "       [-1.19093156e+00, -2.39604497e+00, -2.27242231e-01],\n",
       "       [-4.04848433e+00,  1.58056641e+00, -3.16515779e+00],\n",
       "       [ 4.21716404e+00, -1.76287985e+00,  3.19603777e+00],\n",
       "       [-2.90947795e+00,  1.54467344e+00,  1.48086429e-01],\n",
       "       [ 2.26017261e+00, -2.60090637e+00, -6.23492002e-02],\n",
       "       [-1.77488041e+00, -5.03761673e+00,  2.89511919e+00],\n",
       "       [ 1.31857538e+00,  5.07390118e+00, -2.19440079e+00],\n",
       "       [ 5.96296310e-01,  2.92650461e+00,  1.30952978e+00],\n",
       "       [-4.94651318e-01, -2.93189359e+00, -7.64509916e-01],\n",
       "       [ 1.42140150e-01, -4.66313362e-02, -1.57736778e-01],\n",
       "       [ 1.53711945e-01,  3.47173452e-01,  4.05687779e-01],\n",
       "       [ 6.70959055e-02,  4.52657610e-01,  3.10178488e-01],\n",
       "       [ 2.25922465e-01, -1.54979199e-01, -7.04515576e-02],\n",
       "       [ 2.44713679e-01, -1.26037359e-01,  3.56226295e-01],\n",
       "       [ 3.89617383e-02,  2.85549939e-01, -1.07789576e-01],\n",
       "       [ 5.01161277e-01,  2.63483882e-01,  7.03126043e-02],\n",
       "       [-7.08690807e-02, -1.30724216e+00, -5.22499084e-01],\n",
       "       [ 3.56641710e-01, -1.27237201e-01, -1.65226293e+00],\n",
       "       [-1.78889073e-02,  1.48338214e-01,  8.35459590e-01],\n",
       "       [ 3.44157547e-01, -5.78204811e-01,  9.21853840e-01],\n",
       "       [ 4.07860577e-01,  1.13590613e-01, -3.94790769e-02],\n",
       "       [ 3.44515324e-01,  7.45686054e-01,  6.64151859e+00],\n",
       "       [ 5.23610115e-02, -1.06410122e+00, -6.36311197e+00],\n",
       "       [ 8.75493526e-01, -5.58049726e+00,  5.66477299e+00],\n",
       "       [-6.77767754e-01,  5.80988312e+00, -5.11580133e+00],\n",
       "       [ 1.24444008e-01, -1.40831828e+00, -6.61201763e+00],\n",
       "       [ 2.87945271e-02,  1.64508605e+00,  7.17356777e+00],\n",
       "       [-7.27611542e-01,  5.80501938e+00, -5.71784782e+00],\n",
       "       [ 8.93479824e-01, -5.62200642e+00,  5.46464920e+00],\n",
       "       [-1.31655955e+00,  5.26695919e+00,  2.17361045e+00],\n",
       "       [ 1.57331800e+00, -6.51264763e+00, -1.86672449e+00],\n",
       "       [ 1.25471687e+00, -2.53812838e+00,  5.23184776e+00],\n",
       "       [-1.22941637e+00,  1.36189342e+00, -4.77010536e+00],\n",
       "       [ 6.69079900e-01, -4.39640141e+00, -1.86671925e+00],\n",
       "       [-6.24634504e-01,  5.09707689e+00,  1.88463974e+00],\n",
       "       [-1.15900421e+00,  5.58180714e+00, -5.40634727e+00],\n",
       "       [ 1.40365005e+00, -5.44147587e+00,  5.76234484e+00],\n",
       "       [-2.43892384e+00, -2.08957005e+00, -2.84189701e+00],\n",
       "       [ 2.35546398e+00,  1.74675179e+00,  2.55572033e+00],\n",
       "       [ 1.22047687e+00, -6.88398170e+00, -2.35627770e+00],\n",
       "       [-1.02496099e+00,  6.65156603e+00,  2.41298389e+00],\n",
       "       [-1.52666092e-01, -1.81140089e+00, -7.17362404e+00],\n",
       "       [ 3.05715322e-01,  2.14163136e+00,  7.16858673e+00],\n",
       "       [-1.13894868e+00,  6.74093437e+00,  6.70299411e-01],\n",
       "       [ 1.02412581e+00, -7.26049900e+00, -1.36347258e+00],\n",
       "       [ 3.62181664e-03,  6.85689688e-01,  1.36570549e+00],\n",
       "       [-3.69605899e-01, -8.90188932e-01, -1.29627991e+00],\n",
       "       [-8.04569244e-01, -1.31293297e-01,  3.54848957e+00],\n",
       "       [ 8.16319466e-01,  1.41354561e-01, -3.92779922e+00],\n",
       "       [-2.28483963e+00,  2.04421425e+00,  1.65477276e+00],\n",
       "       [ 2.35260582e+00, -2.32681751e+00, -1.91649532e+00],\n",
       "       [-6.00211143e-01, -2.46871948e+00,  2.74661064e-01],\n",
       "       [ 6.44366264e-01,  2.50208282e+00, -3.67815971e-01],\n",
       "       [ 1.98769569e-01, -4.40523338e+00, -8.07485580e-02],\n",
       "       [-3.27479362e-01,  5.44727659e+00, -1.68045998e-01],\n",
       "       [-1.90536678e+00,  1.42812109e+00,  6.37365341e-01],\n",
       "       [ 2.01592588e+00, -2.16999245e+00, -8.21463585e-01],\n",
       "       [ 2.93728304e+00,  2.33710480e+00,  2.74976611e+00],\n",
       "       [-3.15805554e+00, -2.44552898e+00, -2.31064224e+00],\n",
       "       [-6.67721748e-01, -3.88711405e+00,  1.43221378e-01],\n",
       "       [ 3.75207424e-01,  3.93893766e+00, -1.94400787e-01],\n",
       "       [ 2.03348351e+00,  1.78440189e+00, -5.59576178e+00],\n",
       "       [-2.28412819e+00, -2.01309013e+00,  5.91012049e+00],\n",
       "       [-5.40997601e+00,  3.07273579e+00,  1.66110039e+00],\n",
       "       [ 5.70553112e+00, -3.15532112e+00, -1.74522114e+00],\n",
       "       [-4.64975405e+00,  6.79441452e-01, -2.57627201e+00],\n",
       "       [ 5.35796452e+00, -5.56962967e-01,  2.70513058e+00],\n",
       "       [ 1.99210835e+00,  2.13352203e+00, -4.06538153e+00],\n",
       "       [-2.22742510e+00, -2.22914696e+00,  4.24354935e+00],\n",
       "       [ 3.30425262e-01,  3.02745819e+00,  2.84832811e+00],\n",
       "       [-3.97694588e-01, -3.15682793e+00, -2.61035299e+00],\n",
       "       [ 2.93220520e-01,  2.99544811e+00, -2.28544331e+00],\n",
       "       [-3.16717148e-01, -3.29879951e+00,  1.61036205e+00],\n",
       "       [ 1.17842555e+00, -4.55626816e-01, -2.29158163e-01],\n",
       "       [-1.30425382e+00,  9.00141776e-01,  7.24734664e-01],\n",
       "       [ 4.33626127e+00,  4.36436129e+00, -2.73086739e+00],\n",
       "       [-4.34787273e+00, -4.32807922e+00,  2.48733616e+00],\n",
       "       [-5.01113653e+00,  2.10679340e+00, -1.19387150e+00],\n",
       "       [ 5.78527355e+00, -2.18021011e+00,  1.07240391e+00],\n",
       "       [ 1.06085587e+00, -4.82818222e+00, -2.69356632e+00],\n",
       "       [-1.09914970e+00,  5.39946604e+00,  2.45554733e+00],\n",
       "       [-3.77928495e+00,  1.16269445e+00,  1.67970562e+00],\n",
       "       [ 4.73389244e+00, -1.77059841e+00, -1.86612606e+00],\n",
       "       [ 5.74407578e-01, -5.16437626e+00,  1.10394144e+00],\n",
       "       [-6.82783127e-01,  5.73388672e+00, -1.60477805e+00],\n",
       "       [ 1.11001396e+00,  6.59228325e-01, -4.48285580e+00],\n",
       "       [-1.42737961e+00, -1.14295864e+00,  5.49771595e+00],\n",
       "       [ 3.90659428e+00, -4.04669762e+00, -1.92699528e+00],\n",
       "       [-3.50430012e+00,  3.57808113e+00,  1.50993776e+00],\n",
       "       [-3.04629517e+00, -8.54708791e-01, -2.08116531e+00],\n",
       "       [ 3.88681030e+00,  6.72504425e-01,  1.86359882e+00],\n",
       "       [-1.19653702e-01,  6.29029274e-01,  5.65108681e+00],\n",
       "       [ 3.49003792e-01, -7.70612717e-01, -4.83634281e+00],\n",
       "       [ 5.74211121e-01, -1.66732788e-01, -4.68735409e+00],\n",
       "       [-6.93832397e-01,  4.54629898e-01,  5.37183094e+00],\n",
       "       [ 4.77758408e-01, -1.43032670e+00,  2.59140873e+00],\n",
       "       [-4.71220970e-01,  9.93119478e-01, -2.75655460e+00],\n",
       "       [ 3.82491398e+00,  4.28449345e+00,  3.25856256e+00],\n",
       "       [-3.51467371e+00, -3.81438351e+00, -3.02649117e+00],\n",
       "       [-1.10171461e+00,  1.43376088e+00,  1.54941010e+00],\n",
       "       [ 1.25782824e+00, -1.10335386e+00, -1.08120561e+00],\n",
       "       [ 3.41800404e+00, -4.04023409e+00, -3.99589539e-01],\n",
       "       [-2.98103881e+00,  4.73280525e+00,  4.48213577e-01],\n",
       "       [ 1.70884037e+00,  3.09774899e+00,  4.20730829e+00],\n",
       "       [-1.80032063e+00, -2.04818320e+00, -2.87598395e+00],\n",
       "       [-4.59289551e-03,  2.94520283e+00, -4.21099520e+00],\n",
       "       [-1.32474899e-02, -3.22962189e+00,  4.77389097e+00],\n",
       "       [ 3.59454632e+00, -2.96251035e+00, -4.25339222e+00],\n",
       "       [-3.22884178e+00,  3.08707952e+00,  4.62237358e+00],\n",
       "       [ 6.46362305e-01, -2.76140594e+00,  5.25896645e+00],\n",
       "       [-9.51441765e-01,  2.74731445e+00, -4.58763266e+00],\n",
       "       [ 8.94890785e-01,  5.86275101e+00, -4.32746887e-01],\n",
       "       [-1.04141903e+00, -5.25716972e+00,  4.63228226e-01],\n",
       "       [-1.61666012e+00, -6.63663864e-01, -3.64408779e+00],\n",
       "       [ 1.49318314e+00,  5.91562271e-01,  3.50277472e+00],\n",
       "       [ 1.59621239e+00,  1.56579590e+00,  6.07340240e+00],\n",
       "       [-1.58367443e+00, -1.72430420e+00, -5.41058588e+00],\n",
       "       [-3.42437410e+00, -1.42566943e+00, -6.53285980e-02],\n",
       "       [ 4.47214699e+00,  8.69174957e-01,  1.21597290e-01],\n",
       "       [ 5.12225151e-01,  5.09160519e+00, -4.10149384e+00],\n",
       "       [-5.11912346e-01, -5.13870430e+00,  4.17507696e+00],\n",
       "       [ 3.26202393e-01,  5.51405478e+00, -1.14043069e+00],\n",
       "       [-5.05921364e-01, -3.97645712e+00,  1.51505589e+00],\n",
       "       [ 1.66038704e+00, -6.91033363e-01,  6.44503593e+00],\n",
       "       [-1.75063324e+00,  6.01041794e-01, -6.00310183e+00],\n",
       "       [-5.48901415e+00, -2.90460014e+00, -1.22472000e+00],\n",
       "       [ 6.04530573e+00,  2.74602056e+00,  1.02299309e+00],\n",
       "       [-1.15335763e+00,  2.88383794e+00,  2.72709608e+00],\n",
       "       [ 5.83290100e-01, -3.44981837e+00, -3.84316087e+00],\n",
       "       [-3.10296476e-01,  1.24029207e+00, -3.32805943e+00],\n",
       "       [ 4.54303622e-02, -1.58276534e+00,  2.89613700e+00],\n",
       "       [ 2.50715685e+00, -3.39127588e+00,  1.78092980e+00],\n",
       "       [-2.88772845e+00,  3.10276723e+00, -1.74992275e+00],\n",
       "       [-4.70020533e-01, -4.56881237e+00,  1.29201555e+00],\n",
       "       [ 9.52492237e-01,  5.20909309e+00, -1.14760184e+00],\n",
       "       [-5.05389214e+00,  3.52446556e+00, -3.28521109e+00],\n",
       "       [ 5.05933285e+00, -3.57412338e+00,  3.26368666e+00],\n",
       "       [ 2.50912380e+00,  4.25146580e+00,  4.98901415e+00],\n",
       "       [-2.45777702e+00, -4.62133598e+00, -5.24487782e+00],\n",
       "       [-8.66607666e-01, -4.51822376e+00,  5.09754038e+00],\n",
       "       [ 7.46112823e-01,  4.42265034e+00, -5.13843966e+00],\n",
       "       [ 2.72541618e+00,  5.47670937e+00,  2.17020226e+00],\n",
       "       [-2.91300106e+00, -4.81120157e+00, -2.33470535e+00],\n",
       "       [ 3.09614754e+00, -2.54595375e+00, -1.29487228e+00],\n",
       "       [-3.24940109e+00,  2.37347984e+00,  2.98951840e+00],\n",
       "       [-5.29202580e-01,  2.55609941e+00, -3.37478161e+00],\n",
       "       [ 4.10667747e-01, -2.83946109e+00,  1.97594047e+00],\n",
       "       [-2.87191248e+00,  7.22309709e-01,  3.07644844e+00],\n",
       "       [ 2.75776243e+00, -1.21598852e+00, -3.50239730e+00],\n",
       "       [ 7.14304566e-01, -2.90419841e+00, -1.23080468e+00],\n",
       "       [-9.98372316e-01,  2.96528673e+00,  9.40331340e-01],\n",
       "       [ 1.13574791e+00,  4.46477747e+00,  5.28265095e+00],\n",
       "       [-1.15591049e+00, -4.18664217e+00, -5.01665306e+00],\n",
       "       [ 1.34442902e+00, -2.80411720e-01, -2.93241596e+00],\n",
       "       [-1.21268082e+00,  2.43591309e-01,  3.52606297e+00],\n",
       "       [-1.40845394e+00, -4.99231434e+00,  2.50484562e+00],\n",
       "       [ 1.26814651e+00,  5.37554169e+00, -2.51609516e+00],\n",
       "       [ 2.02282858e+00, -5.55669785e-01,  1.66319275e+00],\n",
       "       [-1.75850534e+00,  5.98447800e-01, -1.81300545e+00],\n",
       "       [-4.07832527e+00,  5.75078011e-01, -4.30806112e+00],\n",
       "       [ 4.22845888e+00, -3.63913536e-01,  3.94845486e+00],\n",
       "       [ 3.37930441e+00, -1.82412624e+00, -3.75982666e+00],\n",
       "       [-1.97391629e+00,  1.39503288e+00,  3.45898438e+00],\n",
       "       [ 1.04950237e+00,  5.24812555e+00,  3.62894917e+00],\n",
       "       [-1.06234360e+00, -5.16418743e+00, -2.22638655e+00],\n",
       "       [-4.78173733e+00, -2.05219841e+00,  1.75269318e+00],\n",
       "       [ 5.09291077e+00,  2.05189419e+00, -1.73440552e+00],\n",
       "       [ 3.72995329e+00, -2.89773941e+00,  3.83434868e+00],\n",
       "       [-3.76067829e+00,  2.80757427e+00, -3.57167101e+00],\n",
       "       [ 1.15667915e+00, -1.50759697e-01, -4.62105417e+00],\n",
       "       [-1.15962029e+00,  1.36737823e-01,  5.05103874e+00]])"
      ]
     },
     "execution_count": 44,
     "metadata": {},
     "output_type": "execute_result"
    }
   ],
   "source": [
    "sample_snapshot.set_calculator(fande_calc)\n",
    "sample_snapshot.get_forces()"
   ]
  },
  {
   "cell_type": "code",
   "execution_count": 136,
   "metadata": {},
   "outputs": [],
   "source": [
    "# from fande.predict import PredictorASE\n",
    "\n",
    "# from fande.ase import FandeCalc\n",
    "\n",
    "\n",
    "\n",
    "# predictor = PredictorASE(\n",
    "#             fdm,\n",
    "#             model_e,\n",
    "#             trainer_e,\n",
    "#             AG_force_model,\n",
    "#             # trainer_f,\n",
    "#             hparams,\n",
    "#             soap_params\n",
    "# )\n",
    "\n",
    "# atoms = traj_test[14].copy()\n",
    "\n",
    "# # predictor.predict_forces_single_snapshot_r(atoms)\n",
    "\n",
    "# atoms = traj_test[5].copy()\n",
    "\n",
    "# atoms.calc = FandeCalc(predictor)\n",
    "\n",
    "# atoms.get_forces()"
   ]
  },
  {
   "cell_type": "code",
   "execution_count": null,
   "metadata": {},
   "outputs": [],
   "source": [
    "# from matplotlib import pyplot as plt\n",
    "\n",
    "\n",
    "\n",
    "# traj_1 = traj_300\n",
    "\n",
    "# traj_2 = traj_1500\n",
    "\n",
    "# mol = traj_300[200].copy()\n",
    "\n",
    "\n",
    "\n",
    "# uncertainties_0 = []\n",
    "# traj_0 = []\n",
    "# for i in range(0,50):\n",
    "#     traj_0.append(mol.copy())\n",
    "#     uncertainties_0.append(FandeCalc(predictor).get_forces_variance(mol.copy())[13,1])\n",
    "#     mol.positions[13,1] = mol.positions[13,1] + 0.1\n",
    "\n",
    "# uncertainties_1 = []\n",
    "# for mol in traj_1[300:320]:\n",
    "#     uncertainties_1.append(FandeCalc(predictor).get_forces_variance(mol.copy())[212,0])\n",
    "\n",
    "# uncertainties_2 = []\n",
    "# for mol in traj_2[300:320]:\n",
    "#     uncertainties_2.append(FandeCalc(predictor).get_forces_variance(mol.copy())[212,0])"
   ]
  },
  {
   "cell_type": "code",
   "execution_count": null,
   "metadata": {},
   "outputs": [],
   "source": [
    "atoms.get_forces_variance()"
   ]
  },
  {
   "cell_type": "code",
   "execution_count": 223,
   "metadata": {},
   "outputs": [],
   "source": [
    "# from ase import Atoms\n",
    "# class AtomsWrapped(Atoms):   \n",
    "#     def __init__(self, *args, **kwargs):\n",
    "#         super(AtomsWrapped, self).__init__(*args, **kwargs)      \n",
    "#         self.calc_history_counter = 0\n",
    "    \n",
    "#     def get_forces_variance(self):\n",
    "#         forces_variance = super(AtomsWrapped, self).calc.get_forces_variance(self)\n",
    "#         return forces_variance\n",
    "\n",
    "\n",
    "#     def get_forces(self):       \n",
    "#         forces = super(AtomsWrapped, self).get_forces()\n",
    "#         forces_variance = super(AtomsWrapped, self).calc.get_forces_variance(self)\n",
    "#         self.arrays['forces_variance'] = forces_variance\n",
    "#         # energy = super(AtomsWrapped, self).get_potential_energy()\n",
    "#         from ase.io import write\n",
    "#         import os\n",
    "#         os.makedirs(\"ase_calc_history\" , exist_ok=True)\n",
    "#         write( \"ase_calc_history/\" + str(self.calc_history_counter) + \".xyz\", self, format=\"extxyz\")\n",
    "#         # self.calc_history.append(self.copy())       \n",
    "#         self.calc_history_counter += 1\n",
    "#         return forces\n",
    "\n",
    "\n",
    "from fande.ase import FandeAtomsWrapper \n",
    "    \n",
    "mol = io.read(\"/home/qklmn/data/starting_configuration/1.cif\")\n",
    "\n",
    "mol = FandeAtomsWrapper(mol)\n",
    "mol.calc = FandeCalc(predictor)"
   ]
  },
  {
   "cell_type": "code",
   "execution_count": 226,
   "metadata": {},
   "outputs": [
    {
     "data": {
      "text/plain": [
       "'/misc/home/qklmn'"
      ]
     },
     "execution_count": 226,
     "metadata": {},
     "output_type": "execute_result"
    }
   ],
   "source": [
    "os.getcwd()"
   ]
  },
  {
   "cell_type": "code",
   "execution_count": 225,
   "metadata": {},
   "outputs": [
    {
     "name": "stderr",
     "output_type": "stream",
     "text": [
      "/misc/home/qklmn/repos/rotor-gp/code/../../fande/fande/predict/predictors_ase.py:571: UserWarning:\n",
      "\n",
      "Calculating invariants...\n",
      "\n"
     ]
    },
    {
     "name": "stdout",
     "output_type": "stream",
     "text": [
      "Total number of frames is 1\n",
      "Total number of batches is 1\n",
      "Total length of traj is 1\n",
      "Total number of batches 1\n",
      "Calculating invariants on trajectory with librascal...\n"
     ]
    },
    {
     "name": "stderr",
     "output_type": "stream",
     "text": [
      "  0%|          | 0/1 [00:00<?, ?it/s]"
     ]
    },
    {
     "name": "stderr",
     "output_type": "stream",
     "text": [
      "100%|██████████| 1/1 [00:00<00:00,  2.99it/s]\n",
      "/misc/home/qklmn/repos/rotor-gp/code/../../fande/fande/predict/predictors_ase.py:595: UserWarning:\n",
      "\n",
      "Predicting...\n",
      "\n"
     ]
    },
    {
     "data": {
      "text/plain": [
       "array([[0.28246722, 0.2569364 , 0.17697105],\n",
       "       [0.16083393, 0.22986922, 0.22655949],\n",
       "       [0.26595339, 0.19469914, 0.15795645],\n",
       "       [0.21528253, 0.12407764, 0.21884617],\n",
       "       [0.59140593, 0.39451155, 0.44077215],\n",
       "       [0.43508896, 0.30540356, 0.42349371],\n",
       "       [0.74045306, 0.78981966, 0.77597141],\n",
       "       [0.73075187, 0.74705845, 0.75709736],\n",
       "       [0.74937946, 0.74908561, 0.77944779],\n",
       "       [0.75806224, 0.73596281, 0.72551358],\n",
       "       [0.73399311, 0.75456107, 0.74840587],\n",
       "       [0.71749824, 0.728517  , 0.7514413 ],\n",
       "       [0.73656768, 0.74442554, 0.72919828],\n",
       "       [0.73354727, 0.75287962, 0.7241143 ],\n",
       "       [0.73433924, 0.74929017, 0.83233702],\n",
       "       [0.76254344, 0.75875998, 0.77559745],\n",
       "       [0.73451585, 0.77248311, 0.79197532],\n",
       "       [0.74167603, 0.77837813, 0.76843727],\n",
       "       [0.70716739, 0.72476864, 0.71955955],\n",
       "       [0.7083602 , 0.72318393, 0.71659815],\n",
       "       [0.74912465, 0.76287735, 0.77348232],\n",
       "       [0.73211652, 0.74619669, 0.76579893],\n",
       "       [0.75519341, 0.75455219, 0.76504177],\n",
       "       [0.7384541 , 0.77441269, 0.78909934],\n",
       "       [0.75153947, 0.76098382, 0.73967761],\n",
       "       [0.73695886, 0.77031511, 0.74921471],\n",
       "       [0.71828687, 0.71095908, 0.7253986 ],\n",
       "       [0.71026576, 0.71392947, 0.72215325],\n",
       "       [0.73080331, 0.7707454 , 0.77494013],\n",
       "       [0.74052471, 0.77234906, 0.75118363],\n",
       "       [0.73759413, 0.86553895, 0.76788306],\n",
       "       [0.75117254, 0.84565002, 0.79138356],\n",
       "       [0.74407506, 0.73347008, 0.77226675],\n",
       "       [0.72371471, 0.7330507 , 0.78880274],\n",
       "       [0.74374396, 0.75975418, 0.76904529],\n",
       "       [0.73610884, 0.78522635, 0.77241397],\n",
       "       [0.79847693, 0.79970211, 0.77936327],\n",
       "       [0.78355289, 0.76348621, 0.7592411 ],\n",
       "       [0.78747237, 0.75571817, 0.7594623 ],\n",
       "       [0.75510377, 0.75725901, 0.75090361],\n",
       "       [0.74915743, 0.78366774, 0.75810134],\n",
       "       [0.73588854, 0.77417731, 0.7687031 ],\n",
       "       [0.73351169, 0.74540019, 0.7565217 ],\n",
       "       [0.75652385, 0.74510837, 0.74771351],\n",
       "       [0.71118748, 0.7238763 , 0.72444427],\n",
       "       [0.70862746, 0.71928221, 0.71403837],\n",
       "       [0.76802123, 0.7807039 , 0.79163897],\n",
       "       [0.74838197, 0.75261551, 0.74470073],\n",
       "       [0.74568927, 0.75915074, 0.75806499],\n",
       "       [0.74804652, 0.74895179, 0.75392246],\n",
       "       [0.75128347, 0.78089869, 0.82232547],\n",
       "       [0.74378353, 0.76661891, 0.79867935],\n",
       "       [0.77003384, 0.75442135, 0.75203711],\n",
       "       [0.76539195, 0.78045404, 0.7587567 ],\n",
       "       [0.76125395, 0.74997765, 0.77135307],\n",
       "       [0.78408128, 0.81688857, 0.77916479],\n",
       "       [0.7616998 , 0.80043221, 0.75267035],\n",
       "       [0.75933814, 0.76533777, 0.75916404],\n",
       "       [0.76669246, 0.76159841, 0.86177981],\n",
       "       [0.75897145, 0.7927708 , 0.79586154],\n",
       "       [0.79927272, 0.79736131, 0.78349203],\n",
       "       [0.88228917, 0.78860205, 0.77371836],\n",
       "       [0.73947036, 0.78345668, 0.75878179],\n",
       "       [0.74404705, 0.76372492, 0.78608602],\n",
       "       [0.77601027, 0.78123808, 0.76372433],\n",
       "       [0.8211484 , 0.78432119, 0.79023677],\n",
       "       [0.75789267, 0.74173981, 0.76113564],\n",
       "       [0.784944  , 0.78664166, 0.81501555],\n",
       "       [0.76096565, 0.79611975, 0.76514864],\n",
       "       [0.75729394, 0.78829414, 0.75794882],\n",
       "       [0.78874576, 0.78861761, 0.7697171 ],\n",
       "       [0.82433116, 0.80192351, 0.75769073],\n",
       "       [0.75090766, 0.76017797, 0.75807166],\n",
       "       [0.79068637, 0.76875782, 0.75844759],\n",
       "       [0.75517827, 0.75256926, 0.77594769],\n",
       "       [0.76614124, 0.77943337, 0.79582942],\n",
       "       [0.77616161, 0.75644404, 0.75496203],\n",
       "       [0.80547923, 0.80775183, 0.80727506],\n",
       "       [0.76091027, 0.73856932, 0.74018204],\n",
       "       [0.76578623, 0.77533233, 0.77276218],\n",
       "       [0.74393713, 0.76422447, 0.81658071],\n",
       "       [0.74139267, 0.75941968, 0.76528263],\n",
       "       [0.75302726, 0.74763501, 0.77229708],\n",
       "       [0.75404513, 0.74798536, 0.76427662],\n",
       "       [0.76147246, 0.7651844 , 0.77048349],\n",
       "       [0.75712436, 0.76432067, 0.76513451],\n",
       "       [0.77562857, 0.77521241, 0.75625736],\n",
       "       [0.7957629 , 0.77809358, 0.7609812 ],\n",
       "       [0.77721786, 0.77730113, 0.76785779],\n",
       "       [0.7589767 , 0.78748155, 0.76828676],\n",
       "       [0.75716519, 0.77459854, 0.78491759],\n",
       "       [0.77264988, 0.7500897 , 0.7617566 ],\n",
       "       [0.802149  , 0.76104367, 0.76978099],\n",
       "       [0.80143768, 0.77561867, 0.82599652],\n",
       "       [0.76114625, 0.84319037, 0.76077604],\n",
       "       [0.7585451 , 0.74481785, 0.83957422],\n",
       "       [0.78315073, 0.75596809, 0.94800496],\n",
       "       [0.75510192, 0.74701381, 0.81382871],\n",
       "       [0.82283688, 0.82069206, 0.76544452],\n",
       "       [0.75344014, 0.78770345, 0.8045789 ],\n",
       "       [0.78896868, 0.76185781, 0.76532847],\n",
       "       [0.80924356, 0.77226132, 0.8052482 ],\n",
       "       [0.72741789, 0.76675159, 0.80508411],\n",
       "       [0.75163692, 0.74958283, 0.74739838],\n",
       "       [0.72371399, 0.74837065, 0.75453722],\n",
       "       [0.75237435, 0.77547818, 0.73940605],\n",
       "       [0.78671622, 0.74738568, 0.74788779],\n",
       "       [0.74931562, 0.73105574, 0.75046998],\n",
       "       [0.76452875, 0.8125357 , 0.76818687],\n",
       "       [0.76673979, 0.75727421, 0.73478752],\n",
       "       [0.79440367, 0.78411251, 0.77636731],\n",
       "       [0.75930995, 0.79685581, 0.78831762],\n",
       "       [0.8313362 , 0.77121317, 0.80384761],\n",
       "       [0.77587712, 0.80717552, 0.8015117 ],\n",
       "       [0.75477874, 0.81677639, 0.90636694],\n",
       "       [0.80104113, 0.83697641, 0.79939628],\n",
       "       [0.80744123, 0.86582994, 0.92998552],\n",
       "       [0.82262051, 0.80119234, 0.85015011],\n",
       "       [0.75915337, 0.7986415 , 0.8146069 ],\n",
       "       [0.73446763, 0.77205896, 0.84694785],\n",
       "       [0.73977357, 0.77657282, 0.79089034],\n",
       "       [0.76676911, 0.78005981, 0.80846465],\n",
       "       [0.75926983, 0.78382182, 0.7407043 ],\n",
       "       [0.76733238, 0.87993914, 0.81381112],\n",
       "       [0.7316044 , 0.81016898, 0.82298201],\n",
       "       [0.73639315, 0.84579104, 0.80947798],\n",
       "       [0.83057177, 0.87351292, 0.81640911],\n",
       "       [0.75387222, 0.94304216, 0.83487099],\n",
       "       [0.81403422, 0.93604767, 0.92911899],\n",
       "       [0.75849509, 0.82475889, 1.031703  ],\n",
       "       [0.85550022, 0.77313977, 0.7689563 ],\n",
       "       [0.82054561, 0.80235517, 0.75847518],\n",
       "       [0.74021488, 0.91208184, 0.75526178],\n",
       "       [0.80972588, 0.96278346, 0.75924557],\n",
       "       [0.72580451, 0.83108068, 0.85612828],\n",
       "       [0.74357057, 0.79548299, 0.78102845],\n",
       "       [0.76775938, 0.81448424, 0.84405756],\n",
       "       [0.7940551 , 0.83905327, 0.77607691],\n",
       "       [0.81002665, 0.79075003, 0.83392227],\n",
       "       [0.8109743 , 0.78040451, 0.81211072],\n",
       "       [0.77171171, 0.84906626, 0.81099361],\n",
       "       [0.82529449, 0.89524186, 0.79729903],\n",
       "       [0.90754622, 0.79861146, 0.77360344],\n",
       "       [0.85314327, 0.78635514, 0.76942122],\n",
       "       [0.77550501, 0.84710026, 0.82888061],\n",
       "       [0.77993304, 0.83021188, 0.837529  ],\n",
       "       [0.88462728, 0.83810401, 0.83298248],\n",
       "       [0.77909321, 0.8006748 , 0.85609329],\n",
       "       [0.89950764, 0.87845188, 0.81153542],\n",
       "       [0.9394896 , 0.82633001, 0.86058891],\n",
       "       [1.04902911, 0.78789204, 0.92533147],\n",
       "       [1.07664788, 0.81131005, 0.9819808 ],\n",
       "       [0.77261323, 0.8395555 , 0.85761631],\n",
       "       [0.83625931, 0.85046393, 0.75079399],\n",
       "       [0.79790425, 0.81103528, 0.83457392],\n",
       "       [0.78015655, 0.76294863, 0.79717165],\n",
       "       [0.78893065, 0.7832132 , 0.90891969],\n",
       "       [0.84867299, 0.76085109, 0.8904112 ],\n",
       "       [0.87341607, 0.87412405, 0.81503695],\n",
       "       [0.87825263, 0.84945524, 0.8972733 ],\n",
       "       [0.78933197, 0.81813598, 0.79969203],\n",
       "       [0.78025752, 0.8155117 , 0.77324438],\n",
       "       [0.8481403 , 0.78869653, 0.77882487],\n",
       "       [0.90782619, 0.77779543, 0.82089263],\n",
       "       [0.76689953, 0.9299655 , 0.97148061],\n",
       "       [0.78844059, 0.89310026, 0.91605937],\n",
       "       [0.77931827, 0.84062314, 0.81749797],\n",
       "       [0.77504319, 0.78152221, 0.82264721],\n",
       "       [0.88706964, 0.80136424, 0.85884482],\n",
       "       [0.94845033, 0.83847749, 0.83892268],\n",
       "       [0.77870506, 0.81617945, 0.82775652],\n",
       "       [0.88485312, 0.8242979 , 0.90474927],\n",
       "       [0.87513363, 0.83052111, 0.84063864],\n",
       "       [0.79157341, 0.8899138 , 0.87708795],\n",
       "       [0.90187734, 0.83210957, 0.75293243],\n",
       "       [0.85433209, 0.88797808, 0.92129451],\n",
       "       [0.87462884, 0.91674316, 0.80217367],\n",
       "       [0.78614891, 0.80551028, 0.83533144],\n",
       "       [0.76869011, 0.81957752, 0.82080585],\n",
       "       [0.83980942, 0.76845413, 0.7725774 ],\n",
       "       [0.91044205, 0.98561078, 0.79208672],\n",
       "       [0.86046714, 0.96116   , 0.78583819],\n",
       "       [0.94525373, 0.78524029, 0.7629652 ],\n",
       "       [0.8365044 , 0.78889102, 0.89914471],\n",
       "       [0.80372167, 0.79300076, 0.91473198],\n",
       "       [0.95757389, 0.83449483, 0.9021374 ],\n",
       "       [0.80477983, 0.90173852, 0.81550324],\n",
       "       [0.8094008 , 0.78315985, 0.82414669],\n",
       "       [0.77644217, 0.81481469, 0.77052623],\n",
       "       [0.79529381, 0.88746512, 0.74910843],\n",
       "       [0.83112085, 0.89564925, 0.78598857],\n",
       "       [0.83353418, 0.87886429, 0.80122775],\n",
       "       [0.78266251, 0.79598206, 0.8426258 ],\n",
       "       [0.75293463, 0.83763212, 0.88356149],\n",
       "       [0.83477193, 0.91631019, 0.79177308],\n",
       "       [0.84367943, 0.80841935, 0.7820555 ],\n",
       "       [0.80953205, 0.78708017, 0.77124661],\n",
       "       [0.806463  , 0.81399143, 0.81934178],\n",
       "       [0.82263792, 0.77559042, 0.80598539],\n",
       "       [0.78174996, 0.824494  , 0.80800217],\n",
       "       [0.87462884, 0.82368368, 0.87066591],\n",
       "       [0.87690556, 0.82977176, 0.84010971],\n",
       "       [0.79863477, 0.80459249, 0.78170872],\n",
       "       [0.85744381, 0.83296525, 0.82162589],\n",
       "       [0.77306724, 0.84025168, 0.84008968],\n",
       "       [0.80379164, 0.80446869, 0.78663093],\n",
       "       [0.78103447, 0.88612676, 0.83106226],\n",
       "       [0.79196459, 0.91451699, 0.86383295],\n",
       "       [0.81920707, 0.83610797, 0.837731  ],\n",
       "       [0.78302801, 0.80231768, 0.83932203],\n",
       "       [0.84513855, 0.80807942, 0.74847728],\n",
       "       [0.92945063, 0.81588507, 0.75905442],\n",
       "       [0.77692157, 0.79751217, 0.81788778],\n",
       "       [0.81877118, 0.84577262, 0.84439123],\n",
       "       [0.79940611, 0.84200436, 0.85404664],\n",
       "       [0.86082888, 0.84980208, 0.87093294],\n",
       "       [0.78683138, 0.83091497, 0.86281538],\n",
       "       [0.80593574, 0.77457929, 0.88183486],\n",
       "       [0.91145277, 0.83894646, 0.85090274],\n",
       "       [0.9050315 , 0.86554098, 0.84566027],\n",
       "       [0.80832887, 0.87125248, 0.81649297],\n",
       "       [0.76574051, 0.75690973, 0.83428335],\n",
       "       [0.86867213, 0.79259086, 0.80466437],\n",
       "       [0.86569798, 0.86100733, 0.93007636],\n",
       "       [0.78717077, 0.88012105, 0.92705166],\n",
       "       [0.82556754, 0.89397633, 0.82171047],\n",
       "       [0.82390451, 0.86551166, 0.75736612],\n",
       "       [0.78941143, 0.83370227, 0.88638282],\n",
       "       [0.81056702, 0.78182411, 0.93224919],\n",
       "       [0.84771252, 0.86813873, 0.82092863],\n",
       "       [0.82993907, 0.77743715, 0.84516048],\n",
       "       [0.81304491, 0.85721672, 0.76031697],\n",
       "       [0.81503522, 0.76573825, 0.80029345],\n",
       "       [0.82307839, 0.79041576, 0.87203741],\n",
       "       [0.78607142, 0.79941392, 0.80443585],\n",
       "       [0.80819374, 0.88978362, 0.78393495],\n",
       "       [0.77531922, 0.84878498, 0.80866134],\n",
       "       [0.81590551, 0.81312054, 0.80069536],\n",
       "       [0.82132185, 0.7592926 , 0.86728078],\n",
       "       [0.78509372, 0.83666778, 0.79370052],\n",
       "       [0.88892221, 0.81775934, 0.806027  ],\n",
       "       [0.83059669, 0.89229244, 0.83253443],\n",
       "       [0.80936503, 0.90218061, 0.77415168],\n",
       "       [0.91761726, 0.93306863, 0.83209801],\n",
       "       [0.78675121, 0.78068203, 0.77098447],\n",
       "       [0.802719  , 0.80770415, 0.90522838],\n",
       "       [0.77214205, 0.87971908, 0.80468321],\n",
       "       [0.80361295, 0.85109586, 0.8477658 ],\n",
       "       [0.8273294 , 0.9391945 , 0.81015098],\n",
       "       [0.80778223, 0.80757308, 0.79140973],\n",
       "       [0.88943124, 0.7543835 , 0.82912791],\n",
       "       [0.8289268 , 0.76149553, 0.78317839],\n",
       "       [1.05213785, 0.80963176, 0.80507314],\n",
       "       [0.79199308, 0.80020446, 0.87431848],\n",
       "       [0.81557667, 0.84544957, 0.8116439 ],\n",
       "       [0.92725575, 0.84548408, 0.78495431],\n",
       "       [0.97126532, 0.86103445, 0.92782801],\n",
       "       [0.82814711, 0.878223  , 0.80097347],\n",
       "       [0.81081277, 0.8581093 , 0.793365  ],\n",
       "       [0.81809694, 0.81783986, 0.81815648],\n",
       "       [0.80118245, 0.88790727, 0.85627747],\n",
       "       [0.81424326, 0.86891687, 0.83662003],\n",
       "       [0.80062836, 0.7916708 , 0.78500473],\n",
       "       [0.82275867, 0.84478331, 0.79875344]])"
      ]
     },
     "execution_count": 225,
     "metadata": {},
     "output_type": "execute_result"
    }
   ],
   "source": [
    "mol.get_forces_variance()"
   ]
  },
  {
   "cell_type": "code",
   "execution_count": 165,
   "metadata": {},
   "outputs": [
    {
     "data": {
      "text/plain": [
       "array([[0.28246722, 0.2569364 , 0.17697105],\n",
       "       [0.16083393, 0.22986922, 0.22655949],\n",
       "       [0.26595339, 0.19469914, 0.15795645],\n",
       "       [0.21528253, 0.12407764, 0.21884617],\n",
       "       [0.59140593, 0.39451155, 0.44077215],\n",
       "       [0.43508896, 0.30540356, 0.42349371],\n",
       "       [0.74045306, 0.78981966, 0.77597141],\n",
       "       [0.73075187, 0.74705845, 0.75709736],\n",
       "       [0.74937946, 0.74908561, 0.77944779],\n",
       "       [0.75806224, 0.73596281, 0.72551358],\n",
       "       [0.73399311, 0.75456107, 0.74840587],\n",
       "       [0.71749824, 0.728517  , 0.7514413 ],\n",
       "       [0.73656768, 0.74442554, 0.72919828],\n",
       "       [0.73354727, 0.75287962, 0.7241143 ],\n",
       "       [0.73433924, 0.74929017, 0.83233702],\n",
       "       [0.76254344, 0.75875998, 0.77559745],\n",
       "       [0.73451585, 0.77248311, 0.79197532],\n",
       "       [0.74167603, 0.77837813, 0.76843727],\n",
       "       [0.70716739, 0.72476864, 0.71955955],\n",
       "       [0.7083602 , 0.72318393, 0.71659815],\n",
       "       [0.74912465, 0.76287735, 0.77348232],\n",
       "       [0.73211652, 0.74619669, 0.76579893],\n",
       "       [0.75519341, 0.75455219, 0.76504177],\n",
       "       [0.7384541 , 0.77441269, 0.78909934],\n",
       "       [0.75153947, 0.76098382, 0.73967761],\n",
       "       [0.73695886, 0.77031511, 0.74921471],\n",
       "       [0.71828687, 0.71095908, 0.7253986 ],\n",
       "       [0.71026576, 0.71392947, 0.72215325],\n",
       "       [0.73080331, 0.7707454 , 0.77494013],\n",
       "       [0.74052471, 0.77234906, 0.75118363],\n",
       "       [0.73759413, 0.86553895, 0.76788306],\n",
       "       [0.75117254, 0.84565002, 0.79138356],\n",
       "       [0.74407506, 0.73347008, 0.77226675],\n",
       "       [0.72371471, 0.7330507 , 0.78880274],\n",
       "       [0.74374396, 0.75975418, 0.76904529],\n",
       "       [0.73610884, 0.78522635, 0.77241397],\n",
       "       [0.79847693, 0.79970211, 0.77936327],\n",
       "       [0.78355289, 0.76348621, 0.7592411 ],\n",
       "       [0.78747237, 0.75571817, 0.7594623 ],\n",
       "       [0.75510377, 0.75725901, 0.75090361],\n",
       "       [0.74915743, 0.78366774, 0.75810134],\n",
       "       [0.73588854, 0.77417731, 0.7687031 ],\n",
       "       [0.73351169, 0.74540019, 0.7565217 ],\n",
       "       [0.75652385, 0.74510837, 0.74771351],\n",
       "       [0.71118748, 0.7238763 , 0.72444427],\n",
       "       [0.70862746, 0.71928221, 0.71403837],\n",
       "       [0.76802123, 0.7807039 , 0.79163897],\n",
       "       [0.74838197, 0.75261551, 0.74470073],\n",
       "       [0.74568927, 0.75915074, 0.75806499],\n",
       "       [0.74804652, 0.74895179, 0.75392246],\n",
       "       [0.75128347, 0.78089869, 0.82232547],\n",
       "       [0.74378353, 0.76661891, 0.79867935],\n",
       "       [0.77003384, 0.75442135, 0.75203711],\n",
       "       [0.76539195, 0.78045404, 0.7587567 ],\n",
       "       [0.76125395, 0.74997765, 0.77135307],\n",
       "       [0.78408128, 0.81688857, 0.77916479],\n",
       "       [0.7616998 , 0.80043221, 0.75267035],\n",
       "       [0.75933814, 0.76533777, 0.75916404],\n",
       "       [0.76669246, 0.76159841, 0.86177981],\n",
       "       [0.75897145, 0.7927708 , 0.79586154],\n",
       "       [0.79927272, 0.79736131, 0.78349203],\n",
       "       [0.88228917, 0.78860205, 0.77371836],\n",
       "       [0.73947036, 0.78345668, 0.75878179],\n",
       "       [0.74404705, 0.76372492, 0.78608602],\n",
       "       [0.77601027, 0.78123808, 0.76372433],\n",
       "       [0.8211484 , 0.78432119, 0.79023677],\n",
       "       [0.75789267, 0.74173981, 0.76113564],\n",
       "       [0.784944  , 0.78664166, 0.81501555],\n",
       "       [0.76096565, 0.79611975, 0.76514864],\n",
       "       [0.75729394, 0.78829414, 0.75794882],\n",
       "       [0.78874576, 0.78861761, 0.7697171 ],\n",
       "       [0.82433116, 0.80192351, 0.75769073],\n",
       "       [0.75090766, 0.76017797, 0.75807166],\n",
       "       [0.79068637, 0.76875782, 0.75844759],\n",
       "       [0.75517827, 0.75256926, 0.77594769],\n",
       "       [0.76614124, 0.77943337, 0.79582942],\n",
       "       [0.77616161, 0.75644404, 0.75496203],\n",
       "       [0.80547923, 0.80775183, 0.80727506],\n",
       "       [0.76091027, 0.73856932, 0.74018204],\n",
       "       [0.76578623, 0.77533233, 0.77276218],\n",
       "       [0.74393713, 0.76422447, 0.81658071],\n",
       "       [0.74139267, 0.75941968, 0.76528263],\n",
       "       [0.75302726, 0.74763501, 0.77229708],\n",
       "       [0.75404513, 0.74798536, 0.76427662],\n",
       "       [0.76147246, 0.7651844 , 0.77048349],\n",
       "       [0.75712436, 0.76432067, 0.76513451],\n",
       "       [0.77562857, 0.77521241, 0.75625736],\n",
       "       [0.7957629 , 0.77809358, 0.7609812 ],\n",
       "       [0.77721786, 0.77730113, 0.76785779],\n",
       "       [0.7589767 , 0.78748155, 0.76828676],\n",
       "       [0.75716519, 0.77459854, 0.78491759],\n",
       "       [0.77264988, 0.7500897 , 0.7617566 ],\n",
       "       [0.802149  , 0.76104367, 0.76978099],\n",
       "       [0.80143768, 0.77561867, 0.82599652],\n",
       "       [0.76114625, 0.84319037, 0.76077604],\n",
       "       [0.7585451 , 0.74481785, 0.83957422],\n",
       "       [0.78315073, 0.75596809, 0.94800496],\n",
       "       [0.75510192, 0.74701381, 0.81382871],\n",
       "       [0.82283688, 0.82069206, 0.76544452],\n",
       "       [0.75344014, 0.78770345, 0.8045789 ],\n",
       "       [0.78896868, 0.76185781, 0.76532847],\n",
       "       [0.80924356, 0.77226132, 0.8052482 ],\n",
       "       [0.72741789, 0.76675159, 0.80508411],\n",
       "       [0.75163692, 0.74958283, 0.74739838],\n",
       "       [0.72371399, 0.74837065, 0.75453722],\n",
       "       [0.75237435, 0.77547818, 0.73940605],\n",
       "       [0.78671622, 0.74738568, 0.74788779],\n",
       "       [0.74931562, 0.73105574, 0.75046998],\n",
       "       [0.76452875, 0.8125357 , 0.76818687],\n",
       "       [0.76673979, 0.75727421, 0.73478752],\n",
       "       [0.79440367, 0.78411251, 0.77636731],\n",
       "       [0.75930995, 0.79685581, 0.78831762],\n",
       "       [0.8313362 , 0.77121317, 0.80384761],\n",
       "       [0.77587712, 0.80717552, 0.8015117 ],\n",
       "       [0.75477874, 0.81677639, 0.90636694],\n",
       "       [0.80104113, 0.83697641, 0.79939628],\n",
       "       [0.80744123, 0.86582994, 0.92998552],\n",
       "       [0.82262051, 0.80119234, 0.85015011],\n",
       "       [0.75915337, 0.7986415 , 0.8146069 ],\n",
       "       [0.73446763, 0.77205896, 0.84694785],\n",
       "       [0.73977357, 0.77657282, 0.79089034],\n",
       "       [0.76676911, 0.78005981, 0.80846465],\n",
       "       [0.75926983, 0.78382182, 0.7407043 ],\n",
       "       [0.76733238, 0.87993914, 0.81381112],\n",
       "       [0.7316044 , 0.81016898, 0.82298201],\n",
       "       [0.73639315, 0.84579104, 0.80947798],\n",
       "       [0.83057177, 0.87351292, 0.81640911],\n",
       "       [0.75387222, 0.94304216, 0.83487099],\n",
       "       [0.81403422, 0.93604767, 0.92911899],\n",
       "       [0.75849509, 0.82475889, 1.031703  ],\n",
       "       [0.85550022, 0.77313977, 0.7689563 ],\n",
       "       [0.82054561, 0.80235517, 0.75847518],\n",
       "       [0.74021488, 0.91208184, 0.75526178],\n",
       "       [0.80972588, 0.96278346, 0.75924557],\n",
       "       [0.72580451, 0.83108068, 0.85612828],\n",
       "       [0.74357057, 0.79548299, 0.78102845],\n",
       "       [0.76775938, 0.81448424, 0.84405756],\n",
       "       [0.7940551 , 0.83905327, 0.77607691],\n",
       "       [0.81002665, 0.79075003, 0.83392227],\n",
       "       [0.8109743 , 0.78040451, 0.81211072],\n",
       "       [0.77171171, 0.84906626, 0.81099361],\n",
       "       [0.82529449, 0.89524186, 0.79729903],\n",
       "       [0.90754622, 0.79861146, 0.77360344],\n",
       "       [0.85314327, 0.78635514, 0.76942122],\n",
       "       [0.77550501, 0.84710026, 0.82888061],\n",
       "       [0.77993304, 0.83021188, 0.837529  ],\n",
       "       [0.88462728, 0.83810401, 0.83298248],\n",
       "       [0.77909321, 0.8006748 , 0.85609329],\n",
       "       [0.89950764, 0.87845188, 0.81153542],\n",
       "       [0.9394896 , 0.82633001, 0.86058891],\n",
       "       [1.04902911, 0.78789204, 0.92533147],\n",
       "       [1.07664788, 0.81131005, 0.9819808 ],\n",
       "       [0.77261323, 0.8395555 , 0.85761631],\n",
       "       [0.83625931, 0.85046393, 0.75079399],\n",
       "       [0.79790425, 0.81103528, 0.83457392],\n",
       "       [0.78015655, 0.76294863, 0.79717165],\n",
       "       [0.78893065, 0.7832132 , 0.90891969],\n",
       "       [0.84867299, 0.76085109, 0.8904112 ],\n",
       "       [0.87341607, 0.87412405, 0.81503695],\n",
       "       [0.87825263, 0.84945524, 0.8972733 ],\n",
       "       [0.78933197, 0.81813598, 0.79969203],\n",
       "       [0.78025752, 0.8155117 , 0.77324438],\n",
       "       [0.8481403 , 0.78869653, 0.77882487],\n",
       "       [0.90782619, 0.77779543, 0.82089263],\n",
       "       [0.76689953, 0.9299655 , 0.97148061],\n",
       "       [0.78844059, 0.89310026, 0.91605937],\n",
       "       [0.77931827, 0.84062314, 0.81749797],\n",
       "       [0.77504319, 0.78152221, 0.82264721],\n",
       "       [0.88706964, 0.80136424, 0.85884482],\n",
       "       [0.94845033, 0.83847749, 0.83892268],\n",
       "       [0.77870506, 0.81617945, 0.82775652],\n",
       "       [0.88485312, 0.8242979 , 0.90474927],\n",
       "       [0.87513363, 0.83052111, 0.84063864],\n",
       "       [0.79157341, 0.8899138 , 0.87708795],\n",
       "       [0.90187734, 0.83210957, 0.75293243],\n",
       "       [0.85433209, 0.88797808, 0.92129451],\n",
       "       [0.87462884, 0.91674316, 0.80217367],\n",
       "       [0.78614891, 0.80551028, 0.83533144],\n",
       "       [0.76869011, 0.81957752, 0.82080585],\n",
       "       [0.83980942, 0.76845413, 0.7725774 ],\n",
       "       [0.91044205, 0.98561078, 0.79208672],\n",
       "       [0.86046714, 0.96116   , 0.78583819],\n",
       "       [0.94525373, 0.78524029, 0.7629652 ],\n",
       "       [0.8365044 , 0.78889102, 0.89914471],\n",
       "       [0.80372167, 0.79300076, 0.91473198],\n",
       "       [0.95757389, 0.83449483, 0.9021374 ],\n",
       "       [0.80477983, 0.90173852, 0.81550324],\n",
       "       [0.8094008 , 0.78315985, 0.82414669],\n",
       "       [0.77644217, 0.81481469, 0.77052623],\n",
       "       [0.79529381, 0.88746512, 0.74910843],\n",
       "       [0.83112085, 0.89564925, 0.78598857],\n",
       "       [0.83353418, 0.87886429, 0.80122775],\n",
       "       [0.78266251, 0.79598206, 0.8426258 ],\n",
       "       [0.75293463, 0.83763212, 0.88356149],\n",
       "       [0.83477193, 0.91631019, 0.79177308],\n",
       "       [0.84367943, 0.80841935, 0.7820555 ],\n",
       "       [0.80953205, 0.78708017, 0.77124661],\n",
       "       [0.806463  , 0.81399143, 0.81934178],\n",
       "       [0.82263792, 0.77559042, 0.80598539],\n",
       "       [0.78174996, 0.824494  , 0.80800217],\n",
       "       [0.87462884, 0.82368368, 0.87066591],\n",
       "       [0.87690556, 0.82977176, 0.84010971],\n",
       "       [0.79863477, 0.80459249, 0.78170872],\n",
       "       [0.85744381, 0.83296525, 0.82162589],\n",
       "       [0.77306724, 0.84025168, 0.84008968],\n",
       "       [0.80379164, 0.80446869, 0.78663093],\n",
       "       [0.78103447, 0.88612676, 0.83106226],\n",
       "       [0.79196459, 0.91451699, 0.86383295],\n",
       "       [0.81920707, 0.83610797, 0.837731  ],\n",
       "       [0.78302801, 0.80231768, 0.83932203],\n",
       "       [0.84513855, 0.80807942, 0.74847728],\n",
       "       [0.92945063, 0.81588507, 0.75905442],\n",
       "       [0.77692157, 0.79751217, 0.81788778],\n",
       "       [0.81877118, 0.84577262, 0.84439123],\n",
       "       [0.79940611, 0.84200436, 0.85404664],\n",
       "       [0.86082888, 0.84980208, 0.87093294],\n",
       "       [0.78683138, 0.83091497, 0.86281538],\n",
       "       [0.80593574, 0.77457929, 0.88183486],\n",
       "       [0.91145277, 0.83894646, 0.85090274],\n",
       "       [0.9050315 , 0.86554098, 0.84566027],\n",
       "       [0.80832887, 0.87125248, 0.81649297],\n",
       "       [0.76574051, 0.75690973, 0.83428335],\n",
       "       [0.86867213, 0.79259086, 0.80466437],\n",
       "       [0.86569798, 0.86100733, 0.93007636],\n",
       "       [0.78717077, 0.88012105, 0.92705166],\n",
       "       [0.82556754, 0.89397633, 0.82171047],\n",
       "       [0.82390451, 0.86551166, 0.75736612],\n",
       "       [0.78941143, 0.83370227, 0.88638282],\n",
       "       [0.81056702, 0.78182411, 0.93224919],\n",
       "       [0.84771252, 0.86813873, 0.82092863],\n",
       "       [0.82993907, 0.77743715, 0.84516048],\n",
       "       [0.81304491, 0.85721672, 0.76031697],\n",
       "       [0.81503522, 0.76573825, 0.80029345],\n",
       "       [0.82307839, 0.79041576, 0.87203741],\n",
       "       [0.78607142, 0.79941392, 0.80443585],\n",
       "       [0.80819374, 0.88978362, 0.78393495],\n",
       "       [0.77531922, 0.84878498, 0.80866134],\n",
       "       [0.81590551, 0.81312054, 0.80069536],\n",
       "       [0.82132185, 0.7592926 , 0.86728078],\n",
       "       [0.78509372, 0.83666778, 0.79370052],\n",
       "       [0.88892221, 0.81775934, 0.806027  ],\n",
       "       [0.83059669, 0.89229244, 0.83253443],\n",
       "       [0.80936503, 0.90218061, 0.77415168],\n",
       "       [0.91761726, 0.93306863, 0.83209801],\n",
       "       [0.78675121, 0.78068203, 0.77098447],\n",
       "       [0.802719  , 0.80770415, 0.90522838],\n",
       "       [0.77214205, 0.87971908, 0.80468321],\n",
       "       [0.80361295, 0.85109586, 0.8477658 ],\n",
       "       [0.8273294 , 0.9391945 , 0.81015098],\n",
       "       [0.80778223, 0.80757308, 0.79140973],\n",
       "       [0.88943124, 0.7543835 , 0.82912791],\n",
       "       [0.8289268 , 0.76149553, 0.78317839],\n",
       "       [1.05213785, 0.80963176, 0.80507314],\n",
       "       [0.79199308, 0.80020446, 0.87431848],\n",
       "       [0.81557667, 0.84544957, 0.8116439 ],\n",
       "       [0.92725575, 0.84548408, 0.78495431],\n",
       "       [0.97126532, 0.86103445, 0.92782801],\n",
       "       [0.82814711, 0.878223  , 0.80097347],\n",
       "       [0.81081277, 0.8581093 , 0.793365  ],\n",
       "       [0.81809694, 0.81783986, 0.81815648],\n",
       "       [0.80118245, 0.88790727, 0.85627747],\n",
       "       [0.81424326, 0.86891687, 0.83662003],\n",
       "       [0.80062836, 0.7916708 , 0.78500473],\n",
       "       [0.82275867, 0.84478331, 0.79875344]])"
      ]
     },
     "execution_count": 165,
     "metadata": {},
     "output_type": "execute_result"
    }
   ],
   "source": [
    "mol.get_forces_variance()"
   ]
  },
  {
   "cell_type": "code",
   "execution_count": 153,
   "metadata": {},
   "outputs": [
    {
     "name": "stderr",
     "output_type": "stream",
     "text": [
      "/misc/home/qklmn/repos/rotor-gp/code/../../fande/fande/predict/predictors_ase.py:571: UserWarning:\n",
      "\n",
      "Calculating invariants...\n",
      "\n"
     ]
    },
    {
     "name": "stdout",
     "output_type": "stream",
     "text": [
      "Total number of frames is 1\n",
      "Total number of batches is 1\n",
      "Total length of traj is 1\n",
      "Total number of batches 1\n",
      "Calculating invariants on trajectory with librascal...\n"
     ]
    },
    {
     "name": "stderr",
     "output_type": "stream",
     "text": [
      "100%|██████████| 1/1 [00:00<00:00,  2.68it/s]\n",
      "/misc/home/qklmn/repos/rotor-gp/code/../../fande/fande/predict/predictors_ase.py:595: UserWarning:\n",
      "\n",
      "Predicting...\n",
      "\n"
     ]
    },
    {
     "data": {
      "text/plain": [
       "array([[0.28246722, 0.2569364 , 0.17697105],\n",
       "       [0.16083393, 0.22986922, 0.22655949],\n",
       "       [0.26595339, 0.19469914, 0.15795645],\n",
       "       [0.21528253, 0.12407764, 0.21884617],\n",
       "       [0.59140593, 0.39451155, 0.44077215],\n",
       "       [0.43508896, 0.30540356, 0.42349371],\n",
       "       [0.74045306, 0.78981966, 0.77597141],\n",
       "       [0.73075187, 0.74705845, 0.75709736],\n",
       "       [0.74937946, 0.74908561, 0.77944779],\n",
       "       [0.75806224, 0.73596281, 0.72551358],\n",
       "       [0.73399311, 0.75456107, 0.74840587],\n",
       "       [0.71749824, 0.728517  , 0.7514413 ],\n",
       "       [0.73656768, 0.74442554, 0.72919828],\n",
       "       [0.73354727, 0.75287962, 0.7241143 ],\n",
       "       [0.73433924, 0.74929017, 0.83233702],\n",
       "       [0.76254344, 0.75875998, 0.77559745],\n",
       "       [0.73451585, 0.77248311, 0.79197532],\n",
       "       [0.74167603, 0.77837813, 0.76843727],\n",
       "       [0.70716739, 0.72476864, 0.71955955],\n",
       "       [0.7083602 , 0.72318393, 0.71659815],\n",
       "       [0.74912465, 0.76287735, 0.77348232],\n",
       "       [0.73211652, 0.74619669, 0.76579893],\n",
       "       [0.75519341, 0.75455219, 0.76504177],\n",
       "       [0.7384541 , 0.77441269, 0.78909934],\n",
       "       [0.75153947, 0.76098382, 0.73967761],\n",
       "       [0.73695886, 0.77031511, 0.74921471],\n",
       "       [0.71828687, 0.71095908, 0.7253986 ],\n",
       "       [0.71026576, 0.71392947, 0.72215325],\n",
       "       [0.73080331, 0.7707454 , 0.77494013],\n",
       "       [0.74052471, 0.77234906, 0.75118363],\n",
       "       [0.73759413, 0.86553895, 0.76788306],\n",
       "       [0.75117254, 0.84565002, 0.79138356],\n",
       "       [0.74407506, 0.73347008, 0.77226675],\n",
       "       [0.72371471, 0.7330507 , 0.78880274],\n",
       "       [0.74374396, 0.75975418, 0.76904529],\n",
       "       [0.73610884, 0.78522635, 0.77241397],\n",
       "       [0.79847693, 0.79970211, 0.77936327],\n",
       "       [0.78355289, 0.76348621, 0.7592411 ],\n",
       "       [0.78747237, 0.75571817, 0.7594623 ],\n",
       "       [0.75510377, 0.75725901, 0.75090361],\n",
       "       [0.74915743, 0.78366774, 0.75810134],\n",
       "       [0.73588854, 0.77417731, 0.7687031 ],\n",
       "       [0.73351169, 0.74540019, 0.7565217 ],\n",
       "       [0.75652385, 0.74510837, 0.74771351],\n",
       "       [0.71118748, 0.7238763 , 0.72444427],\n",
       "       [0.70862746, 0.71928221, 0.71403837],\n",
       "       [0.76802123, 0.7807039 , 0.79163897],\n",
       "       [0.74838197, 0.75261551, 0.74470073],\n",
       "       [0.74568927, 0.75915074, 0.75806499],\n",
       "       [0.74804652, 0.74895179, 0.75392246],\n",
       "       [0.75128347, 0.78089869, 0.82232547],\n",
       "       [0.74378353, 0.76661891, 0.79867935],\n",
       "       [0.77003384, 0.75442135, 0.75203711],\n",
       "       [0.76539195, 0.78045404, 0.7587567 ],\n",
       "       [0.76125395, 0.74997765, 0.77135307],\n",
       "       [0.78408128, 0.81688857, 0.77916479],\n",
       "       [0.7616998 , 0.80043221, 0.75267035],\n",
       "       [0.75933814, 0.76533777, 0.75916404],\n",
       "       [0.76669246, 0.76159841, 0.86177981],\n",
       "       [0.75897145, 0.7927708 , 0.79586154],\n",
       "       [0.79927272, 0.79736131, 0.78349203],\n",
       "       [0.88228917, 0.78860205, 0.77371836],\n",
       "       [0.73947036, 0.78345668, 0.75878179],\n",
       "       [0.74404705, 0.76372492, 0.78608602],\n",
       "       [0.77601027, 0.78123808, 0.76372433],\n",
       "       [0.8211484 , 0.78432119, 0.79023677],\n",
       "       [0.75789267, 0.74173981, 0.76113564],\n",
       "       [0.784944  , 0.78664166, 0.81501555],\n",
       "       [0.76096565, 0.79611975, 0.76514864],\n",
       "       [0.75729394, 0.78829414, 0.75794882],\n",
       "       [0.78874576, 0.78861761, 0.7697171 ],\n",
       "       [0.82433116, 0.80192351, 0.75769073],\n",
       "       [0.75090766, 0.76017797, 0.75807166],\n",
       "       [0.79068637, 0.76875782, 0.75844759],\n",
       "       [0.75517827, 0.75256926, 0.77594769],\n",
       "       [0.76614124, 0.77943337, 0.79582942],\n",
       "       [0.77616161, 0.75644404, 0.75496203],\n",
       "       [0.80547923, 0.80775183, 0.80727506],\n",
       "       [0.76091027, 0.73856932, 0.74018204],\n",
       "       [0.76578623, 0.77533233, 0.77276218],\n",
       "       [0.74393713, 0.76422447, 0.81658071],\n",
       "       [0.74139267, 0.75941968, 0.76528263],\n",
       "       [0.75302726, 0.74763501, 0.77229708],\n",
       "       [0.75404513, 0.74798536, 0.76427662],\n",
       "       [0.76147246, 0.7651844 , 0.77048349],\n",
       "       [0.75712436, 0.76432067, 0.76513451],\n",
       "       [0.77562857, 0.77521241, 0.75625736],\n",
       "       [0.7957629 , 0.77809358, 0.7609812 ],\n",
       "       [0.77721786, 0.77730113, 0.76785779],\n",
       "       [0.7589767 , 0.78748155, 0.76828676],\n",
       "       [0.75716519, 0.77459854, 0.78491759],\n",
       "       [0.77264988, 0.7500897 , 0.7617566 ],\n",
       "       [0.802149  , 0.76104367, 0.76978099],\n",
       "       [0.80143768, 0.77561867, 0.82599652],\n",
       "       [0.76114625, 0.84319037, 0.76077604],\n",
       "       [0.7585451 , 0.74481785, 0.83957422],\n",
       "       [0.78315073, 0.75596809, 0.94800496],\n",
       "       [0.75510192, 0.74701381, 0.81382871],\n",
       "       [0.82283688, 0.82069206, 0.76544452],\n",
       "       [0.75344014, 0.78770345, 0.8045789 ],\n",
       "       [0.78896868, 0.76185781, 0.76532847],\n",
       "       [0.80924356, 0.77226132, 0.8052482 ],\n",
       "       [0.72741789, 0.76675159, 0.80508411],\n",
       "       [0.75163692, 0.74958283, 0.74739838],\n",
       "       [0.72371399, 0.74837065, 0.75453722],\n",
       "       [0.75237435, 0.77547818, 0.73940605],\n",
       "       [0.78671622, 0.74738568, 0.74788779],\n",
       "       [0.74931562, 0.73105574, 0.75046998],\n",
       "       [0.76452875, 0.8125357 , 0.76818687],\n",
       "       [0.76673979, 0.75727421, 0.73478752],\n",
       "       [0.79440367, 0.78411251, 0.77636731],\n",
       "       [0.75930995, 0.79685581, 0.78831762],\n",
       "       [0.8313362 , 0.77121317, 0.80384761],\n",
       "       [0.77587712, 0.80717552, 0.8015117 ],\n",
       "       [0.75477874, 0.81677639, 0.90636694],\n",
       "       [0.80104113, 0.83697641, 0.79939628],\n",
       "       [0.80744123, 0.86582994, 0.92998552],\n",
       "       [0.82262051, 0.80119234, 0.85015011],\n",
       "       [0.75915337, 0.7986415 , 0.8146069 ],\n",
       "       [0.73446763, 0.77205896, 0.84694785],\n",
       "       [0.73977357, 0.77657282, 0.79089034],\n",
       "       [0.76676911, 0.78005981, 0.80846465],\n",
       "       [0.75926983, 0.78382182, 0.7407043 ],\n",
       "       [0.76733238, 0.87993914, 0.81381112],\n",
       "       [0.7316044 , 0.81016898, 0.82298201],\n",
       "       [0.73639315, 0.84579104, 0.80947798],\n",
       "       [0.83057177, 0.87351292, 0.81640911],\n",
       "       [0.75387222, 0.94304216, 0.83487099],\n",
       "       [0.81403422, 0.93604767, 0.92911899],\n",
       "       [0.75849509, 0.82475889, 1.031703  ],\n",
       "       [0.85550022, 0.77313977, 0.7689563 ],\n",
       "       [0.82054561, 0.80235517, 0.75847518],\n",
       "       [0.74021488, 0.91208184, 0.75526178],\n",
       "       [0.80972588, 0.96278346, 0.75924557],\n",
       "       [0.72580451, 0.83108068, 0.85612828],\n",
       "       [0.74357057, 0.79548299, 0.78102845],\n",
       "       [0.76775938, 0.81448424, 0.84405756],\n",
       "       [0.7940551 , 0.83905327, 0.77607691],\n",
       "       [0.81002665, 0.79075003, 0.83392227],\n",
       "       [0.8109743 , 0.78040451, 0.81211072],\n",
       "       [0.77171171, 0.84906626, 0.81099361],\n",
       "       [0.82529449, 0.89524186, 0.79729903],\n",
       "       [0.90754622, 0.79861146, 0.77360344],\n",
       "       [0.85314327, 0.78635514, 0.76942122],\n",
       "       [0.77550501, 0.84710026, 0.82888061],\n",
       "       [0.77993304, 0.83021188, 0.837529  ],\n",
       "       [0.88462728, 0.83810401, 0.83298248],\n",
       "       [0.77909321, 0.8006748 , 0.85609329],\n",
       "       [0.89950764, 0.87845188, 0.81153542],\n",
       "       [0.9394896 , 0.82633001, 0.86058891],\n",
       "       [1.04902911, 0.78789204, 0.92533147],\n",
       "       [1.07664788, 0.81131005, 0.9819808 ],\n",
       "       [0.77261323, 0.8395555 , 0.85761631],\n",
       "       [0.83625931, 0.85046393, 0.75079399],\n",
       "       [0.79790425, 0.81103528, 0.83457392],\n",
       "       [0.78015655, 0.76294863, 0.79717165],\n",
       "       [0.78893065, 0.7832132 , 0.90891969],\n",
       "       [0.84867299, 0.76085109, 0.8904112 ],\n",
       "       [0.87341607, 0.87412405, 0.81503695],\n",
       "       [0.87825263, 0.84945524, 0.8972733 ],\n",
       "       [0.78933197, 0.81813598, 0.79969203],\n",
       "       [0.78025752, 0.8155117 , 0.77324438],\n",
       "       [0.8481403 , 0.78869653, 0.77882487],\n",
       "       [0.90782619, 0.77779543, 0.82089263],\n",
       "       [0.76689953, 0.9299655 , 0.97148061],\n",
       "       [0.78844059, 0.89310026, 0.91605937],\n",
       "       [0.77931827, 0.84062314, 0.81749797],\n",
       "       [0.77504319, 0.78152221, 0.82264721],\n",
       "       [0.88706964, 0.80136424, 0.85884482],\n",
       "       [0.94845033, 0.83847749, 0.83892268],\n",
       "       [0.77870506, 0.81617945, 0.82775652],\n",
       "       [0.88485312, 0.8242979 , 0.90474927],\n",
       "       [0.87513363, 0.83052111, 0.84063864],\n",
       "       [0.79157341, 0.8899138 , 0.87708795],\n",
       "       [0.90187734, 0.83210957, 0.75293243],\n",
       "       [0.85433209, 0.88797808, 0.92129451],\n",
       "       [0.87462884, 0.91674316, 0.80217367],\n",
       "       [0.78614891, 0.80551028, 0.83533144],\n",
       "       [0.76869011, 0.81957752, 0.82080585],\n",
       "       [0.83980942, 0.76845413, 0.7725774 ],\n",
       "       [0.91044205, 0.98561078, 0.79208672],\n",
       "       [0.86046714, 0.96116   , 0.78583819],\n",
       "       [0.94525373, 0.78524029, 0.7629652 ],\n",
       "       [0.8365044 , 0.78889102, 0.89914471],\n",
       "       [0.80372167, 0.79300076, 0.91473198],\n",
       "       [0.95757389, 0.83449483, 0.9021374 ],\n",
       "       [0.80477983, 0.90173852, 0.81550324],\n",
       "       [0.8094008 , 0.78315985, 0.82414669],\n",
       "       [0.77644217, 0.81481469, 0.77052623],\n",
       "       [0.79529381, 0.88746512, 0.74910843],\n",
       "       [0.83112085, 0.89564925, 0.78598857],\n",
       "       [0.83353418, 0.87886429, 0.80122775],\n",
       "       [0.78266251, 0.79598206, 0.8426258 ],\n",
       "       [0.75293463, 0.83763212, 0.88356149],\n",
       "       [0.83477193, 0.91631019, 0.79177308],\n",
       "       [0.84367943, 0.80841935, 0.7820555 ],\n",
       "       [0.80953205, 0.78708017, 0.77124661],\n",
       "       [0.806463  , 0.81399143, 0.81934178],\n",
       "       [0.82263792, 0.77559042, 0.80598539],\n",
       "       [0.78174996, 0.824494  , 0.80800217],\n",
       "       [0.87462884, 0.82368368, 0.87066591],\n",
       "       [0.87690556, 0.82977176, 0.84010971],\n",
       "       [0.79863477, 0.80459249, 0.78170872],\n",
       "       [0.85744381, 0.83296525, 0.82162589],\n",
       "       [0.77306724, 0.84025168, 0.84008968],\n",
       "       [0.80379164, 0.80446869, 0.78663093],\n",
       "       [0.78103447, 0.88612676, 0.83106226],\n",
       "       [0.79196459, 0.91451699, 0.86383295],\n",
       "       [0.81920707, 0.83610797, 0.837731  ],\n",
       "       [0.78302801, 0.80231768, 0.83932203],\n",
       "       [0.84513855, 0.80807942, 0.74847728],\n",
       "       [0.92945063, 0.81588507, 0.75905442],\n",
       "       [0.77692157, 0.79751217, 0.81788778],\n",
       "       [0.81877118, 0.84577262, 0.84439123],\n",
       "       [0.79940611, 0.84200436, 0.85404664],\n",
       "       [0.86082888, 0.84980208, 0.87093294],\n",
       "       [0.78683138, 0.83091497, 0.86281538],\n",
       "       [0.80593574, 0.77457929, 0.88183486],\n",
       "       [0.91145277, 0.83894646, 0.85090274],\n",
       "       [0.9050315 , 0.86554098, 0.84566027],\n",
       "       [0.80832887, 0.87125248, 0.81649297],\n",
       "       [0.76574051, 0.75690973, 0.83428335],\n",
       "       [0.86867213, 0.79259086, 0.80466437],\n",
       "       [0.86569798, 0.86100733, 0.93007636],\n",
       "       [0.78717077, 0.88012105, 0.92705166],\n",
       "       [0.82556754, 0.89397633, 0.82171047],\n",
       "       [0.82390451, 0.86551166, 0.75736612],\n",
       "       [0.78941143, 0.83370227, 0.88638282],\n",
       "       [0.81056702, 0.78182411, 0.93224919],\n",
       "       [0.84771252, 0.86813873, 0.82092863],\n",
       "       [0.82993907, 0.77743715, 0.84516048],\n",
       "       [0.81304491, 0.85721672, 0.76031697],\n",
       "       [0.81503522, 0.76573825, 0.80029345],\n",
       "       [0.82307839, 0.79041576, 0.87203741],\n",
       "       [0.78607142, 0.79941392, 0.80443585],\n",
       "       [0.80819374, 0.88978362, 0.78393495],\n",
       "       [0.77531922, 0.84878498, 0.80866134],\n",
       "       [0.81590551, 0.81312054, 0.80069536],\n",
       "       [0.82132185, 0.7592926 , 0.86728078],\n",
       "       [0.78509372, 0.83666778, 0.79370052],\n",
       "       [0.88892221, 0.81775934, 0.806027  ],\n",
       "       [0.83059669, 0.89229244, 0.83253443],\n",
       "       [0.80936503, 0.90218061, 0.77415168],\n",
       "       [0.91761726, 0.93306863, 0.83209801],\n",
       "       [0.78675121, 0.78068203, 0.77098447],\n",
       "       [0.802719  , 0.80770415, 0.90522838],\n",
       "       [0.77214205, 0.87971908, 0.80468321],\n",
       "       [0.80361295, 0.85109586, 0.8477658 ],\n",
       "       [0.8273294 , 0.9391945 , 0.81015098],\n",
       "       [0.80778223, 0.80757308, 0.79140973],\n",
       "       [0.88943124, 0.7543835 , 0.82912791],\n",
       "       [0.8289268 , 0.76149553, 0.78317839],\n",
       "       [1.05213785, 0.80963176, 0.80507314],\n",
       "       [0.79199308, 0.80020446, 0.87431848],\n",
       "       [0.81557667, 0.84544957, 0.8116439 ],\n",
       "       [0.92725575, 0.84548408, 0.78495431],\n",
       "       [0.97126532, 0.86103445, 0.92782801],\n",
       "       [0.82814711, 0.878223  , 0.80097347],\n",
       "       [0.81081277, 0.8581093 , 0.793365  ],\n",
       "       [0.81809694, 0.81783986, 0.81815648],\n",
       "       [0.80118245, 0.88790727, 0.85627747],\n",
       "       [0.81424326, 0.86891687, 0.83662003],\n",
       "       [0.80062836, 0.7916708 , 0.78500473],\n",
       "       [0.82275867, 0.84478331, 0.79875344]])"
      ]
     },
     "execution_count": 153,
     "metadata": {},
     "output_type": "execute_result"
    }
   ],
   "source": [
    "mol.calc.get_forces_variance(mol)"
   ]
  },
  {
   "cell_type": "markdown",
   "metadata": {},
   "source": [
    "## Compute MD with ML model"
   ]
  },
  {
   "cell_type": "code",
   "execution_count": 51,
   "metadata": {},
   "outputs": [
    {
     "name": "stdout",
     "output_type": "stream",
     "text": [
      "Testing performance with (meta-)dynamics run...\n"
     ]
    },
    {
     "name": "stderr",
     "output_type": "stream",
     "text": [
      "/misc/home/qklmn/repos/rotor-gp/code/../../fande/fande/predict/predictors_ase.py:571: UserWarning:\n",
      "\n",
      "Calculating invariants...\n",
      "\n"
     ]
    },
    {
     "name": "stdout",
     "output_type": "stream",
     "text": [
      "Total number of frames is 1\n",
      "Total number of batches is 1\n",
      "Total length of traj is 1\n",
      "Total number of batches 1\n",
      "Calculating invariants on trajectory with librascal...\n"
     ]
    },
    {
     "name": "stderr",
     "output_type": "stream",
     "text": [
      "100%|██████████| 1/1 [00:00<00:00,  5.10it/s]\n",
      "/misc/home/qklmn/repos/rotor-gp/code/../../fande/fande/predict/predictors_ase.py:595: UserWarning:\n",
      "\n",
      "Predicting...\n",
      "\n"
     ]
    },
    {
     "name": "stdout",
     "output_type": "stream",
     "text": [
      "Total number of frames is 1\n",
      "Total number of batches is 1\n",
      "Total length of traj is 1\n",
      "Total number of batches 1\n",
      "Calculating invariants on trajectory with librascal...\n"
     ]
    },
    {
     "name": "stderr",
     "output_type": "stream",
     "text": [
      "100%|██████████| 1/1 [00:00<00:00,  3.37it/s]\n"
     ]
    },
    {
     "name": "stdout",
     "output_type": "stream",
     "text": [
      "Total number of frames is 1\n",
      "Total number of batches is 1\n",
      "Total length of traj is 1\n",
      "Total number of batches 1\n",
      "Calculating invariants on trajectory with librascal...\n"
     ]
    },
    {
     "name": "stderr",
     "output_type": "stream",
     "text": [
      "100%|██████████| 1/1 [00:00<00:00,  3.35it/s]\n"
     ]
    },
    {
     "name": "stdout",
     "output_type": "stream",
     "text": [
      "Total number of frames is 1\n",
      "Total number of batches is 1\n",
      "Total length of traj is 1\n",
      "Total number of batches 1\n",
      "Calculating invariants on trajectory with librascal...\n"
     ]
    },
    {
     "name": "stderr",
     "output_type": "stream",
     "text": [
      "100%|██████████| 1/1 [00:00<00:00,  3.74it/s]\n"
     ]
    },
    {
     "name": "stdout",
     "output_type": "stream",
     "text": [
      "Total number of frames is 1\n",
      "Total number of batches is 1\n",
      "Total length of traj is 1\n",
      "Total number of batches 1\n",
      "Calculating invariants on trajectory with librascal...\n"
     ]
    },
    {
     "name": "stderr",
     "output_type": "stream",
     "text": [
      "100%|██████████| 1/1 [00:00<00:00,  4.09it/s]\n"
     ]
    },
    {
     "name": "stdout",
     "output_type": "stream",
     "text": [
      "Total number of frames is 1\n",
      "Total number of batches is 1\n",
      "Total length of traj is 1\n",
      "Total number of batches 1\n",
      "Calculating invariants on trajectory with librascal...\n"
     ]
    },
    {
     "name": "stderr",
     "output_type": "stream",
     "text": [
      "100%|██████████| 1/1 [00:00<00:00,  5.19it/s]\n"
     ]
    },
    {
     "name": "stdout",
     "output_type": "stream",
     "text": [
      "Total number of frames is 1\n",
      "Total number of batches is 1\n",
      "Total length of traj is 1\n",
      "Total number of batches 1\n",
      "Calculating invariants on trajectory with librascal...\n"
     ]
    },
    {
     "name": "stderr",
     "output_type": "stream",
     "text": [
      "100%|██████████| 1/1 [00:00<00:00,  5.16it/s]\n"
     ]
    },
    {
     "name": "stdout",
     "output_type": "stream",
     "text": [
      "Total number of frames is 1\n",
      "Total number of batches is 1\n",
      "Total length of traj is 1\n",
      "Total number of batches 1\n",
      "Calculating invariants on trajectory with librascal...\n"
     ]
    },
    {
     "name": "stderr",
     "output_type": "stream",
     "text": [
      "100%|██████████| 1/1 [00:00<00:00,  5.14it/s]\n"
     ]
    },
    {
     "name": "stdout",
     "output_type": "stream",
     "text": [
      "Total number of frames is 1\n",
      "Total number of batches is 1\n",
      "Total length of traj is 1\n",
      "Total number of batches 1\n",
      "Calculating invariants on trajectory with librascal...\n"
     ]
    },
    {
     "name": "stderr",
     "output_type": "stream",
     "text": [
      "100%|██████████| 1/1 [00:00<00:00,  5.18it/s]\n"
     ]
    },
    {
     "name": "stdout",
     "output_type": "stream",
     "text": [
      "Total number of frames is 1\n",
      "Total number of batches is 1\n",
      "Total length of traj is 1\n",
      "Total number of batches 1\n",
      "Calculating invariants on trajectory with librascal...\n"
     ]
    },
    {
     "name": "stderr",
     "output_type": "stream",
     "text": [
      "100%|██████████| 1/1 [00:00<00:00,  5.20it/s]\n"
     ]
    },
    {
     "name": "stdout",
     "output_type": "stream",
     "text": [
      " ALL JOBS WITHIN PYTHON SCRIPT ARE DONE! \n"
     ]
    },
    {
     "ename": "NameError",
     "evalue": "name 'time' is not defined",
     "output_type": "error",
     "traceback": [
      "\u001b[0;31m---------------------------------------------------------------------------\u001b[0m",
      "\u001b[0;31mNameError\u001b[0m                                 Traceback (most recent call last)",
      "Cell \u001b[0;32mIn[51], line 111\u001b[0m\n\u001b[1;32m    101\u001b[0m \u001b[39m# # Structure optimization:\u001b[39;00m\n\u001b[1;32m    102\u001b[0m \u001b[39m# dyn = BFGS(\u001b[39;00m\n\u001b[1;32m    103\u001b[0m \u001b[39m#     atoms,\u001b[39;00m\n\u001b[1;32m    104\u001b[0m \u001b[39m#     trajectory=\"../results/test/md_runs/md_test.traj\",\u001b[39;00m\n\u001b[1;32m    105\u001b[0m \u001b[39m#     logfile=\"../results/test/md_runs/md_log.log\",)\u001b[39;00m\n\u001b[1;32m    106\u001b[0m \u001b[39m# dyn.run(fmax=0.1)\u001b[39;00m\n\u001b[1;32m    109\u001b[0m \u001b[39mprint\u001b[39m(\u001b[39m\"\u001b[39m\u001b[39m ALL JOBS WITHIN PYTHON SCRIPT ARE DONE! \u001b[39m\u001b[39m\"\u001b[39m)\n\u001b[0;32m--> 111\u001b[0m \u001b[39mprint\u001b[39m(\u001b[39m\"\u001b[39m\u001b[39mTIMING: \u001b[39m\u001b[39m\"\u001b[39m, time\u001b[39m.\u001b[39mtime()\u001b[39m-\u001b[39mstart_time, \u001b[39m\"\u001b[39m\u001b[39m seconds\u001b[39m\u001b[39m\"\u001b[39m)\n",
      "\u001b[0;31mNameError\u001b[0m: name 'time' is not defined"
     ]
    }
   ],
   "source": [
    "### MD with fande calc\n",
    "print('Testing performance with (meta-)dynamics run...')\n",
    "\n",
    "from fande.ase import FandeCalc\n",
    "from ase.units import Bohr,Rydberg,kJ,kB,fs,Hartree,mol,kcal\n",
    "\n",
    "from ase import io\n",
    "\n",
    "\n",
    "# from ase.geometry.analysis import Analysis\n",
    "from ase.constraints import FixAtoms, FixBondLengths\n",
    "from ase.optimize import BFGS\n",
    "from ase import units\n",
    "from ase.io import read\n",
    "import logging\n",
    "from ase.md.velocitydistribution import MaxwellBoltzmannDistribution\n",
    "from ase.md.verlet import VelocityVerlet\n",
    "from ase.md.langevin import Langevin\n",
    "from ase.md.npt import NPT\n",
    "from ase.md.nptberendsen import NPTBerendsen\n",
    "from ase.md.nvtberendsen import NVTBerendsen\n",
    "\n",
    "\n",
    "logging.getLogger(\"pytorch_lightning\").setLevel(logging.ERROR) # logging.ERROR to disable or INFO\n",
    "\n",
    "data_folder = \"/home/qklmn/data/\"\n",
    "traj_test = io.read(data_folder + \"datasets/rotors/different_temperatures/300/OUTCAR\", format=\"vasp-out\", index = \"300:400\")\n",
    "\n",
    "# traj_md = read('../results/test/machine_learning/dftb_opt_1000_six_rings.traj', index=\":\")\n",
    "# traj_opt = read('../results/test/machine_learning/opt.traj', index=\":\")\n",
    "\n",
    "# atoms = fdm.mol_traj[10].copy()\n",
    "# atoms = traj_md[300].copy()\n",
    "# atoms = traj_opt[-1].copy()\n",
    "atoms = traj_test[10].copy()\n",
    "atoms.set_pbc(True)\n",
    "\n",
    "\n",
    "# moving_atoms = sum(atomic_groups, []) \n",
    "# fixed_atoms = list( set(range(264)) - set(moving_atoms) )\n",
    "# fix_atoms = FixAtoms(indices=fixed_atoms)\n",
    "# atoms.set_constraint(fix_atoms)\n",
    "\n",
    "\n",
    "# atoms.calc = FandeCalc(predictor)\n",
    "atoms.calc = fande_calc\n",
    "\n",
    "\n",
    "# atoms.calc.set_atomic_groups([rings_carbons, rings_hydrogens], titles=[\"Rings carbons\", \"Rings hydrogens\"])\n",
    "# atoms.calc.set_forces_errors_plot_file(\"../results/test/md_runs/forces_errors.png\", loginterval=1)\n",
    "# atoms.calc = LennardJones()\n",
    "\n",
    "os.makedirs(\"md_run/\", exist_ok=True)\n",
    "\n",
    "# Verlet dynamics:\n",
    "# MaxwellBoltzmannDistribution(atoms, temperature_K=300)\n",
    "# dyn = VelocityVerlet(\n",
    "#     atoms,\n",
    "#     dt = 0.1*units.fs,\n",
    "#     trajectory=\"md_run/md_test.traj\",\n",
    "#     logfile=\"md_run/md_log.log\",\n",
    "# )\n",
    "\n",
    "# dyn = NPT(\n",
    "#     atoms,\n",
    "#     # dt = 0.5*units.fs,\n",
    "#     timestep=0.1,\n",
    "#     temperature_K=300,\n",
    "#     externalstress=0.0,\n",
    "#     trajectory=\"../results/test/md_runs/md_test.traj\",\n",
    "#     logfile=\"../results/test/md_runs/md_log.log\",\n",
    "# )\n",
    "\n",
    "# dyn = NPTBerendsen(atoms, timestep=0.1 * units.fs, temperature_K=300,\n",
    "#                    taut=100 * units.fs, pressure_au=1.01325 * units.bar,\n",
    "#                    taup=1000 * units.fs, compressibility=4.57e-5 / units.bar,\n",
    "#                    trajectory=\"../results/test/md_runs/md_test.traj\",\n",
    "#                    logfile=\"../results/test/md_runs/md_log.log\",)\n",
    "\n",
    "# import os\n",
    "\n",
    "# MaxwellBoltzmannDistribution(atoms, temperature_K=300, force_temp=True)\n",
    "# dyn = NVTBerendsen(atoms, 0.2 * units.fs, 300, taut=0.5*1000*units.fs, \n",
    "#                    trajectory=\"md_run/md_test.traj\",   \n",
    "#                    logfile=\"md_run/md_log.log\")\n",
    "\n",
    "# dyn.run(100)\n",
    "\n",
    "# Langevin dynamics:\n",
    "# https://databases.fysik.dtu.dk/ase/tutorials/md/md.html\n",
    "# MaxwellBoltzmannDistribution(atoms, temperature_K=100, force_temp=True)\n",
    "dyn = Langevin(atoms, 0.2*fs, \n",
    "               temperature_K=300, #0.1/units.kB, \n",
    "               friction=0.1,\n",
    "        #        fixcm=True, \n",
    "               trajectory='md_run/md_test.traj',\n",
    "               logfile=\"md_run/md_log.log\")\n",
    "\n",
    "dyn.run(10)\n",
    "\n",
    "# # Structure optimization:\n",
    "# dyn = BFGS(\n",
    "#     atoms,\n",
    "#     trajectory=\"../results/test/md_runs/md_test.traj\",\n",
    "#     logfile=\"../results/test/md_runs/md_log.log\",)\n",
    "# dyn.run(fmax=0.1)\n",
    "\n",
    "\n",
    "print(\" ALL JOBS WITHIN PYTHON SCRIPT ARE DONE! \")\n",
    "\n",
    "print(\"TIMING: \", time.time()-start_time, \" seconds\")"
   ]
  },
  {
   "cell_type": "code",
   "execution_count": null,
   "metadata": {},
   "outputs": [],
   "source": [
    "# make a nice starting configuration for i-pi\n",
    "from ase import io\n",
    "\n",
    "data_folder = \"/home/qklmn/data/\"\n",
    "atoms = read(data_folder + \"datasets/rotors/different_temperatures/300/OUTCAR\", format=\"vasp-out\", index = \"350\")\n",
    "# io.write(\"/home/qklmn/data/starting_configuration/1.cif\", atoms, format='cif')"
   ]
  },
  {
   "cell_type": "markdown",
   "metadata": {},
   "source": [
    "# Make dftb+ trajectory:"
   ]
  },
  {
   "cell_type": "code",
   "execution_count": 121,
   "metadata": {},
   "outputs": [
    {
     "data": {
      "text/plain": [
       "True"
      ]
     },
     "execution_count": 121,
     "metadata": {},
     "output_type": "execute_result"
    }
   ],
   "source": [
    "from ase import io\n",
    "# from ase.geometry.analysis import Analysis\n",
    "from ase.constraints import FixAtoms, FixBondLengths\n",
    "from ase.optimize import BFGS\n",
    "from ase import units\n",
    "from ase.io import read\n",
    "import logging\n",
    "from ase.md.velocitydistribution import MaxwellBoltzmannDistribution\n",
    "from ase.md.verlet import VelocityVerlet\n",
    "from ase.md.langevin import Langevin\n",
    "from ase.md.npt import NPT\n",
    "from ase.md.nptberendsen import NPTBerendsen\n",
    "from ase.md.nvtberendsen import NVTBerendsen\n",
    "\n",
    "from ase.units import Bohr,Rydberg,kJ,kB,fs,Hartree,mol,kcal\n",
    "\n",
    "\n",
    "\n",
    "from ase.calculators.dftb import Dftb\n",
    "import os\n",
    "os.environ['OMP_NUM_THREADS'] = \"6,1\"\n",
    "os.environ[\"ASE_DFTB_COMMAND\"] = \"ulimit -s unlimited; /usr/local/dftbplus-21.2/bin/dftb+ > PREFIX.out\"\n",
    "# os.environ[\"ASE_DFTB_COMMAND\"] = \"dftb+ > PREFIX.out\"\n",
    "os.environ[\"DFTB_PREFIX\"] = \"/home/qklmn/data/dftb/pbc-0-3\"\n",
    "\n",
    "\n",
    "\n",
    "\n",
    "# initial_structure = io.read(\"/home/qklmn/data/starting_configuration/1.cif\")\n",
    "crystal_264=io.read(\"/home/qklmn/data/starting_configuration/1.cif\")\n",
    "\n",
    "\n",
    "\n",
    "\n",
    "\n",
    "logging.getLogger(\"pytorch_lightning\").setLevel(logging.ERROR) # logging.ERROR to disable or INFO\n",
    "\n",
    "data_folder = \"/home/qklmn/data/\"\n",
    "traj_test = io.read(data_folder + \"datasets/rotors/different_temperatures/300/OUTCAR\", format=\"vasp-out\", index = \"300:400\")\n",
    "\n",
    "# traj_md = read('../results/test/machine_learning/dftb_opt_1000_six_rings.traj', index=\":\")\n",
    "# traj_opt = read('../results/test/machine_learning/opt.traj', index=\":\")\n",
    "\n",
    "# atoms = fdm.mol_traj[10].copy()\n",
    "# atoms = traj_md[300].copy()\n",
    "# atoms = traj_opt[-1].copy()\n",
    "# atoms = traj_test[10].copy()\n",
    "\n",
    "atoms = crystal_264.copy()\n",
    "atoms.set_pbc(True)\n",
    "\n",
    "\n",
    "calc = Dftb(atoms=atoms,\n",
    "        label='crystal',\n",
    "        # Hamiltonian_ = \"xTB\",\n",
    "        # # Hamiltonian_Method = \"GFN1-xTB\",\n",
    "        # Hamiltonian_MaxAngularMomentum_='',\n",
    "        # Hamiltonian_MaxAngularMomentum_O='p',\n",
    "        # Hamiltonian_MaxAngularMomentum_H='s',\n",
    "        # Hamiltonian_MaxAngularMomentum_N='s',\n",
    "        # Hamiltonian_MaxAngularMomentum_C='s',\n",
    "        # Hamiltonian_MaxAngularMomentum_Si='s',\n",
    "        kpts=(1,1,1),\n",
    "        # Hamiltonian_SCC='Yes',\n",
    "        # Verbosity=0,\n",
    "        # Hamiltonian_OrbitalResolvedSCC = 'Yes',\n",
    "        # Hamiltonian_SCCTolerance=1e-15,\n",
    "        # kpts=None,\n",
    "        # Driver_='ConjugateGradient',\n",
    "        # Driver_MaxForceComponent=1e-3,\n",
    "        # Driver_MaxSteps=200,\n",
    "        # Driver_LatticeOpt = 'Yes',\n",
    "        #     Driver_AppendGeometries = 'Yes',\n",
    "        #     Driver_='',\n",
    "        #     Driver_Socket_='',\n",
    "        #     Driver_Socket_File='Hello'\n",
    "        )\n",
    "\n",
    "atoms.calc = calc\n",
    "\n",
    "\n",
    "os.chdir(\"/home/qklmn/data/datasets/rotors/different_temperatures/dftb\")\n",
    "\n",
    "\n",
    "\n",
    "# Langevin dynamics:\n",
    "# https://databases.fysik.dtu.dk/ase/tutorials/md/md.html\n",
    "# MaxwellBoltzmannDistribution(atoms, temperature_K=100, force_temp=True)\n",
    "dyn = Langevin(atoms, 1*fs, \n",
    "               temperature_K=300, #0.1/units.kB, \n",
    "               friction=0.1,\n",
    "        #        fixcm=True, \n",
    "               trajectory='traj_300.traj',\n",
    "               logfile=\"md_log.log\")\n",
    "\n",
    "dyn.run(1000)"
   ]
  },
  {
   "cell_type": "code",
   "execution_count": 217,
   "metadata": {},
   "outputs": [],
   "source": [
    "import matplotlib.pyplot as plt\n",
    "\n",
    "traj = io.read(\"/home/qklmn/data/datasets/rotors/different_temperatures/dftb/traj_2100.traj\", index=\":\")\n",
    "\n",
    "energies = [mol.get_temperature() for mol in traj]\n",
    "# plt.plot(energies)\n",
    "# plt.show()"
   ]
  },
  {
   "cell_type": "code",
   "execution_count": 122,
   "metadata": {},
   "outputs": [],
   "source": [
    "traj_dftb_2100 = io.read(\"/home/qklmn/data/datasets/rotors/different_temperatures/dftb/traj_2100.traj\", index = \":\")"
   ]
  },
  {
   "cell_type": "code",
   "execution_count": 123,
   "metadata": {},
   "outputs": [],
   "source": [
    "initial_structure = io.read(\"/home/qklmn/data/starting_configuration/1.cif\")"
   ]
  },
  {
   "cell_type": "code",
   "execution_count": 218,
   "metadata": {},
   "outputs": [],
   "source": [
    "# print(*traj_dftb_2100[0].get_chemical_symbols() )\n",
    "# print(*initial_structure.get_chemical_symbols() )"
   ]
  },
  {
   "cell_type": "code",
   "execution_count": 114,
   "metadata": {},
   "outputs": [
    {
     "data": {
      "text/plain": [
       "False"
      ]
     },
     "execution_count": 114,
     "metadata": {},
     "output_type": "execute_result"
    }
   ],
   "source": []
  }
 ],
 "metadata": {
  "kernelspec": {
   "display_name": "Python 3 (ipykernel)",
   "language": "python",
   "name": "python3"
  },
  "language_info": {
   "codemirror_mode": {
    "name": "ipython",
    "version": 3
   },
   "file_extension": ".py",
   "mimetype": "text/x-python",
   "name": "python",
   "nbconvert_exporter": "python",
   "pygments_lexer": "ipython3",
   "version": "3.10.10"
  },
  "orig_nbformat": 4
 },
 "nbformat": 4,
 "nbformat_minor": 2
}
