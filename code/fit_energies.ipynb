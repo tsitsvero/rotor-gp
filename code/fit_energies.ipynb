{
 "cells": [
  {
   "cell_type": "markdown",
   "metadata": {},
   "source": [
    "# Fit energies and forces (full cycle)"
   ]
  },
  {
   "cell_type": "code",
   "execution_count": 11,
   "metadata": {},
   "outputs": [
    {
     "name": "stdout",
     "output_type": "stream",
     "text": [
      "The autoreload extension is already loaded. To reload it, use:\n",
      "  %reload_ext autoreload\n"
     ]
    }
   ],
   "source": [
    "%load_ext autoreload\n",
    "%autoreload 2\n",
    "\n",
    "import os\n",
    "import sys\n",
    "import torch\n",
    "sys.path.append(os.path.expandvars(\"/home/$USER/repos/fande/\"))"
   ]
  },
  {
   "cell_type": "code",
   "execution_count": 12,
   "metadata": {},
   "outputs": [],
   "source": [
    "from ase import io\n",
    "\n",
    "traj_295 = io.read(\"/data1/simulations/datasets/rotors/high_temp_ML_training_data/results_triasine_ML_2000/struct_295_295K/md_trajectory.traj\", index=\":\")\n",
    "traj_355 = io.read(\"/data1/simulations/datasets/rotors/high_temp_ML_training_data/results_triasine_ML_2000/struct_355_355K/md_trajectory.traj\", index=\":\")\n",
    "\n",
    "traj_295_2000K = io.read(\"/data1/simulations/datasets/rotors/high_temp_ML_training_data/results_triasine_ML_2000/struct_295_2000K/md_trajectory.traj\", index=\":\")\n",
    "traj_355_2000K = io.read(\"/data1/simulations/datasets/rotors/high_temp_ML_training_data/results_triasine_ML_2000/struct_355_2000K/md_trajectory.traj\", index=\":\")\n",
    "traj_295_2000K_forced = io.read(\"/data1/simulations/datasets/rotors/high_temp_ML_training_data/results_triasine_ML_2000/struct_295_2000K_0075force/md_trajectory.traj\", index=\":\")\n",
    "traj_355_2000K_forced = io.read(\"/data1/simulations/datasets/rotors/high_temp_ML_training_data/results_triasine_ML_2000/struct_355_2000K_0075force/md_trajectory.traj\", index=\":\")\n"
   ]
  },
  {
   "cell_type": "code",
   "execution_count": 16,
   "metadata": {},
   "outputs": [
    {
     "name": "stdout",
     "output_type": "stream",
     "text": [
      "50 3000\n"
     ]
    }
   ],
   "source": [
    "trajectory_forces = traj_295_2000K[0:5000:10]\n",
    "trajectory_forces = trajectory_forces[0::10].copy()\n",
    "\n",
    "trajectory_energy = traj_295[0:5000] + traj_355[0:5000] + traj_295_2000K[0:5000] + traj_355_2000K[0:5000] + traj_295_2000K_forced[0:5000] + traj_355_2000K_forced[0:5000]\n",
    "trajectory_energy = trajectory_energy[::10].copy()\n",
    "\n",
    "print(len(trajectory_forces), len(trajectory_energy))"
   ]
  },
  {
   "cell_type": "code",
   "execution_count": 17,
   "metadata": {},
   "outputs": [
    {
     "name": "stdout",
     "output_type": "stream",
     "text": [
      "Total number of found groups: 14\n",
      "Checking if all atoms are covered:  True\n"
     ]
    }
   ],
   "source": [
    "from fande.data import FandeDataModule\n",
    "from fande.utils.find_atomic_groups import find_atomic_groups\n",
    "\n",
    "\n",
    "soap_params = dict(soap_type=\"PowerSpectrum\",\n",
    "        interaction_cutoff=3.0,\n",
    "        max_radial=3,\n",
    "        max_angular=3,\n",
    "        gaussian_sigma_constant=0.3,\n",
    "        gaussian_sigma_type=\"Constant\",\n",
    "        cutoff_function_type=\"RadialScaling\",\n",
    "        cutoff_smooth_width=0.1, # 0.1 is way better than 0.5\n",
    "        cutoff_function_parameters=\n",
    "                dict(\n",
    "                        rate=1,\n",
    "                        scale=3.5,\n",
    "                        exponent=4\n",
    "                        ),\n",
    "        radial_basis=\"GTO\",\n",
    "        normalize=True, # setting False makes model untrainable\n",
    "        #   optimization=\n",
    "        #         dict(\n",
    "        #                 Spline=dict(\n",
    "        #                    accuracy=1.0e-05\n",
    "        #                 )\n",
    "        #             ),\n",
    "        compute_gradients=True, # for energies gradients are ignored\n",
    "        expansion_by_species_method='structure wise'\n",
    "        )\n",
    "##FOR NOW USE THE SAME SOAP PARAMETERS FOR ENERGY AND FORCES! (that makes sense if you're modeling the MD)\n",
    "\n",
    "sample_snapshot = trajectory_forces[0].copy()\n",
    "fdm = FandeDataModule()\n",
    "atomic_groups = find_atomic_groups(sample_snapshot)\n",
    "train_centers_positions = sum(atomic_groups, []) #list(range(len(atoms)))\n",
    "train_derivatives_positions = sum(atomic_groups, [])#list(range(len(atoms)))\n",
    "fdm.atomic_groups_sample_snapshot = sample_snapshot.copy()\n",
    "fdm.atomic_groups = atomic_groups\n",
    "\n",
    "total_forces_samples_per_group = [3000] * len(atomic_groups)\n",
    "high_forces_samples_per_group = [0] * len(atomic_groups)"
   ]
  },
  {
   "cell_type": "code",
   "execution_count": 18,
   "metadata": {},
   "outputs": [
    {
     "name": "stdout",
     "output_type": "stream",
     "text": [
      "Total length of traj is 3000\n",
      "Total number of batches 3000\n",
      "Calculating invariants on trajectory with librascal...\n"
     ]
    },
    {
     "name": "stderr",
     "output_type": "stream",
     "text": [
      "100%|██████████| 3000/3000 [01:21<00:00, 36.80it/s]\n"
     ]
    },
    {
     "name": "stdout",
     "output_type": "stream",
     "text": [
      "invariants for energy fitting calculated\n"
     ]
    },
    {
     "name": "stderr",
     "output_type": "stream",
     "text": [
      "100%|██████████| 50/50 [00:21<00:00,  2.35it/s]\n"
     ]
    },
    {
     "name": "stdout",
     "output_type": "stream",
     "text": [
      "invariants for forces fitting calculated\n",
      "torch.Size([3000, 540])\n",
      "torch.Size([3000])\n",
      "Taking ALL 1800 samples for group 0\n",
      "Dataloader for group 0 created\n",
      "Number of samples in dataloader: 1800\n",
      "Dataloader for group 1 created\n",
      "Number of samples in dataloader: 3000\n",
      "Dataloader for group 2 created\n",
      "Number of samples in dataloader: 3000\n",
      "Taking ALL 1800 samples for group 3\n",
      "Dataloader for group 3 created\n",
      "Number of samples in dataloader: 1800\n",
      "Taking ALL 1800 samples for group 4\n",
      "Dataloader for group 4 created\n",
      "Number of samples in dataloader: 1800\n",
      "Dataloader for group 5 created\n",
      "Number of samples in dataloader: 3000\n",
      "Dataloader for group 6 created\n",
      "Number of samples in dataloader: 3000\n",
      "Dataloader for group 7 created\n",
      "Number of samples in dataloader: 3000\n",
      "Dataloader for group 8 created\n",
      "Number of samples in dataloader: 3000\n",
      "Dataloader for group 9 created\n",
      "Number of samples in dataloader: 3000\n",
      "Taking ALL 1800 samples for group 10\n",
      "Dataloader for group 10 created\n",
      "Number of samples in dataloader: 1800\n",
      "Dataloader for group 11 created\n",
      "Number of samples in dataloader: 3000\n",
      "Taking ALL 1800 samples for group 12\n",
      "Dataloader for group 12 created\n",
      "Number of samples in dataloader: 1800\n",
      "Taking ALL 1800 samples for group 13\n",
      "Dataloader for group 13 created\n",
      "Number of samples in dataloader: 1800\n"
     ]
    }
   ],
   "source": [
    "dataloader_energy, dataloaders_forces = fdm.dataloaders_from_trajectory(\n",
    "                                                                trajectory_energy,\n",
    "                                                                trajectory_forces,\n",
    "                                                                # energies = None,\n",
    "                                                                # forces = None,\n",
    "                                                                atomic_groups = atomic_groups,\n",
    "                                                                centers_positions = train_centers_positions,\n",
    "                                                                derivatives_positions = train_derivatives_positions,\n",
    "                                                                energy_soap_hypers = soap_params,\n",
    "                                                                forces_soap_hypers = soap_params,\n",
    "                                                                total_forces_samples_per_group = total_forces_samples_per_group,\n",
    "                                                                high_force_samples_per_group = high_forces_samples_per_group,\n",
    "                                                                )"
   ]
  },
  {
   "cell_type": "code",
   "execution_count": 115,
   "metadata": {},
   "outputs": [
    {
     "name": "stderr",
     "output_type": "stream",
     "text": [
      "GPU available: True (cuda), used: True\n",
      "TPU available: False, using: 0 TPU cores\n",
      "IPU available: False, using: 0 IPUs\n",
      "HPU available: False, using: 0 HPUs\n",
      "LOCAL_RANK: 0 - CUDA_VISIBLE_DEVICES: [0,1]\n",
      "\n",
      "  | Name       | Type                    | Params\n",
      "-------------------------------------------------------\n",
      "0 | likelihood | GaussianLikelihood      | 1     \n",
      "1 | model      | SVGPModelEnergies       | 64.6 K\n",
      "2 | mll        | PredictiveLogLikelihood | 64.6 K\n",
      "-------------------------------------------------------\n",
      "64.6 K    Trainable params\n",
      "0         Non-trainable params\n",
      "64.6 K    Total params\n",
      "0.259     Total estimated model params size (MB)\n"
     ]
    },
    {
     "name": "stdout",
     "output_type": "stream",
     "text": [
      "Training with inducing points:  torch.Size([100, 540])\n",
      "Training energy model\n"
     ]
    },
    {
     "data": {
      "application/vnd.jupyter.widget-view+json": {
       "model_id": "bf201987767241cdba62c29570bd46c1",
       "version_major": 2,
       "version_minor": 0
      },
      "text/plain": [
       "Training: 0it [00:00, ?it/s]"
      ]
     },
     "metadata": {},
     "output_type": "display_data"
    },
    {
     "name": "stderr",
     "output_type": "stream",
     "text": [
      "`Trainer.fit` stopped: `max_epochs=1000` reached.\n"
     ]
    }
   ],
   "source": [
    "# Making energy model\n",
    "\n",
    "from fande.models import EnergyModel\n",
    "\n",
    "hparams = {\n",
    "        'dtype' : 'float32',\n",
    "        'device' : 'gpu',\n",
    "        'energy_model_hparams' : {\n",
    "                'model_type' : 'variational_inducing_points',#'simple_ard', # 'variational_inducing_points'\n",
    "                'num_epochs' : 1000,\n",
    "                'learning_rate' : 0.01,\n",
    "        }\n",
    "        }\n",
    "       \n",
    "Energy_model = EnergyModel(\n",
    "        dataloader_energy,\n",
    "        hparams=hparams)\n",
    "\n",
    "Energy_model.fit()"
   ]
  },
  {
   "cell_type": "code",
   "execution_count": null,
   "metadata": {},
   "outputs": [],
   "source": [
    "# %%time\n",
    "# # Fitting forces\n",
    "\n",
    "# from fande.models import ModelForces, GroupModelForces\n",
    "\n",
    "\n",
    "# n_steps_list = [200] * len(atomic_groups)\n",
    "# lr_list = [0.1] * len(atomic_groups)\n",
    "\n",
    "# models_hparams = []\n",
    "# for i in range(len(atomic_groups)):\n",
    "#         model_hparams = {\n",
    "#         'atomic_group' : atomic_groups[i],\n",
    "#         'dtype' : hparams['dtype'],\n",
    "#         'device' : hparams['device'],\n",
    "#         'num_epochs' : n_steps_list[i],\n",
    "#         'learning_rate' : lr_list[i],\n",
    "#         'soap_dim' : dataloaders_forces[i].dataset[0][0].shape[-1],\n",
    "#         'soap_params' : soap_params,\n",
    "#         }\n",
    "#         models_hparams.append(model_hparams)\n",
    "\n",
    "# hparams['per_model_hparams'] = models_hparams # access per_model_hparams by model.model_id\n",
    "# gpu_id = 0\n",
    "\n",
    "\n",
    "# models_forces = []\n",
    "# for i in range(len(atomic_groups)):\n",
    "#         model = ModelForces(\n",
    "#         train_x = dataloaders_forces[i].dataset[:][0],\n",
    "#         train_y = dataloaders_forces[i].dataset[:][1],\n",
    "#         atomic_group = atomic_groups[i],\n",
    "#         hparams = hparams,\n",
    "#         id=i)\n",
    "#         models_forces.append(model)\n",
    "        \n",
    "# AG_force_model = GroupModelForces(\n",
    "#         models= models_forces,\n",
    "#         train_data_loaders = dataloaders_forces,\n",
    "#         hparams=hparams, \n",
    "#         gpu_id=gpu_id)\n",
    "\n",
    "# AG_force_model.fit()"
   ]
  },
  {
   "cell_type": "code",
   "execution_count": 120,
   "metadata": {},
   "outputs": [],
   "source": [
    "from fande.predict import FandePredictor\n",
    "from fande.ase import FandeCalc\n",
    "\n",
    "# Energy_model = None\n",
    "AG_force_model = None\n",
    "predictor = FandePredictor(\n",
    "        fdm,\n",
    "        AG_force_model,\n",
    "        Energy_model,\n",
    "        hparams,\n",
    "        soap_params\n",
    "        )\n",
    "\n",
    "fande_calc = FandeCalc(predictor)\n",
    "# fande_calc.save_predictor(\"/data1/simulations/ML_models/for_SCML/fande_predictor_3000.pth\")"
   ]
  },
  {
   "cell_type": "code",
   "execution_count": 38,
   "metadata": {},
   "outputs": [],
   "source": [
    "\n",
    "from fande.predict import FandePredictor\n",
    "from fande.ase import FandeCalc\n",
    "# load the predictor:\n",
    "predictor_loaded = torch.load(\"/data1/simulations/ML_models/for_SCML/fande_predictor.pth\")\n",
    "fande_calc_loaded = FandeCalc(predictor_loaded)\n",
    "device = torch.device('cpu')\n",
    "fande_calc_loaded.predictor.move_models_to_device(device)"
   ]
  },
  {
   "cell_type": "code",
   "execution_count": 88,
   "metadata": {},
   "outputs": [],
   "source": [
    "# device = torch.device('cuda:0') # always specify the gpu id!\n",
    "device = torch.device('cpu')\n",
    "fande_calc.predictor.move_models_to_device(device)"
   ]
  },
  {
   "cell_type": "code",
   "execution_count": 121,
   "metadata": {},
   "outputs": [
    {
     "name": "stderr",
     "output_type": "stream",
     "text": [
      " 20%|██        | 1/5 [00:00<00:01,  2.05it/s]"
     ]
    },
    {
     "name": "stdout",
     "output_type": "stream",
     "text": [
      "Time for invariants (call from forces):  460.8292579650879\n",
      "removing cache for energy model (THIS IS EXPENSIVE) \n",
      "Cache moved to the proper device.\n",
      "Energy model summary: \n",
      "Time invariants:  0.12350082397460938\n",
      "Time prediction:  6.623983383178711\n",
      "Time moving on device:  0.8473396301269531\n",
      "Time total:  23.772478103637695\n",
      "[-3082.5542]\n"
     ]
    },
    {
     "name": "stderr",
     "output_type": "stream",
     "text": [
      " 40%|████      | 2/5 [00:00<00:01,  2.14it/s]"
     ]
    },
    {
     "name": "stdout",
     "output_type": "stream",
     "text": [
      "Time for invariants (call from forces):  444.5202350616455\n",
      "removing cache for energy model (THIS IS EXPENSIVE) \n",
      "Cache moved to the proper device.\n",
      "Energy model summary: \n",
      "Time invariants:  0.10824203491210938\n",
      "Time prediction:  4.958152770996094\n",
      "Time moving on device:  0.7417201995849609\n",
      "Time total:  7.117509841918945\n",
      "[-3082.7007]\n"
     ]
    },
    {
     "name": "stderr",
     "output_type": "stream",
     "text": [
      " 60%|██████    | 3/5 [00:01<00:00,  2.25it/s]"
     ]
    },
    {
     "name": "stdout",
     "output_type": "stream",
     "text": [
      "Time for invariants (call from forces):  406.62288665771484\n",
      "removing cache for energy model (THIS IS EXPENSIVE) \n",
      "Cache moved to the proper device.\n",
      "Energy model summary: \n",
      "Time invariants:  0.10633468627929688\n",
      "Time prediction:  4.934787750244141\n",
      "Time moving on device:  0.7455348968505859\n",
      "Time total:  7.107019424438477\n",
      "[-3082.8933]\n"
     ]
    },
    {
     "name": "stderr",
     "output_type": "stream",
     "text": [
      " 80%|████████  | 4/5 [00:01<00:00,  2.30it/s]"
     ]
    },
    {
     "name": "stdout",
     "output_type": "stream",
     "text": [
      "Time for invariants (call from forces):  408.42509269714355\n",
      "removing cache for energy model (THIS IS EXPENSIVE) \n",
      "Cache moved to the proper device.\n",
      "Energy model summary: \n",
      "Time invariants:  0.10800361633300781\n",
      "Time prediction:  4.927158355712891\n",
      "Time moving on device:  0.7460117340087891\n",
      "Time total:  7.096290588378906\n",
      "[-3083.0618]\n"
     ]
    },
    {
     "name": "stderr",
     "output_type": "stream",
     "text": [
      "100%|██████████| 5/5 [00:02<00:00,  2.27it/s]"
     ]
    },
    {
     "name": "stdout",
     "output_type": "stream",
     "text": [
      "Time for invariants (call from forces):  409.27958488464355\n",
      "removing cache for energy model (THIS IS EXPENSIVE) \n",
      "Cache moved to the proper device.\n",
      "Energy model summary: \n",
      "Time invariants:  0.10704994201660156\n",
      "Time prediction:  4.898309707641602\n",
      "Time moving on device:  0.7574558258056641\n",
      "Time total:  7.070064544677734\n",
      "[-3083.136]\n"
     ]
    },
    {
     "name": "stderr",
     "output_type": "stream",
     "text": [
      "\n"
     ]
    }
   ],
   "source": [
    "from ase import io\n",
    "from tqdm import tqdm\n",
    "test_traj = io.read(\"/data1/simulations/datasets/rotors/high_temp_ML_training_data/results_triasine_ML_2000/struct_295_295K/md_trajectory.traj\", index=\"1235:1240\")\n",
    "test_traj = test_traj.copy()\n",
    "\n",
    "real_energies = [s.get_potential_energy() for s in test_traj]\n",
    "predicted_energies = []\n",
    "for i in tqdm(range(len(test_traj))):\n",
    "        test_traj[i].calc = fande_calc\n",
    "        # predicted_energies.append( test_traj[i].get_potential_energy() )\n",
    "        # print(test_traj[i].get_potential_energy() )\n",
    "        # test_traj[i].get_forces()\n",
    "        print(test_traj[i].get_potential_energy() )\n",
    "        # test_traj[i].get_forces()"
   ]
  },
  {
   "cell_type": "code",
   "execution_count": 92,
   "metadata": {},
   "outputs": [
    {
     "name": "stderr",
     "output_type": "stream",
     "text": []
    },
    {
     "name": "stdout",
     "output_type": "stream",
     "text": [
      "Time for invariants (call from forces):  425.555944442749\n",
      "Energy model summary: \n",
      "Time invariants:  0.10633468627929688\n",
      "Time prediction:  3.1805038452148438\n",
      "Time moving on device:  0.4601478576660156\n",
      "Time total:  4.599332809448242\n"
     ]
    },
    {
     "name": "stderr",
     "output_type": "stream",
     "text": []
    },
    {
     "name": "stdout",
     "output_type": "stream",
     "text": [
      "Time for invariants (call from forces):  408.1246852874756\n",
      "Energy model summary: \n",
      "Time invariants:  0.10585784912109375\n",
      "Time prediction:  3.0345916748046875\n",
      "Time moving on device:  0.4558563232421875\n",
      "Time total:  4.397392272949219\n"
     ]
    },
    {
     "name": "stderr",
     "output_type": "stream",
     "text": []
    },
    {
     "name": "stdout",
     "output_type": "stream",
     "text": [
      "Time for invariants (call from forces):  406.5885543823242\n",
      "Energy model summary: \n",
      "Time invariants:  0.1068115234375\n",
      "Time prediction:  3.0775070190429688\n",
      "Time moving on device:  0.4553794860839844\n",
      "Time total:  4.43720817565918\n"
     ]
    },
    {
     "name": "stderr",
     "output_type": "stream",
     "text": [
      "100%|██████████| 5/5 [00:01<00:00,  2.97it/s]"
     ]
    },
    {
     "name": "stdout",
     "output_type": "stream",
     "text": [
      "Time for invariants (call from forces):  407.9163074493408\n",
      "Energy model summary: \n",
      "Time invariants:  0.11110305786132812\n",
      "Time prediction:  3.017902374267578\n",
      "Time moving on device:  0.4487037658691406\n",
      "Time total:  4.424810409545898\n",
      "CPU times: user 6.01 s, sys: 329 ms, total: 6.34 s\n",
      "Wall time: 1.69 s\n"
     ]
    },
    {
     "name": "stderr",
     "output_type": "stream",
     "text": [
      "\n"
     ]
    }
   ],
   "source": [
    "%%time\n",
    "# test_traj[0].get_forces()\n",
    "for i in tqdm(range(len(test_traj))):\n",
    "        test_traj[i].get_forces()\n",
    "# test_traj[1].get_potential_energy()"
   ]
  },
  {
   "cell_type": "code",
   "execution_count": null,
   "metadata": {},
   "outputs": [],
   "source": [
    "import matplotlib.pyplot as plt\n",
    "\n",
    "plt.plot(real_energies, label=\"real\")\n",
    "plt.plot(predicted_energies, label=\"predicted\")\n",
    "plt.legend()\n",
    "plt.show()"
   ]
  },
  {
   "cell_type": "code",
   "execution_count": 14,
   "metadata": {},
   "outputs": [
    {
     "name": "stdout",
     "output_type": "stream",
     "text": [
      "Atomic group force model is not defined. Cannot predict forces. Returning zeros.\n",
      "[-3080.6099]\n",
      "[[0. 0. 0.]\n",
      " [0. 0. 0.]\n",
      " [0. 0. 0.]\n",
      " ...\n",
      " [0. 0. 0.]\n",
      " [0. 0. 0.]\n",
      " [0. 0. 0.]]\n"
     ]
    }
   ],
   "source": [
    "atoms = trajectory_energy[51].copy()\n",
    "\n",
    "atoms.set_calculator(fande_calc)\n",
    "\n",
    "print(atoms.get_potential_energy())\n",
    "print(atoms.get_forces())"
   ]
  },
  {
   "cell_type": "markdown",
   "metadata": {},
   "source": [
    "## Testing area"
   ]
  },
  {
   "cell_type": "code",
   "execution_count": 135,
   "metadata": {},
   "outputs": [],
   "source": [
    "from ase import io\n",
    "test_traj = io.read(\"/data1/simulations/datasets/rotors/high_temp_ML_training_data/results_triasine_ML_2000/struct_295_295K/md_trajectory.traj\", index=\"-100:\")\n",
    "# test_traj = io.read(\"/data1/simulations/datasets/rotors/high_temp_ML_training_data/results_triasine_ML_2000/struct_295_2000K_0075force/md_trajectory.traj\", index=\"-100:\")\n",
    "\n",
    "\n",
    "# atoms.set_calculator(fande_calc_loaded)"
   ]
  },
  {
   "cell_type": "code",
   "execution_count": 136,
   "metadata": {},
   "outputs": [],
   "source": [
    "%%capture c\n",
    "energies_true = []\n",
    "energies_pred = []\n",
    "\n",
    "for i in tqdm(range(len(test_traj))):\n",
    "        atoms = test_traj[i].copy()\n",
    "        atoms.calc = fande_calc\n",
    "        energies_pred.append(atoms.get_potential_energy())\n",
    "        energies_true.append(test_traj[i].get_potential_energy())\n"
   ]
  },
  {
   "cell_type": "code",
   "execution_count": null,
   "metadata": {},
   "outputs": [],
   "source": [
    "import matplotlib.pyplot as plt\n",
    "plt.plot(energies_true, label=\"true\")\n",
    "plt.plot(energies_pred, label=\"pred\")\n",
    "plt.legend()\n",
    "plt.show()"
   ]
  }
 ],
 "metadata": {
  "kernelspec": {
   "display_name": "base",
   "language": "python",
   "name": "python3"
  },
  "language_info": {
   "codemirror_mode": {
    "name": "ipython",
    "version": 3
   },
   "file_extension": ".py",
   "mimetype": "text/x-python",
   "name": "python",
   "nbconvert_exporter": "python",
   "pygments_lexer": "ipython3",
   "version": "3.10.10"
  },
  "orig_nbformat": 4
 },
 "nbformat": 4,
 "nbformat_minor": 2
}
