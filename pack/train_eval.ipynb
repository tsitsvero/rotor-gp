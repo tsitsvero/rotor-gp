{
 "cells": [
  {
   "cell_type": "markdown",
   "metadata": {},
   "source": [
    "## Cooking up the model"
   ]
  },
  {
   "cell_type": "code",
   "execution_count": null,
   "metadata": {},
   "outputs": [],
   "source": [
    "import os\n",
    "DATA_DIR = os.path.expanduser(\"~/repos/data/\")\n",
    "# DATA_DIR = \"/data1/simulations/datasets/rotors/high_temp_ML_training_data/\"\n",
    "RESULTS_DIR = os.path.expanduser(\"~/repos/data/results\")\n",
    "\n",
    "# DATA_DIR = os.path.expanduser(\"/content/drive/MyDrive/data/\")\n",
    "# # FANDE_DIR = os.path.expanduser(\"~/\")\n",
    "# RESULTS_DIR = os.path.expanduser(\"~/results\")\n",
    "# os.makedirs(RESULTS_DIR, exist_ok=True)\n",
    "\n",
    "ENERGY_MODEL = 'variational_inducing_points' #'variational_inducing_points', 'exact'\n",
    "ENERGY_LR = 0.01\n",
    "ENERGY_NUM_STEPS = 5\n",
    "\n",
    "FORCES_MODEL = 'variational_inducing_points' #'variational_inducing_points', 'exact'\n",
    "NUM_FORCE_SAMPLES = 10\n",
    "FORCES_LR = 0.01\n",
    "FORCES_NUM_STEPS = 5\n",
    "\n",
    "! python cook_model.py \\\n",
    "--data_dir $DATA_DIR \\\n",
    "--results_dir $RESULTS_DIR \\\n",
    "--energy_model $ENERGY_MODEL \\\n",
    "--energy_lr $ENERGY_LR \\\n",
    "--energy_num_steps $ENERGY_NUM_STEPS \\\n",
    "--forces_model $FORCES_MODEL \\\n",
    "--num_force_samples $NUM_FORCE_SAMPLES \\\n",
    "--forces_lr $FORCES_LR \\\n",
    "--forces_num_steps $FORCES_NUM_STEPS \n"
   ]
  },
  {
   "cell_type": "markdown",
   "metadata": {},
   "source": [
    "## Testing models"
   ]
  },
  {
   "cell_type": "code",
   "execution_count": null,
   "metadata": {},
   "outputs": [],
   "source": [
    "from ase import io\n",
    "test_traj = io.read(DATA_DIR + \"/results_triasine_ML_2000/struct_295_295K/md_trajectory.traj\", index=\"1000:1010\")"
   ]
  },
  {
   "cell_type": "code",
   "execution_count": null,
   "metadata": {},
   "outputs": [],
   "source": [
    "import sys\n",
    "import torch\n",
    "FANDE_DIR = os.path.expanduser(\"~/repos/\")\n",
    "sys.path.append(FANDE_DIR + \"fande/\")\n",
    "\n",
    "from fande.predict import FandePredictor\n",
    "from fande.ase import FandeCalc\n",
    "# load the predictor:\n",
    "# predictor_loaded = torch.load(RESULTS_DIR + \"/fande_predictor.pth\")\n",
    "predictor_loaded = torch.load(RESULTS_DIR + \"/fande_predictor_2023-12-30 00:00:14.870337.pth\")\n",
    "fande_calc_loaded = FandeCalc(predictor_loaded)\n",
    "device = torch.device('cpu')\n",
    "fande_calc_loaded.predictor.move_models_to_device(device)"
   ]
  },
  {
   "cell_type": "code",
   "execution_count": null,
   "metadata": {},
   "outputs": [],
   "source": [
    "forces_true = []\n",
    "forces_predicted = []\n",
    "\n",
    "energy_true = []\n",
    "energy_predicted = []\n",
    "\n",
    "for atoms in test_traj:\n",
    "    forces_true.append(atoms.get_forces())\n",
    "    energy_true.append(atoms.get_potential_energy())\n",
    "    atoms.set_calculator(fande_calc_loaded)\n",
    "    forces_predicted.append(atoms.get_forces())\n",
    "    energy_predicted.append(atoms.get_potential_energy())"
   ]
  },
  {
   "cell_type": "code",
   "execution_count": null,
   "metadata": {},
   "outputs": [],
   "source": [
    "import numpy as np\n",
    "import matplotlib.pyplot as plt\n",
    "\n",
    "energy_true = np.array(energy_true)\n",
    "energy_predicted = np.array(energy_predicted)\n",
    "energy_errors = energy_predicted - energy_true\n",
    "\n",
    "forces_true = np.array(forces_true)\n",
    "forces_predicted = np.array(forces_predicted)\n",
    "forces_errors = forces_predicted - forces_true\n",
    "\n",
    "atomic_groups = predictor_loaded.fdm.atomic_groups\n",
    "\n",
    "\n",
    "\n",
    "for ag in atomic_groups:\n",
    "\n",
    "    print(\"Atomic group\", ag)\n",
    "    print(\"F_x\")\n",
    "    print(\"MAE\", np.mean(np.abs(forces_errors[:, ag, 0].flatten())))\n",
    "    print(\"RMSE\", np.sqrt(np.mean(forces_errors[:, ag, 0].flatten()**2)))\n",
    "    print(\"F_y\")\n",
    "    print(\"MAE\", np.mean(np.abs(forces_errors[:, ag, 1].flatten())))\n",
    "    print(\"RMSE\", np.sqrt(np.mean(forces_errors[:, ag, 1].flatten()**2)))\n",
    "    print(\"F_z\")\n",
    "    print(\"MAE\", np.mean(np.abs(forces_errors[:, ag, 2].flatten())))\n",
    "    print(\"RMSE\", np.sqrt(np.mean(forces_errors[:, ag, 2].flatten()**2)))\n",
    "    print(\"E\")\n",
    "    print(\"MAE\", np.mean(np.abs(energy_errors.flatten())))\n",
    "    print(\"RMSE\", np.sqrt(np.mean(energy_errors.flatten()**2)))\n",
    "\n",
    "    fig, axs = plt.subplots(nrows=1, ncols=3, figsize=(15, 3))\n",
    "    axs[0].set_title(r\"$F_x$\")\n",
    "    axs[0].plot(np.array(forces_true)[:, ag, 0].flatten(), label=\"true\")\n",
    "    axs[0].plot(np.array(forces_predicted)[:, ag, 0].flatten(), label=\"predicted\")\n",
    "    axs[0].legend()\n",
    "\n",
    "    axs[1].set_title(r\"$F_y$\")\n",
    "    axs[1].plot(np.array(forces_true)[:, ag, 1].flatten(), label=\"true\")\n",
    "    axs[1].plot(np.array(forces_predicted)[:, ag, 1].flatten(), label=\"predicted\")\n",
    "    axs[1].legend()\n",
    "\n",
    "    axs[2].set_title(r\"$F_z$\")\n",
    "    axs[2].plot(np.array(forces_true)[:, ag, 2].flatten(), label=\"true\")\n",
    "    axs[2].plot(np.array(forces_predicted)[:, ag, 2].flatten(), label=\"predicted\")\n",
    "    axs[2].legend()\n",
    "\n",
    "    plt.show()\n",
    "\n",
    "    fig, axs = plt.subplots(nrows=1, ncols=3, figsize=(15, 3))\n",
    "\n",
    "    axs[0].set_title(r\"$F_x$ errors\")\n",
    "    axs[0].hist(forces_errors[:, ag, 0].flatten(), bins=100)\n",
    "\n",
    "    axs[1].set_title(r\"$F_y$ errors\")\n",
    "    axs[1].hist(forces_errors[:, ag, 1].flatten(), bins=100)\n",
    "\n",
    "    axs[2].set_title(r\"$F_z$ errors\")\n",
    "    axs[2].hist(forces_errors[:, ag, 2].flatten(), bins=100)\n",
    "    plt.show()\n",
    "\n",
    "    fig, axs = plt.subplots(nrows=1, ncols=2, figsize=(15, 3))\n",
    "    axs[0].set_title(r\"$E$ errors\")\n",
    "    axs[0].hist(energy_errors.flatten(), bins=100)\n",
    "\n",
    "    axs[1].set_title(r\"$E$\")\n",
    "    axs[1].plot(energy_true, label=\"true\")\n",
    "    axs[1].plot(energy_predicted, label=\"predicted\")\n",
    "    axs[1].legend()\n",
    "    plt.show()\n"
   ]
  }
 ],
 "metadata": {
  "kernelspec": {
   "display_name": "test_env",
   "language": "python",
   "name": "python3"
  },
  "language_info": {
   "codemirror_mode": {
    "name": "ipython",
    "version": 3
   },
   "file_extension": ".py",
   "mimetype": "text/x-python",
   "name": "python",
   "nbconvert_exporter": "python",
   "pygments_lexer": "ipython3",
   "version": "3.10.13"
  }
 },
 "nbformat": 4,
 "nbformat_minor": 2
}
