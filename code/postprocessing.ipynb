{
 "cells": [
  {
   "cell_type": "markdown",
   "metadata": {},
   "source": [
    "# Results postprocessing"
   ]
  },
  {
   "cell_type": "code",
   "execution_count": null,
   "metadata": {},
   "outputs": [],
   "source": [
    "from ase import io\n",
    "from tqdm import tqdm\n",
    "\n",
    "dir_snaps = \"/home/qklmn/repos/rotor-gp/code/results/temp/temp_calc_dir_0/ase_calc_history/\"\n",
    "\n",
    "snapshot_list = []\n",
    "for i in tqdm(range(0,10000)):\n",
    "    snapshot_list.append( io.read( dir_snaps+str(i)+\".xyz\", format=\"extxyz\") )"
   ]
  },
  {
   "cell_type": "code",
   "execution_count": null,
   "metadata": {},
   "outputs": [],
   "source": [
    "fmax_list = [snap.get_forces().max() for snap in snapshot_list]"
   ]
  },
  {
   "cell_type": "code",
   "execution_count": null,
   "metadata": {},
   "outputs": [],
   "source": [
    "forces_ipi_raw_xyz = io.read(\"/home/qklmn/repos/rotor-gp/code/pimd/output_dftb_ref/PREFIX.frc_00.xyz\", index=\":\")"
   ]
  },
  {
   "cell_type": "code",
   "execution_count": null,
   "metadata": {},
   "outputs": [],
   "source": [
    "forces_ipi_raw_xyz[0].get_chemical_symbols()[100]"
   ]
  },
  {
   "cell_type": "code",
   "execution_count": null,
   "metadata": {},
   "outputs": [],
   "source": [
    "from ase import units\n",
    "import numpy as np\n",
    "\n",
    "forces_ipi = np.array( [s.get_positions()*(units.Hartree/units.Bohr) for s in forces_ipi_raw_xyz] )"
   ]
  },
  {
   "cell_type": "code",
   "execution_count": null,
   "metadata": {},
   "outputs": [],
   "source": [
    "fmax = forces_ipi[:,:,0].max(axis=1)\n",
    "fmin = forces_ipi[:,:,0].min(axis=1)\n",
    "\n",
    "fabs_mean = np.abs(forces_ipi).mean()\n",
    "fabs_var = np.abs(forces_ipi).var()\n",
    "\n",
    "fmax.shape"
   ]
  },
  {
   "cell_type": "code",
   "execution_count": null,
   "metadata": {},
   "outputs": [],
   "source": [
    "fabs_var"
   ]
  },
  {
   "cell_type": "code",
   "execution_count": null,
   "metadata": {},
   "outputs": [],
   "source": [
    "import matplotlib.pyplot as plt\n",
    "\n",
    "\n",
    "plt.plot(fmax[0:1000])\n",
    "plt.plot(fmin)\n",
    "\n",
    "plt.show()"
   ]
  },
  {
   "cell_type": "markdown",
   "metadata": {},
   "source": [
    "# Check statistics within training data"
   ]
  },
  {
   "cell_type": "code",
   "execution_count": null,
   "metadata": {},
   "outputs": [],
   "source": [
    "traj_dftb_2100 = io.read(\"/home/qklmn/data/datasets/rotors/different_temperatures/dftb/traj_2100.traj\", index=\":\")\n",
    "traj_dftb_300 = io.read(\"/home/qklmn/data/datasets/rotors/different_temperatures/dftb/traj_300.traj\", index=\":\")"
   ]
  },
  {
   "cell_type": "code",
   "execution_count": null,
   "metadata": {},
   "outputs": [],
   "source": [
    "fmax_300 = [snap.get_forces().max() for snap in traj_dftb_300]"
   ]
  },
  {
   "cell_type": "code",
   "execution_count": null,
   "metadata": {},
   "outputs": [],
   "source": [
    "plt.plot(fmax_300)"
   ]
  },
  {
   "cell_type": "markdown",
   "metadata": {},
   "source": [
    "## Check 1 vs. 16 beads"
   ]
  },
  {
   "cell_type": "code",
   "execution_count": null,
   "metadata": {},
   "outputs": [],
   "source": [
    "from ase import io\n",
    "import numpy as np"
   ]
  },
  {
   "cell_type": "code",
   "execution_count": null,
   "metadata": {},
   "outputs": [],
   "source": [
    "traj_1 = io.read(\"/home/qklmn/repos/rotor-gp/code/pimd/output_dftb_1/PREFIX.pos_0.xyz\", index=\":\")\n",
    "traj_16 = io.read(\"/home/qklmn/repos/rotor-gp/code/pimd/output_dftb_16/PREFIX.pos_00.xyz\", index=\":\")\n",
    "traj_32 = io.read(\"/home/qklmn/repos/rotor-gp/code/pimd/output_dftb_32/PREFIX.pos_10.xyz\", index=\":\")\n",
    "traj_64 = io.read(\"/home/qklmn/repos/rotor-gp/code/pimd/output_dftb_64/PREFIX.pos_00.xyz\", index=\":\")\n",
    "# traj_16_centroid = io.read(\"/home/qklmn/repos/rotor-gp/code/pimd/output_dftb_16/PREFIX.pos_centroid.xyz\", index=\":\")\n",
    "\n"
   ]
  },
  {
   "cell_type": "code",
   "execution_count": 474,
   "metadata": {},
   "outputs": [],
   "source": [
    "traj_1_good =  io.read(\"/home/qklmn/repos/rotor-gp/code/pimd/output_dftb_good_1/PREFIX.pos_00.xyz\", index=\":\")\n",
    "traj_16_good =  io.read(\"/home/qklmn/repos/rotor-gp/code/pimd/output_dftb_good_16/PREFIX.pos_00.xyz\", index=\":\")"
   ]
  },
  {
   "cell_type": "code",
   "execution_count": null,
   "metadata": {},
   "outputs": [],
   "source": [
    "distances_1 = [ snap.get_all_distances() for snap in traj_1] \n",
    "distances_1 = np.array(distances_1)"
   ]
  },
  {
   "cell_type": "code",
   "execution_count": null,
   "metadata": {},
   "outputs": [],
   "source": [
    "distances_16 = [ snap.get_all_distances() for snap in traj_16]\n",
    "distances_16 = np.array(distances_16)"
   ]
  },
  {
   "cell_type": "code",
   "execution_count": 475,
   "metadata": {},
   "outputs": [],
   "source": [
    "distances_16_good = [ snap.get_all_distances() for snap in traj_16_good]\n",
    "distances_16_good = np.array(distances_16_good)"
   ]
  },
  {
   "cell_type": "code",
   "execution_count": null,
   "metadata": {},
   "outputs": [],
   "source": [
    "distances_32 = [ snap.get_all_distances() for snap in traj_32]\n",
    "distances_32 = np.array(distances_32)"
   ]
  },
  {
   "cell_type": "code",
   "execution_count": null,
   "metadata": {},
   "outputs": [],
   "source": [
    "distances_64 = [ snap.get_all_distances() for snap in traj_64]\n",
    "distances_64 = np.array(distances_64)"
   ]
  },
  {
   "cell_type": "code",
   "execution_count": null,
   "metadata": {},
   "outputs": [],
   "source": [
    "# distances_16_c = [ snap.get_all_distances() for snap in traj_16_centroid]\n",
    "# distances_16_c = np.array(distances_16_c)"
   ]
  },
  {
   "cell_type": "code",
   "execution_count": null,
   "metadata": {},
   "outputs": [],
   "source": [
    "distances_1.shape"
   ]
  },
  {
   "cell_type": "code",
   "execution_count": null,
   "metadata": {},
   "outputs": [],
   "source": [
    "distances_64[:, dind[0], dind[1]].shape"
   ]
  },
  {
   "cell_type": "code",
   "execution_count": null,
   "metadata": {},
   "outputs": [],
   "source": [
    "distances_16.shape"
   ]
  },
  {
   "cell_type": "code",
   "execution_count": null,
   "metadata": {},
   "outputs": [],
   "source": [
    "traj_64[0][dind]"
   ]
  },
  {
   "cell_type": "code",
   "execution_count": 480,
   "metadata": {},
   "outputs": [
    {
     "data": {
      "image/png": "[encoded data removed]",
      "text/plain": [
       "<Figure size 640x480 with 1 Axes>"
      ]
     },
     "metadata": {},
     "output_type": "display_data"
    },
    {
     "name": "stdout",
     "output_type": "stream",
     "text": [
      "3.539150485655148 0.33839202903382004\n",
      "3.5463263564422656 0.27040143128140015\n",
      "3.410275416049538 0.34155854729044394\n",
      "3.4504651106912796 0.35928115913686337\n"
     ]
    }
   ],
   "source": [
    "import matplotlib.pyplot as plt\n",
    "\n",
    "dind = np.s_[119, 134] #dind = np.s_[7, 104]\n",
    "\n",
    "plt.hist(distances_1[:, dind[0], dind[1]], label=\"1 bead\", alpha=0.5)\n",
    "# plt.hist(distances_16[:, dind[0], dind[1]], label=\"16 beads\", alpha=0.5)\n",
    "# plt.hist(distances_32[:, dind[0], dind[1]], label=\"32 beads\", alpha=0.5)\n",
    "# plt.hist(distances_64[:, dind[0], dind[1]], label=\"64 beads\", alpha=0.5)\n",
    "# plt.hist(distances_16_c, label=\"16 beads, centroid\", alpha=0.5)\n",
    "\n",
    "plt.hist(distances_16_good[:, dind[0], dind[1]], label=\"16 beads, good\", alpha=0.5)\n",
    "\n",
    "plt.legend()\n",
    "plt.show()\n",
    "\n",
    "print(distances_1[:, dind[0], dind[1]].mean(), distances_1[:, dind[0], dind[1]].var())\n",
    "print(distances_16[:, dind[0], dind[1]].mean(), distances_16[:, dind[0], dind[1]].var())\n",
    "print(distances_32[:, dind[0], dind[1]].mean(), distances_32[:, dind[0], dind[1]].var())\n",
    "print(distances_64[:, dind[0], dind[1]].mean(), distances_64[:, dind[0], dind[1]].var())\n",
    "# print(distances_16_c.mean(), distances_16_c.var())"
   ]
  },
  {
   "cell_type": "code",
   "execution_count": 409,
   "metadata": {},
   "outputs": [],
   "source": [
    "layer_0 = [ \n",
    "        [106, 10, 26, 24], \n",
    "        [102, 6, 18, 16], \n",
    "        [104,8,44,42],     \n",
    "        # [0,0,0,0],\n",
    "        # [0,0,0,0],\n",
    "        ]\n",
    "\n",
    "layer_1 = [ \n",
    "        [103,9,45,47], \n",
    "        # [105,9,45,43], \n",
    "        [107,11,27,25],\n",
    "        [107,7,19,21],       \n",
    "        # [105,11,27,29] \n",
    "        ]\n",
    "\n",
    "\n",
    "#Obtain normal indexing (from 0)\n",
    "import numpy as np      \n",
    "l0_v = np.array(layer_0)\n",
    "l1_v = np.array(layer_1)\n",
    "\n",
    "all_vert = np.array([l0_v, l1_v])"
   ]
  },
  {
   "cell_type": "code",
   "execution_count": 410,
   "metadata": {},
   "outputs": [],
   "source": [
    "import numpy as np\n",
    "from tqdm import tqdm\n",
    "\n",
    "# import math\n",
    "\n",
    "def normalize_angle_to_plus_minus_180(angle):\n",
    "    result_angle = angle\n",
    "    while result_angle > 180:\n",
    "        result_angle -= 2 * 180\n",
    "    while result_angle < - 180:\n",
    "        result_angle += 2 * 180\n",
    "    return result_angle \n",
    "\n",
    "\n",
    "def compute_angles(traj):\n",
    "    # print(\"Started for indices:\", indices)\n",
    "\n",
    "    # traj = io.read(file_name, index=indices)\n",
    "    L = len(traj)\n",
    "    dihedrals = np.zeros( (2,4,L) )\n",
    "    for ind, snap in tqdm(enumerate(traj)):\n",
    "        for l in range(2):\n",
    "                for r in range(3):\n",
    "                    #     a = np.append(a, x)\n",
    "                    # d = snap.get_dihedral(*all_vert[l,r,:])\n",
    "                    dihedrals[l,r,ind] = normalize_angle_to_plus_minus_180( snap.get_dihedral(*all_vert[l,r,:]) )   \n",
    "    # print(\"\\n\")\n",
    "    # print(\"\\nFinished for indices:\", indices)\n",
    "    return dihedrals"
   ]
  },
  {
   "cell_type": "code",
   "execution_count": 418,
   "metadata": {},
   "outputs": [
    {
     "name": "stderr",
     "output_type": "stream",
     "text": [
      "10001it [00:06, 1623.21it/s]\n",
      "10001it [00:05, 1698.21it/s]\n",
      "10001it [00:05, 1691.58it/s]\n",
      "10001it [00:06, 1651.03it/s]\n"
     ]
    }
   ],
   "source": [
    "dihedrals_1 = compute_angles(traj_1)\n",
    "dihedrals_16 = compute_angles(traj_16)\n",
    "dihedrals_32 = compute_angles(traj_32)\n",
    "dihedrals_64 = compute_angles(traj_64)"
   ]
  },
  {
   "cell_type": "code",
   "execution_count": 481,
   "metadata": {},
   "outputs": [
    {
     "name": "stderr",
     "output_type": "stream",
     "text": [
      "10001it [00:06, 1598.23it/s]\n"
     ]
    }
   ],
   "source": [
    "dihedrals_16_good = compute_angles(traj_16_good)"
   ]
  },
  {
   "cell_type": "code",
   "execution_count": null,
   "metadata": {},
   "outputs": [],
   "source": [
    "dihedrals_16_c = compute_angles(traj_16_centroid)"
   ]
  },
  {
   "cell_type": "code",
   "execution_count": 486,
   "metadata": {},
   "outputs": [
    {
     "data": {
      "image/png": "[encoded data removed]",
      "text/plain": [
       "<Figure size 640x480 with 1 Axes>"
      ]
     },
     "metadata": {},
     "output_type": "display_data"
    },
    {
     "name": "stdout",
     "output_type": "stream",
     "text": [
      "0.8270941286295868 116.78775465060092\n",
      "0.10661985824049923 144.6467341697435\n",
      "0.8276648040470974 118.3627463773979\n"
     ]
    },
    {
     "data": {
      "image/png": "[encoded data removed]",
      "text/plain": [
       "<Figure size 640x480 with 1 Axes>"
      ]
     },
     "metadata": {},
     "output_type": "display_data"
    }
   ],
   "source": [
    "import matplotlib.pyplot as plt\n",
    "import seaborn as sns\n",
    "\n",
    "lr = np.s_[0, 0] # [1,0] is good\n",
    "\n",
    "plt.hist(dihedrals_1[lr], label=\"1 bead\", alpha=0.5)\n",
    "# plt.hist(dihedrals_16[lr], label=\"16 beads\", alpha=0.5)\n",
    "plt.hist(dihedrals_32[lr], label=\"32 beads\", alpha=0.5)\n",
    "plt.hist(dihedrals_64[lr], label=\"64 beads\", alpha=0.5)\n",
    "# plt.hist(dihedrals_16_c[lr], label=\"16 beads, centroid\")\n",
    "plt.legend()\n",
    "plt.ylabel(\"Frequency\")\n",
    "plt.xlabel(\"Dihedral angle, degree\")\n",
    "plt.show()\n",
    "\n",
    "print(dihedrals_1[lr].mean(), dihedrals_1[lr].var())\n",
    "print(dihedrals_32[lr].mean(), dihedrals_32[lr].var())\n",
    "print(dihedrals_64[lr].mean(), dihedrals_64[lr].var())\n",
    "# print(dihedrals_16_c[lr].mean(), dihedrals_16_c[lr].var())\n",
    "\n",
    "sns.kdeplot(dihedrals_1[lr], label=\"MD\", linestyle='dashed', color='black')\n",
    "sns.kdeplot(dihedrals_16[lr], label=\"16 beads\")\n",
    "# sns.kdeplot(dihedrals_32[lr], label=\"32 beads\")\n",
    "# sns.kdeplot(dihedrals_64[lr], label=\"PIMD\", color='black')\n",
    "\n",
    "sns.kdeplot(dihedrals_16_good[lr], label=\"PIMD, good\", color='red')\n",
    "\n",
    "plt.ylabel(\"Frequency\")\n",
    "plt.xlabel(\"Dihedral angle, degrees\")\n",
    "plt.legend()\n",
    "plt.show()"
   ]
  },
  {
   "cell_type": "code",
   "execution_count": null,
   "metadata": {},
   "outputs": [],
   "source": []
  },
  {
   "cell_type": "code",
   "execution_count": null,
   "metadata": {},
   "outputs": [],
   "source": [
    "import os\n",
    "from ase.calculators.dftb import Dftb\n",
    "from ase.io import read\n",
    "os.environ['OMP_NUM_THREADS'] = \"6,1\"\n",
    "os.environ[\"ASE_DFTB_COMMAND\"] = \"ulimit -s unlimited; /usr/local/dftbplus-21.2/bin/dftb+ > PREFIX.out\"\n",
    "# os.environ[\"ASE_DFTB_COMMAND\"] = \"dftb+ > PREFIX.out\"\n",
    "os.environ[\"DFTB_PREFIX\"] = \"/home/qklmn/data/dftb/pbc-0-3\"\n",
    "\n",
    "atoms = read('/home/qklmn/data/starting_configuration/1.cif') # atoms specified here should be the same as in i-pi input file (otherwise atomic order differ, structure blows up!)\n",
    "\n",
    "atoms_copy = atoms.copy()\n",
    "\n",
    "atoms_copy.set_pbc(True)\n",
    "\n",
    "# calc = Dftb(atoms=atoms_copy,\n",
    "#         label='crystal',\n",
    "#         Hamiltonian_ = \"xTB\",\n",
    "#         Hamiltonian_Method = \"GFN1-xTB\",\n",
    "#         # Hamiltonian_MaxAngularMomentum_='',\n",
    "#         # Hamiltonian_MaxAngularMomentum_O='p',\n",
    "#         # Hamiltonian_MaxAngularMomentum_H='s',\n",
    "#         # Hamiltonian_MaxAngularMomentum_N='s',\n",
    "#         # Hamiltonian_MaxAngularMomentum_C='s',\n",
    "#         # Hamiltonian_MaxAngularMomentum_Si='s',\n",
    "#         kpts=(1,1,1),\n",
    "#         # Hamiltonian_SCC='Yes',\n",
    "#         # Verbosity=0,\n",
    "#         # Hamiltonian_OrbitalResolvedSCC = 'Yes',\n",
    "#         # Hamiltonian_SCCTolerance=1e-15,\n",
    "#         # kpts=None,\n",
    "#         # Driver_='ConjugateGradient',\n",
    "#         # Driver_MaxForceComponent=1e-3,\n",
    "#         # Driver_MaxSteps=200,\n",
    "#         # Driver_LatticeOpt = 'Yes',\n",
    "#         #     Driver_AppendGeometries = 'Yes',\n",
    "#         #     Driver_='',\n",
    "#         #     Driver_Socket_='',\n",
    "#         #     Driver_Socket_File='Hello'\n",
    "#         )\n",
    "\n",
    "calc = Dftb(atoms=atoms_copy,\n",
    "        label='crystal',\n",
    "        # Hamiltonian_ = \"xTB\",\n",
    "        # # Hamiltonian_Method = \"GFN1-xTB\",\n",
    "        Hamiltonian_MaxAngularMomentum_='',\n",
    "        Hamiltonian_MaxAngularMomentum_H='s',\n",
    "        Hamiltonian_MaxAngularMomentum_O='p',\n",
    "        Hamiltonian_MaxAngularMomentum_N='p',\n",
    "        Hamiltonian_MaxAngularMomentum_C='p',\n",
    "        Hamiltonian_MaxAngularMomentum_Si='d',\n",
    "        kpts=(2,1,1),\n",
    "        Hamiltonian_SCC='Yes',\n",
    "        # Verbosity=0,\n",
    "        # Hamiltonian_OrbitalResolvedSCC = 'Yes',\n",
    "        # Hamiltonian_SCCTolerance=1e-15,\n",
    "        # kpts=None,\n",
    "        # Driver_='ConjugateGradient',\n",
    "        # Driver_MaxForceComponent=1e-3,\n",
    "        # Driver_MaxSteps=200,\n",
    "        # Driver_LatticeOpt = 'Yes',\n",
    "        #     Driver_AppendGeometries = 'Yes',\n",
    "        #     Driver_='',\n",
    "        #     Driver_Socket_='',\n",
    "        #     Driver_Socket_File='Hello'\n",
    "        )\n",
    "\n",
    "atoms_copy.set_calculator(calc)\n",
    "\n",
    "# print( atoms_copy.get_potential_energy() )\n",
    "print( atoms_copy.get_forces() )\n"
   ]
  },
  {
   "cell_type": "code",
   "execution_count": null,
   "metadata": {},
   "outputs": [],
   "source": [
    "atoms_copy.get_pbc()"
   ]
  }
 ],
 "metadata": {
  "kernelspec": {
   "display_name": "Python 3 (ipykernel)",
   "language": "python",
   "name": "python3"
  },
  "language_info": {
   "codemirror_mode": {
    "name": "ipython",
    "version": 3
   },
   "file_extension": ".py",
   "mimetype": "text/x-python",
   "name": "python",
   "nbconvert_exporter": "python",
   "pygments_lexer": "ipython3",
   "version": "3.10.12"
  },
  "orig_nbformat": 4
 },
 "nbformat": 4,
 "nbformat_minor": 2
}
