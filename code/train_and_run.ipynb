{
 "cells": [
  {
   "cell_type": "code",
   "execution_count": 214,
   "metadata": {},
   "outputs": [],
   "source": [
    "# ! jupyter nbconvert --to python --RegexRemovePreprocessor.patterns=\"^%\"  train_and_run.ipynb\n",
    "\n",
    "# RULES:\n",
    "# 1. Do not make plot.show() only plot.savefig()"
   ]
  },
  {
   "cell_type": "code",
   "execution_count": 2,
   "metadata": {},
   "outputs": [],
   "source": [
    "%load_ext autoreload\n",
    "%autoreload 2"
   ]
  },
  {
   "cell_type": "markdown",
   "metadata": {},
   "source": [
    "## Make sweep"
   ]
  },
  {
   "cell_type": "code",
   "execution_count": 108,
   "metadata": {},
   "outputs": [
    {
     "data": {
      "text/plain": []
     },
     "execution_count": 108,
     "metadata": {},
     "output_type": "execute_result"
    }
   ],
   "source": [
    "# # https://docs.wandb.ai/guides/sweeps/walkthrough\n",
    "\n",
    "import os\n",
    "machine_name = os.uname()[1]\n",
    "import wandb\n",
    "wandb.init(project=\"rotor-gp\", save_code=True, notes=\"hello\", id=machine_name, mode='disabled')\n",
    "\n",
    "# sweep_configuration = {\n",
    "#     'method': 'random',\n",
    "#     'metric': \n",
    "#     {\n",
    "#         'goal': 'minimize', \n",
    "#         'name': 'score'\n",
    "#         },\n",
    "#     'parameters': \n",
    "#     {\n",
    "#         'x': {'max': 0.1, 'min': 0.01},\n",
    "#         'y': {'values': [1, 3, 7]},\n",
    "#      }\n",
    "# }"
   ]
  },
  {
   "cell_type": "markdown",
   "metadata": {},
   "source": [
    "## Data loading part"
   ]
  },
  {
   "cell_type": "code",
   "execution_count": 57,
   "metadata": {},
   "outputs": [],
   "source": [
    "from prepare_model import prepare_data, sample_data, prepare_model\n"
   ]
  },
  {
   "cell_type": "code",
   "execution_count": 135,
   "metadata": {},
   "outputs": [
    {
     "name": "stdout",
     "output_type": "stream",
     "text": [
      "Saving data to directory:  /misc/home/qklmn/repos/rotor-gp/results/train_and_run/2023-08-24_20 40-50_408508\n",
      "Loading training data...\n",
      "Length of the train trajectory:  400\n",
      "Total number of frames is 400\n",
      "Total number of batches is 400\n",
      "Total length of traj is 400\n",
      "Total number of batches 400\n",
      "Calculating invariants on trajectory with librascal...\n"
     ]
    },
    {
     "name": "stderr",
     "output_type": "stream",
     "text": [
      "100%|██████████| 400/400 [01:23<00:00,  4.79it/s]\n"
     ]
    },
    {
     "name": "stdout",
     "output_type": "stream",
     "text": [
      "Total number of frames is 20\n",
      "Total number of batches is 20\n",
      "Total length of traj is 20\n",
      "Total number of batches 20\n",
      "Calculating invariants on trajectory with librascal...\n"
     ]
    },
    {
     "name": "stderr",
     "output_type": "stream",
     "text": [
      "100%|██████████| 20/20 [00:03<00:00,  5.00it/s]\n"
     ]
    },
    {
     "name": "stdout",
     "output_type": "stream",
     "text": [
      "\n",
      "-----------\n",
      "Group  0\n",
      "-----------\n",
      "Number of training points for group 0:  14400\n",
      "Number of test points for group 0:  720\n",
      "\n",
      "-----------\n",
      "Group  1\n",
      "-----------\n",
      "Number of training points for group 1:  14400\n",
      "Number of test points for group 1:  720\n",
      "\n",
      "-----------\n",
      "Group  2\n",
      "-----------\n",
      "Number of training points for group 2:  21600\n",
      "Number of test points for group 2:  1080\n",
      "\n",
      "-----------\n",
      "Group  3\n",
      "-----------\n",
      "Number of training points for group 3:  129600\n",
      "Number of test points for group 3:  6480\n",
      "\n",
      "-----------\n",
      "Group  4\n",
      "-----------\n",
      "Number of training points for group 4:  7200\n",
      "Number of test points for group 4:  360\n",
      "\n",
      "-----------\n",
      "Group  5\n",
      "-----------\n",
      "Number of training points for group 5:  7200\n",
      "Number of test points for group 5:  360\n",
      "\n",
      "-----------\n",
      "Group  6\n",
      "-----------\n",
      "Number of training points for group 6:  14400\n",
      "Number of test points for group 6:  720\n",
      "\n",
      "-----------\n",
      "Group  7\n",
      "-----------\n",
      "Number of training points for group 7:  14400\n",
      "Number of test points for group 7:  720\n",
      "\n",
      "-----------\n",
      "Group  8\n",
      "-----------\n",
      "Number of training points for group 8:  7200\n",
      "Number of test points for group 8:  360\n",
      "\n",
      "-----------\n",
      "Group  9\n",
      "-----------\n",
      "Number of training points for group 9:  21600\n",
      "Number of test points for group 9:  1080\n",
      "\n",
      "-----------\n",
      "Group  10\n",
      "-----------\n",
      "Number of training points for group 10:  43200\n",
      "Number of test points for group 10:  2160\n",
      "\n",
      "-----------\n",
      "Group  11\n",
      "-----------\n",
      "Number of training points for group 11:  7200\n",
      "Number of test points for group 11:  360\n",
      "\n",
      "-----------\n",
      "Group  12\n",
      "-----------\n",
      "Number of training points for group 12:  7200\n",
      "Number of test points for group 12:  360\n",
      "\n",
      "-----------\n",
      "Group  13\n",
      "-----------\n",
      "Number of training points for group 13:  7200\n",
      "Number of test points for group 13:  360\n"
     ]
    }
   ],
   "source": [
    "# Hyperparameters:\n",
    "hparams = {\n",
    "        'dtype' : 'float32',\n",
    "        'device' : 'gpu'\n",
    "        }\n",
    "\n",
    "# Descriptors parameters:\n",
    "# https://github.com/lab-cosmo/librascal/blob/master/examples/MLIP_example.ipynb\n",
    "soap_params = {\n",
    "# 'species': [\"H\", \"C\", \"O\", \"N\", \"Si\"],\n",
    "# 'periodic': True,\n",
    "'interaction_cutoff': 3.5,\n",
    "'gaussian_sigma_constant': 0.3,\n",
    "'max_radial': 3,\n",
    "'max_angular': 3,\n",
    "'cutoff_smooth_width': 0.5,\n",
    "# 'average': \"off\",\n",
    "# 'crossover': True,\n",
    "# 'dtype': \"float64\",\n",
    "# 'n_jobs': 10,\n",
    "# 'sparse': False,\n",
    "# 'positions': [7, 11, 15] # ignored\n",
    "}\n",
    "\n",
    "\n",
    "fdm = prepare_data(hparams, soap_params, traj_sample_rate=1)"
   ]
  },
  {
   "cell_type": "code",
   "execution_count": 136,
   "metadata": {},
   "outputs": [
    {
     "name": "stdout",
     "output_type": "stream",
     "text": [
      "Dataloader for group 0 created\n",
      "Number of samples in dataloader: 1000\n",
      "Dataloader for group 1 created\n",
      "Number of samples in dataloader: 1000\n",
      "Dataloader for group 2 created\n",
      "Number of samples in dataloader: 1000\n",
      "Dataloader for group 3 created\n",
      "Number of samples in dataloader: 1000\n",
      "Dataloader for group 4 created\n",
      "Number of samples in dataloader: 1000\n",
      "Dataloader for group 5 created\n",
      "Number of samples in dataloader: 1000\n",
      "Dataloader for group 6 created\n",
      "Number of samples in dataloader: 1000\n",
      "Dataloader for group 7 created\n",
      "Number of samples in dataloader: 1000\n",
      "Dataloader for group 8 created\n",
      "Number of samples in dataloader: 1000\n",
      "Dataloader for group 9 created\n",
      "Number of samples in dataloader: 1000\n",
      "Dataloader for group 10 created\n",
      "Number of samples in dataloader: 1000\n",
      "Dataloader for group 11 created\n",
      "Number of samples in dataloader: 1000\n",
      "Dataloader for group 12 created\n",
      "Number of samples in dataloader: 1000\n",
      "Dataloader for group 13 created\n",
      "Number of samples in dataloader: 1000\n"
     ]
    }
   ],
   "source": [
    "#[1, 1, 1, 1, 1, 1, 1, 1, 1, 1, 1, 1, 1, 1] \n",
    "\n",
    "train_data_loaders = sample_data(fdm, N_samples=1000)"
   ]
  },
  {
   "cell_type": "markdown",
   "metadata": {},
   "source": [
    "## Training part"
   ]
  },
  {
   "cell_type": "code",
   "execution_count": 141,
   "metadata": {},
   "outputs": [
    {
     "data": {
      "text/plain": [
       "'/misc/home/qklmn/repos/rotor-gp/results/train_and_run/2023-08-24_20 40-50_408508'"
      ]
     },
     "execution_count": 141,
     "metadata": {},
     "output_type": "execute_result"
    }
   ],
   "source": [
    "os.getcwd()"
   ]
  },
  {
   "cell_type": "code",
   "execution_count": 137,
   "metadata": {},
   "outputs": [
    {
     "name": "stderr",
     "output_type": "stream",
     "text": [
      "GPU available: True (cuda), used: True\n",
      "TPU available: False, using: 0 TPU cores\n",
      "IPU available: False, using: 0 IPUs\n",
      "HPU available: False, using: 0 HPUs\n",
      "GPU available: True (cuda), used: True\n",
      "TPU available: False, using: 0 TPU cores\n",
      "IPU available: False, using: 0 IPUs\n",
      "HPU available: False, using: 0 HPUs\n",
      "GPU available: True (cuda), used: True\n",
      "TPU available: False, using: 0 TPU cores\n",
      "IPU available: False, using: 0 IPUs\n",
      "HPU available: False, using: 0 HPUs\n",
      "GPU available: True (cuda), used: True\n",
      "TPU available: False, using: 0 TPU cores\n",
      "IPU available: False, using: 0 IPUs\n",
      "HPU available: False, using: 0 HPUs\n"
     ]
    },
    {
     "name": "stdout",
     "output_type": "stream",
     "text": [
      "\n",
      "ModelForces initialized\n",
      "\n",
      "ModelForces initialized\n",
      "\n",
      "ModelForces initialized\n",
      "\n",
      "ModelForces initialized\n",
      "\n",
      "ModelForces initialized\n",
      "\n",
      "ModelForces initialized\n",
      "\n",
      "ModelForces initialized\n",
      "\n",
      "ModelForces initialized\n",
      "\n",
      "ModelForces initialized\n",
      "\n",
      "ModelForces initialized\n",
      "\n",
      "ModelForces initialized\n",
      "\n",
      "ModelForces initialized\n",
      "\n",
      "ModelForces initialized\n",
      "\n",
      "ModelForces initialized\n"
     ]
    },
    {
     "name": "stderr",
     "output_type": "stream",
     "text": [
      "GPU available: True (cuda), used: True\n",
      "TPU available: False, using: 0 TPU cores\n",
      "IPU available: False, using: 0 IPUs\n",
      "HPU available: False, using: 0 HPUs\n",
      "GPU available: True (cuda), used: True\n",
      "TPU available: False, using: 0 TPU cores\n",
      "IPU available: False, using: 0 IPUs\n",
      "HPU available: False, using: 0 HPUs\n",
      "GPU available: True (cuda), used: True\n",
      "TPU available: False, using: 0 TPU cores\n",
      "IPU available: False, using: 0 IPUs\n",
      "HPU available: False, using: 0 HPUs\n",
      "GPU available: True (cuda), used: True\n",
      "TPU available: False, using: 0 TPU cores\n",
      "IPU available: False, using: 0 IPUs\n",
      "HPU available: False, using: 0 HPUs\n",
      "GPU available: True (cuda), used: True\n",
      "TPU available: False, using: 0 TPU cores\n",
      "IPU available: False, using: 0 IPUs\n",
      "HPU available: False, using: 0 HPUs\n",
      "GPU available: True (cuda), used: True\n",
      "TPU available: False, using: 0 TPU cores\n",
      "IPU available: False, using: 0 IPUs\n",
      "HPU available: False, using: 0 HPUs\n",
      "GPU available: True (cuda), used: True\n",
      "TPU available: False, using: 0 TPU cores\n",
      "IPU available: False, using: 0 IPUs\n",
      "HPU available: False, using: 0 HPUs\n",
      "GPU available: True (cuda), used: True\n",
      "TPU available: False, using: 0 TPU cores\n",
      "IPU available: False, using: 0 IPUs\n",
      "HPU available: False, using: 0 HPUs\n",
      "GPU available: True (cuda), used: True\n",
      "TPU available: False, using: 0 TPU cores\n",
      "IPU available: False, using: 0 IPUs\n",
      "HPU available: False, using: 0 HPUs\n",
      "GPU available: True (cuda), used: True\n",
      "TPU available: False, using: 0 TPU cores\n",
      "IPU available: False, using: 0 IPUs\n",
      "HPU available: False, using: 0 HPUs\n",
      "Missing logger folder: /misc/home/qklmn/repos/rotor-gp/results/train_and_run/2023-08-24_20 40-50_408508/lightning_logs\n",
      "LOCAL_RANK: 0 - CUDA_VISIBLE_DEVICES: [5]\n",
      "\n",
      "  | Name       | Type                       | Params\n",
      "----------------------------------------------------------\n",
      "0 | likelihood | GaussianLikelihood         | 1     \n",
      "1 | model      | ExactGPModelForces         | 542   \n",
      "2 | mll        | ExactMarginalLogLikelihood | 542   \n",
      "----------------------------------------------------------\n",
      "542       Trainable params\n",
      "0         Non-trainable params\n",
      "542       Total params\n",
      "0.002     Total estimated model params size (MB)\n"
     ]
    },
    {
     "name": "stdout",
     "output_type": "stream",
     "text": [
      "Training force model 0 (Total 14 models)\n",
      "Epoch 0: 100%|██████████| 1/1 [00:00<00:00, 25.32it/s, v_num=0]"
     ]
    },
    {
     "name": "stderr",
     "output_type": "stream",
     "text": [
      "`Trainer.fit` stopped: `max_epochs=1` reached.\n"
     ]
    },
    {
     "name": "stdout",
     "output_type": "stream",
     "text": [
      "Epoch 0: 100%|██████████| 1/1 [00:00<00:00, 20.86it/s, v_num=0]"
     ]
    },
    {
     "name": "stderr",
     "output_type": "stream",
     "text": [
      "LOCAL_RANK: 0 - CUDA_VISIBLE_DEVICES: [5]\n",
      "\n",
      "  | Name       | Type                       | Params\n",
      "----------------------------------------------------------\n",
      "0 | likelihood | GaussianLikelihood         | 1     \n",
      "1 | model      | ExactGPModelForces         | 542   \n",
      "2 | mll        | ExactMarginalLogLikelihood | 542   \n",
      "----------------------------------------------------------\n",
      "542       Trainable params\n",
      "0         Non-trainable params\n",
      "542       Total params\n",
      "0.002     Total estimated model params size (MB)\n"
     ]
    },
    {
     "name": "stdout",
     "output_type": "stream",
     "text": [
      "\n",
      "Training force model 1 (Total 14 models)\n",
      "Epoch 0: 100%|██████████| 1/1 [00:00<00:00, 32.07it/s, v_num=1]"
     ]
    },
    {
     "name": "stderr",
     "output_type": "stream",
     "text": [
      "`Trainer.fit` stopped: `max_epochs=1` reached.\n"
     ]
    },
    {
     "name": "stdout",
     "output_type": "stream",
     "text": [
      "Epoch 0: 100%|██████████| 1/1 [00:00<00:00, 25.61it/s, v_num=1]\n"
     ]
    },
    {
     "name": "stderr",
     "output_type": "stream",
     "text": [
      "LOCAL_RANK: 0 - CUDA_VISIBLE_DEVICES: [5]\n",
      "\n",
      "  | Name       | Type                       | Params\n",
      "----------------------------------------------------------\n",
      "0 | likelihood | GaussianLikelihood         | 1     \n",
      "1 | model      | ExactGPModelForces         | 542   \n",
      "2 | mll        | ExactMarginalLogLikelihood | 542   \n",
      "----------------------------------------------------------\n",
      "542       Trainable params\n",
      "0         Non-trainable params\n",
      "542       Total params\n",
      "0.002     Total estimated model params size (MB)\n"
     ]
    },
    {
     "name": "stdout",
     "output_type": "stream",
     "text": [
      "Training force model 2 (Total 14 models)\n",
      "Epoch 0: 100%|██████████| 1/1 [00:00<00:00, 33.24it/s, v_num=2]"
     ]
    },
    {
     "name": "stderr",
     "output_type": "stream",
     "text": [
      "`Trainer.fit` stopped: `max_epochs=1` reached.\n"
     ]
    },
    {
     "name": "stdout",
     "output_type": "stream",
     "text": [
      "Epoch 0: 100%|██████████| 1/1 [00:00<00:00, 25.98it/s, v_num=2]\n"
     ]
    },
    {
     "name": "stderr",
     "output_type": "stream",
     "text": [
      "LOCAL_RANK: 0 - CUDA_VISIBLE_DEVICES: [5]\n",
      "\n",
      "  | Name       | Type                       | Params\n",
      "----------------------------------------------------------\n",
      "0 | likelihood | GaussianLikelihood         | 1     \n",
      "1 | model      | ExactGPModelForces         | 542   \n",
      "2 | mll        | ExactMarginalLogLikelihood | 542   \n",
      "----------------------------------------------------------\n",
      "542       Trainable params\n",
      "0         Non-trainable params\n",
      "542       Total params\n",
      "0.002     Total estimated model params size (MB)\n"
     ]
    },
    {
     "name": "stdout",
     "output_type": "stream",
     "text": [
      "Training force model 3 (Total 14 models)\n",
      "Epoch 0: 100%|██████████| 1/1 [00:00<00:00, 33.20it/s, v_num=3]"
     ]
    },
    {
     "name": "stderr",
     "output_type": "stream",
     "text": [
      "`Trainer.fit` stopped: `max_epochs=1` reached.\n"
     ]
    },
    {
     "name": "stdout",
     "output_type": "stream",
     "text": [
      "Epoch 0: 100%|██████████| 1/1 [00:00<00:00, 25.95it/s, v_num=3]\n"
     ]
    },
    {
     "name": "stderr",
     "output_type": "stream",
     "text": [
      "LOCAL_RANK: 0 - CUDA_VISIBLE_DEVICES: [5]\n",
      "\n",
      "  | Name       | Type                       | Params\n",
      "----------------------------------------------------------\n",
      "0 | likelihood | GaussianLikelihood         | 1     \n",
      "1 | model      | ExactGPModelForces         | 542   \n",
      "2 | mll        | ExactMarginalLogLikelihood | 542   \n",
      "----------------------------------------------------------\n",
      "542       Trainable params\n",
      "0         Non-trainable params\n",
      "542       Total params\n",
      "0.002     Total estimated model params size (MB)\n"
     ]
    },
    {
     "name": "stdout",
     "output_type": "stream",
     "text": [
      "Training force model 4 (Total 14 models)\n",
      "Epoch 0: 100%|██████████| 1/1 [00:00<00:00, 33.56it/s, v_num=4]"
     ]
    },
    {
     "name": "stderr",
     "output_type": "stream",
     "text": [
      "`Trainer.fit` stopped: `max_epochs=1` reached.\n"
     ]
    },
    {
     "name": "stdout",
     "output_type": "stream",
     "text": [
      "Epoch 0: 100%|██████████| 1/1 [00:00<00:00, 26.30it/s, v_num=4]\n"
     ]
    },
    {
     "name": "stderr",
     "output_type": "stream",
     "text": [
      "LOCAL_RANK: 0 - CUDA_VISIBLE_DEVICES: [5]\n",
      "\n",
      "  | Name       | Type                       | Params\n",
      "----------------------------------------------------------\n",
      "0 | likelihood | GaussianLikelihood         | 1     \n",
      "1 | model      | ExactGPModelForces         | 542   \n",
      "2 | mll        | ExactMarginalLogLikelihood | 542   \n",
      "----------------------------------------------------------\n",
      "542       Trainable params\n",
      "0         Non-trainable params\n",
      "542       Total params\n",
      "0.002     Total estimated model params size (MB)\n"
     ]
    },
    {
     "name": "stdout",
     "output_type": "stream",
     "text": [
      "Training force model 5 (Total 14 models)\n",
      "Epoch 0: 100%|██████████| 1/1 [00:00<00:00, 33.54it/s, v_num=5]"
     ]
    },
    {
     "name": "stderr",
     "output_type": "stream",
     "text": [
      "`Trainer.fit` stopped: `max_epochs=1` reached.\n"
     ]
    },
    {
     "name": "stdout",
     "output_type": "stream",
     "text": [
      "Epoch 0: 100%|██████████| 1/1 [00:00<00:00, 26.53it/s, v_num=5]\n",
      "Training force model 6 (Total 14 models)\n"
     ]
    },
    {
     "name": "stderr",
     "output_type": "stream",
     "text": [
      "LOCAL_RANK: 0 - CUDA_VISIBLE_DEVICES: [5]\n",
      "\n",
      "  | Name       | Type                       | Params\n",
      "----------------------------------------------------------\n",
      "0 | likelihood | GaussianLikelihood         | 1     \n",
      "1 | model      | ExactGPModelForces         | 542   \n",
      "2 | mll        | ExactMarginalLogLikelihood | 542   \n",
      "----------------------------------------------------------\n",
      "542       Trainable params\n",
      "0         Non-trainable params\n",
      "542       Total params\n",
      "0.002     Total estimated model params size (MB)\n"
     ]
    },
    {
     "name": "stdout",
     "output_type": "stream",
     "text": [
      "Epoch 0: 100%|██████████| 1/1 [00:00<00:00, 33.63it/s, v_num=6]"
     ]
    },
    {
     "name": "stderr",
     "output_type": "stream",
     "text": [
      "`Trainer.fit` stopped: `max_epochs=1` reached.\n"
     ]
    },
    {
     "name": "stdout",
     "output_type": "stream",
     "text": [
      "Epoch 0: 100%|██████████| 1/1 [00:00<00:00, 26.25it/s, v_num=6]\n",
      "Training force model 7 (Total 14 models)\n"
     ]
    },
    {
     "name": "stderr",
     "output_type": "stream",
     "text": [
      "LOCAL_RANK: 0 - CUDA_VISIBLE_DEVICES: [5]\n",
      "\n",
      "  | Name       | Type                       | Params\n",
      "----------------------------------------------------------\n",
      "0 | likelihood | GaussianLikelihood         | 1     \n",
      "1 | model      | ExactGPModelForces         | 542   \n",
      "2 | mll        | ExactMarginalLogLikelihood | 542   \n",
      "----------------------------------------------------------\n",
      "542       Trainable params\n",
      "0         Non-trainable params\n",
      "542       Total params\n",
      "0.002     Total estimated model params size (MB)\n"
     ]
    },
    {
     "name": "stdout",
     "output_type": "stream",
     "text": [
      "Epoch 0: 100%|██████████| 1/1 [00:00<00:00, 33.53it/s, v_num=7]"
     ]
    },
    {
     "name": "stderr",
     "output_type": "stream",
     "text": [
      "`Trainer.fit` stopped: `max_epochs=1` reached.\n"
     ]
    },
    {
     "name": "stdout",
     "output_type": "stream",
     "text": [
      "Epoch 0: 100%|██████████| 1/1 [00:00<00:00, 26.29it/s, v_num=7]\n",
      "Training force model 8 (Total 14 models)\n"
     ]
    },
    {
     "name": "stderr",
     "output_type": "stream",
     "text": [
      "LOCAL_RANK: 0 - CUDA_VISIBLE_DEVICES: [5]\n",
      "\n",
      "  | Name       | Type                       | Params\n",
      "----------------------------------------------------------\n",
      "0 | likelihood | GaussianLikelihood         | 1     \n",
      "1 | model      | ExactGPModelForces         | 542   \n",
      "2 | mll        | ExactMarginalLogLikelihood | 542   \n",
      "----------------------------------------------------------\n",
      "542       Trainable params\n",
      "0         Non-trainable params\n",
      "542       Total params\n",
      "0.002     Total estimated model params size (MB)\n"
     ]
    },
    {
     "name": "stdout",
     "output_type": "stream",
     "text": [
      "Epoch 0: 100%|██████████| 1/1 [00:00<00:00, 40.85it/s, v_num=8]"
     ]
    },
    {
     "name": "stderr",
     "output_type": "stream",
     "text": [
      "`Trainer.fit` stopped: `max_epochs=1` reached.\n"
     ]
    },
    {
     "name": "stdout",
     "output_type": "stream",
     "text": [
      "Epoch 0: 100%|██████████| 1/1 [00:00<00:00, 31.98it/s, v_num=8]"
     ]
    },
    {
     "name": "stderr",
     "output_type": "stream",
     "text": [
      "LOCAL_RANK: 0 - CUDA_VISIBLE_DEVICES: [5]\n",
      "\n",
      "  | Name       | Type                       | Params\n",
      "----------------------------------------------------------\n",
      "0 | likelihood | GaussianLikelihood         | 1     \n",
      "1 | model      | ExactGPModelForces         | 542   \n",
      "2 | mll        | ExactMarginalLogLikelihood | 542   \n",
      "----------------------------------------------------------\n",
      "542       Trainable params\n",
      "0         Non-trainable params\n",
      "542       Total params\n",
      "0.002     Total estimated model params size (MB)\n"
     ]
    },
    {
     "name": "stdout",
     "output_type": "stream",
     "text": [
      "\n",
      "Training force model 9 (Total 14 models)\n",
      "Epoch 0: 100%|██████████| 1/1 [00:00<00:00, 42.13it/s, v_num=9]"
     ]
    },
    {
     "name": "stderr",
     "output_type": "stream",
     "text": [
      "`Trainer.fit` stopped: `max_epochs=1` reached.\n"
     ]
    },
    {
     "name": "stdout",
     "output_type": "stream",
     "text": [
      "Epoch 0: 100%|██████████| 1/1 [00:00<00:00, 32.62it/s, v_num=9]"
     ]
    },
    {
     "name": "stderr",
     "output_type": "stream",
     "text": [
      "LOCAL_RANK: 0 - CUDA_VISIBLE_DEVICES: [5]\n",
      "\n",
      "  | Name       | Type                       | Params\n",
      "----------------------------------------------------------\n",
      "0 | likelihood | GaussianLikelihood         | 1     \n",
      "1 | model      | ExactGPModelForces         | 542   \n",
      "2 | mll        | ExactMarginalLogLikelihood | 542   \n",
      "----------------------------------------------------------\n",
      "542       Trainable params\n",
      "0         Non-trainable params\n",
      "542       Total params\n",
      "0.002     Total estimated model params size (MB)\n"
     ]
    },
    {
     "name": "stdout",
     "output_type": "stream",
     "text": [
      "\n",
      "Training force model 10 (Total 14 models)\n",
      "Epoch 0: 100%|██████████| 1/1 [00:00<00:00, 42.08it/s, v_num=10]"
     ]
    },
    {
     "name": "stderr",
     "output_type": "stream",
     "text": [
      "`Trainer.fit` stopped: `max_epochs=1` reached.\n"
     ]
    },
    {
     "name": "stdout",
     "output_type": "stream",
     "text": [
      "Epoch 0: 100%|██████████| 1/1 [00:00<00:00, 33.15it/s, v_num=10]\n"
     ]
    },
    {
     "name": "stderr",
     "output_type": "stream",
     "text": [
      "LOCAL_RANK: 0 - CUDA_VISIBLE_DEVICES: [5]\n",
      "\n",
      "  | Name       | Type                       | Params\n",
      "----------------------------------------------------------\n",
      "0 | likelihood | GaussianLikelihood         | 1     \n",
      "1 | model      | ExactGPModelForces         | 542   \n",
      "2 | mll        | ExactMarginalLogLikelihood | 542   \n",
      "----------------------------------------------------------\n",
      "542       Trainable params\n",
      "0         Non-trainable params\n",
      "542       Total params\n",
      "0.002     Total estimated model params size (MB)\n"
     ]
    },
    {
     "name": "stdout",
     "output_type": "stream",
     "text": [
      "Training force model 11 (Total 14 models)\n",
      "Epoch 0: 100%|██████████| 1/1 [00:00<00:00, 41.42it/s, v_num=11]"
     ]
    },
    {
     "name": "stderr",
     "output_type": "stream",
     "text": [
      "`Trainer.fit` stopped: `max_epochs=1` reached.\n"
     ]
    },
    {
     "name": "stdout",
     "output_type": "stream",
     "text": [
      "Epoch 0: 100%|██████████| 1/1 [00:00<00:00, 32.62it/s, v_num=11]\n"
     ]
    },
    {
     "name": "stderr",
     "output_type": "stream",
     "text": [
      "LOCAL_RANK: 0 - CUDA_VISIBLE_DEVICES: [5]\n",
      "\n",
      "  | Name       | Type                       | Params\n",
      "----------------------------------------------------------\n",
      "0 | likelihood | GaussianLikelihood         | 1     \n",
      "1 | model      | ExactGPModelForces         | 542   \n",
      "2 | mll        | ExactMarginalLogLikelihood | 542   \n",
      "----------------------------------------------------------\n",
      "542       Trainable params\n",
      "0         Non-trainable params\n",
      "542       Total params\n",
      "0.002     Total estimated model params size (MB)\n"
     ]
    },
    {
     "name": "stdout",
     "output_type": "stream",
     "text": [
      "Training force model 12 (Total 14 models)\n",
      "Epoch 0: 100%|██████████| 1/1 [00:00<00:00, 41.09it/s, v_num=12]"
     ]
    },
    {
     "name": "stderr",
     "output_type": "stream",
     "text": [
      "`Trainer.fit` stopped: `max_epochs=1` reached.\n"
     ]
    },
    {
     "name": "stdout",
     "output_type": "stream",
     "text": [
      "Epoch 0: 100%|██████████| 1/1 [00:00<00:00, 32.54it/s, v_num=12]\n"
     ]
    },
    {
     "name": "stderr",
     "output_type": "stream",
     "text": [
      "LOCAL_RANK: 0 - CUDA_VISIBLE_DEVICES: [5]\n",
      "\n",
      "  | Name       | Type                       | Params\n",
      "----------------------------------------------------------\n",
      "0 | likelihood | GaussianLikelihood         | 1     \n",
      "1 | model      | ExactGPModelForces         | 542   \n",
      "2 | mll        | ExactMarginalLogLikelihood | 542   \n",
      "----------------------------------------------------------\n",
      "542       Trainable params\n",
      "0         Non-trainable params\n",
      "542       Total params\n",
      "0.002     Total estimated model params size (MB)\n"
     ]
    },
    {
     "name": "stdout",
     "output_type": "stream",
     "text": [
      "Training force model 13 (Total 14 models)\n",
      "Epoch 599: 100%|██████████| 1/1 [00:00<00:00, 16.56it/s, v_num=13]"
     ]
    },
    {
     "name": "stderr",
     "output_type": "stream",
     "text": [
      "`Trainer.fit` stopped: `max_epochs=600` reached.\n"
     ]
    },
    {
     "name": "stdout",
     "output_type": "stream",
     "text": [
      "Epoch 599: 100%|██████████| 1/1 [00:00<00:00, 15.05it/s, v_num=13]\n",
      "\n"
     ]
    }
   ],
   "source": [
    "hparams['dtype'] = 'float32'\n",
    "hparams['device'] = 'gpu'\n",
    "\n",
    "# per AG steps and learning rate\n",
    "n_steps = [1, 1, 1, 1, 1, 1, 1, 1, 1, 1, 1, 1, 1, 600] \n",
    "learning_rate = [0.01, 0.01, 0.01, 0.01, 0.01, 0.01, 0.01, 0.01, 0.01, 0.01, 0.01, 0.01, 0.01, 0.01]\n",
    "\n",
    "AG_force_model = prepare_model(\n",
    "    train_data_loaders, \n",
    "    hparams, soap_params, \n",
    "    n_steps, \n",
    "    learning_rate, \n",
    "    gpu_id=0)"
   ]
  },
  {
   "cell_type": "code",
   "execution_count": 79,
   "metadata": {},
   "outputs": [
    {
     "data": {
      "text/plain": [
       "device(type='cpu')"
      ]
     },
     "execution_count": 79,
     "metadata": {},
     "output_type": "execute_result"
    }
   ],
   "source": [
    "AG_force_model.models[0].train_x.device"
   ]
  },
  {
   "cell_type": "markdown",
   "metadata": {},
   "source": [
    "## Testing part"
   ]
  },
  {
   "cell_type": "code",
   "execution_count": 139,
   "metadata": {},
   "outputs": [
    {
     "name": "stdout",
     "output_type": "stream",
     "text": [
      "Error metrics for atomic group  0\n",
      "RMSE:  0.30403683\n",
      "MAE:  0.2395168\n",
      "Max error:  0.93454015\n",
      "Error metrics for atomic group  1\n",
      "RMSE:  0.2842073\n",
      "MAE:  0.211183\n",
      "Max error:  1.0437183\n",
      "Error metrics for atomic group  2\n",
      "RMSE:  0.29275835\n",
      "MAE:  0.23110506\n",
      "Max error:  1.0554835\n",
      "Error metrics for atomic group  3\n",
      "RMSE:  0.33497414\n",
      "MAE:  0.25411162\n",
      "Max error:  1.7485415\n",
      "Error metrics for atomic group  4\n",
      "RMSE:  0.3967257\n",
      "MAE:  0.32564074\n",
      "Max error:  0.99438727\n",
      "Error metrics for atomic group  5\n",
      "RMSE:  0.43593562\n",
      "MAE:  0.34598163\n",
      "Max error:  1.3135114\n",
      "Error metrics for atomic group  6\n",
      "RMSE:  0.6704945\n",
      "MAE:  0.49867502\n",
      "Max error:  2.2307866\n",
      "Error metrics for atomic group  7\n",
      "RMSE:  0.72103083\n",
      "MAE:  0.5675234\n",
      "Max error:  2.4780366\n",
      "Error metrics for atomic group  8\n",
      "RMSE:  0.60720336\n",
      "MAE:  0.48427826\n",
      "Max error:  1.5025668\n",
      "Error metrics for atomic group  9\n",
      "RMSE:  0.6443672\n",
      "MAE:  0.5137005\n",
      "Max error:  2.0620642\n",
      "Error metrics for atomic group  10\n",
      "RMSE:  0.6159552\n",
      "MAE:  0.49229848\n",
      "Max error:  1.9373131\n",
      "Error metrics for atomic group  11\n",
      "RMSE:  0.47495958\n",
      "MAE:  0.37671578\n",
      "Max error:  1.4940767\n",
      "Error metrics for atomic group  12\n",
      "RMSE:  0.59965825\n",
      "MAE:  0.51872593\n",
      "Max error:  1.3256841\n",
      "Error metrics for atomic group  13\n",
      "RMSE:  0.33909065\n",
      "MAE:  0.26907298\n",
      "Max error:  0.98706007\n",
      "Analyzing where predictions are the worst...\n"
     ]
    }
   ],
   "source": [
    "### TESTING PREDICITONS ###\n",
    "\n",
    "# os.makedirs(\"\")\n",
    "\n",
    "from fande.predict import PredictorASE\n",
    "\n",
    "\n",
    "AG_force_model.eval()\n",
    "\n",
    "predictor = PredictorASE(\n",
    "            fdm,\n",
    "            AG_force_model,\n",
    "            hparams,\n",
    "            soap_params\n",
    ")\n",
    "\n",
    "rmse_per_model, mae_per_model = predictor.test_errors(view_worst_atoms=True)\n",
    "\n",
    "# rmse_per_model"
   ]
  },
  {
   "cell_type": "code",
   "execution_count": null,
   "metadata": {},
   "outputs": [],
   "source": [
    "from prepare_model import prepare_fande_ase_calc\n",
    "\n",
    "# Hyperparameters:\n",
    "hparams = {\n",
    "        'dtype' : 'float32',\n",
    "        'device' : 'gpu'\n",
    "        }\n",
    "\n",
    "# Descriptors parameters:\n",
    "# https://github.com/lab-cosmo/librascal/blob/master/examples/MLIP_example.ipynb\n",
    "soap_params = {\n",
    "# 'species': [\"H\", \"C\", \"O\", \"N\", \"Si\"],\n",
    "# 'periodic': True,\n",
    "'interaction_cutoff': 3.0,\n",
    "'gaussian_sigma_constant': 0.3,\n",
    "'max_radial': 4,\n",
    "'max_angular': 4,\n",
    "'cutoff_smooth_width': 0.1,\n",
    "# 'average': \"off\",\n",
    "# 'crossover': True,\n",
    "# 'dtype': \"float64\",\n",
    "# 'n_jobs': 10,\n",
    "# 'sparse': False,\n",
    "# 'positions': [7, 11, 15] # ignored\n",
    "}\n",
    "\n",
    "\n",
    "fande_calc = prepare_fande_ase_calc(hparams, soap_params)"
   ]
  },
  {
   "cell_type": "code",
   "execution_count": 136,
   "metadata": {},
   "outputs": [],
   "source": [
    "# from fande.predict import PredictorASE\n",
    "\n",
    "# from fande.ase import FandeCalc\n",
    "\n",
    "\n",
    "\n",
    "# predictor = PredictorASE(\n",
    "#             fdm,\n",
    "#             model_e,\n",
    "#             trainer_e,\n",
    "#             AG_force_model,\n",
    "#             # trainer_f,\n",
    "#             hparams,\n",
    "#             soap_params\n",
    "# )\n",
    "\n",
    "# atoms = traj_test[14].copy()\n",
    "\n",
    "# # predictor.predict_forces_single_snapshot_r(atoms)\n",
    "\n",
    "# atoms = traj_test[5].copy()\n",
    "\n",
    "# atoms.calc = FandeCalc(predictor)\n",
    "\n",
    "# atoms.get_forces()"
   ]
  },
  {
   "cell_type": "code",
   "execution_count": null,
   "metadata": {},
   "outputs": [],
   "source": [
    "# from matplotlib import pyplot as plt\n",
    "\n",
    "\n",
    "\n",
    "# traj_1 = traj_300\n",
    "\n",
    "# traj_2 = traj_1500\n",
    "\n",
    "# mol = traj_300[200].copy()\n",
    "\n",
    "\n",
    "\n",
    "# uncertainties_0 = []\n",
    "# traj_0 = []\n",
    "# for i in range(0,50):\n",
    "#     traj_0.append(mol.copy())\n",
    "#     uncertainties_0.append(FandeCalc(predictor).get_forces_variance(mol.copy())[13,1])\n",
    "#     mol.positions[13,1] = mol.positions[13,1] + 0.1\n",
    "\n",
    "# uncertainties_1 = []\n",
    "# for mol in traj_1[300:320]:\n",
    "#     uncertainties_1.append(FandeCalc(predictor).get_forces_variance(mol.copy())[212,0])\n",
    "\n",
    "# uncertainties_2 = []\n",
    "# for mol in traj_2[300:320]:\n",
    "#     uncertainties_2.append(FandeCalc(predictor).get_forces_variance(mol.copy())[212,0])"
   ]
  },
  {
   "cell_type": "code",
   "execution_count": null,
   "metadata": {},
   "outputs": [],
   "source": [
    "atoms.get_forces_variance()"
   ]
  },
  {
   "cell_type": "code",
   "execution_count": 163,
   "metadata": {},
   "outputs": [],
   "source": [
    "from ase import Atoms\n",
    "class AtomsWrapped(Atoms):   \n",
    "    def __init__(self, *args, **kwargs):\n",
    "        super(AtomsWrapped, self).__init__(*args, **kwargs)      \n",
    "        self.calc_history_counter = 0\n",
    "    \n",
    "    def get_forces_variance(self):\n",
    "        forces_variance = super(AtomsWrapped, self).calc.get_forces_variance(self)\n",
    "        return forces_variance\n",
    "\n",
    "\n",
    "    def get_forces(self):       \n",
    "        forces = super(AtomsWrapped, self).get_forces()\n",
    "        forces_variance = super(AtomsWrapped, self).calc.get_forces_variance(self)\n",
    "        self.arrays['forces_variance'] = forces_variance\n",
    "        # energy = super(AtomsWrapped, self).get_potential_energy()\n",
    "        from ase.io import write\n",
    "        import os\n",
    "        os.makedirs(\"ase_calc_history\" , exist_ok=True)\n",
    "        write( \"ase_calc_history/\" + str(self.calc_history_counter) + \".xyz\", self, format=\"extxyz\")\n",
    "        # self.calc_history.append(self.copy())       \n",
    "        self.calc_history_counter += 1\n",
    "        return forces\n",
    "\n",
    "\n",
    "\n",
    "    \n",
    "mol = io.read(\"/home/qklmn/data/starting_configuration/1.cif\")\n",
    "\n",
    "mol = AtomsWrapped(mol)\n",
    "mol.calc = FandeCalc(predictor)"
   ]
  },
  {
   "cell_type": "code",
   "execution_count": 165,
   "metadata": {},
   "outputs": [
    {
     "data": {
      "text/plain": [
       "array([[0.28246722, 0.2569364 , 0.17697105],\n",
       "       [0.16083393, 0.22986922, 0.22655949],\n",
       "       [0.26595339, 0.19469914, 0.15795645],\n",
       "       [0.21528253, 0.12407764, 0.21884617],\n",
       "       [0.59140593, 0.39451155, 0.44077215],\n",
       "       [0.43508896, 0.30540356, 0.42349371],\n",
       "       [0.74045306, 0.78981966, 0.77597141],\n",
       "       [0.73075187, 0.74705845, 0.75709736],\n",
       "       [0.74937946, 0.74908561, 0.77944779],\n",
       "       [0.75806224, 0.73596281, 0.72551358],\n",
       "       [0.73399311, 0.75456107, 0.74840587],\n",
       "       [0.71749824, 0.728517  , 0.7514413 ],\n",
       "       [0.73656768, 0.74442554, 0.72919828],\n",
       "       [0.73354727, 0.75287962, 0.7241143 ],\n",
       "       [0.73433924, 0.74929017, 0.83233702],\n",
       "       [0.76254344, 0.75875998, 0.77559745],\n",
       "       [0.73451585, 0.77248311, 0.79197532],\n",
       "       [0.74167603, 0.77837813, 0.76843727],\n",
       "       [0.70716739, 0.72476864, 0.71955955],\n",
       "       [0.7083602 , 0.72318393, 0.71659815],\n",
       "       [0.74912465, 0.76287735, 0.77348232],\n",
       "       [0.73211652, 0.74619669, 0.76579893],\n",
       "       [0.75519341, 0.75455219, 0.76504177],\n",
       "       [0.7384541 , 0.77441269, 0.78909934],\n",
       "       [0.75153947, 0.76098382, 0.73967761],\n",
       "       [0.73695886, 0.77031511, 0.74921471],\n",
       "       [0.71828687, 0.71095908, 0.7253986 ],\n",
       "       [0.71026576, 0.71392947, 0.72215325],\n",
       "       [0.73080331, 0.7707454 , 0.77494013],\n",
       "       [0.74052471, 0.77234906, 0.75118363],\n",
       "       [0.73759413, 0.86553895, 0.76788306],\n",
       "       [0.75117254, 0.84565002, 0.79138356],\n",
       "       [0.74407506, 0.73347008, 0.77226675],\n",
       "       [0.72371471, 0.7330507 , 0.78880274],\n",
       "       [0.74374396, 0.75975418, 0.76904529],\n",
       "       [0.73610884, 0.78522635, 0.77241397],\n",
       "       [0.79847693, 0.79970211, 0.77936327],\n",
       "       [0.78355289, 0.76348621, 0.7592411 ],\n",
       "       [0.78747237, 0.75571817, 0.7594623 ],\n",
       "       [0.75510377, 0.75725901, 0.75090361],\n",
       "       [0.74915743, 0.78366774, 0.75810134],\n",
       "       [0.73588854, 0.77417731, 0.7687031 ],\n",
       "       [0.73351169, 0.74540019, 0.7565217 ],\n",
       "       [0.75652385, 0.74510837, 0.74771351],\n",
       "       [0.71118748, 0.7238763 , 0.72444427],\n",
       "       [0.70862746, 0.71928221, 0.71403837],\n",
       "       [0.76802123, 0.7807039 , 0.79163897],\n",
       "       [0.74838197, 0.75261551, 0.74470073],\n",
       "       [0.74568927, 0.75915074, 0.75806499],\n",
       "       [0.74804652, 0.74895179, 0.75392246],\n",
       "       [0.75128347, 0.78089869, 0.82232547],\n",
       "       [0.74378353, 0.76661891, 0.79867935],\n",
       "       [0.77003384, 0.75442135, 0.75203711],\n",
       "       [0.76539195, 0.78045404, 0.7587567 ],\n",
       "       [0.76125395, 0.74997765, 0.77135307],\n",
       "       [0.78408128, 0.81688857, 0.77916479],\n",
       "       [0.7616998 , 0.80043221, 0.75267035],\n",
       "       [0.75933814, 0.76533777, 0.75916404],\n",
       "       [0.76669246, 0.76159841, 0.86177981],\n",
       "       [0.75897145, 0.7927708 , 0.79586154],\n",
       "       [0.79927272, 0.79736131, 0.78349203],\n",
       "       [0.88228917, 0.78860205, 0.77371836],\n",
       "       [0.73947036, 0.78345668, 0.75878179],\n",
       "       [0.74404705, 0.76372492, 0.78608602],\n",
       "       [0.77601027, 0.78123808, 0.76372433],\n",
       "       [0.8211484 , 0.78432119, 0.79023677],\n",
       "       [0.75789267, 0.74173981, 0.76113564],\n",
       "       [0.784944  , 0.78664166, 0.81501555],\n",
       "       [0.76096565, 0.79611975, 0.76514864],\n",
       "       [0.75729394, 0.78829414, 0.75794882],\n",
       "       [0.78874576, 0.78861761, 0.7697171 ],\n",
       "       [0.82433116, 0.80192351, 0.75769073],\n",
       "       [0.75090766, 0.76017797, 0.75807166],\n",
       "       [0.79068637, 0.76875782, 0.75844759],\n",
       "       [0.75517827, 0.75256926, 0.77594769],\n",
       "       [0.76614124, 0.77943337, 0.79582942],\n",
       "       [0.77616161, 0.75644404, 0.75496203],\n",
       "       [0.80547923, 0.80775183, 0.80727506],\n",
       "       [0.76091027, 0.73856932, 0.74018204],\n",
       "       [0.76578623, 0.77533233, 0.77276218],\n",
       "       [0.74393713, 0.76422447, 0.81658071],\n",
       "       [0.74139267, 0.75941968, 0.76528263],\n",
       "       [0.75302726, 0.74763501, 0.77229708],\n",
       "       [0.75404513, 0.74798536, 0.76427662],\n",
       "       [0.76147246, 0.7651844 , 0.77048349],\n",
       "       [0.75712436, 0.76432067, 0.76513451],\n",
       "       [0.77562857, 0.77521241, 0.75625736],\n",
       "       [0.7957629 , 0.77809358, 0.7609812 ],\n",
       "       [0.77721786, 0.77730113, 0.76785779],\n",
       "       [0.7589767 , 0.78748155, 0.76828676],\n",
       "       [0.75716519, 0.77459854, 0.78491759],\n",
       "       [0.77264988, 0.7500897 , 0.7617566 ],\n",
       "       [0.802149  , 0.76104367, 0.76978099],\n",
       "       [0.80143768, 0.77561867, 0.82599652],\n",
       "       [0.76114625, 0.84319037, 0.76077604],\n",
       "       [0.7585451 , 0.74481785, 0.83957422],\n",
       "       [0.78315073, 0.75596809, 0.94800496],\n",
       "       [0.75510192, 0.74701381, 0.81382871],\n",
       "       [0.82283688, 0.82069206, 0.76544452],\n",
       "       [0.75344014, 0.78770345, 0.8045789 ],\n",
       "       [0.78896868, 0.76185781, 0.76532847],\n",
       "       [0.80924356, 0.77226132, 0.8052482 ],\n",
       "       [0.72741789, 0.76675159, 0.80508411],\n",
       "       [0.75163692, 0.74958283, 0.74739838],\n",
       "       [0.72371399, 0.74837065, 0.75453722],\n",
       "       [0.75237435, 0.77547818, 0.73940605],\n",
       "       [0.78671622, 0.74738568, 0.74788779],\n",
       "       [0.74931562, 0.73105574, 0.75046998],\n",
       "       [0.76452875, 0.8125357 , 0.76818687],\n",
       "       [0.76673979, 0.75727421, 0.73478752],\n",
       "       [0.79440367, 0.78411251, 0.77636731],\n",
       "       [0.75930995, 0.79685581, 0.78831762],\n",
       "       [0.8313362 , 0.77121317, 0.80384761],\n",
       "       [0.77587712, 0.80717552, 0.8015117 ],\n",
       "       [0.75477874, 0.81677639, 0.90636694],\n",
       "       [0.80104113, 0.83697641, 0.79939628],\n",
       "       [0.80744123, 0.86582994, 0.92998552],\n",
       "       [0.82262051, 0.80119234, 0.85015011],\n",
       "       [0.75915337, 0.7986415 , 0.8146069 ],\n",
       "       [0.73446763, 0.77205896, 0.84694785],\n",
       "       [0.73977357, 0.77657282, 0.79089034],\n",
       "       [0.76676911, 0.78005981, 0.80846465],\n",
       "       [0.75926983, 0.78382182, 0.7407043 ],\n",
       "       [0.76733238, 0.87993914, 0.81381112],\n",
       "       [0.7316044 , 0.81016898, 0.82298201],\n",
       "       [0.73639315, 0.84579104, 0.80947798],\n",
       "       [0.83057177, 0.87351292, 0.81640911],\n",
       "       [0.75387222, 0.94304216, 0.83487099],\n",
       "       [0.81403422, 0.93604767, 0.92911899],\n",
       "       [0.75849509, 0.82475889, 1.031703  ],\n",
       "       [0.85550022, 0.77313977, 0.7689563 ],\n",
       "       [0.82054561, 0.80235517, 0.75847518],\n",
       "       [0.74021488, 0.91208184, 0.75526178],\n",
       "       [0.80972588, 0.96278346, 0.75924557],\n",
       "       [0.72580451, 0.83108068, 0.85612828],\n",
       "       [0.74357057, 0.79548299, 0.78102845],\n",
       "       [0.76775938, 0.81448424, 0.84405756],\n",
       "       [0.7940551 , 0.83905327, 0.77607691],\n",
       "       [0.81002665, 0.79075003, 0.83392227],\n",
       "       [0.8109743 , 0.78040451, 0.81211072],\n",
       "       [0.77171171, 0.84906626, 0.81099361],\n",
       "       [0.82529449, 0.89524186, 0.79729903],\n",
       "       [0.90754622, 0.79861146, 0.77360344],\n",
       "       [0.85314327, 0.78635514, 0.76942122],\n",
       "       [0.77550501, 0.84710026, 0.82888061],\n",
       "       [0.77993304, 0.83021188, 0.837529  ],\n",
       "       [0.88462728, 0.83810401, 0.83298248],\n",
       "       [0.77909321, 0.8006748 , 0.85609329],\n",
       "       [0.89950764, 0.87845188, 0.81153542],\n",
       "       [0.9394896 , 0.82633001, 0.86058891],\n",
       "       [1.04902911, 0.78789204, 0.92533147],\n",
       "       [1.07664788, 0.81131005, 0.9819808 ],\n",
       "       [0.77261323, 0.8395555 , 0.85761631],\n",
       "       [0.83625931, 0.85046393, 0.75079399],\n",
       "       [0.79790425, 0.81103528, 0.83457392],\n",
       "       [0.78015655, 0.76294863, 0.79717165],\n",
       "       [0.78893065, 0.7832132 , 0.90891969],\n",
       "       [0.84867299, 0.76085109, 0.8904112 ],\n",
       "       [0.87341607, 0.87412405, 0.81503695],\n",
       "       [0.87825263, 0.84945524, 0.8972733 ],\n",
       "       [0.78933197, 0.81813598, 0.79969203],\n",
       "       [0.78025752, 0.8155117 , 0.77324438],\n",
       "       [0.8481403 , 0.78869653, 0.77882487],\n",
       "       [0.90782619, 0.77779543, 0.82089263],\n",
       "       [0.76689953, 0.9299655 , 0.97148061],\n",
       "       [0.78844059, 0.89310026, 0.91605937],\n",
       "       [0.77931827, 0.84062314, 0.81749797],\n",
       "       [0.77504319, 0.78152221, 0.82264721],\n",
       "       [0.88706964, 0.80136424, 0.85884482],\n",
       "       [0.94845033, 0.83847749, 0.83892268],\n",
       "       [0.77870506, 0.81617945, 0.82775652],\n",
       "       [0.88485312, 0.8242979 , 0.90474927],\n",
       "       [0.87513363, 0.83052111, 0.84063864],\n",
       "       [0.79157341, 0.8899138 , 0.87708795],\n",
       "       [0.90187734, 0.83210957, 0.75293243],\n",
       "       [0.85433209, 0.88797808, 0.92129451],\n",
       "       [0.87462884, 0.91674316, 0.80217367],\n",
       "       [0.78614891, 0.80551028, 0.83533144],\n",
       "       [0.76869011, 0.81957752, 0.82080585],\n",
       "       [0.83980942, 0.76845413, 0.7725774 ],\n",
       "       [0.91044205, 0.98561078, 0.79208672],\n",
       "       [0.86046714, 0.96116   , 0.78583819],\n",
       "       [0.94525373, 0.78524029, 0.7629652 ],\n",
       "       [0.8365044 , 0.78889102, 0.89914471],\n",
       "       [0.80372167, 0.79300076, 0.91473198],\n",
       "       [0.95757389, 0.83449483, 0.9021374 ],\n",
       "       [0.80477983, 0.90173852, 0.81550324],\n",
       "       [0.8094008 , 0.78315985, 0.82414669],\n",
       "       [0.77644217, 0.81481469, 0.77052623],\n",
       "       [0.79529381, 0.88746512, 0.74910843],\n",
       "       [0.83112085, 0.89564925, 0.78598857],\n",
       "       [0.83353418, 0.87886429, 0.80122775],\n",
       "       [0.78266251, 0.79598206, 0.8426258 ],\n",
       "       [0.75293463, 0.83763212, 0.88356149],\n",
       "       [0.83477193, 0.91631019, 0.79177308],\n",
       "       [0.84367943, 0.80841935, 0.7820555 ],\n",
       "       [0.80953205, 0.78708017, 0.77124661],\n",
       "       [0.806463  , 0.81399143, 0.81934178],\n",
       "       [0.82263792, 0.77559042, 0.80598539],\n",
       "       [0.78174996, 0.824494  , 0.80800217],\n",
       "       [0.87462884, 0.82368368, 0.87066591],\n",
       "       [0.87690556, 0.82977176, 0.84010971],\n",
       "       [0.79863477, 0.80459249, 0.78170872],\n",
       "       [0.85744381, 0.83296525, 0.82162589],\n",
       "       [0.77306724, 0.84025168, 0.84008968],\n",
       "       [0.80379164, 0.80446869, 0.78663093],\n",
       "       [0.78103447, 0.88612676, 0.83106226],\n",
       "       [0.79196459, 0.91451699, 0.86383295],\n",
       "       [0.81920707, 0.83610797, 0.837731  ],\n",
       "       [0.78302801, 0.80231768, 0.83932203],\n",
       "       [0.84513855, 0.80807942, 0.74847728],\n",
       "       [0.92945063, 0.81588507, 0.75905442],\n",
       "       [0.77692157, 0.79751217, 0.81788778],\n",
       "       [0.81877118, 0.84577262, 0.84439123],\n",
       "       [0.79940611, 0.84200436, 0.85404664],\n",
       "       [0.86082888, 0.84980208, 0.87093294],\n",
       "       [0.78683138, 0.83091497, 0.86281538],\n",
       "       [0.80593574, 0.77457929, 0.88183486],\n",
       "       [0.91145277, 0.83894646, 0.85090274],\n",
       "       [0.9050315 , 0.86554098, 0.84566027],\n",
       "       [0.80832887, 0.87125248, 0.81649297],\n",
       "       [0.76574051, 0.75690973, 0.83428335],\n",
       "       [0.86867213, 0.79259086, 0.80466437],\n",
       "       [0.86569798, 0.86100733, 0.93007636],\n",
       "       [0.78717077, 0.88012105, 0.92705166],\n",
       "       [0.82556754, 0.89397633, 0.82171047],\n",
       "       [0.82390451, 0.86551166, 0.75736612],\n",
       "       [0.78941143, 0.83370227, 0.88638282],\n",
       "       [0.81056702, 0.78182411, 0.93224919],\n",
       "       [0.84771252, 0.86813873, 0.82092863],\n",
       "       [0.82993907, 0.77743715, 0.84516048],\n",
       "       [0.81304491, 0.85721672, 0.76031697],\n",
       "       [0.81503522, 0.76573825, 0.80029345],\n",
       "       [0.82307839, 0.79041576, 0.87203741],\n",
       "       [0.78607142, 0.79941392, 0.80443585],\n",
       "       [0.80819374, 0.88978362, 0.78393495],\n",
       "       [0.77531922, 0.84878498, 0.80866134],\n",
       "       [0.81590551, 0.81312054, 0.80069536],\n",
       "       [0.82132185, 0.7592926 , 0.86728078],\n",
       "       [0.78509372, 0.83666778, 0.79370052],\n",
       "       [0.88892221, 0.81775934, 0.806027  ],\n",
       "       [0.83059669, 0.89229244, 0.83253443],\n",
       "       [0.80936503, 0.90218061, 0.77415168],\n",
       "       [0.91761726, 0.93306863, 0.83209801],\n",
       "       [0.78675121, 0.78068203, 0.77098447],\n",
       "       [0.802719  , 0.80770415, 0.90522838],\n",
       "       [0.77214205, 0.87971908, 0.80468321],\n",
       "       [0.80361295, 0.85109586, 0.8477658 ],\n",
       "       [0.8273294 , 0.9391945 , 0.81015098],\n",
       "       [0.80778223, 0.80757308, 0.79140973],\n",
       "       [0.88943124, 0.7543835 , 0.82912791],\n",
       "       [0.8289268 , 0.76149553, 0.78317839],\n",
       "       [1.05213785, 0.80963176, 0.80507314],\n",
       "       [0.79199308, 0.80020446, 0.87431848],\n",
       "       [0.81557667, 0.84544957, 0.8116439 ],\n",
       "       [0.92725575, 0.84548408, 0.78495431],\n",
       "       [0.97126532, 0.86103445, 0.92782801],\n",
       "       [0.82814711, 0.878223  , 0.80097347],\n",
       "       [0.81081277, 0.8581093 , 0.793365  ],\n",
       "       [0.81809694, 0.81783986, 0.81815648],\n",
       "       [0.80118245, 0.88790727, 0.85627747],\n",
       "       [0.81424326, 0.86891687, 0.83662003],\n",
       "       [0.80062836, 0.7916708 , 0.78500473],\n",
       "       [0.82275867, 0.84478331, 0.79875344]])"
      ]
     },
     "execution_count": 165,
     "metadata": {},
     "output_type": "execute_result"
    }
   ],
   "source": [
    "mol.get_forces_variance()"
   ]
  },
  {
   "cell_type": "code",
   "execution_count": 153,
   "metadata": {},
   "outputs": [
    {
     "name": "stderr",
     "output_type": "stream",
     "text": [
      "/misc/home/qklmn/repos/rotor-gp/code/../../fande/fande/predict/predictors_ase.py:571: UserWarning:\n",
      "\n",
      "Calculating invariants...\n",
      "\n"
     ]
    },
    {
     "name": "stdout",
     "output_type": "stream",
     "text": [
      "Total number of frames is 1\n",
      "Total number of batches is 1\n",
      "Total length of traj is 1\n",
      "Total number of batches 1\n",
      "Calculating invariants on trajectory with librascal...\n"
     ]
    },
    {
     "name": "stderr",
     "output_type": "stream",
     "text": [
      "100%|██████████| 1/1 [00:00<00:00,  2.68it/s]\n",
      "/misc/home/qklmn/repos/rotor-gp/code/../../fande/fande/predict/predictors_ase.py:595: UserWarning:\n",
      "\n",
      "Predicting...\n",
      "\n"
     ]
    },
    {
     "data": {
      "text/plain": [
       "array([[0.28246722, 0.2569364 , 0.17697105],\n",
       "       [0.16083393, 0.22986922, 0.22655949],\n",
       "       [0.26595339, 0.19469914, 0.15795645],\n",
       "       [0.21528253, 0.12407764, 0.21884617],\n",
       "       [0.59140593, 0.39451155, 0.44077215],\n",
       "       [0.43508896, 0.30540356, 0.42349371],\n",
       "       [0.74045306, 0.78981966, 0.77597141],\n",
       "       [0.73075187, 0.74705845, 0.75709736],\n",
       "       [0.74937946, 0.74908561, 0.77944779],\n",
       "       [0.75806224, 0.73596281, 0.72551358],\n",
       "       [0.73399311, 0.75456107, 0.74840587],\n",
       "       [0.71749824, 0.728517  , 0.7514413 ],\n",
       "       [0.73656768, 0.74442554, 0.72919828],\n",
       "       [0.73354727, 0.75287962, 0.7241143 ],\n",
       "       [0.73433924, 0.74929017, 0.83233702],\n",
       "       [0.76254344, 0.75875998, 0.77559745],\n",
       "       [0.73451585, 0.77248311, 0.79197532],\n",
       "       [0.74167603, 0.77837813, 0.76843727],\n",
       "       [0.70716739, 0.72476864, 0.71955955],\n",
       "       [0.7083602 , 0.72318393, 0.71659815],\n",
       "       [0.74912465, 0.76287735, 0.77348232],\n",
       "       [0.73211652, 0.74619669, 0.76579893],\n",
       "       [0.75519341, 0.75455219, 0.76504177],\n",
       "       [0.7384541 , 0.77441269, 0.78909934],\n",
       "       [0.75153947, 0.76098382, 0.73967761],\n",
       "       [0.73695886, 0.77031511, 0.74921471],\n",
       "       [0.71828687, 0.71095908, 0.7253986 ],\n",
       "       [0.71026576, 0.71392947, 0.72215325],\n",
       "       [0.73080331, 0.7707454 , 0.77494013],\n",
       "       [0.74052471, 0.77234906, 0.75118363],\n",
       "       [0.73759413, 0.86553895, 0.76788306],\n",
       "       [0.75117254, 0.84565002, 0.79138356],\n",
       "       [0.74407506, 0.73347008, 0.77226675],\n",
       "       [0.72371471, 0.7330507 , 0.78880274],\n",
       "       [0.74374396, 0.75975418, 0.76904529],\n",
       "       [0.73610884, 0.78522635, 0.77241397],\n",
       "       [0.79847693, 0.79970211, 0.77936327],\n",
       "       [0.78355289, 0.76348621, 0.7592411 ],\n",
       "       [0.78747237, 0.75571817, 0.7594623 ],\n",
       "       [0.75510377, 0.75725901, 0.75090361],\n",
       "       [0.74915743, 0.78366774, 0.75810134],\n",
       "       [0.73588854, 0.77417731, 0.7687031 ],\n",
       "       [0.73351169, 0.74540019, 0.7565217 ],\n",
       "       [0.75652385, 0.74510837, 0.74771351],\n",
       "       [0.71118748, 0.7238763 , 0.72444427],\n",
       "       [0.70862746, 0.71928221, 0.71403837],\n",
       "       [0.76802123, 0.7807039 , 0.79163897],\n",
       "       [0.74838197, 0.75261551, 0.74470073],\n",
       "       [0.74568927, 0.75915074, 0.75806499],\n",
       "       [0.74804652, 0.74895179, 0.75392246],\n",
       "       [0.75128347, 0.78089869, 0.82232547],\n",
       "       [0.74378353, 0.76661891, 0.79867935],\n",
       "       [0.77003384, 0.75442135, 0.75203711],\n",
       "       [0.76539195, 0.78045404, 0.7587567 ],\n",
       "       [0.76125395, 0.74997765, 0.77135307],\n",
       "       [0.78408128, 0.81688857, 0.77916479],\n",
       "       [0.7616998 , 0.80043221, 0.75267035],\n",
       "       [0.75933814, 0.76533777, 0.75916404],\n",
       "       [0.76669246, 0.76159841, 0.86177981],\n",
       "       [0.75897145, 0.7927708 , 0.79586154],\n",
       "       [0.79927272, 0.79736131, 0.78349203],\n",
       "       [0.88228917, 0.78860205, 0.77371836],\n",
       "       [0.73947036, 0.78345668, 0.75878179],\n",
       "       [0.74404705, 0.76372492, 0.78608602],\n",
       "       [0.77601027, 0.78123808, 0.76372433],\n",
       "       [0.8211484 , 0.78432119, 0.79023677],\n",
       "       [0.75789267, 0.74173981, 0.76113564],\n",
       "       [0.784944  , 0.78664166, 0.81501555],\n",
       "       [0.76096565, 0.79611975, 0.76514864],\n",
       "       [0.75729394, 0.78829414, 0.75794882],\n",
       "       [0.78874576, 0.78861761, 0.7697171 ],\n",
       "       [0.82433116, 0.80192351, 0.75769073],\n",
       "       [0.75090766, 0.76017797, 0.75807166],\n",
       "       [0.79068637, 0.76875782, 0.75844759],\n",
       "       [0.75517827, 0.75256926, 0.77594769],\n",
       "       [0.76614124, 0.77943337, 0.79582942],\n",
       "       [0.77616161, 0.75644404, 0.75496203],\n",
       "       [0.80547923, 0.80775183, 0.80727506],\n",
       "       [0.76091027, 0.73856932, 0.74018204],\n",
       "       [0.76578623, 0.77533233, 0.77276218],\n",
       "       [0.74393713, 0.76422447, 0.81658071],\n",
       "       [0.74139267, 0.75941968, 0.76528263],\n",
       "       [0.75302726, 0.74763501, 0.77229708],\n",
       "       [0.75404513, 0.74798536, 0.76427662],\n",
       "       [0.76147246, 0.7651844 , 0.77048349],\n",
       "       [0.75712436, 0.76432067, 0.76513451],\n",
       "       [0.77562857, 0.77521241, 0.75625736],\n",
       "       [0.7957629 , 0.77809358, 0.7609812 ],\n",
       "       [0.77721786, 0.77730113, 0.76785779],\n",
       "       [0.7589767 , 0.78748155, 0.76828676],\n",
       "       [0.75716519, 0.77459854, 0.78491759],\n",
       "       [0.77264988, 0.7500897 , 0.7617566 ],\n",
       "       [0.802149  , 0.76104367, 0.76978099],\n",
       "       [0.80143768, 0.77561867, 0.82599652],\n",
       "       [0.76114625, 0.84319037, 0.76077604],\n",
       "       [0.7585451 , 0.74481785, 0.83957422],\n",
       "       [0.78315073, 0.75596809, 0.94800496],\n",
       "       [0.75510192, 0.74701381, 0.81382871],\n",
       "       [0.82283688, 0.82069206, 0.76544452],\n",
       "       [0.75344014, 0.78770345, 0.8045789 ],\n",
       "       [0.78896868, 0.76185781, 0.76532847],\n",
       "       [0.80924356, 0.77226132, 0.8052482 ],\n",
       "       [0.72741789, 0.76675159, 0.80508411],\n",
       "       [0.75163692, 0.74958283, 0.74739838],\n",
       "       [0.72371399, 0.74837065, 0.75453722],\n",
       "       [0.75237435, 0.77547818, 0.73940605],\n",
       "       [0.78671622, 0.74738568, 0.74788779],\n",
       "       [0.74931562, 0.73105574, 0.75046998],\n",
       "       [0.76452875, 0.8125357 , 0.76818687],\n",
       "       [0.76673979, 0.75727421, 0.73478752],\n",
       "       [0.79440367, 0.78411251, 0.77636731],\n",
       "       [0.75930995, 0.79685581, 0.78831762],\n",
       "       [0.8313362 , 0.77121317, 0.80384761],\n",
       "       [0.77587712, 0.80717552, 0.8015117 ],\n",
       "       [0.75477874, 0.81677639, 0.90636694],\n",
       "       [0.80104113, 0.83697641, 0.79939628],\n",
       "       [0.80744123, 0.86582994, 0.92998552],\n",
       "       [0.82262051, 0.80119234, 0.85015011],\n",
       "       [0.75915337, 0.7986415 , 0.8146069 ],\n",
       "       [0.73446763, 0.77205896, 0.84694785],\n",
       "       [0.73977357, 0.77657282, 0.79089034],\n",
       "       [0.76676911, 0.78005981, 0.80846465],\n",
       "       [0.75926983, 0.78382182, 0.7407043 ],\n",
       "       [0.76733238, 0.87993914, 0.81381112],\n",
       "       [0.7316044 , 0.81016898, 0.82298201],\n",
       "       [0.73639315, 0.84579104, 0.80947798],\n",
       "       [0.83057177, 0.87351292, 0.81640911],\n",
       "       [0.75387222, 0.94304216, 0.83487099],\n",
       "       [0.81403422, 0.93604767, 0.92911899],\n",
       "       [0.75849509, 0.82475889, 1.031703  ],\n",
       "       [0.85550022, 0.77313977, 0.7689563 ],\n",
       "       [0.82054561, 0.80235517, 0.75847518],\n",
       "       [0.74021488, 0.91208184, 0.75526178],\n",
       "       [0.80972588, 0.96278346, 0.75924557],\n",
       "       [0.72580451, 0.83108068, 0.85612828],\n",
       "       [0.74357057, 0.79548299, 0.78102845],\n",
       "       [0.76775938, 0.81448424, 0.84405756],\n",
       "       [0.7940551 , 0.83905327, 0.77607691],\n",
       "       [0.81002665, 0.79075003, 0.83392227],\n",
       "       [0.8109743 , 0.78040451, 0.81211072],\n",
       "       [0.77171171, 0.84906626, 0.81099361],\n",
       "       [0.82529449, 0.89524186, 0.79729903],\n",
       "       [0.90754622, 0.79861146, 0.77360344],\n",
       "       [0.85314327, 0.78635514, 0.76942122],\n",
       "       [0.77550501, 0.84710026, 0.82888061],\n",
       "       [0.77993304, 0.83021188, 0.837529  ],\n",
       "       [0.88462728, 0.83810401, 0.83298248],\n",
       "       [0.77909321, 0.8006748 , 0.85609329],\n",
       "       [0.89950764, 0.87845188, 0.81153542],\n",
       "       [0.9394896 , 0.82633001, 0.86058891],\n",
       "       [1.04902911, 0.78789204, 0.92533147],\n",
       "       [1.07664788, 0.81131005, 0.9819808 ],\n",
       "       [0.77261323, 0.8395555 , 0.85761631],\n",
       "       [0.83625931, 0.85046393, 0.75079399],\n",
       "       [0.79790425, 0.81103528, 0.83457392],\n",
       "       [0.78015655, 0.76294863, 0.79717165],\n",
       "       [0.78893065, 0.7832132 , 0.90891969],\n",
       "       [0.84867299, 0.76085109, 0.8904112 ],\n",
       "       [0.87341607, 0.87412405, 0.81503695],\n",
       "       [0.87825263, 0.84945524, 0.8972733 ],\n",
       "       [0.78933197, 0.81813598, 0.79969203],\n",
       "       [0.78025752, 0.8155117 , 0.77324438],\n",
       "       [0.8481403 , 0.78869653, 0.77882487],\n",
       "       [0.90782619, 0.77779543, 0.82089263],\n",
       "       [0.76689953, 0.9299655 , 0.97148061],\n",
       "       [0.78844059, 0.89310026, 0.91605937],\n",
       "       [0.77931827, 0.84062314, 0.81749797],\n",
       "       [0.77504319, 0.78152221, 0.82264721],\n",
       "       [0.88706964, 0.80136424, 0.85884482],\n",
       "       [0.94845033, 0.83847749, 0.83892268],\n",
       "       [0.77870506, 0.81617945, 0.82775652],\n",
       "       [0.88485312, 0.8242979 , 0.90474927],\n",
       "       [0.87513363, 0.83052111, 0.84063864],\n",
       "       [0.79157341, 0.8899138 , 0.87708795],\n",
       "       [0.90187734, 0.83210957, 0.75293243],\n",
       "       [0.85433209, 0.88797808, 0.92129451],\n",
       "       [0.87462884, 0.91674316, 0.80217367],\n",
       "       [0.78614891, 0.80551028, 0.83533144],\n",
       "       [0.76869011, 0.81957752, 0.82080585],\n",
       "       [0.83980942, 0.76845413, 0.7725774 ],\n",
       "       [0.91044205, 0.98561078, 0.79208672],\n",
       "       [0.86046714, 0.96116   , 0.78583819],\n",
       "       [0.94525373, 0.78524029, 0.7629652 ],\n",
       "       [0.8365044 , 0.78889102, 0.89914471],\n",
       "       [0.80372167, 0.79300076, 0.91473198],\n",
       "       [0.95757389, 0.83449483, 0.9021374 ],\n",
       "       [0.80477983, 0.90173852, 0.81550324],\n",
       "       [0.8094008 , 0.78315985, 0.82414669],\n",
       "       [0.77644217, 0.81481469, 0.77052623],\n",
       "       [0.79529381, 0.88746512, 0.74910843],\n",
       "       [0.83112085, 0.89564925, 0.78598857],\n",
       "       [0.83353418, 0.87886429, 0.80122775],\n",
       "       [0.78266251, 0.79598206, 0.8426258 ],\n",
       "       [0.75293463, 0.83763212, 0.88356149],\n",
       "       [0.83477193, 0.91631019, 0.79177308],\n",
       "       [0.84367943, 0.80841935, 0.7820555 ],\n",
       "       [0.80953205, 0.78708017, 0.77124661],\n",
       "       [0.806463  , 0.81399143, 0.81934178],\n",
       "       [0.82263792, 0.77559042, 0.80598539],\n",
       "       [0.78174996, 0.824494  , 0.80800217],\n",
       "       [0.87462884, 0.82368368, 0.87066591],\n",
       "       [0.87690556, 0.82977176, 0.84010971],\n",
       "       [0.79863477, 0.80459249, 0.78170872],\n",
       "       [0.85744381, 0.83296525, 0.82162589],\n",
       "       [0.77306724, 0.84025168, 0.84008968],\n",
       "       [0.80379164, 0.80446869, 0.78663093],\n",
       "       [0.78103447, 0.88612676, 0.83106226],\n",
       "       [0.79196459, 0.91451699, 0.86383295],\n",
       "       [0.81920707, 0.83610797, 0.837731  ],\n",
       "       [0.78302801, 0.80231768, 0.83932203],\n",
       "       [0.84513855, 0.80807942, 0.74847728],\n",
       "       [0.92945063, 0.81588507, 0.75905442],\n",
       "       [0.77692157, 0.79751217, 0.81788778],\n",
       "       [0.81877118, 0.84577262, 0.84439123],\n",
       "       [0.79940611, 0.84200436, 0.85404664],\n",
       "       [0.86082888, 0.84980208, 0.87093294],\n",
       "       [0.78683138, 0.83091497, 0.86281538],\n",
       "       [0.80593574, 0.77457929, 0.88183486],\n",
       "       [0.91145277, 0.83894646, 0.85090274],\n",
       "       [0.9050315 , 0.86554098, 0.84566027],\n",
       "       [0.80832887, 0.87125248, 0.81649297],\n",
       "       [0.76574051, 0.75690973, 0.83428335],\n",
       "       [0.86867213, 0.79259086, 0.80466437],\n",
       "       [0.86569798, 0.86100733, 0.93007636],\n",
       "       [0.78717077, 0.88012105, 0.92705166],\n",
       "       [0.82556754, 0.89397633, 0.82171047],\n",
       "       [0.82390451, 0.86551166, 0.75736612],\n",
       "       [0.78941143, 0.83370227, 0.88638282],\n",
       "       [0.81056702, 0.78182411, 0.93224919],\n",
       "       [0.84771252, 0.86813873, 0.82092863],\n",
       "       [0.82993907, 0.77743715, 0.84516048],\n",
       "       [0.81304491, 0.85721672, 0.76031697],\n",
       "       [0.81503522, 0.76573825, 0.80029345],\n",
       "       [0.82307839, 0.79041576, 0.87203741],\n",
       "       [0.78607142, 0.79941392, 0.80443585],\n",
       "       [0.80819374, 0.88978362, 0.78393495],\n",
       "       [0.77531922, 0.84878498, 0.80866134],\n",
       "       [0.81590551, 0.81312054, 0.80069536],\n",
       "       [0.82132185, 0.7592926 , 0.86728078],\n",
       "       [0.78509372, 0.83666778, 0.79370052],\n",
       "       [0.88892221, 0.81775934, 0.806027  ],\n",
       "       [0.83059669, 0.89229244, 0.83253443],\n",
       "       [0.80936503, 0.90218061, 0.77415168],\n",
       "       [0.91761726, 0.93306863, 0.83209801],\n",
       "       [0.78675121, 0.78068203, 0.77098447],\n",
       "       [0.802719  , 0.80770415, 0.90522838],\n",
       "       [0.77214205, 0.87971908, 0.80468321],\n",
       "       [0.80361295, 0.85109586, 0.8477658 ],\n",
       "       [0.8273294 , 0.9391945 , 0.81015098],\n",
       "       [0.80778223, 0.80757308, 0.79140973],\n",
       "       [0.88943124, 0.7543835 , 0.82912791],\n",
       "       [0.8289268 , 0.76149553, 0.78317839],\n",
       "       [1.05213785, 0.80963176, 0.80507314],\n",
       "       [0.79199308, 0.80020446, 0.87431848],\n",
       "       [0.81557667, 0.84544957, 0.8116439 ],\n",
       "       [0.92725575, 0.84548408, 0.78495431],\n",
       "       [0.97126532, 0.86103445, 0.92782801],\n",
       "       [0.82814711, 0.878223  , 0.80097347],\n",
       "       [0.81081277, 0.8581093 , 0.793365  ],\n",
       "       [0.81809694, 0.81783986, 0.81815648],\n",
       "       [0.80118245, 0.88790727, 0.85627747],\n",
       "       [0.81424326, 0.86891687, 0.83662003],\n",
       "       [0.80062836, 0.7916708 , 0.78500473],\n",
       "       [0.82275867, 0.84478331, 0.79875344]])"
      ]
     },
     "execution_count": 153,
     "metadata": {},
     "output_type": "execute_result"
    }
   ],
   "source": [
    "mol.calc.get_forces_variance(mol)"
   ]
  },
  {
   "cell_type": "markdown",
   "metadata": {},
   "source": [
    "## Compute MD with ML model"
   ]
  },
  {
   "cell_type": "code",
   "execution_count": 51,
   "metadata": {},
   "outputs": [
    {
     "name": "stdout",
     "output_type": "stream",
     "text": [
      "Testing performance with (meta-)dynamics run...\n"
     ]
    },
    {
     "name": "stderr",
     "output_type": "stream",
     "text": [
      "/misc/home/qklmn/repos/rotor-gp/code/../../fande/fande/predict/predictors_ase.py:571: UserWarning:\n",
      "\n",
      "Calculating invariants...\n",
      "\n"
     ]
    },
    {
     "name": "stdout",
     "output_type": "stream",
     "text": [
      "Total number of frames is 1\n",
      "Total number of batches is 1\n",
      "Total length of traj is 1\n",
      "Total number of batches 1\n",
      "Calculating invariants on trajectory with librascal...\n"
     ]
    },
    {
     "name": "stderr",
     "output_type": "stream",
     "text": [
      "100%|██████████| 1/1 [00:00<00:00,  5.10it/s]\n",
      "/misc/home/qklmn/repos/rotor-gp/code/../../fande/fande/predict/predictors_ase.py:595: UserWarning:\n",
      "\n",
      "Predicting...\n",
      "\n"
     ]
    },
    {
     "name": "stdout",
     "output_type": "stream",
     "text": [
      "Total number of frames is 1\n",
      "Total number of batches is 1\n",
      "Total length of traj is 1\n",
      "Total number of batches 1\n",
      "Calculating invariants on trajectory with librascal...\n"
     ]
    },
    {
     "name": "stderr",
     "output_type": "stream",
     "text": [
      "100%|██████████| 1/1 [00:00<00:00,  3.37it/s]\n"
     ]
    },
    {
     "name": "stdout",
     "output_type": "stream",
     "text": [
      "Total number of frames is 1\n",
      "Total number of batches is 1\n",
      "Total length of traj is 1\n",
      "Total number of batches 1\n",
      "Calculating invariants on trajectory with librascal...\n"
     ]
    },
    {
     "name": "stderr",
     "output_type": "stream",
     "text": [
      "100%|██████████| 1/1 [00:00<00:00,  3.35it/s]\n"
     ]
    },
    {
     "name": "stdout",
     "output_type": "stream",
     "text": [
      "Total number of frames is 1\n",
      "Total number of batches is 1\n",
      "Total length of traj is 1\n",
      "Total number of batches 1\n",
      "Calculating invariants on trajectory with librascal...\n"
     ]
    },
    {
     "name": "stderr",
     "output_type": "stream",
     "text": [
      "100%|██████████| 1/1 [00:00<00:00,  3.74it/s]\n"
     ]
    },
    {
     "name": "stdout",
     "output_type": "stream",
     "text": [
      "Total number of frames is 1\n",
      "Total number of batches is 1\n",
      "Total length of traj is 1\n",
      "Total number of batches 1\n",
      "Calculating invariants on trajectory with librascal...\n"
     ]
    },
    {
     "name": "stderr",
     "output_type": "stream",
     "text": [
      "100%|██████████| 1/1 [00:00<00:00,  4.09it/s]\n"
     ]
    },
    {
     "name": "stdout",
     "output_type": "stream",
     "text": [
      "Total number of frames is 1\n",
      "Total number of batches is 1\n",
      "Total length of traj is 1\n",
      "Total number of batches 1\n",
      "Calculating invariants on trajectory with librascal...\n"
     ]
    },
    {
     "name": "stderr",
     "output_type": "stream",
     "text": [
      "100%|██████████| 1/1 [00:00<00:00,  5.19it/s]\n"
     ]
    },
    {
     "name": "stdout",
     "output_type": "stream",
     "text": [
      "Total number of frames is 1\n",
      "Total number of batches is 1\n",
      "Total length of traj is 1\n",
      "Total number of batches 1\n",
      "Calculating invariants on trajectory with librascal...\n"
     ]
    },
    {
     "name": "stderr",
     "output_type": "stream",
     "text": [
      "100%|██████████| 1/1 [00:00<00:00,  5.16it/s]\n"
     ]
    },
    {
     "name": "stdout",
     "output_type": "stream",
     "text": [
      "Total number of frames is 1\n",
      "Total number of batches is 1\n",
      "Total length of traj is 1\n",
      "Total number of batches 1\n",
      "Calculating invariants on trajectory with librascal...\n"
     ]
    },
    {
     "name": "stderr",
     "output_type": "stream",
     "text": [
      "100%|██████████| 1/1 [00:00<00:00,  5.14it/s]\n"
     ]
    },
    {
     "name": "stdout",
     "output_type": "stream",
     "text": [
      "Total number of frames is 1\n",
      "Total number of batches is 1\n",
      "Total length of traj is 1\n",
      "Total number of batches 1\n",
      "Calculating invariants on trajectory with librascal...\n"
     ]
    },
    {
     "name": "stderr",
     "output_type": "stream",
     "text": [
      "100%|██████████| 1/1 [00:00<00:00,  5.18it/s]\n"
     ]
    },
    {
     "name": "stdout",
     "output_type": "stream",
     "text": [
      "Total number of frames is 1\n",
      "Total number of batches is 1\n",
      "Total length of traj is 1\n",
      "Total number of batches 1\n",
      "Calculating invariants on trajectory with librascal...\n"
     ]
    },
    {
     "name": "stderr",
     "output_type": "stream",
     "text": [
      "100%|██████████| 1/1 [00:00<00:00,  5.20it/s]\n"
     ]
    },
    {
     "name": "stdout",
     "output_type": "stream",
     "text": [
      " ALL JOBS WITHIN PYTHON SCRIPT ARE DONE! \n"
     ]
    },
    {
     "ename": "NameError",
     "evalue": "name 'time' is not defined",
     "output_type": "error",
     "traceback": [
      "\u001b[0;31m---------------------------------------------------------------------------\u001b[0m",
      "\u001b[0;31mNameError\u001b[0m                                 Traceback (most recent call last)",
      "Cell \u001b[0;32mIn[51], line 111\u001b[0m\n\u001b[1;32m    101\u001b[0m \u001b[39m# # Structure optimization:\u001b[39;00m\n\u001b[1;32m    102\u001b[0m \u001b[39m# dyn = BFGS(\u001b[39;00m\n\u001b[1;32m    103\u001b[0m \u001b[39m#     atoms,\u001b[39;00m\n\u001b[1;32m    104\u001b[0m \u001b[39m#     trajectory=\"../results/test/md_runs/md_test.traj\",\u001b[39;00m\n\u001b[1;32m    105\u001b[0m \u001b[39m#     logfile=\"../results/test/md_runs/md_log.log\",)\u001b[39;00m\n\u001b[1;32m    106\u001b[0m \u001b[39m# dyn.run(fmax=0.1)\u001b[39;00m\n\u001b[1;32m    109\u001b[0m \u001b[39mprint\u001b[39m(\u001b[39m\"\u001b[39m\u001b[39m ALL JOBS WITHIN PYTHON SCRIPT ARE DONE! \u001b[39m\u001b[39m\"\u001b[39m)\n\u001b[0;32m--> 111\u001b[0m \u001b[39mprint\u001b[39m(\u001b[39m\"\u001b[39m\u001b[39mTIMING: \u001b[39m\u001b[39m\"\u001b[39m, time\u001b[39m.\u001b[39mtime()\u001b[39m-\u001b[39mstart_time, \u001b[39m\"\u001b[39m\u001b[39m seconds\u001b[39m\u001b[39m\"\u001b[39m)\n",
      "\u001b[0;31mNameError\u001b[0m: name 'time' is not defined"
     ]
    }
   ],
   "source": [
    "### MD with fande calc\n",
    "print('Testing performance with (meta-)dynamics run...')\n",
    "\n",
    "from fande.ase import FandeCalc\n",
    "from ase.units import Bohr,Rydberg,kJ,kB,fs,Hartree,mol,kcal\n",
    "\n",
    "from ase import io\n",
    "\n",
    "\n",
    "# from ase.geometry.analysis import Analysis\n",
    "from ase.constraints import FixAtoms, FixBondLengths\n",
    "from ase.optimize import BFGS\n",
    "from ase import units\n",
    "from ase.io import read\n",
    "import logging\n",
    "from ase.md.velocitydistribution import MaxwellBoltzmannDistribution\n",
    "from ase.md.verlet import VelocityVerlet\n",
    "from ase.md.langevin import Langevin\n",
    "from ase.md.npt import NPT\n",
    "from ase.md.nptberendsen import NPTBerendsen\n",
    "from ase.md.nvtberendsen import NVTBerendsen\n",
    "\n",
    "\n",
    "logging.getLogger(\"pytorch_lightning\").setLevel(logging.ERROR) # logging.ERROR to disable or INFO\n",
    "\n",
    "data_folder = \"/home/qklmn/data/\"\n",
    "traj_test = io.read(data_folder + \"datasets/rotors/different_temperatures/300/OUTCAR\", format=\"vasp-out\", index = \"300:400\")\n",
    "\n",
    "# traj_md = read('../results/test/machine_learning/dftb_opt_1000_six_rings.traj', index=\":\")\n",
    "# traj_opt = read('../results/test/machine_learning/opt.traj', index=\":\")\n",
    "\n",
    "# atoms = fdm.mol_traj[10].copy()\n",
    "# atoms = traj_md[300].copy()\n",
    "# atoms = traj_opt[-1].copy()\n",
    "atoms = traj_test[10].copy()\n",
    "atoms.set_pbc(True)\n",
    "\n",
    "\n",
    "# moving_atoms = sum(atomic_groups, []) \n",
    "# fixed_atoms = list( set(range(264)) - set(moving_atoms) )\n",
    "# fix_atoms = FixAtoms(indices=fixed_atoms)\n",
    "# atoms.set_constraint(fix_atoms)\n",
    "\n",
    "\n",
    "# atoms.calc = FandeCalc(predictor)\n",
    "atoms.calc = fande_calc\n",
    "\n",
    "\n",
    "# atoms.calc.set_atomic_groups([rings_carbons, rings_hydrogens], titles=[\"Rings carbons\", \"Rings hydrogens\"])\n",
    "# atoms.calc.set_forces_errors_plot_file(\"../results/test/md_runs/forces_errors.png\", loginterval=1)\n",
    "# atoms.calc = LennardJones()\n",
    "\n",
    "os.makedirs(\"md_run/\", exist_ok=True)\n",
    "\n",
    "# Verlet dynamics:\n",
    "# MaxwellBoltzmannDistribution(atoms, temperature_K=300)\n",
    "# dyn = VelocityVerlet(\n",
    "#     atoms,\n",
    "#     dt = 0.1*units.fs,\n",
    "#     trajectory=\"md_run/md_test.traj\",\n",
    "#     logfile=\"md_run/md_log.log\",\n",
    "# )\n",
    "\n",
    "# dyn = NPT(\n",
    "#     atoms,\n",
    "#     # dt = 0.5*units.fs,\n",
    "#     timestep=0.1,\n",
    "#     temperature_K=300,\n",
    "#     externalstress=0.0,\n",
    "#     trajectory=\"../results/test/md_runs/md_test.traj\",\n",
    "#     logfile=\"../results/test/md_runs/md_log.log\",\n",
    "# )\n",
    "\n",
    "# dyn = NPTBerendsen(atoms, timestep=0.1 * units.fs, temperature_K=300,\n",
    "#                    taut=100 * units.fs, pressure_au=1.01325 * units.bar,\n",
    "#                    taup=1000 * units.fs, compressibility=4.57e-5 / units.bar,\n",
    "#                    trajectory=\"../results/test/md_runs/md_test.traj\",\n",
    "#                    logfile=\"../results/test/md_runs/md_log.log\",)\n",
    "\n",
    "# import os\n",
    "\n",
    "# MaxwellBoltzmannDistribution(atoms, temperature_K=300, force_temp=True)\n",
    "# dyn = NVTBerendsen(atoms, 0.2 * units.fs, 300, taut=0.5*1000*units.fs, \n",
    "#                    trajectory=\"md_run/md_test.traj\",   \n",
    "#                    logfile=\"md_run/md_log.log\")\n",
    "\n",
    "# dyn.run(100)\n",
    "\n",
    "# Langevin dynamics:\n",
    "# https://databases.fysik.dtu.dk/ase/tutorials/md/md.html\n",
    "# MaxwellBoltzmannDistribution(atoms, temperature_K=100, force_temp=True)\n",
    "dyn = Langevin(atoms, 0.2*fs, \n",
    "               temperature_K=300, #0.1/units.kB, \n",
    "               friction=0.1,\n",
    "        #        fixcm=True, \n",
    "               trajectory='md_run/md_test.traj',\n",
    "               logfile=\"md_run/md_log.log\")\n",
    "\n",
    "dyn.run(10)\n",
    "\n",
    "# # Structure optimization:\n",
    "# dyn = BFGS(\n",
    "#     atoms,\n",
    "#     trajectory=\"../results/test/md_runs/md_test.traj\",\n",
    "#     logfile=\"../results/test/md_runs/md_log.log\",)\n",
    "# dyn.run(fmax=0.1)\n",
    "\n",
    "\n",
    "print(\" ALL JOBS WITHIN PYTHON SCRIPT ARE DONE! \")\n",
    "\n",
    "print(\"TIMING: \", time.time()-start_time, \" seconds\")"
   ]
  },
  {
   "cell_type": "code",
   "execution_count": 229,
   "metadata": {},
   "outputs": [
    {
     "name": "stdout",
     "output_type": "stream",
     "text": [
      "Total number of frames is 1\n",
      "Total number of batches is 1\n",
      "Total length of traj is 1\n",
      "Total number of batches 1\n",
      "Calculating invariants on trajectory with librascal...\n"
     ]
    },
    {
     "name": "stderr",
     "output_type": "stream",
     "text": [
      "100%|██████████| 1/1 [00:00<00:00,  2.90it/s]\n"
     ]
    },
    {
     "name": "stdout",
     "output_type": "stream",
     "text": [
      "Total number of frames is 1\n",
      "Total number of batches is 1\n",
      "Total length of traj is 1\n",
      "Total number of batches 1\n",
      "Calculating invariants on trajectory with librascal...\n"
     ]
    },
    {
     "name": "stderr",
     "output_type": "stream",
     "text": [
      "100%|██████████| 1/1 [00:00<00:00,  3.76it/s]\n"
     ]
    },
    {
     "name": "stdout",
     "output_type": "stream",
     "text": [
      "Total number of frames is 1\n",
      "Total number of batches is 1\n",
      "Total length of traj is 1\n",
      "Total number of batches 1\n",
      "Calculating invariants on trajectory with librascal...\n"
     ]
    },
    {
     "name": "stderr",
     "output_type": "stream",
     "text": [
      "100%|██████████| 1/1 [00:00<00:00,  3.74it/s]\n"
     ]
    },
    {
     "name": "stdout",
     "output_type": "stream",
     "text": [
      "Total number of frames is 1\n",
      "Total number of batches is 1\n",
      "Total length of traj is 1\n",
      "Total number of batches 1\n",
      "Calculating invariants on trajectory with librascal...\n"
     ]
    },
    {
     "name": "stderr",
     "output_type": "stream",
     "text": [
      "100%|██████████| 1/1 [00:00<00:00,  5.26it/s]\n"
     ]
    },
    {
     "name": "stdout",
     "output_type": "stream",
     "text": [
      "Total number of frames is 1\n",
      "Total number of batches is 1\n",
      "Total length of traj is 1\n",
      "Total number of batches 1\n",
      "Calculating invariants on trajectory with librascal...\n"
     ]
    },
    {
     "name": "stderr",
     "output_type": "stream",
     "text": [
      "100%|██████████| 1/1 [00:00<00:00,  5.27it/s]\n"
     ]
    },
    {
     "name": "stdout",
     "output_type": "stream",
     "text": [
      "Total number of frames is 1\n",
      "Total number of batches is 1\n",
      "Total length of traj is 1\n",
      "Total number of batches 1\n",
      "Calculating invariants on trajectory with librascal...\n"
     ]
    },
    {
     "name": "stderr",
     "output_type": "stream",
     "text": [
      "100%|██████████| 1/1 [00:00<00:00,  5.30it/s]\n"
     ]
    },
    {
     "name": "stdout",
     "output_type": "stream",
     "text": [
      "Total number of frames is 1\n",
      "Total number of batches is 1\n",
      "Total length of traj is 1\n",
      "Total number of batches 1\n",
      "Calculating invariants on trajectory with librascal...\n"
     ]
    },
    {
     "name": "stderr",
     "output_type": "stream",
     "text": [
      "100%|██████████| 1/1 [00:00<00:00,  5.27it/s]\n"
     ]
    },
    {
     "name": "stdout",
     "output_type": "stream",
     "text": [
      "Total number of frames is 1\n",
      "Total number of batches is 1\n",
      "Total length of traj is 1\n",
      "Total number of batches 1\n",
      "Calculating invariants on trajectory with librascal...\n"
     ]
    },
    {
     "name": "stderr",
     "output_type": "stream",
     "text": [
      "100%|██████████| 1/1 [00:00<00:00,  5.30it/s]\n"
     ]
    },
    {
     "name": "stdout",
     "output_type": "stream",
     "text": [
      "Total number of frames is 1\n",
      "Total number of batches is 1\n",
      "Total length of traj is 1\n",
      "Total number of batches 1\n",
      "Calculating invariants on trajectory with librascal...\n"
     ]
    },
    {
     "name": "stderr",
     "output_type": "stream",
     "text": [
      "100%|██████████| 1/1 [00:00<00:00,  5.29it/s]\n"
     ]
    },
    {
     "name": "stdout",
     "output_type": "stream",
     "text": [
      "Total number of frames is 1\n",
      "Total number of batches is 1\n",
      "Total length of traj is 1\n",
      "Total number of batches 1\n",
      "Calculating invariants on trajectory with librascal...\n"
     ]
    },
    {
     "name": "stderr",
     "output_type": "stream",
     "text": [
      "100%|██████████| 1/1 [00:00<00:00,  5.29it/s]\n"
     ]
    },
    {
     "name": "stdout",
     "output_type": "stream",
     "text": [
      "Total number of frames is 1\n",
      "Total number of batches is 1\n",
      "Total length of traj is 1\n",
      "Total number of batches 1\n",
      "Calculating invariants on trajectory with librascal...\n"
     ]
    },
    {
     "name": "stderr",
     "output_type": "stream",
     "text": [
      "100%|██████████| 1/1 [00:00<00:00,  5.30it/s]\n"
     ]
    },
    {
     "name": "stdout",
     "output_type": "stream",
     "text": [
      "Total number of frames is 1\n",
      "Total number of batches is 1\n",
      "Total length of traj is 1\n",
      "Total number of batches 1\n",
      "Calculating invariants on trajectory with librascal...\n"
     ]
    },
    {
     "name": "stderr",
     "output_type": "stream",
     "text": [
      "100%|██████████| 1/1 [00:00<00:00,  5.31it/s]\n"
     ]
    },
    {
     "name": "stdout",
     "output_type": "stream",
     "text": [
      "Total number of frames is 1\n",
      "Total number of batches is 1\n",
      "Total length of traj is 1\n",
      "Total number of batches 1\n",
      "Calculating invariants on trajectory with librascal...\n"
     ]
    },
    {
     "name": "stderr",
     "output_type": "stream",
     "text": [
      "100%|██████████| 1/1 [00:00<00:00,  5.32it/s]\n"
     ]
    },
    {
     "name": "stdout",
     "output_type": "stream",
     "text": [
      "Total number of frames is 1\n",
      "Total number of batches is 1\n",
      "Total length of traj is 1\n",
      "Total number of batches 1\n",
      "Calculating invariants on trajectory with librascal...\n"
     ]
    },
    {
     "name": "stderr",
     "output_type": "stream",
     "text": [
      "100%|██████████| 1/1 [00:00<00:00,  5.30it/s]\n"
     ]
    },
    {
     "name": "stdout",
     "output_type": "stream",
     "text": [
      "Total number of frames is 1\n",
      "Total number of batches is 1\n",
      "Total length of traj is 1\n",
      "Total number of batches 1\n",
      "Calculating invariants on trajectory with librascal...\n"
     ]
    },
    {
     "name": "stderr",
     "output_type": "stream",
     "text": [
      "100%|██████████| 1/1 [00:00<00:00,  5.30it/s]\n"
     ]
    },
    {
     "name": "stdout",
     "output_type": "stream",
     "text": [
      "Total number of frames is 1\n",
      "Total number of batches is 1\n",
      "Total length of traj is 1\n",
      "Total number of batches 1\n",
      "Calculating invariants on trajectory with librascal...\n"
     ]
    },
    {
     "name": "stderr",
     "output_type": "stream",
     "text": [
      "100%|██████████| 1/1 [00:00<00:00,  5.31it/s]\n"
     ]
    },
    {
     "name": "stdout",
     "output_type": "stream",
     "text": [
      "Total number of frames is 1\n",
      "Total number of batches is 1\n",
      "Total length of traj is 1\n",
      "Total number of batches 1\n",
      "Calculating invariants on trajectory with librascal...\n"
     ]
    },
    {
     "name": "stderr",
     "output_type": "stream",
     "text": [
      "100%|██████████| 1/1 [00:00<00:00,  5.30it/s]\n"
     ]
    },
    {
     "name": "stdout",
     "output_type": "stream",
     "text": [
      "Total number of frames is 1\n",
      "Total number of batches is 1\n",
      "Total length of traj is 1\n",
      "Total number of batches 1\n",
      "Calculating invariants on trajectory with librascal...\n"
     ]
    },
    {
     "name": "stderr",
     "output_type": "stream",
     "text": [
      "100%|██████████| 1/1 [00:00<00:00,  5.29it/s]\n"
     ]
    },
    {
     "name": "stdout",
     "output_type": "stream",
     "text": [
      "Total number of frames is 1\n",
      "Total number of batches is 1\n",
      "Total length of traj is 1\n",
      "Total number of batches 1\n",
      "Calculating invariants on trajectory with librascal...\n"
     ]
    },
    {
     "name": "stderr",
     "output_type": "stream",
     "text": [
      "100%|██████████| 1/1 [00:00<00:00,  5.31it/s]\n"
     ]
    },
    {
     "name": "stdout",
     "output_type": "stream",
     "text": [
      "Total number of frames is 1\n",
      "Total number of batches is 1\n",
      "Total length of traj is 1\n",
      "Total number of batches 1\n",
      "Calculating invariants on trajectory with librascal...\n"
     ]
    },
    {
     "name": "stderr",
     "output_type": "stream",
     "text": [
      "100%|██████████| 1/1 [00:00<00:00,  5.31it/s]\n"
     ]
    },
    {
     "name": "stdout",
     "output_type": "stream",
     "text": [
      "Total number of frames is 1\n",
      "Total number of batches is 1\n",
      "Total length of traj is 1\n",
      "Total number of batches 1\n",
      "Calculating invariants on trajectory with librascal...\n"
     ]
    },
    {
     "name": "stderr",
     "output_type": "stream",
     "text": [
      "100%|██████████| 1/1 [00:00<00:00,  5.32it/s]\n"
     ]
    },
    {
     "name": "stdout",
     "output_type": "stream",
     "text": [
      "Total number of frames is 1\n",
      "Total number of batches is 1\n",
      "Total length of traj is 1\n",
      "Total number of batches 1\n",
      "Calculating invariants on trajectory with librascal...\n"
     ]
    },
    {
     "name": "stderr",
     "output_type": "stream",
     "text": [
      "100%|██████████| 1/1 [00:00<00:00,  5.29it/s]\n"
     ]
    },
    {
     "name": "stdout",
     "output_type": "stream",
     "text": [
      "Total number of frames is 1\n",
      "Total number of batches is 1\n",
      "Total length of traj is 1\n",
      "Total number of batches 1\n",
      "Calculating invariants on trajectory with librascal...\n"
     ]
    },
    {
     "name": "stderr",
     "output_type": "stream",
     "text": [
      "100%|██████████| 1/1 [00:00<00:00,  5.31it/s]\n"
     ]
    },
    {
     "name": "stdout",
     "output_type": "stream",
     "text": [
      "Total number of frames is 1\n",
      "Total number of batches is 1\n",
      "Total length of traj is 1\n",
      "Total number of batches 1\n",
      "Calculating invariants on trajectory with librascal...\n"
     ]
    },
    {
     "name": "stderr",
     "output_type": "stream",
     "text": [
      "100%|██████████| 1/1 [00:00<00:00,  5.32it/s]\n"
     ]
    },
    {
     "name": "stdout",
     "output_type": "stream",
     "text": [
      "Total number of frames is 1\n",
      "Total number of batches is 1\n",
      "Total length of traj is 1\n",
      "Total number of batches 1\n",
      "Calculating invariants on trajectory with librascal...\n"
     ]
    },
    {
     "name": "stderr",
     "output_type": "stream",
     "text": [
      "100%|██████████| 1/1 [00:00<00:00,  5.30it/s]\n"
     ]
    },
    {
     "name": "stdout",
     "output_type": "stream",
     "text": [
      "Total number of frames is 1\n",
      "Total number of batches is 1\n",
      "Total length of traj is 1\n",
      "Total number of batches 1\n",
      "Calculating invariants on trajectory with librascal...\n"
     ]
    },
    {
     "name": "stderr",
     "output_type": "stream",
     "text": [
      "100%|██████████| 1/1 [00:00<00:00,  5.34it/s]\n"
     ]
    },
    {
     "name": "stdout",
     "output_type": "stream",
     "text": [
      "Total number of frames is 1\n",
      "Total number of batches is 1\n",
      "Total length of traj is 1\n",
      "Total number of batches 1\n",
      "Calculating invariants on trajectory with librascal...\n"
     ]
    },
    {
     "name": "stderr",
     "output_type": "stream",
     "text": [
      "100%|██████████| 1/1 [00:00<00:00,  5.26it/s]\n"
     ]
    },
    {
     "name": "stdout",
     "output_type": "stream",
     "text": [
      "Total number of frames is 1\n",
      "Total number of batches is 1\n",
      "Total length of traj is 1\n",
      "Total number of batches 1\n",
      "Calculating invariants on trajectory with librascal...\n"
     ]
    },
    {
     "name": "stderr",
     "output_type": "stream",
     "text": [
      "100%|██████████| 1/1 [00:00<00:00,  5.31it/s]\n"
     ]
    },
    {
     "name": "stdout",
     "output_type": "stream",
     "text": [
      "Total number of frames is 1\n",
      "Total number of batches is 1\n",
      "Total length of traj is 1\n",
      "Total number of batches 1\n",
      "Calculating invariants on trajectory with librascal...\n"
     ]
    },
    {
     "name": "stderr",
     "output_type": "stream",
     "text": [
      "100%|██████████| 1/1 [00:00<00:00,  5.32it/s]\n"
     ]
    },
    {
     "name": "stdout",
     "output_type": "stream",
     "text": [
      "Total number of frames is 1\n",
      "Total number of batches is 1\n",
      "Total length of traj is 1\n",
      "Total number of batches 1\n",
      "Calculating invariants on trajectory with librascal...\n"
     ]
    },
    {
     "name": "stderr",
     "output_type": "stream",
     "text": [
      "100%|██████████| 1/1 [00:00<00:00,  5.30it/s]\n"
     ]
    },
    {
     "name": "stdout",
     "output_type": "stream",
     "text": [
      "Total number of frames is 1\n",
      "Total number of batches is 1\n",
      "Total length of traj is 1\n",
      "Total number of batches 1\n",
      "Calculating invariants on trajectory with librascal...\n"
     ]
    },
    {
     "name": "stderr",
     "output_type": "stream",
     "text": [
      "100%|██████████| 1/1 [00:00<00:00,  5.27it/s]\n"
     ]
    },
    {
     "name": "stdout",
     "output_type": "stream",
     "text": [
      "Total number of frames is 1\n",
      "Total number of batches is 1\n",
      "Total length of traj is 1\n",
      "Total number of batches 1\n",
      "Calculating invariants on trajectory with librascal...\n"
     ]
    },
    {
     "name": "stderr",
     "output_type": "stream",
     "text": [
      "100%|██████████| 1/1 [00:00<00:00,  5.32it/s]\n"
     ]
    },
    {
     "name": "stdout",
     "output_type": "stream",
     "text": [
      "Total number of frames is 1\n",
      "Total number of batches is 1\n",
      "Total length of traj is 1\n",
      "Total number of batches 1\n",
      "Calculating invariants on trajectory with librascal...\n"
     ]
    },
    {
     "name": "stderr",
     "output_type": "stream",
     "text": [
      "100%|██████████| 1/1 [00:00<00:00,  5.33it/s]\n"
     ]
    },
    {
     "name": "stdout",
     "output_type": "stream",
     "text": [
      "Total number of frames is 1\n",
      "Total number of batches is 1\n",
      "Total length of traj is 1\n",
      "Total number of batches 1\n",
      "Calculating invariants on trajectory with librascal...\n"
     ]
    },
    {
     "name": "stderr",
     "output_type": "stream",
     "text": [
      "100%|██████████| 1/1 [00:00<00:00,  5.32it/s]\n"
     ]
    },
    {
     "name": "stdout",
     "output_type": "stream",
     "text": [
      "Total number of frames is 1\n",
      "Total number of batches is 1\n",
      "Total length of traj is 1\n",
      "Total number of batches 1\n",
      "Calculating invariants on trajectory with librascal...\n"
     ]
    },
    {
     "name": "stderr",
     "output_type": "stream",
     "text": [
      "100%|██████████| 1/1 [00:00<00:00,  5.26it/s]\n"
     ]
    },
    {
     "name": "stdout",
     "output_type": "stream",
     "text": [
      "Total number of frames is 1\n",
      "Total number of batches is 1\n",
      "Total length of traj is 1\n",
      "Total number of batches 1\n",
      "Calculating invariants on trajectory with librascal...\n"
     ]
    },
    {
     "name": "stderr",
     "output_type": "stream",
     "text": [
      "100%|██████████| 1/1 [00:00<00:00,  5.33it/s]\n"
     ]
    },
    {
     "name": "stdout",
     "output_type": "stream",
     "text": [
      "Total number of frames is 1\n",
      "Total number of batches is 1\n",
      "Total length of traj is 1\n",
      "Total number of batches 1\n",
      "Calculating invariants on trajectory with librascal...\n"
     ]
    },
    {
     "name": "stderr",
     "output_type": "stream",
     "text": [
      "100%|██████████| 1/1 [00:00<00:00,  5.32it/s]\n"
     ]
    },
    {
     "name": "stdout",
     "output_type": "stream",
     "text": [
      "Total number of frames is 1\n",
      "Total number of batches is 1\n",
      "Total length of traj is 1\n",
      "Total number of batches 1\n",
      "Calculating invariants on trajectory with librascal...\n"
     ]
    },
    {
     "name": "stderr",
     "output_type": "stream",
     "text": [
      "100%|██████████| 1/1 [00:00<00:00,  5.30it/s]\n"
     ]
    },
    {
     "name": "stdout",
     "output_type": "stream",
     "text": [
      "Total number of frames is 1\n",
      "Total number of batches is 1\n",
      "Total length of traj is 1\n",
      "Total number of batches 1\n",
      "Calculating invariants on trajectory with librascal...\n"
     ]
    },
    {
     "name": "stderr",
     "output_type": "stream",
     "text": [
      "100%|██████████| 1/1 [00:00<00:00,  5.30it/s]\n"
     ]
    },
    {
     "name": "stdout",
     "output_type": "stream",
     "text": [
      "Total number of frames is 1\n",
      "Total number of batches is 1\n",
      "Total length of traj is 1\n",
      "Total number of batches 1\n",
      "Calculating invariants on trajectory with librascal...\n"
     ]
    },
    {
     "name": "stderr",
     "output_type": "stream",
     "text": [
      "100%|██████████| 1/1 [00:00<00:00,  5.30it/s]\n"
     ]
    },
    {
     "name": "stdout",
     "output_type": "stream",
     "text": [
      "Total number of frames is 1\n",
      "Total number of batches is 1\n",
      "Total length of traj is 1\n",
      "Total number of batches 1\n",
      "Calculating invariants on trajectory with librascal...\n"
     ]
    },
    {
     "name": "stderr",
     "output_type": "stream",
     "text": [
      "100%|██████████| 1/1 [00:00<00:00,  5.31it/s]\n"
     ]
    },
    {
     "name": "stdout",
     "output_type": "stream",
     "text": [
      "Total number of frames is 1\n",
      "Total number of batches is 1\n",
      "Total length of traj is 1\n",
      "Total number of batches 1\n",
      "Calculating invariants on trajectory with librascal...\n"
     ]
    },
    {
     "name": "stderr",
     "output_type": "stream",
     "text": [
      "100%|██████████| 1/1 [00:00<00:00,  5.30it/s]\n"
     ]
    },
    {
     "name": "stdout",
     "output_type": "stream",
     "text": [
      "Total number of frames is 1\n",
      "Total number of batches is 1\n",
      "Total length of traj is 1\n",
      "Total number of batches 1\n",
      "Calculating invariants on trajectory with librascal...\n"
     ]
    },
    {
     "name": "stderr",
     "output_type": "stream",
     "text": [
      "100%|██████████| 1/1 [00:00<00:00,  5.31it/s]\n"
     ]
    },
    {
     "name": "stdout",
     "output_type": "stream",
     "text": [
      "Total number of frames is 1\n",
      "Total number of batches is 1\n",
      "Total length of traj is 1\n",
      "Total number of batches 1\n",
      "Calculating invariants on trajectory with librascal...\n"
     ]
    },
    {
     "name": "stderr",
     "output_type": "stream",
     "text": [
      "100%|██████████| 1/1 [00:00<00:00,  5.32it/s]\n"
     ]
    },
    {
     "name": "stdout",
     "output_type": "stream",
     "text": [
      "Total number of frames is 1\n",
      "Total number of batches is 1\n",
      "Total length of traj is 1\n",
      "Total number of batches 1\n",
      "Calculating invariants on trajectory with librascal...\n"
     ]
    },
    {
     "name": "stderr",
     "output_type": "stream",
     "text": [
      "100%|██████████| 1/1 [00:00<00:00,  5.22it/s]\n"
     ]
    },
    {
     "name": "stdout",
     "output_type": "stream",
     "text": [
      "Total number of frames is 1\n",
      "Total number of batches is 1\n",
      "Total length of traj is 1\n",
      "Total number of batches 1\n",
      "Calculating invariants on trajectory with librascal...\n"
     ]
    },
    {
     "name": "stderr",
     "output_type": "stream",
     "text": [
      "100%|██████████| 1/1 [00:00<00:00,  5.28it/s]\n"
     ]
    },
    {
     "name": "stdout",
     "output_type": "stream",
     "text": [
      "Total number of frames is 1\n",
      "Total number of batches is 1\n",
      "Total length of traj is 1\n",
      "Total number of batches 1\n",
      "Calculating invariants on trajectory with librascal...\n"
     ]
    },
    {
     "name": "stderr",
     "output_type": "stream",
     "text": [
      "100%|██████████| 1/1 [00:00<00:00,  5.25it/s]\n"
     ]
    },
    {
     "name": "stdout",
     "output_type": "stream",
     "text": [
      "Total number of frames is 1\n",
      "Total number of batches is 1\n",
      "Total length of traj is 1\n",
      "Total number of batches 1\n",
      "Calculating invariants on trajectory with librascal...\n"
     ]
    },
    {
     "name": "stderr",
     "output_type": "stream",
     "text": [
      "100%|██████████| 1/1 [00:00<00:00,  5.29it/s]\n"
     ]
    },
    {
     "name": "stdout",
     "output_type": "stream",
     "text": [
      "Total number of frames is 1\n",
      "Total number of batches is 1\n",
      "Total length of traj is 1\n",
      "Total number of batches 1\n",
      "Calculating invariants on trajectory with librascal...\n"
     ]
    },
    {
     "name": "stderr",
     "output_type": "stream",
     "text": [
      "100%|██████████| 1/1 [00:00<00:00,  5.30it/s]\n"
     ]
    },
    {
     "name": "stdout",
     "output_type": "stream",
     "text": [
      "Total number of frames is 1\n",
      "Total number of batches is 1\n",
      "Total length of traj is 1\n",
      "Total number of batches 1\n",
      "Calculating invariants on trajectory with librascal...\n"
     ]
    },
    {
     "name": "stderr",
     "output_type": "stream",
     "text": [
      "100%|██████████| 1/1 [00:00<00:00,  5.29it/s]\n"
     ]
    }
   ],
   "source": []
  },
  {
   "cell_type": "code",
   "execution_count": 238,
   "metadata": {},
   "outputs": [],
   "source": []
  },
  {
   "cell_type": "code",
   "execution_count": 128,
   "metadata": {},
   "outputs": [
    {
     "ename": "AttributeError",
     "evalue": "'float' object has no attribute 'calc'",
     "output_type": "error",
     "traceback": [
      "\u001b[0;31m---------------------------------------------------------------------------\u001b[0m",
      "\u001b[0;31mAttributeError\u001b[0m                            Traceback (most recent call last)",
      "\u001b[1;32m/home/qklmn/repos/rotor-gp/code/train_and_run.ipynb Cell 21\u001b[0m line \u001b[0;36m1\n\u001b[0;32m----> <a href='vscode-notebook-cell://ssh-remote%2B133.87.249.52/home/qklmn/repos/rotor-gp/code/train_and_run.ipynb#X26sdnNjb2RlLXJlbW90ZQ%3D%3D?line=0'>1</a>\u001b[0m mol\u001b[39m.\u001b[39;49mcalc\u001b[39m.\u001b[39mget_forces_variance(mol)\n",
      "\u001b[0;31mAttributeError\u001b[0m: 'float' object has no attribute 'calc'"
     ]
    }
   ],
   "source": [
    "mol.calc.get_forces_variance(mol)"
   ]
  },
  {
   "cell_type": "code",
   "execution_count": 237,
   "metadata": {},
   "outputs": [
    {
     "data": {
      "text/plain": [
       "array([[-1.208929e+00, -2.195900e-01, -8.154240e-01],\n",
       "       [ 1.208929e+00,  2.195900e-01,  8.154240e-01],\n",
       "       [-3.008090e-01, -8.478970e-01,  2.161680e+00],\n",
       "       [ 3.008090e-01,  8.478970e-01, -2.161681e+00],\n",
       "       [ 1.312962e+00,  8.597150e-01, -1.582103e+00],\n",
       "       [-1.312962e+00, -8.597150e-01,  1.582102e+00],\n",
       "       [ 8.594320e-01, -5.502476e+00, -2.073433e+00],\n",
       "       [-8.594320e-01,  5.502476e+00,  2.073433e+00],\n",
       "       [-1.124549e+00,  4.958430e+00, -4.072897e+00],\n",
       "       [ 1.124549e+00, -4.958430e+00,  4.072897e+00],\n",
       "       [ 1.103270e-01,  1.671265e+00,  6.182718e+00],\n",
       "       [-1.103270e-01, -1.671265e+00, -6.182718e+00],\n",
       "       [ 3.028690e-01, -3.934590e-01, -6.204070e-01],\n",
       "       [-3.028690e-01,  3.934590e-01,  6.204060e-01],\n",
       "       [ 9.166300e-02, -1.985783e+00, -7.553026e+00],\n",
       "       [-9.166300e-02,  1.985783e+00,  7.553026e+00],\n",
       "       [-8.096810e-01,  6.567764e+00, -5.131748e+00],\n",
       "       [ 8.096810e-01, -6.567764e+00,  5.131748e+00],\n",
       "       [-1.884940e-01,  9.140100e-01,  7.509430e-01],\n",
       "       [ 1.884940e-01, -9.140090e-01, -7.509430e-01],\n",
       "       [-1.605130e-01,  2.386806e+00,  7.767280e+00],\n",
       "       [ 1.605130e-01, -2.386806e+00, -7.767280e+00],\n",
       "       [ 7.837680e-01, -6.422483e+00,  5.133892e+00],\n",
       "       [-7.837680e-01,  6.422483e+00, -5.133892e+00],\n",
       "       [ 1.272538e+00, -7.476351e+00, -3.055462e+00],\n",
       "       [-1.272537e+00,  7.476351e+00,  3.055462e+00],\n",
       "       [-5.842000e-02, -6.154360e-01, -1.526066e+00],\n",
       "       [ 5.842000e-02,  6.154370e-01,  1.526066e+00],\n",
       "       [-1.296107e+00,  5.449993e+00, -6.207051e+00],\n",
       "       [ 1.296107e+00, -5.449994e+00,  6.207051e+00],\n",
       "       [-1.264107e+00,  7.384190e+00,  2.581780e+00],\n",
       "       [ 1.264107e+00, -7.384190e+00, -2.581781e+00],\n",
       "       [ 2.300700e-02,  3.321610e-01,  1.777320e-01],\n",
       "       [-2.300700e-02, -3.321610e-01, -1.777330e-01],\n",
       "       [ 1.286443e+00, -5.435961e+00,  5.898268e+00],\n",
       "       [-1.286443e+00,  5.435961e+00, -5.898268e+00],\n",
       "       [ 3.137809e+00,  2.834122e+00,  2.757633e+00],\n",
       "       [-3.137809e+00, -2.834122e+00, -2.757633e+00],\n",
       "       [-8.210800e-02,  6.054980e-01,  6.012990e-01],\n",
       "       [ 8.210700e-02, -6.054980e-01, -6.012990e-01],\n",
       "       [-1.105216e+00,  7.247271e+00,  2.208270e+00],\n",
       "       [ 1.105216e+00, -7.247271e+00, -2.208271e+00],\n",
       "       [ 3.292100e-01,  9.252520e-01,  8.595606e+00],\n",
       "       [-3.292100e-01, -9.252520e-01, -8.595606e+00],\n",
       "       [ 4.611950e-01, -1.505976e+00,  6.543060e-01],\n",
       "       [-4.611950e-01,  1.505976e+00, -6.543060e-01],\n",
       "       [ 1.077215e+00, -7.953811e+00, -1.862524e+00],\n",
       "       [-1.077215e+00,  7.953811e+00,  1.862524e+00],\n",
       "       [-4.556670e-01, -9.773760e-01, -8.442575e+00],\n",
       "       [ 4.556670e-01,  9.773760e-01,  8.442575e+00],\n",
       "       [ 6.068920e-01,  8.239360e-01, -4.829554e+00],\n",
       "       [-6.068920e-01, -8.239360e-01,  4.829554e+00],\n",
       "       [ 3.110389e+00, -2.838731e+00, -1.708482e+00],\n",
       "       [-3.110389e+00,  2.838732e+00,  1.708481e+00],\n",
       "       [-3.152270e-01,  4.074856e+00, -6.737110e-01],\n",
       "       [ 3.152270e-01, -4.074856e+00,  6.737110e-01],\n",
       "       [ 1.772210e+00,  1.123972e+00, -4.780548e+00],\n",
       "       [-1.772210e+00, -1.123972e+00,  4.780548e+00],\n",
       "       [ 2.412745e+00,  2.646425e+00,  4.663916e+00],\n",
       "       [-2.412745e+00, -2.646424e+00, -4.663916e+00],\n",
       "       [ 8.277500e-01, -6.247712e+00,  4.488530e-01],\n",
       "       [-8.277500e-01,  6.247712e+00, -4.488530e-01],\n",
       "       [-1.908654e+00, -4.366406e+00,  1.599956e+00],\n",
       "       [ 1.908656e+00,  4.366406e+00, -1.599956e+00],\n",
       "       [-1.183187e+01, -7.564405e+00,  2.700523e+00],\n",
       "       [ 1.183187e+01,  7.564405e+00, -2.700523e+00],\n",
       "       [ 7.689740e-01,  2.570210e-01,  4.958012e+00],\n",
       "       [-7.689740e-01, -2.570210e-01, -4.958011e+00],\n",
       "       [ 4.689872e+00,  3.213663e+00,  3.126703e+00],\n",
       "       [-4.689872e+00, -3.213663e+00, -3.126703e+00],\n",
       "       [ 9.906510e-01,  5.017764e+00, -1.496055e+00],\n",
       "       [-9.906510e-01, -5.017764e+00,  1.496055e+00],\n",
       "       [-5.780951e+00,  2.003326e+00,  5.022430e-01],\n",
       "       [ 5.780951e+00, -2.003326e+00, -5.022430e-01],\n",
       "       [ 8.248198e+00,  6.034165e+00, -2.341640e+00],\n",
       "       [-8.248198e+00, -6.034165e+00,  2.341640e+00],\n",
       "       [-2.881467e+00, -1.618135e+00,  1.847446e+00],\n",
       "       [ 2.881467e+00,  1.618135e+00, -1.847447e+00],\n",
       "       [-5.135689e+00, -4.437710e-01, -1.626110e+00],\n",
       "       [ 5.135689e+00,  4.437710e-01,  1.626109e+00],\n",
       "       [ 7.525800e-01,  6.416380e-01,  1.638557e+00],\n",
       "       [-7.525800e-01, -6.416380e-01, -1.638558e+00],\n",
       "       [ 2.495409e+00, -3.393671e+00,  1.303330e-01],\n",
       "       [-2.495409e+00,  3.393671e+00, -1.303330e-01],\n",
       "       [ 4.258653e+00, -3.114299e+00, -4.105973e+00],\n",
       "       [-4.258653e+00,  3.114299e+00,  4.105973e+00],\n",
       "       [ 5.062202e+00,  6.193376e+00, -6.714580e-01],\n",
       "       [-5.062202e+00, -6.193376e+00,  6.714590e-01],\n",
       "       [ 4.435075e+00, -1.358736e+00, -3.697513e+00],\n",
       "       [-4.435075e+00,  1.358736e+00,  3.697514e+00],\n",
       "       [-4.534835e+00,  8.586290e-01, -1.312377e+00],\n",
       "       [ 4.534835e+00, -8.586290e-01,  1.312377e+00],\n",
       "       [-5.143243e+00, -3.907925e+00, -2.237493e+00],\n",
       "       [ 5.143243e+00,  3.907925e+00,  2.237493e+00],\n",
       "       [ 3.997400e-02, -2.233670e-01, -1.907228e+00],\n",
       "       [-3.997400e-02,  2.233670e-01,  1.907229e+00],\n",
       "       [-2.946447e+00,  9.656307e+00,  2.612713e+00],\n",
       "       [ 2.946447e+00, -9.656306e+00, -2.612713e+00],\n",
       "       [-2.181409e+00, -5.425937e+00,  1.887886e+00],\n",
       "       [ 2.181409e+00,  5.425937e+00, -1.887886e+00],\n",
       "       [-3.359840e-01, -2.500816e+00, -2.884969e+00],\n",
       "       [ 3.359840e-01,  2.500815e+00,  2.884969e+00],\n",
       "       [-4.648000e-02,  3.071770e-01, -4.011390e-01],\n",
       "       [ 4.648000e-02, -3.071770e-01,  4.011380e-01],\n",
       "       [ 1.793200e-02,  1.464710e-01,  1.322780e-01],\n",
       "       [-1.793200e-02, -1.464710e-01, -1.322780e-01],\n",
       "       [-2.225100e-02, -3.111260e-01,  2.639630e-01],\n",
       "       [ 2.225100e-02,  3.111260e-01, -2.639630e-01],\n",
       "       [ 2.321140e-01,  4.819700e-01, -1.503600e-02],\n",
       "       [-2.321140e-01, -4.819700e-01,  1.503600e-02],\n",
       "       [ 9.341210e-01,  6.481330e-01,  3.058650e-01],\n",
       "       [-9.341210e-01, -6.481330e-01, -3.058640e-01],\n",
       "       [-8.611730e-01, -7.362100e-01, -3.828540e-01],\n",
       "       [ 8.611730e-01,  7.362100e-01,  3.828540e-01],\n",
       "       [-3.049200e-02,  1.945371e+00,  8.379883e+00],\n",
       "       [ 3.049300e-02, -1.945371e+00, -8.379883e+00],\n",
       "       [ 7.688680e-01, -6.210961e+00,  5.768846e+00],\n",
       "       [-7.688680e-01,  6.210961e+00, -5.768846e+00],\n",
       "       [ 6.419200e-02, -1.993452e+00, -8.294473e+00],\n",
       "       [-6.419200e-02,  1.993452e+00,  8.294473e+00],\n",
       "       [-7.445850e-01,  6.272172e+00, -5.792099e+00],\n",
       "       [ 7.445850e-01, -6.272172e+00,  5.792099e+00],\n",
       "       [-1.400343e+00,  7.964869e+00,  2.507763e+00],\n",
       "       [ 1.400343e+00, -7.964869e+00, -2.507763e+00],\n",
       "       [ 1.379311e+00, -6.041721e+00,  5.872064e+00],\n",
       "       [-1.379310e+00,  6.041721e+00, -5.872064e+00],\n",
       "       [ 1.457767e+00, -8.106424e+00, -2.483330e+00],\n",
       "       [-1.457767e+00,  8.106424e+00,  2.483330e+00],\n",
       "       [-1.367265e+00,  6.029152e+00, -5.886504e+00],\n",
       "       [ 1.367265e+00, -6.029152e+00,  5.886504e+00],\n",
       "       [-3.069431e+00, -2.447879e+00, -3.837379e+00],\n",
       "       [ 3.069431e+00,  2.447879e+00,  3.837379e+00],\n",
       "       [ 1.117183e+00, -8.131968e+00, -2.570979e+00],\n",
       "       [-1.117183e+00,  8.131968e+00,  2.570979e+00],\n",
       "       [-2.114310e-01, -1.856971e+00, -8.387235e+00],\n",
       "       [ 2.114310e-01,  1.856971e+00,  8.387235e+00],\n",
       "       [-1.090123e+00,  8.192524e+00,  2.544359e+00],\n",
       "       [ 1.090123e+00, -8.192524e+00, -2.544359e+00],\n",
       "       [ 2.118630e-01,  1.856433e+00,  8.337542e+00],\n",
       "       [-2.118620e-01, -1.856433e+00, -8.337541e+00],\n",
       "       [-1.282110e+00, -3.803310e-01,  5.276336e+00],\n",
       "       [ 1.282109e+00,  3.803310e-01, -5.276335e+00],\n",
       "       [-3.314674e+00,  3.638725e+00,  2.470766e+00],\n",
       "       [ 3.314674e+00, -3.638725e+00, -2.470766e+00],\n",
       "       [-1.128132e+00, -5.371307e+00,  1.047026e+00],\n",
       "       [ 1.128132e+00,  5.371307e+00, -1.047025e+00],\n",
       "       [-2.395220e-01, -6.568181e+00,  7.257830e-01],\n",
       "       [ 2.395220e-01,  6.568181e+00, -7.257830e-01],\n",
       "       [-6.043334e+00,  2.315173e+00,  1.019158e+00],\n",
       "       [ 6.043334e+00, -2.315173e+00, -1.019158e+00],\n",
       "       [ 3.883890e+00,  2.376301e+00,  4.733927e+00],\n",
       "       [-3.883890e+00, -2.376301e+00, -4.733927e+00],\n",
       "       [-7.153060e-01, -6.476718e+00, -1.778000e-01],\n",
       "       [ 7.153060e-01,  6.476718e+00,  1.778000e-01],\n",
       "       [ 2.466654e+00,  2.105376e+00, -5.769327e+00],\n",
       "       [-2.466654e+00, -2.105376e+00,  5.769327e+00],\n",
       "       [-6.048565e+00,  2.626190e+00,  5.548260e-01],\n",
       "       [ 6.048565e+00, -2.626190e+00, -5.548260e-01],\n",
       "       [-5.734736e+00,  1.307868e+00, -2.921563e+00],\n",
       "       [ 5.734736e+00, -1.307868e+00,  2.921563e+00],\n",
       "       [ 4.862620e+00,  2.609339e+00, -3.757485e+00],\n",
       "       [-4.862620e+00, -2.609339e+00,  3.757485e+00],\n",
       "       [ 1.784730e-01,  2.908186e+00,  5.848060e+00],\n",
       "       [-1.784730e-01, -2.908186e+00, -5.848060e+00],\n",
       "       [ 2.421120e-01,  3.952771e+00, -3.757617e+00],\n",
       "       [-2.421120e-01, -3.952771e+00,  3.757617e+00],\n",
       "       [ 1.789008e+00, -5.963272e+00,  1.109020e-01],\n",
       "       [-1.789008e+00,  5.963272e+00, -1.109020e-01],\n",
       "       [ 4.083871e+00,  4.148349e+00, -3.436305e+00],\n",
       "       [-4.083872e+00, -4.148349e+00,  3.436305e+00],\n",
       "       [-5.993812e+00,  1.874301e+00, -1.198388e+00],\n",
       "       [ 5.993812e+00, -1.874301e+00,  1.198388e+00],\n",
       "       [ 8.273780e-01, -6.006715e+00, -2.599787e+00],\n",
       "       [-8.273780e-01,  6.006715e+00,  2.599788e+00],\n",
       "       [-5.981545e+00,  2.168375e+00,  1.493035e+00],\n",
       "       [ 5.981545e+00, -2.168374e+00, -1.493035e+00],\n",
       "       [ 3.717030e-01, -6.424633e+00,  1.525453e+00],\n",
       "       [-3.717030e-01,  6.424633e+00, -1.525453e+00],\n",
       "       [ 9.022140e-01,  6.165580e-01, -6.449473e+00],\n",
       "       [-9.022130e-01, -6.165580e-01,  6.449473e+00],\n",
       "       [ 4.715465e+00, -4.391257e+00, -1.722626e+00],\n",
       "       [-4.715466e+00,  4.391257e+00,  1.722626e+00],\n",
       "       [-5.635157e+00, -2.115289e+00, -2.367667e+00],\n",
       "       [ 5.635157e+00,  2.115289e+00,  2.367667e+00],\n",
       "       [-4.494110e-01, -6.530000e-04,  6.597246e+00],\n",
       "       [ 4.494110e-01,  6.530000e-04, -6.597246e+00],\n",
       "       [ 1.530179e+00, -5.805950e-01, -6.411015e+00],\n",
       "       [-1.530179e+00,  5.805950e-01,  6.411015e+00],\n",
       "       [ 6.465640e-01, -5.908840e+00,  2.806032e+00],\n",
       "       [-6.465640e-01,  5.908839e+00, -2.806032e+00],\n",
       "       [ 4.271909e+00,  4.094770e+00,  2.767789e+00],\n",
       "       [-4.271909e+00, -4.094770e+00, -2.767789e+00],\n",
       "       [-1.450069e+00,  5.420875e+00,  3.151559e+00],\n",
       "       [ 1.450068e+00, -5.420875e+00, -3.151559e+00],\n",
       "       [ 4.228568e+00, -4.803772e+00, -7.491510e-01],\n",
       "       [-4.228569e+00,  4.803773e+00,  7.491510e-01],\n",
       "       [ 2.596249e+00,  3.982663e+00,  4.608768e+00],\n",
       "       [-2.596249e+00, -3.982664e+00, -4.608769e+00],\n",
       "       [-1.095810e-01,  3.379835e+00, -5.646940e+00],\n",
       "       [ 1.095810e-01, -3.379836e+00,  5.646941e+00],\n",
       "       [ 4.273285e+00, -3.182322e+00, -4.127718e+00],\n",
       "       [-4.273285e+00,  3.182322e+00,  4.127718e+00],\n",
       "       [ 1.024034e+00, -2.223369e+00,  6.194337e+00],\n",
       "       [-1.024034e+00,  2.223369e+00, -6.194337e+00],\n",
       "       [ 1.565150e+00,  6.448861e+00, -1.340760e-01],\n",
       "       [-1.565150e+00, -6.448861e+00,  1.340760e-01],\n",
       "       [-2.122693e+00, -1.615195e+00, -5.209324e+00],\n",
       "       [ 2.122693e+00,  1.615195e+00,  5.209324e+00],\n",
       "       [ 1.139789e+00,  2.362289e+00,  6.118285e+00],\n",
       "       [-1.139789e+00, -2.362289e+00, -6.118285e+00],\n",
       "       [-6.578402e+00, -1.653058e+00, -1.522390e-01],\n",
       "       [ 6.578402e+00,  1.653058e+00,  1.522390e-01],\n",
       "       [ 9.277530e-01,  5.031222e+00, -4.185796e+00],\n",
       "       [-9.277530e-01, -5.031222e+00,  4.185796e+00],\n",
       "       [-6.240500e-02,  6.309772e+00, -1.663015e+00],\n",
       "       [ 6.240500e-02, -6.309772e+00,  1.663015e+00],\n",
       "       [ 1.904887e+00, -4.782820e-01,  6.318908e+00],\n",
       "       [-1.904887e+00,  4.782820e-01, -6.318908e+00],\n",
       "       [-6.259117e+00, -2.433726e+00, -6.367350e-01],\n",
       "       [ 6.259117e+00,  2.433726e+00,  6.367350e-01],\n",
       "       [ 7.694610e-01,  6.001058e+00,  3.427110e+00],\n",
       "       [-7.694610e-01, -6.001058e+00, -3.427110e+00],\n",
       "       [ 7.598700e-01,  2.357960e+00, -6.308706e+00],\n",
       "       [-7.598700e-01, -2.357960e+00,  6.308706e+00],\n",
       "       [ 6.000759e+00, -2.488571e+00,  1.202773e+00],\n",
       "       [-6.000759e+00,  2.488571e+00, -1.202773e+00],\n",
       "       [-2.658418e+00, -5.395060e+00,  2.913927e+00],\n",
       "       [ 2.658418e+00,  5.395060e+00, -2.913927e+00],\n",
       "       [-4.743832e+00,  3.219522e+00, -2.902191e+00],\n",
       "       [ 4.743832e+00, -3.219522e+00,  2.902191e+00],\n",
       "       [ 2.449095e+00,  3.859827e+00,  4.876198e+00],\n",
       "       [-2.449095e+00, -3.859828e+00, -4.876198e+00],\n",
       "       [-2.234600e-02, -4.168505e+00,  5.145468e+00],\n",
       "       [ 2.234600e-02,  4.168505e+00, -5.145468e+00],\n",
       "       [ 2.774676e+00,  5.635102e+00,  2.100456e+00],\n",
       "       [-2.774676e+00, -5.635102e+00, -2.100456e+00],\n",
       "       [ 3.922814e+00, -2.495328e+00, -4.455536e+00],\n",
       "       [-3.922814e+00,  2.495328e+00,  4.455536e+00],\n",
       "       [-4.322735e+00,  1.573732e+00, -5.059854e+00],\n",
       "       [ 4.322735e+00, -1.573732e+00,  5.059854e+00],\n",
       "       [-4.151031e+00,  2.627790e-01,  5.444454e+00],\n",
       "       [ 4.151031e+00, -2.627780e-01, -5.444454e+00],\n",
       "       [ 4.554110e-01, -6.847697e+00, -9.190330e-01],\n",
       "       [-4.554110e-01,  6.847697e+00,  9.190330e-01],\n",
       "       [ 1.180411e+00,  3.800590e+00,  5.599045e+00],\n",
       "       [-1.180411e+00, -3.800591e+00, -5.599046e+00],\n",
       "       [ 6.148903e+00, -1.032945e+00, -2.481445e+00],\n",
       "       [-6.148904e+00,  1.032945e+00,  2.481445e+00],\n",
       "       [-1.597419e+00, -5.574889e+00,  2.095629e+00],\n",
       "       [ 1.597419e+00,  5.574890e+00, -2.095629e+00],\n",
       "       [ 4.171524e+00,  9.539590e-01,  4.196348e+00],\n",
       "       [-4.171524e+00, -9.539590e-01, -4.196348e+00],\n",
       "       [-4.590727e+00,  1.695743e+00, -4.434674e+00],\n",
       "       [ 4.590727e+00, -1.695743e+00,  4.434674e+00],\n",
       "       [ 5.588896e+00, -1.296471e+00, -3.325345e+00],\n",
       "       [-5.588896e+00,  1.296471e+00,  3.325345e+00],\n",
       "       [ 1.150425e+00,  5.483574e+00,  4.084218e+00],\n",
       "       [-1.150425e+00, -5.483574e+00, -4.084218e+00],\n",
       "       [-6.148456e+00, -3.707028e+00,  1.058048e+00],\n",
       "       [ 6.148456e+00,  3.707028e+00, -1.058048e+00],\n",
       "       [ 4.702794e+00, -3.926923e+00,  3.049537e+00],\n",
       "       [-4.702794e+00,  3.926923e+00, -3.049537e+00],\n",
       "       [ 9.649870e-01, -1.319526e+00, -6.116715e+00],\n",
       "       [-9.649870e-01,  1.319526e+00,  6.116715e+00]])"
      ]
     },
     "execution_count": 237,
     "metadata": {},
     "output_type": "execute_result"
    }
   ],
   "source": [
    "traj[0].calc.get_forces()"
   ]
  },
  {
   "cell_type": "code",
   "execution_count": 200,
   "metadata": {},
   "outputs": [
    {
     "data": {
      "text/plain": [
       "array([-0.77995, -2.76536, 11.49139])"
      ]
     },
     "execution_count": 200,
     "metadata": {},
     "output_type": "execute_result"
    }
   ],
   "source": [
    "traj_0[0].positions[212]"
   ]
  },
  {
   "cell_type": "code",
   "execution_count": 201,
   "metadata": {},
   "outputs": [
    {
     "data": {
      "text/plain": [
       "array([-0.76995, -2.76536, 11.49139])"
      ]
     },
     "execution_count": 201,
     "metadata": {},
     "output_type": "execute_result"
    }
   ],
   "source": [
    "traj_0[10].positions[212]"
   ]
  },
  {
   "cell_type": "code",
   "execution_count": 283,
   "metadata": {},
   "outputs": [],
   "source": [
    "# AG_force_model.models[0].state_dict()\n",
    "\n",
    "import torch\n",
    "\n",
    "1. save train_data_loaders\n",
    "\n",
    "# AG_force_model.train_data_loaders\n",
    "torch.save(AG_force_model.models[0].state_dict(), \"state.pth\")"
   ]
  },
  {
   "cell_type": "code",
   "execution_count": 288,
   "metadata": {},
   "outputs": [],
   "source": [
    "from prepare_model import prepare_data, prepare_model"
   ]
  },
  {
   "cell_type": "code",
   "execution_count": 289,
   "metadata": {},
   "outputs": [
    {
     "name": "stdout",
     "output_type": "stream",
     "text": [
      "Saving data to directory:  /misc/home/qklmn/repos/rotor-gp/results/train_and_run/2023-08-03_19 27-57_591657\n",
      "Loading training data...\n",
      "Total number of frames is 400\n",
      "Total number of batches is 400\n",
      "Total length of traj is 400\n",
      "Total number of batches 400\n",
      "Calculating invariants on trajectory with librascal...\n"
     ]
    },
    {
     "name": "stderr",
     "output_type": "stream",
     "text": [
      "100%|██████████| 400/400 [01:33<00:00,  4.28it/s]\n"
     ]
    },
    {
     "name": "stdout",
     "output_type": "stream",
     "text": [
      "Total number of frames is 20\n",
      "Total number of batches is 20\n",
      "Total length of traj is 20\n",
      "Total number of batches 20\n",
      "Calculating invariants on trajectory with librascal...\n"
     ]
    },
    {
     "name": "stderr",
     "output_type": "stream",
     "text": [
      "100%|██████████| 20/20 [00:03<00:00,  5.08it/s]\n"
     ]
    },
    {
     "name": "stdout",
     "output_type": "stream",
     "text": [
      "\n",
      "-----------\n",
      "Group  0\n",
      "-----------\n",
      "Number of training points for group 0:  14400\n",
      "Number of test points for group 0:  720\n",
      "\n",
      "-----------\n",
      "Group  1\n",
      "-----------\n",
      "Number of training points for group 1:  14400\n",
      "Number of test points for group 1:  720\n",
      "\n",
      "-----------\n",
      "Group  2\n",
      "-----------\n",
      "Number of training points for group 2:  21600\n",
      "Number of test points for group 2:  1080\n",
      "\n",
      "-----------\n",
      "Group  3\n",
      "-----------\n",
      "Number of training points for group 3:  129600\n",
      "Number of test points for group 3:  6480\n",
      "\n",
      "-----------\n",
      "Group  4\n",
      "-----------\n",
      "Number of training points for group 4:  7200\n",
      "Number of test points for group 4:  360\n",
      "\n",
      "-----------\n",
      "Group  5\n",
      "-----------\n",
      "Number of training points for group 5:  7200\n",
      "Number of test points for group 5:  360\n",
      "\n",
      "-----------\n",
      "Group  6\n",
      "-----------\n",
      "Number of training points for group 6:  14400\n",
      "Number of test points for group 6:  720\n",
      "\n",
      "-----------\n",
      "Group  7\n",
      "-----------\n",
      "Number of training points for group 7:  14400\n",
      "Number of test points for group 7:  720\n",
      "\n",
      "-----------\n",
      "Group  8\n",
      "-----------\n",
      "Number of training points for group 8:  7200\n",
      "Number of test points for group 8:  360\n",
      "\n",
      "-----------\n",
      "Group  9\n",
      "-----------\n",
      "Number of training points for group 9:  21600\n",
      "Number of test points for group 9:  1080\n",
      "\n",
      "-----------\n",
      "Group  10\n",
      "-----------\n",
      "Number of training points for group 10:  43200\n",
      "Number of test points for group 10:  2160\n",
      "\n",
      "-----------\n",
      "Group  11\n",
      "-----------\n",
      "Number of training points for group 11:  7200\n",
      "Number of test points for group 11:  360\n",
      "\n",
      "-----------\n",
      "Group  12\n",
      "-----------\n",
      "Number of training points for group 12:  7200\n",
      "Number of test points for group 12:  360\n",
      "\n",
      "-----------\n",
      "Group  13\n",
      "-----------\n",
      "Number of training points for group 13:  7200\n",
      "Number of test points for group 13:  360\n",
      "Dataloader for group 0 created\n",
      "Number of samples in dataloader: 10000\n",
      "Dataloader for group 1 created\n",
      "Number of samples in dataloader: 10000\n",
      "Dataloader for group 2 created\n",
      "Number of samples in dataloader: 10000\n",
      "Dataloader for group 3 created\n",
      "Number of samples in dataloader: 10000\n",
      "Taking ALL 7200 samples for group 4\n",
      "Dataloader for group 4 created\n",
      "Number of samples in dataloader: 7200\n",
      "Taking ALL 7200 samples for group 5\n",
      "Dataloader for group 5 created\n",
      "Number of samples in dataloader: 7200\n",
      "Dataloader for group 6 created\n",
      "Number of samples in dataloader: 10000\n",
      "Dataloader for group 7 created\n",
      "Number of samples in dataloader: 10000\n",
      "Taking ALL 7200 samples for group 8\n",
      "Dataloader for group 8 created\n",
      "Number of samples in dataloader: 7200\n",
      "Dataloader for group 9 created\n",
      "Number of samples in dataloader: 10000\n",
      "Dataloader for group 10 created\n",
      "Number of samples in dataloader: 10000\n",
      "Taking ALL 7200 samples for group 11\n",
      "Dataloader for group 11 created\n",
      "Number of samples in dataloader: 7200\n",
      "Taking ALL 7200 samples for group 12\n",
      "Dataloader for group 12 created\n",
      "Number of samples in dataloader: 7200\n",
      "Taking ALL 7200 samples for group 13\n",
      "Dataloader for group 13 created\n",
      "Number of samples in dataloader: 7200\n"
     ]
    },
    {
     "data": {
      "text/plain": [
       "[<torch.utils.data.dataloader.DataLoader at 0x2b2df2fb4550>,\n",
       " <torch.utils.data.dataloader.DataLoader at 0x2b2df2ffcd30>,\n",
       " <torch.utils.data.dataloader.DataLoader at 0x2b2df2c3e5c0>,\n",
       " <torch.utils.data.dataloader.DataLoader at 0x2b2dbc6a9f30>,\n",
       " <torch.utils.data.dataloader.DataLoader at 0x2b2df2d27160>,\n",
       " <torch.utils.data.dataloader.DataLoader at 0x2b2df2d268c0>,\n",
       " <torch.utils.data.dataloader.DataLoader at 0x2b2df2d27490>,\n",
       " <torch.utils.data.dataloader.DataLoader at 0x2b2df2d275e0>,\n",
       " <torch.utils.data.dataloader.DataLoader at 0x2b2df2d27700>,\n",
       " <torch.utils.data.dataloader.DataLoader at 0x2b2df2d27880>,\n",
       " <torch.utils.data.dataloader.DataLoader at 0x2b2df2d279d0>,\n",
       " <torch.utils.data.dataloader.DataLoader at 0x2b2df2d27af0>,\n",
       " <torch.utils.data.dataloader.DataLoader at 0x2b2df2d27c40>,\n",
       " <torch.utils.data.dataloader.DataLoader at 0x2b2df2d27d90>]"
      ]
     },
     "execution_count": 289,
     "metadata": {},
     "output_type": "execute_result"
    }
   ],
   "source": [
    "training_data_loaders = prepare_data()"
   ]
  },
  {
   "cell_type": "code",
   "execution_count": 252,
   "metadata": {},
   "outputs": [
    {
     "data": {
      "text/plain": [
       "[<torch.utils.data.dataloader.DataLoader at 0x2b2dd6ac9db0>,\n",
       " <torch.utils.data.dataloader.DataLoader at 0x2b2dd6acb070>,\n",
       " <torch.utils.data.dataloader.DataLoader at 0x2b2dd6acb010>,\n",
       " <torch.utils.data.dataloader.DataLoader at 0x2b2dd6ac9bd0>,\n",
       " <torch.utils.data.dataloader.DataLoader at 0x2b2dd6ac8430>,\n",
       " <torch.utils.data.dataloader.DataLoader at 0x2b2dd6ac8a90>,\n",
       " <torch.utils.data.dataloader.DataLoader at 0x2b2dd6acb280>,\n",
       " <torch.utils.data.dataloader.DataLoader at 0x2b2dd6aca290>,\n",
       " <torch.utils.data.dataloader.DataLoader at 0x2b2dd6aca650>,\n",
       " <torch.utils.data.dataloader.DataLoader at 0x2b2dd6acb490>,\n",
       " <torch.utils.data.dataloader.DataLoader at 0x2b2dd6acb9d0>,\n",
       " <torch.utils.data.dataloader.DataLoader at 0x2b2dd6aca4d0>,\n",
       " <torch.utils.data.dataloader.DataLoader at 0x2b2dd6acb5e0>,\n",
       " <torch.utils.data.dataloader.DataLoader at 0x2b2dd6aca530>]"
      ]
     },
     "execution_count": 252,
     "metadata": {},
     "output_type": "execute_result"
    }
   ],
   "source": [
    "prepare_model() # still to prepare..."
   ]
  },
  {
   "cell_type": "code",
   "execution_count": null,
   "metadata": {},
   "outputs": [],
   "source": []
  },
  {
   "cell_type": "code",
   "execution_count": 278,
   "metadata": {},
   "outputs": [
    {
     "ename": "ValueError",
     "evalue": "dictionary update sequence element #0 has length 7; 2 is required",
     "output_type": "error",
     "traceback": [
      "\u001b[0;31m---------------------------------------------------------------------------\u001b[0m",
      "\u001b[0;31mValueError\u001b[0m                                Traceback (most recent call last)",
      "Cell \u001b[0;32mIn[278], line 17\u001b[0m\n\u001b[1;32m      5\u001b[0m model_test_hparams \u001b[39m=\u001b[39m {\n\u001b[1;32m      6\u001b[0m     \u001b[39m'\u001b[39m\u001b[39matomic_group\u001b[39m\u001b[39m'\u001b[39m : ind_Si_1,\n\u001b[1;32m      7\u001b[0m     \u001b[39m'\u001b[39m\u001b[39mdtype\u001b[39m\u001b[39m'\u001b[39m : hparams[\u001b[39m'\u001b[39m\u001b[39mdtype\u001b[39m\u001b[39m'\u001b[39m],\n\u001b[0;32m   (...)\u001b[0m\n\u001b[1;32m     12\u001b[0m     \u001b[39m'\u001b[39m\u001b[39msoap_params\u001b[39m\u001b[39m'\u001b[39m : soap_params,\n\u001b[1;32m     13\u001b[0m }\n\u001b[1;32m     15\u001b[0m hparams_test \u001b[39m=\u001b[39m [model_test_hparams]\n\u001b[0;32m---> 17\u001b[0m model_test \u001b[39m=\u001b[39m ModelForces(\n\u001b[1;32m     18\u001b[0m     train_x \u001b[39m=\u001b[39;49m train_data_loaders[\u001b[39m13\u001b[39;49m]\u001b[39m.\u001b[39;49mdataset[:][\u001b[39m0\u001b[39;49m],\n\u001b[1;32m     19\u001b[0m     train_y \u001b[39m=\u001b[39;49m train_data_loaders[\u001b[39m13\u001b[39;49m]\u001b[39m.\u001b[39;49mdataset[:][\u001b[39m1\u001b[39;49m],\n\u001b[1;32m     20\u001b[0m     atomic_group \u001b[39m=\u001b[39;49m ind_Si_1,\n\u001b[1;32m     21\u001b[0m     hparams \u001b[39m=\u001b[39;49m hparams_test,\n\u001b[1;32m     22\u001b[0m     \u001b[39mid\u001b[39;49m\u001b[39m=\u001b[39;49m\u001b[39m13\u001b[39;49m)\n",
      "File \u001b[0;32m/misc/home/qklmn/repos/rotor-gp/code/../../fande/fande/models/forces.py:268\u001b[0m, in \u001b[0;36mModelForces.__init__\u001b[0;34m(self, train_x, train_y, atomic_group, hparams, id)\u001b[0m\n\u001b[1;32m    265\u001b[0m     \u001b[39m# self.hparams = hparams\u001b[39;00m\n\u001b[1;32m    267\u001b[0m     \u001b[39mif\u001b[39;00m hparams \u001b[39mis\u001b[39;00m \u001b[39mnot\u001b[39;00m \u001b[39mNone\u001b[39;00m:\n\u001b[0;32m--> 268\u001b[0m         \u001b[39mself\u001b[39;49m\u001b[39m.\u001b[39;49mhparams\u001b[39m.\u001b[39;49mupdate(hparams)\n\u001b[1;32m    270\u001b[0m     \u001b[39m# self.save_hyperparameters()\u001b[39;00m\n\u001b[1;32m    271\u001b[0m     \u001b[39m#add prior for badly conditioned datasets\u001b[39;00m\n\u001b[1;32m    272\u001b[0m     \u001b[39m# this prior can affect predictions badly\u001b[39;00m\n\u001b[1;32m    273\u001b[0m     \u001b[39m# see https://github.com/cornellius-gp/gpytorch/issues/1297\u001b[39;00m\n\u001b[1;32m    274\u001b[0m \u001b[39m#     self.likelihood = gpytorch.likelihoods.GaussianLikelihood(\u001b[39;00m\n\u001b[1;32m    275\u001b[0m \u001b[39m# noise_prior=gpytorch.priors.SmoothedBoxPrior(0.1, 1.5, sigma=0.001))\u001b[39;00m\n\u001b[1;32m    277\u001b[0m     \u001b[39mself\u001b[39m\u001b[39m.\u001b[39mlikelihood \u001b[39m=\u001b[39m gpytorch\u001b[39m.\u001b[39mlikelihoods\u001b[39m.\u001b[39mGaussianLikelihood()\n",
      "\u001b[0;31mValueError\u001b[0m: dictionary update sequence element #0 has length 7; 2 is required"
     ]
    }
   ],
   "source": [
    "# from fande.models\n",
    "\n",
    "from fande.models import ModelForces, GroupModelForces\n",
    "\n",
    "model_test_hparams = {\n",
    "    'atomic_group' : ind_Si_1,\n",
    "    'dtype' : hparams['dtype'],\n",
    "    'device' : hparams['device'],\n",
    "    'num_epochs' : n_steps,\n",
    "    'learning_rate' : lr,\n",
    "    'soap_dim' : fdm.train_DX[13].shape[-1],\n",
    "    'soap_params' : soap_params,\n",
    "}\n",
    "\n",
    "hparams_test = [model_test_hparams]\n",
    "\n",
    "model_test = ModelForces(\n",
    "    train_x = train_data_loaders[13].dataset[:][0],\n",
    "    train_y = train_data_loaders[13].dataset[:][1],\n",
    "    atomic_group = ind_Si_1,\n",
    "    hparams = hparams_test,\n",
    "    id=13)"
   ]
  },
  {
   "cell_type": "code",
   "execution_count": 265,
   "metadata": {},
   "outputs": [
    {
     "ename": "PicklingError",
     "evalue": "Can't pickle <class 'fande.models.forces.ModelForces'>: it's not the same object as fande.models.forces.ModelForces",
     "output_type": "error",
     "traceback": [
      "\u001b[0;31m---------------------------------------------------------------------------\u001b[0m",
      "\u001b[0;31mPicklingError\u001b[0m                             Traceback (most recent call last)",
      "Cell \u001b[0;32mIn[265], line 1\u001b[0m\n\u001b[0;32m----> 1\u001b[0m torch\u001b[39m.\u001b[39;49msave(AG_force_model\u001b[39m.\u001b[39;49mmodels[\u001b[39m0\u001b[39;49m], \u001b[39m\"\u001b[39;49m\u001b[39mmodel.pth\u001b[39;49m\u001b[39m\"\u001b[39;49m)\n",
      "File \u001b[0;32m~/mambaforge/envs/gpuenv/lib/python3.10/site-packages/torch/serialization.py:380\u001b[0m, in \u001b[0;36msave\u001b[0;34m(obj, f, pickle_module, pickle_protocol, _use_new_zipfile_serialization)\u001b[0m\n\u001b[1;32m    378\u001b[0m \u001b[39mif\u001b[39;00m _use_new_zipfile_serialization:\n\u001b[1;32m    379\u001b[0m     \u001b[39mwith\u001b[39;00m _open_zipfile_writer(opened_file) \u001b[39mas\u001b[39;00m opened_zipfile:\n\u001b[0;32m--> 380\u001b[0m         _save(obj, opened_zipfile, pickle_module, pickle_protocol)\n\u001b[1;32m    381\u001b[0m         \u001b[39mreturn\u001b[39;00m\n\u001b[1;32m    382\u001b[0m _legacy_save(obj, opened_file, pickle_module, pickle_protocol)\n",
      "File \u001b[0;32m~/mambaforge/envs/gpuenv/lib/python3.10/site-packages/torch/serialization.py:589\u001b[0m, in \u001b[0;36m_save\u001b[0;34m(obj, zip_file, pickle_module, pickle_protocol)\u001b[0m\n\u001b[1;32m    587\u001b[0m pickler \u001b[39m=\u001b[39m pickle_module\u001b[39m.\u001b[39mPickler(data_buf, protocol\u001b[39m=\u001b[39mpickle_protocol)\n\u001b[1;32m    588\u001b[0m pickler\u001b[39m.\u001b[39mpersistent_id \u001b[39m=\u001b[39m persistent_id\n\u001b[0;32m--> 589\u001b[0m pickler\u001b[39m.\u001b[39;49mdump(obj)\n\u001b[1;32m    590\u001b[0m data_value \u001b[39m=\u001b[39m data_buf\u001b[39m.\u001b[39mgetvalue()\n\u001b[1;32m    591\u001b[0m zip_file\u001b[39m.\u001b[39mwrite_record(\u001b[39m'\u001b[39m\u001b[39mdata.pkl\u001b[39m\u001b[39m'\u001b[39m, data_value, \u001b[39mlen\u001b[39m(data_value))\n",
      "\u001b[0;31mPicklingError\u001b[0m: Can't pickle <class 'fande.models.forces.ModelForces'>: it's not the same object as fande.models.forces.ModelForces"
     ]
    }
   ],
   "source": [
    "torch.save(AG_force_model.models[0], \"model.pth\")\n",
    "\n"
   ]
  },
  {
   "cell_type": "code",
   "execution_count": null,
   "metadata": {},
   "outputs": [],
   "source": [
    "# make a nice starting configuration for i-pi\n",
    "from ase import io\n",
    "\n",
    "data_folder = \"/home/qklmn/data/\"\n",
    "atoms = read(data_folder + \"datasets/rotors/different_temperatures/300/OUTCAR\", format=\"vasp-out\", index = \"350\")\n",
    "# io.write(\"/home/qklmn/data/starting_configuration/1.cif\", atoms, format='cif')"
   ]
  },
  {
   "cell_type": "code",
   "execution_count": 254,
   "metadata": {},
   "outputs": [],
   "source": [
    "tr_dl = torch.load(\"train_data_loaders.pth\")"
   ]
  },
  {
   "cell_type": "code",
   "execution_count": 262,
   "metadata": {},
   "outputs": [
    {
     "data": {
      "text/plain": [
       "1000"
      ]
     },
     "execution_count": 262,
     "metadata": {},
     "output_type": "execute_result"
    }
   ],
   "source": [
    "len(tr_dl[10].dataset)"
   ]
  },
  {
   "cell_type": "code",
   "execution_count": 228,
   "metadata": {},
   "outputs": [],
   "source": [
    "from ase import io\n",
    "\n",
    "\n",
    "io.write(\"../md_TRAJ.traj\",traj_0)"
   ]
  },
  {
   "cell_type": "code",
   "execution_count": 241,
   "metadata": {},
   "outputs": [],
   "source": [
    "# plt.plot(uncertainties_0, label=\"0\")\n",
    "# # plt.plot(uncertainties_1, label=\"1\")\n",
    "# # plt.plot(uncertainties_2, label=\"2\")\n",
    "# plt.legend()\n",
    "# plt.show()"
   ]
  },
  {
   "cell_type": "code",
   "execution_count": 127,
   "metadata": {},
   "outputs": [
    {
     "ename": "AttributeError",
     "evalue": "'Atoms' object has no attribute 'get_forces_variance'",
     "output_type": "error",
     "traceback": [
      "\u001b[0;31m---------------------------------------------------------------------------\u001b[0m",
      "\u001b[0;31mAttributeError\u001b[0m                            Traceback (most recent call last)",
      "\u001b[1;32m/home/qklmn/repos/rotor-gp/code/train_and_run.ipynb Cell 37\u001b[0m line \u001b[0;36m1\n\u001b[0;32m----> <a href='vscode-notebook-cell://ssh-remote%2B133.87.249.52/home/qklmn/repos/rotor-gp/code/train_and_run.ipynb#X51sdnNjb2RlLXJlbW90ZQ%3D%3D?line=0'>1</a>\u001b[0m atoms\u001b[39m.\u001b[39;49mget_forces_variance()\n",
      "\u001b[0;31mAttributeError\u001b[0m: 'Atoms' object has no attribute 'get_forces_variance'"
     ]
    }
   ],
   "source": []
  },
  {
   "cell_type": "code",
   "execution_count": 52,
   "metadata": {},
   "outputs": [],
   "source": [
    "from ase import io\n",
    "\n",
    "data_folder = \"/home/qklmn/data/\"\n",
    "# data_folder = \"/data1/simulations/\"\n",
    "\n",
    "# print(\"Loading training data...\")\n",
    "# traj_300 = io.read(\"/data1/simulations/datasets/rotors/different_temperatures/300/OUTCAR\", format=\"vasp-out\", index = \":\")\n",
    "# traj_600 = io.read(\"/data1/simulations/datasets/rotors/different_temperatures/600/OUTCAR\", format=\"vasp-out\", index = \":\")\n",
    "# traj_900 = io.read(\"/data1/simulations/datasets/rotors/different_temperatures/900/OUTCAR\", format=\"vasp-out\", index = \":\")\n",
    "# traj_1200 = io.read(\"/data1/simulations/datasets/rotors/different_temperatures/1200/OUTCAR\", format=\"vasp-out\", index = \":\")\n",
    "# traj_1500 = io.read(\"/data1/simulations/datasets/rotors/different_temperatures/1200/OUTCAR\", format=\"vasp-out\", index = \":\")\n",
    "# traj_1800 = io.read(\"/data1/simulations/datasets/rotors/different_temperatures/1800/OUTCAR\", format=\"vasp-out\", index = \":\")\n",
    "# traj_2100 = io.read(\"/data1/simulations/datasets/rotors/different_temperatures/2100/OUTCAR\", format=\"vasp-out\", index = \":\")\n",
    "# print(len(traj_300), len(traj_600), len(traj_900), len(traj_1200), len(traj_1500), len(traj_1800), len(traj_2100))\n",
    "\n",
    "\n",
    "# traj_300 = io.read(data_folder + \"datasets/rotors/different_temperatures/300/OUTCAR\", format=\"vasp-out\", index = \":\")\n",
    "# traj_600 = io.read(data_folder + \"datasets/rotors/different_temperatures/600/OUTCAR\", format=\"vasp-out\", index = \":\")\n",
    "# traj_900 = io.read(data_folder + \"datasets/rotors/different_temperatures/900/OUTCAR\", format=\"vasp-out\", index = \":\")\n",
    "# traj_1200 = io.read(data_folder + \"datasets/rotors/different_temperatures/1200/OUTCAR\", format=\"vasp-out\", index = \":\")\n",
    "# traj_1500 = io.read(data_folder + \"datasets/rotors/different_temperatures/1500/OUTCAR\", format=\"vasp-out\", index = \":\")\n",
    "# traj_1800 = io.read(data_folder + \"datasets/rotors/different_temperatures/1800/OUTCAR\", format=\"vasp-out\", index = \":\")\n",
    "traj_2100 = io.read(data_folder + \"datasets/rotors/different_temperatures/2100/OUTCAR\", format=\"vasp-out\", index = \":\")"
   ]
  },
  {
   "cell_type": "code",
   "execution_count": 53,
   "metadata": {},
   "outputs": [
    {
     "data": {
      "text/plain": [
       "'/misc/home/qklmn/repos/rotor-gp/code'"
      ]
     },
     "execution_count": 53,
     "metadata": {},
     "output_type": "execute_result"
    }
   ],
   "source": [
    "import os\n",
    "os.getcwd()"
   ]
  },
  {
   "cell_type": "code",
   "execution_count": 55,
   "metadata": {},
   "outputs": [],
   "source": [
    "io.write(\"md_2100.traj\", traj_2100)"
   ]
  },
  {
   "cell_type": "code",
   "execution_count": 221,
   "metadata": {},
   "outputs": [],
   "source": [
    "# from ase.units import Bohr,Rydberg,kJ,kB,fs,Hartree,mol,kcal"
   ]
  },
  {
   "cell_type": "markdown",
   "metadata": {},
   "source": [
    "# Make dftb+ trajectory:"
   ]
  },
  {
   "cell_type": "code",
   "execution_count": 121,
   "metadata": {},
   "outputs": [
    {
     "data": {
      "text/plain": [
       "True"
      ]
     },
     "execution_count": 121,
     "metadata": {},
     "output_type": "execute_result"
    }
   ],
   "source": [
    "from ase import io\n",
    "# from ase.geometry.analysis import Analysis\n",
    "from ase.constraints import FixAtoms, FixBondLengths\n",
    "from ase.optimize import BFGS\n",
    "from ase import units\n",
    "from ase.io import read\n",
    "import logging\n",
    "from ase.md.velocitydistribution import MaxwellBoltzmannDistribution\n",
    "from ase.md.verlet import VelocityVerlet\n",
    "from ase.md.langevin import Langevin\n",
    "from ase.md.npt import NPT\n",
    "from ase.md.nptberendsen import NPTBerendsen\n",
    "from ase.md.nvtberendsen import NVTBerendsen\n",
    "\n",
    "from ase.units import Bohr,Rydberg,kJ,kB,fs,Hartree,mol,kcal\n",
    "\n",
    "\n",
    "\n",
    "from ase.calculators.dftb import Dftb\n",
    "import os\n",
    "os.environ['OMP_NUM_THREADS'] = \"6,1\"\n",
    "os.environ[\"ASE_DFTB_COMMAND\"] = \"ulimit -s unlimited; /usr/local/dftbplus-21.2/bin/dftb+ > PREFIX.out\"\n",
    "# os.environ[\"ASE_DFTB_COMMAND\"] = \"dftb+ > PREFIX.out\"\n",
    "os.environ[\"DFTB_PREFIX\"] = \"/home/qklmn/data/dftb/pbc-0-3\"\n",
    "\n",
    "\n",
    "\n",
    "\n",
    "# initial_structure = io.read(\"/home/qklmn/data/starting_configuration/1.cif\")\n",
    "crystal_264=io.read(\"/home/qklmn/data/starting_configuration/1.cif\")\n",
    "\n",
    "\n",
    "\n",
    "\n",
    "\n",
    "logging.getLogger(\"pytorch_lightning\").setLevel(logging.ERROR) # logging.ERROR to disable or INFO\n",
    "\n",
    "data_folder = \"/home/qklmn/data/\"\n",
    "traj_test = io.read(data_folder + \"datasets/rotors/different_temperatures/300/OUTCAR\", format=\"vasp-out\", index = \"300:400\")\n",
    "\n",
    "# traj_md = read('../results/test/machine_learning/dftb_opt_1000_six_rings.traj', index=\":\")\n",
    "# traj_opt = read('../results/test/machine_learning/opt.traj', index=\":\")\n",
    "\n",
    "# atoms = fdm.mol_traj[10].copy()\n",
    "# atoms = traj_md[300].copy()\n",
    "# atoms = traj_opt[-1].copy()\n",
    "# atoms = traj_test[10].copy()\n",
    "\n",
    "atoms = crystal_264.copy()\n",
    "atoms.set_pbc(True)\n",
    "\n",
    "\n",
    "calc = Dftb(atoms=atoms,\n",
    "        label='crystal',\n",
    "        # Hamiltonian_ = \"xTB\",\n",
    "        # # Hamiltonian_Method = \"GFN1-xTB\",\n",
    "        # Hamiltonian_MaxAngularMomentum_='',\n",
    "        # Hamiltonian_MaxAngularMomentum_O='p',\n",
    "        # Hamiltonian_MaxAngularMomentum_H='s',\n",
    "        # Hamiltonian_MaxAngularMomentum_N='s',\n",
    "        # Hamiltonian_MaxAngularMomentum_C='s',\n",
    "        # Hamiltonian_MaxAngularMomentum_Si='s',\n",
    "        kpts=(1,1,1),\n",
    "        # Hamiltonian_SCC='Yes',\n",
    "        # Verbosity=0,\n",
    "        # Hamiltonian_OrbitalResolvedSCC = 'Yes',\n",
    "        # Hamiltonian_SCCTolerance=1e-15,\n",
    "        # kpts=None,\n",
    "        # Driver_='ConjugateGradient',\n",
    "        # Driver_MaxForceComponent=1e-3,\n",
    "        # Driver_MaxSteps=200,\n",
    "        # Driver_LatticeOpt = 'Yes',\n",
    "        #     Driver_AppendGeometries = 'Yes',\n",
    "        #     Driver_='',\n",
    "        #     Driver_Socket_='',\n",
    "        #     Driver_Socket_File='Hello'\n",
    "        )\n",
    "\n",
    "atoms.calc = calc\n",
    "\n",
    "\n",
    "os.chdir(\"/home/qklmn/data/datasets/rotors/different_temperatures/dftb\")\n",
    "\n",
    "\n",
    "\n",
    "# Langevin dynamics:\n",
    "# https://databases.fysik.dtu.dk/ase/tutorials/md/md.html\n",
    "# MaxwellBoltzmannDistribution(atoms, temperature_K=100, force_temp=True)\n",
    "dyn = Langevin(atoms, 1*fs, \n",
    "               temperature_K=300, #0.1/units.kB, \n",
    "               friction=0.1,\n",
    "        #        fixcm=True, \n",
    "               trajectory='traj_300.traj',\n",
    "               logfile=\"md_log.log\")\n",
    "\n",
    "dyn.run(1000)"
   ]
  },
  {
   "cell_type": "code",
   "execution_count": 125,
   "metadata": {},
   "outputs": [
    {
     "data": {
      "image/png": "[encoded data removed]",
      "text/plain": [
       "<Figure size 640x480 with 1 Axes>"
      ]
     },
     "metadata": {},
     "output_type": "display_data"
    }
   ],
   "source": [
    "import matplotlib.pyplot as plt\n",
    "\n",
    "traj = io.read(\"/home/qklmn/data/datasets/rotors/different_temperatures/dftb/traj_2100.traj\", index=\":\")\n",
    "\n",
    "energies = [mol.get_temperature() for mol in traj]\n",
    "plt.plot(energies)\n",
    "plt.show()"
   ]
  },
  {
   "cell_type": "code",
   "execution_count": 122,
   "metadata": {},
   "outputs": [],
   "source": [
    "traj_dftb_2100 = io.read(\"/home/qklmn/data/datasets/rotors/different_temperatures/dftb/traj_2100.traj\", index = \":\")"
   ]
  },
  {
   "cell_type": "code",
   "execution_count": 123,
   "metadata": {},
   "outputs": [],
   "source": [
    "initial_structure = io.read(\"/home/qklmn/data/starting_configuration/1.cif\")"
   ]
  },
  {
   "cell_type": "code",
   "execution_count": 126,
   "metadata": {},
   "outputs": [
    {
     "name": "stdout",
     "output_type": "stream",
     "text": [
      "Si Si Si Si Si Si C C C C C C C C C C C C C C C C C C C C C C C C C C C C C C C C C C C C C C C C C C C C C C C C C C C C C C C C C C C C C C C C C C C C C C C C C C C C C C C C C C C C C C C C C C C C C C C C N N N N N N O O O O O O H H H H H H H H H H H H H H H H H H H H H H H H H H H H H H H H H H H H H H H H H H H H H H H H H H H H H H H H H H H H H H H H H H H H H H H H H H H H H H H H H H H H H H H H H H H H H H H H H H H H H H H H H H H H H H H H H H H H H H H H H H H H H H H H H H H H H H H H H H H H H H H H H H H H H H\n",
      "Si Si Si Si Si Si C C C C C C C C C C C C C C C C C C C C C C C C C C C C C C C C C C C C C C C C C C C C C C C C C C C C C C C C C C C C C C C C C C C C C C C C C C C C C C C C C C C C C C C C C C C C C C C C N N N N N N O O O O O O H H H H H H H H H H H H H H H H H H H H H H H H H H H H H H H H H H H H H H H H H H H H H H H H H H H H H H H H H H H H H H H H H H H H H H H H H H H H H H H H H H H H H H H H H H H H H H H H H H H H H H H H H H H H H H H H H H H H H H H H H H H H H H H H H H H H H H H H H H H H H H H H H H H H H H\n"
     ]
    }
   ],
   "source": [
    "print(*traj_dftb_2100[0].get_chemical_symbols() )\n",
    "print(*initial_structure.get_chemical_symbols() )"
   ]
  },
  {
   "cell_type": "code",
   "execution_count": 114,
   "metadata": {},
   "outputs": [
    {
     "data": {
      "text/plain": [
       "False"
      ]
     },
     "execution_count": 114,
     "metadata": {},
     "output_type": "execute_result"
    }
   ],
   "source": []
  }
 ],
 "metadata": {
  "kernelspec": {
   "display_name": "Python 3 (ipykernel)",
   "language": "python",
   "name": "python3"
  },
  "language_info": {
   "codemirror_mode": {
    "name": "ipython",
    "version": 3
   },
   "file_extension": ".py",
   "mimetype": "text/x-python",
   "name": "python",
   "nbconvert_exporter": "python",
   "pygments_lexer": "ipython3",
   "version": "3.10.12"
  },
  "orig_nbformat": 4
 },
 "nbformat": 4,
 "nbformat_minor": 2
}
