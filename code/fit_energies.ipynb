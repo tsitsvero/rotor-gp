{
 "cells": [
  {
   "cell_type": "markdown",
   "metadata": {},
   "source": [
    "# Fit energies"
   ]
  },
  {
   "cell_type": "code",
   "execution_count": null,
   "metadata": {},
   "outputs": [],
   "source": [
    "from rascal.representations import SphericalInvariants\n",
    "\n"
   ]
  },
  {
   "cell_type": "code",
   "execution_count": null,
   "metadata": {},
   "outputs": [],
   "source": [
    "from ase import io\n",
    "\n",
    "traj_295 = io.read(\"/data1/simulations/datasets/rotors/high_temp_ML_training_data/results_triasine_ML_2000/struct_295_295K/md_trajectory.traj\", index=\":\")\n",
    "traj_355 = io.read(\"/data1/simulations/datasets/rotors/high_temp_ML_training_data/results_triasine_ML_2000/struct_355_355K/md_trajectory.traj\", index=\":\")\n",
    "\n",
    "traj_295_2000K = io.read(\"/data1/simulations/datasets/rotors/high_temp_ML_training_data/results_triasine_ML_2000/struct_295_2000K/md_trajectory.traj\", index=\":\")\n",
    "traj_355_2000K = io.read(\"/data1/simulations/datasets/rotors/high_temp_ML_training_data/results_triasine_ML_2000/struct_355_2000K/md_trajectory.traj\", index=\":\")\n",
    "traj_295_2000K_forced = io.read(\"/data1/simulations/datasets/rotors/high_temp_ML_training_data/results_triasine_ML_2000/struct_295_2000K_0075force/md_trajectory.traj\", index=\":\")\n",
    "traj_355_2000K_forced = io.read(\"/data1/simulations/datasets/rotors/high_temp_ML_training_data/results_triasine_ML_2000/struct_355_2000K_0075force/md_trajectory.traj\", index=\":\")\n",
    "\n"
   ]
  },
  {
   "cell_type": "code",
   "execution_count": null,
   "metadata": {},
   "outputs": [],
   "source": [
    "traj_train = traj_295[0:5000:10] + traj_355[0:5000:10] + traj_295_2000K[0:5000:10] + traj_355_2000K[0:5000:10] + traj_295_2000K_forced[0:5000:10] + traj_355_2000K_forced[0:5000:10]"
   ]
  },
  {
   "cell_type": "code",
   "execution_count": null,
   "metadata": {},
   "outputs": [],
   "source": [
    "energies_train = [s.get_potential_energy() for s in traj_train]"
   ]
  },
  {
   "cell_type": "code",
   "execution_count": null,
   "metadata": {},
   "outputs": [],
   "source": [
    "import matplotlib.pyplot as plt\n",
    "\n",
    "plt.plot(energies)\n",
    "plt.show()\n"
   ]
  },
  {
   "cell_type": "code",
   "execution_count": null,
   "metadata": {},
   "outputs": [],
   "source": [
    "import math\n",
    "from tqdm import tqdm\n",
    "\n",
    "def prepare_batches(\n",
    "        # self, \n",
    "        traj, \n",
    "        forces,\n",
    "        energies, \n",
    "        frames_per_batch=10):\n",
    "        \n",
    "        n_frames = len(traj)\n",
    "        n_batches = math.ceil(n_frames/frames_per_batch)\n",
    "\n",
    "        print(f\"Total number of frames is {n_frames}\")\n",
    "        print(f\"Total number of batches is {n_batches}\")\n",
    "\n",
    "        batches = []\n",
    "        for i in range(n_batches):\n",
    "            batch = {}\n",
    "            batch[\"traj\"] = traj[i*frames_per_batch:(i+1)*frames_per_batch]\n",
    "        #     batch[\"forces\"] = forces[i*frames_per_batch:(i+1)*frames_per_batch]\n",
    "            batch[\"energies\"] = energies[i*frames_per_batch:(i+1)*frames_per_batch]\n",
    "            batches.append(batch)\n",
    "\n",
    "        return batches\n",
    "\n",
    "\n",
    "soap_params = {\n",
    "# 'species': [\"H\", \"C\", \"O\", \"N\", \"Si\"],\n",
    "# 'periodic': True,\n",
    "'interaction_cutoff': 3.0, #5\n",
    "'gaussian_sigma_constant': 0.3,\n",
    "'max_radial': 4, #5\n",
    "'max_angular': 4,#5\n",
    "'cutoff_smooth_width': 0.1,\n",
    "# 'average': \"off\",\n",
    "# 'crossover': True,\n",
    "# 'dtype': \"float64\",\n",
    "# 'n_jobs': 10,\n",
    "# 'sparse': False,\n",
    "# 'positions': [7, 11, 15] # ignored\n",
    "}\n",
    "\n",
    "\n",
    "# species= soap_params['species']\n",
    "# periodic= soap_params['periodic']\n",
    "interaction_cutoff = soap_params['interaction_cutoff']\n",
    "gaussian_sigma_constant= soap_params['gaussian_sigma_constant']\n",
    "max_radial= soap_params['max_radial']\n",
    "max_angular= soap_params['max_angular']\n",
    "cutoff_smooth_width = soap_params['cutoff_smooth_width']\n",
    "# average= soap_params['average']\n",
    "# crossover= soap_params['crossover']\n",
    "# dtype= soap_params['dtype']\n",
    "# sparse= soap_params['sparse']\n",
    "# positions = soap_params['positions']\n",
    "\n",
    "hypers = dict(soap_type=\"PowerSpectrum\",\n",
    "        interaction_cutoff=interaction_cutoff,\n",
    "        max_radial=max_radial,\n",
    "        max_angular=max_angular,\n",
    "        gaussian_sigma_constant=gaussian_sigma_constant,\n",
    "        gaussian_sigma_type=\"Constant\",\n",
    "        cutoff_function_type=\"RadialScaling\",\n",
    "        cutoff_smooth_width=cutoff_smooth_width, # 0.1 is way better than 0.5\n",
    "        cutoff_function_parameters=\n",
    "                dict(\n",
    "                        rate=1,\n",
    "                        scale=3.5,\n",
    "                        exponent=4\n",
    "                        ),\n",
    "        radial_basis=\"GTO\",\n",
    "        normalize=False, # setting False makes model untrainable\n",
    "        #   optimization=\n",
    "        #         dict(\n",
    "        #                 Spline=dict(\n",
    "        #                    accuracy=1.0e-05\n",
    "        #                 )\n",
    "        #             ),\n",
    "        compute_gradients=True,\n",
    "        expansion_by_species_method='structure wise'\n",
    "        )\n",
    "\n",
    "for f in traj:\n",
    "        f.wrap(eps=1e-18)\n",
    "\n",
    "n_atoms = len(traj[0])\n",
    "\n",
    "frames_batches = prepare_batches(traj, [0]*len(traj), energies, frames_per_batch=1)\n",
    "\n",
    "\n",
    "\n",
    "print(f\"Total length of traj is {len(traj)}\")\n",
    "print(f\"Total number of batches {len(frames_batches)}\")       \n",
    "print(\"Calculating invariants on trajectory with librascal...\")\n",
    "\n",
    "soap = SphericalInvariants(**hypers)\n",
    "\n",
    "X_np_batched = []\n",
    "E_np_batched = []\n",
    "\n",
    "# DX_np_batched = [[] * len(frames_batches) for i in range(n_atomic_groups)]  \n",
    "# F_np_batched = [[] * len(frames_batches) for i in range(n_atomic_groups)]\n",
    "# grad_info_sub_batched = [[] * len(frames_batches) for i in range(n_atomic_groups)]\n",
    "\n",
    "for ind_b, batch in enumerate(tqdm(frames_batches)):\n",
    "        traj_b = batch['traj']\n",
    "        # forces_b = batch['forces']\n",
    "        energies_b = batch['energies']\n",
    "\n",
    "        managers = soap.transform(traj_b)\n",
    "        soap_array = managers.get_features(soap)\n",
    "        X_np_batched.append(soap_array)\n",
    "        E_np_batched.append(energies_b)"
   ]
  },
  {
   "cell_type": "code",
   "execution_count": null,
   "metadata": {},
   "outputs": [],
   "source": [
    "indices_non_H = []\n",
    "\n",
    "for ind,s in enumerate(traj[0].get_chemical_symbols()):\n",
    "        # print(s)\n",
    "        if s != \"H\":\n",
    "                indices_non_H.append(ind)"
   ]
  },
  {
   "cell_type": "code",
   "execution_count": null,
   "metadata": {},
   "outputs": [],
   "source": [
    "import numpy as np\n",
    "\n",
    "X_np_batched = np.array(X_np_batched)\n",
    "E_np_batched = np.array(E_np_batched).flatten()\n",
    "\n",
    "E_np_batched_no_mean = E_np_batched - np.mean(E_np_batched)"
   ]
  },
  {
   "cell_type": "code",
   "execution_count": null,
   "metadata": {},
   "outputs": [],
   "source": [
    "energies_train_normalized = (energies_train - np.min(energies_train))/(np.max(energies_train) - np.min(energies_train))"
   ]
  },
  {
   "cell_type": "code",
   "execution_count": null,
   "metadata": {},
   "outputs": [],
   "source": [
    "energies_train_normalized = energies_train_normalized[100:]"
   ]
  },
  {
   "cell_type": "code",
   "execution_count": null,
   "metadata": {},
   "outputs": [],
   "source": [
    "energies_train_normalized.shape"
   ]
  },
  {
   "cell_type": "code",
   "execution_count": null,
   "metadata": {},
   "outputs": [],
   "source": []
  },
  {
   "cell_type": "code",
   "execution_count": null,
   "metadata": {},
   "outputs": [],
   "source": [
    "train_X = X_np_batched[:,indices_non_H,:]"
   ]
  },
  {
   "cell_type": "code",
   "execution_count": null,
   "metadata": {},
   "outputs": [],
   "source": [
    "train_X.shape"
   ]
  },
  {
   "cell_type": "code",
   "execution_count": null,
   "metadata": {},
   "outputs": [],
   "source": [
    "import torch\n",
    "\n",
    "X_np_batched_stacked = X_np_batched.reshape(-1, X_np_batched.shape[-1]*X_np_batched.shape[-2])\n",
    "\n",
    "# train_X = torch.tensor(X_np_batched)\n",
    "train_X = train_X.sum(axis=1)\n",
    "train_Y = torch.tensor(E_np_batched_no_mean)\n",
    "\n",
    "\n",
    "\n",
    "test_X = train_X[0:100]\n",
    "test_Y = train_Y[0:100]\n",
    "\n",
    "train_X = train_X[100:]\n",
    "train_Y = train_Y[100:]\n",
    "\n",
    "print(train_X.shape)\n",
    "print(train_Y.shape)\n",
    "print(test_X.shape)\n",
    "print(test_Y.shape)\n",
    "\n",
    "train_X = torch.tensor(train_X)\n",
    "train_Y = torch.tensor(train_Y)\n",
    "test_X = torch.tensor(test_X)\n",
    "test_Y = torch.tensor(test_Y)\n"
   ]
  },
  {
   "cell_type": "code",
   "execution_count": null,
   "metadata": {},
   "outputs": [],
   "source": [
    "print(train_X.shape, train_Y.shape, test_X.shape, test_Y.shape)"
   ]
  },
  {
   "cell_type": "code",
   "execution_count": null,
   "metadata": {},
   "outputs": [],
   "source": []
  },
  {
   "cell_type": "code",
   "execution_count": null,
   "metadata": {},
   "outputs": [],
   "source": [
    "# 1 flatten the per snapshot collection of invariants\n",
    "c = train_X.reshape(-1, train_X.size(2))\n",
    "# test_X.shape\n",
    "print(c.shape)\n",
    "\n",
    "# 2. check that the flattened invariants are the same as the original invariants\n",
    "i = 10\n",
    "(train_X[i] == c[i*train_X.size(1):(i+1)*train_X.size(1)]).all()"
   ]
  },
  {
   "cell_type": "code",
   "execution_count": null,
   "metadata": {},
   "outputs": [],
   "source": [
    "# 3. example kernel matrix\n",
    "kern = c@c.T\n",
    "kern = kern.unsqueeze(0)\n",
    "\n",
    "print(kern.shape)"
   ]
  },
  {
   "cell_type": "code",
   "execution_count": null,
   "metadata": {},
   "outputs": [],
   "source": [
    "21120/528\n",
    "# train_X.shape"
   ]
  },
  {
   "cell_type": "code",
   "execution_count": null,
   "metadata": {},
   "outputs": [],
   "source": [
    "40*528"
   ]
  },
  {
   "cell_type": "code",
   "execution_count": null,
   "metadata": {},
   "outputs": [],
   "source": [
    "# https://pytorch.org/docs/stable/generated/torch.nn.AvgPool2d.html\n",
    "# https://stackoverflow.com/questions/63240702/torch-sum-subsets-of-tensor\n",
    "import torch, torch.nn as nn\n",
    "\n",
    "# pool of square window of size=3, stride=2\n",
    "m = nn.AvgPool2d(528, stride=528)\n",
    "# pool of non-square window\n",
    "# m = nn.AvgPool2d((3, 3), stride=(2, 1))\n",
    "# input = torch.randn(1, 528, 528)\n",
    "input = kern\n",
    "output = m(input)\n",
    "print(output.shape)"
   ]
  },
  {
   "cell_type": "code",
   "execution_count": null,
   "metadata": {},
   "outputs": [],
   "source": [
    "nn.AvgPool1d"
   ]
  },
  {
   "cell_type": "code",
   "execution_count": null,
   "metadata": {},
   "outputs": [],
   "source": [
    "# 4. perform block summation of the kernel matrix\n",
    "\n"
   ]
  },
  {
   "cell_type": "code",
   "execution_count": null,
   "metadata": {},
   "outputs": [],
   "source": [
    "import torch\n",
    "import gpytorch\n",
    "import numpy as np\n",
    "\n",
    "from gpytorch.kernels import (\n",
    "    RBFKernel,\n",
    "    ScaleKernel,\n",
    "    LinearKernel,\n",
    "    AdditiveKernel,\n",
    "    MultitaskKernel,\n",
    "    PolynomialKernel,\n",
    "    MaternKernel,\n",
    ")\n",
    "from gpytorch.means import ZeroMean, ConstantMean\n",
    "\n",
    "from gpytorch.models import ExactGP\n",
    "\n",
    "import torch, torch.nn as nn\n",
    "\n",
    "\n",
    "# https://stackoverflow.com/questions/76251549/setting-the-task-covariance-matrix-to-the-correlation-matrix-in-gpytorch\n",
    "\n",
    "class ExactGPModelEnergies(ExactGP):\n",
    "    def __init__(self, train_X, train_Y, likelihood):\n",
    "        super().__init__(\n",
    "            train_X, train_Y, likelihood\n",
    "        )  # the old-style super(ExactGPModel, self) was causing error!\n",
    "        self.mean_module = ConstantMean()\n",
    "\n",
    "        self.soap_dim = train_X.shape[-1]\n",
    "        # self.covar_module = ScaleKernel(RBFKernel(ard_num_dims=self.soap_dim))#LinearKernel()\n",
    "        self.covar_module = ScaleKernel(MaternKernel(ard_num_dims=self.soap_dim))#LinearKernel()\n",
    "        # self.covar_module = ScaleKernel(LinearKernel(ard_num_dims=self.soap_dim))\n",
    "\n",
    "    def forward(self, X):\n",
    "        x = X\n",
    "        mean_x = self.mean_module(x)\n",
    "        covar_x = self.covar_module(x)\n",
    "        return gpytorch.distributions.MultivariateNormal(mean_x, covar_x)\n",
    "\n"
   ]
  },
  {
   "cell_type": "code",
   "execution_count": null,
   "metadata": {},
   "outputs": [],
   "source": [
    "# initialize likelihood and model\n",
    "likelihood = gpytorch.likelihoods.GaussianLikelihood()\n",
    "# model = ExactGPModelEnergies(train_X, train_Y, likelihood)\n",
    "model = ExactGPModelEnergiesMulti(train_X, train_Y, likelihood)"
   ]
  },
  {
   "cell_type": "code",
   "execution_count": null,
   "metadata": {},
   "outputs": [],
   "source": [
    "train_X = train_X.cuda()\n",
    "train_Y = torch.tensor(energies_train_normalized).cuda()\n",
    "test_X = test_X.cuda()\n",
    "test_Y = test_Y.cuda()\n",
    "# initialize likelihood and model\n",
    "likelihood = gpytorch.likelihoods.GaussianLikelihood()\n",
    "model = ExactGPModelEnergies(train_X, train_Y, likelihood)\n",
    "# model = ExactGPModelEnergiesMulti(train_X, train_Y, likelihood)\n",
    "model = model.cuda()\n",
    "likelihood = likelihood.cuda()"
   ]
  },
  {
   "cell_type": "code",
   "execution_count": null,
   "metadata": {},
   "outputs": [],
   "source": [
    "train_Y.shape"
   ]
  },
  {
   "cell_type": "code",
   "execution_count": null,
   "metadata": {},
   "outputs": [],
   "source": [
    "# this is for running the notebook in our testing framework\n",
    "import os\n",
    "\n",
    "\n",
    "\n",
    "training_iter = 300\n",
    "\n",
    "\n",
    "# Find optimal model hyperparameters\n",
    "model.train()\n",
    "likelihood.train()\n",
    "\n",
    "# Use the adam optimizer\n",
    "optimizer = torch.optim.Adam(model.parameters(), lr=0.1)  # Includes GaussianLikelihood parameters\n",
    "\n",
    "# \"Loss\" for GPs - the marginal log likelihood\n",
    "mll = gpytorch.mlls.ExactMarginalLogLikelihood(likelihood, model)\n",
    "\n",
    "print(\"Training...\")\n",
    "# initial_loss = -mll(model(train_X), train_Y).item()\n",
    "for i in range(training_iter):\n",
    "    # Zero gradients from previous iteration\n",
    "    optimizer.zero_grad()\n",
    "    # print(\"grad zeroed\")\n",
    "    # Output from model\n",
    "    output = model(train_X)\n",
    "    # print(\"Output calculated\")\n",
    "    # print(output)\n",
    "    # Calc loss and backprop gradients\n",
    "    loss = -mll(output, train_Y)\n",
    "    # print(\"Loss calculated, \")\n",
    "\n",
    "    loss.backward()\n",
    "    # print(loss)\n",
    "    # print('Iter %d/%d - Loss: %.3f   lengthscale: %.3f   noise: %.3f' % (\n",
    "    #     i + 1, training_iter, loss.item(),\n",
    "    #     model.covar_module.base_kernel.lengthscale.item(),\n",
    "    #     model.likelihood.noise.item()\n",
    "    # ))\n",
    "    print(f\"step: {i},loss: {loss}\")\n",
    "    optimizer.step()\n",
    "\n",
    "# print(\"Initial loss: \", initial_loss)\n",
    "print(\"Final loss: \", loss)\n"
   ]
  },
  {
   "cell_type": "code",
   "execution_count": null,
   "metadata": {},
   "outputs": [],
   "source": [
    "# Get into evaluation (predictive posterior) mode\n",
    "model.eval()\n",
    "likelihood.eval()\n",
    "\n",
    "test_x = test_X\n",
    "\n",
    "# Test points are regularly spaced along [0,1]\n",
    "# Make predictions by feeding model through likelihood\n",
    "# with torch.no_grad(), gpytorch.settings.fast_pred_var():\n",
    "#     test_x = torch.linspace(0, 1, 51)\n",
    "observed_pred = likelihood(model(test_x)).mean.detach().cpu().numpy()\n",
    "\n",
    "\n",
    "\n",
    "import matplotlib.pyplot as plt\n",
    "\n",
    "plt.plot(observed_pred, label=\"Predicted energy\")\n",
    "plt.plot(test_Y.detach().cpu().numpy(), label=\"True energy\")\n",
    "plt.xlabel('step')\n",
    "plt.ylabel('Predicted Energy')\n",
    "# plt.xlim(0, 100)\n",
    "plt.legend()\n",
    "plt.show()"
   ]
  },
  {
   "cell_type": "code",
   "execution_count": null,
   "metadata": {},
   "outputs": [],
   "source": [
    "plt.plot(test_Y)\n",
    "plt.ylabel('Energy')\n",
    "plt.xlabel('step')\n",
    "plt.xlim(85, 100)\n",
    "plt.show()"
   ]
  },
  {
   "cell_type": "code",
   "execution_count": null,
   "metadata": {},
   "outputs": [],
   "source": [
    "traj_test = io.read(\"/data1/simulations/datasets/rotors/for jacs paper/295_0.075_same_+/md_trajectory.traj\", index=\":\", format=\"traj\")"
   ]
  },
  {
   "cell_type": "code",
   "execution_count": null,
   "metadata": {},
   "outputs": [],
   "source": [
    "energies_test = [s.get_potential_energy() for s in traj_test]"
   ]
  },
  {
   "cell_type": "code",
   "execution_count": null,
   "metadata": {},
   "outputs": [],
   "source": [
    "energies_test_normalized = (energies_test - np.min(energies_train))/(np.max(energies_train) - np.min(energies_train))"
   ]
  },
  {
   "cell_type": "code",
   "execution_count": null,
   "metadata": {},
   "outputs": [],
   "source": [
    "traj = traj_test"
   ]
  },
  {
   "cell_type": "code",
   "execution_count": null,
   "metadata": {},
   "outputs": [],
   "source": [
    "import math\n",
    "from tqdm import tqdm\n",
    "\n",
    "def prepare_batches(\n",
    "        # self, \n",
    "        traj, \n",
    "        forces,\n",
    "        energies, \n",
    "        frames_per_batch=10):\n",
    "        \n",
    "        n_frames = len(traj)\n",
    "        n_batches = math.ceil(n_frames/frames_per_batch)\n",
    "\n",
    "        print(f\"Total number of frames is {n_frames}\")\n",
    "        print(f\"Total number of batches is {n_batches}\")\n",
    "\n",
    "        batches = []\n",
    "        for i in range(n_batches):\n",
    "            batch = {}\n",
    "            batch[\"traj\"] = traj[i*frames_per_batch:(i+1)*frames_per_batch]\n",
    "        #     batch[\"forces\"] = forces[i*frames_per_batch:(i+1)*frames_per_batch]\n",
    "            batch[\"energies\"] = energies[i*frames_per_batch:(i+1)*frames_per_batch]\n",
    "            batches.append(batch)\n",
    "\n",
    "        return batches\n",
    "\n",
    "\n",
    "soap_params = {\n",
    "# 'species': [\"H\", \"C\", \"O\", \"N\", \"Si\"],\n",
    "# 'periodic': True,\n",
    "'interaction_cutoff': 3.0, #5\n",
    "'gaussian_sigma_constant': 0.3,\n",
    "'max_radial': 4, #5\n",
    "'max_angular': 4,#5\n",
    "'cutoff_smooth_width': 0.1,\n",
    "# 'average': \"off\",\n",
    "# 'crossover': True,\n",
    "# 'dtype': \"float64\",\n",
    "# 'n_jobs': 10,\n",
    "# 'sparse': False,\n",
    "# 'positions': [7, 11, 15] # ignored\n",
    "}\n",
    "\n",
    "\n",
    "# species= soap_params['species']\n",
    "# periodic= soap_params['periodic']\n",
    "interaction_cutoff = soap_params['interaction_cutoff']\n",
    "gaussian_sigma_constant= soap_params['gaussian_sigma_constant']\n",
    "max_radial= soap_params['max_radial']\n",
    "max_angular= soap_params['max_angular']\n",
    "cutoff_smooth_width = soap_params['cutoff_smooth_width']\n",
    "# average= soap_params['average']\n",
    "# crossover= soap_params['crossover']\n",
    "# dtype= soap_params['dtype']\n",
    "# sparse= soap_params['sparse']\n",
    "# positions = soap_params['positions']\n",
    "\n",
    "hypers = dict(soap_type=\"PowerSpectrum\",\n",
    "        interaction_cutoff=interaction_cutoff,\n",
    "        max_radial=max_radial,\n",
    "        max_angular=max_angular,\n",
    "        gaussian_sigma_constant=gaussian_sigma_constant,\n",
    "        gaussian_sigma_type=\"Constant\",\n",
    "        cutoff_function_type=\"RadialScaling\",\n",
    "        cutoff_smooth_width=cutoff_smooth_width, # 0.1 is way better than 0.5\n",
    "        cutoff_function_parameters=\n",
    "                dict(\n",
    "                        rate=1,\n",
    "                        scale=3.5,\n",
    "                        exponent=4\n",
    "                        ),\n",
    "        radial_basis=\"GTO\",\n",
    "        normalize=False, # setting False makes model untrainable\n",
    "        #   optimization=\n",
    "        #         dict(\n",
    "        #                 Spline=dict(\n",
    "        #                    accuracy=1.0e-05\n",
    "        #                 )\n",
    "        #             ),\n",
    "        compute_gradients=True,\n",
    "        expansion_by_species_method='structure wise'\n",
    "        )\n",
    "\n",
    "for f in traj:\n",
    "        f.wrap(eps=1e-18)\n",
    "\n",
    "n_atoms = len(traj[0])\n",
    "\n",
    "frames_batches = prepare_batches(traj, [0]*len(traj), energies, frames_per_batch=1)\n",
    "\n",
    "\n",
    "\n",
    "print(f\"Total length of traj is {len(traj)}\")\n",
    "print(f\"Total number of batches {len(frames_batches)}\")       \n",
    "print(\"Calculating invariants on trajectory with librascal...\")\n",
    "\n",
    "soap = SphericalInvariants(**hypers)\n",
    "\n",
    "X_np_batched = []\n",
    "E_np_batched = []\n",
    "\n",
    "# DX_np_batched = [[] * len(frames_batches) for i in range(n_atomic_groups)]  \n",
    "# F_np_batched = [[] * len(frames_batches) for i in range(n_atomic_groups)]\n",
    "# grad_info_sub_batched = [[] * len(frames_batches) for i in range(n_atomic_groups)]\n",
    "\n",
    "for ind_b, batch in enumerate(tqdm(frames_batches)):\n",
    "        traj_b = batch['traj']\n",
    "        # forces_b = batch['forces']\n",
    "        energies_b = batch['energies']\n",
    "\n",
    "        managers = soap.transform(traj_b)\n",
    "        soap_array = managers.get_features(soap)\n",
    "        X_np_batched.append(soap_array)\n",
    "        E_np_batched.append(energies_b)"
   ]
  },
  {
   "cell_type": "code",
   "execution_count": null,
   "metadata": {},
   "outputs": [],
   "source": [
    "indices_non_H = []\n",
    "\n",
    "for ind,s in enumerate(traj[0].get_chemical_symbols()):\n",
    "        # print(s)\n",
    "        if s != \"H\":\n",
    "                indices_non_H.append(ind)"
   ]
  },
  {
   "cell_type": "code",
   "execution_count": null,
   "metadata": {},
   "outputs": [],
   "source": [
    "import numpy as np\n",
    "\n",
    "X_np_batched = np.array(X_np_batched)\n",
    "E_np_batched = np.array(E_np_batched).flatten()\n",
    "\n",
    "E_np_batched_no_mean = E_np_batched - np.mean(energies_train)"
   ]
  },
  {
   "cell_type": "code",
   "execution_count": null,
   "metadata": {},
   "outputs": [],
   "source": [
    "test_X = X_np_batched[:,indices_non_H,:]\n",
    "test_X = test_X.sum(axis=1)\n",
    "test_X = torch.tensor(test_X).cuda()\n",
    "test_Y = torch.tensor(energies_test_normalized).cuda()\n"
   ]
  },
  {
   "cell_type": "code",
   "execution_count": null,
   "metadata": {},
   "outputs": [],
   "source": [
    "from matplotlib import pyplot as plt\n",
    "\n",
    "plt.plot(energies_train_normalized)\n",
    "# plt.plot(energies_test_normalized)\n",
    "plt.plot(test_Y.detach().cpu().numpy())\n",
    "plt.show()"
   ]
  },
  {
   "cell_type": "code",
   "execution_count": null,
   "metadata": {},
   "outputs": [],
   "source": []
  }
 ],
 "metadata": {
  "kernelspec": {
   "display_name": "base",
   "language": "python",
   "name": "python3"
  },
  "language_info": {
   "codemirror_mode": {
    "name": "ipython",
    "version": 3
   },
   "file_extension": ".py",
   "mimetype": "text/x-python",
   "name": "python",
   "nbconvert_exporter": "python",
   "pygments_lexer": "ipython3",
   "version": "3.10.10"
  },
  "orig_nbformat": 4
 },
 "nbformat": 4,
 "nbformat_minor": 2
}
