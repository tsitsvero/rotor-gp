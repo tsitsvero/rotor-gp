{
 "cells": [
  {
   "cell_type": "code",
   "execution_count": 2,
   "metadata": {},
   "outputs": [],
   "source": [
    "%load_ext autoreload\n",
    "%autoreload 2\n",
    "\n",
    "import os\n",
    "import sys\n",
    "sys.path.append(os.path.expandvars(\"/home/$USER/repos/fande/\") )"
   ]
  },
  {
   "cell_type": "code",
   "execution_count": 8,
   "metadata": {},
   "outputs": [],
   "source": [
    "from fande.ipi import ipi2ase"
   ]
  },
  {
   "cell_type": "code",
   "execution_count": 22,
   "metadata": {},
   "outputs": [
    {
     "name": "stdout",
     "output_type": "stream",
     "text": [
      "File has been read.\n",
      "Cells info has been read.\n"
     ]
    },
    {
     "name": "stderr",
     "output_type": "stream",
     "text": [
      "6400it [00:03, 1942.49it/s]\n"
     ]
    },
    {
     "name": "stdout",
     "output_type": "stream",
     "text": [
      "Output file has been written.\n",
      "File has been read.\n",
      "Cells info has been read.\n"
     ]
    },
    {
     "name": "stderr",
     "output_type": "stream",
     "text": [
      "6400it [00:03, 1942.68it/s]\n"
     ]
    },
    {
     "name": "stdout",
     "output_type": "stream",
     "text": [
      "Output file has been written.\n"
     ]
    }
   ],
   "source": [
    "traj_npt_1 = ipi2ase(\"/data1/simulations/correlations/NPT_DFTB/npt_1/PREFIX.pos_0.xyz\", index=\"0:6400\")\n",
    "traj_npt_32 = ipi2ase(\"/data1/simulations/correlations/NPT_DFTB/npt_32/PREFIX.pos_00.xyz\", index=\"0:6400\")"
   ]
  },
  {
   "cell_type": "code",
   "execution_count": 1,
   "metadata": {},
   "outputs": [],
   "source": [
    "# from ase import io\n",
    "# traj_npt_1 = io.read('/data1/simulations/correlations/NPT_DFTB/npt_1/traj_npt_1.xyz', index='0:5000')\n",
    "# traj_npt_32 = io.read('/data1/simulations/correlations/NPT_DFTB/npt_32/traj_npt_32.xyz', index=':')"
   ]
  },
  {
   "cell_type": "code",
   "execution_count": 16,
   "metadata": {},
   "outputs": [
    {
     "data": {
      "text/plain": [
       "<Popen: returncode: None args: ['/home/dlbox2/anaconda3/envs/fande/bin/pytho...>"
      ]
     },
     "execution_count": 16,
     "metadata": {},
     "output_type": "execute_result"
    }
   ],
   "source": [
    "from ase.visualize import view\n",
    "\n",
    "view(traj_npt_1)\n",
    "view(traj_npt_32)"
   ]
  },
  {
   "cell_type": "code",
   "execution_count": 23,
   "metadata": {},
   "outputs": [],
   "source": [
    "cell_x_1 = [traj_npt_1[i].get_cell()[0][0] for i in range(len(traj_npt_1))]\n",
    "cell_x_32 = [traj_npt_32[i].get_cell()[0][0] for i in range(len(traj_npt_32))]\n",
    "\n",
    "cell_y_1 = [traj_npt_1[i].get_cell()[1][1] for i in range(len(traj_npt_1))]\n",
    "cell_y_32 = [traj_npt_32[i].get_cell()[1][1] for i in range(len(traj_npt_32))]\n",
    "\n",
    "cell_z_1 = [traj_npt_1[i].get_cell()[2][2] for i in range(len(traj_npt_1))]\n",
    "cell_z_32 = [traj_npt_32[i].get_cell()[2][2] for i in range(len(traj_npt_32))]\n"
   ]
  },
  {
   "cell_type": "code",
   "execution_count": 24,
   "metadata": {},
   "outputs": [],
   "source": [
    "vol_1 = [traj_npt_1[i].get_volume() for i in range(len(traj_npt_1))]\n",
    "vol_32 = [traj_npt_32[i].get_volume() for i in range(len(traj_npt_32))]"
   ]
  },
  {
   "cell_type": "code",
   "execution_count": 25,
   "metadata": {},
   "outputs": [],
   "source": [
    "%matplotlib qt\n",
    "from matplotlib import pyplot as plt\n",
    "\n",
    "plt.plot(cell_x_1, label='cell_x_1')\n",
    "plt.plot(cell_x_32, label='cell_x_32')\n",
    "\n",
    "\n",
    "# plt.plot(cell_y_1, label='cell_y_1')\n",
    "# plt.plot(cell_y_32, label='cell_y_32')\n",
    "\n",
    "# plt.plot(cell_z_1, label='cell_z_1')\n",
    "# plt.plot(cell_z_32, label='cell_z_32')\n",
    "\n",
    "plt.legend(loc='upper left')\n",
    "plt.show()"
   ]
  },
  {
   "cell_type": "code",
   "execution_count": 20,
   "metadata": {},
   "outputs": [],
   "source": [
    "plt.plot(vol_1, label='vol_1')\n",
    "plt.plot(vol_32, label='vol_32')\n",
    "\n",
    "plt.legend(loc='upper left')\n",
    "plt.show()"
   ]
  },
  {
   "cell_type": "code",
   "execution_count": 21,
   "metadata": {},
   "outputs": [
    {
     "name": "stderr",
     "output_type": "stream",
     "text": [
      "/home/dlbox2/anaconda3/envs/fande/lib/python3.10/site-packages/ase/utils/__init__.py:62: FutureWarning: Please use atoms.cell.cellpar() instead\n",
      "  warnings.warn(warning)\n",
      "ic| traj_npt_1[0].get_cell_lengths_and_angles(): array([ 13.752,  19.308,  21.189, 113.876,  95.645,  96.371])\n",
      "ic| traj_npt_32[0].get_cell_lengths_and_angles(): array([ 13.752,  19.308,  21.189, 113.876,  95.645,  96.371])\n"
     ]
    }
   ],
   "source": [
    "ic(traj_npt_1[0].get_cell_lengths_and_angles());\n",
    "ic(traj_npt_32[0].get_cell_lengths_and_angles());"
   ]
  },
  {
   "cell_type": "code",
   "execution_count": 33,
   "metadata": {},
   "outputs": [
    {
     "name": "stderr",
     "output_type": "stream",
     "text": [
      "/home/dlbox2/anaconda3/envs/fande/lib/python3.10/site-packages/ase/utils/__init__.py:62: FutureWarning: Please use atoms.cell.cellpar() instead\n",
      "  warnings.warn(warning)\n",
      "ic| crystal_355K[0].get_cell_lengths_and_angles(): array([ 13.752,  19.308,  21.189, 113.876,  95.645,  96.371])\n"
     ]
    }
   ],
   "source": [
    "from icecream import ic\n",
    "\n",
    "crystal_355K = io.read('/home/dlbox2/ダウンロード/artificial-rotor/structures/triazine/ipi/295Ksupercell.cif', index=':')\n",
    "\n",
    "ic(crystal_355K[0].get_cell_lengths_and_angles());"
   ]
  },
  {
   "cell_type": "code",
   "execution_count": 32,
   "metadata": {},
   "outputs": [
    {
     "data": {
      "text/plain": [
       "<Popen: returncode: None args: ['/home/dlbox2/anaconda3/envs/fande/bin/pytho...>"
      ]
     },
     "execution_count": 32,
     "metadata": {},
     "output_type": "execute_result"
    }
   ],
   "source": [
    "view(traj_npt_1)"
   ]
  }
 ],
 "metadata": {
  "kernelspec": {
   "display_name": "base",
   "language": "python",
   "name": "python3"
  },
  "language_info": {
   "codemirror_mode": {
    "name": "ipython",
    "version": 3
   },
   "file_extension": ".py",
   "mimetype": "text/x-python",
   "name": "python",
   "nbconvert_exporter": "python",
   "pygments_lexer": "ipython3",
   "version": "3.10.10"
  },
  "orig_nbformat": 4
 },
 "nbformat": 4,
 "nbformat_minor": 2
}
