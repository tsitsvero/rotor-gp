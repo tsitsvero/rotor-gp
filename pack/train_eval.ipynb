{
  "cells": [
    {
      "cell_type": "markdown",
      "metadata": {
        "id": "7dCOI-tn1woN"
      },
      "source": [
        "<a href=\"https://colab.research.google.com/github/tsitsvero/rotor-gp/blob/main/pack/train_eval.ipynb\" target=\"_parent\"><img src=\"https://colab.research.google.com/assets/colab-badge.svg\" alt=\"Open In Colab\"/></a>"
      ]
    },
    {
      "cell_type": "markdown",
      "metadata": {
        "id": "CGkUAB7q1woR"
      },
      "source": [
        "# Install dependencies"
      ]
    },
    {
      "cell_type": "code",
      "execution_count": 18,
      "metadata": {
        "colab": {
          "base_uri": "https://localhost:8080/"
        },
        "id": "znyGV5dF1woR",
        "outputId": "9a4918e2-0d34-4dab-baa5-1c2eefc81cf1"
      },
      "outputs": [
        {
          "output_type": "stream",
          "name": "stdout",
          "text": [
            "Collecting git+https://github.com/lab-cosmo/librascal\n",
            "  Cloning https://github.com/lab-cosmo/librascal to /tmp/pip-req-build-ufpjb1v8\n",
            "  Running command git clone --filter=blob:none --quiet https://github.com/lab-cosmo/librascal /tmp/pip-req-build-ufpjb1v8\n",
            "  Resolved https://github.com/lab-cosmo/librascal to commit 6c55e99720f9a181f1efc5c7cd4976c87809d79b\n",
            "  Installing build dependencies ... \u001b[?25l\u001b[?25hdone\n",
            "  Getting requirements to build wheel ... \u001b[?25l\u001b[?25hdone\n",
            "  Preparing metadata (pyproject.toml) ... \u001b[?25l\u001b[?25hdone\n",
            "Collecting git+https://github.com/chem-gp/fande\n",
            "  Cloning https://github.com/chem-gp/fande to /tmp/pip-req-build-heot65o9\n",
            "  Running command git clone --filter=blob:none --quiet https://github.com/chem-gp/fande /tmp/pip-req-build-heot65o9\n",
            "  Resolved https://github.com/chem-gp/fande to commit 353b1733424bfdd15a117ac41dd5f909ed5ce40c\n",
            "  Preparing metadata (setup.py) ... \u001b[?25l\u001b[?25hdone\n",
            "Requirement already satisfied: gpytorch in /usr/local/lib/python3.10/dist-packages (1.11)\n",
            "Requirement already satisfied: pytorch-lightning in /usr/local/lib/python3.10/dist-packages (2.1.3)\n",
            "Requirement already satisfied: wandb in /usr/local/lib/python3.10/dist-packages (0.16.1)\n",
            "Requirement already satisfied: xtb in /usr/local/lib/python3.10/dist-packages (22.1)\n",
            "Requirement already satisfied: nbstripout in /usr/local/lib/python3.10/dist-packages (0.6.1)\n",
            "Requirement already satisfied: numpy>=1.16.0 in /usr/local/lib/python3.10/dist-packages (from rascal==0.0.0) (1.23.5)\n",
            "Requirement already satisfied: scipy>=1.4.0 in /usr/local/lib/python3.10/dist-packages (from rascal==0.0.0) (1.11.4)\n",
            "Requirement already satisfied: matplotlib>=2.0.0 in /usr/local/lib/python3.10/dist-packages (from rascal==0.0.0) (3.7.1)\n",
            "Requirement already satisfied: ase>=3.19.0 in /usr/local/lib/python3.10/dist-packages (from rascal==0.0.0) (3.22.1)\n",
            "Requirement already satisfied: scikit-learn in /usr/local/lib/python3.10/dist-packages (from gpytorch) (1.2.2)\n",
            "Requirement already satisfied: linear-operator>=0.5.0 in /usr/local/lib/python3.10/dist-packages (from gpytorch) (0.5.2)\n",
            "Requirement already satisfied: torch>=1.12.0 in /usr/local/lib/python3.10/dist-packages (from pytorch-lightning) (2.1.0+cu121)\n",
            "Requirement already satisfied: tqdm>=4.57.0 in /usr/local/lib/python3.10/dist-packages (from pytorch-lightning) (4.66.1)\n",
            "Requirement already satisfied: PyYAML>=5.4 in /usr/local/lib/python3.10/dist-packages (from pytorch-lightning) (6.0.1)\n",
            "Requirement already satisfied: fsspec[http]>=2022.5.0 in /usr/local/lib/python3.10/dist-packages (from pytorch-lightning) (2023.6.0)\n",
            "Requirement already satisfied: torchmetrics>=0.7.0 in /usr/local/lib/python3.10/dist-packages (from pytorch-lightning) (1.2.1)\n",
            "Requirement already satisfied: packaging>=20.0 in /usr/local/lib/python3.10/dist-packages (from pytorch-lightning) (23.2)\n",
            "Requirement already satisfied: typing-extensions>=4.0.0 in /usr/local/lib/python3.10/dist-packages (from pytorch-lightning) (4.5.0)\n",
            "Requirement already satisfied: lightning-utilities>=0.8.0 in /usr/local/lib/python3.10/dist-packages (from pytorch-lightning) (0.10.0)\n",
            "Requirement already satisfied: Click!=8.0.0,>=7.1 in /usr/local/lib/python3.10/dist-packages (from wandb) (8.1.7)\n",
            "Requirement already satisfied: GitPython!=3.1.29,>=1.0.0 in /usr/local/lib/python3.10/dist-packages (from wandb) (3.1.40)\n",
            "Requirement already satisfied: requests<3,>=2.0.0 in /usr/local/lib/python3.10/dist-packages (from wandb) (2.31.0)\n",
            "Requirement already satisfied: psutil>=5.0.0 in /usr/local/lib/python3.10/dist-packages (from wandb) (5.9.5)\n",
            "Requirement already satisfied: sentry-sdk>=1.0.0 in /usr/local/lib/python3.10/dist-packages (from wandb) (1.39.1)\n",
            "Requirement already satisfied: docker-pycreds>=0.4.0 in /usr/local/lib/python3.10/dist-packages (from wandb) (0.4.0)\n",
            "Requirement already satisfied: setproctitle in /usr/local/lib/python3.10/dist-packages (from wandb) (1.3.3)\n",
            "Requirement already satisfied: setuptools in /usr/local/lib/python3.10/dist-packages (from wandb) (67.7.2)\n",
            "Requirement already satisfied: appdirs>=1.4.3 in /usr/local/lib/python3.10/dist-packages (from wandb) (1.4.4)\n",
            "Requirement already satisfied: protobuf!=4.21.0,<5,>=3.19.0 in /usr/local/lib/python3.10/dist-packages (from wandb) (3.20.3)\n",
            "Requirement already satisfied: cffi in /usr/local/lib/python3.10/dist-packages (from xtb) (1.16.0)\n",
            "Requirement already satisfied: nbformat in /usr/local/lib/python3.10/dist-packages (from nbstripout) (5.9.2)\n",
            "Requirement already satisfied: six>=1.4.0 in /usr/local/lib/python3.10/dist-packages (from docker-pycreds>=0.4.0->wandb) (1.16.0)\n",
            "Requirement already satisfied: aiohttp!=4.0.0a0,!=4.0.0a1 in /usr/local/lib/python3.10/dist-packages (from fsspec[http]>=2022.5.0->pytorch-lightning) (3.9.1)\n",
            "Requirement already satisfied: gitdb<5,>=4.0.1 in /usr/local/lib/python3.10/dist-packages (from GitPython!=3.1.29,>=1.0.0->wandb) (4.0.11)\n",
            "Requirement already satisfied: jaxtyping>=0.2.9 in /usr/local/lib/python3.10/dist-packages (from linear-operator>=0.5.0->gpytorch) (0.2.25)\n",
            "Requirement already satisfied: typeguard~=2.13.3 in /usr/local/lib/python3.10/dist-packages (from linear-operator>=0.5.0->gpytorch) (2.13.3)\n",
            "Requirement already satisfied: contourpy>=1.0.1 in /usr/local/lib/python3.10/dist-packages (from matplotlib>=2.0.0->rascal==0.0.0) (1.2.0)\n",
            "Requirement already satisfied: cycler>=0.10 in /usr/local/lib/python3.10/dist-packages (from matplotlib>=2.0.0->rascal==0.0.0) (0.12.1)\n",
            "Requirement already satisfied: fonttools>=4.22.0 in /usr/local/lib/python3.10/dist-packages (from matplotlib>=2.0.0->rascal==0.0.0) (4.46.0)\n",
            "Requirement already satisfied: kiwisolver>=1.0.1 in /usr/local/lib/python3.10/dist-packages (from matplotlib>=2.0.0->rascal==0.0.0) (1.4.5)\n",
            "Requirement already satisfied: pillow>=6.2.0 in /usr/local/lib/python3.10/dist-packages (from matplotlib>=2.0.0->rascal==0.0.0) (9.4.0)\n",
            "Requirement already satisfied: pyparsing>=2.3.1 in /usr/local/lib/python3.10/dist-packages (from matplotlib>=2.0.0->rascal==0.0.0) (3.1.1)\n",
            "Requirement already satisfied: python-dateutil>=2.7 in /usr/local/lib/python3.10/dist-packages (from matplotlib>=2.0.0->rascal==0.0.0) (2.8.2)\n",
            "Requirement already satisfied: charset-normalizer<4,>=2 in /usr/local/lib/python3.10/dist-packages (from requests<3,>=2.0.0->wandb) (3.3.2)\n",
            "Requirement already satisfied: idna<4,>=2.5 in /usr/local/lib/python3.10/dist-packages (from requests<3,>=2.0.0->wandb) (3.6)\n",
            "Requirement already satisfied: urllib3<3,>=1.21.1 in /usr/local/lib/python3.10/dist-packages (from requests<3,>=2.0.0->wandb) (2.0.7)\n",
            "Requirement already satisfied: certifi>=2017.4.17 in /usr/local/lib/python3.10/dist-packages (from requests<3,>=2.0.0->wandb) (2023.11.17)\n",
            "Requirement already satisfied: filelock in /usr/local/lib/python3.10/dist-packages (from torch>=1.12.0->pytorch-lightning) (3.13.1)\n",
            "Requirement already satisfied: sympy in /usr/local/lib/python3.10/dist-packages (from torch>=1.12.0->pytorch-lightning) (1.12)\n",
            "Requirement already satisfied: networkx in /usr/local/lib/python3.10/dist-packages (from torch>=1.12.0->pytorch-lightning) (3.2.1)\n",
            "Requirement already satisfied: jinja2 in /usr/local/lib/python3.10/dist-packages (from torch>=1.12.0->pytorch-lightning) (3.1.2)\n",
            "Requirement already satisfied: triton==2.1.0 in /usr/local/lib/python3.10/dist-packages (from torch>=1.12.0->pytorch-lightning) (2.1.0)\n",
            "Requirement already satisfied: pycparser in /usr/local/lib/python3.10/dist-packages (from cffi->xtb) (2.21)\n",
            "Requirement already satisfied: fastjsonschema in /usr/local/lib/python3.10/dist-packages (from nbformat->nbstripout) (2.19.0)\n",
            "Requirement already satisfied: jsonschema>=2.6 in /usr/local/lib/python3.10/dist-packages (from nbformat->nbstripout) (4.19.2)\n",
            "Requirement already satisfied: jupyter-core in /usr/local/lib/python3.10/dist-packages (from nbformat->nbstripout) (5.5.1)\n",
            "Requirement already satisfied: traitlets>=5.1 in /usr/local/lib/python3.10/dist-packages (from nbformat->nbstripout) (5.7.1)\n",
            "Requirement already satisfied: joblib>=1.1.1 in /usr/local/lib/python3.10/dist-packages (from scikit-learn->gpytorch) (1.3.2)\n",
            "Requirement already satisfied: threadpoolctl>=2.0.0 in /usr/local/lib/python3.10/dist-packages (from scikit-learn->gpytorch) (3.2.0)\n",
            "Requirement already satisfied: attrs>=17.3.0 in /usr/local/lib/python3.10/dist-packages (from aiohttp!=4.0.0a0,!=4.0.0a1->fsspec[http]>=2022.5.0->pytorch-lightning) (23.1.0)\n",
            "Requirement already satisfied: multidict<7.0,>=4.5 in /usr/local/lib/python3.10/dist-packages (from aiohttp!=4.0.0a0,!=4.0.0a1->fsspec[http]>=2022.5.0->pytorch-lightning) (6.0.4)\n",
            "Requirement already satisfied: yarl<2.0,>=1.0 in /usr/local/lib/python3.10/dist-packages (from aiohttp!=4.0.0a0,!=4.0.0a1->fsspec[http]>=2022.5.0->pytorch-lightning) (1.9.4)\n",
            "Requirement already satisfied: frozenlist>=1.1.1 in /usr/local/lib/python3.10/dist-packages (from aiohttp!=4.0.0a0,!=4.0.0a1->fsspec[http]>=2022.5.0->pytorch-lightning) (1.4.1)\n",
            "Requirement already satisfied: aiosignal>=1.1.2 in /usr/local/lib/python3.10/dist-packages (from aiohttp!=4.0.0a0,!=4.0.0a1->fsspec[http]>=2022.5.0->pytorch-lightning) (1.3.1)\n",
            "Requirement already satisfied: async-timeout<5.0,>=4.0 in /usr/local/lib/python3.10/dist-packages (from aiohttp!=4.0.0a0,!=4.0.0a1->fsspec[http]>=2022.5.0->pytorch-lightning) (4.0.3)\n",
            "Requirement already satisfied: smmap<6,>=3.0.1 in /usr/local/lib/python3.10/dist-packages (from gitdb<5,>=4.0.1->GitPython!=3.1.29,>=1.0.0->wandb) (5.0.1)\n",
            "Requirement already satisfied: jsonschema-specifications>=2023.03.6 in /usr/local/lib/python3.10/dist-packages (from jsonschema>=2.6->nbformat->nbstripout) (2023.11.2)\n",
            "Requirement already satisfied: referencing>=0.28.4 in /usr/local/lib/python3.10/dist-packages (from jsonschema>=2.6->nbformat->nbstripout) (0.32.0)\n",
            "Requirement already satisfied: rpds-py>=0.7.1 in /usr/local/lib/python3.10/dist-packages (from jsonschema>=2.6->nbformat->nbstripout) (0.15.2)\n",
            "Requirement already satisfied: MarkupSafe>=2.0 in /usr/local/lib/python3.10/dist-packages (from jinja2->torch>=1.12.0->pytorch-lightning) (2.1.3)\n",
            "Requirement already satisfied: platformdirs>=2.5 in /usr/local/lib/python3.10/dist-packages (from jupyter-core->nbformat->nbstripout) (4.1.0)\n",
            "Requirement already satisfied: mpmath>=0.19 in /usr/local/lib/python3.10/dist-packages (from sympy->torch>=1.12.0->pytorch-lightning) (1.3.0)\n"
          ]
        }
      ],
      "source": [
        "!pip install git+https://github.com/lab-cosmo/librascal gpytorch pytorch-lightning wandb git+https://github.com/chem-gp/fande xtb nbstripout\n",
        "! nbstripout --install --global"
      ]
    },
    "id": "LRz1N5Qq1woU",
    "outputId": "0b912c83-6761-4b21-b090-cb518932f74e"
   },
   "outputs": [],
   "source": [
    "ENERGY_MODEL = 'variational_inducing_points' #'variational_inducing_points', 'exact'\n",
    "ENERGY_NUM_INDUCING_POINTS = 10\n",
    "ENERGY_LR = 0.1\n",
    "ENERGY_NUM_STEPS = 5\n",
    "\n",
    "FORCES_MODEL = 'variational_inducing_points' #'variational_inducing_points', 'exact'\n",
    "FORCES_NUM_INDUCING_POINTS = 10\n",
    "NUM_FORCE_SAMPLES = 10\n",
    "FORCES_LR = 0.1\n",
    "FORCES_NUM_STEPS = 5\n",
    "\n",
    "PREDICTOR_NAME = 'test.pth'\n",
    "SUBSAMPLE = 2 # subsample data to reduce time durings tests\n",
    "\n",
    "! python cook_model.py \\\n",
    "--data_dir $DATA_DIR \\\n",
    "--results_dir $RESULTS_DIR \\\n",
    "--energy_model $ENERGY_MODEL \\\n",
    "--energy_num_inducing_points $ENERGY_NUM_INDUCING_POINTS \\\n",
    "--energy_lr $ENERGY_LR \\\n",
    "--energy_num_steps $ENERGY_NUM_STEPS \\\n",
    "--forces_model $FORCES_MODEL \\\n",
    "--forces_num_inducing_points $FORCES_NUM_INDUCING_POINTS \\\n",
    "--num_force_samples $NUM_FORCE_SAMPLES \\\n",
    "--forces_lr $FORCES_LR \\\n",
    "--forces_num_steps $FORCES_NUM_STEPS \\\n",
    "--predictor_name $PREDICTOR_NAME \\\n",
    "--subsample $SUBSAMPLE\n"
   ]
  },
  {
   "cell_type": "markdown",
   "metadata": {
    "id": "ry9M9pUc1woU"
   },
   "source": [
    "## Testing models"
   ]
  },
  {
   "cell_type": "code",
   "execution_count": null,
   "metadata": {
    "id": "Q-igKC1a1woV"
   },
   "outputs": [],
   "source": [
    "from ase import io\n",
    "test_traj = io.read(DATA_DIR + \"for_test_jacs/295_0.075_same_+/md_trajectory.traj\", index=\"0:200\")"
   ]
  },
  {
   "cell_type": "code",
   "execution_count": null,
   "metadata": {},
   "outputs": [],
   "source": [
    "# from ase.visualize import view\n",
    "# view(test_traj)"
   ]
  },
  {
   "cell_type": "code",
   "execution_count": null,
   "metadata": {
    "colab": {
     "base_uri": "https://localhost:8080/"
    },
    "id": "81lptjK31woV",
    "outputId": "86208dd5-f9f8-4e6c-9036-1fd3b6171dc2"
   },
   "outputs": [],
   "source": [
    "import sys\n",
    "import torch\n",
    "import os\n",
    "\n",
    "DATA_DIR = os.path.expanduser(\"~/repos/data/\")\n",
    "# DATA_DIR = \"/data1/simulations/datasets/rotors/high_temp_ML_training_data/\"\n",
    "RESULTS_DIR = os.path.expanduser(\"~/repos/data/results\")\n",
    "\n",
    "# DATA_DIR = os.path.expanduser(\"/content/drive/MyDrive/data/\")\n",
    "# # FANDE_DIR = os.path.expanduser(\"~/\")\n",
    "# RESULTS_DIR = os.path.expanduser(\"/content/results\")\n",
    "\n",
    "FANDE_DIR = os.path.expanduser(\"~/repos/\")\n",
    "sys.path.append(FANDE_DIR + \"fande/\")\n",
    "\n",
    "from fande.predict import FandePredictor\n",
    "from fande.ase import FandeCalc\n",
    "# load the predictor:\n",
    "# predictor_loaded = torch.load(RESULTS_DIR + \"/fande_predictor.pth\")\n",
    "predictor_exact = torch.load(RESULTS_DIR + \"/exact.pth\")\n",
    "fande_calc_exact = FandeCalc(predictor_exact)\n",
    "\n",
    "predictor_inducing = torch.load(RESULTS_DIR + \"/inducing.pth\")\n",
    "fande_calc_inducing = FandeCalc(predictor_inducing)\n",
    "\n",
    "device = torch.device('cpu')\n",
    "fande_calc_exact.predictor.move_models_to_device(device)\n",
    "fande_calc_inducing.predictor.move_models_to_device(device)"
   ]
  },
  {
   "cell_type": "code",
   "execution_count": null,
   "metadata": {},
   "outputs": [],
   "source": [
    "# predictor_exact.fdm.atomic_groups[8]"
   ]
  },
  {
   "cell_type": "code",
   "execution_count": null,
   "metadata": {
    "colab": {
      "provenance": [],
      "machine_shape": "hm"
    },
    "id": "nc-Rh9361woX",
    "outputId": "4d36ffea-3698-459d-b6d7-6ff74f7e8389"
   },
   "outputs": [],
   "source": [
    "%%capture c\n",
    "from tqdm import tqdm\n",
    "forces_true = []\n",
    "energy_true = []\n",
    "\n",
    "forces_predicted_exact = []\n",
    "forces_predicted_variance_exact = []\n",
    "energy_predicted_exact = []\n",
    "energy_predicted_variance_exact = []\n",
    "\n",
    "forces_predicted_inducing = []\n",
    "forces_predicted_variance_inducing = []\n",
    "energy_predicted_inducing = [] \n",
    "energy_predicted_variance_inducing = []\n",
    "\n",
    "\n",
    "for atoms in test_traj[1:]:\n",
    "    forces_true.append(atoms.get_forces())\n",
    "    energy_true.append(atoms.get_potential_energy())\n",
    "\n",
    "    atoms.set_calculator(fande_calc_exact)\n",
    "    energy_predicted_exact.append(atoms.get_potential_energy())\n",
    "    energy_predicted_variance_exact.append(atoms.calc.energy_variance)\n",
    "    forces_predicted_exact.append(atoms.calc.forces)\n",
    "    forces_predicted_variance_exact.append(atoms.calc.forces_variance)\n",
    "\n",
    "    atoms.calc = fande_calc_inducing\n",
    "    energy_predicted_inducing.append(atoms.get_potential_energy())\n",
    "    energy_predicted_variance_inducing.append(atoms.calc.energy_variance)\n",
    "    forces_predicted_inducing.append(atoms.calc.forces)\n",
    "    forces_predicted_variance_inducing.append(atoms.calc.forces_variance)"
   ]
  },
  {
   "cell_type": "code",
   "execution_count": null,
   "metadata": {},
   "outputs": [],
   "source": [
    "import numpy as np\n",
    "\n",
    "energy_true = np.array(energy_true)\n",
    "forces_true = np.array(forces_true)\n",
    "\n",
    "energy_predicted_exact = np.array(energy_predicted_exact)\n",
    "energy_predicted_variance_exact = np.array(energy_predicted_variance_exact)\n",
    "forces_predicted_exact = np.array(forces_predicted_exact)\n",
    "forces_predicted_variance_exact = np.array(forces_predicted_variance_exact)\n",
    "\n",
    "energy_predicted_inducing = np.array(energy_predicted_inducing)\n",
    "energy_predicted_variance_inducing = np.array(energy_predicted_variance_inducing)\n",
    "forces_predicted_inducing = np.array(forces_predicted_inducing)\n",
    "forces_predicted_variance_inducing = np.array(forces_predicted_variance_inducing)\n"
   ]
  },
  {
   "cell_type": "code",
   "execution_count": null,
   "metadata": {},
   "outputs": [],
   "source": [
    "from matplotlib import pyplot as plt\n",
    "\n",
    "# plt.plot(energy_predicted_variance_exact[:,0], 'o')\n",
    "# plt.show()\n",
    "# plt.plot(energy_predicted_variance_inducing[:,0], 'x')\n",
    "# plt.show()\n",
    "\n",
    "plt.plot(forces_predicted_variance_exact[:,305,0], 'o')\n",
    "plt.show()\n",
    "plt.plot(forces_predicted_variance_inducing[:,305,0], 'x')\n",
    "plt.show()"
   ]
  },
  {
   "cell_type": "code",
   "execution_count": null,
   "metadata": {
    "id": "CKCXpyfo1woX"
   },
   "outputs": [],
   "source": [
    "import numpy as np\n",
    "import matplotlib.pyplot as plt\n",
    "\n",
    "energy_true = np.array(energy_true)\n",
    "energy_predicted = np.array(energy_predicted)\n",
    "energy_errors = energy_predicted - energy_true\n",
    "\n",
    "forces_true = np.array(forces_true)\n",
    "forces_predicted = np.array(forces_predicted)\n",
    "forces_errors = forces_predicted - forces_true\n",
    "\n",
    "atomic_groups = predictor_loaded.fdm.atomic_groups\n",
    "\n",
    "\n",
    "\n",
    "for ag in atomic_groups:\n",
    "\n",
    "    print(\"Atomic group\", ag)\n",
    "    print(\"F_x\")\n",
    "    print(\"MAE\", np.mean(np.abs(forces_errors[:, ag, 0].flatten())))\n",
    "    print(\"RMSE\", np.sqrt(np.mean(forces_errors[:, ag, 0].flatten()**2)))\n",
    "    print(\"F_y\")\n",
    "    print(\"MAE\", np.mean(np.abs(forces_errors[:, ag, 1].flatten())))\n",
    "    print(\"RMSE\", np.sqrt(np.mean(forces_errors[:, ag, 1].flatten()**2)))\n",
    "    print(\"F_z\")\n",
    "    print(\"MAE\", np.mean(np.abs(forces_errors[:, ag, 2].flatten())))\n",
    "    print(\"RMSE\", np.sqrt(np.mean(forces_errors[:, ag, 2].flatten()**2)))\n",
    "    print(\"E\")\n",
    "    print(\"MAE\", np.mean(np.abs(energy_errors.flatten())))\n",
    "    print(\"RMSE\", np.sqrt(np.mean(energy_errors.flatten()**2)))\n",
    "\n",
    "    fig, axs = plt.subplots(nrows=1, ncols=3, figsize=(15, 3))\n",
    "    axs[0].set_title(r\"$F_x$\")\n",
    "    axs[0].plot(np.array(forces_true)[:, ag, 0].flatten(), label=\"true\")\n",
    "    axs[0].plot(np.array(forces_predicted)[:, ag, 0].flatten(), label=\"predicted\")\n",
    "    axs[0].legend()\n",
    "\n",
    "    axs[1].set_title(r\"$F_y$\")\n",
    "    axs[1].plot(np.array(forces_true)[:, ag, 1].flatten(), label=\"true\")\n",
    "    axs[1].plot(np.array(forces_predicted)[:, ag, 1].flatten(), label=\"predicted\")\n",
    "    axs[1].legend()\n",
    "\n",
    "    axs[2].set_title(r\"$F_z$\")\n",
    "    axs[2].plot(np.array(forces_true)[:, ag, 2].flatten(), label=\"true\")\n",
    "    axs[2].plot(np.array(forces_predicted)[:, ag, 2].flatten(), label=\"predicted\")\n",
    "    axs[2].legend()\n",
    "\n",
    "    plt.show()\n",
    "\n",
    "    fig, axs = plt.subplots(nrows=1, ncols=3, figsize=(15, 3))\n",
    "\n",
    "    axs[0].set_title(r\"$F_x$ errors\")\n",
    "    axs[0].hist(forces_errors[:, ag, 0].flatten(), bins=100)\n",
    "\n",
    "    axs[1].set_title(r\"$F_y$ errors\")\n",
    "    axs[1].hist(forces_errors[:, ag, 1].flatten(), bins=100)\n",
    "\n",
    "    axs[2].set_title(r\"$F_z$ errors\")\n",
    "    axs[2].hist(forces_errors[:, ag, 2].flatten(), bins=100)\n",
    "    plt.show()\n",
    "\n",
    "    fig, axs = plt.subplots(nrows=1, ncols=2, figsize=(15, 3))\n",
    "    axs[0].set_title(r\"$E$ errors\")\n",
    "    axs[0].hist(energy_errors.flatten(), bins=100)\n",
    "\n",
    "    axs[1].set_title(r\"$E$\")\n",
    "    axs[1].plot(energy_true, label=\"true\")\n",
    "    axs[1].plot(energy_predicted, label=\"predicted\")\n",
    "    axs[1].legend()\n",
    "    plt.show()\n"
   ]
  }
 ],
 "metadata": {
  "colab": {
   "provenance": []
  },
  "kernelspec": {
   "display_name": "test_env",
   "language": "python",
   "name": "python3"
  },
  "nbformat": 4,
  "nbformat_minor": 0
}