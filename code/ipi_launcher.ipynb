{
 "cells": [
  {
   "cell_type": "code",
   "execution_count": 11,
   "metadata": {},
   "outputs": [],
   "source": [
    "%load_ext autoreload\n",
    "%autoreload 2\n",
    "\n",
    "import os\n",
    "DATA_DIR = os.path.expanduser(\"~/repos/data/\")\n",
    "# DATA_DIR = \"/data1/simulations/datasets/rotors/high_temp_ML_training_data/\"\n",
    "\n",
    "FANDE_DIR = os.path.expanduser(\"~/repos/\")\n",
    "# RESULTS_DIR = os.path.expanduser(\"~/repos/data/results\")\n",
    "# os.makedirs(RESULTS_DIR, exist_ok=True)\n",
    "\n",
    "import os\n",
    "import sys\n",
    "import torch\n",
    "sys.path.append(FANDE_DIR + \"fande/\")"
   ]
  },
  {
   "cell_type": "code",
   "execution_count": 12,
   "metadata": {},
   "outputs": [
    {
     "name": "stdout",
     "output_type": "stream",
     "text": [
      "CPU times: user 68.5 ms, sys: 16.9 ms, total: 85.4 ms\n",
      "Wall time: 98 ms\n"
     ]
    }
   ],
   "source": [
    "%%time\n",
    "from ase import io\n",
    "\n",
    "traj_295 = io.read(DATA_DIR+\"/results_triasine_ML_2000/struct_295_295K/md_trajectory.traj\", index=\"0:10\")\n",
    "# traj_355 = io.read(DATA_DIR+\"/results_triasine_ML_2000/struct_355_355K/md_trajectory.traj\", index=\":\")\n",
    "# traj_295_2000K = io.read(DATA_DIR+\"/results_triasine_ML_2000/struct_295_2000K/md_trajectory.traj\", index=\":\")\n",
    "# traj_355_2000K = io.read(DATA_DIR+\"/results_triasine_ML_2000/struct_355_2000K/md_trajectory.traj\", index=\":\")\n",
    "# traj_295_2000K_forced = io.read(DATA_DIR+\"/results_triasine_ML_2000/struct_295_2000K_0075force/md_trajectory.traj\", index=\":\")\n",
    "# traj_355_2000K_forced = io.read(DATA_DIR+\"/results_triasine_ML_2000/struct_355_2000K_0075force/md_trajectory.traj\", index=\":\")"
   ]
  },
  {
   "cell_type": "code",
   "execution_count": 13,
   "metadata": {},
   "outputs": [],
   "source": [
    "init_structure = traj_295[0]\n",
    "input_xml_str = \"\"\"\n",
    "<simulation verbosity='high'>\n",
    "  <output prefix='PREFIX'>\n",
    "<!--    <properties stride='1' filename='out'>  [ step, potential{kilocal/mol} ] </properties>-->\n",
    "    <!-- <trajectory stride='1' filename='pos'>  positions{angstrom}  </trajectory> -->\n",
    "    <!-- <properties stride=\"10\"> [ step, time, pot_component_raw(0), pot_component_raw(1), temperature, conserved ] </properties> -->\n",
    "    <properties stride=\"1\"> [ step, time, potential(0), temperature, conserved ] </properties>\n",
    "    <trajectory stride=\"1\" filename=\"pos\" cell_units=\"angstrom\"> positions{angstrom} </trajectory>\n",
    "    <trajectory stride=\"1\" filename=\"pos_centroid\" cell_units=\"angstrom\"> x_centroid{angstrom} </trajectory>\n",
    "    <trajectory stride=\"1\" filename=\"frc\"> forces </trajectory>\n",
    "    <checkpoint stride=\"1000\" overwrite=\"False\"/>\n",
    "  </output>\n",
    "  <total_steps> 1000 </total_steps>\n",
    "  <ffsocket mode='inet' name='mycalc' pbc='True'>\n",
    "    <address>localhost</address>\n",
    "    <port>10200</port>\n",
    "  </ffsocket>\n",
    "  <system>\n",
    "    <initialize nbeads='1'>\n",
    "      <file mode='ase'>  /home/qklmn/data/starting_configuration/1.cif </file>\n",
    "      <velocities mode=\"thermal\" units=\"kelvin\"> 20 </velocities>\n",
    "    </initialize>\n",
    "    <forces>\n",
    "      <force forcefield='mycalc'> </force>\n",
    "    </forces>\n",
    "    <ensemble>\n",
    "      <temperature units='kelvin'> 300.0 </temperature>\n",
    "    </ensemble>\n",
    "    <motion mode='dynamics'>\n",
    "      <dynamics mode='nvt'>\n",
    "        <timestep units='femtosecond'> 0.5 </timestep>\n",
    "        <thermostat mode='langevin'>\n",
    "          <tau units='femtosecond'>10</tau>\n",
    "        </thermostat>\n",
    "      </dynamics>\n",
    "    </motion>\n",
    "  </system>\n",
    "</simulation>\n",
    "\"\"\"\n",
    "\n",
    "calc_dir = DATA_DIR + \"/results/test_run/\"\n",
    "calculator = 'xtb'\n",
    "num_instances = 1"
   ]
  },
  {
   "cell_type": "code",
   "execution_count": 20,
   "metadata": {},
   "outputs": [],
   "source": [
    "from fande import ipi"
   ]
  },
  {
   "cell_type": "code",
   "execution_count": 21,
   "metadata": {},
   "outputs": [
    {
     "name": "stdout",
     "output_type": "stream",
     "text": [
      "Working directory:  /home/mm/repos/data/results/test_run\n",
      "Launched! Please manually check if i-pi is running.\n"
     ]
    },
    {
     "name": "stderr",
     "output_type": "stream",
     "text": [
      "sh: 1: source: not found\n"
     ]
    },
    {
     "data": {
      "text/plain": [
       "0"
      ]
     },
     "execution_count": 21,
     "metadata": {},
     "output_type": "execute_result"
    }
   ],
   "source": [
    "ipi.launch(init_structure, calculator, num_instances, calc_dir, input_xml_str)"
   ]
  },
  {
   "cell_type": "code",
   "execution_count": 7,
   "metadata": {},
   "outputs": [
    {
     "data": {
      "text/plain": [
       "'/home/mm/repos/rotor-gp/code'"
      ]
     },
     "execution_count": 7,
     "metadata": {},
     "output_type": "execute_result"
    }
   ],
   "source": [
    "os.getcwd()"
   ]
  },
  {
   "cell_type": "code",
   "execution_count": 56,
   "metadata": {},
   "outputs": [
    {
     "name": "stdout",
     "output_type": "stream",
     "text": [
      "/home/mm/repos/i-pi/bin/i-pi\n"
     ]
    }
   ],
   "source": [
    "! source ~/repos/i-pi/env.sh; which i-pi"
   ]
  },
  {
   "cell_type": "code",
   "execution_count": 55,
   "metadata": {},
   "outputs": [],
   "source": [
    "!which i-pi"
   ]
  },
  {
   "cell_type": "code",
   "execution_count": 60,
   "metadata": {},
   "outputs": [
    {
     "name": "stderr",
     "output_type": "stream",
     "text": [
      "sh: 1: source: not found\n"
     ]
    },
    {
     "data": {
      "text/plain": [
       "256"
      ]
     },
     "execution_count": 60,
     "metadata": {},
     "output_type": "execute_result"
    }
   ],
   "source": [
    "\n",
    "import os\n",
    "\n",
    "os.system(\"source ~/repos/i-pi/env.sh; which i-pi\")\n"
   ]
  },
  {
   "cell_type": "code",
   "execution_count": 98,
   "metadata": {},
   "outputs": [
    {
     "name": "stderr",
     "output_type": "stream",
     "text": [
      "/bin/sh: 1: /home/mm/repos/i-pi/env.sh: Bad substitution\n",
      "/bin/sh: 3: export: Code/bin:/mnt/c/texlive/2022/bin/win32:/mnt/c/Users/tsits/AppData/Local/Programs/Microsoft: bad variable name\n"
     ]
    }
   ],
   "source": [
    "import subprocess\n",
    "\n",
    "proc = subprocess.run('. /home/mm/repos/i-pi/env.sh', shell=True)\n",
    "# print(os.environ['FOO'])"
   ]
  },
  {
   "cell_type": "code",
   "execution_count": 71,
   "metadata": {},
   "outputs": [],
   "source": [
    "proc.stdout"
   ]
  }
 ],
 "metadata": {
  "kernelspec": {
   "display_name": "test_env",
   "language": "python",
   "name": "python3"
  },
  "language_info": {
   "codemirror_mode": {
    "name": "ipython",
    "version": 3
   },
   "file_extension": ".py",
   "mimetype": "text/x-python",
   "name": "python",
   "nbconvert_exporter": "python",
   "pygments_lexer": "ipython3",
   "version": "3.10.13"
  }
 },
 "nbformat": 4,
 "nbformat_minor": 2
}
