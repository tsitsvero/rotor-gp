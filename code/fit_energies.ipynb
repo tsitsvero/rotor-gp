{
 "cells": [
  {
   "cell_type": "markdown",
   "metadata": {},
   "source": [
    "# Fit energies"
   ]
  },
  {
   "cell_type": "markdown",
   "metadata": {},
   "source": [
    "to do:\n",
    "\n",
    "0. Rename FandeDataModuleASE into FandeDataModule\n",
    "1. Improve FandeDataModuleASE, initialization with forces and energies\n",
    "2. make parallel calculation of invariants within"
   ]
  },
  {
   "cell_type": "code",
   "execution_count": null,
   "metadata": {},
   "outputs": [],
   "source": [
    "%load_ext autoreload\n",
    "%autoreload 2\n",
    "\n",
    "import os\n",
    "import sys\n",
    "sys.path.append(os.path.expandvars(\"/home/$USER/repos/fande/\") )"
   ]
  },
  {
   "cell_type": "code",
   "execution_count": null,
   "metadata": {},
   "outputs": [],
   "source": [
    "from ase import io\n",
    "\n",
    "traj_295 = io.read(\"/data1/simulations/datasets/rotors/high_temp_ML_training_data/results_triasine_ML_2000/struct_295_295K/md_trajectory.traj\", index=\":\")\n",
    "traj_355 = io.read(\"/data1/simulations/datasets/rotors/high_temp_ML_training_data/results_triasine_ML_2000/struct_355_355K/md_trajectory.traj\", index=\":\")\n",
    "\n",
    "traj_295_2000K = io.read(\"/data1/simulations/datasets/rotors/high_temp_ML_training_data/results_triasine_ML_2000/struct_295_2000K/md_trajectory.traj\", index=\":\")\n",
    "traj_355_2000K = io.read(\"/data1/simulations/datasets/rotors/high_temp_ML_training_data/results_triasine_ML_2000/struct_355_2000K/md_trajectory.traj\", index=\":\")\n",
    "traj_295_2000K_forced = io.read(\"/data1/simulations/datasets/rotors/high_temp_ML_training_data/results_triasine_ML_2000/struct_295_2000K_0075force/md_trajectory.traj\", index=\":\")\n",
    "traj_355_2000K_forced = io.read(\"/data1/simulations/datasets/rotors/high_temp_ML_training_data/results_triasine_ML_2000/struct_355_2000K_0075force/md_trajectory.traj\", index=\":\")\n",
    "\n"
   ]
  },
  {
   "cell_type": "code",
   "execution_count": null,
   "metadata": {},
   "outputs": [],
   "source": [
    "# traj_train = traj_295[0:5000:10] + traj_355[0:5000:10] + traj_295_2000K[0:5000:10] + traj_355_2000K[0:5000:10] + traj_295_2000K_forced[0:5000:10] + traj_355_2000K_forced[0:5000:10]\n",
    "traj_train = traj_295_2000K[1000:5000:5] + traj_355_2000K[1000:5000:5]  \n",
    "traj_train = traj_train.copy()"
   ]
  },
  {
   "cell_type": "code",
   "execution_count": null,
   "metadata": {},
   "outputs": [],
   "source": [
    "energies_train = [s.get_potential_energy() for s in traj_train]"
   ]
  },
  {
   "cell_type": "code",
   "execution_count": null,
   "metadata": {},
   "outputs": [],
   "source": [
    "# just to fake the initialization of the fdm\n",
    "# Hyperparameters:\n",
    "hparams = {\n",
    "        'dtype' : 'float32',\n",
    "        'device' : 'gpu'\n",
    "        }\n",
    "\n",
    "from fande.data import FandeDataModuleASE\n",
    "\n",
    "## Train data:\n",
    "energies_train = np.zeros(len(traj_train) )\n",
    "forces_train = np.zeros( (len(traj_train), len(traj_train[0]), 3 ) )\n",
    "\n",
    "for i, snap in enumerate(traj_train):\n",
    "        energies_train[i] = snap.get_potential_energy()\n",
    "        forces_train[i] = snap.get_forces()\n",
    "train_data = {'trajectory': traj_train, 'energies': energies_train,'trajectory_energies': traj_train, 'forces': forces_train}\n",
    "\n",
    "## Test data:\n",
    "# energies_test = np.zeros(len(traj_test) )\n",
    "# forces_test = np.zeros( (len(traj_test), len(traj_test[0]), 3 ) )\n",
    "# for i, snap in enumerate(traj_test):\n",
    "#         energies_test[i] = snap.get_potential_energy()\n",
    "#         forces_test[i] = snap.get_forces()\n",
    "# test_data = {'trajectory_energies': traj_test, 'energies': energies_test, 'forces': forces_test}\n",
    "\n",
    "test_data={}\n",
    "\n",
    "\n",
    "fdm = FandeDataModuleASE(train_data, train_data, hparams)"
   ]
  },
  {
   "cell_type": "code",
   "execution_count": null,
   "metadata": {},
   "outputs": [],
   "source": []
  },
  {
   "cell_type": "code",
   "execution_count": 694,
   "metadata": {},
   "outputs": [],
   "source": [
    "# snap_copy = traj_train[0].copy()\n",
    "snap_copy = io.read(\"/data1/simulations/datasets/rotors/simulations_cluster/27_11_2023/27/2023-11-27_17:27:26.502178/md_trajectory.traj\", index=\"0\")\n",
    "\n",
    "from ase.build import make_supercell\n",
    "\n",
    "snap_super = make_supercell(snap_copy, [[1,0,0],[0,1,0],[0,0,1]])"
   ]
  },
  {
   "cell_type": "code",
   "execution_count": 690,
   "metadata": {},
   "outputs": [
    {
     "data": {
      "text/plain": [
       "<Popen: returncode: None args: ['/home/dlbox2/anaconda3/envs/fande/bin/pytho...>"
      ]
     },
     "execution_count": 690,
     "metadata": {},
     "output_type": "execute_result"
    }
   ],
   "source": [
    "from ase.visualize import view\n",
    "\n",
    "view(snap_super)"
   ]
  },
  {
   "cell_type": "code",
   "execution_count": 695,
   "metadata": {},
   "outputs": [
    {
     "data": {
      "text/plain": [
       "684"
      ]
     },
     "execution_count": 695,
     "metadata": {},
     "output_type": "execute_result"
    }
   ],
   "source": [
    "len(snap_super)"
   ]
  },
  {
   "cell_type": "code",
   "execution_count": 725,
   "metadata": {},
   "outputs": [
    {
     "name": "stdout",
     "output_type": "stream",
     "text": [
      "Total number of frames is 1\n",
      "Total number of batches is 1\n",
      "Total length of traj is 1\n",
      "Total number of batches 1\n",
      "Calculating invariants on trajectory with librascal...\n"
     ]
    },
    {
     "name": "stderr",
     "output_type": "stream",
     "text": [
      "  0%|          | 0/1 [00:00<?, ?it/s]"
     ]
    },
    {
     "name": "stderr",
     "output_type": "stream",
     "text": [
      "100%|██████████| 1/1 [00:00<00:00,  1.11it/s]\n"
     ]
    },
    {
     "name": "stdout",
     "output_type": "stream",
     "text": [
      "CPU times: user 1.96 s, sys: 200 ms, total: 2.16 s\n",
      "Wall time: 1.16 s\n"
     ]
    }
   ],
   "source": [
    "%%time\n",
    "import numpy as np\n",
    "\n",
    "# def calculate_invariants_librascal_no_derivatives(\n",
    "#         self,\n",
    "#         trajectory, \n",
    "#         soap_params,\n",
    "#         frames_per_batch=10): \n",
    "\n",
    "# Descriptors parameters:\n",
    "# https://github.com/lab-cosmo/librascal/blob/master/examples/MLIP_example.ipynb\n",
    "# soap_params = {\n",
    "# # 'species': [\"H\", \"C\", \"O\", \"N\", \"Si\"],\n",
    "# 'periodic': True,\n",
    "# 'interaction_cutoff': 3.0,\n",
    "# 'gaussian_sigma_constant': 0.3,\n",
    "# 'max_radial': 5,\n",
    "# 'max_angular': 5,\n",
    "# 'cutoff_smooth_width': 0.1,\n",
    "# # 'average': \"off\",\n",
    "# # 'crossover': True,\n",
    "# # 'dtype': \"float64\",\n",
    "# # 'n_jobs': 10,\n",
    "# # 'sparse': False,\n",
    "# # 'positions': [7, 11, 15] # ignored\n",
    "# }\n",
    "\n",
    "\n",
    "# train_X_np = fdm.calculate_invariants_librascal_no_derivatives(traj_train[0:10], soap_params, frames_per_batch=1)\n",
    "# X = fdm.calculate_invariants_librascal_no_derivatives([snap_super], soap_params, frames_per_batch=1)\n",
    "hypers = dict(soap_type=\"PowerSpectrum\",\n",
    "        interaction_cutoff=3.0,\n",
    "        max_radial=5,\n",
    "        max_angular=5,\n",
    "        gaussian_sigma_constant=0.3,\n",
    "        gaussian_sigma_type=\"Constant\",\n",
    "        cutoff_function_type=\"RadialScaling\",\n",
    "        cutoff_smooth_width=0.1, # 0.1 is way better than 0.5\n",
    "        cutoff_function_parameters=\n",
    "                dict(\n",
    "                        rate=1,\n",
    "                        scale=3.5,\n",
    "                        exponent=4\n",
    "                        ),\n",
    "        radial_basis=\"GTO\",\n",
    "        normalize=True, # setting False makes model untrainable\n",
    "        #   optimization=\n",
    "        #         dict(\n",
    "        #                 Spline=dict(\n",
    "        #                    accuracy=1.0e-05\n",
    "        #                 )\n",
    "        #             ),\n",
    "        compute_gradients=True,\n",
    "        expansion_by_species_method='structure wise'\n",
    "        )\n",
    "        \n",
    "# snap_super.set_pbc([False, False, False])\n",
    "snap_super.set_pbc([True, True, True])\n",
    "# snap_super\n",
    "\n",
    "fdm.soap_hypers = hypers\n",
    "fdm.atomic_groups_train = [list(range(len(snap_super)))]\n",
    "fdm.centers_positions_train = [list(range(len(snap_super)))]\n",
    "fdm.derivatives_positions_train = [list(range(len(snap_super)))]\n",
    "X = fdm.calculate_invariants_librascal_no_derivatives([snap_super], soap_params, frames_per_batch=1)\n",
    "# DX = fdm.calculate_snapshot_invariants_librascal(snap_super, same_centers_derivatives=True)"
   ]
  },
  {
   "cell_type": "code",
   "execution_count": null,
   "metadata": {},
   "outputs": [],
   "source": [
    "indices_non_H = []\n",
    "\n",
    "for ind,s in enumerate(traj_train[0].get_chemical_symbols()):\n",
    "        # print(s)\n",
    "        if s != \"H\":\n",
    "                indices_non_H.append(ind)\n",
    "\n",
    "energies_train_normalized = (energies_train - np.min(energies_train))/(np.max(energies_train) - np.min(energies_train))\n",
    "\n",
    "# train_X = X_np[:,indices_non_H,:]\n",
    "train_X = train_X_np\n",
    "\n",
    "# train_X = torch.tensor(X_np_batched)\n",
    "train_X = torch.tensor(train_X.sum(axis=1)).cuda()\n",
    "train_Y = torch.tensor(energies_train_normalized).cuda()\n",
    "\n",
    "print(train_X.shape, train_Y.shape, test_X.shape, test_Y.shape)"
   ]
  },
  {
   "cell_type": "code",
   "execution_count": null,
   "metadata": {},
   "outputs": [],
   "source": [
    "import torch\n",
    "import gpytorch\n",
    "import numpy as np\n",
    "\n",
    "from gpytorch.kernels import (\n",
    "    RBFKernel,\n",
    "    ScaleKernel,\n",
    "    LinearKernel,\n",
    "    AdditiveKernel,\n",
    "    MultitaskKernel,\n",
    "    PolynomialKernel,\n",
    "    MaternKernel,\n",
    ")\n",
    "from gpytorch.means import ZeroMean, ConstantMean\n",
    "\n",
    "from gpytorch.models import ExactGP\n",
    "\n",
    "import torch, torch.nn as nn\n",
    "\n",
    "\n",
    "# https://stackoverflow.com/questions/76251549/setting-the-task-covariance-matrix-to-the-correlation-matrix-in-gpytorch\n",
    "\n",
    "class ExactGPModelEnergies(ExactGP):\n",
    "    def __init__(self, train_X, train_Y, likelihood):\n",
    "        super().__init__(\n",
    "            train_X, train_Y, likelihood\n",
    "        )  # the old-style super(ExactGPModel, self) was causing error!\n",
    "        self.mean_module = ConstantMean()\n",
    "\n",
    "        self.soap_dim = train_X.shape[-1]\n",
    "        # self.covar_module = ScaleKernel(RBFKernel(ard_num_dims=self.soap_dim))#LinearKernel()\n",
    "        self.covar_module = ScaleKernel(MaternKernel(ard_num_dims=self.soap_dim))#LinearKernel()\n",
    "        # self.covar_module = ScaleKernel(LinearKernel(ard_num_dims=self.soap_dim))\n",
    "\n",
    "    def forward(self, X):\n",
    "        x = X\n",
    "        mean_x = self.mean_module(x)\n",
    "        covar_x = self.covar_module(x)\n",
    "        return gpytorch.distributions.MultivariateNormal(mean_x, covar_x)\n",
    "\n"
   ]
  },
  {
   "cell_type": "code",
   "execution_count": null,
   "metadata": {},
   "outputs": [],
   "source": [
    "# train_X = train_X.cuda()\n",
    "# train_Y = torch.tensor(energies_train_normalized).cuda()\n",
    "# test_X = test_X.cuda()\n",
    "# test_Y = test_Y.cuda()\n",
    "# initialize likelihood and model\n",
    "likelihood = gpytorch.likelihoods.GaussianLikelihood()\n",
    "model = ExactGPModelEnergies(train_X, train_Y, likelihood)\n",
    "# model = ExactGPModelEnergiesMulti(train_X, train_Y, likelihood)\n",
    "model = model.cuda()\n",
    "likelihood = likelihood.cuda()"
   ]
  },
  {
   "cell_type": "code",
   "execution_count": null,
   "metadata": {},
   "outputs": [],
   "source": [
    "train_Y.shape"
   ]
  },
  {
   "cell_type": "code",
   "execution_count": null,
   "metadata": {},
   "outputs": [],
   "source": [
    "# this is for running the notebook in our testing framework\n",
    "import os\n",
    "\n",
    "\n",
    "\n",
    "training_iter = 100\n",
    "\n",
    "\n",
    "# Find optimal model hyperparameters\n",
    "model.train()\n",
    "likelihood.train()\n",
    "\n",
    "# Use the adam optimizer\n",
    "optimizer = torch.optim.Adam(model.parameters(), lr=0.01)  # Includes GaussianLikelihood parameters\n",
    "\n",
    "# \"Loss\" for GPs - the marginal log likelihood\n",
    "mll = gpytorch.mlls.ExactMarginalLogLikelihood(likelihood, model)\n",
    "\n",
    "print(\"Training...\")\n",
    "# initial_loss = -mll(model(train_X), train_Y).item()\n",
    "for i in range(training_iter):\n",
    "    # Zero gradients from previous iteration\n",
    "    optimizer.zero_grad()\n",
    "    # print(\"grad zeroed\")\n",
    "    # Output from model\n",
    "    output = model(train_X)\n",
    "    # print(\"Output calculated\")\n",
    "    # print(output)\n",
    "    # Calc loss and backprop gradients\n",
    "    loss = -mll(output, train_Y)\n",
    "    # print(\"Loss calculated, \")\n",
    "\n",
    "    loss.backward()\n",
    "    # print(loss)\n",
    "    # print('Iter %d/%d - Loss: %.3f   lengthscale: %.3f   noise: %.3f' % (\n",
    "    #     i + 1, training_iter, loss.item(),\n",
    "    #     model.covar_module.base_kernel.lengthscale.item(),\n",
    "    #     model.likelihood.noise.item()\n",
    "    # ))\n",
    "    print(f\"step: {i},loss: {loss}\")\n",
    "    optimizer.step()\n",
    "\n",
    "# print(\"Initial loss: \", initial_loss)\n",
    "print(\"Final loss: \", loss)\n"
   ]
  },
  {
   "cell_type": "markdown",
   "metadata": {},
   "source": [
    "# edit     def calculate_invariants_librascal_no_derivatives("
   ]
  },
  {
   "cell_type": "code",
   "execution_count": null,
   "metadata": {},
   "outputs": [],
   "source": [
    "# Get into evaluation (predictive posterior) mode\n",
    "model.eval()\n",
    "likelihood.eval()\n",
    "\n",
    "test_x = test_X\n",
    "\n",
    "# Test points are regularly spaced along [0,1]\n",
    "# Make predictions by feeding model through likelihood\n",
    "# with torch.no_grad(), gpytorch.settings.fast_pred_var():\n",
    "#     test_x = torch.linspace(0, 1, 51)\n",
    "observed_pred = likelihood(model(test_x)).mean.detach().cpu().numpy()\n",
    "\n",
    "\n",
    "\n",
    "import matplotlib.pyplot as plt\n",
    "\n",
    "plt.plot(observed_pred, label=\"Predicted energy\")\n",
    "plt.plot(test_Y.detach().cpu().numpy(), label=\"True energy\")\n",
    "plt.xlabel('step')\n",
    "plt.ylabel('Predicted Energy')\n",
    "# plt.xlim(0, 100)\n",
    "plt.legend()\n",
    "plt.show()"
   ]
  },
  {
   "cell_type": "code",
   "execution_count": null,
   "metadata": {},
   "outputs": [],
   "source": [
    "plt.plot(test_Y)\n",
    "plt.ylabel('Energy')\n",
    "plt.xlabel('step')\n",
    "plt.xlim(85, 100)\n",
    "plt.show()"
   ]
  },
  {
   "cell_type": "code",
   "execution_count": null,
   "metadata": {},
   "outputs": [],
   "source": [
    "traj_test = io.read(\"/data1/simulations/datasets/rotors/for jacs paper/295_0.075_same_+/md_trajectory.traj\", index=\":\", format=\"traj\")\n",
    "energies_test = [s.get_potential_energy() for s in traj_test]\n",
    "energies_test_normalized = (energies_test - np.min(energies_train))/(np.max(energies_train) - np.min(energies_train))\n",
    "traj = traj_test\n"
   ]
  },
  {
   "cell_type": "code",
   "execution_count": null,
   "metadata": {},
   "outputs": [],
   "source": [
    "test_X_np = fdm.calculate_invariants_librascal_no_derivatives(traj_test[0:10], soap_params, frames_per_batch=1)"
   ]
  },
  {
   "cell_type": "code",
   "execution_count": null,
   "metadata": {},
   "outputs": [],
   "source": [
    "indices_non_H = []\n",
    "\n",
    "for ind,s in enumerate(traj[0].get_chemical_symbols()):\n",
    "        # print(s)\n",
    "        if s != \"H\":\n",
    "                indices_non_H.append(ind)\n",
    "\n",
    "import numpy as np\n",
    "\n",
    "X_np_batched = np.array(X_np_batched)\n",
    "E_np_batched = np.array(E_np_batched).flatten()\n",
    "\n",
    "# test_X = X_np_batched[:,indices_non_H,:]\n",
    "test_X = X_np_batched\n",
    "test_X = test_X.sum(axis=1)\n",
    "test_X = torch.tensor(test_X).cuda()\n",
    "test_Y = torch.tensor(energies_test_normalized).cuda()"
   ]
  },
  {
   "cell_type": "code",
   "execution_count": null,
   "metadata": {},
   "outputs": [],
   "source": [
    "from matplotlib import pyplot as plt\n",
    "\n",
    "plt.plot(energies_train_normalized)\n",
    "# plt.plot(energies_test_normalized)\n",
    "plt.plot(test_Y.detach().cpu().numpy())\n",
    "plt.show()"
   ]
  },
  {
   "cell_type": "code",
   "execution_count": null,
   "metadata": {},
   "outputs": [],
   "source": []
  }
 ],
 "metadata": {
  "kernelspec": {
   "display_name": "base",
   "language": "python",
   "name": "python3"
  },
  "language_info": {
   "codemirror_mode": {
    "name": "ipython",
    "version": 3
   },
   "file_extension": ".py",
   "mimetype": "text/x-python",
   "name": "python",
   "nbconvert_exporter": "python",
   "pygments_lexer": "ipython3",
   "version": "3.10.10"
  },
  "orig_nbformat": 4
 },
 "nbformat": 4,
 "nbformat_minor": 2
}
