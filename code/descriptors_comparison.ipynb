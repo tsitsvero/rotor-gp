{
 "cells": [
  {
   "cell_type": "markdown",
   "metadata": {},
   "source": [
    "<a href=\"https://colab.research.google.com/github/tsitsvero/rotor-gp/blob/main/code/descriptors_comparison.ipynb\" target=\"_parent\"><img src=\"https://colab.research.google.com/assets/colab-badge.svg\" alt=\"Open In Colab\"/></a>"
   ]
  },
  {
   "cell_type": "code",
   "execution_count": 51,
   "metadata": {},
   "outputs": [],
   "source": [
    "from rascaline import SoapPowerSpectrum\n",
    "\n",
    "# https://github.com/Luthaf/rascaline/blob/0e3e5e9dadbc8595d3adce4f3ff01a98e456c56f/python/rascaline/examples/first-calculation.py#L259\n",
    "\n",
    "HYPER_PARAMETERS = {\n",
    "    \"cutoff\": 4.0,\n",
    "    \"max_radial\": 4,\n",
    "    \"max_angular\": 4,\n",
    "    \"atomic_gaussian_width\": 0.3,\n",
    "    \"center_atom_weight\": 1.0,\n",
    "    \"radial_basis\": {\n",
    "        \"Gto\": {},\n",
    "    },\n",
    "    \"cutoff_function\": {\n",
    "        \"ShiftedCosine\": {\"width\": 0.5},\n",
    "    },\n",
    "    # \"normalize\": True,\n",
    "}\n",
    "\n",
    "calculator = SoapPowerSpectrum(**HYPER_PARAMETERS)"
   ]
  },
  {
   "cell_type": "code",
   "execution_count": 40,
   "metadata": {},
   "outputs": [],
   "source": [
    "from ase import io\n",
    "import os\n",
    "from tqdm import tqdm\n",
    "\n",
    "# frames = io.read(\"/data1/simulations/datasets/rotors/high_temp_ML_training_data/results_triasine_ML_2000/struct_295_295K/md_trajectory.traj\", index=\"22\")\n",
    "frames = io.read(os.path.expanduser(\"/home/mm/repos/data/results_triasine_ML_2000/struct_295_295K/md_trajectory.traj\"), index=\"22:23\")\n",
    "\n",
    "for f in frames:\n",
    "        f.wrap(eps=1e-8)"
   ]
  },
  {
   "cell_type": "code",
   "execution_count": 49,
   "metadata": {},
   "outputs": [
    {
     "name": "stderr",
     "output_type": "stream",
     "text": [
      "100%|██████████| 1/1 [00:00<00:00, 1671.70it/s]\n"
     ]
    },
    {
     "name": "stdout",
     "output_type": "stream",
     "text": [
      "before:  55\n",
      "after:  15\n",
      "after:  1\n",
      "CPU times: user 1.13 s, sys: 1.28 s, total: 2.41 s\n",
      "Wall time: 766 ms\n"
     ]
    }
   ],
   "source": [
    "%%time\n",
    "\n",
    "descriptor = calculator.compute(tqdm(frames), gradients=[\"positions\"])\n",
    "print(\"before: \", len(descriptor.keys))\n",
    "\n",
    "\n",
    "descriptor = descriptor.keys_to_samples(\"species_center\")\n",
    "print(\"after: \", len(descriptor.keys))\n",
    "descriptor = descriptor.keys_to_properties([\"species_neighbor_1\", \"species_neighbor_2\"])\n",
    "print(\"after: \", len(descriptor.keys))"
   ]
  },
  {
   "cell_type": "code",
   "execution_count": null,
   "metadata": {},
   "outputs": [],
   "source": [
    "# positions_gradient = block.gradient(\"positions\")\n"
   ]
  },
  {
   "cell_type": "code",
   "execution_count": 48,
   "metadata": {},
   "outputs": [
    {
     "data": {
      "text/plain": [
       "(14540, 3, 1200)"
      ]
     },
     "execution_count": 48,
     "metadata": {},
     "output_type": "execute_result"
    }
   ],
   "source": [
    "# descriptor.block(0).values.shape\n",
    "descriptor.block(0).gradient(\"positions\").values.shape"
   ]
  },
  {
   "cell_type": "code",
   "execution_count": null,
   "metadata": {},
   "outputs": [],
   "source": []
  },
  {
   "cell_type": "code",
   "execution_count": 174,
   "metadata": {},
   "outputs": [
    {
     "ename": "AttributeError",
     "evalue": "'Gradient' object has no attribute 'values'",
     "output_type": "error",
     "traceback": [
      "\u001b[0;31m---------------------------------------------------------------------------\u001b[0m",
      "\u001b[0;31mAttributeError\u001b[0m                            Traceback (most recent call last)",
      "\u001b[1;32m/home/dlbox2/repos/rotor-gp/code/descriptors_comparison.ipynb セル 5\u001b[0m line \u001b[0;36m4\n\u001b[1;32m      <a href='vscode-notebook-cell:/home/dlbox2/repos/rotor-gp/code/descriptors_comparison.ipynb#X22sZmlsZQ%3D%3D?line=1'>2</a>\u001b[0m block_gradients \u001b[39m=\u001b[39m descriptor_gradients\u001b[39m.\u001b[39mblock(\u001b[39m0\u001b[39m)\n\u001b[1;32m      <a href='vscode-notebook-cell:/home/dlbox2/repos/rotor-gp/code/descriptors_comparison.ipynb#X22sZmlsZQ%3D%3D?line=2'>3</a>\u001b[0m gradient_position \u001b[39m=\u001b[39m block_gradients\u001b[39m.\u001b[39mgradient(\u001b[39m\"\u001b[39m\u001b[39mpositions\u001b[39m\u001b[39m\"\u001b[39m)\n\u001b[0;32m----> <a href='vscode-notebook-cell:/home/dlbox2/repos/rotor-gp/code/descriptors_comparison.ipynb#X22sZmlsZQ%3D%3D?line=3'>4</a>\u001b[0m \u001b[39mprint\u001b[39m(gradient_position\u001b[39m.\u001b[39;49mvalues\u001b[39m.\u001b[39mshape)\n",
      "\u001b[0;31mAttributeError\u001b[0m: 'Gradient' object has no attribute 'values'"
     ]
    }
   ],
   "source": [
    "descriptor_gradients = calculator.compute([frames], gradients=[\"positions\"])\n",
    "block_gradients = descriptor_gradients.block(0)\n",
    "gradient_position = block_gradients.gradient(\"positions\")\n"
   ]
  },
  {
   "cell_type": "code",
   "execution_count": 178,
   "metadata": {},
   "outputs": [
    {
     "data": {
      "text/plain": [
       "Gradient TensorBlock\n",
       "parameter: 'positions'\n",
       "samples (5144): ['sample', 'structure', 'atom']\n",
       "components (3): ['direction']\n",
       "properties (80): ['l', 'n1', 'n2']"
      ]
     },
     "execution_count": 178,
     "metadata": {},
     "output_type": "execute_result"
    }
   ],
   "source": [
    "gradient_position"
   ]
  },
  {
   "cell_type": "code",
   "execution_count": 172,
   "metadata": {},
   "outputs": [
    {
     "ename": "AttributeError",
     "evalue": "'Gradient' object has no attribute 'values'",
     "output_type": "error",
     "traceback": [
      "\u001b[0;31m---------------------------------------------------------------------------\u001b[0m",
      "\u001b[0;31mAttributeError\u001b[0m                            Traceback (most recent call last)",
      "\u001b[1;32m/home/dlbox2/repos/rotor-gp/code/descriptors_comparison.ipynb セル 6\u001b[0m line \u001b[0;36m1\n\u001b[0;32m----> <a href='vscode-notebook-cell:/home/dlbox2/repos/rotor-gp/code/descriptors_comparison.ipynb#X23sZmlsZQ%3D%3D?line=0'>1</a>\u001b[0m gradient_position\u001b[39m.\u001b[39;49mvalues\n",
      "\u001b[0;31mAttributeError\u001b[0m: 'Gradient' object has no attribute 'values'"
     ]
    }
   ],
   "source": [
    "gradient_position.values"
   ]
  },
  {
   "cell_type": "code",
   "execution_count": 162,
   "metadata": {},
   "outputs": [
    {
     "data": {
      "text/plain": [
       "Gradient TensorBlock\n",
       "parameter: 'positions'\n",
       "samples (5144): ['sample', 'structure', 'atom']\n",
       "components (3): ['direction']\n",
       "properties (80): ['l', 'n1', 'n2']"
      ]
     },
     "execution_count": 162,
     "metadata": {},
     "output_type": "execute_result"
    }
   ],
   "source": [
    "gradient_position"
   ]
  },
  {
   "cell_type": "code",
   "execution_count": 150,
   "metadata": {},
   "outputs": [
    {
     "data": {
      "text/plain": [
       "(300, 80)"
      ]
     },
     "execution_count": 150,
     "metadata": {},
     "output_type": "execute_result"
    }
   ],
   "source": [
    "descriptor_gradients.block(1).values.shape"
   ]
  },
  {
   "cell_type": "code",
   "execution_count": 100,
   "metadata": {},
   "outputs": [
    {
     "data": {
      "text/plain": [
       "ExternalCpuArray([ 1.47592977e-03, -4.55155770e-03,  1.70581386e-02,\n",
       "                   1.29862627e-02, -4.55155770e-03,  1.40363572e-02,\n",
       "                  -5.26048759e-02, -4.00477890e-02,  1.70581386e-02,\n",
       "                  -5.26048759e-02,  1.97150366e-01,  1.50089438e-01,\n",
       "                   1.29862627e-02, -4.00477890e-02,  1.50089438e-01,\n",
       "                   1.14262224e-01,  4.61459301e-04, -1.48872261e-03,\n",
       "                   4.91209845e-03,  4.54660033e-03, -1.48872261e-03,\n",
       "                   4.80284313e-03, -1.58467561e-02, -1.46679500e-02,\n",
       "                   4.91209845e-03, -1.58467561e-02,  5.22892654e-02,\n",
       "                   4.83967757e-02,  4.54660033e-03, -1.46679500e-02,\n",
       "                   4.83967757e-02,  4.47966005e-02,  1.41418027e-04,\n",
       "                  -3.84921709e-04,  1.95688590e-03,  8.30447421e-04,\n",
       "                  -3.84921709e-04,  1.04776866e-03, -5.32605594e-03,\n",
       "                  -2.26039374e-03,  1.95688590e-03, -5.32605594e-03,\n",
       "                   2.70804562e-02,  1.14912286e-02,  8.30447421e-04,\n",
       "                  -2.26039374e-03,  1.14912286e-02,  4.87758189e-03,\n",
       "                   6.33530779e-04, -1.91997378e-03,  7.54185901e-03,\n",
       "                   5.27396933e-03, -1.91997378e-03,  6.09012743e-03,\n",
       "                  -2.07182827e-02, -1.66917712e-02,  7.54185901e-03,\n",
       "                  -2.07182827e-02,  1.06831671e-01,  5.79282940e-02,\n",
       "                   5.27396933e-03, -1.66917712e-02,  5.79282940e-02,\n",
       "                   4.82437906e-02,  9.90424782e-05, -3.89815775e-04,\n",
       "                   5.10760460e-04,  1.19344945e-03, -3.89815775e-04,\n",
       "                   1.76672990e-03, -1.90441420e-04, -5.37402828e-03,\n",
       "                   5.10760460e-04, -1.90441420e-04,  1.74810437e-02,\n",
       "                   2.89851951e-03,  1.19344945e-03, -5.37402828e-03,\n",
       "                   2.89851951e-03,  2.32918831e-02,  2.09140815e-03,\n",
       "                  -1.46557860e-03,  1.82524834e-02,  2.13384583e-02,\n",
       "                  -6.44960558e-03,  4.51963616e-03, -5.62880654e-02,\n",
       "                  -6.58047733e-02,  2.41715635e-02, -1.69385044e-02,\n",
       "                   2.10954070e-01,  2.46620393e-01,  1.84016721e-02,\n",
       "                  -1.28951858e-02,  1.60598119e-01,  1.87750684e-01,\n",
       "                   4.20496245e-04, -6.00520016e-03,  4.11891799e-04,\n",
       "                   8.02669581e-03, -1.35655987e-03,  1.93734688e-02,\n",
       "                  -1.32870272e-03, -2.58950161e-02,  4.47611967e-03,\n",
       "                  -6.39236855e-02,  4.38508178e-03,  8.54421401e-02,\n",
       "                   4.14298702e-03, -5.91674545e-02,  4.05786016e-03,\n",
       "                   7.90842321e-02, -4.37408561e-04, -1.05527949e-03,\n",
       "                  -4.66420281e-03, -3.39817474e-03,  1.19055294e-03,\n",
       "                   2.87217173e-03,  1.26951451e-02,  9.24919421e-03,\n",
       "                  -6.05279082e-03, -1.46034368e-02, -6.45426887e-02,\n",
       "                  -4.70237442e-02, -2.56866407e-03, -6.19683719e-03,\n",
       "                  -2.73902155e-02, -1.99563699e-02,  6.56014896e-04,\n",
       "                   3.14907602e-03,  7.99725674e-03,  4.69006233e-03,\n",
       "                  -1.79625278e-03, -1.06179343e-02, -2.31079460e-02,\n",
       "                  -1.21170542e-02,  9.36066255e-03,  2.91549166e-02,\n",
       "                   1.04540528e-01,  7.24513996e-02,  5.09818624e-03,\n",
       "                   2.94610557e-02,  6.51760770e-02,  3.39344551e-02,\n",
       "                  -8.24843282e-05, -1.76832010e-03, -1.92764112e-03,\n",
       "                   6.97048091e-04,  6.81225499e-04,  5.27970704e-03,\n",
       "                   9.86060288e-03,  1.24323092e-03,  2.43837416e-03,\n",
       "                  -2.37032393e-02,  7.60774199e-03,  3.57385175e-02,\n",
       "                  -1.78664846e-03, -2.12827332e-02, -3.07038906e-02,\n",
       "                  -3.35671824e-05,  1.21188548e-08,  2.02249283e-03,\n",
       "                   5.48492300e-03,  3.10060467e-04, -3.73728263e-08,\n",
       "                  -6.23708052e-03, -1.69147232e-02, -9.56182425e-04,\n",
       "                   1.40064324e-07,  2.33750709e-02,  6.33922961e-02,\n",
       "                   3.58354072e-03,  1.06630163e-07,  1.77953069e-02,\n",
       "                   4.82601899e-02,  2.72812891e-03,  1.18288320e-07,\n",
       "                   1.45817832e-03,  3.96785035e-03,  2.25028609e-04,\n",
       "                  -3.81612692e-07, -4.70426289e-03, -1.28007740e-02,\n",
       "                  -7.25970012e-04,  1.25914109e-06,  1.55218389e-02,\n",
       "                   4.22364899e-02,  2.39535711e-03,  1.16546275e-06,\n",
       "                   1.43670357e-02,  3.90941537e-02,  2.21714587e-03,\n",
       "                  -2.08568178e-07, -8.80396938e-04, -2.41182618e-03,\n",
       "                  -1.37667214e-04,  5.67677091e-07,  2.39624845e-03,\n",
       "                   6.56446484e-03,  3.74700130e-04, -2.88618940e-06,\n",
       "                  -1.21830297e-02, -3.33751161e-02, -1.90505405e-03,\n",
       "                  -1.22479373e-06, -5.17003435e-03, -1.41631844e-02,\n",
       "                  -8.08435597e-04, -9.15063377e-07, -1.88905292e-03,\n",
       "                  -5.22754318e-03, -3.01271256e-04,  2.83777742e-06,\n",
       "                   5.85829556e-03,  1.62115591e-02,  9.34296781e-04,\n",
       "                  -1.04280972e-05, -2.15277193e-02, -5.95732819e-02,\n",
       "                  -3.43329875e-03, -7.93575366e-06, -1.63825359e-02,\n",
       "                  -4.53351057e-02, -2.61273102e-03, -6.00050235e-07,\n",
       "                  -7.14112821e-04, -2.00295963e-03, -1.16909253e-04,\n",
       "                   2.24489221e-06,  2.67162017e-03,  7.49342008e-03,\n",
       "                   4.37377833e-04, -4.36044846e-06, -5.18931912e-03,\n",
       "                  -1.45551185e-02, -8.49556826e-04, -8.08594186e-06,\n",
       "                  -9.62298558e-03, -2.69907655e-02, -1.57540381e-03,\n",
       "                   3.84535923e-02, -1.76608319e-02,  2.02821470e-03,\n",
       "                  -1.30658510e-03, -1.18585415e-01,  5.44634963e-02,\n",
       "                  -6.25472594e-03,  4.02932281e-03,  4.44429486e-01,\n",
       "                  -2.04116026e-01,  2.34412017e-02, -1.51009284e-02,\n",
       "                   3.38341608e-01, -1.55392355e-01,  1.78456518e-02,\n",
       "                  -1.14962498e-02,  0.00000000e+00,  0.00000000e+00,\n",
       "                   0.00000000e+00,  0.00000000e+00,  0.00000000e+00,\n",
       "                   0.00000000e+00,  0.00000000e+00,  0.00000000e+00,\n",
       "                   0.00000000e+00,  0.00000000e+00,  0.00000000e+00,\n",
       "                   0.00000000e+00,  0.00000000e+00,  0.00000000e+00,\n",
       "                   0.00000000e+00,  0.00000000e+00,  0.00000000e+00,\n",
       "                   0.00000000e+00,  0.00000000e+00,  0.00000000e+00,\n",
       "                   0.00000000e+00,  0.00000000e+00,  0.00000000e+00,\n",
       "                   0.00000000e+00,  0.00000000e+00,  0.00000000e+00,\n",
       "                   0.00000000e+00,  0.00000000e+00,  0.00000000e+00,\n",
       "                   0.00000000e+00,  0.00000000e+00,  0.00000000e+00,\n",
       "                   0.00000000e+00,  0.00000000e+00,  0.00000000e+00,\n",
       "                   0.00000000e+00,  0.00000000e+00,  0.00000000e+00,\n",
       "                   0.00000000e+00,  0.00000000e+00,  0.00000000e+00,\n",
       "                   0.00000000e+00,  0.00000000e+00,  0.00000000e+00,\n",
       "                   0.00000000e+00,  0.00000000e+00,  0.00000000e+00,\n",
       "                   0.00000000e+00,  0.00000000e+00,  0.00000000e+00,\n",
       "                   0.00000000e+00,  0.00000000e+00,  0.00000000e+00,\n",
       "                   0.00000000e+00,  0.00000000e+00,  0.00000000e+00,\n",
       "                   0.00000000e+00,  0.00000000e+00,  0.00000000e+00,\n",
       "                   0.00000000e+00,  0.00000000e+00,  0.00000000e+00,\n",
       "                   0.00000000e+00,  0.00000000e+00,  1.48177378e-03,\n",
       "                  -1.03837022e-03,  1.29319814e-02,  1.51184109e-02,\n",
       "                  -1.03837022e-03,  7.27650011e-04, -9.06223643e-03,\n",
       "                  -1.05944024e-02,  1.29319814e-02, -9.06223643e-03,\n",
       "                   1.12862129e-01,  1.31943898e-01,  1.51184109e-02,\n",
       "                  -1.05944024e-02,  1.31943898e-01,  1.54251852e-01,\n",
       "                   1.91586013e-04, -2.73606613e-03,  1.87677361e-04,\n",
       "                   3.65709600e-03, -2.73606613e-03,  3.90744646e-02,\n",
       "                  -2.68002426e-03, -5.22277318e-02,  1.87677361e-04,\n",
       "                  -2.68002426e-03,  1.83999256e-04,  3.58231335e-03,\n",
       "                   3.65709600e-03, -5.22277318e-02,  3.58231335e-03,\n",
       "                   6.98088468e-02,  6.76492301e-04,  1.63203699e-03,\n",
       "                   7.21359714e-03,  5.25561614e-03,  1.63203699e-03,\n",
       "                   3.93758814e-03,  1.74028970e-02,  1.26791669e-02,\n",
       "                   7.21359714e-03,  1.74028970e-02,  7.69203254e-02,\n",
       "                   5.60418524e-02,  5.25561614e-03,  1.26791669e-02,\n",
       "                   5.60418524e-02,  4.08308219e-02,  4.11262487e-04,\n",
       "                   1.26298026e-03,  4.58212624e-03,  3.17920907e-03,\n",
       "                   1.26298026e-03,  9.99201791e-03,  1.77801941e-02,\n",
       "                   7.53964826e-03,  4.58212624e-03,  1.77801941e-02,\n",
       "                   5.33019869e-02,  3.40725332e-02,  3.17920907e-03,\n",
       "                   7.53964826e-03,  3.40725332e-02,  2.54836947e-02,\n",
       "                   3.12217833e-04, -6.38427509e-04,  2.53176597e-03,\n",
       "                   2.82392317e-03, -6.38427509e-04,  2.35647385e-02,\n",
       "                   9.29119407e-03, -2.17437002e-02,  2.53176597e-03,\n",
       "                   9.29119407e-03,  2.99341479e-02,  1.25208731e-02,\n",
       "                   2.82392317e-03, -2.17437002e-02,  1.25208731e-02,\n",
       "                   3.73682359e-02,  1.21428237e-08,  2.02649295e-03,\n",
       "                   5.49577117e-03,  3.10673710e-04, -8.50922497e-09,\n",
       "                  -1.42008851e-03, -3.85122560e-03, -2.17708217e-04,\n",
       "                   1.05974861e-07,  1.76859447e-02,  4.79636039e-02,\n",
       "                   2.71136302e-03,  1.23892190e-07,  2.06761340e-02,\n",
       "                   5.60728825e-02,  3.16977725e-03,  7.62175675e-08,\n",
       "                   9.39558569e-04,  2.55663367e-03,  1.44994309e-04,\n",
       "                  -1.08848550e-06, -1.34181122e-02, -3.65120373e-02,\n",
       "                  -2.07070636e-03,  7.46545184e-08,  9.20290357e-04,\n",
       "                   2.50420292e-03,  1.42020805e-04,  1.45489058e-06,\n",
       "                   1.79349060e-02,  4.88026890e-02,  2.76774581e-03,\n",
       "                   4.56177248e-07,  1.92559122e-03,  5.27511071e-03,\n",
       "                   3.01103703e-04,  1.10056032e-06,  4.64562690e-03,\n",
       "                   1.27265829e-02,  7.26434275e-04,  4.86433653e-06,\n",
       "                   2.05330795e-02,  5.62498763e-02,  3.21074702e-03,\n",
       "                   3.54400986e-06,  1.49597866e-02,  4.09819746e-02,\n",
       "                   2.33925409e-03, -6.43581303e-07, -1.32860649e-03,\n",
       "                  -3.67662955e-03, -2.11889747e-04, -3.41585012e-06,\n",
       "                  -7.05166636e-03, -1.95139533e-02, -1.12461878e-03,\n",
       "                  -8.04372155e-06, -1.66054243e-02, -4.59519010e-02,\n",
       "                  -2.64827787e-03, -4.45276568e-06, -9.19227040e-03,\n",
       "                  -2.54376095e-02, -1.46600808e-03,  1.96779092e-07,\n",
       "                   2.34184514e-04,  6.56845970e-04,  3.83389512e-05,\n",
       "                   8.76552783e-06,  1.04317530e-02,  2.92592143e-02,\n",
       "                   1.70780920e-03,  7.55471044e-06,  8.99077323e-03,\n",
       "                   2.52175221e-02,  1.47190269e-03, -4.78933145e-06,\n",
       "                  -5.69972779e-03, -1.59867241e-02, -9.33117147e-04,\n",
       "                   3.85296464e-02, -1.76957618e-02,  2.03222613e-03,\n",
       "                  -1.30916929e-03, -2.70000981e-02,  1.24005110e-02,\n",
       "                  -1.42410611e-03,  9.17415610e-04,  3.36262308e-01,\n",
       "                  -1.54437381e-01,  1.77359803e-02, -1.14255989e-02,\n",
       "                   3.93114682e-01, -1.80548342e-01,  2.07346291e-02,\n",
       "                  -1.33573421e-02,  0.00000000e+00,  0.00000000e+00,\n",
       "                   0.00000000e+00,  0.00000000e+00,  0.00000000e+00,\n",
       "                   0.00000000e+00,  0.00000000e+00,  0.00000000e+00,\n",
       "                   0.00000000e+00,  0.00000000e+00,  0.00000000e+00,\n",
       "                   0.00000000e+00,  0.00000000e+00,  0.00000000e+00,\n",
       "                   0.00000000e+00,  0.00000000e+00,  0.00000000e+00,\n",
       "                   0.00000000e+00,  0.00000000e+00,  0.00000000e+00,\n",
       "                   0.00000000e+00,  0.00000000e+00,  0.00000000e+00,\n",
       "                   0.00000000e+00,  0.00000000e+00,  0.00000000e+00,\n",
       "                   0.00000000e+00,  0.00000000e+00,  0.00000000e+00,\n",
       "                   0.00000000e+00,  0.00000000e+00,  0.00000000e+00,\n",
       "                   0.00000000e+00,  0.00000000e+00,  0.00000000e+00,\n",
       "                   0.00000000e+00,  0.00000000e+00,  0.00000000e+00,\n",
       "                   0.00000000e+00,  0.00000000e+00,  0.00000000e+00,\n",
       "                   0.00000000e+00,  0.00000000e+00,  0.00000000e+00,\n",
       "                   0.00000000e+00,  0.00000000e+00,  0.00000000e+00,\n",
       "                   0.00000000e+00,  0.00000000e+00,  0.00000000e+00,\n",
       "                   0.00000000e+00,  0.00000000e+00,  0.00000000e+00,\n",
       "                   0.00000000e+00,  0.00000000e+00,  0.00000000e+00,\n",
       "                   0.00000000e+00,  0.00000000e+00,  0.00000000e+00,\n",
       "                   0.00000000e+00,  0.00000000e+00,  0.00000000e+00,\n",
       "                   0.00000000e+00,  0.00000000e+00,  4.97539397e-14,\n",
       "                   8.30334119e-09,  2.25183429e-08,  1.27295277e-09,\n",
       "                   8.30334119e-09,  1.38572896e-03,  3.75804380e-03,\n",
       "                   2.12440688e-04,  2.25183429e-08,  3.75804380e-03,\n",
       "                   1.01916707e-02,  5.76131000e-04,  1.27295277e-09,\n",
       "                   2.12440688e-04,  5.76131000e-04,  3.25684512e-05,\n",
       "                   1.51608171e-11,  1.86892289e-07,  5.08552777e-07,\n",
       "                   2.88415423e-08,  1.86892289e-07,  2.30388160e-03,\n",
       "                   6.26909431e-03,  3.55539006e-04,  5.08552777e-07,\n",
       "                   6.26909431e-03,  1.70588382e-02,  9.67457511e-04,\n",
       "                   2.88415423e-08,  3.55539006e-04,  9.67457511e-04,\n",
       "                   5.48673963e-05,  1.53808270e-10,  6.49247316e-07,\n",
       "                   1.77859737e-06,  1.01522467e-07,  6.49247316e-07,\n",
       "                   2.74056835e-03,  7.50772092e-03,  4.28541256e-04,\n",
       "                   1.77859737e-06,  7.50772092e-03,  2.05672204e-02,\n",
       "                   1.17397844e-03,  1.01522467e-07,  4.28541256e-04,\n",
       "                   1.17397844e-03,  6.70107744e-05,  6.73033226e-10,\n",
       "                   1.38940691e-06,  3.84488150e-06,  2.21586363e-07,\n",
       "                   1.38940691e-06,  2.86828568e-03,  7.93735692e-03,\n",
       "                   4.57441939e-04,  3.84488150e-06,  7.93735692e-03,\n",
       "                   2.19649093e-02,  1.26587110e-03,  2.21586363e-07,\n",
       "                   4.57441939e-04,  1.26587110e-03,  7.29540745e-05,\n",
       "                   1.95008935e-09,  2.32077871e-06,  6.50937209e-06,\n",
       "                   3.79940672e-07,  2.32077871e-06,  2.76193181e-03,\n",
       "                   7.74672819e-03,  4.52162985e-04,  6.50937209e-06,\n",
       "                   7.74672819e-03,  2.17281967e-02,  1.26823687e-03,\n",
       "                   3.79940672e-07,  4.52162985e-04,  1.26823687e-03,\n",
       "                   7.40247693e-05,  2.23263541e-07, -1.02539701e-07,\n",
       "                   1.17759192e-08, -7.58610052e-09,  3.72600315e-02,\n",
       "                  -1.71126575e-02,  1.96526095e-03, -1.26603001e-03,\n",
       "                   1.01047777e-01, -4.64088709e-02,  5.32971234e-03,\n",
       "                  -3.43342485e-03,  5.71218973e-03, -2.62347460e-03,\n",
       "                   3.01286472e-04, -1.94090111e-04,  0.00000000e+00,\n",
       "                   0.00000000e+00,  0.00000000e+00,  0.00000000e+00,\n",
       "                   0.00000000e+00,  0.00000000e+00,  0.00000000e+00,\n",
       "                   0.00000000e+00,  0.00000000e+00,  0.00000000e+00,\n",
       "                   0.00000000e+00,  0.00000000e+00,  0.00000000e+00,\n",
       "                   0.00000000e+00,  0.00000000e+00,  0.00000000e+00,\n",
       "                   0.00000000e+00,  0.00000000e+00,  0.00000000e+00,\n",
       "                   0.00000000e+00,  0.00000000e+00,  0.00000000e+00,\n",
       "                   0.00000000e+00,  0.00000000e+00,  0.00000000e+00,\n",
       "                   0.00000000e+00,  0.00000000e+00,  0.00000000e+00,\n",
       "                   0.00000000e+00,  0.00000000e+00,  0.00000000e+00,\n",
       "                   0.00000000e+00,  0.00000000e+00,  0.00000000e+00,\n",
       "                   0.00000000e+00,  0.00000000e+00,  0.00000000e+00,\n",
       "                   0.00000000e+00,  0.00000000e+00,  0.00000000e+00,\n",
       "                   0.00000000e+00,  0.00000000e+00,  0.00000000e+00,\n",
       "                   0.00000000e+00,  0.00000000e+00,  0.00000000e+00,\n",
       "                   0.00000000e+00,  0.00000000e+00,  0.00000000e+00,\n",
       "                   0.00000000e+00,  0.00000000e+00,  0.00000000e+00,\n",
       "                   0.00000000e+00,  0.00000000e+00,  0.00000000e+00,\n",
       "                   0.00000000e+00,  0.00000000e+00,  0.00000000e+00,\n",
       "                   0.00000000e+00,  0.00000000e+00,  0.00000000e+00,\n",
       "                   0.00000000e+00,  0.00000000e+00,  0.00000000e+00,\n",
       "                   5.00931275e-01, -2.30065971e-01,  2.64213591e-02,\n",
       "                  -1.70207593e-02, -2.30065971e-01,  1.05663898e-01,\n",
       "                  -1.21347098e-02,  7.81723505e-03,  2.64213591e-02,\n",
       "                  -1.21347098e-02,  1.39358082e-03, -8.97751084e-04,\n",
       "                  -1.70207593e-02,  7.81723505e-03, -8.97751084e-04,\n",
       "                   5.78335319e-04,  0.00000000e+00,  0.00000000e+00,\n",
       "                   0.00000000e+00,  0.00000000e+00,  0.00000000e+00,\n",
       "                   0.00000000e+00,  0.00000000e+00,  0.00000000e+00,\n",
       "                   0.00000000e+00,  0.00000000e+00,  0.00000000e+00,\n",
       "                   0.00000000e+00,  0.00000000e+00,  0.00000000e+00,\n",
       "                   0.00000000e+00,  0.00000000e+00,  0.00000000e+00,\n",
       "                   0.00000000e+00,  0.00000000e+00,  0.00000000e+00,\n",
       "                   0.00000000e+00,  0.00000000e+00,  0.00000000e+00,\n",
       "                   0.00000000e+00,  0.00000000e+00,  0.00000000e+00,\n",
       "                   0.00000000e+00,  0.00000000e+00,  0.00000000e+00,\n",
       "                   0.00000000e+00,  0.00000000e+00,  0.00000000e+00,\n",
       "                   0.00000000e+00,  0.00000000e+00,  0.00000000e+00,\n",
       "                   0.00000000e+00,  0.00000000e+00,  0.00000000e+00,\n",
       "                   0.00000000e+00,  0.00000000e+00,  0.00000000e+00,\n",
       "                   0.00000000e+00,  0.00000000e+00,  0.00000000e+00,\n",
       "                   0.00000000e+00,  0.00000000e+00,  0.00000000e+00,\n",
       "                   0.00000000e+00,  0.00000000e+00,  0.00000000e+00,\n",
       "                   0.00000000e+00,  0.00000000e+00,  0.00000000e+00,\n",
       "                   0.00000000e+00,  0.00000000e+00,  0.00000000e+00,\n",
       "                   0.00000000e+00,  0.00000000e+00,  0.00000000e+00,\n",
       "                   0.00000000e+00,  0.00000000e+00,  0.00000000e+00,\n",
       "                   0.00000000e+00,  0.00000000e+00])"
      ]
     },
     "execution_count": 100,
     "metadata": {},
     "output_type": "execute_result"
    }
   ],
   "source": [
    "descriptor.block().values[1]"
   ]
  },
  {
   "cell_type": "code",
   "execution_count": null,
   "metadata": {},
   "outputs": [],
   "source": [
    "import numpy as np\n",
    "from matplotlib import pyplot as plt\n",
    "\n",
    "\n",
    "for i in range(684):\n",
    "        plt.plot(descriptor.block().values[i])\n",
    "\n",
    "plt.show()\n",
    "# np.sum( descriptor.block().values[0]**2 )\n",
    "\n",
    "for i in range(684):\n",
    "        plt.plot(soap_array[i])\n",
    "\n",
    "plt.show()"
   ]
  },
  {
   "cell_type": "code",
   "execution_count": null,
   "metadata": {},
   "outputs": [],
   "source": [
    "descriptor.block().values[0]"
   ]
  },
  {
   "cell_type": "markdown",
   "metadata": {},
   "source": [
    "# With rascal"
   ]
  },
  {
   "cell_type": "code",
   "execution_count": 3,
   "metadata": {},
   "outputs": [],
   "source": [
    "from rascal.representations import SphericalInvariants\n",
    "\n",
    "soap_params = dict(soap_type=\"PowerSpectrum\",\n",
    "        interaction_cutoff=4.0,\n",
    "        max_radial=4,\n",
    "        max_angular=4,\n",
    "        gaussian_sigma_constant=0.3,\n",
    "        gaussian_sigma_type=\"Constant\",\n",
    "        cutoff_function_type=\"RadialScaling\",\n",
    "        cutoff_smooth_width=0.1, # 0.1 is way better than 0.5\n",
    "        cutoff_function_parameters=\n",
    "                dict(\n",
    "                        rate=1,\n",
    "                        scale=3.5,\n",
    "                        exponent=4\n",
    "                        ),\n",
    "        radial_basis=\"GTO\",\n",
    "        normalize=True, # setting False makes model untrainable\n",
    "        #   optimization=\n",
    "        #         dict(\n",
    "        #                 Spline=dict(\n",
    "        #                    accuracy=1.0e-05\n",
    "        #                 )\n",
    "        #             ),\n",
    "        compute_gradients=True, # for energies gradients are ignored\n",
    "        expansion_by_species_method='structure wise'\n",
    "        )\n",
    "\n",
    "hypers =  soap_params#HYPER_PARAMETERS\n",
    "\n",
    "soap = SphericalInvariants(**hypers)"
   ]
  },
  {
   "cell_type": "code",
   "execution_count": 6,
   "metadata": {},
   "outputs": [
    {
     "name": "stdout",
     "output_type": "stream",
     "text": [
      "CPU times: user 1.1 s, sys: 324 ms, total: 1.42 s\n",
      "Wall time: 1.42 s\n"
     ]
    }
   ],
   "source": [
    "%%time\n",
    "managers = soap.transform(frames)\n",
    "soap_array = managers.get_features(soap)\n",
    "\n",
    "soap_grad_array = managers.get_features_gradient(soap)"
   ]
  },
  {
   "cell_type": "code",
   "execution_count": 8,
   "metadata": {},
   "outputs": [
    {
     "data": {
      "text/plain": [
       "1.0000000000000002"
      ]
     },
     "execution_count": 8,
     "metadata": {},
     "output_type": "execute_result"
    }
   ],
   "source": [
    "import numpy as np\n",
    "np.sum( soap_array[40]**2 )"
   ]
  },
  {
   "cell_type": "code",
   "execution_count": 30,
   "metadata": {},
   "outputs": [],
   "source": [
    "# https://lab-cosmo.github.io/metatensor/latest/reference/python/block.html#metatensor.TensorBlock\n",
    "\n",
    "import numpy as np\n",
    "from metatensor import Labels, TensorBlock\n",
    "block = TensorBlock(\n",
    "    values=np.full((3, 1, 5), 1.0),\n",
    "    samples=Labels([\"structure\"], np.array([[0], [2], [4]])),\n",
    "    components=[Labels.range(\"component\", 1)],\n",
    "    properties=Labels.range(\"property\", 5),\n",
    ")\n",
    "positions_gradient = TensorBlock(\n",
    "    values=np.full((2, 3, 1, 5), 11.0),\n",
    "    samples=Labels([\"sample\", \"atom\"], np.array([[0, 2], [2, 3]])),\n",
    "    components=[\n",
    "        Labels.range(\"direction\", 3),\n",
    "        Labels.range(\"component\", 1),\n",
    "    ],\n",
    "    properties=Labels.range(\"property\", 5),\n",
    ")"
   ]
  },
  {
   "cell_type": "code",
   "execution_count": 12,
   "metadata": {},
   "outputs": [],
   "source": [
    "import os\n",
    "\n",
    "os.chdir(\"test\")"
   ]
  },
  {
   "cell_type": "code",
   "execution_count": 13,
   "metadata": {},
   "outputs": [
    {
     "data": {
      "text/plain": [
       "'/home/mm/repos/rotor-gp/code/test'"
      ]
     },
     "execution_count": 13,
     "metadata": {},
     "output_type": "execute_result"
    }
   ],
   "source": [
    "os.getcwd()"
   ]
  },
  {
   "cell_type": "code",
   "execution_count": 7,
   "metadata": {},
   "outputs": [
    {
     "ename": "ModuleNotFoundError",
     "evalue": "No module named 'cclib'",
     "output_type": "error",
     "traceback": [
      "\u001b[0;31m---------------------------------------------------------------------------\u001b[0m",
      "\u001b[0;31mModuleNotFoundError\u001b[0m                       Traceback (most recent call last)",
      "Cell \u001b[0;32mIn[7], line 1\u001b[0m\n\u001b[0;32m----> 1\u001b[0m \u001b[38;5;28;01mimport\u001b[39;00m \u001b[38;5;21;01mcclib\u001b[39;00m\n\u001b[1;32m      3\u001b[0m filename \u001b[38;5;241m=\u001b[39m \u001b[38;5;124m\"\u001b[39m\u001b[38;5;124mxtb.out\u001b[39m\u001b[38;5;124m\"\u001b[39m\n\u001b[1;32m      4\u001b[0m data \u001b[38;5;241m=\u001b[39m cclib\u001b[38;5;241m.\u001b[39mio\u001b[38;5;241m.\u001b[39mccread(filename)\n",
      "\u001b[0;31mModuleNotFoundError\u001b[0m: No module named 'cclib'"
     ]
    }
   ],
   "source": [
    "import cclib\n",
    "\n",
    "filename = \"xtb.out\"\n",
    "data = cclib.io.ccread(filename)\n",
    "# print(\"There are %i atoms and %i MOs\" % (data.natom, data.nmo))"
   ]
  },
  {
   "cell_type": "code",
   "execution_count": 8,
   "metadata": {},
   "outputs": [
    {
     "name": "stderr",
     "output_type": "stream",
     "text": [
      "normal termination of xtb\n",
      "Unable to determine the type of logfile [PosixPath('xtb.out'), PosixPath('gradient')], try the fallback mechanism\n"
     ]
    },
    {
     "ename": "AttributeError",
     "evalue": "'NoneType' object has no attribute 'scfenergies'",
     "output_type": "error",
     "traceback": [
      "\u001b[0;31m---------------------------------------------------------------------------\u001b[0m",
      "\u001b[0;31mAttributeError\u001b[0m                            Traceback (most recent call last)",
      "Cell \u001b[0;32mIn[8], line 10\u001b[0m\n\u001b[1;32m      7\u001b[0m \u001b[38;5;66;03m# profile = XTBProfile([\"/home/mm/repos/xtb/build/xtb\", \"--gfnff\"])\u001b[39;00m\n\u001b[1;32m      8\u001b[0m atoms\u001b[38;5;241m.\u001b[39mcalc \u001b[38;5;241m=\u001b[39m XTB(profile\u001b[38;5;241m=\u001b[39mprofile)\n\u001b[0;32m---> 10\u001b[0m \u001b[43matoms\u001b[49m\u001b[38;5;241;43m.\u001b[39;49m\u001b[43mget_potential_energy\u001b[49m\u001b[43m(\u001b[49m\u001b[43m)\u001b[49m\n\u001b[1;32m     12\u001b[0m \u001b[38;5;66;03m# print(atoms.calc.results)\u001b[39;00m\n",
      "File \u001b[0;32m~/miniforge3/envs/test_env/lib/python3.10/site-packages/ase/atoms.py:755\u001b[0m, in \u001b[0;36mAtoms.get_potential_energy\u001b[0;34m(self, force_consistent, apply_constraint)\u001b[0m\n\u001b[1;32m    752\u001b[0m     energy \u001b[38;5;241m=\u001b[39m \u001b[38;5;28mself\u001b[39m\u001b[38;5;241m.\u001b[39m_calc\u001b[38;5;241m.\u001b[39mget_potential_energy(\n\u001b[1;32m    753\u001b[0m         \u001b[38;5;28mself\u001b[39m, force_consistent\u001b[38;5;241m=\u001b[39mforce_consistent)\n\u001b[1;32m    754\u001b[0m \u001b[38;5;28;01melse\u001b[39;00m:\n\u001b[0;32m--> 755\u001b[0m     energy \u001b[38;5;241m=\u001b[39m \u001b[38;5;28;43mself\u001b[39;49m\u001b[38;5;241;43m.\u001b[39;49m\u001b[43m_calc\u001b[49m\u001b[38;5;241;43m.\u001b[39;49m\u001b[43mget_potential_energy\u001b[49m\u001b[43m(\u001b[49m\u001b[38;5;28;43mself\u001b[39;49m\u001b[43m)\u001b[49m\n\u001b[1;32m    756\u001b[0m \u001b[38;5;28;01mif\u001b[39;00m apply_constraint:\n\u001b[1;32m    757\u001b[0m     \u001b[38;5;28;01mfor\u001b[39;00m constraint \u001b[38;5;129;01min\u001b[39;00m \u001b[38;5;28mself\u001b[39m\u001b[38;5;241m.\u001b[39mconstraints:\n",
      "File \u001b[0;32m~/miniforge3/envs/test_env/lib/python3.10/site-packages/ase/calculators/abc.py:24\u001b[0m, in \u001b[0;36mGetPropertiesMixin.get_potential_energy\u001b[0;34m(self, atoms, force_consistent)\u001b[0m\n\u001b[1;32m     22\u001b[0m \u001b[38;5;28;01melse\u001b[39;00m:\n\u001b[1;32m     23\u001b[0m     name \u001b[38;5;241m=\u001b[39m \u001b[38;5;124m'\u001b[39m\u001b[38;5;124menergy\u001b[39m\u001b[38;5;124m'\u001b[39m\n\u001b[0;32m---> 24\u001b[0m \u001b[38;5;28;01mreturn\u001b[39;00m \u001b[38;5;28;43mself\u001b[39;49m\u001b[38;5;241;43m.\u001b[39;49m\u001b[43mget_property\u001b[49m\u001b[43m(\u001b[49m\u001b[43mname\u001b[49m\u001b[43m,\u001b[49m\u001b[43m \u001b[49m\u001b[43matoms\u001b[49m\u001b[43m)\u001b[49m\n",
      "File \u001b[0;32m~/miniforge3/envs/test_env/lib/python3.10/site-packages/ase/calculators/calculator.py:537\u001b[0m, in \u001b[0;36mBaseCalculator.get_property\u001b[0;34m(self, name, atoms, allow_calculation)\u001b[0m\n\u001b[1;32m    534\u001b[0m     \u001b[38;5;28;01mif\u001b[39;00m \u001b[38;5;28mself\u001b[39m\u001b[38;5;241m.\u001b[39muse_cache:\n\u001b[1;32m    535\u001b[0m         \u001b[38;5;28mself\u001b[39m\u001b[38;5;241m.\u001b[39matoms \u001b[38;5;241m=\u001b[39m atoms\u001b[38;5;241m.\u001b[39mcopy()\n\u001b[0;32m--> 537\u001b[0m     \u001b[38;5;28;43mself\u001b[39;49m\u001b[38;5;241;43m.\u001b[39;49m\u001b[43mcalculate\u001b[49m\u001b[43m(\u001b[49m\u001b[43matoms\u001b[49m\u001b[43m,\u001b[49m\u001b[43m \u001b[49m\u001b[43m[\u001b[49m\u001b[43mname\u001b[49m\u001b[43m]\u001b[49m\u001b[43m,\u001b[49m\u001b[43m \u001b[49m\u001b[43msystem_changes\u001b[49m\u001b[43m)\u001b[49m\n\u001b[1;32m    539\u001b[0m \u001b[38;5;28;01mif\u001b[39;00m name \u001b[38;5;129;01mnot\u001b[39;00m \u001b[38;5;129;01min\u001b[39;00m \u001b[38;5;28mself\u001b[39m\u001b[38;5;241m.\u001b[39mresults:\n\u001b[1;32m    540\u001b[0m     \u001b[38;5;66;03m# For some reason the calculator was not able to do what we want,\u001b[39;00m\n\u001b[1;32m    541\u001b[0m     \u001b[38;5;66;03m# and that is OK.\u001b[39;00m\n\u001b[1;32m    542\u001b[0m     \u001b[38;5;28;01mraise\u001b[39;00m PropertyNotImplementedError(\n\u001b[1;32m    543\u001b[0m         \u001b[38;5;124m'\u001b[39m\u001b[38;5;132;01m{}\u001b[39;00m\u001b[38;5;124m not present in this \u001b[39m\u001b[38;5;124m'\u001b[39m \u001b[38;5;124m'\u001b[39m\u001b[38;5;124mcalculation\u001b[39m\u001b[38;5;124m'\u001b[39m\u001b[38;5;241m.\u001b[39mformat(name)\n\u001b[1;32m    544\u001b[0m     )\n",
      "File \u001b[0;32m~/miniforge3/envs/test_env/lib/python3.10/site-packages/ase/calculators/genericfileio.py:376\u001b[0m, in \u001b[0;36mGenericFileIOCalculator.calculate\u001b[0;34m(self, atoms, properties, system_changes)\u001b[0m\n\u001b[1;32m    374\u001b[0m \u001b[38;5;28mself\u001b[39m\u001b[38;5;241m.\u001b[39mwrite_inputfiles(atoms, properties)\n\u001b[1;32m    375\u001b[0m \u001b[38;5;28mself\u001b[39m\u001b[38;5;241m.\u001b[39mtemplate\u001b[38;5;241m.\u001b[39mexecute(\u001b[38;5;28mself\u001b[39m\u001b[38;5;241m.\u001b[39mdirectory, \u001b[38;5;28mself\u001b[39m\u001b[38;5;241m.\u001b[39mprofile)\n\u001b[0;32m--> 376\u001b[0m \u001b[38;5;28mself\u001b[39m\u001b[38;5;241m.\u001b[39mresults \u001b[38;5;241m=\u001b[39m \u001b[38;5;28;43mself\u001b[39;49m\u001b[38;5;241;43m.\u001b[39;49m\u001b[43mtemplate\u001b[49m\u001b[38;5;241;43m.\u001b[39;49m\u001b[43mread_results\u001b[49m\u001b[43m(\u001b[49m\u001b[38;5;28;43mself\u001b[39;49m\u001b[38;5;241;43m.\u001b[39;49m\u001b[43mdirectory\u001b[49m\u001b[43m)\u001b[49m\n",
      "File \u001b[0;32m~/miniforge3/envs/test_env/lib/python3.10/site-packages/xtb_ase/calculator.py:185\u001b[0m, in \u001b[0;36m_XTBTemplate.read_results\u001b[0;34m(self, directory)\u001b[0m\n\u001b[1;32m    182\u001b[0m grad_file \u001b[38;5;241m=\u001b[39m Path(directory) \u001b[38;5;241m/\u001b[39m \u001b[38;5;28mself\u001b[39m\u001b[38;5;241m.\u001b[39mgrad_file\n\u001b[1;32m    183\u001b[0m xtb_opt_file \u001b[38;5;241m=\u001b[39m Path(directory) \u001b[38;5;241m/\u001b[39m \u001b[38;5;28mself\u001b[39m\u001b[38;5;241m.\u001b[39mxtb_opt_file\n\u001b[0;32m--> 185\u001b[0m \u001b[38;5;28;01mreturn\u001b[39;00m \u001b[43mread_xtb_results\u001b[49m\u001b[43m(\u001b[49m\n\u001b[1;32m    186\u001b[0m \u001b[43m    \u001b[49m\u001b[43moutput_file\u001b[49m\u001b[43m,\u001b[49m\u001b[43m \u001b[49m\u001b[43mgrad_file\u001b[49m\u001b[38;5;241;43m=\u001b[39;49m\u001b[43mgrad_file\u001b[49m\u001b[43m,\u001b[49m\u001b[43m \u001b[49m\u001b[43mxtb_opt_file\u001b[49m\u001b[38;5;241;43m=\u001b[39;49m\u001b[43mxtb_opt_file\u001b[49m\n\u001b[1;32m    187\u001b[0m \u001b[43m\u001b[49m\u001b[43m)\u001b[49m\n",
      "File \u001b[0;32m~/miniforge3/envs/test_env/lib/python3.10/site-packages/xtb_ase/_io.py:101\u001b[0m, in \u001b[0;36mread_xtb_results\u001b[0;34m(output_file, grad_file, xtb_opt_file)\u001b[0m\n\u001b[1;32m     98\u001b[0m     filepaths\u001b[38;5;241m.\u001b[39mappend(grad_file)\n\u001b[1;32m    100\u001b[0m cclib_obj \u001b[38;5;241m=\u001b[39m ccread(filepaths, logging\u001b[38;5;241m.\u001b[39mERROR)\n\u001b[0;32m--> 101\u001b[0m energy \u001b[38;5;241m=\u001b[39m \u001b[43mcclib_obj\u001b[49m\u001b[38;5;241;43m.\u001b[39;49m\u001b[43mscfenergies\u001b[49m[\u001b[38;5;241m-\u001b[39m\u001b[38;5;241m1\u001b[39m]\n\u001b[1;32m    103\u001b[0m results \u001b[38;5;241m=\u001b[39m {\n\u001b[1;32m    104\u001b[0m     \u001b[38;5;124m\"\u001b[39m\u001b[38;5;124menergy\u001b[39m\u001b[38;5;124m\"\u001b[39m: energy,\n\u001b[1;32m    105\u001b[0m     \u001b[38;5;124m\"\u001b[39m\u001b[38;5;124mattributes\u001b[39m\u001b[38;5;124m\"\u001b[39m: jsanitize(cclib_obj\u001b[38;5;241m.\u001b[39mgetattributes()),\n\u001b[1;32m    106\u001b[0m }\n\u001b[1;32m    107\u001b[0m \u001b[38;5;28;01mif\u001b[39;00m \u001b[38;5;28mhasattr\u001b[39m(cclib_obj, \u001b[38;5;124m\"\u001b[39m\u001b[38;5;124mgrads\u001b[39m\u001b[38;5;124m\"\u001b[39m):\n",
      "\u001b[0;31mAttributeError\u001b[0m: 'NoneType' object has no attribute 'scfenergies'"
     ]
    }
   ],
   "source": [
    "from ase.build import molecule\n",
    "\n",
    "from xtb_ase import XTB, XTBProfile\n",
    "\n",
    "atoms = molecule(\"H2O\")\n",
    "profile = XTBProfile([\"xtb\", \"--gfn2\"])\n",
    "# profile = XTBProfile([\"/home/mm/repos/xtb/build/xtb\", \"--gfnff\"])\n",
    "atoms.calc = XTB(profile=profile)\n",
    "\n",
    "atoms.get_potential_energy()\n",
    "\n",
    "# print(atoms.calc.results)"
   ]
  },
  {
   "cell_type": "code",
   "execution_count": 10,
   "metadata": {},
   "outputs": [
    {
     "data": {
      "text/plain": [
       "'3.23.0b1'"
      ]
     },
     "execution_count": 10,
     "metadata": {},
     "output_type": "execute_result"
    }
   ],
   "source": [
    "import ase\n",
    "ase.__version__"
   ]
  },
  {
   "cell_type": "code",
   "execution_count": 40,
   "metadata": {},
   "outputs": [
    {
     "ename": "AttributeError",
     "evalue": "type object 'XTB' has no attribute 'output_file'",
     "output_type": "error",
     "traceback": [
      "\u001b[0;31m---------------------------------------------------------------------------\u001b[0m",
      "\u001b[0;31mAttributeError\u001b[0m                            Traceback (most recent call last)",
      "Cell \u001b[0;32mIn[40], line 1\u001b[0m\n\u001b[0;32m----> 1\u001b[0m \u001b[43mXTB\u001b[49m\u001b[38;5;241;43m.\u001b[39;49m\u001b[43moutput_file\u001b[49m\n",
      "\u001b[0;31mAttributeError\u001b[0m: type object 'XTB' has no attribute 'output_file'"
     ]
    }
   ],
   "source": [
    "XTB.output_file\n"
   ]
  },
  {
   "cell_type": "code",
   "execution_count": 4,
   "metadata": {},
   "outputs": [],
   "source": [
    "import cclib"
   ]
  },
  {
   "cell_type": "code",
   "execution_count": 22,
   "metadata": {},
   "outputs": [
    {
     "name": "stderr",
     "output_type": "stream",
     "text": [
      "normal termination of xtb\n",
      "Note: The following floating-point exceptions are signalling: IEEE_UNDERFLOW_FLAG IEEE_DENORMAL\n",
      "Unable to determine the type of logfile [PosixPath('xtb.out'), PosixPath('gradient')], try the fallback mechanism\n"
     ]
    },
    {
     "ename": "AttributeError",
     "evalue": "'NoneType' object has no attribute 'scfenergies'",
     "output_type": "error",
     "traceback": [
      "\u001b[0;31m---------------------------------------------------------------------------\u001b[0m",
      "\u001b[0;31mAttributeError\u001b[0m                            Traceback (most recent call last)",
      "Cell \u001b[0;32mIn[22], line 8\u001b[0m\n\u001b[1;32m      5\u001b[0m profile \u001b[38;5;241m=\u001b[39m XTBProfile([\u001b[38;5;124m\"\u001b[39m\u001b[38;5;124m/home/mm/repos/xtb/build/xtb\u001b[39m\u001b[38;5;124m\"\u001b[39m, \u001b[38;5;124m\"\u001b[39m\u001b[38;5;124m--gfnff\u001b[39m\u001b[38;5;124m\"\u001b[39m])\n\u001b[1;32m      6\u001b[0m atoms\u001b[38;5;241m.\u001b[39mcalc \u001b[38;5;241m=\u001b[39m XTB(profile\u001b[38;5;241m=\u001b[39mprofile)\n\u001b[0;32m----> 8\u001b[0m \u001b[43matoms\u001b[49m\u001b[38;5;241;43m.\u001b[39;49m\u001b[43mget_potential_energy\u001b[49m\u001b[43m(\u001b[49m\u001b[43m)\u001b[49m\n",
      "File \u001b[0;32m~/miniforge3/envs/test_env/lib/python3.10/site-packages/ase/atoms.py:755\u001b[0m, in \u001b[0;36mAtoms.get_potential_energy\u001b[0;34m(self, force_consistent, apply_constraint)\u001b[0m\n\u001b[1;32m    752\u001b[0m     energy \u001b[38;5;241m=\u001b[39m \u001b[38;5;28mself\u001b[39m\u001b[38;5;241m.\u001b[39m_calc\u001b[38;5;241m.\u001b[39mget_potential_energy(\n\u001b[1;32m    753\u001b[0m         \u001b[38;5;28mself\u001b[39m, force_consistent\u001b[38;5;241m=\u001b[39mforce_consistent)\n\u001b[1;32m    754\u001b[0m \u001b[38;5;28;01melse\u001b[39;00m:\n\u001b[0;32m--> 755\u001b[0m     energy \u001b[38;5;241m=\u001b[39m \u001b[38;5;28;43mself\u001b[39;49m\u001b[38;5;241;43m.\u001b[39;49m\u001b[43m_calc\u001b[49m\u001b[38;5;241;43m.\u001b[39;49m\u001b[43mget_potential_energy\u001b[49m\u001b[43m(\u001b[49m\u001b[38;5;28;43mself\u001b[39;49m\u001b[43m)\u001b[49m\n\u001b[1;32m    756\u001b[0m \u001b[38;5;28;01mif\u001b[39;00m apply_constraint:\n\u001b[1;32m    757\u001b[0m     \u001b[38;5;28;01mfor\u001b[39;00m constraint \u001b[38;5;129;01min\u001b[39;00m \u001b[38;5;28mself\u001b[39m\u001b[38;5;241m.\u001b[39mconstraints:\n",
      "File \u001b[0;32m~/miniforge3/envs/test_env/lib/python3.10/site-packages/ase/calculators/abc.py:24\u001b[0m, in \u001b[0;36mGetPropertiesMixin.get_potential_energy\u001b[0;34m(self, atoms, force_consistent)\u001b[0m\n\u001b[1;32m     22\u001b[0m \u001b[38;5;28;01melse\u001b[39;00m:\n\u001b[1;32m     23\u001b[0m     name \u001b[38;5;241m=\u001b[39m \u001b[38;5;124m'\u001b[39m\u001b[38;5;124menergy\u001b[39m\u001b[38;5;124m'\u001b[39m\n\u001b[0;32m---> 24\u001b[0m \u001b[38;5;28;01mreturn\u001b[39;00m \u001b[38;5;28;43mself\u001b[39;49m\u001b[38;5;241;43m.\u001b[39;49m\u001b[43mget_property\u001b[49m\u001b[43m(\u001b[49m\u001b[43mname\u001b[49m\u001b[43m,\u001b[49m\u001b[43m \u001b[49m\u001b[43matoms\u001b[49m\u001b[43m)\u001b[49m\n",
      "File \u001b[0;32m~/miniforge3/envs/test_env/lib/python3.10/site-packages/ase/calculators/calculator.py:537\u001b[0m, in \u001b[0;36mBaseCalculator.get_property\u001b[0;34m(self, name, atoms, allow_calculation)\u001b[0m\n\u001b[1;32m    534\u001b[0m     \u001b[38;5;28;01mif\u001b[39;00m \u001b[38;5;28mself\u001b[39m\u001b[38;5;241m.\u001b[39muse_cache:\n\u001b[1;32m    535\u001b[0m         \u001b[38;5;28mself\u001b[39m\u001b[38;5;241m.\u001b[39matoms \u001b[38;5;241m=\u001b[39m atoms\u001b[38;5;241m.\u001b[39mcopy()\n\u001b[0;32m--> 537\u001b[0m     \u001b[38;5;28;43mself\u001b[39;49m\u001b[38;5;241;43m.\u001b[39;49m\u001b[43mcalculate\u001b[49m\u001b[43m(\u001b[49m\u001b[43matoms\u001b[49m\u001b[43m,\u001b[49m\u001b[43m \u001b[49m\u001b[43m[\u001b[49m\u001b[43mname\u001b[49m\u001b[43m]\u001b[49m\u001b[43m,\u001b[49m\u001b[43m \u001b[49m\u001b[43msystem_changes\u001b[49m\u001b[43m)\u001b[49m\n\u001b[1;32m    539\u001b[0m \u001b[38;5;28;01mif\u001b[39;00m name \u001b[38;5;129;01mnot\u001b[39;00m \u001b[38;5;129;01min\u001b[39;00m \u001b[38;5;28mself\u001b[39m\u001b[38;5;241m.\u001b[39mresults:\n\u001b[1;32m    540\u001b[0m     \u001b[38;5;66;03m# For some reason the calculator was not able to do what we want,\u001b[39;00m\n\u001b[1;32m    541\u001b[0m     \u001b[38;5;66;03m# and that is OK.\u001b[39;00m\n\u001b[1;32m    542\u001b[0m     \u001b[38;5;28;01mraise\u001b[39;00m PropertyNotImplementedError(\n\u001b[1;32m    543\u001b[0m         \u001b[38;5;124m'\u001b[39m\u001b[38;5;132;01m{}\u001b[39;00m\u001b[38;5;124m not present in this \u001b[39m\u001b[38;5;124m'\u001b[39m \u001b[38;5;124m'\u001b[39m\u001b[38;5;124mcalculation\u001b[39m\u001b[38;5;124m'\u001b[39m\u001b[38;5;241m.\u001b[39mformat(name)\n\u001b[1;32m    544\u001b[0m     )\n",
      "File \u001b[0;32m~/miniforge3/envs/test_env/lib/python3.10/site-packages/ase/calculators/genericfileio.py:376\u001b[0m, in \u001b[0;36mGenericFileIOCalculator.calculate\u001b[0;34m(self, atoms, properties, system_changes)\u001b[0m\n\u001b[1;32m    374\u001b[0m \u001b[38;5;28mself\u001b[39m\u001b[38;5;241m.\u001b[39mwrite_inputfiles(atoms, properties)\n\u001b[1;32m    375\u001b[0m \u001b[38;5;28mself\u001b[39m\u001b[38;5;241m.\u001b[39mtemplate\u001b[38;5;241m.\u001b[39mexecute(\u001b[38;5;28mself\u001b[39m\u001b[38;5;241m.\u001b[39mdirectory, \u001b[38;5;28mself\u001b[39m\u001b[38;5;241m.\u001b[39mprofile)\n\u001b[0;32m--> 376\u001b[0m \u001b[38;5;28mself\u001b[39m\u001b[38;5;241m.\u001b[39mresults \u001b[38;5;241m=\u001b[39m \u001b[38;5;28;43mself\u001b[39;49m\u001b[38;5;241;43m.\u001b[39;49m\u001b[43mtemplate\u001b[49m\u001b[38;5;241;43m.\u001b[39;49m\u001b[43mread_results\u001b[49m\u001b[43m(\u001b[49m\u001b[38;5;28;43mself\u001b[39;49m\u001b[38;5;241;43m.\u001b[39;49m\u001b[43mdirectory\u001b[49m\u001b[43m)\u001b[49m\n",
      "File \u001b[0;32m~/miniforge3/envs/test_env/lib/python3.10/site-packages/xtb_ase/calculator.py:185\u001b[0m, in \u001b[0;36m_XTBTemplate.read_results\u001b[0;34m(self, directory)\u001b[0m\n\u001b[1;32m    182\u001b[0m grad_file \u001b[38;5;241m=\u001b[39m Path(directory) \u001b[38;5;241m/\u001b[39m \u001b[38;5;28mself\u001b[39m\u001b[38;5;241m.\u001b[39mgrad_file\n\u001b[1;32m    183\u001b[0m xtb_opt_file \u001b[38;5;241m=\u001b[39m Path(directory) \u001b[38;5;241m/\u001b[39m \u001b[38;5;28mself\u001b[39m\u001b[38;5;241m.\u001b[39mxtb_opt_file\n\u001b[0;32m--> 185\u001b[0m \u001b[38;5;28;01mreturn\u001b[39;00m \u001b[43mread_xtb_results\u001b[49m\u001b[43m(\u001b[49m\n\u001b[1;32m    186\u001b[0m \u001b[43m    \u001b[49m\u001b[43moutput_file\u001b[49m\u001b[43m,\u001b[49m\u001b[43m \u001b[49m\u001b[43mgrad_file\u001b[49m\u001b[38;5;241;43m=\u001b[39;49m\u001b[43mgrad_file\u001b[49m\u001b[43m,\u001b[49m\u001b[43m \u001b[49m\u001b[43mxtb_opt_file\u001b[49m\u001b[38;5;241;43m=\u001b[39;49m\u001b[43mxtb_opt_file\u001b[49m\n\u001b[1;32m    187\u001b[0m \u001b[43m\u001b[49m\u001b[43m)\u001b[49m\n",
      "File \u001b[0;32m~/miniforge3/envs/test_env/lib/python3.10/site-packages/xtb_ase/_io.py:101\u001b[0m, in \u001b[0;36mread_xtb_results\u001b[0;34m(output_file, grad_file, xtb_opt_file)\u001b[0m\n\u001b[1;32m     98\u001b[0m     filepaths\u001b[38;5;241m.\u001b[39mappend(grad_file)\n\u001b[1;32m    100\u001b[0m cclib_obj \u001b[38;5;241m=\u001b[39m ccread(filepaths, logging\u001b[38;5;241m.\u001b[39mERROR)\n\u001b[0;32m--> 101\u001b[0m energy \u001b[38;5;241m=\u001b[39m \u001b[43mcclib_obj\u001b[49m\u001b[38;5;241;43m.\u001b[39;49m\u001b[43mscfenergies\u001b[49m[\u001b[38;5;241m-\u001b[39m\u001b[38;5;241m1\u001b[39m]\n\u001b[1;32m    103\u001b[0m results \u001b[38;5;241m=\u001b[39m {\n\u001b[1;32m    104\u001b[0m     \u001b[38;5;124m\"\u001b[39m\u001b[38;5;124menergy\u001b[39m\u001b[38;5;124m\"\u001b[39m: energy,\n\u001b[1;32m    105\u001b[0m     \u001b[38;5;124m\"\u001b[39m\u001b[38;5;124mattributes\u001b[39m\u001b[38;5;124m\"\u001b[39m: jsanitize(cclib_obj\u001b[38;5;241m.\u001b[39mgetattributes()),\n\u001b[1;32m    106\u001b[0m }\n\u001b[1;32m    107\u001b[0m \u001b[38;5;28;01mif\u001b[39;00m \u001b[38;5;28mhasattr\u001b[39m(cclib_obj, \u001b[38;5;124m\"\u001b[39m\u001b[38;5;124mgrads\u001b[39m\u001b[38;5;124m\"\u001b[39m):\n",
      "\u001b[0;31mAttributeError\u001b[0m: 'NoneType' object has no attribute 'scfenergies'"
     ]
    }
   ],
   "source": [
    "from ase.build import bulk\n",
    "from xtb_ase import XTB, XTBProfile\n",
    "\n",
    "atoms = bulk(\"Cu\")\n",
    "profile = XTBProfile([\"/home/mm/repos/xtb/build/xtb\", \"--gfnff\"])\n",
    "atoms.calc = XTB(profile=profile)\n",
    "\n",
    "atoms.get_potential_energy()"
   ]
  }
 ],
 "metadata": {
  "kernelspec": {
   "display_name": "base",
   "language": "python",
   "name": "python3"
  },
  "language_info": {
   "codemirror_mode": {
    "name": "ipython",
    "version": 3
   },
   "file_extension": ".py",
   "mimetype": "text/x-python",
   "name": "python",
   "nbconvert_exporter": "python",
   "pygments_lexer": "ipython3",
   "version": "3.10.13"
  },
  "orig_nbformat": 4
 },
 "nbformat": 4,
 "nbformat_minor": 2
}
