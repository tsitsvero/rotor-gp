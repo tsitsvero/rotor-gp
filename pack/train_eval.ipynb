{
 "cells": [
  {
   "cell_type": "markdown",
   "metadata": {
    "id": "7dCOI-tn1woN"
   },
   "source": [
    "<a href=\"https://colab.research.google.com/github/tsitsvero/rotor-gp/blob/main/pack/train_eval.ipynb\" target=\"_parent\"><img src=\"https://colab.research.google.com/assets/colab-badge.svg\" alt=\"Open In Colab\"/></a>"
   ]
  },
  {
   "cell_type": "markdown",
   "metadata": {
    "id": "CGkUAB7q1woR"
   },
   "source": [
    "# Install dependencies"
   ]
  },
  {
   "cell_type": "code",
   "execution_count": null,
   "metadata": {
    "colab": {
     "base_uri": "https://localhost:8080/"
    },
    "id": "znyGV5dF1woR",
    "outputId": "7e363cf9-78c6-44ea-dbe4-0621d45f020c"
   },
   "outputs": [],
   "source": [
    "!pip install git+https://github.com/lab-cosmo/librascal gpytorch pytorch-lightning wandb git+https://github.com/chem-gp/fande xtb nbstripout\n",
    "! nbstripout --install --global"
   ]
  },
  {
   "cell_type": "code",
   "execution_count": null,
   "metadata": {
    "colab": {
     "base_uri": "https://localhost:8080/"
    },
    "id": "Davwyq8M136x",
    "outputId": "bb54ac6f-9eee-4bd5-834f-221cca00af13"
   },
   "outputs": [],
   "source": [
    "from google.colab import drive\n",
    "drive.mount('/content/drive')"
   ]
  },
  {
   "cell_type": "markdown",
   "metadata": {
    "id": "R1vtf8fz1woT"
   },
   "source": [
    "## Cooking up the model"
   ]
  },
  {
   "cell_type": "code",
   "execution_count": null,
   "metadata": {},
   "outputs": [],
   "source": [
    "# Prepare the training data:\n",
    "\n",
    "from ase import io\n",
    "import os\n",
    "\n",
    "DATA_DIR = os.path.expanduser(\"~/repos/data/\")\n",
    "# DATA_DIR = \"/data1/simulations/datasets/rotors/high_temp_ML_training_data/\"\n",
    "RESULTS_DIR = os.path.expanduser(\"~/repos/data/results\")\n",
    "\n",
    "# DATA_DIR = os.path.expanduser(\"/content/drive/MyDrive/data/\")\n",
    "# # FANDE_DIR = os.path.expanduser(\"~/\")\n",
    "# RESULTS_DIR = os.path.expanduser(\"/content/results\")\n",
    "# os.makedirs(RESULTS_DIR, exist_ok=True)\n",
    "\n",
    "PREPARE_DATA = True\n",
    "if PREPARE_DATA:\n",
    "        traj_295 = io.read(DATA_DIR+\"/results_triasine_ML_2000/struct_295_295K/md_trajectory.traj\", index=\":\")\n",
    "        # traj_355 = io.read(DATA_DIR+\"/results_triasine_ML_2000/struct_355_355K/md_trajectory.traj\", index=\":\")\n",
    "        traj_295_2000K = io.read(DATA_DIR+\"/results_triasine_ML_2000/struct_295_2000K/md_trajectory.traj\", index=\":\")\n",
    "        # traj_355_2000K = io.read(DATA_DIR+\"/results_triasine_ML_2000/struct_355_2000K/md_trajectory.traj\", index=\":\")\n",
    "        # traj_295_2000K_forced = io.read(DATA_DIR+\"/results_triasine_ML_2000/struct_295_2000K_0075force/md_trajectory.traj\", index=\":\")\n",
    "        # traj_355_2000K_forced = io.read(DATA_DIR+\"/results_triasine_ML_2000/struct_355_2000K_0075force/md_trajectory.traj\", index=\":\")\n",
    "\n",
    "        # trajectory_energy = traj_295[0:5000] + traj_355[0:5000] + traj_295_2000K[0:5000] + traj_355_2000K[0:5000] + traj_295_2000K_forced[0:5000] + traj_355_2000K_forced[0:5000]\n",
    "\n",
    "        train_energy = traj_295[0:5000:10] +  traj_295_2000K[0:5000:10]\n",
    "        train_forces = traj_295_2000K[0:5000:5]\n",
    "        validation_energy = traj_295[1000:1010]\n",
    "        validation_forces = traj_295[1000:1010]\n",
    "\n",
    "        io.write(DATA_DIR+\"/train_energy.traj\", train_energy)\n",
    "        io.write(DATA_DIR+\"/train_forces.traj\", train_forces)\n",
    "        io.write(DATA_DIR+\"/validation_energy.traj\", validation_energy)\n",
    "        io.write(DATA_DIR+\"/validation_forces.traj\", validation_forces)\n"
   ]
  },
  {
   "cell_type": "code",
   "execution_count": null,
   "metadata": {
    "colab": {
     "base_uri": "https://localhost:8080/"
    },
    "id": "LRz1N5Qq1woU",
    "outputId": "0b912c83-6761-4b21-b090-cb518932f74e"
   },
   "outputs": [],
   "source": [
    "ENERGY_MODEL = 'variational_inducing_points' #'variational_inducing_points', 'exact'\n",
    "ENERGY_NUM_INDUCING_POINTS = 10\n",
    "ENERGY_LR = 0.1\n",
    "ENERGY_NUM_STEPS = 5\n",
    "\n",
    "FORCES_MODEL = 'variational_inducing_points' #'variational_inducing_points', 'exact'\n",
    "FORCES_NUM_INDUCING_POINTS = 10\n",
    "NUM_FORCE_SAMPLES = 10\n",
    "FORCES_LR = 0.1\n",
    "FORCES_NUM_STEPS = 5\n",
    "\n",
    "PREDICTOR_NAME = 'test.pth'\n",
    "SUBSAMPLE = 2 # subsample data to reduce time durings tests\n",
    "\n",
    "! python cook_model.py \\\n",
    "--data_dir $DATA_DIR \\\n",
    "--results_dir $RESULTS_DIR \\\n",
    "--energy_model $ENERGY_MODEL \\\n",
    "--energy_num_inducing_points $ENERGY_NUM_INDUCING_POINTS \\\n",
    "--energy_lr $ENERGY_LR \\\n",
    "--energy_num_steps $ENERGY_NUM_STEPS \\\n",
    "--forces_model $FORCES_MODEL \\\n",
    "--forces_num_inducing_points $FORCES_NUM_INDUCING_POINTS \\\n",
    "--num_force_samples $NUM_FORCE_SAMPLES \\\n",
    "--forces_lr $FORCES_LR \\\n",
    "--forces_num_steps $FORCES_NUM_STEPS \\\n",
    "--predictor_name $PREDICTOR_NAME \\\n",
    "--subsample $SUBSAMPLE\n"
   ]
  },
  {
   "cell_type": "markdown",
   "metadata": {
    "id": "ry9M9pUc1woU"
   },
   "source": [
    "## Testing models"
   ]
  },
  {
   "cell_type": "code",
   "execution_count": null,
   "metadata": {
    "id": "Q-igKC1a1woV"
   },
   "outputs": [],
   "source": [
    "from ase import io\n",
    "test_traj = io.read(DATA_DIR + \"for_test_jacs/295_0.075_same_+/md_trajectory.traj\", index=\"0:200\")"
   ]
  },
  {
   "cell_type": "code",
   "execution_count": null,
   "metadata": {},
   "outputs": [],
   "source": [
    "# from ase.visualize import view\n",
    "# view(test_traj)"
   ]
  },
  {
   "cell_type": "code",
   "execution_count": null,
   "metadata": {
    "colab": {
     "base_uri": "https://localhost:8080/"
    },
    "id": "81lptjK31woV",
    "outputId": "86208dd5-f9f8-4e6c-9036-1fd3b6171dc2"
   },
   "outputs": [],
   "source": [
    "import sys\n",
    "import torch\n",
    "import os\n",
    "\n",
    "DATA_DIR = os.path.expanduser(\"~/repos/data/\")\n",
    "# DATA_DIR = \"/data1/simulations/datasets/rotors/high_temp_ML_training_data/\"\n",
    "RESULTS_DIR = os.path.expanduser(\"~/repos/data/results\")\n",
    "\n",
    "# DATA_DIR = os.path.expanduser(\"/content/drive/MyDrive/data/\")\n",
    "# # FANDE_DIR = os.path.expanduser(\"~/\")\n",
    "# RESULTS_DIR = os.path.expanduser(\"/content/results\")\n",
    "\n",
    "FANDE_DIR = os.path.expanduser(\"~/repos/\")\n",
    "sys.path.append(FANDE_DIR + \"fande/\")\n",
    "\n",
    "from fande.predict import FandePredictor\n",
    "from fande.ase import FandeCalc\n",
    "# load the predictor:\n",
    "# predictor_loaded = torch.load(RESULTS_DIR + \"/fande_predictor.pth\")\n",
    "predictor_exact = torch.load(RESULTS_DIR + \"/exact.pth\")\n",
    "fande_calc_exact = FandeCalc(predictor_exact)\n",
    "\n",
    "predictor_exact_500points = torch.load(RESULTS_DIR + \"/exact_500points.pth\")\n",
    "fande_calc_exact_500points = FandeCalc(predictor_exact_500points)\n",
    "\n",
    "predictor_inducing = torch.load(RESULTS_DIR + \"/inducing.pth\")\n",
    "fande_calc_inducing = FandeCalc(predictor_inducing)\n",
    "\n",
    "\n",
    "\n",
    "device = torch.device('cpu')\n",
    "fande_calc_exact.predictor.move_models_to_device(device)\n",
    "fande_calc_inducing.predictor.move_models_to_device(device)"
   ]
  },
  {
   "cell_type": "code",
   "execution_count": null,
   "metadata": {},
   "outputs": [],
   "source": []
  },
  {
   "cell_type": "code",
   "execution_count": null,
   "metadata": {
    "colab": {
     "base_uri": "https://localhost:8080/"
    },
    "id": "nc-Rh9361woX",
    "outputId": "4d36ffea-3698-459d-b6d7-6ff74f7e8389"
   },
   "outputs": [],
   "source": [
    "%%capture c\n",
    "from tqdm import tqdm\n",
    "forces_true = []\n",
    "energy_true = []\n",
    "\n",
    "forces_predicted_exact = []\n",
    "forces_predicted_variance_exact = []\n",
    "energy_predicted_exact = []\n",
    "energy_predicted_variance_exact = []\n",
    "\n",
    "forces_predicted_exact_500points = []\n",
    "forces_predicted_variance_exact_500points = []\n",
    "energy_predicted_exact_500points = []\n",
    "energy_predicted_variance_exact_500points = []\n",
    "\n",
    "forces_predicted_inducing = []\n",
    "forces_predicted_variance_inducing = []\n",
    "energy_predicted_inducing = [] \n",
    "energy_predicted_variance_inducing = []\n",
    "\n",
    "\n",
    "for atoms in test_traj[1:]:\n",
    "    forces_true.append(atoms.get_forces())\n",
    "    energy_true.append(atoms.get_potential_energy())\n",
    "\n",
    "    atoms.set_calculator(fande_calc_exact)\n",
    "    energy_predicted_exact.append(atoms.get_potential_energy())\n",
    "    energy_predicted_variance_exact.append(atoms.calc.energy_variance)\n",
    "    forces_predicted_exact.append(atoms.calc.forces)\n",
    "    forces_predicted_variance_exact.append(atoms.calc.forces_variance)\n",
    "\n",
    "    atoms.calc = fande_calc_exact_500points\n",
    "    energy_predicted_exact_500points.append(atoms.get_potential_energy())\n",
    "    energy_predicted_variance_exact_500points.append(atoms.calc.energy_variance)\n",
    "    forces_predicted_exact_500points.append(atoms.calc.forces)\n",
    "    forces_predicted_variance_exact_500points.append(atoms.calc.forces_variance)\n",
    "    \n",
    "    atoms.calc = fande_calc_inducing\n",
    "    energy_predicted_inducing.append(atoms.get_potential_energy())\n",
    "    energy_predicted_variance_inducing.append(atoms.calc.energy_variance)\n",
    "    forces_predicted_inducing.append(atoms.calc.forces)\n",
    "    forces_predicted_variance_inducing.append(atoms.calc.forces_variance)"
   ]
  },
  {
   "cell_type": "code",
   "execution_count": null,
   "metadata": {},
   "outputs": [],
   "source": [
    "import numpy as np\n",
    "\n",
    "energy_true = np.array(energy_true)\n",
    "forces_true = np.array(forces_true)\n",
    "\n",
    "energy_predicted_exact = np.array(energy_predicted_exact)\n",
    "energy_predicted_variance_exact = np.array(energy_predicted_variance_exact)\n",
    "forces_predicted_exact = np.array(forces_predicted_exact)\n",
    "forces_predicted_variance_exact = np.array(forces_predicted_variance_exact)\n",
    "\n",
    "energy_predicted_exact_500points = np.array(energy_predicted_exact_500points)\n",
    "energy_predicted_variance_exact_500points = np.array(energy_predicted_variance_exact_500points)\n",
    "forces_predicted_exact_500points = np.array(forces_predicted_exact_500points)\n",
    "forces_predicted_variance_exact_500points = np.array(forces_predicted_variance_exact_500points)\n",
    "\n",
    "energy_predicted_inducing = np.array(energy_predicted_inducing)\n",
    "energy_predicted_variance_inducing = np.array(energy_predicted_variance_inducing)\n",
    "forces_predicted_inducing = np.array(forces_predicted_inducing)\n",
    "forces_predicted_variance_inducing = np.array(forces_predicted_variance_inducing)\n"
   ]
  },
  {
   "cell_type": "code",
   "execution_count": null,
   "metadata": {},
   "outputs": [],
   "source": []
  },
  {
   "cell_type": "code",
   "execution_count": null,
   "metadata": {},
   "outputs": [],
   "source": [
    "from matplotlib import pyplot as plt\n",
    "\n",
    "error_energy_exact = np.abs(energy_predicted_exact - energy_true).mean(axis=1)\n",
    "error_energy_exact_500points = np.abs(energy_predicted_exact_500points - energy_true).mean(axis=1)\n",
    "error_energy_inducing = np.abs(energy_predicted_inducing - energy_true).mean(axis=1)\n",
    "\n",
    "# plt.plot(energy_predicted_variance_exact[:,0], 'o')\n",
    "# plt.plot(energy_predicted_variance_exact_500points[:,0], '--')\n",
    "# plt.plot(energy_predicted_variance_inducing[:,0], 'x')\n",
    "# plt.show()\n",
    "# plt.plot(error_energy_exact, 'o', color='red', label='exact')\n",
    "# plt.plot(error_energy_exact_500points, '--', color='red', label='exact_500points')\n",
    "# plt.plot(error_energy_inducing, 'x', color='black', label='inducing')\n",
    "# plt.legend()\n",
    "# plt.show()\n",
    "\n",
    "# # energy profile:\n",
    "\n",
    "\n",
    "ag = predictor_exact.fdm.atomic_groups[8]\n",
    "# ag = [311,312]\n",
    "ag = 328\n",
    "comp = 2\n",
    "\n",
    "var_exact = forces_predicted_variance_exact[:,ag,comp]\n",
    "error_exact = np.abs(forces_predicted_exact[:,ag,comp] - forces_true[:,ag,comp])\n",
    "var_exact_500points = forces_predicted_variance_exact_500points[:,ag,comp]\n",
    "error_exact_500points = np.abs(forces_predicted_exact_500points[:,ag,comp] - forces_true[:,ag,comp])\n",
    "var_inducing = forces_predicted_variance_inducing[:,ag,comp]\n",
    "error_inducing = np.abs(forces_predicted_inducing[:,ag,comp] - forces_true[:,ag,comp])\n",
    "\n",
    "var_exact = (var_exact - np.min(var_exact)) / (np.max(var_exact) - np.min(var_exact))\n",
    "var_exact_500points = (var_exact_500points - np.min(var_exact_500points)) / (np.max(var_exact_500points) - np.min(var_exact_500points))\n",
    "var_inducing = (var_inducing - np.min(var_inducing)) / (np.max(var_inducing) - np.min(var_inducing))\n",
    "\n",
    "plt.plot(var_exact, 'o')\n",
    "plt.plot(var_exact_500points, '--')\n",
    "plt.plot(var_inducing, 'x')\n",
    "plt.show()\n",
    "\n",
    "plt.plot(error_exact, 'o', color='red')\n",
    "plt.plot(error_exact_500points, '--', color='red')\n",
    "plt.plot(error_inducing, 'x', color='black')\n",
    "plt.show()"
   ]
  },
  {
   "cell_type": "code",
   "execution_count": null,
   "metadata": {},
   "outputs": [],
   "source": [
    "var_exact = forces_predicted_variance_exact[:,:,:]\n",
    "error_exact = np.abs(forces_predicted_exact[:,:,:] - forces_true[:,:,:])\n",
    "var_exact_500points = forces_predicted_variance_exact_500points[:,:,:]\n",
    "error_exact_500points = np.abs(forces_predicted_exact_500points[:,:,:] - forces_true[:,:,:])\n",
    "var_inducing = forces_predicted_variance_inducing[:,:,:]\n",
    "error_inducing = np.abs(forces_predicted_inducing[:,:,:] - forces_true[:,:,:])\n",
    "\n",
    "var_exact = (var_exact - np.min(var_exact)) / (np.max(var_exact) - np.min(var_exact))\n",
    "var_exact_500points = (var_exact_500points - np.min(var_exact_500points)) / (np.max(var_exact_500points) - np.min(var_exact_500points))\n",
    "var_inducing = (var_inducing - np.min(var_inducing)) / (np.max(var_inducing) - np.min(var_inducing))\n",
    "\n",
    "import seaborn as sns\n",
    "sns.set_theme(style=\"white\")\n",
    "\n",
    "plt.figure(figsize=(6,3))\n",
    "plt.hist(var_exact[:,:,:].flatten(), label='GP: 1000 points', alpha=0.6, bins=200)\n",
    "plt.hist(var_exact_500points[:,:,:].flatten(), label='GP: 500 points', alpha=0.6, bins=200)\n",
    "plt.hist(var_inducing[:,:,:].flatten(), label='SVGP: 500 ind. points', alpha=0.6, bins=200)\n",
    "plt.xlim(0, 0.3)\n",
    "plt.legend()\n",
    "plt.xlabel('Variance parameter')\n",
    "plt.ylabel('Count')\n",
    "plt.ticklabel_format(axis='y',style='sci',scilimits=(1,4))\n",
    "plt.tight_layout()\n",
    "plt.savefig('variance.png', dpi=300)\n",
    "plt.show()\n",
    "\n",
    "\n",
    "figure = plt.figure(figsize=(6,3))\n",
    "plt.hist(error_exact[:,:,:].flatten(), label='GP: 1000 points', alpha=0.6, bins=200)#, range=(0.0, 0.9) )\n",
    "plt.hist(error_exact_500points[:,:,:].flatten(), label='GP: 500 points', alpha=0.6, bins=200)#, range=(0.0, 0.9))\n",
    "plt.hist(error_inducing[:,:,:].flatten(), label='SVGP: 500 ind. points', alpha=0.6, bins=200)#, range=(0.0, 0.9))\n",
    "plt.xlim(0.0, 0.8)\n",
    "plt.legend()\n",
    "plt.xlabel('Absolute error, eV/Å')\n",
    "plt.ylabel('Count')\n",
    "plt.ticklabel_format(axis='y',style='sci',scilimits=(1,4))\n",
    "plt.tight_layout()\n",
    "plt.savefig('error.png', dpi=300)\n",
    "plt.show()\n"
   ]
  },
  {
   "cell_type": "code",
   "execution_count": null,
   "metadata": {},
   "outputs": [],
   "source": [
    "epsilon = 0.8\n",
    "\n",
    "print( (error_exact[:,:,:].flatten()>epsilon).sum()  )\n",
    "\n",
    "print( (error_exact_500points[:,:,:].flatten()>epsilon).sum() )\n",
    "\n",
    "print( (error_inducing[:,:,:].flatten()>epsilon).sum() )"
   ]
  },
  {
   "cell_type": "code",
   "execution_count": null,
   "metadata": {},
   "outputs": [],
   "source": [
    "plt.figure(figsize=(6,3))\n",
    "\n",
    "plt.plot(energy_true - energy_true.min(), label='DFT energy')\n",
    "plt.plot(energy_predicted_exact - energy_true.min(), label='GP: 1000 points')\n",
    "# plt.plot(energy_predicted_exact_500points, label='exact_500points')\n",
    "plt.plot(energy_predicted_inducing - energy_true.min(), label='SVGP: 500 ind. points')\n",
    "plt.legend()\n",
    "plt.ylabel('Energy, eV')\n",
    "plt.xlabel('Step')\n",
    "plt.tight_layout()\n",
    "plt.savefig('energy.png', dpi=300)\n",
    "plt.show()"
   ]
  },
  {
   "cell_type": "code",
   "execution_count": null,
   "metadata": {},
   "outputs": [],
   "source": [
    "snapshot = test_traj[0].copy()\n",
    "\n",
    "traj_h_dissociation = [snapshot.copy()]\n",
    "\n",
    "for i in range(110):\n",
    "        new_snap = snapshot.copy()\n",
    "        new_snap.positions[388] += i*np.array( (0.02, 0.0, 0.0) )\n",
    "        traj_h_dissociation.append(new_snap)\n",
    "\n",
    "view(traj_h_dissociation[0:70])"
   ]
  },
  {
   "cell_type": "code",
   "execution_count": null,
   "metadata": {},
   "outputs": [],
   "source": [
    "%%capture c\n",
    "var_fly_exact = []\n",
    "var_fly_exact_500points = []\n",
    "var_fly_inducing = []\n",
    "\n",
    "for atoms in tqdm(traj_h_dissociation):\n",
    "        atoms.calc = fande_calc_exact\n",
    "        atoms.get_potential_energy()\n",
    "        var_fly_exact.append(atoms.calc.forces_variance[388])\n",
    "\n",
    "        atoms.calc = fande_calc_exact_500points\n",
    "        atoms.get_potential_energy()\n",
    "        var_fly_exact_500points.append(atoms.calc.forces_variance[388])\n",
    "\n",
    "        atoms.calc = fande_calc_inducing\n",
    "        atoms.get_potential_energy()\n",
    "        var_fly_inducing.append(atoms.calc.forces_variance[388])"
   ]
  },
  {
   "cell_type": "code",
   "execution_count": null,
   "metadata": {},
   "outputs": [],
   "source": [
    "var_fly_exact = np.array(var_fly_exact)\n",
    "var_fly_exact_500points = np.array(var_fly_exact_500points)\n",
    "var_fly_inducing = np.array(var_fly_inducing)\n",
    "\n",
    "plt.figure(figsize=(6,3))\n",
    "plt.plot(var_fly_exact[:70,:].sum(axis=-1), 'o', label='GP: 1000 points')\n",
    "plt.plot(var_fly_exact_500points[:70,:].sum(axis=-1), '--', label='GP: 500 points')\n",
    "plt.plot(var_fly_inducing[:70,:].sum(axis=-1), 'x', label='SVGP: 500 ind. points')\n",
    "plt.legend()\n",
    "plt.ylabel('Variance parameter')\n",
    "plt.xlabel('Step')\n",
    "plt.tight_layout()\n",
    "# plt.savefig('variance_fly.png', dpi=300)\n",
    "plt.show()"
   ]
  },
  {
   "cell_type": "code",
   "execution_count": null,
   "metadata": {},
   "outputs": [],
   "source": [
    "var_fly_exact"
   ]
  },
  {
   "cell_type": "code",
   "execution_count": null,
   "metadata": {
    "id": "CKCXpyfo1woX"
   },
   "outputs": [],
   "source": [
    "import numpy as np\n",
    "import matplotlib.pyplot as plt\n",
    "\n",
    "energy_true = np.array(energy_true)\n",
    "energy_predicted = np.array(energy_predicted)\n",
    "energy_errors = energy_predicted - energy_true\n",
    "\n",
    "forces_true = np.array(forces_true)\n",
    "forces_predicted = np.array(forces_predicted)\n",
    "forces_errors = forces_predicted - forces_true\n",
    "\n",
    "atomic_groups = predictor_loaded.fdm.atomic_groups\n",
    "\n",
    "\n",
    "\n",
    "for ag in atomic_groups:\n",
    "\n",
    "    print(\"Atomic group\", ag)\n",
    "    print(\"F_x\")\n",
    "    print(\"MAE\", np.mean(np.abs(forces_errors[:, ag, 0].flatten())))\n",
    "    print(\"RMSE\", np.sqrt(np.mean(forces_errors[:, ag, 0].flatten()**2)))\n",
    "    print(\"F_y\")\n",
    "    print(\"MAE\", np.mean(np.abs(forces_errors[:, ag, 1].flatten())))\n",
    "    print(\"RMSE\", np.sqrt(np.mean(forces_errors[:, ag, 1].flatten()**2)))\n",
    "    print(\"F_z\")\n",
    "    print(\"MAE\", np.mean(np.abs(forces_errors[:, ag, 2].flatten())))\n",
    "    print(\"RMSE\", np.sqrt(np.mean(forces_errors[:, ag, 2].flatten()**2)))\n",
    "    print(\"E\")\n",
    "    print(\"MAE\", np.mean(np.abs(energy_errors.flatten())))\n",
    "    print(\"RMSE\", np.sqrt(np.mean(energy_errors.flatten()**2)))\n",
    "\n",
    "    fig, axs = plt.subplots(nrows=1, ncols=3, figsize=(15, 3))\n",
    "    axs[0].set_title(r\"$F_x$\")\n",
    "    axs[0].plot(np.array(forces_true)[:, ag, 0].flatten(), label=\"true\")\n",
    "    axs[0].plot(np.array(forces_predicted)[:, ag, 0].flatten(), label=\"predicted\")\n",
    "    axs[0].legend()\n",
    "\n",
    "    axs[1].set_title(r\"$F_y$\")\n",
    "    axs[1].plot(np.array(forces_true)[:, ag, 1].flatten(), label=\"true\")\n",
    "    axs[1].plot(np.array(forces_predicted)[:, ag, 1].flatten(), label=\"predicted\")\n",
    "    axs[1].legend()\n",
    "\n",
    "    axs[2].set_title(r\"$F_z$\")\n",
    "    axs[2].plot(np.array(forces_true)[:, ag, 2].flatten(), label=\"true\")\n",
    "    axs[2].plot(np.array(forces_predicted)[:, ag, 2].flatten(), label=\"predicted\")\n",
    "    axs[2].legend()\n",
    "\n",
    "    plt.show()\n",
    "\n",
    "    fig, axs = plt.subplots(nrows=1, ncols=3, figsize=(15, 3))\n",
    "\n",
    "    axs[0].set_title(r\"$F_x$ errors\")\n",
    "    axs[0].hist(forces_errors[:, ag, 0].flatten(), bins=100)\n",
    "\n",
    "    axs[1].set_title(r\"$F_y$ errors\")\n",
    "    axs[1].hist(forces_errors[:, ag, 1].flatten(), bins=100)\n",
    "\n",
    "    axs[2].set_title(r\"$F_z$ errors\")\n",
    "    axs[2].hist(forces_errors[:, ag, 2].flatten(), bins=100)\n",
    "    plt.show()\n",
    "\n",
    "    fig, axs = plt.subplots(nrows=1, ncols=2, figsize=(15, 3))\n",
    "    axs[0].set_title(r\"$E$ errors\")\n",
    "    axs[0].hist(energy_errors.flatten(), bins=100)\n",
    "\n",
    "    axs[1].set_title(r\"$E$\")\n",
    "    axs[1].plot(energy_true, label=\"true\")\n",
    "    axs[1].plot(energy_predicted, label=\"predicted\")\n",
    "    axs[1].legend()\n",
    "    plt.show()\n"
   ]
  }
 ],
 "metadata": {
  "colab": {
   "provenance": []
  },
  "kernelspec": {
   "display_name": "test_env",
   "language": "python",
   "name": "python3"
  },
  "language_info": {
   "codemirror_mode": {
    "name": "ipython",
    "version": 3
   },
   "file_extension": ".py",
   "mimetype": "text/x-python",
   "name": "python",
   "nbconvert_exporter": "python",
   "pygments_lexer": "ipython3",
   "version": "3.10.13"
  }
 },
 "nbformat": 4,
 "nbformat_minor": 0
}
